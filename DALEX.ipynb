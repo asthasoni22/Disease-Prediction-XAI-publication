{
 "cells": [
  {
   "cell_type": "code",
   "execution_count": 21,
   "metadata": {},
   "outputs": [],
   "source": [
    "# Import all the tools we need\n",
    "\n",
    "# Regular EDA (exploratory data analysis) and plotting libraries\n",
    "import numpy as np\n",
    "import pandas as pd\n",
    "import matplotlib.pyplot as plt\n",
    "import seaborn as sns\n",
    "# import shap\n",
    "\n",
    "\n",
    "\n",
    "# we want our plots to appear inside the notebook\n",
    "%matplotlib inline\n",
    "\n",
    "# Models from Scikit-Learn\n",
    "from sklearn.linear_model import LogisticRegression\n",
    "from sklearn.neighbors import KNeighborsClassifier\n",
    "from sklearn.ensemble import RandomForestClassifier\n",
    "\n",
    "# Model Evaluations\n",
    "from sklearn.model_selection import train_test_split, cross_val_score\n",
    "from sklearn.model_selection import RandomizedSearchCV, GridSearchCV\n",
    "from sklearn.metrics import confusion_matrix, classification_report\n",
    "from sklearn.metrics import precision_score, recall_score, f1_score\n",
    "# from sklearn.metrics import plot_roc_curve\n",
    "\n"
   ]
  },
  {
   "cell_type": "code",
   "execution_count": 22,
   "metadata": {},
   "outputs": [
    {
     "data": {
      "text/plain": [
       "(297, 14)"
      ]
     },
     "execution_count": 22,
     "metadata": {},
     "output_type": "execute_result"
    }
   ],
   "source": [
    "df = pd.read_csv(\"heart_cleveland_upload.csv\")\n",
    "df.shape # (rows, columns)"
   ]
  },
  {
   "cell_type": "code",
   "execution_count": 23,
   "metadata": {},
   "outputs": [
    {
     "data": {
      "text/plain": [
       "age          0\n",
       "sex          0\n",
       "cp           0\n",
       "trestbps     0\n",
       "chol         0\n",
       "fbs          0\n",
       "restecg      0\n",
       "thalach      0\n",
       "exang        0\n",
       "oldpeak      0\n",
       "slope        0\n",
       "ca           0\n",
       "thal         0\n",
       "condition    0\n",
       "dtype: int64"
      ]
     },
     "execution_count": 23,
     "metadata": {},
     "output_type": "execute_result"
    }
   ],
   "source": [
    "# Are there any missing values?\n",
    "df.isna().sum()"
   ]
  },
  {
   "cell_type": "code",
   "execution_count": 24,
   "metadata": {},
   "outputs": [],
   "source": [
    "# Split data into X and y\n",
    "X = df.drop(\"condition\", axis=1)\n",
    "\n",
    "y = df[\"condition\"]"
   ]
  },
  {
   "cell_type": "code",
   "execution_count": 25,
   "metadata": {},
   "outputs": [],
   "source": [
    "# Split data into train and test sets\n",
    "np.random.seed(42)\n",
    "\n",
    "# Split into train & test set\n",
    "X_train, X_test, y_train, y_test = train_test_split(X,\n",
    "                                                    y,\n",
    "                                                    test_size=0.2)"
   ]
  },
  {
   "cell_type": "code",
   "execution_count": 26,
   "metadata": {},
   "outputs": [],
   "source": [
    "# Put models in a dictionary\n",
    "models = {\"Logistic Regression\": LogisticRegression()}\n",
    "\n",
    "# Create a function to fit and score models\n",
    "def fit_and_score(models, X_train, X_test, y_train, y_test):\n",
    "    \"\"\"\n",
    "    Fits and evaluates given machine learning models.\n",
    "    models: a dict of different Scikit-Learn machine learning models\n",
    "    X_train: training data (no labels)\n",
    "    X_test: testing data (no labels)\n",
    "    y_train: training labels\n",
    "    y_test: test labels\n",
    "    \"\"\"\n",
    "    # set random seed\n",
    "    # np.random.seed(42)\n",
    "    # Make a dictionary to keep model scores\n",
    "    model_scores = {}\n",
    "    # Loop through models\n",
    "    for name, model in models.items():\n",
    "        # Fit the model to the data\n",
    "        model.fit(X_train, y_train)\n",
    "        # Evaluate the model and append its score to model_scores\n",
    "        model_scores[name] = model.score(X_test, y_test)\n",
    "    return model_scores"
   ]
  },
  {
   "cell_type": "code",
   "execution_count": 27,
   "metadata": {},
   "outputs": [
    {
     "name": "stderr",
     "output_type": "stream",
     "text": [
      "C:\\Users\\astha\\AppData\\Local\\Packages\\PythonSoftwareFoundation.Python.3.10_qbz5n2kfra8p0\\LocalCache\\local-packages\\Python310\\site-packages\\sklearn\\linear_model\\_logistic.py:458: ConvergenceWarning:\n",
      "\n",
      "lbfgs failed to converge (status=1):\n",
      "STOP: TOTAL NO. of ITERATIONS REACHED LIMIT.\n",
      "\n",
      "Increase the number of iterations (max_iter) or scale the data as shown in:\n",
      "    https://scikit-learn.org/stable/modules/preprocessing.html\n",
      "Please also refer to the documentation for alternative solver options:\n",
      "    https://scikit-learn.org/stable/modules/linear_model.html#logistic-regression\n",
      "\n"
     ]
    },
    {
     "data": {
      "text/plain": [
       "{'Logistic Regression': 0.75}"
      ]
     },
     "execution_count": 27,
     "metadata": {},
     "output_type": "execute_result"
    }
   ],
   "source": [
    "model_scores = fit_and_score(models=models,\n",
    "                            X_train=X_train,\n",
    "                            X_test=X_test,\n",
    "                            y_train=y_train,\n",
    "                            y_test=y_test)\n",
    "\n",
    "model_scores"
   ]
  },
  {
   "cell_type": "code",
   "execution_count": 28,
   "metadata": {},
   "outputs": [],
   "source": [
    "# Create a hyperparameter grid for LogisticRegression\n",
    "log_reg_grid = {\"C\": np.logspace(-4, 4, 20),\n",
    "                \"solver\": [\"liblinear\"]}"
   ]
  },
  {
   "cell_type": "code",
   "execution_count": 29,
   "metadata": {},
   "outputs": [
    {
     "name": "stdout",
     "output_type": "stream",
     "text": [
      "Fitting 5 folds for each of 20 candidates, totalling 100 fits\n"
     ]
    },
    {
     "data": {
      "text/html": [
       "<style>#sk-container-id-2 {color: black;background-color: white;}#sk-container-id-2 pre{padding: 0;}#sk-container-id-2 div.sk-toggleable {background-color: white;}#sk-container-id-2 label.sk-toggleable__label {cursor: pointer;display: block;width: 100%;margin-bottom: 0;padding: 0.3em;box-sizing: border-box;text-align: center;}#sk-container-id-2 label.sk-toggleable__label-arrow:before {content: \"▸\";float: left;margin-right: 0.25em;color: #696969;}#sk-container-id-2 label.sk-toggleable__label-arrow:hover:before {color: black;}#sk-container-id-2 div.sk-estimator:hover label.sk-toggleable__label-arrow:before {color: black;}#sk-container-id-2 div.sk-toggleable__content {max-height: 0;max-width: 0;overflow: hidden;text-align: left;background-color: #f0f8ff;}#sk-container-id-2 div.sk-toggleable__content pre {margin: 0.2em;color: black;border-radius: 0.25em;background-color: #f0f8ff;}#sk-container-id-2 input.sk-toggleable__control:checked~div.sk-toggleable__content {max-height: 200px;max-width: 100%;overflow: auto;}#sk-container-id-2 input.sk-toggleable__control:checked~label.sk-toggleable__label-arrow:before {content: \"▾\";}#sk-container-id-2 div.sk-estimator input.sk-toggleable__control:checked~label.sk-toggleable__label {background-color: #d4ebff;}#sk-container-id-2 div.sk-label input.sk-toggleable__control:checked~label.sk-toggleable__label {background-color: #d4ebff;}#sk-container-id-2 input.sk-hidden--visually {border: 0;clip: rect(1px 1px 1px 1px);clip: rect(1px, 1px, 1px, 1px);height: 1px;margin: -1px;overflow: hidden;padding: 0;position: absolute;width: 1px;}#sk-container-id-2 div.sk-estimator {font-family: monospace;background-color: #f0f8ff;border: 1px dotted black;border-radius: 0.25em;box-sizing: border-box;margin-bottom: 0.5em;}#sk-container-id-2 div.sk-estimator:hover {background-color: #d4ebff;}#sk-container-id-2 div.sk-parallel-item::after {content: \"\";width: 100%;border-bottom: 1px solid gray;flex-grow: 1;}#sk-container-id-2 div.sk-label:hover label.sk-toggleable__label {background-color: #d4ebff;}#sk-container-id-2 div.sk-serial::before {content: \"\";position: absolute;border-left: 1px solid gray;box-sizing: border-box;top: 0;bottom: 0;left: 50%;z-index: 0;}#sk-container-id-2 div.sk-serial {display: flex;flex-direction: column;align-items: center;background-color: white;padding-right: 0.2em;padding-left: 0.2em;position: relative;}#sk-container-id-2 div.sk-item {position: relative;z-index: 1;}#sk-container-id-2 div.sk-parallel {display: flex;align-items: stretch;justify-content: center;background-color: white;position: relative;}#sk-container-id-2 div.sk-item::before, #sk-container-id-2 div.sk-parallel-item::before {content: \"\";position: absolute;border-left: 1px solid gray;box-sizing: border-box;top: 0;bottom: 0;left: 50%;z-index: -1;}#sk-container-id-2 div.sk-parallel-item {display: flex;flex-direction: column;z-index: 1;position: relative;background-color: white;}#sk-container-id-2 div.sk-parallel-item:first-child::after {align-self: flex-end;width: 50%;}#sk-container-id-2 div.sk-parallel-item:last-child::after {align-self: flex-start;width: 50%;}#sk-container-id-2 div.sk-parallel-item:only-child::after {width: 0;}#sk-container-id-2 div.sk-dashed-wrapped {border: 1px dashed gray;margin: 0 0.4em 0.5em 0.4em;box-sizing: border-box;padding-bottom: 0.4em;background-color: white;}#sk-container-id-2 div.sk-label label {font-family: monospace;font-weight: bold;display: inline-block;line-height: 1.2em;}#sk-container-id-2 div.sk-label-container {text-align: center;}#sk-container-id-2 div.sk-container {/* jupyter's `normalize.less` sets `[hidden] { display: none; }` but bootstrap.min.css set `[hidden] { display: none !important; }` so we also need the `!important` here to be able to override the default hidden behavior on the sphinx rendered scikit-learn.org. See: https://github.com/scikit-learn/scikit-learn/issues/21755 */display: inline-block !important;position: relative;}#sk-container-id-2 div.sk-text-repr-fallback {display: none;}</style><div id=\"sk-container-id-2\" class=\"sk-top-container\"><div class=\"sk-text-repr-fallback\"><pre>RandomizedSearchCV(cv=5, estimator=LogisticRegression(), n_iter=20,\n",
       "                   param_distributions={&#x27;C&#x27;: array([1.00000000e-04, 2.63665090e-04, 6.95192796e-04, 1.83298071e-03,\n",
       "       4.83293024e-03, 1.27427499e-02, 3.35981829e-02, 8.85866790e-02,\n",
       "       2.33572147e-01, 6.15848211e-01, 1.62377674e+00, 4.28133240e+00,\n",
       "       1.12883789e+01, 2.97635144e+01, 7.84759970e+01, 2.06913808e+02,\n",
       "       5.45559478e+02, 1.43844989e+03, 3.79269019e+03, 1.00000000e+04]),\n",
       "                                        &#x27;solver&#x27;: [&#x27;liblinear&#x27;]},\n",
       "                   verbose=True)</pre><b>In a Jupyter environment, please rerun this cell to show the HTML representation or trust the notebook. <br />On GitHub, the HTML representation is unable to render, please try loading this page with nbviewer.org.</b></div><div class=\"sk-container\" hidden><div class=\"sk-item sk-dashed-wrapped\"><div class=\"sk-label-container\"><div class=\"sk-label sk-toggleable\"><input class=\"sk-toggleable__control sk-hidden--visually\" id=\"sk-estimator-id-4\" type=\"checkbox\" ><label for=\"sk-estimator-id-4\" class=\"sk-toggleable__label sk-toggleable__label-arrow\">RandomizedSearchCV</label><div class=\"sk-toggleable__content\"><pre>RandomizedSearchCV(cv=5, estimator=LogisticRegression(), n_iter=20,\n",
       "                   param_distributions={&#x27;C&#x27;: array([1.00000000e-04, 2.63665090e-04, 6.95192796e-04, 1.83298071e-03,\n",
       "       4.83293024e-03, 1.27427499e-02, 3.35981829e-02, 8.85866790e-02,\n",
       "       2.33572147e-01, 6.15848211e-01, 1.62377674e+00, 4.28133240e+00,\n",
       "       1.12883789e+01, 2.97635144e+01, 7.84759970e+01, 2.06913808e+02,\n",
       "       5.45559478e+02, 1.43844989e+03, 3.79269019e+03, 1.00000000e+04]),\n",
       "                                        &#x27;solver&#x27;: [&#x27;liblinear&#x27;]},\n",
       "                   verbose=True)</pre></div></div></div><div class=\"sk-parallel\"><div class=\"sk-parallel-item\"><div class=\"sk-item\"><div class=\"sk-label-container\"><div class=\"sk-label sk-toggleable\"><input class=\"sk-toggleable__control sk-hidden--visually\" id=\"sk-estimator-id-5\" type=\"checkbox\" ><label for=\"sk-estimator-id-5\" class=\"sk-toggleable__label sk-toggleable__label-arrow\">estimator: LogisticRegression</label><div class=\"sk-toggleable__content\"><pre>LogisticRegression()</pre></div></div></div><div class=\"sk-serial\"><div class=\"sk-item\"><div class=\"sk-estimator sk-toggleable\"><input class=\"sk-toggleable__control sk-hidden--visually\" id=\"sk-estimator-id-6\" type=\"checkbox\" ><label for=\"sk-estimator-id-6\" class=\"sk-toggleable__label sk-toggleable__label-arrow\">LogisticRegression</label><div class=\"sk-toggleable__content\"><pre>LogisticRegression()</pre></div></div></div></div></div></div></div></div></div></div>"
      ],
      "text/plain": [
       "RandomizedSearchCV(cv=5, estimator=LogisticRegression(), n_iter=20,\n",
       "                   param_distributions={'C': array([1.00000000e-04, 2.63665090e-04, 6.95192796e-04, 1.83298071e-03,\n",
       "       4.83293024e-03, 1.27427499e-02, 3.35981829e-02, 8.85866790e-02,\n",
       "       2.33572147e-01, 6.15848211e-01, 1.62377674e+00, 4.28133240e+00,\n",
       "       1.12883789e+01, 2.97635144e+01, 7.84759970e+01, 2.06913808e+02,\n",
       "       5.45559478e+02, 1.43844989e+03, 3.79269019e+03, 1.00000000e+04]),\n",
       "                                        'solver': ['liblinear']},\n",
       "                   verbose=True)"
      ]
     },
     "execution_count": 29,
     "metadata": {},
     "output_type": "execute_result"
    }
   ],
   "source": [
    "# Tune LogisticRegression\n",
    "\n",
    "np.random.seed(42)\n",
    "\n",
    "# Setup random hypterparameter search for LogisticRegression\n",
    "rs_log_reg = RandomizedSearchCV(LogisticRegression(),\n",
    "                                param_distributions=log_reg_grid,\n",
    "                                cv=5,\n",
    "                                n_iter=20,\n",
    "                                verbose=True)\n",
    "\n",
    "# Fit random hyperparamter search model for LogisticRegression\n",
    "rs_log_reg.fit(X_train, y_train)"
   ]
  },
  {
   "cell_type": "code",
   "execution_count": 30,
   "metadata": {},
   "outputs": [
    {
     "data": {
      "text/plain": [
       "array([1, 1, 0, 0, 1, 0, 1, 1, 1, 0, 0, 1, 0, 0, 0, 0, 1, 0, 1, 0, 1, 1,\n",
       "       0, 0, 0, 1, 1, 1, 1, 1, 1, 1, 0, 0, 1, 1, 1, 0, 1, 0, 0, 1, 0, 0,\n",
       "       0, 1, 0, 1, 1, 0, 0, 1, 0, 1, 1, 0, 0, 1, 0, 0], dtype=int64)"
      ]
     },
     "execution_count": 30,
     "metadata": {},
     "output_type": "execute_result"
    }
   ],
   "source": [
    "# Make predictions with tuned model\n",
    "y_preds = rs_log_reg.predict(X_test)\n",
    "y_preds"
   ]
  },
  {
   "cell_type": "code",
   "execution_count": 31,
   "metadata": {},
   "outputs": [],
   "source": [
    "# Create a new classifier with best parameters\n",
    "clf = LogisticRegression(C=0.08858667904100823,\n",
    "                         solver=\"liblinear\")"
   ]
  },
  {
   "cell_type": "code",
   "execution_count": 32,
   "metadata": {},
   "outputs": [
    {
     "data": {
      "text/plain": [
       "array([0.7       , 0.88333333, 0.83050847, 0.94915254, 0.84745763])"
      ]
     },
     "execution_count": 32,
     "metadata": {},
     "output_type": "execute_result"
    }
   ],
   "source": [
    "# Cross-validated accuracy\n",
    "cv_acc = cross_val_score(clf,\n",
    "                         X,\n",
    "                         y,\n",
    "                         cv=5,\n",
    "                         scoring=\"accuracy\")\n",
    "\n",
    "cv_acc"
   ]
  },
  {
   "cell_type": "code",
   "execution_count": 33,
   "metadata": {},
   "outputs": [],
   "source": [
    "import dalex as dx"
   ]
  },
  {
   "cell_type": "code",
   "execution_count": 34,
   "metadata": {},
   "outputs": [
    {
     "data": {
      "text/plain": [
       "['Arena',\n",
       " 'Aspect',\n",
       " 'Explainer',\n",
       " '__all__',\n",
       " '__builtins__',\n",
       " '__cached__',\n",
       " '__doc__',\n",
       " '__file__',\n",
       " '__loader__',\n",
       " '__name__',\n",
       " '__package__',\n",
       " '__path__',\n",
       " '__spec__',\n",
       " '__version__',\n",
       " 'datasets',\n",
       " 'fairness']"
      ]
     },
     "execution_count": 34,
     "metadata": {},
     "output_type": "execute_result"
    }
   ],
   "source": [
    "dir(dx)"
   ]
  },
  {
   "cell_type": "code",
   "execution_count": 35,
   "metadata": {},
   "outputs": [
    {
     "name": "stdout",
     "output_type": "stream",
     "text": [
      "Preparation of a new explainer is initiated\n",
      "\n",
      "  -> data              : 237 rows 13 cols\n",
      "  -> target variable   : Parameter 'y' was a pandas.Series. Converted to a numpy.ndarray.\n",
      "  -> target variable   : 237 values\n",
      "  -> model_class       : sklearn.model_selection._search.RandomizedSearchCV (default)\n",
      "  -> label             : Not specified, model's class short name will be used. (default)\n",
      "  -> predict function  : <function yhat_proba_default at 0x00000209F94EA320> will be used (default)\n",
      "  -> predict function  : Accepts pandas.DataFrame and numpy.ndarray.\n",
      "  -> predicted values  : min = 0.0178, mean = 0.46, max = 0.996\n",
      "  -> model type        : classification will be used (default)\n",
      "  -> residual function : difference between y and yhat (default)\n",
      "  -> residuals         : min = -0.925, mean = -0.000569, max = 0.898\n",
      "  -> model_info        : package sklearn\n",
      "\n",
      "A new explainer has been created!\n"
     ]
    },
    {
     "name": "stderr",
     "output_type": "stream",
     "text": [
      "C:\\Users\\astha\\AppData\\Local\\Packages\\PythonSoftwareFoundation.Python.3.10_qbz5n2kfra8p0\\LocalCache\\local-packages\\Python310\\site-packages\\sklearn\\base.py:420: UserWarning:\n",
      "\n",
      "X does not have valid feature names, but LogisticRegression was fitted with feature names\n",
      "\n"
     ]
    }
   ],
   "source": [
    "\n",
    "# Explainer Instance\n",
    "# Model\n",
    "exp = dx.Explainer(rs_log_reg,X_train,y_train)"
   ]
  },
  {
   "cell_type": "code",
   "execution_count": 36,
   "metadata": {},
   "outputs": [
    {
     "data": {
      "text/html": [
       "<div>\n",
       "<style scoped>\n",
       "    .dataframe tbody tr th:only-of-type {\n",
       "        vertical-align: middle;\n",
       "    }\n",
       "\n",
       "    .dataframe tbody tr th {\n",
       "        vertical-align: top;\n",
       "    }\n",
       "\n",
       "    .dataframe thead th {\n",
       "        text-align: right;\n",
       "    }\n",
       "</style>\n",
       "<table border=\"1\" class=\"dataframe\">\n",
       "  <thead>\n",
       "    <tr style=\"text-align: right;\">\n",
       "      <th></th>\n",
       "      <th>recall</th>\n",
       "      <th>precision</th>\n",
       "      <th>f1</th>\n",
       "      <th>accuracy</th>\n",
       "      <th>auc</th>\n",
       "    </tr>\n",
       "  </thead>\n",
       "  <tbody>\n",
       "    <tr>\n",
       "      <th>RandomizedSearchCV</th>\n",
       "      <td>0.825688</td>\n",
       "      <td>0.927835</td>\n",
       "      <td>0.873786</td>\n",
       "      <td>0.890295</td>\n",
       "      <td>0.933271</td>\n",
       "    </tr>\n",
       "  </tbody>\n",
       "</table>\n",
       "</div>"
      ],
      "text/plain": [
       "<dalex.model_explanations._model_performance.object.ModelPerformance at 0x209f9564c70>"
      ]
     },
     "execution_count": 36,
     "metadata": {},
     "output_type": "execute_result"
    }
   ],
   "source": [
    "\n",
    "# Model Performance\n",
    "exp.model_performance()"
   ]
  },
  {
   "cell_type": "code",
   "execution_count": 37,
   "metadata": {},
   "outputs": [
    {
     "data": {
      "text/html": [
       "<div>\n",
       "<style scoped>\n",
       "    .dataframe tbody tr th:only-of-type {\n",
       "        vertical-align: middle;\n",
       "    }\n",
       "\n",
       "    .dataframe tbody tr th {\n",
       "        vertical-align: top;\n",
       "    }\n",
       "\n",
       "    .dataframe thead th {\n",
       "        text-align: right;\n",
       "    }\n",
       "</style>\n",
       "<table border=\"1\" class=\"dataframe\">\n",
       "  <thead>\n",
       "    <tr style=\"text-align: right;\">\n",
       "      <th></th>\n",
       "      <th>recall</th>\n",
       "      <th>precision</th>\n",
       "      <th>f1</th>\n",
       "      <th>accuracy</th>\n",
       "      <th>auc</th>\n",
       "    </tr>\n",
       "  </thead>\n",
       "  <tbody>\n",
       "    <tr>\n",
       "      <th>RandomizedSearchCV</th>\n",
       "      <td>0.825688</td>\n",
       "      <td>0.927835</td>\n",
       "      <td>0.873786</td>\n",
       "      <td>0.890295</td>\n",
       "      <td>0.933271</td>\n",
       "    </tr>\n",
       "  </tbody>\n",
       "</table>\n",
       "</div>"
      ],
      "text/plain": [
       "                      recall  precision        f1  accuracy       auc\n",
       "RandomizedSearchCV  0.825688   0.927835  0.873786  0.890295  0.933271"
      ]
     },
     "execution_count": 37,
     "metadata": {},
     "output_type": "execute_result"
    }
   ],
   "source": [
    "# Model Performance\n",
    "exp.model_performance().result"
   ]
  },
  {
   "cell_type": "code",
   "execution_count": 38,
   "metadata": {},
   "outputs": [
    {
     "data": {
      "text/html": [
       "<div>\n",
       "<style scoped>\n",
       "    .dataframe tbody tr th:only-of-type {\n",
       "        vertical-align: middle;\n",
       "    }\n",
       "\n",
       "    .dataframe tbody tr th {\n",
       "        vertical-align: top;\n",
       "    }\n",
       "\n",
       "    .dataframe thead th {\n",
       "        text-align: right;\n",
       "    }\n",
       "</style>\n",
       "<table border=\"1\" class=\"dataframe\">\n",
       "  <thead>\n",
       "    <tr style=\"text-align: right;\">\n",
       "      <th></th>\n",
       "      <th>variable</th>\n",
       "      <th>dropout_loss</th>\n",
       "      <th>label</th>\n",
       "    </tr>\n",
       "  </thead>\n",
       "  <tbody>\n",
       "    <tr>\n",
       "      <th>0</th>\n",
       "      <td>slope</td>\n",
       "      <td>0.065847</td>\n",
       "      <td>RandomizedSearchCV</td>\n",
       "    </tr>\n",
       "    <tr>\n",
       "      <th>1</th>\n",
       "      <td>_full_model_</td>\n",
       "      <td>0.066729</td>\n",
       "      <td>RandomizedSearchCV</td>\n",
       "    </tr>\n",
       "    <tr>\n",
       "      <th>2</th>\n",
       "      <td>fbs</td>\n",
       "      <td>0.066800</td>\n",
       "      <td>RandomizedSearchCV</td>\n",
       "    </tr>\n",
       "    <tr>\n",
       "      <th>3</th>\n",
       "      <td>age</td>\n",
       "      <td>0.068083</td>\n",
       "      <td>RandomizedSearchCV</td>\n",
       "    </tr>\n",
       "    <tr>\n",
       "      <th>4</th>\n",
       "      <td>chol</td>\n",
       "      <td>0.068112</td>\n",
       "      <td>RandomizedSearchCV</td>\n",
       "    </tr>\n",
       "    <tr>\n",
       "      <th>5</th>\n",
       "      <td>cp</td>\n",
       "      <td>0.068263</td>\n",
       "      <td>RandomizedSearchCV</td>\n",
       "    </tr>\n",
       "    <tr>\n",
       "      <th>6</th>\n",
       "      <td>exang</td>\n",
       "      <td>0.068263</td>\n",
       "      <td>RandomizedSearchCV</td>\n",
       "    </tr>\n",
       "    <tr>\n",
       "      <th>7</th>\n",
       "      <td>restecg</td>\n",
       "      <td>0.070750</td>\n",
       "      <td>RandomizedSearchCV</td>\n",
       "    </tr>\n",
       "    <tr>\n",
       "      <th>8</th>\n",
       "      <td>trestbps</td>\n",
       "      <td>0.075043</td>\n",
       "      <td>RandomizedSearchCV</td>\n",
       "    </tr>\n",
       "    <tr>\n",
       "      <th>9</th>\n",
       "      <td>oldpeak</td>\n",
       "      <td>0.076899</td>\n",
       "      <td>RandomizedSearchCV</td>\n",
       "    </tr>\n",
       "    <tr>\n",
       "      <th>10</th>\n",
       "      <td>sex</td>\n",
       "      <td>0.079322</td>\n",
       "      <td>RandomizedSearchCV</td>\n",
       "    </tr>\n",
       "    <tr>\n",
       "      <th>11</th>\n",
       "      <td>ca</td>\n",
       "      <td>0.109303</td>\n",
       "      <td>RandomizedSearchCV</td>\n",
       "    </tr>\n",
       "    <tr>\n",
       "      <th>12</th>\n",
       "      <td>thal</td>\n",
       "      <td>0.117919</td>\n",
       "      <td>RandomizedSearchCV</td>\n",
       "    </tr>\n",
       "    <tr>\n",
       "      <th>13</th>\n",
       "      <td>thalach</td>\n",
       "      <td>0.125330</td>\n",
       "      <td>RandomizedSearchCV</td>\n",
       "    </tr>\n",
       "    <tr>\n",
       "      <th>14</th>\n",
       "      <td>_baseline_</td>\n",
       "      <td>0.511676</td>\n",
       "      <td>RandomizedSearchCV</td>\n",
       "    </tr>\n",
       "  </tbody>\n",
       "</table>\n",
       "</div>"
      ],
      "text/plain": [
       "<dalex.model_explanations._variable_importance.object.VariableImportance at 0x209fc40b580>"
      ]
     },
     "execution_count": 38,
     "metadata": {},
     "output_type": "execute_result"
    }
   ],
   "source": [
    "\n",
    "# Variable/Feature Importance : Features contributions to the model\n",
    "exp.model_parts()"
   ]
  },
  {
   "cell_type": "code",
   "execution_count": 39,
   "metadata": {},
   "outputs": [
    {
     "data": {
      "application/vnd.plotly.v1+json": {
       "config": {
        "displaylogo": false,
        "modeBarButtonsToRemove": [
         "sendDataToCloud",
         "lasso2d",
         "autoScale2d",
         "select2d",
         "zoom2d",
         "pan2d",
         "zoomIn2d",
         "zoomOut2d",
         "resetScale2d",
         "toggleSpikelines",
         "hoverCompareCartesian",
         "hoverClosestCartesian"
        ],
        "plotlyServerURL": "https://plot.ly",
        "staticPlot": false,
        "toImageButtonOptions": {
         "height": null,
         "width": null
        }
       },
       "data": [
        {
         "base": 0.06672878440366958,
         "hoverinfo": "text",
         "hoverlabel": {
          "bgcolor": "rgba(0,0,0,0.8)"
         },
         "hovertext": [
          "Model: RandomizedSearchCV loss after<br>variable: thalach is permuted: 0.12<br>Drop-out loss change: +0.053",
          "Model: RandomizedSearchCV loss after<br>variable: thal is permuted: 0.115<br>Drop-out loss change: +0.048",
          "Model: RandomizedSearchCV loss after<br>variable: ca is permuted: 0.109<br>Drop-out loss change: +0.042",
          "Model: RandomizedSearchCV loss after<br>variable: oldpeak is permuted: 0.082<br>Drop-out loss change: +0.016",
          "Model: RandomizedSearchCV loss after<br>variable: sex is permuted: 0.08<br>Drop-out loss change: +0.013",
          "Model: RandomizedSearchCV loss after<br>variable: trestbps is permuted: 0.078<br>Drop-out loss change: +0.011",
          "Model: RandomizedSearchCV loss after<br>variable: cp is permuted: 0.071<br>Drop-out loss change: +0.005",
          "Model: RandomizedSearchCV loss after<br>variable: restecg is permuted: 0.071<br>Drop-out loss change: +0.005",
          "Model: RandomizedSearchCV loss after<br>variable: chol is permuted: 0.069<br>Drop-out loss change: +0.003",
          "Model: RandomizedSearchCV loss after<br>variable: exang is permuted: 0.068<br>Drop-out loss change: +0.001"
         ],
         "marker": {
          "color": "#46bac2"
         },
         "orientation": "h",
         "showlegend": false,
         "text": [
          "+0.053",
          "+0.048",
          "+0.042",
          "+0.016",
          "+0.013",
          "+0.011",
          "+0.005",
          "+0.005",
          "+0.003",
          "+0.001"
         ],
         "textposition": "outside",
         "type": "bar",
         "x": [
          0.053239678899082654,
          0.048401662844036825,
          0.041972477064220276,
          0.015696674311926742,
          0.01319524082568821,
          0.011002006880734078,
          0.004508314220183579,
          0.004501146788990967,
          0.0026662844036698663,
          0.0013044724770643473
         ],
         "xaxis": "x",
         "y": [
          "thalach",
          "thal",
          "ca",
          "oldpeak",
          "sex",
          "trestbps",
          "cp",
          "restecg",
          "chol",
          "exang"
         ],
         "yaxis": "y"
        }
       ],
       "layout": {
        "annotations": [
         {
          "font": {
           "size": 16
          },
          "showarrow": false,
          "text": "RandomizedSearchCV",
          "x": 0.5,
          "xanchor": "center",
          "xref": "paper",
          "y": 1,
          "yanchor": "bottom",
          "yref": "paper"
         },
         {
          "font": {
           "size": 16
          },
          "showarrow": false,
          "text": "drop-out loss",
          "x": 0.5,
          "xanchor": "center",
          "xref": "paper",
          "y": 0,
          "yanchor": "top",
          "yref": "paper",
          "yshift": -30
         }
        ],
        "font": {
         "color": "#371ea3"
        },
        "height": 383,
        "margin": {
         "b": 71,
         "r": 30,
         "t": 78
        },
        "shapes": [
         {
          "line": {
           "color": "#371ea3",
           "dash": "dot",
           "width": 1.5
          },
          "type": "line",
          "x0": 0.06672878440366958,
          "x1": 0.06672878440366958,
          "xref": "x",
          "y0": -1,
          "y1": 10,
          "yref": "y"
         }
        ],
        "template": {
         "data": {
          "scatter": [
           {
            "type": "scatter"
           }
          ]
         }
        },
        "title": {
         "text": "Variable Importance",
         "x": 0.15
        },
        "xaxis": {
         "anchor": "y",
         "automargin": true,
         "domain": [
          0,
          1
         ],
         "fixedrange": true,
         "gridwidth": 2,
         "range": [
          0.05806694380733941,
          0.12804257454128434
         ],
         "tickcolor": "white",
         "ticklen": 3,
         "ticks": "outside",
         "type": "linear",
         "zeroline": false
        },
        "yaxis": {
         "anchor": "x",
         "automargin": true,
         "autorange": "reversed",
         "domain": [
          0,
          1
         ],
         "fixedrange": true,
         "gridwidth": 2,
         "tickcolor": "white",
         "ticklen": 10,
         "ticks": "outside",
         "type": "category"
        }
       }
      }
     },
     "metadata": {},
     "output_type": "display_data"
    }
   ],
   "source": [
    "\n",
    "# Model Variable Importance via Plot\n",
    "exp.model_parts().plot()"
   ]
  },
  {
   "cell_type": "code",
   "execution_count": 40,
   "metadata": {},
   "outputs": [
    {
     "name": "stderr",
     "output_type": "stream",
     "text": [
      "Calculating ceteris paribus: 100%|██████████| 13/13 [00:00<00:00, 92.07it/s]\n"
     ]
    },
    {
     "data": {
      "text/html": [
       "<div>\n",
       "<style scoped>\n",
       "    .dataframe tbody tr th:only-of-type {\n",
       "        vertical-align: middle;\n",
       "    }\n",
       "\n",
       "    .dataframe tbody tr th {\n",
       "        vertical-align: top;\n",
       "    }\n",
       "\n",
       "    .dataframe thead th {\n",
       "        text-align: right;\n",
       "    }\n",
       "</style>\n",
       "<table border=\"1\" class=\"dataframe\">\n",
       "  <thead>\n",
       "    <tr style=\"text-align: right;\">\n",
       "      <th></th>\n",
       "      <th>_vname_</th>\n",
       "      <th>_label_</th>\n",
       "      <th>_x_</th>\n",
       "      <th>_yhat_</th>\n",
       "      <th>_ids_</th>\n",
       "    </tr>\n",
       "  </thead>\n",
       "  <tbody>\n",
       "    <tr>\n",
       "      <th>0</th>\n",
       "      <td>age</td>\n",
       "      <td>RandomizedSearchCV</td>\n",
       "      <td>29.00</td>\n",
       "      <td>0.514161</td>\n",
       "      <td>0</td>\n",
       "    </tr>\n",
       "    <tr>\n",
       "      <th>1</th>\n",
       "      <td>age</td>\n",
       "      <td>RandomizedSearchCV</td>\n",
       "      <td>29.48</td>\n",
       "      <td>0.513145</td>\n",
       "      <td>0</td>\n",
       "    </tr>\n",
       "    <tr>\n",
       "      <th>2</th>\n",
       "      <td>age</td>\n",
       "      <td>RandomizedSearchCV</td>\n",
       "      <td>29.96</td>\n",
       "      <td>0.512130</td>\n",
       "      <td>0</td>\n",
       "    </tr>\n",
       "    <tr>\n",
       "      <th>3</th>\n",
       "      <td>age</td>\n",
       "      <td>RandomizedSearchCV</td>\n",
       "      <td>30.44</td>\n",
       "      <td>0.511116</td>\n",
       "      <td>0</td>\n",
       "    </tr>\n",
       "    <tr>\n",
       "      <th>4</th>\n",
       "      <td>age</td>\n",
       "      <td>RandomizedSearchCV</td>\n",
       "      <td>30.92</td>\n",
       "      <td>0.510102</td>\n",
       "      <td>0</td>\n",
       "    </tr>\n",
       "    <tr>\n",
       "      <th>...</th>\n",
       "      <td>...</td>\n",
       "      <td>...</td>\n",
       "      <td>...</td>\n",
       "      <td>...</td>\n",
       "      <td>...</td>\n",
       "    </tr>\n",
       "    <tr>\n",
       "      <th>1308</th>\n",
       "      <td>thal</td>\n",
       "      <td>RandomizedSearchCV</td>\n",
       "      <td>1.92</td>\n",
       "      <td>0.580641</td>\n",
       "      <td>0</td>\n",
       "    </tr>\n",
       "    <tr>\n",
       "      <th>1309</th>\n",
       "      <td>thal</td>\n",
       "      <td>RandomizedSearchCV</td>\n",
       "      <td>1.94</td>\n",
       "      <td>0.582824</td>\n",
       "      <td>0</td>\n",
       "    </tr>\n",
       "    <tr>\n",
       "      <th>1310</th>\n",
       "      <td>thal</td>\n",
       "      <td>RandomizedSearchCV</td>\n",
       "      <td>1.96</td>\n",
       "      <td>0.585006</td>\n",
       "      <td>0</td>\n",
       "    </tr>\n",
       "    <tr>\n",
       "      <th>1311</th>\n",
       "      <td>thal</td>\n",
       "      <td>RandomizedSearchCV</td>\n",
       "      <td>1.98</td>\n",
       "      <td>0.587188</td>\n",
       "      <td>0</td>\n",
       "    </tr>\n",
       "    <tr>\n",
       "      <th>1312</th>\n",
       "      <td>thal</td>\n",
       "      <td>RandomizedSearchCV</td>\n",
       "      <td>2.00</td>\n",
       "      <td>0.589369</td>\n",
       "      <td>0</td>\n",
       "    </tr>\n",
       "  </tbody>\n",
       "</table>\n",
       "<p>1313 rows × 5 columns</p>\n",
       "</div>"
      ],
      "text/plain": [
       "<dalex.model_explanations._aggregated_profiles.object.AggregatedProfiles at 0x209f6e5edd0>"
      ]
     },
     "execution_count": 40,
     "metadata": {},
     "output_type": "execute_result"
    }
   ],
   "source": [
    "\n",
    "# Model Profile\n",
    "exp.model_profile()\n"
   ]
  },
  {
   "cell_type": "code",
   "execution_count": 41,
   "metadata": {},
   "outputs": [
    {
     "name": "stderr",
     "output_type": "stream",
     "text": [
      "Calculating ceteris paribus: 100%|██████████| 13/13 [00:00<00:00, 92.38it/s]\n"
     ]
    },
    {
     "data": {
      "application/vnd.plotly.v1+json": {
       "config": {
        "displaylogo": false,
        "modeBarButtonsToRemove": [
         "sendDataToCloud",
         "lasso2d",
         "autoScale2d",
         "select2d",
         "zoom2d",
         "pan2d",
         "zoomIn2d",
         "zoomOut2d",
         "resetScale2d",
         "toggleSpikelines",
         "hoverCompareCartesian",
         "hoverClosestCartesian"
        ],
        "plotlyServerURL": "https://plot.ly",
        "staticPlot": false,
        "toImageButtonOptions": {
         "height": null,
         "width": null
        }
       },
       "data": [
        {
         "customdata": [
          [
           0.4604844898666797,
           "RandomizedSearchCV",
           "age"
          ],
          [
           0.4604844898666797,
           "RandomizedSearchCV",
           "age"
          ],
          [
           0.4604844898666797,
           "RandomizedSearchCV",
           "age"
          ],
          [
           0.4604844898666797,
           "RandomizedSearchCV",
           "age"
          ],
          [
           0.4604844898666797,
           "RandomizedSearchCV",
           "age"
          ],
          [
           0.4604844898666797,
           "RandomizedSearchCV",
           "age"
          ],
          [
           0.4604844898666797,
           "RandomizedSearchCV",
           "age"
          ],
          [
           0.4604844898666797,
           "RandomizedSearchCV",
           "age"
          ],
          [
           0.4604844898666797,
           "RandomizedSearchCV",
           "age"
          ],
          [
           0.4604844898666797,
           "RandomizedSearchCV",
           "age"
          ],
          [
           0.4604844898666797,
           "RandomizedSearchCV",
           "age"
          ],
          [
           0.4604844898666797,
           "RandomizedSearchCV",
           "age"
          ],
          [
           0.4604844898666797,
           "RandomizedSearchCV",
           "age"
          ],
          [
           0.4604844898666797,
           "RandomizedSearchCV",
           "age"
          ],
          [
           0.4604844898666797,
           "RandomizedSearchCV",
           "age"
          ],
          [
           0.4604844898666797,
           "RandomizedSearchCV",
           "age"
          ],
          [
           0.4604844898666797,
           "RandomizedSearchCV",
           "age"
          ],
          [
           0.4604844898666797,
           "RandomizedSearchCV",
           "age"
          ],
          [
           0.4604844898666797,
           "RandomizedSearchCV",
           "age"
          ],
          [
           0.4604844898666797,
           "RandomizedSearchCV",
           "age"
          ],
          [
           0.4604844898666797,
           "RandomizedSearchCV",
           "age"
          ],
          [
           0.4604844898666797,
           "RandomizedSearchCV",
           "age"
          ],
          [
           0.4604844898666797,
           "RandomizedSearchCV",
           "age"
          ],
          [
           0.4604844898666797,
           "RandomizedSearchCV",
           "age"
          ],
          [
           0.4604844898666797,
           "RandomizedSearchCV",
           "age"
          ],
          [
           0.4604844898666797,
           "RandomizedSearchCV",
           "age"
          ],
          [
           0.4604844898666797,
           "RandomizedSearchCV",
           "age"
          ],
          [
           0.4604844898666797,
           "RandomizedSearchCV",
           "age"
          ],
          [
           0.4604844898666797,
           "RandomizedSearchCV",
           "age"
          ],
          [
           0.4604844898666797,
           "RandomizedSearchCV",
           "age"
          ],
          [
           0.4604844898666797,
           "RandomizedSearchCV",
           "age"
          ],
          [
           0.4604844898666797,
           "RandomizedSearchCV",
           "age"
          ],
          [
           0.4604844898666797,
           "RandomizedSearchCV",
           "age"
          ],
          [
           0.4604844898666797,
           "RandomizedSearchCV",
           "age"
          ],
          [
           0.4604844898666797,
           "RandomizedSearchCV",
           "age"
          ],
          [
           0.4604844898666797,
           "RandomizedSearchCV",
           "age"
          ],
          [
           0.4604844898666797,
           "RandomizedSearchCV",
           "age"
          ],
          [
           0.4604844898666797,
           "RandomizedSearchCV",
           "age"
          ],
          [
           0.4604844898666797,
           "RandomizedSearchCV",
           "age"
          ],
          [
           0.4604844898666797,
           "RandomizedSearchCV",
           "age"
          ],
          [
           0.4604844898666797,
           "RandomizedSearchCV",
           "age"
          ],
          [
           0.4604844898666797,
           "RandomizedSearchCV",
           "age"
          ],
          [
           0.4604844898666797,
           "RandomizedSearchCV",
           "age"
          ],
          [
           0.4604844898666797,
           "RandomizedSearchCV",
           "age"
          ],
          [
           0.4604844898666797,
           "RandomizedSearchCV",
           "age"
          ],
          [
           0.4604844898666797,
           "RandomizedSearchCV",
           "age"
          ],
          [
           0.4604844898666797,
           "RandomizedSearchCV",
           "age"
          ],
          [
           0.4604844898666797,
           "RandomizedSearchCV",
           "age"
          ],
          [
           0.4604844898666797,
           "RandomizedSearchCV",
           "age"
          ],
          [
           0.4604844898666797,
           "RandomizedSearchCV",
           "age"
          ],
          [
           0.4604844898666797,
           "RandomizedSearchCV",
           "age"
          ],
          [
           0.4604844898666797,
           "RandomizedSearchCV",
           "age"
          ],
          [
           0.4604844898666797,
           "RandomizedSearchCV",
           "age"
          ],
          [
           0.4604844898666797,
           "RandomizedSearchCV",
           "age"
          ],
          [
           0.4604844898666797,
           "RandomizedSearchCV",
           "age"
          ],
          [
           0.4604844898666797,
           "RandomizedSearchCV",
           "age"
          ],
          [
           0.4604844898666797,
           "RandomizedSearchCV",
           "age"
          ],
          [
           0.4604844898666797,
           "RandomizedSearchCV",
           "age"
          ],
          [
           0.4604844898666797,
           "RandomizedSearchCV",
           "age"
          ],
          [
           0.4604844898666797,
           "RandomizedSearchCV",
           "age"
          ],
          [
           0.4604844898666797,
           "RandomizedSearchCV",
           "age"
          ],
          [
           0.4604844898666797,
           "RandomizedSearchCV",
           "age"
          ],
          [
           0.4604844898666797,
           "RandomizedSearchCV",
           "age"
          ],
          [
           0.4604844898666797,
           "RandomizedSearchCV",
           "age"
          ],
          [
           0.4604844898666797,
           "RandomizedSearchCV",
           "age"
          ],
          [
           0.4604844898666797,
           "RandomizedSearchCV",
           "age"
          ],
          [
           0.4604844898666797,
           "RandomizedSearchCV",
           "age"
          ],
          [
           0.4604844898666797,
           "RandomizedSearchCV",
           "age"
          ],
          [
           0.4604844898666797,
           "RandomizedSearchCV",
           "age"
          ],
          [
           0.4604844898666797,
           "RandomizedSearchCV",
           "age"
          ],
          [
           0.4604844898666797,
           "RandomizedSearchCV",
           "age"
          ],
          [
           0.4604844898666797,
           "RandomizedSearchCV",
           "age"
          ],
          [
           0.4604844898666797,
           "RandomizedSearchCV",
           "age"
          ],
          [
           0.4604844898666797,
           "RandomizedSearchCV",
           "age"
          ],
          [
           0.4604844898666797,
           "RandomizedSearchCV",
           "age"
          ],
          [
           0.4604844898666797,
           "RandomizedSearchCV",
           "age"
          ],
          [
           0.4604844898666797,
           "RandomizedSearchCV",
           "age"
          ],
          [
           0.4604844898666797,
           "RandomizedSearchCV",
           "age"
          ],
          [
           0.4604844898666797,
           "RandomizedSearchCV",
           "age"
          ],
          [
           0.4604844898666797,
           "RandomizedSearchCV",
           "age"
          ],
          [
           0.4604844898666797,
           "RandomizedSearchCV",
           "age"
          ],
          [
           0.4604844898666797,
           "RandomizedSearchCV",
           "age"
          ],
          [
           0.4604844898666797,
           "RandomizedSearchCV",
           "age"
          ],
          [
           0.4604844898666797,
           "RandomizedSearchCV",
           "age"
          ],
          [
           0.4604844898666797,
           "RandomizedSearchCV",
           "age"
          ],
          [
           0.4604844898666797,
           "RandomizedSearchCV",
           "age"
          ],
          [
           0.4604844898666797,
           "RandomizedSearchCV",
           "age"
          ],
          [
           0.4604844898666797,
           "RandomizedSearchCV",
           "age"
          ],
          [
           0.4604844898666797,
           "RandomizedSearchCV",
           "age"
          ],
          [
           0.4604844898666797,
           "RandomizedSearchCV",
           "age"
          ],
          [
           0.4604844898666797,
           "RandomizedSearchCV",
           "age"
          ],
          [
           0.4604844898666797,
           "RandomizedSearchCV",
           "age"
          ],
          [
           0.4604844898666797,
           "RandomizedSearchCV",
           "age"
          ],
          [
           0.4604844898666797,
           "RandomizedSearchCV",
           "age"
          ],
          [
           0.4604844898666797,
           "RandomizedSearchCV",
           "age"
          ],
          [
           0.4604844898666797,
           "RandomizedSearchCV",
           "age"
          ],
          [
           0.4604844898666797,
           "RandomizedSearchCV",
           "age"
          ],
          [
           0.4604844898666797,
           "RandomizedSearchCV",
           "age"
          ],
          [
           0.4604844898666797,
           "RandomizedSearchCV",
           "age"
          ],
          [
           0.4604844898666797,
           "RandomizedSearchCV",
           "age"
          ],
          [
           0.4604844898666797,
           "RandomizedSearchCV",
           "age"
          ]
         ],
         "hovertemplate": "<b>%{hovertext}</b><br><br>prediction=%{y:.3f}<br>mean_prediction=%{customdata[0]:.3f}<extra></extra>",
         "hovertext": [
          "RandomizedSearchCV",
          "RandomizedSearchCV",
          "RandomizedSearchCV",
          "RandomizedSearchCV",
          "RandomizedSearchCV",
          "RandomizedSearchCV",
          "RandomizedSearchCV",
          "RandomizedSearchCV",
          "RandomizedSearchCV",
          "RandomizedSearchCV",
          "RandomizedSearchCV",
          "RandomizedSearchCV",
          "RandomizedSearchCV",
          "RandomizedSearchCV",
          "RandomizedSearchCV",
          "RandomizedSearchCV",
          "RandomizedSearchCV",
          "RandomizedSearchCV",
          "RandomizedSearchCV",
          "RandomizedSearchCV",
          "RandomizedSearchCV",
          "RandomizedSearchCV",
          "RandomizedSearchCV",
          "RandomizedSearchCV",
          "RandomizedSearchCV",
          "RandomizedSearchCV",
          "RandomizedSearchCV",
          "RandomizedSearchCV",
          "RandomizedSearchCV",
          "RandomizedSearchCV",
          "RandomizedSearchCV",
          "RandomizedSearchCV",
          "RandomizedSearchCV",
          "RandomizedSearchCV",
          "RandomizedSearchCV",
          "RandomizedSearchCV",
          "RandomizedSearchCV",
          "RandomizedSearchCV",
          "RandomizedSearchCV",
          "RandomizedSearchCV",
          "RandomizedSearchCV",
          "RandomizedSearchCV",
          "RandomizedSearchCV",
          "RandomizedSearchCV",
          "RandomizedSearchCV",
          "RandomizedSearchCV",
          "RandomizedSearchCV",
          "RandomizedSearchCV",
          "RandomizedSearchCV",
          "RandomizedSearchCV",
          "RandomizedSearchCV",
          "RandomizedSearchCV",
          "RandomizedSearchCV",
          "RandomizedSearchCV",
          "RandomizedSearchCV",
          "RandomizedSearchCV",
          "RandomizedSearchCV",
          "RandomizedSearchCV",
          "RandomizedSearchCV",
          "RandomizedSearchCV",
          "RandomizedSearchCV",
          "RandomizedSearchCV",
          "RandomizedSearchCV",
          "RandomizedSearchCV",
          "RandomizedSearchCV",
          "RandomizedSearchCV",
          "RandomizedSearchCV",
          "RandomizedSearchCV",
          "RandomizedSearchCV",
          "RandomizedSearchCV",
          "RandomizedSearchCV",
          "RandomizedSearchCV",
          "RandomizedSearchCV",
          "RandomizedSearchCV",
          "RandomizedSearchCV",
          "RandomizedSearchCV",
          "RandomizedSearchCV",
          "RandomizedSearchCV",
          "RandomizedSearchCV",
          "RandomizedSearchCV",
          "RandomizedSearchCV",
          "RandomizedSearchCV",
          "RandomizedSearchCV",
          "RandomizedSearchCV",
          "RandomizedSearchCV",
          "RandomizedSearchCV",
          "RandomizedSearchCV",
          "RandomizedSearchCV",
          "RandomizedSearchCV",
          "RandomizedSearchCV",
          "RandomizedSearchCV",
          "RandomizedSearchCV",
          "RandomizedSearchCV",
          "RandomizedSearchCV",
          "RandomizedSearchCV",
          "RandomizedSearchCV",
          "RandomizedSearchCV",
          "RandomizedSearchCV",
          "RandomizedSearchCV",
          "RandomizedSearchCV",
          "RandomizedSearchCV"
         ],
         "legendgroup": "RandomizedSearchCV",
         "line": {
          "color": "#46bac2",
          "dash": "solid",
          "width": 2
         },
         "marker": {
          "symbol": "circle"
         },
         "mode": "lines",
         "name": "RandomizedSearchCV",
         "opacity": 1,
         "orientation": "v",
         "showlegend": true,
         "type": "scatter",
         "x": [
          29,
          29.48,
          29.96,
          30.44,
          30.92,
          31.4,
          31.88,
          32.36,
          32.84,
          33.32,
          33.8,
          34.28,
          34.76,
          35.24,
          35.72,
          36.2,
          36.68,
          37.16,
          37.64,
          38.12,
          38.6,
          39.08,
          39.56,
          40.04,
          40.519999999999996,
          41,
          41.480000000000004,
          41.96,
          42.44,
          42.92,
          43.4,
          43.879999999999995,
          44.36,
          44.84,
          45.32,
          45.8,
          46.28,
          46.76,
          47.239999999999995,
          47.72,
          48.2,
          48.68,
          49.16,
          49.64,
          50.12,
          50.599999999999994,
          51.08,
          51.56,
          52.04,
          52.519999999999996,
          53,
          53.480000000000004,
          53.96,
          54.44,
          54.92,
          55.4,
          55.879999999999995,
          56.36,
          56.84,
          57.32,
          57.8,
          58.28,
          58.76,
          59.239999999999995,
          59.72,
          60.2,
          60.68,
          61.16,
          61.64,
          62.12,
          62.6,
          63.08,
          63.56,
          64.03999999999999,
          64.52,
          65,
          65.47999999999999,
          65.96000000000001,
          66.44,
          66.92,
          67.4,
          67.88,
          68.36,
          68.84,
          69.32,
          69.8,
          70.28,
          70.75999999999999,
          71.24,
          71.72,
          72.19999999999999,
          72.68,
          73.16,
          73.64,
          74.12,
          74.6,
          75.08,
          75.56,
          76.03999999999999,
          76.52,
          77
         ],
         "xaxis": "x13",
         "y": [
          0.5141611188546932,
          0.5131452654224823,
          0.5121300923992164,
          0.511115605567848,
          0.5101018106613858,
          0.5090887133628214,
          0.5080763193050605,
          0.5070646340708601,
          0.5060536631927692,
          0.5050434121530758,
          0.5040338863837569,
          0.5030250912664355,
          0.5020170321323404,
          0.5010097142622724,
          0.5000031428865743,
          0.49899732318510664,
          0.4979922602872273,
          0.4969879592717765,
          0.4959844251670668,
          0.4949816629508773,
          0.49397967755045297,
          0.49297847384250887,
          0.491978056653239,
          0.49097843075833,
          0.48997960088297915,
          0.48898157170191797,
          0.4879843478394399,
          0.4869879338694327,
          0.48599233431541566,
          0.48499755365058184,
          0.48400359629784434,
          0.4830104666298876,
          0.48201816896922317,
          0.4810267075882504,
          0.48003608670932074,
          0.4790463105048082,
          0.4780573830971829,
          0.4770693085590896,
          0.4760820909134311,
          0.4750957341334556,
          0.4741102421428488,
          0.47312561881583004,
          0.47214186797725366,
          0.4711589934027133,
          0.47017699881865205,
          0.4691958879024761,
          0.46821566428267264,
          0.46723633153893207,
          0.4662578932022749,
          0.465280352755182,
          0.46430371363172973,
          0.46332797921772884,
          0.4623531528508675,
          0.4613792378208584,
          0.4604062373695898,
          0.4594341546912809,
          0.45846299293264065,
          0.45749275519303095,
          0.45652344452463317,
          0.4555550639326194,
          0.45458761637532663,
          0.45362110476443496,
          0.45265553196514996,
          0.45169090079638835,
          0.450727214030967,
          0.4497644743957967,
          0.4488026845720782,
          0.4478418471955025,
          0.44688196485645476,
          0.44592304010022116,
          0.4449650754271995,
          0.4440080732931134,
          0.4430520361092296,
          0.4420969662425784,
          0.44114286601617736,
          0.4401897377092592,
          0.43923758355750125,
          0.4382864057532594,
          0.4373362064458046,
          0.43638698774156226,
          0.43543875170435536,
          0.4344915003556495,
          0.4335452356748018,
          0.43259995959931247,
          0.4316556740250789,
          0.4307123808066526,
          0.42977008175749953,
          0.4288287786502626,
          0.42788847321702655,
          0.42694916714958653,
          0.42601086209971806,
          0.42507355967945026,
          0.4241372614613419,
          0.42320196897875856,
          0.42226768372615403,
          0.42133440715935255,
          0.4204021406958342,
          0.4194708857150224,
          0.4185406435585739,
          0.41761141553067,
          0.4166832028983117
         ],
         "yaxis": "y13"
        },
        {
         "customdata": [
          [
           0.4604844898666797,
           "RandomizedSearchCV",
           "sex"
          ],
          [
           0.4604844898666797,
           "RandomizedSearchCV",
           "sex"
          ],
          [
           0.4604844898666797,
           "RandomizedSearchCV",
           "sex"
          ],
          [
           0.4604844898666797,
           "RandomizedSearchCV",
           "sex"
          ],
          [
           0.4604844898666797,
           "RandomizedSearchCV",
           "sex"
          ],
          [
           0.4604844898666797,
           "RandomizedSearchCV",
           "sex"
          ],
          [
           0.4604844898666797,
           "RandomizedSearchCV",
           "sex"
          ],
          [
           0.4604844898666797,
           "RandomizedSearchCV",
           "sex"
          ],
          [
           0.4604844898666797,
           "RandomizedSearchCV",
           "sex"
          ],
          [
           0.4604844898666797,
           "RandomizedSearchCV",
           "sex"
          ],
          [
           0.4604844898666797,
           "RandomizedSearchCV",
           "sex"
          ],
          [
           0.4604844898666797,
           "RandomizedSearchCV",
           "sex"
          ],
          [
           0.4604844898666797,
           "RandomizedSearchCV",
           "sex"
          ],
          [
           0.4604844898666797,
           "RandomizedSearchCV",
           "sex"
          ],
          [
           0.4604844898666797,
           "RandomizedSearchCV",
           "sex"
          ],
          [
           0.4604844898666797,
           "RandomizedSearchCV",
           "sex"
          ],
          [
           0.4604844898666797,
           "RandomizedSearchCV",
           "sex"
          ],
          [
           0.4604844898666797,
           "RandomizedSearchCV",
           "sex"
          ],
          [
           0.4604844898666797,
           "RandomizedSearchCV",
           "sex"
          ],
          [
           0.4604844898666797,
           "RandomizedSearchCV",
           "sex"
          ],
          [
           0.4604844898666797,
           "RandomizedSearchCV",
           "sex"
          ],
          [
           0.4604844898666797,
           "RandomizedSearchCV",
           "sex"
          ],
          [
           0.4604844898666797,
           "RandomizedSearchCV",
           "sex"
          ],
          [
           0.4604844898666797,
           "RandomizedSearchCV",
           "sex"
          ],
          [
           0.4604844898666797,
           "RandomizedSearchCV",
           "sex"
          ],
          [
           0.4604844898666797,
           "RandomizedSearchCV",
           "sex"
          ],
          [
           0.4604844898666797,
           "RandomizedSearchCV",
           "sex"
          ],
          [
           0.4604844898666797,
           "RandomizedSearchCV",
           "sex"
          ],
          [
           0.4604844898666797,
           "RandomizedSearchCV",
           "sex"
          ],
          [
           0.4604844898666797,
           "RandomizedSearchCV",
           "sex"
          ],
          [
           0.4604844898666797,
           "RandomizedSearchCV",
           "sex"
          ],
          [
           0.4604844898666797,
           "RandomizedSearchCV",
           "sex"
          ],
          [
           0.4604844898666797,
           "RandomizedSearchCV",
           "sex"
          ],
          [
           0.4604844898666797,
           "RandomizedSearchCV",
           "sex"
          ],
          [
           0.4604844898666797,
           "RandomizedSearchCV",
           "sex"
          ],
          [
           0.4604844898666797,
           "RandomizedSearchCV",
           "sex"
          ],
          [
           0.4604844898666797,
           "RandomizedSearchCV",
           "sex"
          ],
          [
           0.4604844898666797,
           "RandomizedSearchCV",
           "sex"
          ],
          [
           0.4604844898666797,
           "RandomizedSearchCV",
           "sex"
          ],
          [
           0.4604844898666797,
           "RandomizedSearchCV",
           "sex"
          ],
          [
           0.4604844898666797,
           "RandomizedSearchCV",
           "sex"
          ],
          [
           0.4604844898666797,
           "RandomizedSearchCV",
           "sex"
          ],
          [
           0.4604844898666797,
           "RandomizedSearchCV",
           "sex"
          ],
          [
           0.4604844898666797,
           "RandomizedSearchCV",
           "sex"
          ],
          [
           0.4604844898666797,
           "RandomizedSearchCV",
           "sex"
          ],
          [
           0.4604844898666797,
           "RandomizedSearchCV",
           "sex"
          ],
          [
           0.4604844898666797,
           "RandomizedSearchCV",
           "sex"
          ],
          [
           0.4604844898666797,
           "RandomizedSearchCV",
           "sex"
          ],
          [
           0.4604844898666797,
           "RandomizedSearchCV",
           "sex"
          ],
          [
           0.4604844898666797,
           "RandomizedSearchCV",
           "sex"
          ],
          [
           0.4604844898666797,
           "RandomizedSearchCV",
           "sex"
          ],
          [
           0.4604844898666797,
           "RandomizedSearchCV",
           "sex"
          ],
          [
           0.4604844898666797,
           "RandomizedSearchCV",
           "sex"
          ],
          [
           0.4604844898666797,
           "RandomizedSearchCV",
           "sex"
          ],
          [
           0.4604844898666797,
           "RandomizedSearchCV",
           "sex"
          ],
          [
           0.4604844898666797,
           "RandomizedSearchCV",
           "sex"
          ],
          [
           0.4604844898666797,
           "RandomizedSearchCV",
           "sex"
          ],
          [
           0.4604844898666797,
           "RandomizedSearchCV",
           "sex"
          ],
          [
           0.4604844898666797,
           "RandomizedSearchCV",
           "sex"
          ],
          [
           0.4604844898666797,
           "RandomizedSearchCV",
           "sex"
          ],
          [
           0.4604844898666797,
           "RandomizedSearchCV",
           "sex"
          ],
          [
           0.4604844898666797,
           "RandomizedSearchCV",
           "sex"
          ],
          [
           0.4604844898666797,
           "RandomizedSearchCV",
           "sex"
          ],
          [
           0.4604844898666797,
           "RandomizedSearchCV",
           "sex"
          ],
          [
           0.4604844898666797,
           "RandomizedSearchCV",
           "sex"
          ],
          [
           0.4604844898666797,
           "RandomizedSearchCV",
           "sex"
          ],
          [
           0.4604844898666797,
           "RandomizedSearchCV",
           "sex"
          ],
          [
           0.4604844898666797,
           "RandomizedSearchCV",
           "sex"
          ],
          [
           0.4604844898666797,
           "RandomizedSearchCV",
           "sex"
          ],
          [
           0.4604844898666797,
           "RandomizedSearchCV",
           "sex"
          ],
          [
           0.4604844898666797,
           "RandomizedSearchCV",
           "sex"
          ],
          [
           0.4604844898666797,
           "RandomizedSearchCV",
           "sex"
          ],
          [
           0.4604844898666797,
           "RandomizedSearchCV",
           "sex"
          ],
          [
           0.4604844898666797,
           "RandomizedSearchCV",
           "sex"
          ],
          [
           0.4604844898666797,
           "RandomizedSearchCV",
           "sex"
          ],
          [
           0.4604844898666797,
           "RandomizedSearchCV",
           "sex"
          ],
          [
           0.4604844898666797,
           "RandomizedSearchCV",
           "sex"
          ],
          [
           0.4604844898666797,
           "RandomizedSearchCV",
           "sex"
          ],
          [
           0.4604844898666797,
           "RandomizedSearchCV",
           "sex"
          ],
          [
           0.4604844898666797,
           "RandomizedSearchCV",
           "sex"
          ],
          [
           0.4604844898666797,
           "RandomizedSearchCV",
           "sex"
          ],
          [
           0.4604844898666797,
           "RandomizedSearchCV",
           "sex"
          ],
          [
           0.4604844898666797,
           "RandomizedSearchCV",
           "sex"
          ],
          [
           0.4604844898666797,
           "RandomizedSearchCV",
           "sex"
          ],
          [
           0.4604844898666797,
           "RandomizedSearchCV",
           "sex"
          ],
          [
           0.4604844898666797,
           "RandomizedSearchCV",
           "sex"
          ],
          [
           0.4604844898666797,
           "RandomizedSearchCV",
           "sex"
          ],
          [
           0.4604844898666797,
           "RandomizedSearchCV",
           "sex"
          ],
          [
           0.4604844898666797,
           "RandomizedSearchCV",
           "sex"
          ],
          [
           0.4604844898666797,
           "RandomizedSearchCV",
           "sex"
          ],
          [
           0.4604844898666797,
           "RandomizedSearchCV",
           "sex"
          ],
          [
           0.4604844898666797,
           "RandomizedSearchCV",
           "sex"
          ],
          [
           0.4604844898666797,
           "RandomizedSearchCV",
           "sex"
          ],
          [
           0.4604844898666797,
           "RandomizedSearchCV",
           "sex"
          ],
          [
           0.4604844898666797,
           "RandomizedSearchCV",
           "sex"
          ],
          [
           0.4604844898666797,
           "RandomizedSearchCV",
           "sex"
          ],
          [
           0.4604844898666797,
           "RandomizedSearchCV",
           "sex"
          ],
          [
           0.4604844898666797,
           "RandomizedSearchCV",
           "sex"
          ],
          [
           0.4604844898666797,
           "RandomizedSearchCV",
           "sex"
          ],
          [
           0.4604844898666797,
           "RandomizedSearchCV",
           "sex"
          ],
          [
           0.4604844898666797,
           "RandomizedSearchCV",
           "sex"
          ]
         ],
         "hovertemplate": "<b>%{hovertext}</b><br><br>prediction=%{y:.3f}<br>mean_prediction=%{customdata[0]:.3f}<extra></extra>",
         "hovertext": [
          "RandomizedSearchCV",
          "RandomizedSearchCV",
          "RandomizedSearchCV",
          "RandomizedSearchCV",
          "RandomizedSearchCV",
          "RandomizedSearchCV",
          "RandomizedSearchCV",
          "RandomizedSearchCV",
          "RandomizedSearchCV",
          "RandomizedSearchCV",
          "RandomizedSearchCV",
          "RandomizedSearchCV",
          "RandomizedSearchCV",
          "RandomizedSearchCV",
          "RandomizedSearchCV",
          "RandomizedSearchCV",
          "RandomizedSearchCV",
          "RandomizedSearchCV",
          "RandomizedSearchCV",
          "RandomizedSearchCV",
          "RandomizedSearchCV",
          "RandomizedSearchCV",
          "RandomizedSearchCV",
          "RandomizedSearchCV",
          "RandomizedSearchCV",
          "RandomizedSearchCV",
          "RandomizedSearchCV",
          "RandomizedSearchCV",
          "RandomizedSearchCV",
          "RandomizedSearchCV",
          "RandomizedSearchCV",
          "RandomizedSearchCV",
          "RandomizedSearchCV",
          "RandomizedSearchCV",
          "RandomizedSearchCV",
          "RandomizedSearchCV",
          "RandomizedSearchCV",
          "RandomizedSearchCV",
          "RandomizedSearchCV",
          "RandomizedSearchCV",
          "RandomizedSearchCV",
          "RandomizedSearchCV",
          "RandomizedSearchCV",
          "RandomizedSearchCV",
          "RandomizedSearchCV",
          "RandomizedSearchCV",
          "RandomizedSearchCV",
          "RandomizedSearchCV",
          "RandomizedSearchCV",
          "RandomizedSearchCV",
          "RandomizedSearchCV",
          "RandomizedSearchCV",
          "RandomizedSearchCV",
          "RandomizedSearchCV",
          "RandomizedSearchCV",
          "RandomizedSearchCV",
          "RandomizedSearchCV",
          "RandomizedSearchCV",
          "RandomizedSearchCV",
          "RandomizedSearchCV",
          "RandomizedSearchCV",
          "RandomizedSearchCV",
          "RandomizedSearchCV",
          "RandomizedSearchCV",
          "RandomizedSearchCV",
          "RandomizedSearchCV",
          "RandomizedSearchCV",
          "RandomizedSearchCV",
          "RandomizedSearchCV",
          "RandomizedSearchCV",
          "RandomizedSearchCV",
          "RandomizedSearchCV",
          "RandomizedSearchCV",
          "RandomizedSearchCV",
          "RandomizedSearchCV",
          "RandomizedSearchCV",
          "RandomizedSearchCV",
          "RandomizedSearchCV",
          "RandomizedSearchCV",
          "RandomizedSearchCV",
          "RandomizedSearchCV",
          "RandomizedSearchCV",
          "RandomizedSearchCV",
          "RandomizedSearchCV",
          "RandomizedSearchCV",
          "RandomizedSearchCV",
          "RandomizedSearchCV",
          "RandomizedSearchCV",
          "RandomizedSearchCV",
          "RandomizedSearchCV",
          "RandomizedSearchCV",
          "RandomizedSearchCV",
          "RandomizedSearchCV",
          "RandomizedSearchCV",
          "RandomizedSearchCV",
          "RandomizedSearchCV",
          "RandomizedSearchCV",
          "RandomizedSearchCV",
          "RandomizedSearchCV",
          "RandomizedSearchCV",
          "RandomizedSearchCV"
         ],
         "legendgroup": "RandomizedSearchCV",
         "line": {
          "color": "#46bac2",
          "dash": "solid",
          "width": 2
         },
         "marker": {
          "symbol": "circle"
         },
         "mode": "lines",
         "name": "RandomizedSearchCV",
         "opacity": 1,
         "orientation": "v",
         "showlegend": false,
         "type": "scatter",
         "x": [
          0,
          0.01,
          0.02,
          0.03,
          0.04,
          0.05,
          0.06,
          0.07,
          0.08,
          0.09,
          0.1,
          0.11,
          0.12,
          0.13,
          0.14,
          0.15,
          0.16,
          0.17,
          0.18,
          0.19,
          0.2,
          0.21,
          0.22,
          0.23,
          0.24,
          0.25,
          0.26,
          0.27,
          0.28,
          0.29,
          0.3,
          0.31,
          0.32,
          0.33,
          0.34,
          0.35000000000000003,
          0.36,
          0.37,
          0.38,
          0.39,
          0.4,
          0.41000000000000003,
          0.42,
          0.43,
          0.44,
          0.45,
          0.46,
          0.47000000000000003,
          0.48,
          0.49,
          0.5,
          0.51,
          0.52,
          0.53,
          0.54,
          0.55,
          0.56,
          0.5700000000000001,
          0.58,
          0.59,
          0.6,
          0.61,
          0.62,
          0.63,
          0.64,
          0.65,
          0.66,
          0.67,
          0.68,
          0.6900000000000001,
          0.7000000000000001,
          0.71,
          0.72,
          0.73,
          0.74,
          0.75,
          0.76,
          0.77,
          0.78,
          0.79,
          0.8,
          0.81,
          0.8200000000000001,
          0.8300000000000001,
          0.84,
          0.85,
          0.86,
          0.87,
          0.88,
          0.89,
          0.9,
          0.91,
          0.92,
          0.93,
          0.9400000000000001,
          0.9500000000000001,
          0.96,
          0.97,
          0.98,
          0.99,
          1
         ],
         "xaxis": "x14",
         "y": [
          0.4101311672239815,
          0.41085560248207587,
          0.41158067808047466,
          0.4123063931332951,
          0.41303274674066526,
          0.4137597379886629,
          0.4144873659492541,
          0.41521562968023407,
          0.41594452822516653,
          0.41667406061332546,
          0.41740422585963655,
          0.4181350229646196,
          0.4188664509143311,
          0.4195985086803084,
          0.42033119521951345,
          0.42106450947427787,
          0.4217984503722484,
          0.4225330168263331,
          0.42326820773464824,
          0.4240040219804658,
          0.4247404584321615,
          0.425477515943164,
          0.42621519335190405,
          0.426953489481765,
          0.42769240314103363,
          0.4284319331228517,
          0.4291720782051685,
          0.4299128371506936,
          0.4306542087068507,
          0.43139619160573234,
          0.43213878456405436,
          0.4328819862831127,
          0.43362579544873925,
          0.4343702107312597,
          0.4351152307854514,
          0.43586085425050203,
          0.43660707974996943,
          0.43735390589174195,
          0.43810133126799916,
          0.43884935445517387,
          0.4395979740139146,
          0.440347188489049,
          0.44109699640954797,
          0.4418473962884901,
          0.4425983866230279,
          0.4433499658943537,
          0.4441021325676668,
          0.44485488509214177,
          0.44560822190089683,
          0.4463621414109634,
          0.44711664202325646,
          0.44787172212254556,
          0.44862738007742664,
          0.44938361424029455,
          0.45014042294731693,
          0.45089780451840783,
          0.451655757257203,
          0.4524142794510362,
          0.4531733693709148,
          0.45393302527149815,
          0.45469324539107525,
          0.4554540279515442,
          0.45621537115839167,
          0.4569772732006738,
          0.45773973225099746,
          0.458502746465503,
          0.45926631398384665,
          0.46003043292918516,
          0.4607951014081599,
          0.46156031751088283,
          0.4623260793109227,
          0.4630923848652921,
          0.46385923221443587,
          0.46462661938221955,
          0.46539454437591904,
          0.4661630051862113,
          0.4669319997871652,
          0.4677015261362342,
          0.468471582174249,
          0.469242165825411,
          0.47001327499728734,
          0.470784907580806,
          0.47155706145025206,
          0.4723297344632647,
          0.47310292446083535,
          0.4738766292673059,
          0.47465084669036833,
          0.4754255745210654,
          0.4762008105337911,
          0.4769765524862932,
          0.4777527981196757,
          0.47852954515840235,
          0.47930679131030135,
          0.4800845342665702,
          0.48086277170178193,
          0.4816415012738918,
          0.4824207206242451,
          0.48320042737758534,
          0.4839806191420638,
          0.48476129350924924,
          0.4855424480541391
         ],
         "yaxis": "y14"
        },
        {
         "customdata": [
          [
           0.4604844898666797,
           "RandomizedSearchCV",
           "cp"
          ],
          [
           0.4604844898666797,
           "RandomizedSearchCV",
           "cp"
          ],
          [
           0.4604844898666797,
           "RandomizedSearchCV",
           "cp"
          ],
          [
           0.4604844898666797,
           "RandomizedSearchCV",
           "cp"
          ],
          [
           0.4604844898666797,
           "RandomizedSearchCV",
           "cp"
          ],
          [
           0.4604844898666797,
           "RandomizedSearchCV",
           "cp"
          ],
          [
           0.4604844898666797,
           "RandomizedSearchCV",
           "cp"
          ],
          [
           0.4604844898666797,
           "RandomizedSearchCV",
           "cp"
          ],
          [
           0.4604844898666797,
           "RandomizedSearchCV",
           "cp"
          ],
          [
           0.4604844898666797,
           "RandomizedSearchCV",
           "cp"
          ],
          [
           0.4604844898666797,
           "RandomizedSearchCV",
           "cp"
          ],
          [
           0.4604844898666797,
           "RandomizedSearchCV",
           "cp"
          ],
          [
           0.4604844898666797,
           "RandomizedSearchCV",
           "cp"
          ],
          [
           0.4604844898666797,
           "RandomizedSearchCV",
           "cp"
          ],
          [
           0.4604844898666797,
           "RandomizedSearchCV",
           "cp"
          ],
          [
           0.4604844898666797,
           "RandomizedSearchCV",
           "cp"
          ],
          [
           0.4604844898666797,
           "RandomizedSearchCV",
           "cp"
          ],
          [
           0.4604844898666797,
           "RandomizedSearchCV",
           "cp"
          ],
          [
           0.4604844898666797,
           "RandomizedSearchCV",
           "cp"
          ],
          [
           0.4604844898666797,
           "RandomizedSearchCV",
           "cp"
          ],
          [
           0.4604844898666797,
           "RandomizedSearchCV",
           "cp"
          ],
          [
           0.4604844898666797,
           "RandomizedSearchCV",
           "cp"
          ],
          [
           0.4604844898666797,
           "RandomizedSearchCV",
           "cp"
          ],
          [
           0.4604844898666797,
           "RandomizedSearchCV",
           "cp"
          ],
          [
           0.4604844898666797,
           "RandomizedSearchCV",
           "cp"
          ],
          [
           0.4604844898666797,
           "RandomizedSearchCV",
           "cp"
          ],
          [
           0.4604844898666797,
           "RandomizedSearchCV",
           "cp"
          ],
          [
           0.4604844898666797,
           "RandomizedSearchCV",
           "cp"
          ],
          [
           0.4604844898666797,
           "RandomizedSearchCV",
           "cp"
          ],
          [
           0.4604844898666797,
           "RandomizedSearchCV",
           "cp"
          ],
          [
           0.4604844898666797,
           "RandomizedSearchCV",
           "cp"
          ],
          [
           0.4604844898666797,
           "RandomizedSearchCV",
           "cp"
          ],
          [
           0.4604844898666797,
           "RandomizedSearchCV",
           "cp"
          ],
          [
           0.4604844898666797,
           "RandomizedSearchCV",
           "cp"
          ],
          [
           0.4604844898666797,
           "RandomizedSearchCV",
           "cp"
          ],
          [
           0.4604844898666797,
           "RandomizedSearchCV",
           "cp"
          ],
          [
           0.4604844898666797,
           "RandomizedSearchCV",
           "cp"
          ],
          [
           0.4604844898666797,
           "RandomizedSearchCV",
           "cp"
          ],
          [
           0.4604844898666797,
           "RandomizedSearchCV",
           "cp"
          ],
          [
           0.4604844898666797,
           "RandomizedSearchCV",
           "cp"
          ],
          [
           0.4604844898666797,
           "RandomizedSearchCV",
           "cp"
          ],
          [
           0.4604844898666797,
           "RandomizedSearchCV",
           "cp"
          ],
          [
           0.4604844898666797,
           "RandomizedSearchCV",
           "cp"
          ],
          [
           0.4604844898666797,
           "RandomizedSearchCV",
           "cp"
          ],
          [
           0.4604844898666797,
           "RandomizedSearchCV",
           "cp"
          ],
          [
           0.4604844898666797,
           "RandomizedSearchCV",
           "cp"
          ],
          [
           0.4604844898666797,
           "RandomizedSearchCV",
           "cp"
          ],
          [
           0.4604844898666797,
           "RandomizedSearchCV",
           "cp"
          ],
          [
           0.4604844898666797,
           "RandomizedSearchCV",
           "cp"
          ],
          [
           0.4604844898666797,
           "RandomizedSearchCV",
           "cp"
          ],
          [
           0.4604844898666797,
           "RandomizedSearchCV",
           "cp"
          ],
          [
           0.4604844898666797,
           "RandomizedSearchCV",
           "cp"
          ],
          [
           0.4604844898666797,
           "RandomizedSearchCV",
           "cp"
          ],
          [
           0.4604844898666797,
           "RandomizedSearchCV",
           "cp"
          ],
          [
           0.4604844898666797,
           "RandomizedSearchCV",
           "cp"
          ],
          [
           0.4604844898666797,
           "RandomizedSearchCV",
           "cp"
          ],
          [
           0.4604844898666797,
           "RandomizedSearchCV",
           "cp"
          ],
          [
           0.4604844898666797,
           "RandomizedSearchCV",
           "cp"
          ],
          [
           0.4604844898666797,
           "RandomizedSearchCV",
           "cp"
          ],
          [
           0.4604844898666797,
           "RandomizedSearchCV",
           "cp"
          ],
          [
           0.4604844898666797,
           "RandomizedSearchCV",
           "cp"
          ],
          [
           0.4604844898666797,
           "RandomizedSearchCV",
           "cp"
          ],
          [
           0.4604844898666797,
           "RandomizedSearchCV",
           "cp"
          ],
          [
           0.4604844898666797,
           "RandomizedSearchCV",
           "cp"
          ],
          [
           0.4604844898666797,
           "RandomizedSearchCV",
           "cp"
          ],
          [
           0.4604844898666797,
           "RandomizedSearchCV",
           "cp"
          ],
          [
           0.4604844898666797,
           "RandomizedSearchCV",
           "cp"
          ],
          [
           0.4604844898666797,
           "RandomizedSearchCV",
           "cp"
          ],
          [
           0.4604844898666797,
           "RandomizedSearchCV",
           "cp"
          ],
          [
           0.4604844898666797,
           "RandomizedSearchCV",
           "cp"
          ],
          [
           0.4604844898666797,
           "RandomizedSearchCV",
           "cp"
          ],
          [
           0.4604844898666797,
           "RandomizedSearchCV",
           "cp"
          ],
          [
           0.4604844898666797,
           "RandomizedSearchCV",
           "cp"
          ],
          [
           0.4604844898666797,
           "RandomizedSearchCV",
           "cp"
          ],
          [
           0.4604844898666797,
           "RandomizedSearchCV",
           "cp"
          ],
          [
           0.4604844898666797,
           "RandomizedSearchCV",
           "cp"
          ],
          [
           0.4604844898666797,
           "RandomizedSearchCV",
           "cp"
          ],
          [
           0.4604844898666797,
           "RandomizedSearchCV",
           "cp"
          ],
          [
           0.4604844898666797,
           "RandomizedSearchCV",
           "cp"
          ],
          [
           0.4604844898666797,
           "RandomizedSearchCV",
           "cp"
          ],
          [
           0.4604844898666797,
           "RandomizedSearchCV",
           "cp"
          ],
          [
           0.4604844898666797,
           "RandomizedSearchCV",
           "cp"
          ],
          [
           0.4604844898666797,
           "RandomizedSearchCV",
           "cp"
          ],
          [
           0.4604844898666797,
           "RandomizedSearchCV",
           "cp"
          ],
          [
           0.4604844898666797,
           "RandomizedSearchCV",
           "cp"
          ],
          [
           0.4604844898666797,
           "RandomizedSearchCV",
           "cp"
          ],
          [
           0.4604844898666797,
           "RandomizedSearchCV",
           "cp"
          ],
          [
           0.4604844898666797,
           "RandomizedSearchCV",
           "cp"
          ],
          [
           0.4604844898666797,
           "RandomizedSearchCV",
           "cp"
          ],
          [
           0.4604844898666797,
           "RandomizedSearchCV",
           "cp"
          ],
          [
           0.4604844898666797,
           "RandomizedSearchCV",
           "cp"
          ],
          [
           0.4604844898666797,
           "RandomizedSearchCV",
           "cp"
          ],
          [
           0.4604844898666797,
           "RandomizedSearchCV",
           "cp"
          ],
          [
           0.4604844898666797,
           "RandomizedSearchCV",
           "cp"
          ],
          [
           0.4604844898666797,
           "RandomizedSearchCV",
           "cp"
          ],
          [
           0.4604844898666797,
           "RandomizedSearchCV",
           "cp"
          ],
          [
           0.4604844898666797,
           "RandomizedSearchCV",
           "cp"
          ],
          [
           0.4604844898666797,
           "RandomizedSearchCV",
           "cp"
          ],
          [
           0.4604844898666797,
           "RandomizedSearchCV",
           "cp"
          ],
          [
           0.4604844898666797,
           "RandomizedSearchCV",
           "cp"
          ],
          [
           0.4604844898666797,
           "RandomizedSearchCV",
           "cp"
          ]
         ],
         "hovertemplate": "<b>%{hovertext}</b><br><br>prediction=%{y:.3f}<br>mean_prediction=%{customdata[0]:.3f}<extra></extra>",
         "hovertext": [
          "RandomizedSearchCV",
          "RandomizedSearchCV",
          "RandomizedSearchCV",
          "RandomizedSearchCV",
          "RandomizedSearchCV",
          "RandomizedSearchCV",
          "RandomizedSearchCV",
          "RandomizedSearchCV",
          "RandomizedSearchCV",
          "RandomizedSearchCV",
          "RandomizedSearchCV",
          "RandomizedSearchCV",
          "RandomizedSearchCV",
          "RandomizedSearchCV",
          "RandomizedSearchCV",
          "RandomizedSearchCV",
          "RandomizedSearchCV",
          "RandomizedSearchCV",
          "RandomizedSearchCV",
          "RandomizedSearchCV",
          "RandomizedSearchCV",
          "RandomizedSearchCV",
          "RandomizedSearchCV",
          "RandomizedSearchCV",
          "RandomizedSearchCV",
          "RandomizedSearchCV",
          "RandomizedSearchCV",
          "RandomizedSearchCV",
          "RandomizedSearchCV",
          "RandomizedSearchCV",
          "RandomizedSearchCV",
          "RandomizedSearchCV",
          "RandomizedSearchCV",
          "RandomizedSearchCV",
          "RandomizedSearchCV",
          "RandomizedSearchCV",
          "RandomizedSearchCV",
          "RandomizedSearchCV",
          "RandomizedSearchCV",
          "RandomizedSearchCV",
          "RandomizedSearchCV",
          "RandomizedSearchCV",
          "RandomizedSearchCV",
          "RandomizedSearchCV",
          "RandomizedSearchCV",
          "RandomizedSearchCV",
          "RandomizedSearchCV",
          "RandomizedSearchCV",
          "RandomizedSearchCV",
          "RandomizedSearchCV",
          "RandomizedSearchCV",
          "RandomizedSearchCV",
          "RandomizedSearchCV",
          "RandomizedSearchCV",
          "RandomizedSearchCV",
          "RandomizedSearchCV",
          "RandomizedSearchCV",
          "RandomizedSearchCV",
          "RandomizedSearchCV",
          "RandomizedSearchCV",
          "RandomizedSearchCV",
          "RandomizedSearchCV",
          "RandomizedSearchCV",
          "RandomizedSearchCV",
          "RandomizedSearchCV",
          "RandomizedSearchCV",
          "RandomizedSearchCV",
          "RandomizedSearchCV",
          "RandomizedSearchCV",
          "RandomizedSearchCV",
          "RandomizedSearchCV",
          "RandomizedSearchCV",
          "RandomizedSearchCV",
          "RandomizedSearchCV",
          "RandomizedSearchCV",
          "RandomizedSearchCV",
          "RandomizedSearchCV",
          "RandomizedSearchCV",
          "RandomizedSearchCV",
          "RandomizedSearchCV",
          "RandomizedSearchCV",
          "RandomizedSearchCV",
          "RandomizedSearchCV",
          "RandomizedSearchCV",
          "RandomizedSearchCV",
          "RandomizedSearchCV",
          "RandomizedSearchCV",
          "RandomizedSearchCV",
          "RandomizedSearchCV",
          "RandomizedSearchCV",
          "RandomizedSearchCV",
          "RandomizedSearchCV",
          "RandomizedSearchCV",
          "RandomizedSearchCV",
          "RandomizedSearchCV",
          "RandomizedSearchCV",
          "RandomizedSearchCV",
          "RandomizedSearchCV",
          "RandomizedSearchCV",
          "RandomizedSearchCV",
          "RandomizedSearchCV"
         ],
         "legendgroup": "RandomizedSearchCV",
         "line": {
          "color": "#46bac2",
          "dash": "solid",
          "width": 2
         },
         "marker": {
          "symbol": "circle"
         },
         "mode": "lines",
         "name": "RandomizedSearchCV",
         "opacity": 1,
         "orientation": "v",
         "showlegend": false,
         "type": "scatter",
         "x": [
          0,
          0.03,
          0.06,
          0.09,
          0.12,
          0.15,
          0.18,
          0.21,
          0.24,
          0.27,
          0.3,
          0.32999999999999996,
          0.36,
          0.39,
          0.42,
          0.44999999999999996,
          0.48,
          0.51,
          0.54,
          0.57,
          0.6,
          0.63,
          0.6599999999999999,
          0.69,
          0.72,
          0.75,
          0.78,
          0.8099999999999999,
          0.84,
          0.87,
          0.8999999999999999,
          0.9299999999999999,
          0.96,
          0.99,
          1.02,
          1.05,
          1.08,
          1.1099999999999999,
          1.14,
          1.17,
          1.2,
          1.23,
          1.26,
          1.29,
          1.3199999999999998,
          1.3499999999999999,
          1.38,
          1.41,
          1.44,
          1.47,
          1.5,
          1.53,
          1.56,
          1.5899999999999999,
          1.6199999999999999,
          1.65,
          1.68,
          1.71,
          1.74,
          1.77,
          1.7999999999999998,
          1.8299999999999998,
          1.8599999999999999,
          1.89,
          1.92,
          1.95,
          1.98,
          2.01,
          2.04,
          2.07,
          2.1,
          2.13,
          2.16,
          2.19,
          2.2199999999999998,
          2.25,
          2.28,
          2.31,
          2.34,
          2.37,
          2.4,
          2.4299999999999997,
          2.46,
          2.4899999999999998,
          2.52,
          2.55,
          2.58,
          2.61,
          2.6399999999999997,
          2.67,
          2.6999999999999997,
          2.73,
          2.76,
          2.79,
          2.82,
          2.85,
          2.88,
          2.9099999999999997,
          2.94,
          2.9699999999999998,
          3
         ],
         "xaxis": "x11",
         "y": [
          0.3831819646171061,
          0.38424497894590337,
          0.3853093758671216,
          0.3863751527671506,
          0.3874423069891973,
          0.38851083583296897,
          0.3895807365543593,
          0.39065200636513614,
          0.39172464243263233,
          0.39279864187943814,
          0.39387400178309684,
          0.39495071917580216,
          0.39602879104409844,
          0.3971082143285826,
          0.3981889859236096,
          0.3992711026769987,
          0.4003545613897441,
          0.4014393588157257,
          0.40252549166142404,
          0.403612956585637,
          0.40470175019919846,
          0.40579186906470016,
          0.4068833096962151,
          0.4079760685590238,
          0.40907014206934295,
          0.410165526594056,
          0.41126221845044664,
          0.4123602139059342,
          0.41345950917781155,
          0.41456010043298536,
          0.41566198378771885,
          0.41676515530737634,
          0.4178696110061708,
          0.4189753468469133,
          0.4200823587407648,
          0.4211906425469905,
          0.42230019407271635,
          0.4234110090726875,
          0.42452308324903,
          0.4256364122510137,
          0.4267509916748182,
          0.42786681706330115,
          0.4289838839057677,
          0.43010218763774405,
          0.43122172364075184,
          0.43234248724208546,
          0.43346447371459146,
          0.4345876782764504,
          0.43571209609096107,
          0.4368377222663264,
          0.4379645518554426,
          0.43909257985568984,
          0.4402218012087258,
          0.44135221080028075,
          0.4424838034599561,
          0.4436165739610239,
          0.44475051702023005,
          0.4458856272975987,
          0.4470218993962396,
          0.44815932786215784,
          0.4492979071840653,
          0.4504376317931956,
          0.45157849606312006,
          0.4527204943095673,
          0.45386362079024445,
          0.455007869704661,
          0.45615323519395534,
          0.457299711340723,
          0.4584472921688486,
          0.459595971643339,
          0.4607457436701596,
          0.4618966020960732,
          0.46304854070848106,
          0.4642015532352669,
          0.4653556333446431,
          0.46651077464499974,
          0.4676669706847562,
          0.46882421495221566,
          0.46998250087542137,
          0.4711418218220171,
          0.47230217109910877,
          0.47346354195313,
          0.47462592756970995,
          0.47578932107354355,
          0.47695371552826565,
          0.4781191039363271,
          0.479285479238874,
          0.48045283431563,
          0.48162116198478166,
          0.4827904550028665,
          0.483960706064664,
          0.4851319078030904,
          0.48630405278909594,
          0.48747713353156524,
          0.4886511424772212,
          0.4898260720105319,
          0.49100191445362107,
          0.4921786620661815,
          0.4933563070453916,
          0.4945348415258361,
          0.49571425757942966
         ],
         "yaxis": "y11"
        },
        {
         "customdata": [
          [
           0.4604844898666797,
           "RandomizedSearchCV",
           "trestbps"
          ],
          [
           0.4604844898666797,
           "RandomizedSearchCV",
           "trestbps"
          ],
          [
           0.4604844898666797,
           "RandomizedSearchCV",
           "trestbps"
          ],
          [
           0.4604844898666797,
           "RandomizedSearchCV",
           "trestbps"
          ],
          [
           0.4604844898666797,
           "RandomizedSearchCV",
           "trestbps"
          ],
          [
           0.4604844898666797,
           "RandomizedSearchCV",
           "trestbps"
          ],
          [
           0.4604844898666797,
           "RandomizedSearchCV",
           "trestbps"
          ],
          [
           0.4604844898666797,
           "RandomizedSearchCV",
           "trestbps"
          ],
          [
           0.4604844898666797,
           "RandomizedSearchCV",
           "trestbps"
          ],
          [
           0.4604844898666797,
           "RandomizedSearchCV",
           "trestbps"
          ],
          [
           0.4604844898666797,
           "RandomizedSearchCV",
           "trestbps"
          ],
          [
           0.4604844898666797,
           "RandomizedSearchCV",
           "trestbps"
          ],
          [
           0.4604844898666797,
           "RandomizedSearchCV",
           "trestbps"
          ],
          [
           0.4604844898666797,
           "RandomizedSearchCV",
           "trestbps"
          ],
          [
           0.4604844898666797,
           "RandomizedSearchCV",
           "trestbps"
          ],
          [
           0.4604844898666797,
           "RandomizedSearchCV",
           "trestbps"
          ],
          [
           0.4604844898666797,
           "RandomizedSearchCV",
           "trestbps"
          ],
          [
           0.4604844898666797,
           "RandomizedSearchCV",
           "trestbps"
          ],
          [
           0.4604844898666797,
           "RandomizedSearchCV",
           "trestbps"
          ],
          [
           0.4604844898666797,
           "RandomizedSearchCV",
           "trestbps"
          ],
          [
           0.4604844898666797,
           "RandomizedSearchCV",
           "trestbps"
          ],
          [
           0.4604844898666797,
           "RandomizedSearchCV",
           "trestbps"
          ],
          [
           0.4604844898666797,
           "RandomizedSearchCV",
           "trestbps"
          ],
          [
           0.4604844898666797,
           "RandomizedSearchCV",
           "trestbps"
          ],
          [
           0.4604844898666797,
           "RandomizedSearchCV",
           "trestbps"
          ],
          [
           0.4604844898666797,
           "RandomizedSearchCV",
           "trestbps"
          ],
          [
           0.4604844898666797,
           "RandomizedSearchCV",
           "trestbps"
          ],
          [
           0.4604844898666797,
           "RandomizedSearchCV",
           "trestbps"
          ],
          [
           0.4604844898666797,
           "RandomizedSearchCV",
           "trestbps"
          ],
          [
           0.4604844898666797,
           "RandomizedSearchCV",
           "trestbps"
          ],
          [
           0.4604844898666797,
           "RandomizedSearchCV",
           "trestbps"
          ],
          [
           0.4604844898666797,
           "RandomizedSearchCV",
           "trestbps"
          ],
          [
           0.4604844898666797,
           "RandomizedSearchCV",
           "trestbps"
          ],
          [
           0.4604844898666797,
           "RandomizedSearchCV",
           "trestbps"
          ],
          [
           0.4604844898666797,
           "RandomizedSearchCV",
           "trestbps"
          ],
          [
           0.4604844898666797,
           "RandomizedSearchCV",
           "trestbps"
          ],
          [
           0.4604844898666797,
           "RandomizedSearchCV",
           "trestbps"
          ],
          [
           0.4604844898666797,
           "RandomizedSearchCV",
           "trestbps"
          ],
          [
           0.4604844898666797,
           "RandomizedSearchCV",
           "trestbps"
          ],
          [
           0.4604844898666797,
           "RandomizedSearchCV",
           "trestbps"
          ],
          [
           0.4604844898666797,
           "RandomizedSearchCV",
           "trestbps"
          ],
          [
           0.4604844898666797,
           "RandomizedSearchCV",
           "trestbps"
          ],
          [
           0.4604844898666797,
           "RandomizedSearchCV",
           "trestbps"
          ],
          [
           0.4604844898666797,
           "RandomizedSearchCV",
           "trestbps"
          ],
          [
           0.4604844898666797,
           "RandomizedSearchCV",
           "trestbps"
          ],
          [
           0.4604844898666797,
           "RandomizedSearchCV",
           "trestbps"
          ],
          [
           0.4604844898666797,
           "RandomizedSearchCV",
           "trestbps"
          ],
          [
           0.4604844898666797,
           "RandomizedSearchCV",
           "trestbps"
          ],
          [
           0.4604844898666797,
           "RandomizedSearchCV",
           "trestbps"
          ],
          [
           0.4604844898666797,
           "RandomizedSearchCV",
           "trestbps"
          ],
          [
           0.4604844898666797,
           "RandomizedSearchCV",
           "trestbps"
          ],
          [
           0.4604844898666797,
           "RandomizedSearchCV",
           "trestbps"
          ],
          [
           0.4604844898666797,
           "RandomizedSearchCV",
           "trestbps"
          ],
          [
           0.4604844898666797,
           "RandomizedSearchCV",
           "trestbps"
          ],
          [
           0.4604844898666797,
           "RandomizedSearchCV",
           "trestbps"
          ],
          [
           0.4604844898666797,
           "RandomizedSearchCV",
           "trestbps"
          ],
          [
           0.4604844898666797,
           "RandomizedSearchCV",
           "trestbps"
          ],
          [
           0.4604844898666797,
           "RandomizedSearchCV",
           "trestbps"
          ],
          [
           0.4604844898666797,
           "RandomizedSearchCV",
           "trestbps"
          ],
          [
           0.4604844898666797,
           "RandomizedSearchCV",
           "trestbps"
          ],
          [
           0.4604844898666797,
           "RandomizedSearchCV",
           "trestbps"
          ],
          [
           0.4604844898666797,
           "RandomizedSearchCV",
           "trestbps"
          ],
          [
           0.4604844898666797,
           "RandomizedSearchCV",
           "trestbps"
          ],
          [
           0.4604844898666797,
           "RandomizedSearchCV",
           "trestbps"
          ],
          [
           0.4604844898666797,
           "RandomizedSearchCV",
           "trestbps"
          ],
          [
           0.4604844898666797,
           "RandomizedSearchCV",
           "trestbps"
          ],
          [
           0.4604844898666797,
           "RandomizedSearchCV",
           "trestbps"
          ],
          [
           0.4604844898666797,
           "RandomizedSearchCV",
           "trestbps"
          ],
          [
           0.4604844898666797,
           "RandomizedSearchCV",
           "trestbps"
          ],
          [
           0.4604844898666797,
           "RandomizedSearchCV",
           "trestbps"
          ],
          [
           0.4604844898666797,
           "RandomizedSearchCV",
           "trestbps"
          ],
          [
           0.4604844898666797,
           "RandomizedSearchCV",
           "trestbps"
          ],
          [
           0.4604844898666797,
           "RandomizedSearchCV",
           "trestbps"
          ],
          [
           0.4604844898666797,
           "RandomizedSearchCV",
           "trestbps"
          ],
          [
           0.4604844898666797,
           "RandomizedSearchCV",
           "trestbps"
          ],
          [
           0.4604844898666797,
           "RandomizedSearchCV",
           "trestbps"
          ],
          [
           0.4604844898666797,
           "RandomizedSearchCV",
           "trestbps"
          ],
          [
           0.4604844898666797,
           "RandomizedSearchCV",
           "trestbps"
          ],
          [
           0.4604844898666797,
           "RandomizedSearchCV",
           "trestbps"
          ],
          [
           0.4604844898666797,
           "RandomizedSearchCV",
           "trestbps"
          ],
          [
           0.4604844898666797,
           "RandomizedSearchCV",
           "trestbps"
          ],
          [
           0.4604844898666797,
           "RandomizedSearchCV",
           "trestbps"
          ],
          [
           0.4604844898666797,
           "RandomizedSearchCV",
           "trestbps"
          ],
          [
           0.4604844898666797,
           "RandomizedSearchCV",
           "trestbps"
          ],
          [
           0.4604844898666797,
           "RandomizedSearchCV",
           "trestbps"
          ],
          [
           0.4604844898666797,
           "RandomizedSearchCV",
           "trestbps"
          ],
          [
           0.4604844898666797,
           "RandomizedSearchCV",
           "trestbps"
          ],
          [
           0.4604844898666797,
           "RandomizedSearchCV",
           "trestbps"
          ],
          [
           0.4604844898666797,
           "RandomizedSearchCV",
           "trestbps"
          ],
          [
           0.4604844898666797,
           "RandomizedSearchCV",
           "trestbps"
          ],
          [
           0.4604844898666797,
           "RandomizedSearchCV",
           "trestbps"
          ],
          [
           0.4604844898666797,
           "RandomizedSearchCV",
           "trestbps"
          ],
          [
           0.4604844898666797,
           "RandomizedSearchCV",
           "trestbps"
          ],
          [
           0.4604844898666797,
           "RandomizedSearchCV",
           "trestbps"
          ],
          [
           0.4604844898666797,
           "RandomizedSearchCV",
           "trestbps"
          ],
          [
           0.4604844898666797,
           "RandomizedSearchCV",
           "trestbps"
          ],
          [
           0.4604844898666797,
           "RandomizedSearchCV",
           "trestbps"
          ],
          [
           0.4604844898666797,
           "RandomizedSearchCV",
           "trestbps"
          ],
          [
           0.4604844898666797,
           "RandomizedSearchCV",
           "trestbps"
          ],
          [
           0.4604844898666797,
           "RandomizedSearchCV",
           "trestbps"
          ],
          [
           0.4604844898666797,
           "RandomizedSearchCV",
           "trestbps"
          ]
         ],
         "hovertemplate": "<b>%{hovertext}</b><br><br>prediction=%{y:.3f}<br>mean_prediction=%{customdata[0]:.3f}<extra></extra>",
         "hovertext": [
          "RandomizedSearchCV",
          "RandomizedSearchCV",
          "RandomizedSearchCV",
          "RandomizedSearchCV",
          "RandomizedSearchCV",
          "RandomizedSearchCV",
          "RandomizedSearchCV",
          "RandomizedSearchCV",
          "RandomizedSearchCV",
          "RandomizedSearchCV",
          "RandomizedSearchCV",
          "RandomizedSearchCV",
          "RandomizedSearchCV",
          "RandomizedSearchCV",
          "RandomizedSearchCV",
          "RandomizedSearchCV",
          "RandomizedSearchCV",
          "RandomizedSearchCV",
          "RandomizedSearchCV",
          "RandomizedSearchCV",
          "RandomizedSearchCV",
          "RandomizedSearchCV",
          "RandomizedSearchCV",
          "RandomizedSearchCV",
          "RandomizedSearchCV",
          "RandomizedSearchCV",
          "RandomizedSearchCV",
          "RandomizedSearchCV",
          "RandomizedSearchCV",
          "RandomizedSearchCV",
          "RandomizedSearchCV",
          "RandomizedSearchCV",
          "RandomizedSearchCV",
          "RandomizedSearchCV",
          "RandomizedSearchCV",
          "RandomizedSearchCV",
          "RandomizedSearchCV",
          "RandomizedSearchCV",
          "RandomizedSearchCV",
          "RandomizedSearchCV",
          "RandomizedSearchCV",
          "RandomizedSearchCV",
          "RandomizedSearchCV",
          "RandomizedSearchCV",
          "RandomizedSearchCV",
          "RandomizedSearchCV",
          "RandomizedSearchCV",
          "RandomizedSearchCV",
          "RandomizedSearchCV",
          "RandomizedSearchCV",
          "RandomizedSearchCV",
          "RandomizedSearchCV",
          "RandomizedSearchCV",
          "RandomizedSearchCV",
          "RandomizedSearchCV",
          "RandomizedSearchCV",
          "RandomizedSearchCV",
          "RandomizedSearchCV",
          "RandomizedSearchCV",
          "RandomizedSearchCV",
          "RandomizedSearchCV",
          "RandomizedSearchCV",
          "RandomizedSearchCV",
          "RandomizedSearchCV",
          "RandomizedSearchCV",
          "RandomizedSearchCV",
          "RandomizedSearchCV",
          "RandomizedSearchCV",
          "RandomizedSearchCV",
          "RandomizedSearchCV",
          "RandomizedSearchCV",
          "RandomizedSearchCV",
          "RandomizedSearchCV",
          "RandomizedSearchCV",
          "RandomizedSearchCV",
          "RandomizedSearchCV",
          "RandomizedSearchCV",
          "RandomizedSearchCV",
          "RandomizedSearchCV",
          "RandomizedSearchCV",
          "RandomizedSearchCV",
          "RandomizedSearchCV",
          "RandomizedSearchCV",
          "RandomizedSearchCV",
          "RandomizedSearchCV",
          "RandomizedSearchCV",
          "RandomizedSearchCV",
          "RandomizedSearchCV",
          "RandomizedSearchCV",
          "RandomizedSearchCV",
          "RandomizedSearchCV",
          "RandomizedSearchCV",
          "RandomizedSearchCV",
          "RandomizedSearchCV",
          "RandomizedSearchCV",
          "RandomizedSearchCV",
          "RandomizedSearchCV",
          "RandomizedSearchCV",
          "RandomizedSearchCV",
          "RandomizedSearchCV",
          "RandomizedSearchCV"
         ],
         "legendgroup": "RandomizedSearchCV",
         "line": {
          "color": "#46bac2",
          "dash": "solid",
          "width": 2
         },
         "marker": {
          "symbol": "circle"
         },
         "mode": "lines",
         "name": "RandomizedSearchCV",
         "opacity": 1,
         "orientation": "v",
         "showlegend": false,
         "type": "scatter",
         "x": [
          94,
          94.86,
          95.72,
          96.58,
          97.44,
          98.3,
          99.16,
          100.02,
          100.88,
          101.74,
          102.6,
          103.46,
          104.32,
          105.18,
          106.03999999999999,
          106.9,
          107.76,
          108.62,
          109.48,
          110.34,
          111.2,
          112.06,
          112.92,
          113.78,
          114.64,
          115.5,
          116.36,
          117.22,
          118.08,
          118.94,
          119.8,
          120.66,
          121.52,
          122.38,
          123.24,
          124.1,
          124.96000000000001,
          125.82,
          126.68,
          127.53999999999999,
          128.4,
          129.26,
          130.12,
          130.98,
          131.84,
          132.7,
          133.56,
          134.42000000000002,
          135.28,
          136.14,
          137,
          137.86,
          138.72,
          139.57999999999998,
          140.44,
          141.3,
          142.16,
          143.01999999999998,
          143.88,
          144.74,
          145.6,
          146.46,
          147.32,
          148.18,
          149.04,
          149.9,
          150.76,
          151.62,
          152.48,
          153.34,
          154.2,
          155.06,
          155.92000000000002,
          156.78,
          157.64,
          158.5,
          159.36,
          160.22,
          161.07999999999998,
          161.94,
          162.8,
          163.66,
          164.51999999999998,
          165.38,
          166.24,
          167.1,
          167.95999999999998,
          168.82,
          169.68,
          170.54,
          171.4,
          172.26,
          173.12,
          173.98000000000002,
          174.84,
          175.7,
          176.56,
          177.42000000000002,
          178.28,
          179.14,
          180
         ],
         "xaxis": "x12",
         "y": [
          0.3756800995248805,
          0.3776140855983585,
          0.3795526377338503,
          0.38149575751473347,
          0.38344344627216154,
          0.385395705068746,
          0.3873525346820644,
          0.38931393558800087,
          0.3912799079439261,
          0.3932504515717225,
          0.3952255659406638,
          0.39720525015015445,
          0.3991895029123383,
          0.40117832253458346,
          0.403171706901853,
          0.4051696534589689,
          0.4071721591927791,
          0.4091792206142374,
          0.4111908337404043,
          0.4132069940763809,
          0.41522769659718384,
          0.4172529357295741,
          0.4192827053338484,
          0.42131699868560574,
          0.42335580845750065,
          0.42539912670099295,
          0.42744694482810913,
          0.4294992535932241,
          0.4315560430748789,
          0.4336173026576446,
          0.43568302101404777,
          0.43775318608656805,
          0.4398277850697235,
          0.4419068043922563,
          0.44399022969943264,
          0.44607804583547045,
          0.4481702368261102,
          0.45026678586134145,
          0.45236767527830096,
          0.4544728865443557,
          0.4565824002403859,
          0.45869619604428236,
          0.46081425271467374,
          0.46293654807489676,
          0.4650630589972251,
          0.4671937613873719,
          0.4693286301692799,
          0.4714676392702139,
          0.4736107616061703,
          0.47575796906761814,
          0.4779092325055854,
          0.48006452171810565,
          0.4822238054370379,
          0.4843870513152749,
          0.486554225914352,
          0.48872529469247067,
          0.4909002219929503,
          0.4930789710331202,
          0.4952615038936646,
          0.4974477815084336,
          0.49963776365473106,
          0.5018314089440918,
          0.5040286748135584,
          0.5062295175174693,
          0.5084338921197683,
          0.5106417524868453,
          0.5128530512809174,
          0.515067739953961,
          0.5172857687422009,
          0.5195070866611676,
          0.5217316415013274,
          0.523959379824295,
          0.5261902469596326,
          0.5284241870022446,
          0.5306611428103698,
          0.5329010560041794,
          0.5351438669649823,
          0.5373895148350437,
          0.5396379375180191,
          0.5418890716800061,
          0.5441428527512164,
          0.5463992149282706,
          0.5486580911771142,
          0.5509194132365568,
          0.5531831116224349,
          0.5554491156323945,
          0.5577173533512957,
          0.5599877516572349,
          0.5622602362281822,
          0.5645347315492318,
          0.566811160920462,
          0.5690894464653983,
          0.5713695091400778,
          0.5736512687427081,
          0.5759346439239148,
          0.5782195521975724,
          0.5805059099522119,
          0.5827936324629956,
          0.5850826339042565,
          0.5873728273625891,
          0.5896641248504865
         ],
         "yaxis": "y12"
        },
        {
         "customdata": [
          [
           0.4604844898666797,
           "RandomizedSearchCV",
           "chol"
          ],
          [
           0.4604844898666797,
           "RandomizedSearchCV",
           "chol"
          ],
          [
           0.4604844898666797,
           "RandomizedSearchCV",
           "chol"
          ],
          [
           0.4604844898666797,
           "RandomizedSearchCV",
           "chol"
          ],
          [
           0.4604844898666797,
           "RandomizedSearchCV",
           "chol"
          ],
          [
           0.4604844898666797,
           "RandomizedSearchCV",
           "chol"
          ],
          [
           0.4604844898666797,
           "RandomizedSearchCV",
           "chol"
          ],
          [
           0.4604844898666797,
           "RandomizedSearchCV",
           "chol"
          ],
          [
           0.4604844898666797,
           "RandomizedSearchCV",
           "chol"
          ],
          [
           0.4604844898666797,
           "RandomizedSearchCV",
           "chol"
          ],
          [
           0.4604844898666797,
           "RandomizedSearchCV",
           "chol"
          ],
          [
           0.4604844898666797,
           "RandomizedSearchCV",
           "chol"
          ],
          [
           0.4604844898666797,
           "RandomizedSearchCV",
           "chol"
          ],
          [
           0.4604844898666797,
           "RandomizedSearchCV",
           "chol"
          ],
          [
           0.4604844898666797,
           "RandomizedSearchCV",
           "chol"
          ],
          [
           0.4604844898666797,
           "RandomizedSearchCV",
           "chol"
          ],
          [
           0.4604844898666797,
           "RandomizedSearchCV",
           "chol"
          ],
          [
           0.4604844898666797,
           "RandomizedSearchCV",
           "chol"
          ],
          [
           0.4604844898666797,
           "RandomizedSearchCV",
           "chol"
          ],
          [
           0.4604844898666797,
           "RandomizedSearchCV",
           "chol"
          ],
          [
           0.4604844898666797,
           "RandomizedSearchCV",
           "chol"
          ],
          [
           0.4604844898666797,
           "RandomizedSearchCV",
           "chol"
          ],
          [
           0.4604844898666797,
           "RandomizedSearchCV",
           "chol"
          ],
          [
           0.4604844898666797,
           "RandomizedSearchCV",
           "chol"
          ],
          [
           0.4604844898666797,
           "RandomizedSearchCV",
           "chol"
          ],
          [
           0.4604844898666797,
           "RandomizedSearchCV",
           "chol"
          ],
          [
           0.4604844898666797,
           "RandomizedSearchCV",
           "chol"
          ],
          [
           0.4604844898666797,
           "RandomizedSearchCV",
           "chol"
          ],
          [
           0.4604844898666797,
           "RandomizedSearchCV",
           "chol"
          ],
          [
           0.4604844898666797,
           "RandomizedSearchCV",
           "chol"
          ],
          [
           0.4604844898666797,
           "RandomizedSearchCV",
           "chol"
          ],
          [
           0.4604844898666797,
           "RandomizedSearchCV",
           "chol"
          ],
          [
           0.4604844898666797,
           "RandomizedSearchCV",
           "chol"
          ],
          [
           0.4604844898666797,
           "RandomizedSearchCV",
           "chol"
          ],
          [
           0.4604844898666797,
           "RandomizedSearchCV",
           "chol"
          ],
          [
           0.4604844898666797,
           "RandomizedSearchCV",
           "chol"
          ],
          [
           0.4604844898666797,
           "RandomizedSearchCV",
           "chol"
          ],
          [
           0.4604844898666797,
           "RandomizedSearchCV",
           "chol"
          ],
          [
           0.4604844898666797,
           "RandomizedSearchCV",
           "chol"
          ],
          [
           0.4604844898666797,
           "RandomizedSearchCV",
           "chol"
          ],
          [
           0.4604844898666797,
           "RandomizedSearchCV",
           "chol"
          ],
          [
           0.4604844898666797,
           "RandomizedSearchCV",
           "chol"
          ],
          [
           0.4604844898666797,
           "RandomizedSearchCV",
           "chol"
          ],
          [
           0.4604844898666797,
           "RandomizedSearchCV",
           "chol"
          ],
          [
           0.4604844898666797,
           "RandomizedSearchCV",
           "chol"
          ],
          [
           0.4604844898666797,
           "RandomizedSearchCV",
           "chol"
          ],
          [
           0.4604844898666797,
           "RandomizedSearchCV",
           "chol"
          ],
          [
           0.4604844898666797,
           "RandomizedSearchCV",
           "chol"
          ],
          [
           0.4604844898666797,
           "RandomizedSearchCV",
           "chol"
          ],
          [
           0.4604844898666797,
           "RandomizedSearchCV",
           "chol"
          ],
          [
           0.4604844898666797,
           "RandomizedSearchCV",
           "chol"
          ],
          [
           0.4604844898666797,
           "RandomizedSearchCV",
           "chol"
          ],
          [
           0.4604844898666797,
           "RandomizedSearchCV",
           "chol"
          ],
          [
           0.4604844898666797,
           "RandomizedSearchCV",
           "chol"
          ],
          [
           0.4604844898666797,
           "RandomizedSearchCV",
           "chol"
          ],
          [
           0.4604844898666797,
           "RandomizedSearchCV",
           "chol"
          ],
          [
           0.4604844898666797,
           "RandomizedSearchCV",
           "chol"
          ],
          [
           0.4604844898666797,
           "RandomizedSearchCV",
           "chol"
          ],
          [
           0.4604844898666797,
           "RandomizedSearchCV",
           "chol"
          ],
          [
           0.4604844898666797,
           "RandomizedSearchCV",
           "chol"
          ],
          [
           0.4604844898666797,
           "RandomizedSearchCV",
           "chol"
          ],
          [
           0.4604844898666797,
           "RandomizedSearchCV",
           "chol"
          ],
          [
           0.4604844898666797,
           "RandomizedSearchCV",
           "chol"
          ],
          [
           0.4604844898666797,
           "RandomizedSearchCV",
           "chol"
          ],
          [
           0.4604844898666797,
           "RandomizedSearchCV",
           "chol"
          ],
          [
           0.4604844898666797,
           "RandomizedSearchCV",
           "chol"
          ],
          [
           0.4604844898666797,
           "RandomizedSearchCV",
           "chol"
          ],
          [
           0.4604844898666797,
           "RandomizedSearchCV",
           "chol"
          ],
          [
           0.4604844898666797,
           "RandomizedSearchCV",
           "chol"
          ],
          [
           0.4604844898666797,
           "RandomizedSearchCV",
           "chol"
          ],
          [
           0.4604844898666797,
           "RandomizedSearchCV",
           "chol"
          ],
          [
           0.4604844898666797,
           "RandomizedSearchCV",
           "chol"
          ],
          [
           0.4604844898666797,
           "RandomizedSearchCV",
           "chol"
          ],
          [
           0.4604844898666797,
           "RandomizedSearchCV",
           "chol"
          ],
          [
           0.4604844898666797,
           "RandomizedSearchCV",
           "chol"
          ],
          [
           0.4604844898666797,
           "RandomizedSearchCV",
           "chol"
          ],
          [
           0.4604844898666797,
           "RandomizedSearchCV",
           "chol"
          ],
          [
           0.4604844898666797,
           "RandomizedSearchCV",
           "chol"
          ],
          [
           0.4604844898666797,
           "RandomizedSearchCV",
           "chol"
          ],
          [
           0.4604844898666797,
           "RandomizedSearchCV",
           "chol"
          ],
          [
           0.4604844898666797,
           "RandomizedSearchCV",
           "chol"
          ],
          [
           0.4604844898666797,
           "RandomizedSearchCV",
           "chol"
          ],
          [
           0.4604844898666797,
           "RandomizedSearchCV",
           "chol"
          ],
          [
           0.4604844898666797,
           "RandomizedSearchCV",
           "chol"
          ],
          [
           0.4604844898666797,
           "RandomizedSearchCV",
           "chol"
          ],
          [
           0.4604844898666797,
           "RandomizedSearchCV",
           "chol"
          ],
          [
           0.4604844898666797,
           "RandomizedSearchCV",
           "chol"
          ],
          [
           0.4604844898666797,
           "RandomizedSearchCV",
           "chol"
          ],
          [
           0.4604844898666797,
           "RandomizedSearchCV",
           "chol"
          ],
          [
           0.4604844898666797,
           "RandomizedSearchCV",
           "chol"
          ],
          [
           0.4604844898666797,
           "RandomizedSearchCV",
           "chol"
          ],
          [
           0.4604844898666797,
           "RandomizedSearchCV",
           "chol"
          ],
          [
           0.4604844898666797,
           "RandomizedSearchCV",
           "chol"
          ],
          [
           0.4604844898666797,
           "RandomizedSearchCV",
           "chol"
          ],
          [
           0.4604844898666797,
           "RandomizedSearchCV",
           "chol"
          ],
          [
           0.4604844898666797,
           "RandomizedSearchCV",
           "chol"
          ],
          [
           0.4604844898666797,
           "RandomizedSearchCV",
           "chol"
          ],
          [
           0.4604844898666797,
           "RandomizedSearchCV",
           "chol"
          ],
          [
           0.4604844898666797,
           "RandomizedSearchCV",
           "chol"
          ],
          [
           0.4604844898666797,
           "RandomizedSearchCV",
           "chol"
          ],
          [
           0.4604844898666797,
           "RandomizedSearchCV",
           "chol"
          ]
         ],
         "hovertemplate": "<b>%{hovertext}</b><br><br>prediction=%{y:.3f}<br>mean_prediction=%{customdata[0]:.3f}<extra></extra>",
         "hovertext": [
          "RandomizedSearchCV",
          "RandomizedSearchCV",
          "RandomizedSearchCV",
          "RandomizedSearchCV",
          "RandomizedSearchCV",
          "RandomizedSearchCV",
          "RandomizedSearchCV",
          "RandomizedSearchCV",
          "RandomizedSearchCV",
          "RandomizedSearchCV",
          "RandomizedSearchCV",
          "RandomizedSearchCV",
          "RandomizedSearchCV",
          "RandomizedSearchCV",
          "RandomizedSearchCV",
          "RandomizedSearchCV",
          "RandomizedSearchCV",
          "RandomizedSearchCV",
          "RandomizedSearchCV",
          "RandomizedSearchCV",
          "RandomizedSearchCV",
          "RandomizedSearchCV",
          "RandomizedSearchCV",
          "RandomizedSearchCV",
          "RandomizedSearchCV",
          "RandomizedSearchCV",
          "RandomizedSearchCV",
          "RandomizedSearchCV",
          "RandomizedSearchCV",
          "RandomizedSearchCV",
          "RandomizedSearchCV",
          "RandomizedSearchCV",
          "RandomizedSearchCV",
          "RandomizedSearchCV",
          "RandomizedSearchCV",
          "RandomizedSearchCV",
          "RandomizedSearchCV",
          "RandomizedSearchCV",
          "RandomizedSearchCV",
          "RandomizedSearchCV",
          "RandomizedSearchCV",
          "RandomizedSearchCV",
          "RandomizedSearchCV",
          "RandomizedSearchCV",
          "RandomizedSearchCV",
          "RandomizedSearchCV",
          "RandomizedSearchCV",
          "RandomizedSearchCV",
          "RandomizedSearchCV",
          "RandomizedSearchCV",
          "RandomizedSearchCV",
          "RandomizedSearchCV",
          "RandomizedSearchCV",
          "RandomizedSearchCV",
          "RandomizedSearchCV",
          "RandomizedSearchCV",
          "RandomizedSearchCV",
          "RandomizedSearchCV",
          "RandomizedSearchCV",
          "RandomizedSearchCV",
          "RandomizedSearchCV",
          "RandomizedSearchCV",
          "RandomizedSearchCV",
          "RandomizedSearchCV",
          "RandomizedSearchCV",
          "RandomizedSearchCV",
          "RandomizedSearchCV",
          "RandomizedSearchCV",
          "RandomizedSearchCV",
          "RandomizedSearchCV",
          "RandomizedSearchCV",
          "RandomizedSearchCV",
          "RandomizedSearchCV",
          "RandomizedSearchCV",
          "RandomizedSearchCV",
          "RandomizedSearchCV",
          "RandomizedSearchCV",
          "RandomizedSearchCV",
          "RandomizedSearchCV",
          "RandomizedSearchCV",
          "RandomizedSearchCV",
          "RandomizedSearchCV",
          "RandomizedSearchCV",
          "RandomizedSearchCV",
          "RandomizedSearchCV",
          "RandomizedSearchCV",
          "RandomizedSearchCV",
          "RandomizedSearchCV",
          "RandomizedSearchCV",
          "RandomizedSearchCV",
          "RandomizedSearchCV",
          "RandomizedSearchCV",
          "RandomizedSearchCV",
          "RandomizedSearchCV",
          "RandomizedSearchCV",
          "RandomizedSearchCV",
          "RandomizedSearchCV",
          "RandomizedSearchCV",
          "RandomizedSearchCV",
          "RandomizedSearchCV",
          "RandomizedSearchCV"
         ],
         "legendgroup": "RandomizedSearchCV",
         "line": {
          "color": "#46bac2",
          "dash": "solid",
          "width": 2
         },
         "marker": {
          "symbol": "circle"
         },
         "mode": "lines",
         "name": "RandomizedSearchCV",
         "opacity": 1,
         "orientation": "v",
         "showlegend": false,
         "type": "scatter",
         "x": [
          126,
          130.38,
          134.76,
          139.14,
          143.52,
          147.9,
          152.28,
          156.66,
          161.04,
          165.42000000000002,
          169.8,
          174.18,
          178.56,
          182.94,
          187.32,
          191.7,
          196.07999999999998,
          200.45999999999998,
          204.84,
          209.22,
          213.6,
          217.98000000000002,
          222.36,
          226.74,
          231.12,
          235.5,
          239.88,
          244.26,
          248.64,
          253.01999999999998,
          257.4,
          261.78,
          266.15999999999997,
          270.53999999999996,
          274.91999999999996,
          279.29999999999995,
          283.68,
          288.06,
          292.44,
          296.82,
          301.2,
          305.58,
          309.96000000000004,
          314.34000000000003,
          318.72,
          323.1,
          327.48,
          331.86,
          336.24,
          340.62,
          345,
          349.38,
          353.76,
          358.14,
          362.52,
          366.9,
          371.28,
          375.65999999999997,
          380.03999999999996,
          384.42,
          388.8,
          393.18,
          397.56,
          401.94,
          406.32,
          410.7,
          415.08,
          419.46,
          423.84,
          428.21999999999997,
          432.59999999999997,
          436.98,
          441.36,
          445.74,
          450.12,
          454.5,
          458.88,
          463.26,
          467.64,
          472.02,
          476.4,
          480.78,
          485.15999999999997,
          489.53999999999996,
          493.92,
          498.3,
          502.68,
          507.06,
          511.44,
          515.8199999999999,
          520.2,
          524.5799999999999,
          528.96,
          533.3399999999999,
          537.72,
          542.0999999999999,
          546.48,
          550.86,
          555.24,
          559.62,
          564
         ],
         "xaxis": "x9",
         "y": [
          0.40121553883612754,
          0.4032578448814452,
          0.40530555523885337,
          0.40735866363187656,
          0.4094171629075681,
          0.4114810450181312,
          0.41355030100274826,
          0.41562492096962805,
          0.41770489407828176,
          0.41979020852204046,
          0.4218808515108232,
          0.4239768092541695,
          0.4260780669445449,
          0.42818460874093356,
          0.4302964177527272,
          0.4324134760239233,
          0.43453576451764353,
          0.43666326310098297,
          0.43879595053020304,
          0.44093380443627866,
          0.44307680131081106,
          0.4452249164923173,
          0.44737812415290834,
          0.4495363972853659,
          0.45169970769062995,
          0.4538680259657073,
          0.4560413214920116,
          0.458219562424146,
          0.4604027156791389,
          0.46259074692614205,
          0.46478362057660216,
          0.46698129977491504,
          0.46918374638957205,
          0.471390921004808,
          0.47360278291276,
          0.4758192901061449,
          0.47804039927146463,
          0.48026606578274766,
          0.48249624369583294,
          0.484730885743205,
          0.48696994332938726,
          0.48921336652689795,
          0.4914611040727785,
          0.4937131033656963,
          0.4959693104636299,
          0.4982296700821401,
          0.5004941255932314,
          0.5027626190248087,
          0.505035091060731,
          0.5073114810414672,
          0.5095917269653537,
          0.5118757654904582,
          0.5141635319370499,
          0.5164549602906763,
          0.5187499832058486,
          0.5210485320103344,
          0.5233505367100559,
          0.5256559259945951,
          0.5279646272433005,
          0.530276566531997,
          0.5325916686402913,
          0.5349098570594744,
          0.5372310540010116,
          0.5395551804056213,
          0.5418821559529323,
          0.5442118990717164,
          0.5465443269506917,
          0.5488793555498854,
          0.551216899612554,
          0.5535568726776493,
          0.5558991870928245,
          0.5582437540279716,
          0.5605904834892788,
          0.5629392843338028,
          0.5652900642845413,
          0.5676427299459998,
          0.5699971868202394,
          0.5723533393233953,
          0.5747110908026571,
          0.577070343553695,
          0.5794309988385242,
          0.5817929569037941,
          0.5841561169994894,
          0.586520377398032,
          0.5888856354137698,
          0.5912517874228416,
          0.5936187288834025,
          0.5959863543562007,
          0.5983545575254893,
          0.6007232312202615,
          0.6030922674357977,
          0.6054615573555087,
          0.6078309913730645,
          0.6102004591147948,
          0.6125698494623495,
          0.6149390505756045,
          0.6173079499158041,
          0.6196764342689234,
          0.622044389769243,
          0.6244117019231212,
          0.6267782556329528
         ],
         "yaxis": "y9"
        },
        {
         "customdata": [
          [
           0.4604844898666797,
           "RandomizedSearchCV",
           "fbs"
          ],
          [
           0.4604844898666797,
           "RandomizedSearchCV",
           "fbs"
          ],
          [
           0.4604844898666797,
           "RandomizedSearchCV",
           "fbs"
          ],
          [
           0.4604844898666797,
           "RandomizedSearchCV",
           "fbs"
          ],
          [
           0.4604844898666797,
           "RandomizedSearchCV",
           "fbs"
          ],
          [
           0.4604844898666797,
           "RandomizedSearchCV",
           "fbs"
          ],
          [
           0.4604844898666797,
           "RandomizedSearchCV",
           "fbs"
          ],
          [
           0.4604844898666797,
           "RandomizedSearchCV",
           "fbs"
          ],
          [
           0.4604844898666797,
           "RandomizedSearchCV",
           "fbs"
          ],
          [
           0.4604844898666797,
           "RandomizedSearchCV",
           "fbs"
          ],
          [
           0.4604844898666797,
           "RandomizedSearchCV",
           "fbs"
          ],
          [
           0.4604844898666797,
           "RandomizedSearchCV",
           "fbs"
          ],
          [
           0.4604844898666797,
           "RandomizedSearchCV",
           "fbs"
          ],
          [
           0.4604844898666797,
           "RandomizedSearchCV",
           "fbs"
          ],
          [
           0.4604844898666797,
           "RandomizedSearchCV",
           "fbs"
          ],
          [
           0.4604844898666797,
           "RandomizedSearchCV",
           "fbs"
          ],
          [
           0.4604844898666797,
           "RandomizedSearchCV",
           "fbs"
          ],
          [
           0.4604844898666797,
           "RandomizedSearchCV",
           "fbs"
          ],
          [
           0.4604844898666797,
           "RandomizedSearchCV",
           "fbs"
          ],
          [
           0.4604844898666797,
           "RandomizedSearchCV",
           "fbs"
          ],
          [
           0.4604844898666797,
           "RandomizedSearchCV",
           "fbs"
          ],
          [
           0.4604844898666797,
           "RandomizedSearchCV",
           "fbs"
          ],
          [
           0.4604844898666797,
           "RandomizedSearchCV",
           "fbs"
          ],
          [
           0.4604844898666797,
           "RandomizedSearchCV",
           "fbs"
          ],
          [
           0.4604844898666797,
           "RandomizedSearchCV",
           "fbs"
          ],
          [
           0.4604844898666797,
           "RandomizedSearchCV",
           "fbs"
          ],
          [
           0.4604844898666797,
           "RandomizedSearchCV",
           "fbs"
          ],
          [
           0.4604844898666797,
           "RandomizedSearchCV",
           "fbs"
          ],
          [
           0.4604844898666797,
           "RandomizedSearchCV",
           "fbs"
          ],
          [
           0.4604844898666797,
           "RandomizedSearchCV",
           "fbs"
          ],
          [
           0.4604844898666797,
           "RandomizedSearchCV",
           "fbs"
          ],
          [
           0.4604844898666797,
           "RandomizedSearchCV",
           "fbs"
          ],
          [
           0.4604844898666797,
           "RandomizedSearchCV",
           "fbs"
          ],
          [
           0.4604844898666797,
           "RandomizedSearchCV",
           "fbs"
          ],
          [
           0.4604844898666797,
           "RandomizedSearchCV",
           "fbs"
          ],
          [
           0.4604844898666797,
           "RandomizedSearchCV",
           "fbs"
          ],
          [
           0.4604844898666797,
           "RandomizedSearchCV",
           "fbs"
          ],
          [
           0.4604844898666797,
           "RandomizedSearchCV",
           "fbs"
          ],
          [
           0.4604844898666797,
           "RandomizedSearchCV",
           "fbs"
          ],
          [
           0.4604844898666797,
           "RandomizedSearchCV",
           "fbs"
          ],
          [
           0.4604844898666797,
           "RandomizedSearchCV",
           "fbs"
          ],
          [
           0.4604844898666797,
           "RandomizedSearchCV",
           "fbs"
          ],
          [
           0.4604844898666797,
           "RandomizedSearchCV",
           "fbs"
          ],
          [
           0.4604844898666797,
           "RandomizedSearchCV",
           "fbs"
          ],
          [
           0.4604844898666797,
           "RandomizedSearchCV",
           "fbs"
          ],
          [
           0.4604844898666797,
           "RandomizedSearchCV",
           "fbs"
          ],
          [
           0.4604844898666797,
           "RandomizedSearchCV",
           "fbs"
          ],
          [
           0.4604844898666797,
           "RandomizedSearchCV",
           "fbs"
          ],
          [
           0.4604844898666797,
           "RandomizedSearchCV",
           "fbs"
          ],
          [
           0.4604844898666797,
           "RandomizedSearchCV",
           "fbs"
          ],
          [
           0.4604844898666797,
           "RandomizedSearchCV",
           "fbs"
          ],
          [
           0.4604844898666797,
           "RandomizedSearchCV",
           "fbs"
          ],
          [
           0.4604844898666797,
           "RandomizedSearchCV",
           "fbs"
          ],
          [
           0.4604844898666797,
           "RandomizedSearchCV",
           "fbs"
          ],
          [
           0.4604844898666797,
           "RandomizedSearchCV",
           "fbs"
          ],
          [
           0.4604844898666797,
           "RandomizedSearchCV",
           "fbs"
          ],
          [
           0.4604844898666797,
           "RandomizedSearchCV",
           "fbs"
          ],
          [
           0.4604844898666797,
           "RandomizedSearchCV",
           "fbs"
          ],
          [
           0.4604844898666797,
           "RandomizedSearchCV",
           "fbs"
          ],
          [
           0.4604844898666797,
           "RandomizedSearchCV",
           "fbs"
          ],
          [
           0.4604844898666797,
           "RandomizedSearchCV",
           "fbs"
          ],
          [
           0.4604844898666797,
           "RandomizedSearchCV",
           "fbs"
          ],
          [
           0.4604844898666797,
           "RandomizedSearchCV",
           "fbs"
          ],
          [
           0.4604844898666797,
           "RandomizedSearchCV",
           "fbs"
          ],
          [
           0.4604844898666797,
           "RandomizedSearchCV",
           "fbs"
          ],
          [
           0.4604844898666797,
           "RandomizedSearchCV",
           "fbs"
          ],
          [
           0.4604844898666797,
           "RandomizedSearchCV",
           "fbs"
          ],
          [
           0.4604844898666797,
           "RandomizedSearchCV",
           "fbs"
          ],
          [
           0.4604844898666797,
           "RandomizedSearchCV",
           "fbs"
          ],
          [
           0.4604844898666797,
           "RandomizedSearchCV",
           "fbs"
          ],
          [
           0.4604844898666797,
           "RandomizedSearchCV",
           "fbs"
          ],
          [
           0.4604844898666797,
           "RandomizedSearchCV",
           "fbs"
          ],
          [
           0.4604844898666797,
           "RandomizedSearchCV",
           "fbs"
          ],
          [
           0.4604844898666797,
           "RandomizedSearchCV",
           "fbs"
          ],
          [
           0.4604844898666797,
           "RandomizedSearchCV",
           "fbs"
          ],
          [
           0.4604844898666797,
           "RandomizedSearchCV",
           "fbs"
          ],
          [
           0.4604844898666797,
           "RandomizedSearchCV",
           "fbs"
          ],
          [
           0.4604844898666797,
           "RandomizedSearchCV",
           "fbs"
          ],
          [
           0.4604844898666797,
           "RandomizedSearchCV",
           "fbs"
          ],
          [
           0.4604844898666797,
           "RandomizedSearchCV",
           "fbs"
          ],
          [
           0.4604844898666797,
           "RandomizedSearchCV",
           "fbs"
          ],
          [
           0.4604844898666797,
           "RandomizedSearchCV",
           "fbs"
          ],
          [
           0.4604844898666797,
           "RandomizedSearchCV",
           "fbs"
          ],
          [
           0.4604844898666797,
           "RandomizedSearchCV",
           "fbs"
          ],
          [
           0.4604844898666797,
           "RandomizedSearchCV",
           "fbs"
          ],
          [
           0.4604844898666797,
           "RandomizedSearchCV",
           "fbs"
          ],
          [
           0.4604844898666797,
           "RandomizedSearchCV",
           "fbs"
          ],
          [
           0.4604844898666797,
           "RandomizedSearchCV",
           "fbs"
          ],
          [
           0.4604844898666797,
           "RandomizedSearchCV",
           "fbs"
          ],
          [
           0.4604844898666797,
           "RandomizedSearchCV",
           "fbs"
          ],
          [
           0.4604844898666797,
           "RandomizedSearchCV",
           "fbs"
          ],
          [
           0.4604844898666797,
           "RandomizedSearchCV",
           "fbs"
          ],
          [
           0.4604844898666797,
           "RandomizedSearchCV",
           "fbs"
          ],
          [
           0.4604844898666797,
           "RandomizedSearchCV",
           "fbs"
          ],
          [
           0.4604844898666797,
           "RandomizedSearchCV",
           "fbs"
          ],
          [
           0.4604844898666797,
           "RandomizedSearchCV",
           "fbs"
          ],
          [
           0.4604844898666797,
           "RandomizedSearchCV",
           "fbs"
          ],
          [
           0.4604844898666797,
           "RandomizedSearchCV",
           "fbs"
          ],
          [
           0.4604844898666797,
           "RandomizedSearchCV",
           "fbs"
          ],
          [
           0.4604844898666797,
           "RandomizedSearchCV",
           "fbs"
          ],
          [
           0.4604844898666797,
           "RandomizedSearchCV",
           "fbs"
          ]
         ],
         "hovertemplate": "<b>%{hovertext}</b><br><br>prediction=%{y:.3f}<br>mean_prediction=%{customdata[0]:.3f}<extra></extra>",
         "hovertext": [
          "RandomizedSearchCV",
          "RandomizedSearchCV",
          "RandomizedSearchCV",
          "RandomizedSearchCV",
          "RandomizedSearchCV",
          "RandomizedSearchCV",
          "RandomizedSearchCV",
          "RandomizedSearchCV",
          "RandomizedSearchCV",
          "RandomizedSearchCV",
          "RandomizedSearchCV",
          "RandomizedSearchCV",
          "RandomizedSearchCV",
          "RandomizedSearchCV",
          "RandomizedSearchCV",
          "RandomizedSearchCV",
          "RandomizedSearchCV",
          "RandomizedSearchCV",
          "RandomizedSearchCV",
          "RandomizedSearchCV",
          "RandomizedSearchCV",
          "RandomizedSearchCV",
          "RandomizedSearchCV",
          "RandomizedSearchCV",
          "RandomizedSearchCV",
          "RandomizedSearchCV",
          "RandomizedSearchCV",
          "RandomizedSearchCV",
          "RandomizedSearchCV",
          "RandomizedSearchCV",
          "RandomizedSearchCV",
          "RandomizedSearchCV",
          "RandomizedSearchCV",
          "RandomizedSearchCV",
          "RandomizedSearchCV",
          "RandomizedSearchCV",
          "RandomizedSearchCV",
          "RandomizedSearchCV",
          "RandomizedSearchCV",
          "RandomizedSearchCV",
          "RandomizedSearchCV",
          "RandomizedSearchCV",
          "RandomizedSearchCV",
          "RandomizedSearchCV",
          "RandomizedSearchCV",
          "RandomizedSearchCV",
          "RandomizedSearchCV",
          "RandomizedSearchCV",
          "RandomizedSearchCV",
          "RandomizedSearchCV",
          "RandomizedSearchCV",
          "RandomizedSearchCV",
          "RandomizedSearchCV",
          "RandomizedSearchCV",
          "RandomizedSearchCV",
          "RandomizedSearchCV",
          "RandomizedSearchCV",
          "RandomizedSearchCV",
          "RandomizedSearchCV",
          "RandomizedSearchCV",
          "RandomizedSearchCV",
          "RandomizedSearchCV",
          "RandomizedSearchCV",
          "RandomizedSearchCV",
          "RandomizedSearchCV",
          "RandomizedSearchCV",
          "RandomizedSearchCV",
          "RandomizedSearchCV",
          "RandomizedSearchCV",
          "RandomizedSearchCV",
          "RandomizedSearchCV",
          "RandomizedSearchCV",
          "RandomizedSearchCV",
          "RandomizedSearchCV",
          "RandomizedSearchCV",
          "RandomizedSearchCV",
          "RandomizedSearchCV",
          "RandomizedSearchCV",
          "RandomizedSearchCV",
          "RandomizedSearchCV",
          "RandomizedSearchCV",
          "RandomizedSearchCV",
          "RandomizedSearchCV",
          "RandomizedSearchCV",
          "RandomizedSearchCV",
          "RandomizedSearchCV",
          "RandomizedSearchCV",
          "RandomizedSearchCV",
          "RandomizedSearchCV",
          "RandomizedSearchCV",
          "RandomizedSearchCV",
          "RandomizedSearchCV",
          "RandomizedSearchCV",
          "RandomizedSearchCV",
          "RandomizedSearchCV",
          "RandomizedSearchCV",
          "RandomizedSearchCV",
          "RandomizedSearchCV",
          "RandomizedSearchCV",
          "RandomizedSearchCV",
          "RandomizedSearchCV"
         ],
         "legendgroup": "RandomizedSearchCV",
         "line": {
          "color": "#46bac2",
          "dash": "solid",
          "width": 2
         },
         "marker": {
          "symbol": "circle"
         },
         "mode": "lines",
         "name": "RandomizedSearchCV",
         "opacity": 1,
         "orientation": "v",
         "showlegend": false,
         "type": "scatter",
         "x": [
          0,
          0.01,
          0.02,
          0.03,
          0.04,
          0.05,
          0.06,
          0.07,
          0.08,
          0.09,
          0.1,
          0.11,
          0.12,
          0.13,
          0.14,
          0.15,
          0.16,
          0.17,
          0.18,
          0.19,
          0.2,
          0.21,
          0.22,
          0.23,
          0.24,
          0.25,
          0.26,
          0.27,
          0.28,
          0.29,
          0.3,
          0.31,
          0.32,
          0.33,
          0.34,
          0.35000000000000003,
          0.36,
          0.37,
          0.38,
          0.39,
          0.4,
          0.41000000000000003,
          0.42,
          0.43,
          0.44,
          0.45,
          0.46,
          0.47000000000000003,
          0.48,
          0.49,
          0.5,
          0.51,
          0.52,
          0.53,
          0.54,
          0.55,
          0.56,
          0.5700000000000001,
          0.58,
          0.59,
          0.6,
          0.61,
          0.62,
          0.63,
          0.64,
          0.65,
          0.66,
          0.67,
          0.68,
          0.6900000000000001,
          0.7000000000000001,
          0.71,
          0.72,
          0.73,
          0.74,
          0.75,
          0.76,
          0.77,
          0.78,
          0.79,
          0.8,
          0.81,
          0.8200000000000001,
          0.8300000000000001,
          0.84,
          0.85,
          0.86,
          0.87,
          0.88,
          0.89,
          0.9,
          0.91,
          0.92,
          0.93,
          0.9400000000000001,
          0.9500000000000001,
          0.96,
          0.97,
          0.98,
          0.99,
          1
         ],
         "xaxis": "x10",
         "y": [
          0.4632387969862794,
          0.4630723758700099,
          0.4629059818191458,
          0.46273961484981413,
          0.46257327497810036,
          0.46240696222004846,
          0.46224067659166085,
          0.4620744181088985,
          0.46190818678768075,
          0.4617419826438859,
          0.4615758056933504,
          0.4614096559518695,
          0.4612435334351973,
          0.4610774381590463,
          0.4609113701390877,
          0.46074532939095164,
          0.4605793159302268,
          0.46041332977246063,
          0.4602473709331596,
          0.46008143942778884,
          0.4599155352717723,
          0.45974965848049304,
          0.45958380906929264,
          0.45941798705347203,
          0.4592521924482909,
          0.45908642526896787,
          0.4589206855306807,
          0.45875497324856607,
          0.45858928843771996,
          0.45842363111319717,
          0.45825800129001193,
          0.45809239898313725,
          0.4579268242075056,
          0.45776127697800867,
          0.4575957573094972,
          0.4574302652167814,
          0.4572648007146306,
          0.45709936381777355,
          0.45693395454089836,
          0.4567685728986524,
          0.45660321890564265,
          0.4564378925764353,
          0.45627259392555625,
          0.4561073229674907,
          0.45594207971668343,
          0.4557768641875388,
          0.45561167639442074,
          0.4554465163516528,
          0.455281384073518,
          0.4551162795742594,
          0.45495120286807933,
          0.45478615396914024,
          0.45462113289156403,
          0.4544561396494326,
          0.4542911742567875,
          0.4541262367276302,
          0.4539613270759221,
          0.45379644531558444,
          0.4536315914604985,
          0.45346676552450516,
          0.45330196752140595,
          0.4531371974649618,
          0.4529724553688941,
          0.452807741246884,
          0.45264305511257313,
          0.45247839697956305,
          0.45231376686141556,
          0.4521491647716525,
          0.45198459072375635,
          0.4518200447311695,
          0.4516555268072947,
          0.45149103696549525,
          0.4513265752190946,
          0.45116214158137663,
          0.45099773606558585,
          0.45083335868492685,
          0.45066900945256516,
          0.4505046883816265,
          0.45034039548519733,
          0.45017613077632457,
          0.45001189426801586,
          0.4498476859732394,
          0.4496835059049243,
          0.44951935407596005,
          0.4493552304991972,
          0.4491911351874468,
          0.44902706815348103,
          0.44886302941003264,
          0.4486990189697956,
          0.44853503684542423,
          0.4483710830495344,
          0.4482071575947026,
          0.44804326049346643,
          0.4478793917583246,
          0.44771555140173674,
          0.44755173943612386,
          0.4473879558738677,
          0.4472242007273117,
          0.44706047400876003,
          0.44689677573047853,
          0.44673310590469384
         ],
         "yaxis": "y10"
        },
        {
         "customdata": [
          [
           0.4604844898666797,
           "RandomizedSearchCV",
           "restecg"
          ],
          [
           0.4604844898666797,
           "RandomizedSearchCV",
           "restecg"
          ],
          [
           0.4604844898666797,
           "RandomizedSearchCV",
           "restecg"
          ],
          [
           0.4604844898666797,
           "RandomizedSearchCV",
           "restecg"
          ],
          [
           0.4604844898666797,
           "RandomizedSearchCV",
           "restecg"
          ],
          [
           0.4604844898666797,
           "RandomizedSearchCV",
           "restecg"
          ],
          [
           0.4604844898666797,
           "RandomizedSearchCV",
           "restecg"
          ],
          [
           0.4604844898666797,
           "RandomizedSearchCV",
           "restecg"
          ],
          [
           0.4604844898666797,
           "RandomizedSearchCV",
           "restecg"
          ],
          [
           0.4604844898666797,
           "RandomizedSearchCV",
           "restecg"
          ],
          [
           0.4604844898666797,
           "RandomizedSearchCV",
           "restecg"
          ],
          [
           0.4604844898666797,
           "RandomizedSearchCV",
           "restecg"
          ],
          [
           0.4604844898666797,
           "RandomizedSearchCV",
           "restecg"
          ],
          [
           0.4604844898666797,
           "RandomizedSearchCV",
           "restecg"
          ],
          [
           0.4604844898666797,
           "RandomizedSearchCV",
           "restecg"
          ],
          [
           0.4604844898666797,
           "RandomizedSearchCV",
           "restecg"
          ],
          [
           0.4604844898666797,
           "RandomizedSearchCV",
           "restecg"
          ],
          [
           0.4604844898666797,
           "RandomizedSearchCV",
           "restecg"
          ],
          [
           0.4604844898666797,
           "RandomizedSearchCV",
           "restecg"
          ],
          [
           0.4604844898666797,
           "RandomizedSearchCV",
           "restecg"
          ],
          [
           0.4604844898666797,
           "RandomizedSearchCV",
           "restecg"
          ],
          [
           0.4604844898666797,
           "RandomizedSearchCV",
           "restecg"
          ],
          [
           0.4604844898666797,
           "RandomizedSearchCV",
           "restecg"
          ],
          [
           0.4604844898666797,
           "RandomizedSearchCV",
           "restecg"
          ],
          [
           0.4604844898666797,
           "RandomizedSearchCV",
           "restecg"
          ],
          [
           0.4604844898666797,
           "RandomizedSearchCV",
           "restecg"
          ],
          [
           0.4604844898666797,
           "RandomizedSearchCV",
           "restecg"
          ],
          [
           0.4604844898666797,
           "RandomizedSearchCV",
           "restecg"
          ],
          [
           0.4604844898666797,
           "RandomizedSearchCV",
           "restecg"
          ],
          [
           0.4604844898666797,
           "RandomizedSearchCV",
           "restecg"
          ],
          [
           0.4604844898666797,
           "RandomizedSearchCV",
           "restecg"
          ],
          [
           0.4604844898666797,
           "RandomizedSearchCV",
           "restecg"
          ],
          [
           0.4604844898666797,
           "RandomizedSearchCV",
           "restecg"
          ],
          [
           0.4604844898666797,
           "RandomizedSearchCV",
           "restecg"
          ],
          [
           0.4604844898666797,
           "RandomizedSearchCV",
           "restecg"
          ],
          [
           0.4604844898666797,
           "RandomizedSearchCV",
           "restecg"
          ],
          [
           0.4604844898666797,
           "RandomizedSearchCV",
           "restecg"
          ],
          [
           0.4604844898666797,
           "RandomizedSearchCV",
           "restecg"
          ],
          [
           0.4604844898666797,
           "RandomizedSearchCV",
           "restecg"
          ],
          [
           0.4604844898666797,
           "RandomizedSearchCV",
           "restecg"
          ],
          [
           0.4604844898666797,
           "RandomizedSearchCV",
           "restecg"
          ],
          [
           0.4604844898666797,
           "RandomizedSearchCV",
           "restecg"
          ],
          [
           0.4604844898666797,
           "RandomizedSearchCV",
           "restecg"
          ],
          [
           0.4604844898666797,
           "RandomizedSearchCV",
           "restecg"
          ],
          [
           0.4604844898666797,
           "RandomizedSearchCV",
           "restecg"
          ],
          [
           0.4604844898666797,
           "RandomizedSearchCV",
           "restecg"
          ],
          [
           0.4604844898666797,
           "RandomizedSearchCV",
           "restecg"
          ],
          [
           0.4604844898666797,
           "RandomizedSearchCV",
           "restecg"
          ],
          [
           0.4604844898666797,
           "RandomizedSearchCV",
           "restecg"
          ],
          [
           0.4604844898666797,
           "RandomizedSearchCV",
           "restecg"
          ],
          [
           0.4604844898666797,
           "RandomizedSearchCV",
           "restecg"
          ],
          [
           0.4604844898666797,
           "RandomizedSearchCV",
           "restecg"
          ],
          [
           0.4604844898666797,
           "RandomizedSearchCV",
           "restecg"
          ],
          [
           0.4604844898666797,
           "RandomizedSearchCV",
           "restecg"
          ],
          [
           0.4604844898666797,
           "RandomizedSearchCV",
           "restecg"
          ],
          [
           0.4604844898666797,
           "RandomizedSearchCV",
           "restecg"
          ],
          [
           0.4604844898666797,
           "RandomizedSearchCV",
           "restecg"
          ],
          [
           0.4604844898666797,
           "RandomizedSearchCV",
           "restecg"
          ],
          [
           0.4604844898666797,
           "RandomizedSearchCV",
           "restecg"
          ],
          [
           0.4604844898666797,
           "RandomizedSearchCV",
           "restecg"
          ],
          [
           0.4604844898666797,
           "RandomizedSearchCV",
           "restecg"
          ],
          [
           0.4604844898666797,
           "RandomizedSearchCV",
           "restecg"
          ],
          [
           0.4604844898666797,
           "RandomizedSearchCV",
           "restecg"
          ],
          [
           0.4604844898666797,
           "RandomizedSearchCV",
           "restecg"
          ],
          [
           0.4604844898666797,
           "RandomizedSearchCV",
           "restecg"
          ],
          [
           0.4604844898666797,
           "RandomizedSearchCV",
           "restecg"
          ],
          [
           0.4604844898666797,
           "RandomizedSearchCV",
           "restecg"
          ],
          [
           0.4604844898666797,
           "RandomizedSearchCV",
           "restecg"
          ],
          [
           0.4604844898666797,
           "RandomizedSearchCV",
           "restecg"
          ],
          [
           0.4604844898666797,
           "RandomizedSearchCV",
           "restecg"
          ],
          [
           0.4604844898666797,
           "RandomizedSearchCV",
           "restecg"
          ],
          [
           0.4604844898666797,
           "RandomizedSearchCV",
           "restecg"
          ],
          [
           0.4604844898666797,
           "RandomizedSearchCV",
           "restecg"
          ],
          [
           0.4604844898666797,
           "RandomizedSearchCV",
           "restecg"
          ],
          [
           0.4604844898666797,
           "RandomizedSearchCV",
           "restecg"
          ],
          [
           0.4604844898666797,
           "RandomizedSearchCV",
           "restecg"
          ],
          [
           0.4604844898666797,
           "RandomizedSearchCV",
           "restecg"
          ],
          [
           0.4604844898666797,
           "RandomizedSearchCV",
           "restecg"
          ],
          [
           0.4604844898666797,
           "RandomizedSearchCV",
           "restecg"
          ],
          [
           0.4604844898666797,
           "RandomizedSearchCV",
           "restecg"
          ],
          [
           0.4604844898666797,
           "RandomizedSearchCV",
           "restecg"
          ],
          [
           0.4604844898666797,
           "RandomizedSearchCV",
           "restecg"
          ],
          [
           0.4604844898666797,
           "RandomizedSearchCV",
           "restecg"
          ],
          [
           0.4604844898666797,
           "RandomizedSearchCV",
           "restecg"
          ],
          [
           0.4604844898666797,
           "RandomizedSearchCV",
           "restecg"
          ],
          [
           0.4604844898666797,
           "RandomizedSearchCV",
           "restecg"
          ],
          [
           0.4604844898666797,
           "RandomizedSearchCV",
           "restecg"
          ],
          [
           0.4604844898666797,
           "RandomizedSearchCV",
           "restecg"
          ],
          [
           0.4604844898666797,
           "RandomizedSearchCV",
           "restecg"
          ],
          [
           0.4604844898666797,
           "RandomizedSearchCV",
           "restecg"
          ],
          [
           0.4604844898666797,
           "RandomizedSearchCV",
           "restecg"
          ],
          [
           0.4604844898666797,
           "RandomizedSearchCV",
           "restecg"
          ],
          [
           0.4604844898666797,
           "RandomizedSearchCV",
           "restecg"
          ],
          [
           0.4604844898666797,
           "RandomizedSearchCV",
           "restecg"
          ],
          [
           0.4604844898666797,
           "RandomizedSearchCV",
           "restecg"
          ],
          [
           0.4604844898666797,
           "RandomizedSearchCV",
           "restecg"
          ],
          [
           0.4604844898666797,
           "RandomizedSearchCV",
           "restecg"
          ],
          [
           0.4604844898666797,
           "RandomizedSearchCV",
           "restecg"
          ],
          [
           0.4604844898666797,
           "RandomizedSearchCV",
           "restecg"
          ],
          [
           0.4604844898666797,
           "RandomizedSearchCV",
           "restecg"
          ],
          [
           0.4604844898666797,
           "RandomizedSearchCV",
           "restecg"
          ]
         ],
         "hovertemplate": "<b>%{hovertext}</b><br><br>prediction=%{y:.3f}<br>mean_prediction=%{customdata[0]:.3f}<extra></extra>",
         "hovertext": [
          "RandomizedSearchCV",
          "RandomizedSearchCV",
          "RandomizedSearchCV",
          "RandomizedSearchCV",
          "RandomizedSearchCV",
          "RandomizedSearchCV",
          "RandomizedSearchCV",
          "RandomizedSearchCV",
          "RandomizedSearchCV",
          "RandomizedSearchCV",
          "RandomizedSearchCV",
          "RandomizedSearchCV",
          "RandomizedSearchCV",
          "RandomizedSearchCV",
          "RandomizedSearchCV",
          "RandomizedSearchCV",
          "RandomizedSearchCV",
          "RandomizedSearchCV",
          "RandomizedSearchCV",
          "RandomizedSearchCV",
          "RandomizedSearchCV",
          "RandomizedSearchCV",
          "RandomizedSearchCV",
          "RandomizedSearchCV",
          "RandomizedSearchCV",
          "RandomizedSearchCV",
          "RandomizedSearchCV",
          "RandomizedSearchCV",
          "RandomizedSearchCV",
          "RandomizedSearchCV",
          "RandomizedSearchCV",
          "RandomizedSearchCV",
          "RandomizedSearchCV",
          "RandomizedSearchCV",
          "RandomizedSearchCV",
          "RandomizedSearchCV",
          "RandomizedSearchCV",
          "RandomizedSearchCV",
          "RandomizedSearchCV",
          "RandomizedSearchCV",
          "RandomizedSearchCV",
          "RandomizedSearchCV",
          "RandomizedSearchCV",
          "RandomizedSearchCV",
          "RandomizedSearchCV",
          "RandomizedSearchCV",
          "RandomizedSearchCV",
          "RandomizedSearchCV",
          "RandomizedSearchCV",
          "RandomizedSearchCV",
          "RandomizedSearchCV",
          "RandomizedSearchCV",
          "RandomizedSearchCV",
          "RandomizedSearchCV",
          "RandomizedSearchCV",
          "RandomizedSearchCV",
          "RandomizedSearchCV",
          "RandomizedSearchCV",
          "RandomizedSearchCV",
          "RandomizedSearchCV",
          "RandomizedSearchCV",
          "RandomizedSearchCV",
          "RandomizedSearchCV",
          "RandomizedSearchCV",
          "RandomizedSearchCV",
          "RandomizedSearchCV",
          "RandomizedSearchCV",
          "RandomizedSearchCV",
          "RandomizedSearchCV",
          "RandomizedSearchCV",
          "RandomizedSearchCV",
          "RandomizedSearchCV",
          "RandomizedSearchCV",
          "RandomizedSearchCV",
          "RandomizedSearchCV",
          "RandomizedSearchCV",
          "RandomizedSearchCV",
          "RandomizedSearchCV",
          "RandomizedSearchCV",
          "RandomizedSearchCV",
          "RandomizedSearchCV",
          "RandomizedSearchCV",
          "RandomizedSearchCV",
          "RandomizedSearchCV",
          "RandomizedSearchCV",
          "RandomizedSearchCV",
          "RandomizedSearchCV",
          "RandomizedSearchCV",
          "RandomizedSearchCV",
          "RandomizedSearchCV",
          "RandomizedSearchCV",
          "RandomizedSearchCV",
          "RandomizedSearchCV",
          "RandomizedSearchCV",
          "RandomizedSearchCV",
          "RandomizedSearchCV",
          "RandomizedSearchCV",
          "RandomizedSearchCV",
          "RandomizedSearchCV",
          "RandomizedSearchCV",
          "RandomizedSearchCV"
         ],
         "legendgroup": "RandomizedSearchCV",
         "line": {
          "color": "#46bac2",
          "dash": "solid",
          "width": 2
         },
         "marker": {
          "symbol": "circle"
         },
         "mode": "lines",
         "name": "RandomizedSearchCV",
         "opacity": 1,
         "orientation": "v",
         "showlegend": false,
         "type": "scatter",
         "x": [
          0,
          0.02,
          0.04,
          0.06,
          0.08,
          0.1,
          0.12,
          0.14,
          0.16,
          0.18,
          0.2,
          0.22,
          0.24,
          0.26,
          0.28,
          0.3,
          0.32,
          0.34,
          0.36,
          0.38,
          0.4,
          0.42,
          0.44,
          0.46,
          0.48,
          0.5,
          0.52,
          0.54,
          0.56,
          0.58,
          0.6,
          0.62,
          0.64,
          0.66,
          0.68,
          0.7000000000000001,
          0.72,
          0.74,
          0.76,
          0.78,
          0.8,
          0.8200000000000001,
          0.84,
          0.86,
          0.88,
          0.9,
          0.92,
          0.9400000000000001,
          0.96,
          0.98,
          1,
          1.02,
          1.04,
          1.06,
          1.08,
          1.1,
          1.12,
          1.1400000000000001,
          1.16,
          1.18,
          1.2,
          1.22,
          1.24,
          1.26,
          1.28,
          1.3,
          1.32,
          1.34,
          1.36,
          1.3800000000000001,
          1.4000000000000001,
          1.42,
          1.44,
          1.46,
          1.48,
          1.5,
          1.52,
          1.54,
          1.56,
          1.58,
          1.6,
          1.62,
          1.6400000000000001,
          1.6600000000000001,
          1.68,
          1.7,
          1.72,
          1.74,
          1.76,
          1.78,
          1.8,
          1.82,
          1.84,
          1.86,
          1.8800000000000001,
          1.9000000000000001,
          1.92,
          1.94,
          1.96,
          1.98,
          2
         ],
         "xaxis": "x7",
         "y": [
          0.4306036072832974,
          0.4311862437570276,
          0.4317692668647433,
          0.4323526761978956,
          0.4329364713423121,
          0.4335206518781719,
          0.43410521737998076,
          0.4346901674165456,
          0.43527550155095024,
          0.43586121934053024,
          0.4364473203368483,
          0.43703380408566983,
          0.437620670126938,
          0.43820791799475,
          0.4387955472173323,
          0.43938355731701656,
          0.4399719478102155,
          0.44056071820739906,
          0.44114986801307043,
          0.44173939672574236,
          0.4423293038379133,
          0.44291958883604404,
          0.4435102512005344,
          0.44410129040569957,
          0.44469270591974697,
          0.44528449720475355,
          0.4458766637166425,
          0.4464692049051603,
          0.44706212021385433,
          0.44765540908004997,
          0.4482490709348284,
          0.448843105203004,
          0.44943751130310233,
          0.4500322886473379,
          0.4506274366415923,
          0.4512229546853925,
          0.4518188421718888,
          0.4524150984878335,
          0.4530117230135599,
          0.4536087151229601,
          0.4542060741834648,
          0.4548037995560218,
          0.4554018905950752,
          0.45600034664854494,
          0.456599167057806,
          0.4571983511576682,
          0.457797898276356,
          0.4583978077354878,
          0.458998078850057,
          0.45959871092841165,
          0.4601997032722348,
          0.460801055176525,
          0.4614027659295774,
          0.46200483481296434,
          0.4626072611015162,
          0.463210044063303,
          0.4638131829596155,
          0.46441667704494666,
          0.4650205255669738,
          0.46562472776653996,
          0.46622928287763604,
          0.4668341901273834,
          0.4674394487360159,
          0.46804505791686246,
          0.46865101687633015,
          0.4692573248138869,
          0.4698639809220447,
          0.4704709843863428,
          0.4710783343853314,
          0.4716860300905553,
          0.47229407066653767,
          0.4729024552707642,
          0.47351118305366746,
          0.4741202531586111,
          0.474729664721875,
          0.4753394168726394,
          0.4759495087329708,
          0.47655993941780656,
          0.4771707080349406,
          0.47778181368500916,
          0.47839325546147665,
          0.47900503245062137,
          0.4796171437315225,
          0.48022958837604585,
          0.48084236544883113,
          0.48145547400727867,
          0.4820689131015363,
          0.4826826817744874,
          0.48329677906173774,
          0.4839112039916035,
          0.4845259555850995,
          0.4851410328559273,
          0.4857564348104636,
          0.486372160447749,
          0.48698820875947685,
          0.48760457872998236,
          0.4882212693362322,
          0.4888382795478138,
          0.48945560832692525,
          0.4900732546283655,
          0.49069121739952454
         ],
         "yaxis": "y7"
        },
        {
         "customdata": [
          [
           0.4604844898666797,
           "RandomizedSearchCV",
           "thalach"
          ],
          [
           0.4604844898666797,
           "RandomizedSearchCV",
           "thalach"
          ],
          [
           0.4604844898666797,
           "RandomizedSearchCV",
           "thalach"
          ],
          [
           0.4604844898666797,
           "RandomizedSearchCV",
           "thalach"
          ],
          [
           0.4604844898666797,
           "RandomizedSearchCV",
           "thalach"
          ],
          [
           0.4604844898666797,
           "RandomizedSearchCV",
           "thalach"
          ],
          [
           0.4604844898666797,
           "RandomizedSearchCV",
           "thalach"
          ],
          [
           0.4604844898666797,
           "RandomizedSearchCV",
           "thalach"
          ],
          [
           0.4604844898666797,
           "RandomizedSearchCV",
           "thalach"
          ],
          [
           0.4604844898666797,
           "RandomizedSearchCV",
           "thalach"
          ],
          [
           0.4604844898666797,
           "RandomizedSearchCV",
           "thalach"
          ],
          [
           0.4604844898666797,
           "RandomizedSearchCV",
           "thalach"
          ],
          [
           0.4604844898666797,
           "RandomizedSearchCV",
           "thalach"
          ],
          [
           0.4604844898666797,
           "RandomizedSearchCV",
           "thalach"
          ],
          [
           0.4604844898666797,
           "RandomizedSearchCV",
           "thalach"
          ],
          [
           0.4604844898666797,
           "RandomizedSearchCV",
           "thalach"
          ],
          [
           0.4604844898666797,
           "RandomizedSearchCV",
           "thalach"
          ],
          [
           0.4604844898666797,
           "RandomizedSearchCV",
           "thalach"
          ],
          [
           0.4604844898666797,
           "RandomizedSearchCV",
           "thalach"
          ],
          [
           0.4604844898666797,
           "RandomizedSearchCV",
           "thalach"
          ],
          [
           0.4604844898666797,
           "RandomizedSearchCV",
           "thalach"
          ],
          [
           0.4604844898666797,
           "RandomizedSearchCV",
           "thalach"
          ],
          [
           0.4604844898666797,
           "RandomizedSearchCV",
           "thalach"
          ],
          [
           0.4604844898666797,
           "RandomizedSearchCV",
           "thalach"
          ],
          [
           0.4604844898666797,
           "RandomizedSearchCV",
           "thalach"
          ],
          [
           0.4604844898666797,
           "RandomizedSearchCV",
           "thalach"
          ],
          [
           0.4604844898666797,
           "RandomizedSearchCV",
           "thalach"
          ],
          [
           0.4604844898666797,
           "RandomizedSearchCV",
           "thalach"
          ],
          [
           0.4604844898666797,
           "RandomizedSearchCV",
           "thalach"
          ],
          [
           0.4604844898666797,
           "RandomizedSearchCV",
           "thalach"
          ],
          [
           0.4604844898666797,
           "RandomizedSearchCV",
           "thalach"
          ],
          [
           0.4604844898666797,
           "RandomizedSearchCV",
           "thalach"
          ],
          [
           0.4604844898666797,
           "RandomizedSearchCV",
           "thalach"
          ],
          [
           0.4604844898666797,
           "RandomizedSearchCV",
           "thalach"
          ],
          [
           0.4604844898666797,
           "RandomizedSearchCV",
           "thalach"
          ],
          [
           0.4604844898666797,
           "RandomizedSearchCV",
           "thalach"
          ],
          [
           0.4604844898666797,
           "RandomizedSearchCV",
           "thalach"
          ],
          [
           0.4604844898666797,
           "RandomizedSearchCV",
           "thalach"
          ],
          [
           0.4604844898666797,
           "RandomizedSearchCV",
           "thalach"
          ],
          [
           0.4604844898666797,
           "RandomizedSearchCV",
           "thalach"
          ],
          [
           0.4604844898666797,
           "RandomizedSearchCV",
           "thalach"
          ],
          [
           0.4604844898666797,
           "RandomizedSearchCV",
           "thalach"
          ],
          [
           0.4604844898666797,
           "RandomizedSearchCV",
           "thalach"
          ],
          [
           0.4604844898666797,
           "RandomizedSearchCV",
           "thalach"
          ],
          [
           0.4604844898666797,
           "RandomizedSearchCV",
           "thalach"
          ],
          [
           0.4604844898666797,
           "RandomizedSearchCV",
           "thalach"
          ],
          [
           0.4604844898666797,
           "RandomizedSearchCV",
           "thalach"
          ],
          [
           0.4604844898666797,
           "RandomizedSearchCV",
           "thalach"
          ],
          [
           0.4604844898666797,
           "RandomizedSearchCV",
           "thalach"
          ],
          [
           0.4604844898666797,
           "RandomizedSearchCV",
           "thalach"
          ],
          [
           0.4604844898666797,
           "RandomizedSearchCV",
           "thalach"
          ],
          [
           0.4604844898666797,
           "RandomizedSearchCV",
           "thalach"
          ],
          [
           0.4604844898666797,
           "RandomizedSearchCV",
           "thalach"
          ],
          [
           0.4604844898666797,
           "RandomizedSearchCV",
           "thalach"
          ],
          [
           0.4604844898666797,
           "RandomizedSearchCV",
           "thalach"
          ],
          [
           0.4604844898666797,
           "RandomizedSearchCV",
           "thalach"
          ],
          [
           0.4604844898666797,
           "RandomizedSearchCV",
           "thalach"
          ],
          [
           0.4604844898666797,
           "RandomizedSearchCV",
           "thalach"
          ],
          [
           0.4604844898666797,
           "RandomizedSearchCV",
           "thalach"
          ],
          [
           0.4604844898666797,
           "RandomizedSearchCV",
           "thalach"
          ],
          [
           0.4604844898666797,
           "RandomizedSearchCV",
           "thalach"
          ],
          [
           0.4604844898666797,
           "RandomizedSearchCV",
           "thalach"
          ],
          [
           0.4604844898666797,
           "RandomizedSearchCV",
           "thalach"
          ],
          [
           0.4604844898666797,
           "RandomizedSearchCV",
           "thalach"
          ],
          [
           0.4604844898666797,
           "RandomizedSearchCV",
           "thalach"
          ],
          [
           0.4604844898666797,
           "RandomizedSearchCV",
           "thalach"
          ],
          [
           0.4604844898666797,
           "RandomizedSearchCV",
           "thalach"
          ],
          [
           0.4604844898666797,
           "RandomizedSearchCV",
           "thalach"
          ],
          [
           0.4604844898666797,
           "RandomizedSearchCV",
           "thalach"
          ],
          [
           0.4604844898666797,
           "RandomizedSearchCV",
           "thalach"
          ],
          [
           0.4604844898666797,
           "RandomizedSearchCV",
           "thalach"
          ],
          [
           0.4604844898666797,
           "RandomizedSearchCV",
           "thalach"
          ],
          [
           0.4604844898666797,
           "RandomizedSearchCV",
           "thalach"
          ],
          [
           0.4604844898666797,
           "RandomizedSearchCV",
           "thalach"
          ],
          [
           0.4604844898666797,
           "RandomizedSearchCV",
           "thalach"
          ],
          [
           0.4604844898666797,
           "RandomizedSearchCV",
           "thalach"
          ],
          [
           0.4604844898666797,
           "RandomizedSearchCV",
           "thalach"
          ],
          [
           0.4604844898666797,
           "RandomizedSearchCV",
           "thalach"
          ],
          [
           0.4604844898666797,
           "RandomizedSearchCV",
           "thalach"
          ],
          [
           0.4604844898666797,
           "RandomizedSearchCV",
           "thalach"
          ],
          [
           0.4604844898666797,
           "RandomizedSearchCV",
           "thalach"
          ],
          [
           0.4604844898666797,
           "RandomizedSearchCV",
           "thalach"
          ],
          [
           0.4604844898666797,
           "RandomizedSearchCV",
           "thalach"
          ],
          [
           0.4604844898666797,
           "RandomizedSearchCV",
           "thalach"
          ],
          [
           0.4604844898666797,
           "RandomizedSearchCV",
           "thalach"
          ],
          [
           0.4604844898666797,
           "RandomizedSearchCV",
           "thalach"
          ],
          [
           0.4604844898666797,
           "RandomizedSearchCV",
           "thalach"
          ],
          [
           0.4604844898666797,
           "RandomizedSearchCV",
           "thalach"
          ],
          [
           0.4604844898666797,
           "RandomizedSearchCV",
           "thalach"
          ],
          [
           0.4604844898666797,
           "RandomizedSearchCV",
           "thalach"
          ],
          [
           0.4604844898666797,
           "RandomizedSearchCV",
           "thalach"
          ],
          [
           0.4604844898666797,
           "RandomizedSearchCV",
           "thalach"
          ],
          [
           0.4604844898666797,
           "RandomizedSearchCV",
           "thalach"
          ],
          [
           0.4604844898666797,
           "RandomizedSearchCV",
           "thalach"
          ],
          [
           0.4604844898666797,
           "RandomizedSearchCV",
           "thalach"
          ],
          [
           0.4604844898666797,
           "RandomizedSearchCV",
           "thalach"
          ],
          [
           0.4604844898666797,
           "RandomizedSearchCV",
           "thalach"
          ],
          [
           0.4604844898666797,
           "RandomizedSearchCV",
           "thalach"
          ],
          [
           0.4604844898666797,
           "RandomizedSearchCV",
           "thalach"
          ],
          [
           0.4604844898666797,
           "RandomizedSearchCV",
           "thalach"
          ],
          [
           0.4604844898666797,
           "RandomizedSearchCV",
           "thalach"
          ]
         ],
         "hovertemplate": "<b>%{hovertext}</b><br><br>prediction=%{y:.3f}<br>mean_prediction=%{customdata[0]:.3f}<extra></extra>",
         "hovertext": [
          "RandomizedSearchCV",
          "RandomizedSearchCV",
          "RandomizedSearchCV",
          "RandomizedSearchCV",
          "RandomizedSearchCV",
          "RandomizedSearchCV",
          "RandomizedSearchCV",
          "RandomizedSearchCV",
          "RandomizedSearchCV",
          "RandomizedSearchCV",
          "RandomizedSearchCV",
          "RandomizedSearchCV",
          "RandomizedSearchCV",
          "RandomizedSearchCV",
          "RandomizedSearchCV",
          "RandomizedSearchCV",
          "RandomizedSearchCV",
          "RandomizedSearchCV",
          "RandomizedSearchCV",
          "RandomizedSearchCV",
          "RandomizedSearchCV",
          "RandomizedSearchCV",
          "RandomizedSearchCV",
          "RandomizedSearchCV",
          "RandomizedSearchCV",
          "RandomizedSearchCV",
          "RandomizedSearchCV",
          "RandomizedSearchCV",
          "RandomizedSearchCV",
          "RandomizedSearchCV",
          "RandomizedSearchCV",
          "RandomizedSearchCV",
          "RandomizedSearchCV",
          "RandomizedSearchCV",
          "RandomizedSearchCV",
          "RandomizedSearchCV",
          "RandomizedSearchCV",
          "RandomizedSearchCV",
          "RandomizedSearchCV",
          "RandomizedSearchCV",
          "RandomizedSearchCV",
          "RandomizedSearchCV",
          "RandomizedSearchCV",
          "RandomizedSearchCV",
          "RandomizedSearchCV",
          "RandomizedSearchCV",
          "RandomizedSearchCV",
          "RandomizedSearchCV",
          "RandomizedSearchCV",
          "RandomizedSearchCV",
          "RandomizedSearchCV",
          "RandomizedSearchCV",
          "RandomizedSearchCV",
          "RandomizedSearchCV",
          "RandomizedSearchCV",
          "RandomizedSearchCV",
          "RandomizedSearchCV",
          "RandomizedSearchCV",
          "RandomizedSearchCV",
          "RandomizedSearchCV",
          "RandomizedSearchCV",
          "RandomizedSearchCV",
          "RandomizedSearchCV",
          "RandomizedSearchCV",
          "RandomizedSearchCV",
          "RandomizedSearchCV",
          "RandomizedSearchCV",
          "RandomizedSearchCV",
          "RandomizedSearchCV",
          "RandomizedSearchCV",
          "RandomizedSearchCV",
          "RandomizedSearchCV",
          "RandomizedSearchCV",
          "RandomizedSearchCV",
          "RandomizedSearchCV",
          "RandomizedSearchCV",
          "RandomizedSearchCV",
          "RandomizedSearchCV",
          "RandomizedSearchCV",
          "RandomizedSearchCV",
          "RandomizedSearchCV",
          "RandomizedSearchCV",
          "RandomizedSearchCV",
          "RandomizedSearchCV",
          "RandomizedSearchCV",
          "RandomizedSearchCV",
          "RandomizedSearchCV",
          "RandomizedSearchCV",
          "RandomizedSearchCV",
          "RandomizedSearchCV",
          "RandomizedSearchCV",
          "RandomizedSearchCV",
          "RandomizedSearchCV",
          "RandomizedSearchCV",
          "RandomizedSearchCV",
          "RandomizedSearchCV",
          "RandomizedSearchCV",
          "RandomizedSearchCV",
          "RandomizedSearchCV",
          "RandomizedSearchCV",
          "RandomizedSearchCV"
         ],
         "legendgroup": "RandomizedSearchCV",
         "line": {
          "color": "#46bac2",
          "dash": "solid",
          "width": 2
         },
         "marker": {
          "symbol": "circle"
         },
         "mode": "lines",
         "name": "RandomizedSearchCV",
         "opacity": 1,
         "orientation": "v",
         "showlegend": false,
         "type": "scatter",
         "x": [
          71,
          72.31,
          73.62,
          74.93,
          76.24,
          77.55,
          78.86,
          80.17,
          81.48,
          82.79,
          84.1,
          85.41,
          86.72,
          88.03,
          89.34,
          90.65,
          91.96000000000001,
          93.27,
          94.58,
          95.89,
          97.2,
          98.51,
          99.82,
          101.13,
          102.44,
          103.75,
          105.06,
          106.37,
          107.68,
          108.99000000000001,
          110.30000000000001,
          111.61,
          112.92,
          114.23,
          115.53999999999999,
          116.85,
          118.16,
          119.47,
          120.78,
          122.09,
          123.4,
          124.71000000000001,
          126.02000000000001,
          127.33000000000001,
          128.64,
          129.95,
          131.26,
          132.57,
          133.88,
          135.19,
          136.5,
          137.81,
          139.12,
          140.43,
          141.74,
          143.05,
          144.36,
          145.67000000000002,
          146.98000000000002,
          148.29000000000002,
          149.60000000000002,
          150.91,
          152.22,
          153.53,
          154.84,
          156.15,
          157.46,
          158.77,
          160.07999999999998,
          161.39,
          162.7,
          164.01,
          165.32,
          166.63,
          167.94,
          169.25,
          170.56,
          171.87,
          173.18,
          174.49,
          175.8,
          177.11,
          178.42000000000002,
          179.73000000000002,
          181.04000000000002,
          182.35000000000002,
          183.66000000000003,
          184.97,
          186.28,
          187.59,
          188.9,
          190.21,
          191.52,
          192.82999999999998,
          194.14,
          195.45,
          196.76,
          198.07,
          199.38,
          200.69,
          202
         ],
         "xaxis": "x8",
         "y": [
          0.8731366210762174,
          0.8686216740114936,
          0.8639937286208933,
          0.8592527354266929,
          0.8543988007044064,
          0.8494321894817458,
          0.8443533279545508,
          0.8391628052924093,
          0.8338613748111044,
          0.8284499544937791,
          0.8229296268477567,
          0.8173016380892161,
          0.8115673966533221,
          0.8057284710328767,
          0.7997865869540096,
          0.7937436239027847,
          0.7876016110217874,
          0.7813627224007151,
          0.7750292717896428,
          0.7686037067679309,
          0.762088602405638,
          0.7554866544577522,
          0.7488006721345399,
          0.7420335704938218,
          0.7351883625029908,
          0.728268150820124,
          0.7212761193445891,
          0.714215524588144,
          0.7070896869176863,
          0.699901981720568,
          0.6926558305427675,
          0.6853546922492503,
          0.6780020542545652,
          0.6706014238701785,
          0.6631563198132249,
          0.6556702639193224,
          0.648146773099862,
          0.6405893515817415,
          0.6330014834649266,
          0.6253866256304608,
          0.6177482010286333,
          0.6100895923739776,
          0.6024141362705769,
          0.5947251177878521,
          0.5870257655035653,
          0.5793192470272317,
          0.5716086650134873,
          0.5638970536712299,
          0.5561873757705595,
          0.5484825201457189,
          0.5407852996883915,
          0.5330984498219118,
          0.5254246274431922,
          0.5177664103155424,
          0.5101262968920734,
          0.502506706546108,
          0.49490998018198756,
          0.48733838119694567,
          0.47979409676232965,
          0.4722792393904544,
          0.46479584875179264,
          0.4573458937060727,
          0.4499312745101951,
          0.4425538251657035,
          0.43521531586884765,
          0.4279174555270759,
          0.42066189430704043,
          0.41345022618090194,
          0.406283991439817,
          0.39916467914595916,
          0.39209372949720667,
          0.3850725360816613,
          0.37810244800240517,
          0.3711847718562657,
          0.36432077355379855,
          0.35751167997113625,
          0.3507586804277251,
          0.3440629279872301,
          0.3374255405819552,
          0.3308476019639736,
          0.32433016248872576,
          0.3178742397391001,
          0.31148081899992847,
          0.3051508535943878,
          0.2988852650949938,
          0.29268494342269746,
          0.28655074684806886,
          0.2804835019086767,
          0.27448400325659095,
          0.26855301344946264,
          0.2626912626979173,
          0.2568994485810755,
          0.2511782357409266,
          0.24552825556507757,
          0.23995010586612334,
          0.23444435056458166,
          0.22901151938104433,
          0.22365210754196008,
          0.21836657550231142,
          0.2131553486874082,
          0.20801881725511828
         ],
         "yaxis": "y8"
        },
        {
         "customdata": [
          [
           0.4604844898666797,
           "RandomizedSearchCV",
           "exang"
          ],
          [
           0.4604844898666797,
           "RandomizedSearchCV",
           "exang"
          ],
          [
           0.4604844898666797,
           "RandomizedSearchCV",
           "exang"
          ],
          [
           0.4604844898666797,
           "RandomizedSearchCV",
           "exang"
          ],
          [
           0.4604844898666797,
           "RandomizedSearchCV",
           "exang"
          ],
          [
           0.4604844898666797,
           "RandomizedSearchCV",
           "exang"
          ],
          [
           0.4604844898666797,
           "RandomizedSearchCV",
           "exang"
          ],
          [
           0.4604844898666797,
           "RandomizedSearchCV",
           "exang"
          ],
          [
           0.4604844898666797,
           "RandomizedSearchCV",
           "exang"
          ],
          [
           0.4604844898666797,
           "RandomizedSearchCV",
           "exang"
          ],
          [
           0.4604844898666797,
           "RandomizedSearchCV",
           "exang"
          ],
          [
           0.4604844898666797,
           "RandomizedSearchCV",
           "exang"
          ],
          [
           0.4604844898666797,
           "RandomizedSearchCV",
           "exang"
          ],
          [
           0.4604844898666797,
           "RandomizedSearchCV",
           "exang"
          ],
          [
           0.4604844898666797,
           "RandomizedSearchCV",
           "exang"
          ],
          [
           0.4604844898666797,
           "RandomizedSearchCV",
           "exang"
          ],
          [
           0.4604844898666797,
           "RandomizedSearchCV",
           "exang"
          ],
          [
           0.4604844898666797,
           "RandomizedSearchCV",
           "exang"
          ],
          [
           0.4604844898666797,
           "RandomizedSearchCV",
           "exang"
          ],
          [
           0.4604844898666797,
           "RandomizedSearchCV",
           "exang"
          ],
          [
           0.4604844898666797,
           "RandomizedSearchCV",
           "exang"
          ],
          [
           0.4604844898666797,
           "RandomizedSearchCV",
           "exang"
          ],
          [
           0.4604844898666797,
           "RandomizedSearchCV",
           "exang"
          ],
          [
           0.4604844898666797,
           "RandomizedSearchCV",
           "exang"
          ],
          [
           0.4604844898666797,
           "RandomizedSearchCV",
           "exang"
          ],
          [
           0.4604844898666797,
           "RandomizedSearchCV",
           "exang"
          ],
          [
           0.4604844898666797,
           "RandomizedSearchCV",
           "exang"
          ],
          [
           0.4604844898666797,
           "RandomizedSearchCV",
           "exang"
          ],
          [
           0.4604844898666797,
           "RandomizedSearchCV",
           "exang"
          ],
          [
           0.4604844898666797,
           "RandomizedSearchCV",
           "exang"
          ],
          [
           0.4604844898666797,
           "RandomizedSearchCV",
           "exang"
          ],
          [
           0.4604844898666797,
           "RandomizedSearchCV",
           "exang"
          ],
          [
           0.4604844898666797,
           "RandomizedSearchCV",
           "exang"
          ],
          [
           0.4604844898666797,
           "RandomizedSearchCV",
           "exang"
          ],
          [
           0.4604844898666797,
           "RandomizedSearchCV",
           "exang"
          ],
          [
           0.4604844898666797,
           "RandomizedSearchCV",
           "exang"
          ],
          [
           0.4604844898666797,
           "RandomizedSearchCV",
           "exang"
          ],
          [
           0.4604844898666797,
           "RandomizedSearchCV",
           "exang"
          ],
          [
           0.4604844898666797,
           "RandomizedSearchCV",
           "exang"
          ],
          [
           0.4604844898666797,
           "RandomizedSearchCV",
           "exang"
          ],
          [
           0.4604844898666797,
           "RandomizedSearchCV",
           "exang"
          ],
          [
           0.4604844898666797,
           "RandomizedSearchCV",
           "exang"
          ],
          [
           0.4604844898666797,
           "RandomizedSearchCV",
           "exang"
          ],
          [
           0.4604844898666797,
           "RandomizedSearchCV",
           "exang"
          ],
          [
           0.4604844898666797,
           "RandomizedSearchCV",
           "exang"
          ],
          [
           0.4604844898666797,
           "RandomizedSearchCV",
           "exang"
          ],
          [
           0.4604844898666797,
           "RandomizedSearchCV",
           "exang"
          ],
          [
           0.4604844898666797,
           "RandomizedSearchCV",
           "exang"
          ],
          [
           0.4604844898666797,
           "RandomizedSearchCV",
           "exang"
          ],
          [
           0.4604844898666797,
           "RandomizedSearchCV",
           "exang"
          ],
          [
           0.4604844898666797,
           "RandomizedSearchCV",
           "exang"
          ],
          [
           0.4604844898666797,
           "RandomizedSearchCV",
           "exang"
          ],
          [
           0.4604844898666797,
           "RandomizedSearchCV",
           "exang"
          ],
          [
           0.4604844898666797,
           "RandomizedSearchCV",
           "exang"
          ],
          [
           0.4604844898666797,
           "RandomizedSearchCV",
           "exang"
          ],
          [
           0.4604844898666797,
           "RandomizedSearchCV",
           "exang"
          ],
          [
           0.4604844898666797,
           "RandomizedSearchCV",
           "exang"
          ],
          [
           0.4604844898666797,
           "RandomizedSearchCV",
           "exang"
          ],
          [
           0.4604844898666797,
           "RandomizedSearchCV",
           "exang"
          ],
          [
           0.4604844898666797,
           "RandomizedSearchCV",
           "exang"
          ],
          [
           0.4604844898666797,
           "RandomizedSearchCV",
           "exang"
          ],
          [
           0.4604844898666797,
           "RandomizedSearchCV",
           "exang"
          ],
          [
           0.4604844898666797,
           "RandomizedSearchCV",
           "exang"
          ],
          [
           0.4604844898666797,
           "RandomizedSearchCV",
           "exang"
          ],
          [
           0.4604844898666797,
           "RandomizedSearchCV",
           "exang"
          ],
          [
           0.4604844898666797,
           "RandomizedSearchCV",
           "exang"
          ],
          [
           0.4604844898666797,
           "RandomizedSearchCV",
           "exang"
          ],
          [
           0.4604844898666797,
           "RandomizedSearchCV",
           "exang"
          ],
          [
           0.4604844898666797,
           "RandomizedSearchCV",
           "exang"
          ],
          [
           0.4604844898666797,
           "RandomizedSearchCV",
           "exang"
          ],
          [
           0.4604844898666797,
           "RandomizedSearchCV",
           "exang"
          ],
          [
           0.4604844898666797,
           "RandomizedSearchCV",
           "exang"
          ],
          [
           0.4604844898666797,
           "RandomizedSearchCV",
           "exang"
          ],
          [
           0.4604844898666797,
           "RandomizedSearchCV",
           "exang"
          ],
          [
           0.4604844898666797,
           "RandomizedSearchCV",
           "exang"
          ],
          [
           0.4604844898666797,
           "RandomizedSearchCV",
           "exang"
          ],
          [
           0.4604844898666797,
           "RandomizedSearchCV",
           "exang"
          ],
          [
           0.4604844898666797,
           "RandomizedSearchCV",
           "exang"
          ],
          [
           0.4604844898666797,
           "RandomizedSearchCV",
           "exang"
          ],
          [
           0.4604844898666797,
           "RandomizedSearchCV",
           "exang"
          ],
          [
           0.4604844898666797,
           "RandomizedSearchCV",
           "exang"
          ],
          [
           0.4604844898666797,
           "RandomizedSearchCV",
           "exang"
          ],
          [
           0.4604844898666797,
           "RandomizedSearchCV",
           "exang"
          ],
          [
           0.4604844898666797,
           "RandomizedSearchCV",
           "exang"
          ],
          [
           0.4604844898666797,
           "RandomizedSearchCV",
           "exang"
          ],
          [
           0.4604844898666797,
           "RandomizedSearchCV",
           "exang"
          ],
          [
           0.4604844898666797,
           "RandomizedSearchCV",
           "exang"
          ],
          [
           0.4604844898666797,
           "RandomizedSearchCV",
           "exang"
          ],
          [
           0.4604844898666797,
           "RandomizedSearchCV",
           "exang"
          ],
          [
           0.4604844898666797,
           "RandomizedSearchCV",
           "exang"
          ],
          [
           0.4604844898666797,
           "RandomizedSearchCV",
           "exang"
          ],
          [
           0.4604844898666797,
           "RandomizedSearchCV",
           "exang"
          ],
          [
           0.4604844898666797,
           "RandomizedSearchCV",
           "exang"
          ],
          [
           0.4604844898666797,
           "RandomizedSearchCV",
           "exang"
          ],
          [
           0.4604844898666797,
           "RandomizedSearchCV",
           "exang"
          ],
          [
           0.4604844898666797,
           "RandomizedSearchCV",
           "exang"
          ],
          [
           0.4604844898666797,
           "RandomizedSearchCV",
           "exang"
          ],
          [
           0.4604844898666797,
           "RandomizedSearchCV",
           "exang"
          ],
          [
           0.4604844898666797,
           "RandomizedSearchCV",
           "exang"
          ],
          [
           0.4604844898666797,
           "RandomizedSearchCV",
           "exang"
          ],
          [
           0.4604844898666797,
           "RandomizedSearchCV",
           "exang"
          ]
         ],
         "hovertemplate": "<b>%{hovertext}</b><br><br>prediction=%{y:.3f}<br>mean_prediction=%{customdata[0]:.3f}<extra></extra>",
         "hovertext": [
          "RandomizedSearchCV",
          "RandomizedSearchCV",
          "RandomizedSearchCV",
          "RandomizedSearchCV",
          "RandomizedSearchCV",
          "RandomizedSearchCV",
          "RandomizedSearchCV",
          "RandomizedSearchCV",
          "RandomizedSearchCV",
          "RandomizedSearchCV",
          "RandomizedSearchCV",
          "RandomizedSearchCV",
          "RandomizedSearchCV",
          "RandomizedSearchCV",
          "RandomizedSearchCV",
          "RandomizedSearchCV",
          "RandomizedSearchCV",
          "RandomizedSearchCV",
          "RandomizedSearchCV",
          "RandomizedSearchCV",
          "RandomizedSearchCV",
          "RandomizedSearchCV",
          "RandomizedSearchCV",
          "RandomizedSearchCV",
          "RandomizedSearchCV",
          "RandomizedSearchCV",
          "RandomizedSearchCV",
          "RandomizedSearchCV",
          "RandomizedSearchCV",
          "RandomizedSearchCV",
          "RandomizedSearchCV",
          "RandomizedSearchCV",
          "RandomizedSearchCV",
          "RandomizedSearchCV",
          "RandomizedSearchCV",
          "RandomizedSearchCV",
          "RandomizedSearchCV",
          "RandomizedSearchCV",
          "RandomizedSearchCV",
          "RandomizedSearchCV",
          "RandomizedSearchCV",
          "RandomizedSearchCV",
          "RandomizedSearchCV",
          "RandomizedSearchCV",
          "RandomizedSearchCV",
          "RandomizedSearchCV",
          "RandomizedSearchCV",
          "RandomizedSearchCV",
          "RandomizedSearchCV",
          "RandomizedSearchCV",
          "RandomizedSearchCV",
          "RandomizedSearchCV",
          "RandomizedSearchCV",
          "RandomizedSearchCV",
          "RandomizedSearchCV",
          "RandomizedSearchCV",
          "RandomizedSearchCV",
          "RandomizedSearchCV",
          "RandomizedSearchCV",
          "RandomizedSearchCV",
          "RandomizedSearchCV",
          "RandomizedSearchCV",
          "RandomizedSearchCV",
          "RandomizedSearchCV",
          "RandomizedSearchCV",
          "RandomizedSearchCV",
          "RandomizedSearchCV",
          "RandomizedSearchCV",
          "RandomizedSearchCV",
          "RandomizedSearchCV",
          "RandomizedSearchCV",
          "RandomizedSearchCV",
          "RandomizedSearchCV",
          "RandomizedSearchCV",
          "RandomizedSearchCV",
          "RandomizedSearchCV",
          "RandomizedSearchCV",
          "RandomizedSearchCV",
          "RandomizedSearchCV",
          "RandomizedSearchCV",
          "RandomizedSearchCV",
          "RandomizedSearchCV",
          "RandomizedSearchCV",
          "RandomizedSearchCV",
          "RandomizedSearchCV",
          "RandomizedSearchCV",
          "RandomizedSearchCV",
          "RandomizedSearchCV",
          "RandomizedSearchCV",
          "RandomizedSearchCV",
          "RandomizedSearchCV",
          "RandomizedSearchCV",
          "RandomizedSearchCV",
          "RandomizedSearchCV",
          "RandomizedSearchCV",
          "RandomizedSearchCV",
          "RandomizedSearchCV",
          "RandomizedSearchCV",
          "RandomizedSearchCV",
          "RandomizedSearchCV",
          "RandomizedSearchCV"
         ],
         "legendgroup": "RandomizedSearchCV",
         "line": {
          "color": "#46bac2",
          "dash": "solid",
          "width": 2
         },
         "marker": {
          "symbol": "circle"
         },
         "mode": "lines",
         "name": "RandomizedSearchCV",
         "opacity": 1,
         "orientation": "v",
         "showlegend": false,
         "type": "scatter",
         "x": [
          0,
          0.01,
          0.02,
          0.03,
          0.04,
          0.05,
          0.06,
          0.07,
          0.08,
          0.09,
          0.1,
          0.11,
          0.12,
          0.13,
          0.14,
          0.15,
          0.16,
          0.17,
          0.18,
          0.19,
          0.2,
          0.21,
          0.22,
          0.23,
          0.24,
          0.25,
          0.26,
          0.27,
          0.28,
          0.29,
          0.3,
          0.31,
          0.32,
          0.33,
          0.34,
          0.35000000000000003,
          0.36,
          0.37,
          0.38,
          0.39,
          0.4,
          0.41000000000000003,
          0.42,
          0.43,
          0.44,
          0.45,
          0.46,
          0.47000000000000003,
          0.48,
          0.49,
          0.5,
          0.51,
          0.52,
          0.53,
          0.54,
          0.55,
          0.56,
          0.5700000000000001,
          0.58,
          0.59,
          0.6,
          0.61,
          0.62,
          0.63,
          0.64,
          0.65,
          0.66,
          0.67,
          0.68,
          0.6900000000000001,
          0.7000000000000001,
          0.71,
          0.72,
          0.73,
          0.74,
          0.75,
          0.76,
          0.77,
          0.78,
          0.79,
          0.8,
          0.81,
          0.8200000000000001,
          0.8300000000000001,
          0.84,
          0.85,
          0.86,
          0.87,
          0.88,
          0.89,
          0.9,
          0.91,
          0.92,
          0.93,
          0.9400000000000001,
          0.9500000000000001,
          0.96,
          0.97,
          0.98,
          0.99,
          1
         ],
         "xaxis": "x5",
         "y": [
          0.449389863339239,
          0.4497595871944061,
          0.45012944502444213,
          0.45049943666245584,
          0.45086956194067807,
          0.45123982069046037,
          0.45161021274227314,
          0.45198073792570487,
          0.45235139606946,
          0.4527221870013577,
          0.45309311054833057,
          0.45346416653642296,
          0.45383535479078974,
          0.45420667513569457,
          0.45457812739450887,
          0.45494971138971024,
          0.45532142694288097,
          0.4556932738747067,
          0.4560652520049751,
          0.45643736115257466,
          0.45680960113549274,
          0.45718197177081504,
          0.4575544728747236,
          0.45792710426249583,
          0.4582998657485029,
          0.45867275714620864,
          0.45904577826816834,
          0.45941892892602704,
          0.45979220893051864,
          0.46016561809146456,
          0.4605391562177722,
          0.460912823117434,
          0.4612866185975259,
          0.46166054246420657,
          0.46203459452271567,
          0.4624087745773728,
          0.46278308243157634,
          0.46315751788780246,
          0.4635320807476033,
          0.46390677081160675,
          0.46428158787951423,
          0.46465653175010024,
          0.4650316022212109,
          0.4654067990897631,
          0.46578212215174314,
          0.4661575712022053,
          0.4665331460352716,
          0.4669088464441298,
          0.4672846722210328,
          0.4676606231572976,
          0.4680366990433039,
          0.4684128996684932,
          0.4687892248213679,
          0.46916567428949013,
          0.4695422478594807,
          0.4699189453170179,
          0.4702957664468371,
          0.47067271103272923,
          0.47104977885753974,
          0.4714269697031679,
          0.4718042833505659,
          0.4721817195797376,
          0.4725592781697377,
          0.47293695889867093,
          0.47331476154369106,
          0.47369268588099983,
          0.47407073168584635,
          0.47444889873252594,
          0.4748271867943794,
          0.47520559564379206,
          0.47558412505219305,
          0.4759627747900543,
          0.4763415446268898,
          0.4767204343312549,
          0.47709944367074497,
          0.4774785724119955,
          0.4778578203206803,
          0.47823718716151153,
          0.4786166726982387,
          0.47899627669364747,
          0.4793759989095595,
          0.47975583910683145,
          0.4801357970453543,
          0.48051587248405275,
          0.4808960651808842,
          0.48127637489283814,
          0.48165680137593614,
          0.48203734438523016,
          0.4824180036748025,
          0.48279877899776513,
          0.4831796701062589,
          0.4835606767514529,
          0.4839417986835442,
          0.4843230356517567,
          0.48470438740434113,
          0.4850858536885739,
          0.485467434250757,
          0.48584912883621734,
          0.486230937189306,
          0.4866128590533979,
          0.48699489417089137
         ],
         "yaxis": "y5"
        },
        {
         "customdata": [
          [
           0.4604844898666797,
           "RandomizedSearchCV",
           "oldpeak"
          ],
          [
           0.4604844898666797,
           "RandomizedSearchCV",
           "oldpeak"
          ],
          [
           0.4604844898666797,
           "RandomizedSearchCV",
           "oldpeak"
          ],
          [
           0.4604844898666797,
           "RandomizedSearchCV",
           "oldpeak"
          ],
          [
           0.4604844898666797,
           "RandomizedSearchCV",
           "oldpeak"
          ],
          [
           0.4604844898666797,
           "RandomizedSearchCV",
           "oldpeak"
          ],
          [
           0.4604844898666797,
           "RandomizedSearchCV",
           "oldpeak"
          ],
          [
           0.4604844898666797,
           "RandomizedSearchCV",
           "oldpeak"
          ],
          [
           0.4604844898666797,
           "RandomizedSearchCV",
           "oldpeak"
          ],
          [
           0.4604844898666797,
           "RandomizedSearchCV",
           "oldpeak"
          ],
          [
           0.4604844898666797,
           "RandomizedSearchCV",
           "oldpeak"
          ],
          [
           0.4604844898666797,
           "RandomizedSearchCV",
           "oldpeak"
          ],
          [
           0.4604844898666797,
           "RandomizedSearchCV",
           "oldpeak"
          ],
          [
           0.4604844898666797,
           "RandomizedSearchCV",
           "oldpeak"
          ],
          [
           0.4604844898666797,
           "RandomizedSearchCV",
           "oldpeak"
          ],
          [
           0.4604844898666797,
           "RandomizedSearchCV",
           "oldpeak"
          ],
          [
           0.4604844898666797,
           "RandomizedSearchCV",
           "oldpeak"
          ],
          [
           0.4604844898666797,
           "RandomizedSearchCV",
           "oldpeak"
          ],
          [
           0.4604844898666797,
           "RandomizedSearchCV",
           "oldpeak"
          ],
          [
           0.4604844898666797,
           "RandomizedSearchCV",
           "oldpeak"
          ],
          [
           0.4604844898666797,
           "RandomizedSearchCV",
           "oldpeak"
          ],
          [
           0.4604844898666797,
           "RandomizedSearchCV",
           "oldpeak"
          ],
          [
           0.4604844898666797,
           "RandomizedSearchCV",
           "oldpeak"
          ],
          [
           0.4604844898666797,
           "RandomizedSearchCV",
           "oldpeak"
          ],
          [
           0.4604844898666797,
           "RandomizedSearchCV",
           "oldpeak"
          ],
          [
           0.4604844898666797,
           "RandomizedSearchCV",
           "oldpeak"
          ],
          [
           0.4604844898666797,
           "RandomizedSearchCV",
           "oldpeak"
          ],
          [
           0.4604844898666797,
           "RandomizedSearchCV",
           "oldpeak"
          ],
          [
           0.4604844898666797,
           "RandomizedSearchCV",
           "oldpeak"
          ],
          [
           0.4604844898666797,
           "RandomizedSearchCV",
           "oldpeak"
          ],
          [
           0.4604844898666797,
           "RandomizedSearchCV",
           "oldpeak"
          ],
          [
           0.4604844898666797,
           "RandomizedSearchCV",
           "oldpeak"
          ],
          [
           0.4604844898666797,
           "RandomizedSearchCV",
           "oldpeak"
          ],
          [
           0.4604844898666797,
           "RandomizedSearchCV",
           "oldpeak"
          ],
          [
           0.4604844898666797,
           "RandomizedSearchCV",
           "oldpeak"
          ],
          [
           0.4604844898666797,
           "RandomizedSearchCV",
           "oldpeak"
          ],
          [
           0.4604844898666797,
           "RandomizedSearchCV",
           "oldpeak"
          ],
          [
           0.4604844898666797,
           "RandomizedSearchCV",
           "oldpeak"
          ],
          [
           0.4604844898666797,
           "RandomizedSearchCV",
           "oldpeak"
          ],
          [
           0.4604844898666797,
           "RandomizedSearchCV",
           "oldpeak"
          ],
          [
           0.4604844898666797,
           "RandomizedSearchCV",
           "oldpeak"
          ],
          [
           0.4604844898666797,
           "RandomizedSearchCV",
           "oldpeak"
          ],
          [
           0.4604844898666797,
           "RandomizedSearchCV",
           "oldpeak"
          ],
          [
           0.4604844898666797,
           "RandomizedSearchCV",
           "oldpeak"
          ],
          [
           0.4604844898666797,
           "RandomizedSearchCV",
           "oldpeak"
          ],
          [
           0.4604844898666797,
           "RandomizedSearchCV",
           "oldpeak"
          ],
          [
           0.4604844898666797,
           "RandomizedSearchCV",
           "oldpeak"
          ],
          [
           0.4604844898666797,
           "RandomizedSearchCV",
           "oldpeak"
          ],
          [
           0.4604844898666797,
           "RandomizedSearchCV",
           "oldpeak"
          ],
          [
           0.4604844898666797,
           "RandomizedSearchCV",
           "oldpeak"
          ],
          [
           0.4604844898666797,
           "RandomizedSearchCV",
           "oldpeak"
          ],
          [
           0.4604844898666797,
           "RandomizedSearchCV",
           "oldpeak"
          ],
          [
           0.4604844898666797,
           "RandomizedSearchCV",
           "oldpeak"
          ],
          [
           0.4604844898666797,
           "RandomizedSearchCV",
           "oldpeak"
          ],
          [
           0.4604844898666797,
           "RandomizedSearchCV",
           "oldpeak"
          ],
          [
           0.4604844898666797,
           "RandomizedSearchCV",
           "oldpeak"
          ],
          [
           0.4604844898666797,
           "RandomizedSearchCV",
           "oldpeak"
          ],
          [
           0.4604844898666797,
           "RandomizedSearchCV",
           "oldpeak"
          ],
          [
           0.4604844898666797,
           "RandomizedSearchCV",
           "oldpeak"
          ],
          [
           0.4604844898666797,
           "RandomizedSearchCV",
           "oldpeak"
          ],
          [
           0.4604844898666797,
           "RandomizedSearchCV",
           "oldpeak"
          ],
          [
           0.4604844898666797,
           "RandomizedSearchCV",
           "oldpeak"
          ],
          [
           0.4604844898666797,
           "RandomizedSearchCV",
           "oldpeak"
          ],
          [
           0.4604844898666797,
           "RandomizedSearchCV",
           "oldpeak"
          ],
          [
           0.4604844898666797,
           "RandomizedSearchCV",
           "oldpeak"
          ],
          [
           0.4604844898666797,
           "RandomizedSearchCV",
           "oldpeak"
          ],
          [
           0.4604844898666797,
           "RandomizedSearchCV",
           "oldpeak"
          ],
          [
           0.4604844898666797,
           "RandomizedSearchCV",
           "oldpeak"
          ],
          [
           0.4604844898666797,
           "RandomizedSearchCV",
           "oldpeak"
          ],
          [
           0.4604844898666797,
           "RandomizedSearchCV",
           "oldpeak"
          ],
          [
           0.4604844898666797,
           "RandomizedSearchCV",
           "oldpeak"
          ],
          [
           0.4604844898666797,
           "RandomizedSearchCV",
           "oldpeak"
          ],
          [
           0.4604844898666797,
           "RandomizedSearchCV",
           "oldpeak"
          ],
          [
           0.4604844898666797,
           "RandomizedSearchCV",
           "oldpeak"
          ],
          [
           0.4604844898666797,
           "RandomizedSearchCV",
           "oldpeak"
          ],
          [
           0.4604844898666797,
           "RandomizedSearchCV",
           "oldpeak"
          ],
          [
           0.4604844898666797,
           "RandomizedSearchCV",
           "oldpeak"
          ],
          [
           0.4604844898666797,
           "RandomizedSearchCV",
           "oldpeak"
          ],
          [
           0.4604844898666797,
           "RandomizedSearchCV",
           "oldpeak"
          ],
          [
           0.4604844898666797,
           "RandomizedSearchCV",
           "oldpeak"
          ],
          [
           0.4604844898666797,
           "RandomizedSearchCV",
           "oldpeak"
          ],
          [
           0.4604844898666797,
           "RandomizedSearchCV",
           "oldpeak"
          ],
          [
           0.4604844898666797,
           "RandomizedSearchCV",
           "oldpeak"
          ],
          [
           0.4604844898666797,
           "RandomizedSearchCV",
           "oldpeak"
          ],
          [
           0.4604844898666797,
           "RandomizedSearchCV",
           "oldpeak"
          ],
          [
           0.4604844898666797,
           "RandomizedSearchCV",
           "oldpeak"
          ],
          [
           0.4604844898666797,
           "RandomizedSearchCV",
           "oldpeak"
          ],
          [
           0.4604844898666797,
           "RandomizedSearchCV",
           "oldpeak"
          ],
          [
           0.4604844898666797,
           "RandomizedSearchCV",
           "oldpeak"
          ],
          [
           0.4604844898666797,
           "RandomizedSearchCV",
           "oldpeak"
          ],
          [
           0.4604844898666797,
           "RandomizedSearchCV",
           "oldpeak"
          ],
          [
           0.4604844898666797,
           "RandomizedSearchCV",
           "oldpeak"
          ],
          [
           0.4604844898666797,
           "RandomizedSearchCV",
           "oldpeak"
          ],
          [
           0.4604844898666797,
           "RandomizedSearchCV",
           "oldpeak"
          ],
          [
           0.4604844898666797,
           "RandomizedSearchCV",
           "oldpeak"
          ],
          [
           0.4604844898666797,
           "RandomizedSearchCV",
           "oldpeak"
          ],
          [
           0.4604844898666797,
           "RandomizedSearchCV",
           "oldpeak"
          ],
          [
           0.4604844898666797,
           "RandomizedSearchCV",
           "oldpeak"
          ],
          [
           0.4604844898666797,
           "RandomizedSearchCV",
           "oldpeak"
          ],
          [
           0.4604844898666797,
           "RandomizedSearchCV",
           "oldpeak"
          ],
          [
           0.4604844898666797,
           "RandomizedSearchCV",
           "oldpeak"
          ]
         ],
         "hovertemplate": "<b>%{hovertext}</b><br><br>prediction=%{y:.3f}<br>mean_prediction=%{customdata[0]:.3f}<extra></extra>",
         "hovertext": [
          "RandomizedSearchCV",
          "RandomizedSearchCV",
          "RandomizedSearchCV",
          "RandomizedSearchCV",
          "RandomizedSearchCV",
          "RandomizedSearchCV",
          "RandomizedSearchCV",
          "RandomizedSearchCV",
          "RandomizedSearchCV",
          "RandomizedSearchCV",
          "RandomizedSearchCV",
          "RandomizedSearchCV",
          "RandomizedSearchCV",
          "RandomizedSearchCV",
          "RandomizedSearchCV",
          "RandomizedSearchCV",
          "RandomizedSearchCV",
          "RandomizedSearchCV",
          "RandomizedSearchCV",
          "RandomizedSearchCV",
          "RandomizedSearchCV",
          "RandomizedSearchCV",
          "RandomizedSearchCV",
          "RandomizedSearchCV",
          "RandomizedSearchCV",
          "RandomizedSearchCV",
          "RandomizedSearchCV",
          "RandomizedSearchCV",
          "RandomizedSearchCV",
          "RandomizedSearchCV",
          "RandomizedSearchCV",
          "RandomizedSearchCV",
          "RandomizedSearchCV",
          "RandomizedSearchCV",
          "RandomizedSearchCV",
          "RandomizedSearchCV",
          "RandomizedSearchCV",
          "RandomizedSearchCV",
          "RandomizedSearchCV",
          "RandomizedSearchCV",
          "RandomizedSearchCV",
          "RandomizedSearchCV",
          "RandomizedSearchCV",
          "RandomizedSearchCV",
          "RandomizedSearchCV",
          "RandomizedSearchCV",
          "RandomizedSearchCV",
          "RandomizedSearchCV",
          "RandomizedSearchCV",
          "RandomizedSearchCV",
          "RandomizedSearchCV",
          "RandomizedSearchCV",
          "RandomizedSearchCV",
          "RandomizedSearchCV",
          "RandomizedSearchCV",
          "RandomizedSearchCV",
          "RandomizedSearchCV",
          "RandomizedSearchCV",
          "RandomizedSearchCV",
          "RandomizedSearchCV",
          "RandomizedSearchCV",
          "RandomizedSearchCV",
          "RandomizedSearchCV",
          "RandomizedSearchCV",
          "RandomizedSearchCV",
          "RandomizedSearchCV",
          "RandomizedSearchCV",
          "RandomizedSearchCV",
          "RandomizedSearchCV",
          "RandomizedSearchCV",
          "RandomizedSearchCV",
          "RandomizedSearchCV",
          "RandomizedSearchCV",
          "RandomizedSearchCV",
          "RandomizedSearchCV",
          "RandomizedSearchCV",
          "RandomizedSearchCV",
          "RandomizedSearchCV",
          "RandomizedSearchCV",
          "RandomizedSearchCV",
          "RandomizedSearchCV",
          "RandomizedSearchCV",
          "RandomizedSearchCV",
          "RandomizedSearchCV",
          "RandomizedSearchCV",
          "RandomizedSearchCV",
          "RandomizedSearchCV",
          "RandomizedSearchCV",
          "RandomizedSearchCV",
          "RandomizedSearchCV",
          "RandomizedSearchCV",
          "RandomizedSearchCV",
          "RandomizedSearchCV",
          "RandomizedSearchCV",
          "RandomizedSearchCV",
          "RandomizedSearchCV",
          "RandomizedSearchCV",
          "RandomizedSearchCV",
          "RandomizedSearchCV",
          "RandomizedSearchCV",
          "RandomizedSearchCV"
         ],
         "legendgroup": "RandomizedSearchCV",
         "line": {
          "color": "#46bac2",
          "dash": "solid",
          "width": 2
         },
         "marker": {
          "symbol": "circle"
         },
         "mode": "lines",
         "name": "RandomizedSearchCV",
         "opacity": 1,
         "orientation": "v",
         "showlegend": false,
         "type": "scatter",
         "x": [
          0,
          0.062,
          0.124,
          0.186,
          0.248,
          0.31,
          0.372,
          0.434,
          0.496,
          0.558,
          0.62,
          0.6819999999999999,
          0.744,
          0.806,
          0.868,
          0.9299999999999999,
          0.992,
          1.054,
          1.116,
          1.178,
          1.24,
          1.302,
          1.3639999999999999,
          1.426,
          1.488,
          1.55,
          1.612,
          1.674,
          1.736,
          1.798,
          1.8599999999999999,
          1.922,
          1.984,
          2.046,
          2.108,
          2.17,
          2.232,
          2.294,
          2.356,
          2.418,
          2.48,
          2.542,
          2.604,
          2.666,
          2.7279999999999998,
          2.79,
          2.852,
          2.914,
          2.976,
          3.038,
          3.1,
          3.162,
          3.224,
          3.286,
          3.348,
          3.41,
          3.472,
          3.534,
          3.596,
          3.658,
          3.7199999999999998,
          3.782,
          3.844,
          3.906,
          3.968,
          4.03,
          4.092,
          4.154,
          4.216,
          4.278,
          4.34,
          4.402,
          4.464,
          4.526,
          4.588,
          4.65,
          4.712,
          4.774,
          4.836,
          4.898,
          4.96,
          5.022,
          5.084,
          5.146,
          5.208,
          5.27,
          5.332,
          5.394,
          5.4559999999999995,
          5.518,
          5.58,
          5.642,
          5.704,
          5.766,
          5.828,
          5.89,
          5.952,
          6.014,
          6.076,
          6.138,
          6.2
         ],
         "xaxis": "x6",
         "y": [
          0.41138026202623496,
          0.41477637217137014,
          0.41818292207885643,
          0.42159980966207883,
          0.42502692966672695,
          0.4284641735333908,
          0.43191142926042697,
          0.43536858126733796,
          0.4388355102589063,
          0.442312093090333,
          0.44579820263363107,
          0.44929370764553,
          0.45279847263714873,
          0.45631235774569745,
          0.459835218608472,
          0.4633669062394044,
          0.46690726690843737,
          0.47045614202398756,
          0.4740133680187675,
          0.4775787762392325,
          0.4811521928389206,
          0.4847334386759506,
          0.4883223292149447,
          0.49191867443363685,
          0.4955222787344275,
          0.49913294086114035,
          0.5027504538212363,
          0.506374604813729,
          0.5100051751630486,
          0.5136419402590875,
          0.5172846695036617,
          0.5209331262636067,
          0.5245870678307277,
          0.5282462453888072,
          0.5319104039878673,
          0.5355792825258764,
          0.5392526137380725,
          0.5429301241940718,
          0.5466115343029119,
          0.5502965583261726,
          0.5539849043992993,
          0.5576762745612421,
          0.5613703647925103,
          0.5650668650617242,
          0.5687654593807341,
          0.5724658258683579,
          0.576167636822775,
          0.5798705588025942,
          0.5835742527166018,
          0.5872783739221741,
          0.5909825723323244,
          0.5946864925313378,
          0.5983897738989258,
          0.6020920507428227,
          0.6057929524397218,
          0.6094921035844362,
          0.6131891241471524,
          0.6168836296386274,
          0.6205752312831633,
          0.62426353619918,
          0.6279481475871908,
          0.6316286649249679,
          0.6353046841696761,
          0.6389757979667333,
          0.6426415958651501,
          0.6463016645390818,
          0.6499555880153193,
          0.6536029479064327,
          0.6572433236492701,
          0.6608762927485083,
          0.66450143102494,
          0.6681183128681717,
          0.6717265114934114,
          0.6753255992020024,
          0.6789151476453656,
          0.6824947280920051,
          0.6860639116972256,
          0.6896222697752092,
          0.6931693740730966,
          0.6967047970467125,
          0.7002281121375803,
          0.7037388940508634,
          0.7072367190338757,
          0.7107211651548015,
          0.7141918125812691,
          0.7176482438584194,
          0.7210900441861205,
          0.7245168016949725,
          0.7279281077207584,
          0.7313235570769969,
          0.7347027483252537,
          0.7380652840428799,
          0.7414107710878428,
          0.744738820860326,
          0.7480490495607743,
          0.7513410784440716,
          0.7546145340695402,
          0.7578690485464591,
          0.7611042597748054,
          0.7643198116809269,
          0.7675153544478641
         ],
         "yaxis": "y6"
        },
        {
         "customdata": [
          [
           0.4604844898666797,
           "RandomizedSearchCV",
           "slope"
          ],
          [
           0.4604844898666797,
           "RandomizedSearchCV",
           "slope"
          ],
          [
           0.4604844898666797,
           "RandomizedSearchCV",
           "slope"
          ],
          [
           0.4604844898666797,
           "RandomizedSearchCV",
           "slope"
          ],
          [
           0.4604844898666797,
           "RandomizedSearchCV",
           "slope"
          ],
          [
           0.4604844898666797,
           "RandomizedSearchCV",
           "slope"
          ],
          [
           0.4604844898666797,
           "RandomizedSearchCV",
           "slope"
          ],
          [
           0.4604844898666797,
           "RandomizedSearchCV",
           "slope"
          ],
          [
           0.4604844898666797,
           "RandomizedSearchCV",
           "slope"
          ],
          [
           0.4604844898666797,
           "RandomizedSearchCV",
           "slope"
          ],
          [
           0.4604844898666797,
           "RandomizedSearchCV",
           "slope"
          ],
          [
           0.4604844898666797,
           "RandomizedSearchCV",
           "slope"
          ],
          [
           0.4604844898666797,
           "RandomizedSearchCV",
           "slope"
          ],
          [
           0.4604844898666797,
           "RandomizedSearchCV",
           "slope"
          ],
          [
           0.4604844898666797,
           "RandomizedSearchCV",
           "slope"
          ],
          [
           0.4604844898666797,
           "RandomizedSearchCV",
           "slope"
          ],
          [
           0.4604844898666797,
           "RandomizedSearchCV",
           "slope"
          ],
          [
           0.4604844898666797,
           "RandomizedSearchCV",
           "slope"
          ],
          [
           0.4604844898666797,
           "RandomizedSearchCV",
           "slope"
          ],
          [
           0.4604844898666797,
           "RandomizedSearchCV",
           "slope"
          ],
          [
           0.4604844898666797,
           "RandomizedSearchCV",
           "slope"
          ],
          [
           0.4604844898666797,
           "RandomizedSearchCV",
           "slope"
          ],
          [
           0.4604844898666797,
           "RandomizedSearchCV",
           "slope"
          ],
          [
           0.4604844898666797,
           "RandomizedSearchCV",
           "slope"
          ],
          [
           0.4604844898666797,
           "RandomizedSearchCV",
           "slope"
          ],
          [
           0.4604844898666797,
           "RandomizedSearchCV",
           "slope"
          ],
          [
           0.4604844898666797,
           "RandomizedSearchCV",
           "slope"
          ],
          [
           0.4604844898666797,
           "RandomizedSearchCV",
           "slope"
          ],
          [
           0.4604844898666797,
           "RandomizedSearchCV",
           "slope"
          ],
          [
           0.4604844898666797,
           "RandomizedSearchCV",
           "slope"
          ],
          [
           0.4604844898666797,
           "RandomizedSearchCV",
           "slope"
          ],
          [
           0.4604844898666797,
           "RandomizedSearchCV",
           "slope"
          ],
          [
           0.4604844898666797,
           "RandomizedSearchCV",
           "slope"
          ],
          [
           0.4604844898666797,
           "RandomizedSearchCV",
           "slope"
          ],
          [
           0.4604844898666797,
           "RandomizedSearchCV",
           "slope"
          ],
          [
           0.4604844898666797,
           "RandomizedSearchCV",
           "slope"
          ],
          [
           0.4604844898666797,
           "RandomizedSearchCV",
           "slope"
          ],
          [
           0.4604844898666797,
           "RandomizedSearchCV",
           "slope"
          ],
          [
           0.4604844898666797,
           "RandomizedSearchCV",
           "slope"
          ],
          [
           0.4604844898666797,
           "RandomizedSearchCV",
           "slope"
          ],
          [
           0.4604844898666797,
           "RandomizedSearchCV",
           "slope"
          ],
          [
           0.4604844898666797,
           "RandomizedSearchCV",
           "slope"
          ],
          [
           0.4604844898666797,
           "RandomizedSearchCV",
           "slope"
          ],
          [
           0.4604844898666797,
           "RandomizedSearchCV",
           "slope"
          ],
          [
           0.4604844898666797,
           "RandomizedSearchCV",
           "slope"
          ],
          [
           0.4604844898666797,
           "RandomizedSearchCV",
           "slope"
          ],
          [
           0.4604844898666797,
           "RandomizedSearchCV",
           "slope"
          ],
          [
           0.4604844898666797,
           "RandomizedSearchCV",
           "slope"
          ],
          [
           0.4604844898666797,
           "RandomizedSearchCV",
           "slope"
          ],
          [
           0.4604844898666797,
           "RandomizedSearchCV",
           "slope"
          ],
          [
           0.4604844898666797,
           "RandomizedSearchCV",
           "slope"
          ],
          [
           0.4604844898666797,
           "RandomizedSearchCV",
           "slope"
          ],
          [
           0.4604844898666797,
           "RandomizedSearchCV",
           "slope"
          ],
          [
           0.4604844898666797,
           "RandomizedSearchCV",
           "slope"
          ],
          [
           0.4604844898666797,
           "RandomizedSearchCV",
           "slope"
          ],
          [
           0.4604844898666797,
           "RandomizedSearchCV",
           "slope"
          ],
          [
           0.4604844898666797,
           "RandomizedSearchCV",
           "slope"
          ],
          [
           0.4604844898666797,
           "RandomizedSearchCV",
           "slope"
          ],
          [
           0.4604844898666797,
           "RandomizedSearchCV",
           "slope"
          ],
          [
           0.4604844898666797,
           "RandomizedSearchCV",
           "slope"
          ],
          [
           0.4604844898666797,
           "RandomizedSearchCV",
           "slope"
          ],
          [
           0.4604844898666797,
           "RandomizedSearchCV",
           "slope"
          ],
          [
           0.4604844898666797,
           "RandomizedSearchCV",
           "slope"
          ],
          [
           0.4604844898666797,
           "RandomizedSearchCV",
           "slope"
          ],
          [
           0.4604844898666797,
           "RandomizedSearchCV",
           "slope"
          ],
          [
           0.4604844898666797,
           "RandomizedSearchCV",
           "slope"
          ],
          [
           0.4604844898666797,
           "RandomizedSearchCV",
           "slope"
          ],
          [
           0.4604844898666797,
           "RandomizedSearchCV",
           "slope"
          ],
          [
           0.4604844898666797,
           "RandomizedSearchCV",
           "slope"
          ],
          [
           0.4604844898666797,
           "RandomizedSearchCV",
           "slope"
          ],
          [
           0.4604844898666797,
           "RandomizedSearchCV",
           "slope"
          ],
          [
           0.4604844898666797,
           "RandomizedSearchCV",
           "slope"
          ],
          [
           0.4604844898666797,
           "RandomizedSearchCV",
           "slope"
          ],
          [
           0.4604844898666797,
           "RandomizedSearchCV",
           "slope"
          ],
          [
           0.4604844898666797,
           "RandomizedSearchCV",
           "slope"
          ],
          [
           0.4604844898666797,
           "RandomizedSearchCV",
           "slope"
          ],
          [
           0.4604844898666797,
           "RandomizedSearchCV",
           "slope"
          ],
          [
           0.4604844898666797,
           "RandomizedSearchCV",
           "slope"
          ],
          [
           0.4604844898666797,
           "RandomizedSearchCV",
           "slope"
          ],
          [
           0.4604844898666797,
           "RandomizedSearchCV",
           "slope"
          ],
          [
           0.4604844898666797,
           "RandomizedSearchCV",
           "slope"
          ],
          [
           0.4604844898666797,
           "RandomizedSearchCV",
           "slope"
          ],
          [
           0.4604844898666797,
           "RandomizedSearchCV",
           "slope"
          ],
          [
           0.4604844898666797,
           "RandomizedSearchCV",
           "slope"
          ],
          [
           0.4604844898666797,
           "RandomizedSearchCV",
           "slope"
          ],
          [
           0.4604844898666797,
           "RandomizedSearchCV",
           "slope"
          ],
          [
           0.4604844898666797,
           "RandomizedSearchCV",
           "slope"
          ],
          [
           0.4604844898666797,
           "RandomizedSearchCV",
           "slope"
          ],
          [
           0.4604844898666797,
           "RandomizedSearchCV",
           "slope"
          ],
          [
           0.4604844898666797,
           "RandomizedSearchCV",
           "slope"
          ],
          [
           0.4604844898666797,
           "RandomizedSearchCV",
           "slope"
          ],
          [
           0.4604844898666797,
           "RandomizedSearchCV",
           "slope"
          ],
          [
           0.4604844898666797,
           "RandomizedSearchCV",
           "slope"
          ],
          [
           0.4604844898666797,
           "RandomizedSearchCV",
           "slope"
          ],
          [
           0.4604844898666797,
           "RandomizedSearchCV",
           "slope"
          ],
          [
           0.4604844898666797,
           "RandomizedSearchCV",
           "slope"
          ],
          [
           0.4604844898666797,
           "RandomizedSearchCV",
           "slope"
          ],
          [
           0.4604844898666797,
           "RandomizedSearchCV",
           "slope"
          ],
          [
           0.4604844898666797,
           "RandomizedSearchCV",
           "slope"
          ],
          [
           0.4604844898666797,
           "RandomizedSearchCV",
           "slope"
          ],
          [
           0.4604844898666797,
           "RandomizedSearchCV",
           "slope"
          ]
         ],
         "hovertemplate": "<b>%{hovertext}</b><br><br>prediction=%{y:.3f}<br>mean_prediction=%{customdata[0]:.3f}<extra></extra>",
         "hovertext": [
          "RandomizedSearchCV",
          "RandomizedSearchCV",
          "RandomizedSearchCV",
          "RandomizedSearchCV",
          "RandomizedSearchCV",
          "RandomizedSearchCV",
          "RandomizedSearchCV",
          "RandomizedSearchCV",
          "RandomizedSearchCV",
          "RandomizedSearchCV",
          "RandomizedSearchCV",
          "RandomizedSearchCV",
          "RandomizedSearchCV",
          "RandomizedSearchCV",
          "RandomizedSearchCV",
          "RandomizedSearchCV",
          "RandomizedSearchCV",
          "RandomizedSearchCV",
          "RandomizedSearchCV",
          "RandomizedSearchCV",
          "RandomizedSearchCV",
          "RandomizedSearchCV",
          "RandomizedSearchCV",
          "RandomizedSearchCV",
          "RandomizedSearchCV",
          "RandomizedSearchCV",
          "RandomizedSearchCV",
          "RandomizedSearchCV",
          "RandomizedSearchCV",
          "RandomizedSearchCV",
          "RandomizedSearchCV",
          "RandomizedSearchCV",
          "RandomizedSearchCV",
          "RandomizedSearchCV",
          "RandomizedSearchCV",
          "RandomizedSearchCV",
          "RandomizedSearchCV",
          "RandomizedSearchCV",
          "RandomizedSearchCV",
          "RandomizedSearchCV",
          "RandomizedSearchCV",
          "RandomizedSearchCV",
          "RandomizedSearchCV",
          "RandomizedSearchCV",
          "RandomizedSearchCV",
          "RandomizedSearchCV",
          "RandomizedSearchCV",
          "RandomizedSearchCV",
          "RandomizedSearchCV",
          "RandomizedSearchCV",
          "RandomizedSearchCV",
          "RandomizedSearchCV",
          "RandomizedSearchCV",
          "RandomizedSearchCV",
          "RandomizedSearchCV",
          "RandomizedSearchCV",
          "RandomizedSearchCV",
          "RandomizedSearchCV",
          "RandomizedSearchCV",
          "RandomizedSearchCV",
          "RandomizedSearchCV",
          "RandomizedSearchCV",
          "RandomizedSearchCV",
          "RandomizedSearchCV",
          "RandomizedSearchCV",
          "RandomizedSearchCV",
          "RandomizedSearchCV",
          "RandomizedSearchCV",
          "RandomizedSearchCV",
          "RandomizedSearchCV",
          "RandomizedSearchCV",
          "RandomizedSearchCV",
          "RandomizedSearchCV",
          "RandomizedSearchCV",
          "RandomizedSearchCV",
          "RandomizedSearchCV",
          "RandomizedSearchCV",
          "RandomizedSearchCV",
          "RandomizedSearchCV",
          "RandomizedSearchCV",
          "RandomizedSearchCV",
          "RandomizedSearchCV",
          "RandomizedSearchCV",
          "RandomizedSearchCV",
          "RandomizedSearchCV",
          "RandomizedSearchCV",
          "RandomizedSearchCV",
          "RandomizedSearchCV",
          "RandomizedSearchCV",
          "RandomizedSearchCV",
          "RandomizedSearchCV",
          "RandomizedSearchCV",
          "RandomizedSearchCV",
          "RandomizedSearchCV",
          "RandomizedSearchCV",
          "RandomizedSearchCV",
          "RandomizedSearchCV",
          "RandomizedSearchCV",
          "RandomizedSearchCV",
          "RandomizedSearchCV",
          "RandomizedSearchCV"
         ],
         "legendgroup": "RandomizedSearchCV",
         "line": {
          "color": "#46bac2",
          "dash": "solid",
          "width": 2
         },
         "marker": {
          "symbol": "circle"
         },
         "mode": "lines",
         "name": "RandomizedSearchCV",
         "opacity": 1,
         "orientation": "v",
         "showlegend": false,
         "type": "scatter",
         "x": [
          0,
          0.02,
          0.04,
          0.06,
          0.08,
          0.1,
          0.12,
          0.14,
          0.16,
          0.18,
          0.2,
          0.22,
          0.24,
          0.26,
          0.28,
          0.3,
          0.32,
          0.34,
          0.36,
          0.38,
          0.4,
          0.42,
          0.44,
          0.46,
          0.48,
          0.5,
          0.52,
          0.54,
          0.56,
          0.58,
          0.6,
          0.62,
          0.64,
          0.66,
          0.68,
          0.7000000000000001,
          0.72,
          0.74,
          0.76,
          0.78,
          0.8,
          0.8200000000000001,
          0.84,
          0.86,
          0.88,
          0.9,
          0.92,
          0.9400000000000001,
          0.96,
          0.98,
          1,
          1.02,
          1.04,
          1.06,
          1.08,
          1.1,
          1.12,
          1.1400000000000001,
          1.16,
          1.18,
          1.2,
          1.22,
          1.24,
          1.26,
          1.28,
          1.3,
          1.32,
          1.34,
          1.36,
          1.3800000000000001,
          1.4000000000000001,
          1.42,
          1.44,
          1.46,
          1.48,
          1.5,
          1.52,
          1.54,
          1.56,
          1.58,
          1.6,
          1.62,
          1.6400000000000001,
          1.6600000000000001,
          1.68,
          1.7,
          1.72,
          1.74,
          1.76,
          1.78,
          1.8,
          1.82,
          1.84,
          1.86,
          1.8800000000000001,
          1.9000000000000001,
          1.92,
          1.94,
          1.96,
          1.98,
          2
         ],
         "xaxis": "x3",
         "y": [
          0.4513999023091373,
          0.45172599558766313,
          0.4520521976586452,
          0.4523785084210542,
          0.4527049277732738,
          0.4530314556130995,
          0.4533580918377376,
          0.4536848363438044,
          0.45401168902732514,
          0.45433864978373256,
          0.4546657185078666,
          0.4549928950939729,
          0.4553201794357021,
          0.4556475714261085,
          0.45597507095764944,
          0.4563026779221844,
          0.45663039221097346,
          0.45695821371467693,
          0.4572861423233541,
          0.4576141779264623,
          0.4579423204128561,
          0.4582705696707862,
          0.4585989255878986,
          0.45892738805123345,
          0.4592559569472245,
          0.4595846321616977,
          0.4599134135798708,
          0.460242301086352,
          0.46057129456513923,
          0.46090039389961934,
          0.4612295989725667,
          0.4615589096661432,
          0.4618883258618965,
          0.46221784744075944,
          0.4625474742830495,
          0.4628772062684673,
          0.46320704327609624,
          0.4635369851844015,
          0.4638670318712288,
          0.46419718321380427,
          0.46452743908873295,
          0.4648577993719983,
          0.4651882639389612,
          0.46551883266435906,
          0.4658495054223054,
          0.4661802820862885,
          0.46651116252917074,
          0.4668421466231881,
          0.46717323423994905,
          0.4675044252504335,
          0.46783571952499275,
          0.4681671169333479,
          0.46849861734458964,
          0.4688302206271771,
          0.4691619266489374,
          0.46949373527706445,
          0.46982564637811874,
          0.47015765981802604,
          0.47048977546207704,
          0.4708219931749263,
          0.47115431282059184,
          0.4714867342624541,
          0.47181925736325525,
          0.47215188198509883,
          0.47248460798944864,
          0.47281743523712794,
          0.473150363588319,
          0.4734833929025627,
          0.473816523038757,
          0.474149753855157,
          0.4744830852093738,
          0.4748165169583743,
          0.4751500489584798,
          0.4754836810653661,
          0.4758174131340624,
          0.4761512450189507,
          0.4764851765737653,
          0.4768192076515919,
          0.47715333810486726,
          0.4774875677853783,
          0.4778218965442619,
          0.4781563242320035,
          0.47849085069843733,
          0.47882547579274537,
          0.47916019936345683,
          0.47949502125844745,
          0.47982994132493906,
          0.48016495940949905,
          0.48050007535803957,
          0.4808352890158171,
          0.481170600227432,
          0.48150600883682765,
          0.48184151468729014,
          0.48217711762144766,
          0.48251281748126995,
          0.48284861410806773,
          0.4831845073424924,
          0.48352049702453515,
          0.4838565829935267,
          0.4841927650881367,
          0.4845290431463733
         ],
         "yaxis": "y3"
        },
        {
         "customdata": [
          [
           0.4604844898666797,
           "RandomizedSearchCV",
           "ca"
          ],
          [
           0.4604844898666797,
           "RandomizedSearchCV",
           "ca"
          ],
          [
           0.4604844898666797,
           "RandomizedSearchCV",
           "ca"
          ],
          [
           0.4604844898666797,
           "RandomizedSearchCV",
           "ca"
          ],
          [
           0.4604844898666797,
           "RandomizedSearchCV",
           "ca"
          ],
          [
           0.4604844898666797,
           "RandomizedSearchCV",
           "ca"
          ],
          [
           0.4604844898666797,
           "RandomizedSearchCV",
           "ca"
          ],
          [
           0.4604844898666797,
           "RandomizedSearchCV",
           "ca"
          ],
          [
           0.4604844898666797,
           "RandomizedSearchCV",
           "ca"
          ],
          [
           0.4604844898666797,
           "RandomizedSearchCV",
           "ca"
          ],
          [
           0.4604844898666797,
           "RandomizedSearchCV",
           "ca"
          ],
          [
           0.4604844898666797,
           "RandomizedSearchCV",
           "ca"
          ],
          [
           0.4604844898666797,
           "RandomizedSearchCV",
           "ca"
          ],
          [
           0.4604844898666797,
           "RandomizedSearchCV",
           "ca"
          ],
          [
           0.4604844898666797,
           "RandomizedSearchCV",
           "ca"
          ],
          [
           0.4604844898666797,
           "RandomizedSearchCV",
           "ca"
          ],
          [
           0.4604844898666797,
           "RandomizedSearchCV",
           "ca"
          ],
          [
           0.4604844898666797,
           "RandomizedSearchCV",
           "ca"
          ],
          [
           0.4604844898666797,
           "RandomizedSearchCV",
           "ca"
          ],
          [
           0.4604844898666797,
           "RandomizedSearchCV",
           "ca"
          ],
          [
           0.4604844898666797,
           "RandomizedSearchCV",
           "ca"
          ],
          [
           0.4604844898666797,
           "RandomizedSearchCV",
           "ca"
          ],
          [
           0.4604844898666797,
           "RandomizedSearchCV",
           "ca"
          ],
          [
           0.4604844898666797,
           "RandomizedSearchCV",
           "ca"
          ],
          [
           0.4604844898666797,
           "RandomizedSearchCV",
           "ca"
          ],
          [
           0.4604844898666797,
           "RandomizedSearchCV",
           "ca"
          ],
          [
           0.4604844898666797,
           "RandomizedSearchCV",
           "ca"
          ],
          [
           0.4604844898666797,
           "RandomizedSearchCV",
           "ca"
          ],
          [
           0.4604844898666797,
           "RandomizedSearchCV",
           "ca"
          ],
          [
           0.4604844898666797,
           "RandomizedSearchCV",
           "ca"
          ],
          [
           0.4604844898666797,
           "RandomizedSearchCV",
           "ca"
          ],
          [
           0.4604844898666797,
           "RandomizedSearchCV",
           "ca"
          ],
          [
           0.4604844898666797,
           "RandomizedSearchCV",
           "ca"
          ],
          [
           0.4604844898666797,
           "RandomizedSearchCV",
           "ca"
          ],
          [
           0.4604844898666797,
           "RandomizedSearchCV",
           "ca"
          ],
          [
           0.4604844898666797,
           "RandomizedSearchCV",
           "ca"
          ],
          [
           0.4604844898666797,
           "RandomizedSearchCV",
           "ca"
          ],
          [
           0.4604844898666797,
           "RandomizedSearchCV",
           "ca"
          ],
          [
           0.4604844898666797,
           "RandomizedSearchCV",
           "ca"
          ],
          [
           0.4604844898666797,
           "RandomizedSearchCV",
           "ca"
          ],
          [
           0.4604844898666797,
           "RandomizedSearchCV",
           "ca"
          ],
          [
           0.4604844898666797,
           "RandomizedSearchCV",
           "ca"
          ],
          [
           0.4604844898666797,
           "RandomizedSearchCV",
           "ca"
          ],
          [
           0.4604844898666797,
           "RandomizedSearchCV",
           "ca"
          ],
          [
           0.4604844898666797,
           "RandomizedSearchCV",
           "ca"
          ],
          [
           0.4604844898666797,
           "RandomizedSearchCV",
           "ca"
          ],
          [
           0.4604844898666797,
           "RandomizedSearchCV",
           "ca"
          ],
          [
           0.4604844898666797,
           "RandomizedSearchCV",
           "ca"
          ],
          [
           0.4604844898666797,
           "RandomizedSearchCV",
           "ca"
          ],
          [
           0.4604844898666797,
           "RandomizedSearchCV",
           "ca"
          ],
          [
           0.4604844898666797,
           "RandomizedSearchCV",
           "ca"
          ],
          [
           0.4604844898666797,
           "RandomizedSearchCV",
           "ca"
          ],
          [
           0.4604844898666797,
           "RandomizedSearchCV",
           "ca"
          ],
          [
           0.4604844898666797,
           "RandomizedSearchCV",
           "ca"
          ],
          [
           0.4604844898666797,
           "RandomizedSearchCV",
           "ca"
          ],
          [
           0.4604844898666797,
           "RandomizedSearchCV",
           "ca"
          ],
          [
           0.4604844898666797,
           "RandomizedSearchCV",
           "ca"
          ],
          [
           0.4604844898666797,
           "RandomizedSearchCV",
           "ca"
          ],
          [
           0.4604844898666797,
           "RandomizedSearchCV",
           "ca"
          ],
          [
           0.4604844898666797,
           "RandomizedSearchCV",
           "ca"
          ],
          [
           0.4604844898666797,
           "RandomizedSearchCV",
           "ca"
          ],
          [
           0.4604844898666797,
           "RandomizedSearchCV",
           "ca"
          ],
          [
           0.4604844898666797,
           "RandomizedSearchCV",
           "ca"
          ],
          [
           0.4604844898666797,
           "RandomizedSearchCV",
           "ca"
          ],
          [
           0.4604844898666797,
           "RandomizedSearchCV",
           "ca"
          ],
          [
           0.4604844898666797,
           "RandomizedSearchCV",
           "ca"
          ],
          [
           0.4604844898666797,
           "RandomizedSearchCV",
           "ca"
          ],
          [
           0.4604844898666797,
           "RandomizedSearchCV",
           "ca"
          ],
          [
           0.4604844898666797,
           "RandomizedSearchCV",
           "ca"
          ],
          [
           0.4604844898666797,
           "RandomizedSearchCV",
           "ca"
          ],
          [
           0.4604844898666797,
           "RandomizedSearchCV",
           "ca"
          ],
          [
           0.4604844898666797,
           "RandomizedSearchCV",
           "ca"
          ],
          [
           0.4604844898666797,
           "RandomizedSearchCV",
           "ca"
          ],
          [
           0.4604844898666797,
           "RandomizedSearchCV",
           "ca"
          ],
          [
           0.4604844898666797,
           "RandomizedSearchCV",
           "ca"
          ],
          [
           0.4604844898666797,
           "RandomizedSearchCV",
           "ca"
          ],
          [
           0.4604844898666797,
           "RandomizedSearchCV",
           "ca"
          ],
          [
           0.4604844898666797,
           "RandomizedSearchCV",
           "ca"
          ],
          [
           0.4604844898666797,
           "RandomizedSearchCV",
           "ca"
          ],
          [
           0.4604844898666797,
           "RandomizedSearchCV",
           "ca"
          ],
          [
           0.4604844898666797,
           "RandomizedSearchCV",
           "ca"
          ],
          [
           0.4604844898666797,
           "RandomizedSearchCV",
           "ca"
          ],
          [
           0.4604844898666797,
           "RandomizedSearchCV",
           "ca"
          ],
          [
           0.4604844898666797,
           "RandomizedSearchCV",
           "ca"
          ],
          [
           0.4604844898666797,
           "RandomizedSearchCV",
           "ca"
          ],
          [
           0.4604844898666797,
           "RandomizedSearchCV",
           "ca"
          ],
          [
           0.4604844898666797,
           "RandomizedSearchCV",
           "ca"
          ],
          [
           0.4604844898666797,
           "RandomizedSearchCV",
           "ca"
          ],
          [
           0.4604844898666797,
           "RandomizedSearchCV",
           "ca"
          ],
          [
           0.4604844898666797,
           "RandomizedSearchCV",
           "ca"
          ],
          [
           0.4604844898666797,
           "RandomizedSearchCV",
           "ca"
          ],
          [
           0.4604844898666797,
           "RandomizedSearchCV",
           "ca"
          ],
          [
           0.4604844898666797,
           "RandomizedSearchCV",
           "ca"
          ],
          [
           0.4604844898666797,
           "RandomizedSearchCV",
           "ca"
          ],
          [
           0.4604844898666797,
           "RandomizedSearchCV",
           "ca"
          ],
          [
           0.4604844898666797,
           "RandomizedSearchCV",
           "ca"
          ],
          [
           0.4604844898666797,
           "RandomizedSearchCV",
           "ca"
          ],
          [
           0.4604844898666797,
           "RandomizedSearchCV",
           "ca"
          ],
          [
           0.4604844898666797,
           "RandomizedSearchCV",
           "ca"
          ],
          [
           0.4604844898666797,
           "RandomizedSearchCV",
           "ca"
          ],
          [
           0.4604844898666797,
           "RandomizedSearchCV",
           "ca"
          ]
         ],
         "hovertemplate": "<b>%{hovertext}</b><br><br>prediction=%{y:.3f}<br>mean_prediction=%{customdata[0]:.3f}<extra></extra>",
         "hovertext": [
          "RandomizedSearchCV",
          "RandomizedSearchCV",
          "RandomizedSearchCV",
          "RandomizedSearchCV",
          "RandomizedSearchCV",
          "RandomizedSearchCV",
          "RandomizedSearchCV",
          "RandomizedSearchCV",
          "RandomizedSearchCV",
          "RandomizedSearchCV",
          "RandomizedSearchCV",
          "RandomizedSearchCV",
          "RandomizedSearchCV",
          "RandomizedSearchCV",
          "RandomizedSearchCV",
          "RandomizedSearchCV",
          "RandomizedSearchCV",
          "RandomizedSearchCV",
          "RandomizedSearchCV",
          "RandomizedSearchCV",
          "RandomizedSearchCV",
          "RandomizedSearchCV",
          "RandomizedSearchCV",
          "RandomizedSearchCV",
          "RandomizedSearchCV",
          "RandomizedSearchCV",
          "RandomizedSearchCV",
          "RandomizedSearchCV",
          "RandomizedSearchCV",
          "RandomizedSearchCV",
          "RandomizedSearchCV",
          "RandomizedSearchCV",
          "RandomizedSearchCV",
          "RandomizedSearchCV",
          "RandomizedSearchCV",
          "RandomizedSearchCV",
          "RandomizedSearchCV",
          "RandomizedSearchCV",
          "RandomizedSearchCV",
          "RandomizedSearchCV",
          "RandomizedSearchCV",
          "RandomizedSearchCV",
          "RandomizedSearchCV",
          "RandomizedSearchCV",
          "RandomizedSearchCV",
          "RandomizedSearchCV",
          "RandomizedSearchCV",
          "RandomizedSearchCV",
          "RandomizedSearchCV",
          "RandomizedSearchCV",
          "RandomizedSearchCV",
          "RandomizedSearchCV",
          "RandomizedSearchCV",
          "RandomizedSearchCV",
          "RandomizedSearchCV",
          "RandomizedSearchCV",
          "RandomizedSearchCV",
          "RandomizedSearchCV",
          "RandomizedSearchCV",
          "RandomizedSearchCV",
          "RandomizedSearchCV",
          "RandomizedSearchCV",
          "RandomizedSearchCV",
          "RandomizedSearchCV",
          "RandomizedSearchCV",
          "RandomizedSearchCV",
          "RandomizedSearchCV",
          "RandomizedSearchCV",
          "RandomizedSearchCV",
          "RandomizedSearchCV",
          "RandomizedSearchCV",
          "RandomizedSearchCV",
          "RandomizedSearchCV",
          "RandomizedSearchCV",
          "RandomizedSearchCV",
          "RandomizedSearchCV",
          "RandomizedSearchCV",
          "RandomizedSearchCV",
          "RandomizedSearchCV",
          "RandomizedSearchCV",
          "RandomizedSearchCV",
          "RandomizedSearchCV",
          "RandomizedSearchCV",
          "RandomizedSearchCV",
          "RandomizedSearchCV",
          "RandomizedSearchCV",
          "RandomizedSearchCV",
          "RandomizedSearchCV",
          "RandomizedSearchCV",
          "RandomizedSearchCV",
          "RandomizedSearchCV",
          "RandomizedSearchCV",
          "RandomizedSearchCV",
          "RandomizedSearchCV",
          "RandomizedSearchCV",
          "RandomizedSearchCV",
          "RandomizedSearchCV",
          "RandomizedSearchCV",
          "RandomizedSearchCV",
          "RandomizedSearchCV",
          "RandomizedSearchCV"
         ],
         "legendgroup": "RandomizedSearchCV",
         "line": {
          "color": "#46bac2",
          "dash": "solid",
          "width": 2
         },
         "marker": {
          "symbol": "circle"
         },
         "mode": "lines",
         "name": "RandomizedSearchCV",
         "opacity": 1,
         "orientation": "v",
         "showlegend": false,
         "type": "scatter",
         "x": [
          0,
          0.03,
          0.06,
          0.09,
          0.12,
          0.15,
          0.18,
          0.21,
          0.24,
          0.27,
          0.3,
          0.32999999999999996,
          0.36,
          0.39,
          0.42,
          0.44999999999999996,
          0.48,
          0.51,
          0.54,
          0.57,
          0.6,
          0.63,
          0.6599999999999999,
          0.69,
          0.72,
          0.75,
          0.78,
          0.8099999999999999,
          0.84,
          0.87,
          0.8999999999999999,
          0.9299999999999999,
          0.96,
          0.99,
          1.02,
          1.05,
          1.08,
          1.1099999999999999,
          1.14,
          1.17,
          1.2,
          1.23,
          1.26,
          1.29,
          1.3199999999999998,
          1.3499999999999999,
          1.38,
          1.41,
          1.44,
          1.47,
          1.5,
          1.53,
          1.56,
          1.5899999999999999,
          1.6199999999999999,
          1.65,
          1.68,
          1.71,
          1.74,
          1.77,
          1.7999999999999998,
          1.8299999999999998,
          1.8599999999999999,
          1.89,
          1.92,
          1.95,
          1.98,
          2.01,
          2.04,
          2.07,
          2.1,
          2.13,
          2.16,
          2.19,
          2.2199999999999998,
          2.25,
          2.28,
          2.31,
          2.34,
          2.37,
          2.4,
          2.4299999999999997,
          2.46,
          2.4899999999999998,
          2.52,
          2.55,
          2.58,
          2.61,
          2.6399999999999997,
          2.67,
          2.6999999999999997,
          2.73,
          2.76,
          2.79,
          2.82,
          2.85,
          2.88,
          2.9099999999999997,
          2.94,
          2.9699999999999998,
          3
         ],
         "xaxis": "x4",
         "y": [
          0.4023058568657188,
          0.4052313349926829,
          0.40816542016072754,
          0.41110803683111224,
          0.4140591067296509,
          0.41701854880461325,
          0.4199862791867161,
          0.42296221115124377,
          0.42594625508233586,
          0.42893831843947733,
          0.43193830572622277,
          0.43494611846118286,
          0.43796165515129976,
          0.44098481126743183,
          0.44401547922226847,
          0.44705354835058997,
          0.45009890489188326,
          0.4531514319753253,
          0.456211009607136,
          0.4592775146603055,
          0.4623508208666921,
          0.4654307988114875,
          0.4685173159300393,
          0.4716102365070205,
          0.47470942167792984,
          0.477814729432905,
          0.48092601462282697,
          0.48404312896769097,
          0.4871659210672164,
          0.4902942364136651,
          0.4934279174068345,
          0.49656680337119113,
          0.49971073057510373,
          0.5028595322521389,
          0.5060130386243733,
          0.5091710769276816,
          0.512333471438951,
          0.515500043505177,
          0.5186706115743915,
          0.5218449912283737,
          0.5250229952170927,
          0.5282044334948336,
          0.5313891132579536,
          0.5345768389842184,
          0.5377674124736703,
          0.5409606328909747,
          0.5441562968091985,
          0.5473541982549723,
          0.5505541287549877,
          0.5537558773837876,
          0.5569592308128034,
          0.5601639733605991,
          0.5633698870442816,
          0.566576751632043,
          0.5697843446967968,
          0.572992441670878,
          0.5762008159017784,
          0.579409238708889,
          0.582617479441228,
          0.5858253055361321,
          0.5890324825788958,
          0.5922387743633418,
          0.5954439429533137,
          0.5986477487450806,
          0.6018499505306493,
          0.6050503055619816,
          0.6082485696161151,
          0.6114444970611932,
          0.6146378409234062,
          0.617828352954853,
          0.6210157837023328,
          0.6241998825770755,
          0.6273803979254288,
          0.630557077100509,
          0.6337296665348388,
          0.6368979118139796,
          0.6400615577511832,
          0.643220348463072,
          0.6463740274463683,
          0.6495223376556886,
          0.652665021582414,
          0.6558018213346569,
          0.6589324787183283,
          0.6620567353193231,
          0.665174332586828,
          0.6682850119177575,
          0.6713885147423219,
          0.6744845826107266,
          0.6775729572809988,
          0.6806533808079331,
          0.6837255956331466,
          0.6867893446762254,
          0.6898443714269431,
          0.6928904200385281,
          0.6959272354219459,
          0.6989545633411672,
          0.7019721505093767,
          0.7049797446860815,
          0.7079770947750663,
          0.7109639509231419,
          0.7139400646196248
         ],
         "yaxis": "y4"
        },
        {
         "customdata": [
          [
           0.4604844898666797,
           "RandomizedSearchCV",
           "thal"
          ],
          [
           0.4604844898666797,
           "RandomizedSearchCV",
           "thal"
          ],
          [
           0.4604844898666797,
           "RandomizedSearchCV",
           "thal"
          ],
          [
           0.4604844898666797,
           "RandomizedSearchCV",
           "thal"
          ],
          [
           0.4604844898666797,
           "RandomizedSearchCV",
           "thal"
          ],
          [
           0.4604844898666797,
           "RandomizedSearchCV",
           "thal"
          ],
          [
           0.4604844898666797,
           "RandomizedSearchCV",
           "thal"
          ],
          [
           0.4604844898666797,
           "RandomizedSearchCV",
           "thal"
          ],
          [
           0.4604844898666797,
           "RandomizedSearchCV",
           "thal"
          ],
          [
           0.4604844898666797,
           "RandomizedSearchCV",
           "thal"
          ],
          [
           0.4604844898666797,
           "RandomizedSearchCV",
           "thal"
          ],
          [
           0.4604844898666797,
           "RandomizedSearchCV",
           "thal"
          ],
          [
           0.4604844898666797,
           "RandomizedSearchCV",
           "thal"
          ],
          [
           0.4604844898666797,
           "RandomizedSearchCV",
           "thal"
          ],
          [
           0.4604844898666797,
           "RandomizedSearchCV",
           "thal"
          ],
          [
           0.4604844898666797,
           "RandomizedSearchCV",
           "thal"
          ],
          [
           0.4604844898666797,
           "RandomizedSearchCV",
           "thal"
          ],
          [
           0.4604844898666797,
           "RandomizedSearchCV",
           "thal"
          ],
          [
           0.4604844898666797,
           "RandomizedSearchCV",
           "thal"
          ],
          [
           0.4604844898666797,
           "RandomizedSearchCV",
           "thal"
          ],
          [
           0.4604844898666797,
           "RandomizedSearchCV",
           "thal"
          ],
          [
           0.4604844898666797,
           "RandomizedSearchCV",
           "thal"
          ],
          [
           0.4604844898666797,
           "RandomizedSearchCV",
           "thal"
          ],
          [
           0.4604844898666797,
           "RandomizedSearchCV",
           "thal"
          ],
          [
           0.4604844898666797,
           "RandomizedSearchCV",
           "thal"
          ],
          [
           0.4604844898666797,
           "RandomizedSearchCV",
           "thal"
          ],
          [
           0.4604844898666797,
           "RandomizedSearchCV",
           "thal"
          ],
          [
           0.4604844898666797,
           "RandomizedSearchCV",
           "thal"
          ],
          [
           0.4604844898666797,
           "RandomizedSearchCV",
           "thal"
          ],
          [
           0.4604844898666797,
           "RandomizedSearchCV",
           "thal"
          ],
          [
           0.4604844898666797,
           "RandomizedSearchCV",
           "thal"
          ],
          [
           0.4604844898666797,
           "RandomizedSearchCV",
           "thal"
          ],
          [
           0.4604844898666797,
           "RandomizedSearchCV",
           "thal"
          ],
          [
           0.4604844898666797,
           "RandomizedSearchCV",
           "thal"
          ],
          [
           0.4604844898666797,
           "RandomizedSearchCV",
           "thal"
          ],
          [
           0.4604844898666797,
           "RandomizedSearchCV",
           "thal"
          ],
          [
           0.4604844898666797,
           "RandomizedSearchCV",
           "thal"
          ],
          [
           0.4604844898666797,
           "RandomizedSearchCV",
           "thal"
          ],
          [
           0.4604844898666797,
           "RandomizedSearchCV",
           "thal"
          ],
          [
           0.4604844898666797,
           "RandomizedSearchCV",
           "thal"
          ],
          [
           0.4604844898666797,
           "RandomizedSearchCV",
           "thal"
          ],
          [
           0.4604844898666797,
           "RandomizedSearchCV",
           "thal"
          ],
          [
           0.4604844898666797,
           "RandomizedSearchCV",
           "thal"
          ],
          [
           0.4604844898666797,
           "RandomizedSearchCV",
           "thal"
          ],
          [
           0.4604844898666797,
           "RandomizedSearchCV",
           "thal"
          ],
          [
           0.4604844898666797,
           "RandomizedSearchCV",
           "thal"
          ],
          [
           0.4604844898666797,
           "RandomizedSearchCV",
           "thal"
          ],
          [
           0.4604844898666797,
           "RandomizedSearchCV",
           "thal"
          ],
          [
           0.4604844898666797,
           "RandomizedSearchCV",
           "thal"
          ],
          [
           0.4604844898666797,
           "RandomizedSearchCV",
           "thal"
          ],
          [
           0.4604844898666797,
           "RandomizedSearchCV",
           "thal"
          ],
          [
           0.4604844898666797,
           "RandomizedSearchCV",
           "thal"
          ],
          [
           0.4604844898666797,
           "RandomizedSearchCV",
           "thal"
          ],
          [
           0.4604844898666797,
           "RandomizedSearchCV",
           "thal"
          ],
          [
           0.4604844898666797,
           "RandomizedSearchCV",
           "thal"
          ],
          [
           0.4604844898666797,
           "RandomizedSearchCV",
           "thal"
          ],
          [
           0.4604844898666797,
           "RandomizedSearchCV",
           "thal"
          ],
          [
           0.4604844898666797,
           "RandomizedSearchCV",
           "thal"
          ],
          [
           0.4604844898666797,
           "RandomizedSearchCV",
           "thal"
          ],
          [
           0.4604844898666797,
           "RandomizedSearchCV",
           "thal"
          ],
          [
           0.4604844898666797,
           "RandomizedSearchCV",
           "thal"
          ],
          [
           0.4604844898666797,
           "RandomizedSearchCV",
           "thal"
          ],
          [
           0.4604844898666797,
           "RandomizedSearchCV",
           "thal"
          ],
          [
           0.4604844898666797,
           "RandomizedSearchCV",
           "thal"
          ],
          [
           0.4604844898666797,
           "RandomizedSearchCV",
           "thal"
          ],
          [
           0.4604844898666797,
           "RandomizedSearchCV",
           "thal"
          ],
          [
           0.4604844898666797,
           "RandomizedSearchCV",
           "thal"
          ],
          [
           0.4604844898666797,
           "RandomizedSearchCV",
           "thal"
          ],
          [
           0.4604844898666797,
           "RandomizedSearchCV",
           "thal"
          ],
          [
           0.4604844898666797,
           "RandomizedSearchCV",
           "thal"
          ],
          [
           0.4604844898666797,
           "RandomizedSearchCV",
           "thal"
          ],
          [
           0.4604844898666797,
           "RandomizedSearchCV",
           "thal"
          ],
          [
           0.4604844898666797,
           "RandomizedSearchCV",
           "thal"
          ],
          [
           0.4604844898666797,
           "RandomizedSearchCV",
           "thal"
          ],
          [
           0.4604844898666797,
           "RandomizedSearchCV",
           "thal"
          ],
          [
           0.4604844898666797,
           "RandomizedSearchCV",
           "thal"
          ],
          [
           0.4604844898666797,
           "RandomizedSearchCV",
           "thal"
          ],
          [
           0.4604844898666797,
           "RandomizedSearchCV",
           "thal"
          ],
          [
           0.4604844898666797,
           "RandomizedSearchCV",
           "thal"
          ],
          [
           0.4604844898666797,
           "RandomizedSearchCV",
           "thal"
          ],
          [
           0.4604844898666797,
           "RandomizedSearchCV",
           "thal"
          ],
          [
           0.4604844898666797,
           "RandomizedSearchCV",
           "thal"
          ],
          [
           0.4604844898666797,
           "RandomizedSearchCV",
           "thal"
          ],
          [
           0.4604844898666797,
           "RandomizedSearchCV",
           "thal"
          ],
          [
           0.4604844898666797,
           "RandomizedSearchCV",
           "thal"
          ],
          [
           0.4604844898666797,
           "RandomizedSearchCV",
           "thal"
          ],
          [
           0.4604844898666797,
           "RandomizedSearchCV",
           "thal"
          ],
          [
           0.4604844898666797,
           "RandomizedSearchCV",
           "thal"
          ],
          [
           0.4604844898666797,
           "RandomizedSearchCV",
           "thal"
          ],
          [
           0.4604844898666797,
           "RandomizedSearchCV",
           "thal"
          ],
          [
           0.4604844898666797,
           "RandomizedSearchCV",
           "thal"
          ],
          [
           0.4604844898666797,
           "RandomizedSearchCV",
           "thal"
          ],
          [
           0.4604844898666797,
           "RandomizedSearchCV",
           "thal"
          ],
          [
           0.4604844898666797,
           "RandomizedSearchCV",
           "thal"
          ],
          [
           0.4604844898666797,
           "RandomizedSearchCV",
           "thal"
          ],
          [
           0.4604844898666797,
           "RandomizedSearchCV",
           "thal"
          ],
          [
           0.4604844898666797,
           "RandomizedSearchCV",
           "thal"
          ],
          [
           0.4604844898666797,
           "RandomizedSearchCV",
           "thal"
          ],
          [
           0.4604844898666797,
           "RandomizedSearchCV",
           "thal"
          ],
          [
           0.4604844898666797,
           "RandomizedSearchCV",
           "thal"
          ],
          [
           0.4604844898666797,
           "RandomizedSearchCV",
           "thal"
          ]
         ],
         "hovertemplate": "<b>%{hovertext}</b><br><br>prediction=%{y:.3f}<br>mean_prediction=%{customdata[0]:.3f}<extra></extra>",
         "hovertext": [
          "RandomizedSearchCV",
          "RandomizedSearchCV",
          "RandomizedSearchCV",
          "RandomizedSearchCV",
          "RandomizedSearchCV",
          "RandomizedSearchCV",
          "RandomizedSearchCV",
          "RandomizedSearchCV",
          "RandomizedSearchCV",
          "RandomizedSearchCV",
          "RandomizedSearchCV",
          "RandomizedSearchCV",
          "RandomizedSearchCV",
          "RandomizedSearchCV",
          "RandomizedSearchCV",
          "RandomizedSearchCV",
          "RandomizedSearchCV",
          "RandomizedSearchCV",
          "RandomizedSearchCV",
          "RandomizedSearchCV",
          "RandomizedSearchCV",
          "RandomizedSearchCV",
          "RandomizedSearchCV",
          "RandomizedSearchCV",
          "RandomizedSearchCV",
          "RandomizedSearchCV",
          "RandomizedSearchCV",
          "RandomizedSearchCV",
          "RandomizedSearchCV",
          "RandomizedSearchCV",
          "RandomizedSearchCV",
          "RandomizedSearchCV",
          "RandomizedSearchCV",
          "RandomizedSearchCV",
          "RandomizedSearchCV",
          "RandomizedSearchCV",
          "RandomizedSearchCV",
          "RandomizedSearchCV",
          "RandomizedSearchCV",
          "RandomizedSearchCV",
          "RandomizedSearchCV",
          "RandomizedSearchCV",
          "RandomizedSearchCV",
          "RandomizedSearchCV",
          "RandomizedSearchCV",
          "RandomizedSearchCV",
          "RandomizedSearchCV",
          "RandomizedSearchCV",
          "RandomizedSearchCV",
          "RandomizedSearchCV",
          "RandomizedSearchCV",
          "RandomizedSearchCV",
          "RandomizedSearchCV",
          "RandomizedSearchCV",
          "RandomizedSearchCV",
          "RandomizedSearchCV",
          "RandomizedSearchCV",
          "RandomizedSearchCV",
          "RandomizedSearchCV",
          "RandomizedSearchCV",
          "RandomizedSearchCV",
          "RandomizedSearchCV",
          "RandomizedSearchCV",
          "RandomizedSearchCV",
          "RandomizedSearchCV",
          "RandomizedSearchCV",
          "RandomizedSearchCV",
          "RandomizedSearchCV",
          "RandomizedSearchCV",
          "RandomizedSearchCV",
          "RandomizedSearchCV",
          "RandomizedSearchCV",
          "RandomizedSearchCV",
          "RandomizedSearchCV",
          "RandomizedSearchCV",
          "RandomizedSearchCV",
          "RandomizedSearchCV",
          "RandomizedSearchCV",
          "RandomizedSearchCV",
          "RandomizedSearchCV",
          "RandomizedSearchCV",
          "RandomizedSearchCV",
          "RandomizedSearchCV",
          "RandomizedSearchCV",
          "RandomizedSearchCV",
          "RandomizedSearchCV",
          "RandomizedSearchCV",
          "RandomizedSearchCV",
          "RandomizedSearchCV",
          "RandomizedSearchCV",
          "RandomizedSearchCV",
          "RandomizedSearchCV",
          "RandomizedSearchCV",
          "RandomizedSearchCV",
          "RandomizedSearchCV",
          "RandomizedSearchCV",
          "RandomizedSearchCV",
          "RandomizedSearchCV",
          "RandomizedSearchCV",
          "RandomizedSearchCV",
          "RandomizedSearchCV"
         ],
         "legendgroup": "RandomizedSearchCV",
         "line": {
          "color": "#46bac2",
          "dash": "solid",
          "width": 2
         },
         "marker": {
          "symbol": "circle"
         },
         "mode": "lines",
         "name": "RandomizedSearchCV",
         "opacity": 1,
         "orientation": "v",
         "showlegend": false,
         "type": "scatter",
         "x": [
          0,
          0.02,
          0.04,
          0.06,
          0.08,
          0.1,
          0.12,
          0.14,
          0.16,
          0.18,
          0.2,
          0.22,
          0.24,
          0.26,
          0.28,
          0.3,
          0.32,
          0.34,
          0.36,
          0.38,
          0.4,
          0.42,
          0.44,
          0.46,
          0.48,
          0.5,
          0.52,
          0.54,
          0.56,
          0.58,
          0.6,
          0.62,
          0.64,
          0.66,
          0.68,
          0.7000000000000001,
          0.72,
          0.74,
          0.76,
          0.78,
          0.8,
          0.8200000000000001,
          0.84,
          0.86,
          0.88,
          0.9,
          0.92,
          0.9400000000000001,
          0.96,
          0.98,
          1,
          1.02,
          1.04,
          1.06,
          1.08,
          1.1,
          1.12,
          1.1400000000000001,
          1.16,
          1.18,
          1.2,
          1.22,
          1.24,
          1.26,
          1.28,
          1.3,
          1.32,
          1.34,
          1.36,
          1.3800000000000001,
          1.4000000000000001,
          1.42,
          1.44,
          1.46,
          1.48,
          1.5,
          1.52,
          1.54,
          1.56,
          1.58,
          1.6,
          1.62,
          1.6400000000000001,
          1.6600000000000001,
          1.68,
          1.7,
          1.72,
          1.74,
          1.76,
          1.78,
          1.8,
          1.82,
          1.84,
          1.86,
          1.8800000000000001,
          1.9000000000000001,
          1.92,
          1.94,
          1.96,
          1.98,
          2
         ],
         "xaxis": "x",
         "y": [
          0.3799764803031551,
          0.38189186849049306,
          0.38381215204511254,
          0.3857373085693826,
          0.38766731503120627,
          0.38960214775716334,
          0.39154178242580523,
          0.3934861940611069,
          0.39543535702608157,
          0.3973892450165633,
          0.3993478310551644,
          0.4013110874854101,
          0.40327898596605877,
          0.40525149746561057,
          0.40722859225701064,
          0.409210239912551,
          0.411196409298977,
          0.4131870685728009,
          0.4151821851758297,
          0.4171817258309094,
          0.4191856565378904,
          0.4211939425698196,
          0.4232065484693609,
          0.42522343804544865,
          0.42724457437017893,
          0.42926991977594015,
          0.4312994358527874,
          0.4333330834460634,
          0.43537082265426896,
          0.4374126128271856,
          0.43945841256425333,
          0.44150817971320555,
          0.44356187136896325,
          0.4456194438727914,
          0.4476808528117182,
          0.44974605301821985,
          0.4518149985701718,
          0.4538876427910681,
          0.45596393825050957,
          0.45804383676496274,
          0.46012728939878866,
          0.46221424646554393,
          0.464304657529553,
          0.46639847140775287,
          0.46849563617180945,
          0.4705960991505061,
          0.4726998069324033,
          0.4748067053687701,
          0.47691673957678504,
          0.4790298539430072,
          0.4811459921271148,
          0.4832650970659121,
          0.48538711097760134,
          0.48751197536631935,
          0.4896396310269361,
          0.4917700180501148,
          0.49390307582763,
          0.49603874305794277,
          0.49817695775202936,
          0.5003176572394622,
          0.5024607781747394,
          0.5046062565438617,
          0.5067540276711511,
          0.5089040262263124,
          0.5110561862317295,
          0.5132104410699986,
          0.5153667234916893,
          0.5175249656233357,
          0.5196850989756496,
          0.5218470544519546,
          0.524010762356836,
          0.5261761524050044,
          0.5283431537303662,
          0.5305116948953005,
          0.5326817039001357,
          0.5348531081928221,
          0.5370258346787982,
          0.5391998097310433,
          0.5413749592003158,
          0.543551208425568,
          0.5457284822445393,
          0.5479067050045175,
          0.5500858005732668,
          0.5522656923501178,
          0.5544463032772144,
          0.5566275558509133,
          0.5588093721333309,
          0.5609916737640357,
          0.5631743819718769,
          0.5653574175869494,
          0.5675407010526883,
          0.5697241524380885,
          0.5719076914500452,
          0.5740912374458106,
          0.5762747094455628,
          0.5784580261450823,
          0.5806411059285302,
          0.5828238668813267,
          0.5850062268031228,
          0.587188103220861,
          0.5893694134019244
         ],
         "yaxis": "y"
        }
       ],
       "layout": {
        "annotations": [
         {
          "font": {
           "size": 13
          },
          "showarrow": false,
          "text": "thal",
          "x": 0.2375,
          "xanchor": "center",
          "xref": "paper",
          "y": 0.10612244897959183,
          "yanchor": "bottom",
          "yref": "paper"
         },
         {
          "font": {
           "size": 13
          },
          "showarrow": false,
          "text": "slope",
          "x": 0.2375,
          "xanchor": "center",
          "xref": "paper",
          "y": 0.25510204081632654,
          "yanchor": "bottom",
          "yref": "paper"
         },
         {
          "font": {
           "size": 13
          },
          "showarrow": false,
          "text": "ca",
          "x": 0.7625,
          "xanchor": "center",
          "xref": "paper",
          "y": 0.25510204081632654,
          "yanchor": "bottom",
          "yref": "paper"
         },
         {
          "font": {
           "size": 13
          },
          "showarrow": false,
          "text": "exang",
          "x": 0.2375,
          "xanchor": "center",
          "xref": "paper",
          "y": 0.40408163265306124,
          "yanchor": "bottom",
          "yref": "paper"
         },
         {
          "font": {
           "size": 13
          },
          "showarrow": false,
          "text": "oldpeak",
          "x": 0.7625,
          "xanchor": "center",
          "xref": "paper",
          "y": 0.40408163265306124,
          "yanchor": "bottom",
          "yref": "paper"
         },
         {
          "font": {
           "size": 13
          },
          "showarrow": false,
          "text": "restecg",
          "x": 0.2375,
          "xanchor": "center",
          "xref": "paper",
          "y": 0.5530612244897959,
          "yanchor": "bottom",
          "yref": "paper"
         },
         {
          "font": {
           "size": 13
          },
          "showarrow": false,
          "text": "thalach",
          "x": 0.7625,
          "xanchor": "center",
          "xref": "paper",
          "y": 0.5530612244897959,
          "yanchor": "bottom",
          "yref": "paper"
         },
         {
          "font": {
           "size": 13
          },
          "showarrow": false,
          "text": "chol",
          "x": 0.2375,
          "xanchor": "center",
          "xref": "paper",
          "y": 0.7020408163265306,
          "yanchor": "bottom",
          "yref": "paper"
         },
         {
          "font": {
           "size": 13
          },
          "showarrow": false,
          "text": "fbs",
          "x": 0.7625,
          "xanchor": "center",
          "xref": "paper",
          "y": 0.7020408163265306,
          "yanchor": "bottom",
          "yref": "paper"
         },
         {
          "font": {
           "size": 13
          },
          "showarrow": false,
          "text": "cp",
          "x": 0.2375,
          "xanchor": "center",
          "xref": "paper",
          "y": 0.8510204081632653,
          "yanchor": "bottom",
          "yref": "paper"
         },
         {
          "font": {
           "size": 13
          },
          "showarrow": false,
          "text": "trestbps",
          "x": 0.7625,
          "xanchor": "center",
          "xref": "paper",
          "y": 0.8510204081632653,
          "yanchor": "bottom",
          "yref": "paper"
         },
         {
          "font": {
           "size": 13
          },
          "showarrow": false,
          "text": "age",
          "x": 0.2375,
          "xanchor": "center",
          "xref": "paper",
          "y": 0.9999999999999998,
          "yanchor": "bottom",
          "yref": "paper"
         },
         {
          "font": {
           "size": 13
          },
          "showarrow": false,
          "text": "sex",
          "x": 0.7625,
          "xanchor": "center",
          "xref": "paper",
          "y": 0.9999999999999998,
          "yanchor": "bottom",
          "yref": "paper"
         },
         {
          "font": {
           "size": 13
          },
          "showarrow": false,
          "text": "prediction",
          "textangle": -90,
          "x": -0.07,
          "xref": "paper",
          "y": 0.5,
          "yref": "paper"
         }
        ],
        "font": {
         "color": "#371ea3"
        },
        "height": 2529,
        "hovermode": "x unified",
        "legend": {
         "font": {
          "size": 11
         },
         "itemsizing": "constant",
         "orientation": "h",
         "title": {
          "font": {
           "size": 12
          },
          "text": "label"
         },
         "tracegroupgap": 0,
         "x": 1,
         "xanchor": "right",
         "y": 1.0118623962040332,
         "yanchor": "bottom"
        },
        "margin": {
         "b": 71,
         "r": 30,
         "t": 78
        },
        "template": {
         "data": {
          "scatter": [
           {
            "type": "scatter"
           }
          ]
         }
        },
        "title": {
         "font": {
          "size": 16
         },
         "text": "Aggregated Profiles",
         "x": 0.15
        },
        "xaxis": {
         "anchor": "y",
         "automargin": true,
         "domain": [
          0,
          0.475
         ],
         "fixedrange": true,
         "gridwidth": 2,
         "showticklabels": true,
         "tickcolor": "white",
         "ticklen": 3,
         "ticks": "outside",
         "title": {
          "text": ""
         },
         "type": "linear",
         "zeroline": false
        },
        "xaxis10": {
         "anchor": "y10",
         "automargin": true,
         "domain": [
          0.525,
          1
         ],
         "fixedrange": true,
         "gridwidth": 2,
         "showticklabels": true,
         "tickcolor": "white",
         "ticklen": 3,
         "ticks": "outside",
         "title": {
          "text": ""
         },
         "type": "linear",
         "zeroline": false
        },
        "xaxis11": {
         "anchor": "y11",
         "automargin": true,
         "domain": [
          0,
          0.475
         ],
         "fixedrange": true,
         "gridwidth": 2,
         "showticklabels": true,
         "tickcolor": "white",
         "ticklen": 3,
         "ticks": "outside",
         "title": {
          "text": ""
         },
         "type": "linear",
         "zeroline": false
        },
        "xaxis12": {
         "anchor": "y12",
         "automargin": true,
         "domain": [
          0.525,
          1
         ],
         "fixedrange": true,
         "gridwidth": 2,
         "showticklabels": true,
         "tickcolor": "white",
         "ticklen": 3,
         "ticks": "outside",
         "title": {
          "text": ""
         },
         "type": "linear",
         "zeroline": false
        },
        "xaxis13": {
         "anchor": "y13",
         "automargin": true,
         "domain": [
          0,
          0.475
         ],
         "fixedrange": true,
         "gridwidth": 2,
         "showticklabels": true,
         "tickcolor": "white",
         "ticklen": 3,
         "ticks": "outside",
         "title": {
          "text": ""
         },
         "type": "linear",
         "zeroline": false
        },
        "xaxis14": {
         "anchor": "y14",
         "automargin": true,
         "domain": [
          0.525,
          1
         ],
         "fixedrange": true,
         "gridwidth": 2,
         "showticklabels": true,
         "tickcolor": "white",
         "ticklen": 3,
         "ticks": "outside",
         "title": {
          "text": ""
         },
         "type": "linear",
         "zeroline": false
        },
        "xaxis2": {
         "anchor": "y2",
         "automargin": true,
         "domain": [
          0.525,
          1
         ],
         "fixedrange": true,
         "gridwidth": 2,
         "showticklabels": true,
         "tickcolor": "white",
         "ticklen": 3,
         "ticks": "outside",
         "title": {
          "text": ""
         },
         "type": "linear",
         "zeroline": false
        },
        "xaxis3": {
         "anchor": "y3",
         "automargin": true,
         "domain": [
          0,
          0.475
         ],
         "fixedrange": true,
         "gridwidth": 2,
         "showticklabels": true,
         "tickcolor": "white",
         "ticklen": 3,
         "ticks": "outside",
         "title": {
          "text": ""
         },
         "type": "linear",
         "zeroline": false
        },
        "xaxis4": {
         "anchor": "y4",
         "automargin": true,
         "domain": [
          0.525,
          1
         ],
         "fixedrange": true,
         "gridwidth": 2,
         "showticklabels": true,
         "tickcolor": "white",
         "ticklen": 3,
         "ticks": "outside",
         "title": {
          "text": ""
         },
         "type": "linear",
         "zeroline": false
        },
        "xaxis5": {
         "anchor": "y5",
         "automargin": true,
         "domain": [
          0,
          0.475
         ],
         "fixedrange": true,
         "gridwidth": 2,
         "showticklabels": true,
         "tickcolor": "white",
         "ticklen": 3,
         "ticks": "outside",
         "title": {
          "text": ""
         },
         "type": "linear",
         "zeroline": false
        },
        "xaxis6": {
         "anchor": "y6",
         "automargin": true,
         "domain": [
          0.525,
          1
         ],
         "fixedrange": true,
         "gridwidth": 2,
         "showticklabels": true,
         "tickcolor": "white",
         "ticklen": 3,
         "ticks": "outside",
         "title": {
          "text": ""
         },
         "type": "linear",
         "zeroline": false
        },
        "xaxis7": {
         "anchor": "y7",
         "automargin": true,
         "domain": [
          0,
          0.475
         ],
         "fixedrange": true,
         "gridwidth": 2,
         "showticklabels": true,
         "tickcolor": "white",
         "ticklen": 3,
         "ticks": "outside",
         "title": {
          "text": ""
         },
         "type": "linear",
         "zeroline": false
        },
        "xaxis8": {
         "anchor": "y8",
         "automargin": true,
         "domain": [
          0.525,
          1
         ],
         "fixedrange": true,
         "gridwidth": 2,
         "showticklabels": true,
         "tickcolor": "white",
         "ticklen": 3,
         "ticks": "outside",
         "title": {
          "text": ""
         },
         "type": "linear",
         "zeroline": false
        },
        "xaxis9": {
         "anchor": "y9",
         "automargin": true,
         "domain": [
          0,
          0.475
         ],
         "fixedrange": true,
         "gridwidth": 2,
         "showticklabels": true,
         "tickcolor": "white",
         "ticklen": 3,
         "ticks": "outside",
         "title": {
          "text": ""
         },
         "type": "linear",
         "zeroline": false
        },
        "yaxis": {
         "anchor": "x",
         "automargin": true,
         "domain": [
          0,
          0.10612244897959183
         ],
         "fixedrange": true,
         "gridwidth": 2,
         "range": [
          0.14150703687300836,
          0.9396484014583273
         ],
         "tickcolor": "white",
         "ticklen": 3,
         "ticks": "outside",
         "title": {
          "text": ""
         },
         "type": "linear",
         "zeroline": false
        },
        "yaxis10": {
         "anchor": "x10",
         "automargin": true,
         "domain": [
          0.5959183673469388,
          0.7020408163265306
         ],
         "fixedrange": true,
         "gridwidth": 2,
         "matches": "y",
         "showticklabels": false,
         "tickcolor": "white",
         "ticklen": 3,
         "ticks": "outside",
         "title": {
          "text": ""
         },
         "type": "linear",
         "zeroline": false
        },
        "yaxis11": {
         "anchor": "x11",
         "automargin": true,
         "domain": [
          0.7448979591836734,
          0.8510204081632653
         ],
         "fixedrange": true,
         "gridwidth": 2,
         "matches": "y",
         "range": [
          0.14150703687300836,
          0.9396484014583273
         ],
         "tickcolor": "white",
         "ticklen": 3,
         "ticks": "outside",
         "title": {
          "text": ""
         },
         "type": "linear",
         "zeroline": false
        },
        "yaxis12": {
         "anchor": "x12",
         "automargin": true,
         "domain": [
          0.7448979591836734,
          0.8510204081632653
         ],
         "fixedrange": true,
         "gridwidth": 2,
         "matches": "y",
         "showticklabels": false,
         "tickcolor": "white",
         "ticklen": 3,
         "ticks": "outside",
         "title": {
          "text": ""
         },
         "type": "linear",
         "zeroline": false
        },
        "yaxis13": {
         "anchor": "x13",
         "automargin": true,
         "domain": [
          0.893877551020408,
          0.9999999999999998
         ],
         "fixedrange": true,
         "gridwidth": 2,
         "matches": "y",
         "range": [
          0.14150703687300836,
          0.9396484014583273
         ],
         "tickcolor": "white",
         "ticklen": 3,
         "ticks": "outside",
         "title": {
          "text": ""
         },
         "type": "linear",
         "zeroline": false
        },
        "yaxis14": {
         "anchor": "x14",
         "automargin": true,
         "domain": [
          0.893877551020408,
          0.9999999999999998
         ],
         "fixedrange": true,
         "gridwidth": 2,
         "matches": "y",
         "showticklabels": false,
         "tickcolor": "white",
         "ticklen": 3,
         "ticks": "outside",
         "title": {
          "text": ""
         },
         "type": "linear",
         "zeroline": false
        },
        "yaxis2": {
         "anchor": "x2",
         "automargin": true,
         "domain": [
          0,
          0.10612244897959183
         ],
         "fixedrange": true,
         "gridwidth": 2,
         "matches": "y",
         "showticklabels": false,
         "tickcolor": "white",
         "ticklen": 3,
         "ticks": "outside",
         "title": {
          "text": ""
         },
         "type": "linear",
         "zeroline": false
        },
        "yaxis3": {
         "anchor": "x3",
         "automargin": true,
         "domain": [
          0.1489795918367347,
          0.25510204081632654
         ],
         "fixedrange": true,
         "gridwidth": 2,
         "matches": "y",
         "range": [
          0.14150703687300836,
          0.9396484014583273
         ],
         "tickcolor": "white",
         "ticklen": 3,
         "ticks": "outside",
         "title": {
          "text": ""
         },
         "type": "linear",
         "zeroline": false
        },
        "yaxis4": {
         "anchor": "x4",
         "automargin": true,
         "domain": [
          0.1489795918367347,
          0.25510204081632654
         ],
         "fixedrange": true,
         "gridwidth": 2,
         "matches": "y",
         "showticklabels": false,
         "tickcolor": "white",
         "ticklen": 3,
         "ticks": "outside",
         "title": {
          "text": ""
         },
         "type": "linear",
         "zeroline": false
        },
        "yaxis5": {
         "anchor": "x5",
         "automargin": true,
         "domain": [
          0.2979591836734694,
          0.40408163265306124
         ],
         "fixedrange": true,
         "gridwidth": 2,
         "matches": "y",
         "range": [
          0.14150703687300836,
          0.9396484014583273
         ],
         "tickcolor": "white",
         "ticklen": 3,
         "ticks": "outside",
         "title": {
          "text": ""
         },
         "type": "linear",
         "zeroline": false
        },
        "yaxis6": {
         "anchor": "x6",
         "automargin": true,
         "domain": [
          0.2979591836734694,
          0.40408163265306124
         ],
         "fixedrange": true,
         "gridwidth": 2,
         "matches": "y",
         "showticklabels": false,
         "tickcolor": "white",
         "ticklen": 3,
         "ticks": "outside",
         "title": {
          "text": ""
         },
         "type": "linear",
         "zeroline": false
        },
        "yaxis7": {
         "anchor": "x7",
         "automargin": true,
         "domain": [
          0.44693877551020406,
          0.5530612244897959
         ],
         "fixedrange": true,
         "gridwidth": 2,
         "matches": "y",
         "range": [
          0.14150703687300836,
          0.9396484014583273
         ],
         "tickcolor": "white",
         "ticklen": 3,
         "ticks": "outside",
         "title": {
          "text": ""
         },
         "type": "linear",
         "zeroline": false
        },
        "yaxis8": {
         "anchor": "x8",
         "automargin": true,
         "domain": [
          0.44693877551020406,
          0.5530612244897959
         ],
         "fixedrange": true,
         "gridwidth": 2,
         "matches": "y",
         "showticklabels": false,
         "tickcolor": "white",
         "ticklen": 3,
         "ticks": "outside",
         "title": {
          "text": ""
         },
         "type": "linear",
         "zeroline": false
        },
        "yaxis9": {
         "anchor": "x9",
         "automargin": true,
         "domain": [
          0.5959183673469388,
          0.7020408163265306
         ],
         "fixedrange": true,
         "gridwidth": 2,
         "matches": "y",
         "range": [
          0.14150703687300836,
          0.9396484014583273
         ],
         "tickcolor": "white",
         "ticklen": 3,
         "ticks": "outside",
         "title": {
          "text": ""
         },
         "type": "linear",
         "zeroline": false
        }
       }
      }
     },
     "metadata": {},
     "output_type": "display_data"
    }
   ],
   "source": [
    "\n",
    "# Plot Model Profile\n",
    "exp.model_profile().plot()"
   ]
  },
  {
   "cell_type": "code",
   "execution_count": 44,
   "metadata": {},
   "outputs": [
    {
     "data": {
      "text/plain": [
       "age          70.0\n",
       "sex           1.0\n",
       "cp            3.0\n",
       "trestbps    130.0\n",
       "chol        322.0\n",
       "fbs           0.0\n",
       "restecg       2.0\n",
       "thalach     109.0\n",
       "exang         0.0\n",
       "oldpeak       2.4\n",
       "slope         1.0\n",
       "ca            3.0\n",
       "thal          0.0\n",
       "Name: 158, dtype: float64"
      ]
     },
     "execution_count": 44,
     "metadata": {},
     "output_type": "execute_result"
    }
   ],
   "source": [
    "\n",
    "### Make A Prediction\n",
    "ex1 = X_test.iloc[7]\n",
    "ex1"
   ]
  },
  {
   "cell_type": "code",
   "execution_count": 45,
   "metadata": {},
   "outputs": [
    {
     "data": {
      "text/plain": [
       "1"
      ]
     },
     "execution_count": 45,
     "metadata": {},
     "output_type": "execute_result"
    }
   ],
   "source": [
    "\n",
    "# Expected Prediction\n",
    "y_test.iloc[7]"
   ]
  },
  {
   "cell_type": "code",
   "execution_count": 46,
   "metadata": {},
   "outputs": [
    {
     "name": "stdout",
     "output_type": "stream",
     "text": [
      "LR: [1]\n",
      "DT: [1]\n"
     ]
    },
    {
     "name": "stderr",
     "output_type": "stream",
     "text": [
      "C:\\Users\\astha\\AppData\\Local\\Packages\\PythonSoftwareFoundation.Python.3.10_qbz5n2kfra8p0\\LocalCache\\local-packages\\Python310\\site-packages\\sklearn\\base.py:420: UserWarning:\n",
      "\n",
      "X does not have valid feature names, but LogisticRegression was fitted with feature names\n",
      "\n",
      "C:\\Users\\astha\\AppData\\Local\\Packages\\PythonSoftwareFoundation.Python.3.10_qbz5n2kfra8p0\\LocalCache\\local-packages\\Python310\\site-packages\\sklearn\\base.py:420: UserWarning:\n",
      "\n",
      "X does not have valid feature names, but LogisticRegression was fitted with feature names\n",
      "\n"
     ]
    }
   ],
   "source": [
    "\n",
    "# Model Prediction\n",
    "print(\"LR:\",rs_log_reg.predict([ex1]))\n",
    "print(\"DT:\",rs_log_reg.predict([ex1]))"
   ]
  },
  {
   "cell_type": "code",
   "execution_count": 49,
   "metadata": {},
   "outputs": [
    {
     "data": {
      "text/html": [
       "<div>\n",
       "<style scoped>\n",
       "    .dataframe tbody tr th:only-of-type {\n",
       "        vertical-align: middle;\n",
       "    }\n",
       "\n",
       "    .dataframe tbody tr th {\n",
       "        vertical-align: top;\n",
       "    }\n",
       "\n",
       "    .dataframe thead th {\n",
       "        text-align: right;\n",
       "    }\n",
       "</style>\n",
       "<table border=\"1\" class=\"dataframe\">\n",
       "  <thead>\n",
       "    <tr style=\"text-align: right;\">\n",
       "      <th></th>\n",
       "      <th>age</th>\n",
       "      <th>sex</th>\n",
       "      <th>cp</th>\n",
       "      <th>trestbps</th>\n",
       "      <th>chol</th>\n",
       "      <th>fbs</th>\n",
       "      <th>restecg</th>\n",
       "      <th>thalach</th>\n",
       "      <th>exang</th>\n",
       "      <th>oldpeak</th>\n",
       "      <th>slope</th>\n",
       "      <th>ca</th>\n",
       "      <th>thal</th>\n",
       "    </tr>\n",
       "  </thead>\n",
       "  <tbody>\n",
       "    <tr>\n",
       "      <th>158</th>\n",
       "      <td>70.0</td>\n",
       "      <td>1.0</td>\n",
       "      <td>3.0</td>\n",
       "      <td>130.0</td>\n",
       "      <td>322.0</td>\n",
       "      <td>0.0</td>\n",
       "      <td>2.0</td>\n",
       "      <td>109.0</td>\n",
       "      <td>0.0</td>\n",
       "      <td>2.4</td>\n",
       "      <td>1.0</td>\n",
       "      <td>3.0</td>\n",
       "      <td>0.0</td>\n",
       "    </tr>\n",
       "  </tbody>\n",
       "</table>\n",
       "</div>"
      ],
      "text/plain": [
       "      age  sex   cp  trestbps   chol  fbs  restecg  thalach  exang  oldpeak  \\\n",
       "158  70.0  1.0  3.0     130.0  322.0  0.0      2.0    109.0    0.0      2.4   \n",
       "\n",
       "     slope   ca  thal  \n",
       "158    1.0  3.0   0.0  "
      ]
     },
     "execution_count": 49,
     "metadata": {},
     "output_type": "execute_result"
    }
   ],
   "source": [
    "\n",
    "sample = pd.DataFrame(ex1).T\n",
    "sample\n",
    "     "
   ]
  },
  {
   "cell_type": "code",
   "execution_count": 50,
   "metadata": {},
   "outputs": [
    {
     "data": {
      "text/plain": [
       "array([0.97425284])"
      ]
     },
     "execution_count": 50,
     "metadata": {},
     "output_type": "execute_result"
    }
   ],
   "source": [
    "# Prediction\n",
    "exp.predict(sample)"
   ]
  },
  {
   "cell_type": "code",
   "execution_count": 52,
   "metadata": {},
   "outputs": [
    {
     "data": {
      "text/html": [
       "<div>\n",
       "<style scoped>\n",
       "    .dataframe tbody tr th:only-of-type {\n",
       "        vertical-align: middle;\n",
       "    }\n",
       "\n",
       "    .dataframe tbody tr th {\n",
       "        vertical-align: top;\n",
       "    }\n",
       "\n",
       "    .dataframe thead th {\n",
       "        text-align: right;\n",
       "    }\n",
       "</style>\n",
       "<table border=\"1\" class=\"dataframe\">\n",
       "  <thead>\n",
       "    <tr style=\"text-align: right;\">\n",
       "      <th></th>\n",
       "      <th>variable_name</th>\n",
       "      <th>variable_value</th>\n",
       "      <th>variable</th>\n",
       "      <th>cumulative</th>\n",
       "      <th>contribution</th>\n",
       "      <th>sign</th>\n",
       "      <th>position</th>\n",
       "      <th>label</th>\n",
       "    </tr>\n",
       "  </thead>\n",
       "  <tbody>\n",
       "    <tr>\n",
       "      <th>0</th>\n",
       "      <td>intercept</td>\n",
       "      <td></td>\n",
       "      <td>intercept</td>\n",
       "      <td>0.460484</td>\n",
       "      <td>0.460484</td>\n",
       "      <td>1.0</td>\n",
       "      <td>14</td>\n",
       "      <td>RandomizedSearchCV</td>\n",
       "    </tr>\n",
       "    <tr>\n",
       "      <th>1</th>\n",
       "      <td>ca</td>\n",
       "      <td>3.0</td>\n",
       "      <td>ca = 3.0</td>\n",
       "      <td>0.713940</td>\n",
       "      <td>0.253456</td>\n",
       "      <td>1.0</td>\n",
       "      <td>13</td>\n",
       "      <td>RandomizedSearchCV</td>\n",
       "    </tr>\n",
       "    <tr>\n",
       "      <th>2</th>\n",
       "      <td>thalach</td>\n",
       "      <td>109.0</td>\n",
       "      <td>thalach = 109.0</td>\n",
       "      <td>0.914430</td>\n",
       "      <td>0.200490</td>\n",
       "      <td>1.0</td>\n",
       "      <td>12</td>\n",
       "      <td>RandomizedSearchCV</td>\n",
       "    </tr>\n",
       "    <tr>\n",
       "      <th>3</th>\n",
       "      <td>oldpeak</td>\n",
       "      <td>2.4</td>\n",
       "      <td>oldpeak = 2.4</td>\n",
       "      <td>0.955152</td>\n",
       "      <td>0.040722</td>\n",
       "      <td>1.0</td>\n",
       "      <td>11</td>\n",
       "      <td>RandomizedSearchCV</td>\n",
       "    </tr>\n",
       "    <tr>\n",
       "      <th>4</th>\n",
       "      <td>thal</td>\n",
       "      <td>0.0</td>\n",
       "      <td>thal = 0.0</td>\n",
       "      <td>0.942400</td>\n",
       "      <td>-0.012752</td>\n",
       "      <td>-1.0</td>\n",
       "      <td>10</td>\n",
       "      <td>RandomizedSearchCV</td>\n",
       "    </tr>\n",
       "    <tr>\n",
       "      <th>5</th>\n",
       "      <td>chol</td>\n",
       "      <td>322.0</td>\n",
       "      <td>chol = 322.0</td>\n",
       "      <td>0.956906</td>\n",
       "      <td>0.014506</td>\n",
       "      <td>1.0</td>\n",
       "      <td>9</td>\n",
       "      <td>RandomizedSearchCV</td>\n",
       "    </tr>\n",
       "    <tr>\n",
       "      <th>6</th>\n",
       "      <td>cp</td>\n",
       "      <td>3.0</td>\n",
       "      <td>cp = 3.0</td>\n",
       "      <td>0.967057</td>\n",
       "      <td>0.010151</td>\n",
       "      <td>1.0</td>\n",
       "      <td>8</td>\n",
       "      <td>RandomizedSearchCV</td>\n",
       "    </tr>\n",
       "    <tr>\n",
       "      <th>7</th>\n",
       "      <td>restecg</td>\n",
       "      <td>2.0</td>\n",
       "      <td>restecg = 2.0</td>\n",
       "      <td>0.974466</td>\n",
       "      <td>0.007410</td>\n",
       "      <td>1.0</td>\n",
       "      <td>7</td>\n",
       "      <td>RandomizedSearchCV</td>\n",
       "    </tr>\n",
       "    <tr>\n",
       "      <th>8</th>\n",
       "      <td>age</td>\n",
       "      <td>70.0</td>\n",
       "      <td>age = 70.0</td>\n",
       "      <td>0.967377</td>\n",
       "      <td>-0.007089</td>\n",
       "      <td>-1.0</td>\n",
       "      <td>6</td>\n",
       "      <td>RandomizedSearchCV</td>\n",
       "    </tr>\n",
       "    <tr>\n",
       "      <th>9</th>\n",
       "      <td>sex</td>\n",
       "      <td>1.0</td>\n",
       "      <td>sex = 1.0</td>\n",
       "      <td>0.973539</td>\n",
       "      <td>0.006162</td>\n",
       "      <td>1.0</td>\n",
       "      <td>5</td>\n",
       "      <td>RandomizedSearchCV</td>\n",
       "    </tr>\n",
       "    <tr>\n",
       "      <th>10</th>\n",
       "      <td>exang</td>\n",
       "      <td>0.0</td>\n",
       "      <td>exang = 0.0</td>\n",
       "      <td>0.971457</td>\n",
       "      <td>-0.002082</td>\n",
       "      <td>-1.0</td>\n",
       "      <td>4</td>\n",
       "      <td>RandomizedSearchCV</td>\n",
       "    </tr>\n",
       "    <tr>\n",
       "      <th>11</th>\n",
       "      <td>slope</td>\n",
       "      <td>1.0</td>\n",
       "      <td>slope = 1.0</td>\n",
       "      <td>0.972946</td>\n",
       "      <td>0.001488</td>\n",
       "      <td>1.0</td>\n",
       "      <td>3</td>\n",
       "      <td>RandomizedSearchCV</td>\n",
       "    </tr>\n",
       "    <tr>\n",
       "      <th>12</th>\n",
       "      <td>fbs</td>\n",
       "      <td>0.0</td>\n",
       "      <td>fbs = 0.0</td>\n",
       "      <td>0.973397</td>\n",
       "      <td>0.000452</td>\n",
       "      <td>1.0</td>\n",
       "      <td>2</td>\n",
       "      <td>RandomizedSearchCV</td>\n",
       "    </tr>\n",
       "    <tr>\n",
       "      <th>13</th>\n",
       "      <td>trestbps</td>\n",
       "      <td>130.0</td>\n",
       "      <td>trestbps = 130.0</td>\n",
       "      <td>0.974253</td>\n",
       "      <td>0.000856</td>\n",
       "      <td>1.0</td>\n",
       "      <td>1</td>\n",
       "      <td>RandomizedSearchCV</td>\n",
       "    </tr>\n",
       "    <tr>\n",
       "      <th>14</th>\n",
       "      <td></td>\n",
       "      <td></td>\n",
       "      <td>prediction</td>\n",
       "      <td>0.974253</td>\n",
       "      <td>0.974253</td>\n",
       "      <td>1.0</td>\n",
       "      <td>0</td>\n",
       "      <td>RandomizedSearchCV</td>\n",
       "    </tr>\n",
       "  </tbody>\n",
       "</table>\n",
       "</div>"
      ],
      "text/plain": [
       "   variable_name variable_value          variable  cumulative  contribution  \\\n",
       "0      intercept                        intercept    0.460484      0.460484   \n",
       "1             ca            3.0          ca = 3.0    0.713940      0.253456   \n",
       "2        thalach          109.0   thalach = 109.0    0.914430      0.200490   \n",
       "3        oldpeak            2.4     oldpeak = 2.4    0.955152      0.040722   \n",
       "4           thal            0.0        thal = 0.0    0.942400     -0.012752   \n",
       "5           chol          322.0      chol = 322.0    0.956906      0.014506   \n",
       "6             cp            3.0          cp = 3.0    0.967057      0.010151   \n",
       "7        restecg            2.0     restecg = 2.0    0.974466      0.007410   \n",
       "8            age           70.0        age = 70.0    0.967377     -0.007089   \n",
       "9            sex            1.0         sex = 1.0    0.973539      0.006162   \n",
       "10         exang            0.0       exang = 0.0    0.971457     -0.002082   \n",
       "11         slope            1.0       slope = 1.0    0.972946      0.001488   \n",
       "12           fbs            0.0         fbs = 0.0    0.973397      0.000452   \n",
       "13      trestbps          130.0  trestbps = 130.0    0.974253      0.000856   \n",
       "14                                     prediction    0.974253      0.974253   \n",
       "\n",
       "    sign  position               label  \n",
       "0    1.0        14  RandomizedSearchCV  \n",
       "1    1.0        13  RandomizedSearchCV  \n",
       "2    1.0        12  RandomizedSearchCV  \n",
       "3    1.0        11  RandomizedSearchCV  \n",
       "4   -1.0        10  RandomizedSearchCV  \n",
       "5    1.0         9  RandomizedSearchCV  \n",
       "6    1.0         8  RandomizedSearchCV  \n",
       "7    1.0         7  RandomizedSearchCV  \n",
       "8   -1.0         6  RandomizedSearchCV  \n",
       "9    1.0         5  RandomizedSearchCV  \n",
       "10  -1.0         4  RandomizedSearchCV  \n",
       "11   1.0         3  RandomizedSearchCV  \n",
       "12   1.0         2  RandomizedSearchCV  \n",
       "13   1.0         1  RandomizedSearchCV  \n",
       "14   1.0         0  RandomizedSearchCV  "
      ]
     },
     "execution_count": 52,
     "metadata": {},
     "output_type": "execute_result"
    }
   ],
   "source": [
    "\n",
    "# Predict Parts\n",
    "explanation = exp.predict_parts(sample)\n",
    "explanation.result\n",
    "     "
   ]
  },
  {
   "cell_type": "code",
   "execution_count": 53,
   "metadata": {},
   "outputs": [
    {
     "data": {
      "application/vnd.plotly.v1+json": {
       "config": {
        "displaylogo": false,
        "modeBarButtonsToRemove": [
         "sendDataToCloud",
         "lasso2d",
         "autoScale2d",
         "select2d",
         "zoom2d",
         "pan2d",
         "zoomIn2d",
         "zoomOut2d",
         "resetScale2d",
         "toggleSpikelines",
         "hoverCompareCartesian",
         "hoverClosestCartesian"
        ],
        "plotlyServerURL": "https://plot.ly",
        "staticPlot": false,
        "toImageButtonOptions": {
         "height": null,
         "width": null
        }
       },
       "data": [
        {
         "base": 0.46048448986667984,
         "connector": {
          "line": {
           "color": "#371ea3",
           "dash": "solid",
           "width": 1
          },
          "mode": "spanning"
         },
         "decreasing": {
          "marker": {
           "color": "#f05a71"
          }
         },
         "hoverinfo": "text+delta",
         "hoverlabel": {
          "bgcolor": "rgba(0,0,0,0.8)"
         },
         "hovertext": [
          "Average response: 0.46<br>Prediction: 0.974",
          "ca = 3.0<br>increases average response by",
          "thalach = 109.0<br>increases average response by",
          "oldpeak = 2.4<br>increases average response by",
          "thal = 0.0<br>decreases average response by",
          "chol = 322.0<br>increases average response by",
          "cp = 3.0<br>increases average response by",
          "restecg = 2.0<br>increases average response by",
          "age = 70.0<br>decreases average response by",
          "sex = 1.0<br>increases average response by",
          "exang = 0.0<br>decreases average response by",
          "+ all other factors<br>increases average response by",
          "Average response: 0.46<br>Prediction: 0.974"
         ],
         "increasing": {
          "marker": {
           "color": "#8bdcbe"
          }
         },
         "measure": [
          "relative",
          "relative",
          "relative",
          "relative",
          "relative",
          "relative",
          "relative",
          "relative",
          "relative",
          "relative",
          "relative",
          "relative",
          "total"
         ],
         "orientation": "h",
         "showlegend": false,
         "text": [
          "0.46",
          "+0.253",
          "+0.2",
          "+0.041",
          "-0.013",
          "+0.015",
          "+0.01",
          "+0.007",
          "-0.007",
          "+0.006",
          "-0.002",
          "+0.003",
          "0.974"
         ],
         "textposition": "outside",
         "totals": {
          "marker": {
           "color": "#371ea3"
          }
         },
         "type": "waterfall",
         "x": [
          0,
          0.253,
          0.2,
          0.041,
          -0.013,
          0.015,
          0.01,
          0.007,
          -0.007,
          0.006,
          -0.002,
          0.003,
          0.514
         ],
         "xaxis": "x",
         "y": [
          "intercept",
          "ca = 3.0",
          "thalach = 109.0",
          "oldpeak = 2.4",
          "thal = 0.0",
          "chol = 322.0",
          "cp = 3.0",
          "restecg = 2.0",
          "age = 70.0",
          "sex = 1.0",
          "exang = 0.0",
          "+ all other factors",
          "prediction"
         ],
         "yaxis": "y"
        }
       ],
       "layout": {
        "annotations": [
         {
          "font": {
           "size": 16
          },
          "showarrow": false,
          "text": "RandomizedSearchCV",
          "x": 0.5,
          "xanchor": "center",
          "xref": "paper",
          "y": 1,
          "yanchor": "bottom",
          "yref": "paper"
         },
         {
          "font": {
           "size": 16
          },
          "showarrow": false,
          "text": "contribution",
          "x": 0.5,
          "xanchor": "center",
          "xref": "paper",
          "y": 0,
          "yanchor": "top",
          "yref": "paper",
          "yshift": -30
         }
        ],
        "font": {
         "color": "#371ea3"
        },
        "height": 413,
        "margin": {
         "b": 71,
         "r": 30,
         "t": 78
        },
        "shapes": [
         {
          "line": {
           "color": "#371ea3",
           "dash": "dot",
           "width": 1.5
          },
          "type": "line",
          "x0": 0.46048448986667984,
          "x1": 0.46048448986667984,
          "xref": "x",
          "y0": -1,
          "y1": 13,
          "yref": "y"
         }
        ],
        "template": {
         "data": {
          "scatter": [
           {
            "type": "scatter"
           }
          ]
         }
        },
        "title": {
         "text": "Break Down",
         "x": 0.15
        },
        "xaxis": {
         "anchor": "y",
         "automargin": true,
         "domain": [
          0,
          1
         ],
         "fixedrange": true,
         "gridwidth": 2,
         "range": [
          0.3829,
          1.0511
         ],
         "tickcolor": "white",
         "ticklen": 3,
         "ticks": "outside",
         "type": "linear",
         "zeroline": false
        },
        "yaxis": {
         "anchor": "x",
         "automargin": true,
         "autorange": "reversed",
         "domain": [
          0,
          1
         ],
         "fixedrange": true,
         "gridwidth": 2,
         "tickcolor": "white",
         "ticklen": 10,
         "ticks": "outside",
         "type": "category"
        }
       }
      }
     },
     "metadata": {},
     "output_type": "display_data"
    }
   ],
   "source": [
    "\n",
    "# Plot Explanation of Prediction\n",
    "explanation.plot()\n",
    "     "
   ]
  },
  {
   "cell_type": "code",
   "execution_count": 54,
   "metadata": {},
   "outputs": [
    {
     "name": "stderr",
     "output_type": "stream",
     "text": [
      "Calculating ceteris paribus: 100%|██████████| 13/13 [00:00<00:00, 290.40it/s]\n"
     ]
    }
   ],
   "source": [
    "\n",
    "# Prediction Profile\n",
    "pred_profile = exp.predict_profile(sample)\n",
    "     "
   ]
  },
  {
   "cell_type": "code",
   "execution_count": 55,
   "metadata": {},
   "outputs": [
    {
     "data": {
      "application/vnd.plotly.v1+json": {
       "config": {
        "displaylogo": false,
        "modeBarButtonsToRemove": [
         "sendDataToCloud",
         "lasso2d",
         "autoScale2d",
         "select2d",
         "zoom2d",
         "pan2d",
         "zoomIn2d",
         "zoomOut2d",
         "resetScale2d",
         "toggleSpikelines",
         "hoverCompareCartesian",
         "hoverClosestCartesian"
        ],
        "plotlyServerURL": "https://plot.ly",
        "staticPlot": false,
        "toImageButtonOptions": {
         "height": null,
         "width": null
        }
       },
       "data": [
        {
         "customdata": [
          [
           "</br>id: 158</br>prediction: 0.986</br>age: 29.0</br></br>sex: 1.0</br>cp: 3.0</br>trestbps: 130.0</br>chol: 322.0</br>fbs: 0.0</br>restecg: 2.0</br>thalach: 109.0</br>exang: 0.0</br>oldpeak: 2.4</br>slope: 1.0</br>ca: 3.0</br>thal: 0.0</br>_original_yhat_: 0.9742528447623608</br>"
          ],
          [
           "</br>id: 158</br>prediction: 0.986</br>age: 29.48</br></br>sex: 1.0</br>cp: 3.0</br>trestbps: 130.0</br>chol: 322.0</br>fbs: 0.0</br>restecg: 2.0</br>thalach: 109.0</br>exang: 0.0</br>oldpeak: 2.4</br>slope: 1.0</br>ca: 3.0</br>thal: 0.0</br>_original_yhat_: 0.9742528447623608</br>"
          ],
          [
           "</br>id: 158</br>prediction: 0.986</br>age: 29.96</br></br>sex: 1.0</br>cp: 3.0</br>trestbps: 130.0</br>chol: 322.0</br>fbs: 0.0</br>restecg: 2.0</br>thalach: 109.0</br>exang: 0.0</br>oldpeak: 2.4</br>slope: 1.0</br>ca: 3.0</br>thal: 0.0</br>_original_yhat_: 0.9742528447623608</br>"
          ],
          [
           "</br>id: 158</br>prediction: 0.986</br>age: 30.44</br></br>sex: 1.0</br>cp: 3.0</br>trestbps: 130.0</br>chol: 322.0</br>fbs: 0.0</br>restecg: 2.0</br>thalach: 109.0</br>exang: 0.0</br>oldpeak: 2.4</br>slope: 1.0</br>ca: 3.0</br>thal: 0.0</br>_original_yhat_: 0.9742528447623608</br>"
          ],
          [
           "</br>id: 158</br>prediction: 0.986</br>age: 30.92</br></br>sex: 1.0</br>cp: 3.0</br>trestbps: 130.0</br>chol: 322.0</br>fbs: 0.0</br>restecg: 2.0</br>thalach: 109.0</br>exang: 0.0</br>oldpeak: 2.4</br>slope: 1.0</br>ca: 3.0</br>thal: 0.0</br>_original_yhat_: 0.9742528447623608</br>"
          ],
          [
           "</br>id: 158</br>prediction: 0.986</br>age: 31.4</br></br>sex: 1.0</br>cp: 3.0</br>trestbps: 130.0</br>chol: 322.0</br>fbs: 0.0</br>restecg: 2.0</br>thalach: 109.0</br>exang: 0.0</br>oldpeak: 2.4</br>slope: 1.0</br>ca: 3.0</br>thal: 0.0</br>_original_yhat_: 0.9742528447623608</br>"
          ],
          [
           "</br>id: 158</br>prediction: 0.986</br>age: 31.88</br></br>sex: 1.0</br>cp: 3.0</br>trestbps: 130.0</br>chol: 322.0</br>fbs: 0.0</br>restecg: 2.0</br>thalach: 109.0</br>exang: 0.0</br>oldpeak: 2.4</br>slope: 1.0</br>ca: 3.0</br>thal: 0.0</br>_original_yhat_: 0.9742528447623608</br>"
          ],
          [
           "</br>id: 158</br>prediction: 0.986</br>age: 32.36</br></br>sex: 1.0</br>cp: 3.0</br>trestbps: 130.0</br>chol: 322.0</br>fbs: 0.0</br>restecg: 2.0</br>thalach: 109.0</br>exang: 0.0</br>oldpeak: 2.4</br>slope: 1.0</br>ca: 3.0</br>thal: 0.0</br>_original_yhat_: 0.9742528447623608</br>"
          ],
          [
           "</br>id: 158</br>prediction: 0.985</br>age: 32.84</br></br>sex: 1.0</br>cp: 3.0</br>trestbps: 130.0</br>chol: 322.0</br>fbs: 0.0</br>restecg: 2.0</br>thalach: 109.0</br>exang: 0.0</br>oldpeak: 2.4</br>slope: 1.0</br>ca: 3.0</br>thal: 0.0</br>_original_yhat_: 0.9742528447623608</br>"
          ],
          [
           "</br>id: 158</br>prediction: 0.985</br>age: 33.32</br></br>sex: 1.0</br>cp: 3.0</br>trestbps: 130.0</br>chol: 322.0</br>fbs: 0.0</br>restecg: 2.0</br>thalach: 109.0</br>exang: 0.0</br>oldpeak: 2.4</br>slope: 1.0</br>ca: 3.0</br>thal: 0.0</br>_original_yhat_: 0.9742528447623608</br>"
          ],
          [
           "</br>id: 158</br>prediction: 0.985</br>age: 33.8</br></br>sex: 1.0</br>cp: 3.0</br>trestbps: 130.0</br>chol: 322.0</br>fbs: 0.0</br>restecg: 2.0</br>thalach: 109.0</br>exang: 0.0</br>oldpeak: 2.4</br>slope: 1.0</br>ca: 3.0</br>thal: 0.0</br>_original_yhat_: 0.9742528447623608</br>"
          ],
          [
           "</br>id: 158</br>prediction: 0.985</br>age: 34.28</br></br>sex: 1.0</br>cp: 3.0</br>trestbps: 130.0</br>chol: 322.0</br>fbs: 0.0</br>restecg: 2.0</br>thalach: 109.0</br>exang: 0.0</br>oldpeak: 2.4</br>slope: 1.0</br>ca: 3.0</br>thal: 0.0</br>_original_yhat_: 0.9742528447623608</br>"
          ],
          [
           "</br>id: 158</br>prediction: 0.985</br>age: 34.76</br></br>sex: 1.0</br>cp: 3.0</br>trestbps: 130.0</br>chol: 322.0</br>fbs: 0.0</br>restecg: 2.0</br>thalach: 109.0</br>exang: 0.0</br>oldpeak: 2.4</br>slope: 1.0</br>ca: 3.0</br>thal: 0.0</br>_original_yhat_: 0.9742528447623608</br>"
          ],
          [
           "</br>id: 158</br>prediction: 0.985</br>age: 35.24</br></br>sex: 1.0</br>cp: 3.0</br>trestbps: 130.0</br>chol: 322.0</br>fbs: 0.0</br>restecg: 2.0</br>thalach: 109.0</br>exang: 0.0</br>oldpeak: 2.4</br>slope: 1.0</br>ca: 3.0</br>thal: 0.0</br>_original_yhat_: 0.9742528447623608</br>"
          ],
          [
           "</br>id: 158</br>prediction: 0.985</br>age: 35.72</br></br>sex: 1.0</br>cp: 3.0</br>trestbps: 130.0</br>chol: 322.0</br>fbs: 0.0</br>restecg: 2.0</br>thalach: 109.0</br>exang: 0.0</br>oldpeak: 2.4</br>slope: 1.0</br>ca: 3.0</br>thal: 0.0</br>_original_yhat_: 0.9742528447623608</br>"
          ],
          [
           "</br>id: 158</br>prediction: 0.985</br>age: 36.2</br></br>sex: 1.0</br>cp: 3.0</br>trestbps: 130.0</br>chol: 322.0</br>fbs: 0.0</br>restecg: 2.0</br>thalach: 109.0</br>exang: 0.0</br>oldpeak: 2.4</br>slope: 1.0</br>ca: 3.0</br>thal: 0.0</br>_original_yhat_: 0.9742528447623608</br>"
          ],
          [
           "</br>id: 158</br>prediction: 0.985</br>age: 36.68</br></br>sex: 1.0</br>cp: 3.0</br>trestbps: 130.0</br>chol: 322.0</br>fbs: 0.0</br>restecg: 2.0</br>thalach: 109.0</br>exang: 0.0</br>oldpeak: 2.4</br>slope: 1.0</br>ca: 3.0</br>thal: 0.0</br>_original_yhat_: 0.9742528447623608</br>"
          ],
          [
           "</br>id: 158</br>prediction: 0.984</br>age: 37.16</br></br>sex: 1.0</br>cp: 3.0</br>trestbps: 130.0</br>chol: 322.0</br>fbs: 0.0</br>restecg: 2.0</br>thalach: 109.0</br>exang: 0.0</br>oldpeak: 2.4</br>slope: 1.0</br>ca: 3.0</br>thal: 0.0</br>_original_yhat_: 0.9742528447623608</br>"
          ],
          [
           "</br>id: 158</br>prediction: 0.984</br>age: 37.64</br></br>sex: 1.0</br>cp: 3.0</br>trestbps: 130.0</br>chol: 322.0</br>fbs: 0.0</br>restecg: 2.0</br>thalach: 109.0</br>exang: 0.0</br>oldpeak: 2.4</br>slope: 1.0</br>ca: 3.0</br>thal: 0.0</br>_original_yhat_: 0.9742528447623608</br>"
          ],
          [
           "</br>id: 158</br>prediction: 0.984</br>age: 38.12</br></br>sex: 1.0</br>cp: 3.0</br>trestbps: 130.0</br>chol: 322.0</br>fbs: 0.0</br>restecg: 2.0</br>thalach: 109.0</br>exang: 0.0</br>oldpeak: 2.4</br>slope: 1.0</br>ca: 3.0</br>thal: 0.0</br>_original_yhat_: 0.9742528447623608</br>"
          ],
          [
           "</br>id: 158</br>prediction: 0.984</br>age: 38.6</br></br>sex: 1.0</br>cp: 3.0</br>trestbps: 130.0</br>chol: 322.0</br>fbs: 0.0</br>restecg: 2.0</br>thalach: 109.0</br>exang: 0.0</br>oldpeak: 2.4</br>slope: 1.0</br>ca: 3.0</br>thal: 0.0</br>_original_yhat_: 0.9742528447623608</br>"
          ],
          [
           "</br>id: 158</br>prediction: 0.984</br>age: 39.08</br></br>sex: 1.0</br>cp: 3.0</br>trestbps: 130.0</br>chol: 322.0</br>fbs: 0.0</br>restecg: 2.0</br>thalach: 109.0</br>exang: 0.0</br>oldpeak: 2.4</br>slope: 1.0</br>ca: 3.0</br>thal: 0.0</br>_original_yhat_: 0.9742528447623608</br>"
          ],
          [
           "</br>id: 158</br>prediction: 0.984</br>age: 39.56</br></br>sex: 1.0</br>cp: 3.0</br>trestbps: 130.0</br>chol: 322.0</br>fbs: 0.0</br>restecg: 2.0</br>thalach: 109.0</br>exang: 0.0</br>oldpeak: 2.4</br>slope: 1.0</br>ca: 3.0</br>thal: 0.0</br>_original_yhat_: 0.9742528447623608</br>"
          ],
          [
           "</br>id: 158</br>prediction: 0.984</br>age: 40.04</br></br>sex: 1.0</br>cp: 3.0</br>trestbps: 130.0</br>chol: 322.0</br>fbs: 0.0</br>restecg: 2.0</br>thalach: 109.0</br>exang: 0.0</br>oldpeak: 2.4</br>slope: 1.0</br>ca: 3.0</br>thal: 0.0</br>_original_yhat_: 0.9742528447623608</br>"
          ],
          [
           "</br>id: 158</br>prediction: 0.984</br>age: 40.519999999999996</br></br>sex: 1.0</br>cp: 3.0</br>trestbps: 130.0</br>chol: 322.0</br>fbs: 0.0</br>restecg: 2.0</br>thalach: 109.0</br>exang: 0.0</br>oldpeak: 2.4</br>slope: 1.0</br>ca: 3.0</br>thal: 0.0</br>_original_yhat_: 0.9742528447623608</br>"
          ],
          [
           "</br>id: 158</br>prediction: 0.984</br>age: 41.0</br></br>sex: 1.0</br>cp: 3.0</br>trestbps: 130.0</br>chol: 322.0</br>fbs: 0.0</br>restecg: 2.0</br>thalach: 109.0</br>exang: 0.0</br>oldpeak: 2.4</br>slope: 1.0</br>ca: 3.0</br>thal: 0.0</br>_original_yhat_: 0.9742528447623608</br>"
          ],
          [
           "</br>id: 158</br>prediction: 0.983</br>age: 41.480000000000004</br></br>sex: 1.0</br>cp: 3.0</br>trestbps: 130.0</br>chol: 322.0</br>fbs: 0.0</br>restecg: 2.0</br>thalach: 109.0</br>exang: 0.0</br>oldpeak: 2.4</br>slope: 1.0</br>ca: 3.0</br>thal: 0.0</br>_original_yhat_: 0.9742528447623608</br>"
          ],
          [
           "</br>id: 158</br>prediction: 0.983</br>age: 41.96</br></br>sex: 1.0</br>cp: 3.0</br>trestbps: 130.0</br>chol: 322.0</br>fbs: 0.0</br>restecg: 2.0</br>thalach: 109.0</br>exang: 0.0</br>oldpeak: 2.4</br>slope: 1.0</br>ca: 3.0</br>thal: 0.0</br>_original_yhat_: 0.9742528447623608</br>"
          ],
          [
           "</br>id: 158</br>prediction: 0.983</br>age: 42.44</br></br>sex: 1.0</br>cp: 3.0</br>trestbps: 130.0</br>chol: 322.0</br>fbs: 0.0</br>restecg: 2.0</br>thalach: 109.0</br>exang: 0.0</br>oldpeak: 2.4</br>slope: 1.0</br>ca: 3.0</br>thal: 0.0</br>_original_yhat_: 0.9742528447623608</br>"
          ],
          [
           "</br>id: 158</br>prediction: 0.983</br>age: 42.92</br></br>sex: 1.0</br>cp: 3.0</br>trestbps: 130.0</br>chol: 322.0</br>fbs: 0.0</br>restecg: 2.0</br>thalach: 109.0</br>exang: 0.0</br>oldpeak: 2.4</br>slope: 1.0</br>ca: 3.0</br>thal: 0.0</br>_original_yhat_: 0.9742528447623608</br>"
          ],
          [
           "</br>id: 158</br>prediction: 0.983</br>age: 43.4</br></br>sex: 1.0</br>cp: 3.0</br>trestbps: 130.0</br>chol: 322.0</br>fbs: 0.0</br>restecg: 2.0</br>thalach: 109.0</br>exang: 0.0</br>oldpeak: 2.4</br>slope: 1.0</br>ca: 3.0</br>thal: 0.0</br>_original_yhat_: 0.9742528447623608</br>"
          ],
          [
           "</br>id: 158</br>prediction: 0.983</br>age: 43.879999999999995</br></br>sex: 1.0</br>cp: 3.0</br>trestbps: 130.0</br>chol: 322.0</br>fbs: 0.0</br>restecg: 2.0</br>thalach: 109.0</br>exang: 0.0</br>oldpeak: 2.4</br>slope: 1.0</br>ca: 3.0</br>thal: 0.0</br>_original_yhat_: 0.9742528447623608</br>"
          ],
          [
           "</br>id: 158</br>prediction: 0.983</br>age: 44.36</br></br>sex: 1.0</br>cp: 3.0</br>trestbps: 130.0</br>chol: 322.0</br>fbs: 0.0</br>restecg: 2.0</br>thalach: 109.0</br>exang: 0.0</br>oldpeak: 2.4</br>slope: 1.0</br>ca: 3.0</br>thal: 0.0</br>_original_yhat_: 0.9742528447623608</br>"
          ],
          [
           "</br>id: 158</br>prediction: 0.983</br>age: 44.84</br></br>sex: 1.0</br>cp: 3.0</br>trestbps: 130.0</br>chol: 322.0</br>fbs: 0.0</br>restecg: 2.0</br>thalach: 109.0</br>exang: 0.0</br>oldpeak: 2.4</br>slope: 1.0</br>ca: 3.0</br>thal: 0.0</br>_original_yhat_: 0.9742528447623608</br>"
          ],
          [
           "</br>id: 158</br>prediction: 0.982</br>age: 45.32</br></br>sex: 1.0</br>cp: 3.0</br>trestbps: 130.0</br>chol: 322.0</br>fbs: 0.0</br>restecg: 2.0</br>thalach: 109.0</br>exang: 0.0</br>oldpeak: 2.4</br>slope: 1.0</br>ca: 3.0</br>thal: 0.0</br>_original_yhat_: 0.9742528447623608</br>"
          ],
          [
           "</br>id: 158</br>prediction: 0.982</br>age: 45.8</br></br>sex: 1.0</br>cp: 3.0</br>trestbps: 130.0</br>chol: 322.0</br>fbs: 0.0</br>restecg: 2.0</br>thalach: 109.0</br>exang: 0.0</br>oldpeak: 2.4</br>slope: 1.0</br>ca: 3.0</br>thal: 0.0</br>_original_yhat_: 0.9742528447623608</br>"
          ],
          [
           "</br>id: 158</br>prediction: 0.982</br>age: 46.28</br></br>sex: 1.0</br>cp: 3.0</br>trestbps: 130.0</br>chol: 322.0</br>fbs: 0.0</br>restecg: 2.0</br>thalach: 109.0</br>exang: 0.0</br>oldpeak: 2.4</br>slope: 1.0</br>ca: 3.0</br>thal: 0.0</br>_original_yhat_: 0.9742528447623608</br>"
          ],
          [
           "</br>id: 158</br>prediction: 0.982</br>age: 46.76</br></br>sex: 1.0</br>cp: 3.0</br>trestbps: 130.0</br>chol: 322.0</br>fbs: 0.0</br>restecg: 2.0</br>thalach: 109.0</br>exang: 0.0</br>oldpeak: 2.4</br>slope: 1.0</br>ca: 3.0</br>thal: 0.0</br>_original_yhat_: 0.9742528447623608</br>"
          ],
          [
           "</br>id: 158</br>prediction: 0.982</br>age: 47.239999999999995</br></br>sex: 1.0</br>cp: 3.0</br>trestbps: 130.0</br>chol: 322.0</br>fbs: 0.0</br>restecg: 2.0</br>thalach: 109.0</br>exang: 0.0</br>oldpeak: 2.4</br>slope: 1.0</br>ca: 3.0</br>thal: 0.0</br>_original_yhat_: 0.9742528447623608</br>"
          ],
          [
           "</br>id: 158</br>prediction: 0.982</br>age: 47.72</br></br>sex: 1.0</br>cp: 3.0</br>trestbps: 130.0</br>chol: 322.0</br>fbs: 0.0</br>restecg: 2.0</br>thalach: 109.0</br>exang: 0.0</br>oldpeak: 2.4</br>slope: 1.0</br>ca: 3.0</br>thal: 0.0</br>_original_yhat_: 0.9742528447623608</br>"
          ],
          [
           "</br>id: 158</br>prediction: 0.982</br>age: 48.2</br></br>sex: 1.0</br>cp: 3.0</br>trestbps: 130.0</br>chol: 322.0</br>fbs: 0.0</br>restecg: 2.0</br>thalach: 109.0</br>exang: 0.0</br>oldpeak: 2.4</br>slope: 1.0</br>ca: 3.0</br>thal: 0.0</br>_original_yhat_: 0.9742528447623608</br>"
          ],
          [
           "</br>id: 158</br>prediction: 0.981</br>age: 48.68</br></br>sex: 1.0</br>cp: 3.0</br>trestbps: 130.0</br>chol: 322.0</br>fbs: 0.0</br>restecg: 2.0</br>thalach: 109.0</br>exang: 0.0</br>oldpeak: 2.4</br>slope: 1.0</br>ca: 3.0</br>thal: 0.0</br>_original_yhat_: 0.9742528447623608</br>"
          ],
          [
           "</br>id: 158</br>prediction: 0.981</br>age: 49.16</br></br>sex: 1.0</br>cp: 3.0</br>trestbps: 130.0</br>chol: 322.0</br>fbs: 0.0</br>restecg: 2.0</br>thalach: 109.0</br>exang: 0.0</br>oldpeak: 2.4</br>slope: 1.0</br>ca: 3.0</br>thal: 0.0</br>_original_yhat_: 0.9742528447623608</br>"
          ],
          [
           "</br>id: 158</br>prediction: 0.981</br>age: 49.64</br></br>sex: 1.0</br>cp: 3.0</br>trestbps: 130.0</br>chol: 322.0</br>fbs: 0.0</br>restecg: 2.0</br>thalach: 109.0</br>exang: 0.0</br>oldpeak: 2.4</br>slope: 1.0</br>ca: 3.0</br>thal: 0.0</br>_original_yhat_: 0.9742528447623608</br>"
          ],
          [
           "</br>id: 158</br>prediction: 0.981</br>age: 50.12</br></br>sex: 1.0</br>cp: 3.0</br>trestbps: 130.0</br>chol: 322.0</br>fbs: 0.0</br>restecg: 2.0</br>thalach: 109.0</br>exang: 0.0</br>oldpeak: 2.4</br>slope: 1.0</br>ca: 3.0</br>thal: 0.0</br>_original_yhat_: 0.9742528447623608</br>"
          ],
          [
           "</br>id: 158</br>prediction: 0.981</br>age: 50.599999999999994</br></br>sex: 1.0</br>cp: 3.0</br>trestbps: 130.0</br>chol: 322.0</br>fbs: 0.0</br>restecg: 2.0</br>thalach: 109.0</br>exang: 0.0</br>oldpeak: 2.4</br>slope: 1.0</br>ca: 3.0</br>thal: 0.0</br>_original_yhat_: 0.9742528447623608</br>"
          ],
          [
           "</br>id: 158</br>prediction: 0.981</br>age: 51.08</br></br>sex: 1.0</br>cp: 3.0</br>trestbps: 130.0</br>chol: 322.0</br>fbs: 0.0</br>restecg: 2.0</br>thalach: 109.0</br>exang: 0.0</br>oldpeak: 2.4</br>slope: 1.0</br>ca: 3.0</br>thal: 0.0</br>_original_yhat_: 0.9742528447623608</br>"
          ],
          [
           "</br>id: 158</br>prediction: 0.981</br>age: 51.56</br></br>sex: 1.0</br>cp: 3.0</br>trestbps: 130.0</br>chol: 322.0</br>fbs: 0.0</br>restecg: 2.0</br>thalach: 109.0</br>exang: 0.0</br>oldpeak: 2.4</br>slope: 1.0</br>ca: 3.0</br>thal: 0.0</br>_original_yhat_: 0.9742528447623608</br>"
          ],
          [
           "</br>id: 158</br>prediction: 0.98</br>age: 52.04</br></br>sex: 1.0</br>cp: 3.0</br>trestbps: 130.0</br>chol: 322.0</br>fbs: 0.0</br>restecg: 2.0</br>thalach: 109.0</br>exang: 0.0</br>oldpeak: 2.4</br>slope: 1.0</br>ca: 3.0</br>thal: 0.0</br>_original_yhat_: 0.9742528447623608</br>"
          ],
          [
           "</br>id: 158</br>prediction: 0.98</br>age: 52.519999999999996</br></br>sex: 1.0</br>cp: 3.0</br>trestbps: 130.0</br>chol: 322.0</br>fbs: 0.0</br>restecg: 2.0</br>thalach: 109.0</br>exang: 0.0</br>oldpeak: 2.4</br>slope: 1.0</br>ca: 3.0</br>thal: 0.0</br>_original_yhat_: 0.9742528447623608</br>"
          ],
          [
           "</br>id: 158</br>prediction: 0.98</br>age: 53.0</br></br>sex: 1.0</br>cp: 3.0</br>trestbps: 130.0</br>chol: 322.0</br>fbs: 0.0</br>restecg: 2.0</br>thalach: 109.0</br>exang: 0.0</br>oldpeak: 2.4</br>slope: 1.0</br>ca: 3.0</br>thal: 0.0</br>_original_yhat_: 0.9742528447623608</br>"
          ],
          [
           "</br>id: 158</br>prediction: 0.98</br>age: 53.480000000000004</br></br>sex: 1.0</br>cp: 3.0</br>trestbps: 130.0</br>chol: 322.0</br>fbs: 0.0</br>restecg: 2.0</br>thalach: 109.0</br>exang: 0.0</br>oldpeak: 2.4</br>slope: 1.0</br>ca: 3.0</br>thal: 0.0</br>_original_yhat_: 0.9742528447623608</br>"
          ],
          [
           "</br>id: 158</br>prediction: 0.98</br>age: 53.96</br></br>sex: 1.0</br>cp: 3.0</br>trestbps: 130.0</br>chol: 322.0</br>fbs: 0.0</br>restecg: 2.0</br>thalach: 109.0</br>exang: 0.0</br>oldpeak: 2.4</br>slope: 1.0</br>ca: 3.0</br>thal: 0.0</br>_original_yhat_: 0.9742528447623608</br>"
          ],
          [
           "</br>id: 158</br>prediction: 0.98</br>age: 54.44</br></br>sex: 1.0</br>cp: 3.0</br>trestbps: 130.0</br>chol: 322.0</br>fbs: 0.0</br>restecg: 2.0</br>thalach: 109.0</br>exang: 0.0</br>oldpeak: 2.4</br>slope: 1.0</br>ca: 3.0</br>thal: 0.0</br>_original_yhat_: 0.9742528447623608</br>"
          ],
          [
           "</br>id: 158</br>prediction: 0.98</br>age: 54.92</br></br>sex: 1.0</br>cp: 3.0</br>trestbps: 130.0</br>chol: 322.0</br>fbs: 0.0</br>restecg: 2.0</br>thalach: 109.0</br>exang: 0.0</br>oldpeak: 2.4</br>slope: 1.0</br>ca: 3.0</br>thal: 0.0</br>_original_yhat_: 0.9742528447623608</br>"
          ],
          [
           "</br>id: 158</br>prediction: 0.979</br>age: 55.4</br></br>sex: 1.0</br>cp: 3.0</br>trestbps: 130.0</br>chol: 322.0</br>fbs: 0.0</br>restecg: 2.0</br>thalach: 109.0</br>exang: 0.0</br>oldpeak: 2.4</br>slope: 1.0</br>ca: 3.0</br>thal: 0.0</br>_original_yhat_: 0.9742528447623608</br>"
          ],
          [
           "</br>id: 158</br>prediction: 0.979</br>age: 55.879999999999995</br></br>sex: 1.0</br>cp: 3.0</br>trestbps: 130.0</br>chol: 322.0</br>fbs: 0.0</br>restecg: 2.0</br>thalach: 109.0</br>exang: 0.0</br>oldpeak: 2.4</br>slope: 1.0</br>ca: 3.0</br>thal: 0.0</br>_original_yhat_: 0.9742528447623608</br>"
          ],
          [
           "</br>id: 158</br>prediction: 0.979</br>age: 56.36</br></br>sex: 1.0</br>cp: 3.0</br>trestbps: 130.0</br>chol: 322.0</br>fbs: 0.0</br>restecg: 2.0</br>thalach: 109.0</br>exang: 0.0</br>oldpeak: 2.4</br>slope: 1.0</br>ca: 3.0</br>thal: 0.0</br>_original_yhat_: 0.9742528447623608</br>"
          ],
          [
           "</br>id: 158</br>prediction: 0.979</br>age: 56.84</br></br>sex: 1.0</br>cp: 3.0</br>trestbps: 130.0</br>chol: 322.0</br>fbs: 0.0</br>restecg: 2.0</br>thalach: 109.0</br>exang: 0.0</br>oldpeak: 2.4</br>slope: 1.0</br>ca: 3.0</br>thal: 0.0</br>_original_yhat_: 0.9742528447623608</br>"
          ],
          [
           "</br>id: 158</br>prediction: 0.979</br>age: 57.32</br></br>sex: 1.0</br>cp: 3.0</br>trestbps: 130.0</br>chol: 322.0</br>fbs: 0.0</br>restecg: 2.0</br>thalach: 109.0</br>exang: 0.0</br>oldpeak: 2.4</br>slope: 1.0</br>ca: 3.0</br>thal: 0.0</br>_original_yhat_: 0.9742528447623608</br>"
          ],
          [
           "</br>id: 158</br>prediction: 0.979</br>age: 57.8</br></br>sex: 1.0</br>cp: 3.0</br>trestbps: 130.0</br>chol: 322.0</br>fbs: 0.0</br>restecg: 2.0</br>thalach: 109.0</br>exang: 0.0</br>oldpeak: 2.4</br>slope: 1.0</br>ca: 3.0</br>thal: 0.0</br>_original_yhat_: 0.9742528447623608</br>"
          ],
          [
           "</br>id: 158</br>prediction: 0.979</br>age: 58.28</br></br>sex: 1.0</br>cp: 3.0</br>trestbps: 130.0</br>chol: 322.0</br>fbs: 0.0</br>restecg: 2.0</br>thalach: 109.0</br>exang: 0.0</br>oldpeak: 2.4</br>slope: 1.0</br>ca: 3.0</br>thal: 0.0</br>_original_yhat_: 0.9742528447623608</br>"
          ],
          [
           "</br>id: 158</br>prediction: 0.978</br>age: 58.76</br></br>sex: 1.0</br>cp: 3.0</br>trestbps: 130.0</br>chol: 322.0</br>fbs: 0.0</br>restecg: 2.0</br>thalach: 109.0</br>exang: 0.0</br>oldpeak: 2.4</br>slope: 1.0</br>ca: 3.0</br>thal: 0.0</br>_original_yhat_: 0.9742528447623608</br>"
          ],
          [
           "</br>id: 158</br>prediction: 0.978</br>age: 59.239999999999995</br></br>sex: 1.0</br>cp: 3.0</br>trestbps: 130.0</br>chol: 322.0</br>fbs: 0.0</br>restecg: 2.0</br>thalach: 109.0</br>exang: 0.0</br>oldpeak: 2.4</br>slope: 1.0</br>ca: 3.0</br>thal: 0.0</br>_original_yhat_: 0.9742528447623608</br>"
          ],
          [
           "</br>id: 158</br>prediction: 0.978</br>age: 59.72</br></br>sex: 1.0</br>cp: 3.0</br>trestbps: 130.0</br>chol: 322.0</br>fbs: 0.0</br>restecg: 2.0</br>thalach: 109.0</br>exang: 0.0</br>oldpeak: 2.4</br>slope: 1.0</br>ca: 3.0</br>thal: 0.0</br>_original_yhat_: 0.9742528447623608</br>"
          ],
          [
           "</br>id: 158</br>prediction: 0.978</br>age: 60.2</br></br>sex: 1.0</br>cp: 3.0</br>trestbps: 130.0</br>chol: 322.0</br>fbs: 0.0</br>restecg: 2.0</br>thalach: 109.0</br>exang: 0.0</br>oldpeak: 2.4</br>slope: 1.0</br>ca: 3.0</br>thal: 0.0</br>_original_yhat_: 0.9742528447623608</br>"
          ],
          [
           "</br>id: 158</br>prediction: 0.978</br>age: 60.68</br></br>sex: 1.0</br>cp: 3.0</br>trestbps: 130.0</br>chol: 322.0</br>fbs: 0.0</br>restecg: 2.0</br>thalach: 109.0</br>exang: 0.0</br>oldpeak: 2.4</br>slope: 1.0</br>ca: 3.0</br>thal: 0.0</br>_original_yhat_: 0.9742528447623608</br>"
          ],
          [
           "</br>id: 158</br>prediction: 0.978</br>age: 61.16</br></br>sex: 1.0</br>cp: 3.0</br>trestbps: 130.0</br>chol: 322.0</br>fbs: 0.0</br>restecg: 2.0</br>thalach: 109.0</br>exang: 0.0</br>oldpeak: 2.4</br>slope: 1.0</br>ca: 3.0</br>thal: 0.0</br>_original_yhat_: 0.9742528447623608</br>"
          ],
          [
           "</br>id: 158</br>prediction: 0.977</br>age: 61.64</br></br>sex: 1.0</br>cp: 3.0</br>trestbps: 130.0</br>chol: 322.0</br>fbs: 0.0</br>restecg: 2.0</br>thalach: 109.0</br>exang: 0.0</br>oldpeak: 2.4</br>slope: 1.0</br>ca: 3.0</br>thal: 0.0</br>_original_yhat_: 0.9742528447623608</br>"
          ],
          [
           "</br>id: 158</br>prediction: 0.977</br>age: 62.12</br></br>sex: 1.0</br>cp: 3.0</br>trestbps: 130.0</br>chol: 322.0</br>fbs: 0.0</br>restecg: 2.0</br>thalach: 109.0</br>exang: 0.0</br>oldpeak: 2.4</br>slope: 1.0</br>ca: 3.0</br>thal: 0.0</br>_original_yhat_: 0.9742528447623608</br>"
          ],
          [
           "</br>id: 158</br>prediction: 0.977</br>age: 62.6</br></br>sex: 1.0</br>cp: 3.0</br>trestbps: 130.0</br>chol: 322.0</br>fbs: 0.0</br>restecg: 2.0</br>thalach: 109.0</br>exang: 0.0</br>oldpeak: 2.4</br>slope: 1.0</br>ca: 3.0</br>thal: 0.0</br>_original_yhat_: 0.9742528447623608</br>"
          ],
          [
           "</br>id: 158</br>prediction: 0.977</br>age: 63.08</br></br>sex: 1.0</br>cp: 3.0</br>trestbps: 130.0</br>chol: 322.0</br>fbs: 0.0</br>restecg: 2.0</br>thalach: 109.0</br>exang: 0.0</br>oldpeak: 2.4</br>slope: 1.0</br>ca: 3.0</br>thal: 0.0</br>_original_yhat_: 0.9742528447623608</br>"
          ],
          [
           "</br>id: 158</br>prediction: 0.977</br>age: 63.56</br></br>sex: 1.0</br>cp: 3.0</br>trestbps: 130.0</br>chol: 322.0</br>fbs: 0.0</br>restecg: 2.0</br>thalach: 109.0</br>exang: 0.0</br>oldpeak: 2.4</br>slope: 1.0</br>ca: 3.0</br>thal: 0.0</br>_original_yhat_: 0.9742528447623608</br>"
          ],
          [
           "</br>id: 158</br>prediction: 0.977</br>age: 64.03999999999999</br></br>sex: 1.0</br>cp: 3.0</br>trestbps: 130.0</br>chol: 322.0</br>fbs: 0.0</br>restecg: 2.0</br>thalach: 109.0</br>exang: 0.0</br>oldpeak: 2.4</br>slope: 1.0</br>ca: 3.0</br>thal: 0.0</br>_original_yhat_: 0.9742528447623608</br>"
          ],
          [
           "</br>id: 158</br>prediction: 0.976</br>age: 64.52</br></br>sex: 1.0</br>cp: 3.0</br>trestbps: 130.0</br>chol: 322.0</br>fbs: 0.0</br>restecg: 2.0</br>thalach: 109.0</br>exang: 0.0</br>oldpeak: 2.4</br>slope: 1.0</br>ca: 3.0</br>thal: 0.0</br>_original_yhat_: 0.9742528447623608</br>"
          ],
          [
           "</br>id: 158</br>prediction: 0.976</br>age: 65.0</br></br>sex: 1.0</br>cp: 3.0</br>trestbps: 130.0</br>chol: 322.0</br>fbs: 0.0</br>restecg: 2.0</br>thalach: 109.0</br>exang: 0.0</br>oldpeak: 2.4</br>slope: 1.0</br>ca: 3.0</br>thal: 0.0</br>_original_yhat_: 0.9742528447623608</br>"
          ],
          [
           "</br>id: 158</br>prediction: 0.976</br>age: 65.47999999999999</br></br>sex: 1.0</br>cp: 3.0</br>trestbps: 130.0</br>chol: 322.0</br>fbs: 0.0</br>restecg: 2.0</br>thalach: 109.0</br>exang: 0.0</br>oldpeak: 2.4</br>slope: 1.0</br>ca: 3.0</br>thal: 0.0</br>_original_yhat_: 0.9742528447623608</br>"
          ],
          [
           "</br>id: 158</br>prediction: 0.976</br>age: 65.96000000000001</br></br>sex: 1.0</br>cp: 3.0</br>trestbps: 130.0</br>chol: 322.0</br>fbs: 0.0</br>restecg: 2.0</br>thalach: 109.0</br>exang: 0.0</br>oldpeak: 2.4</br>slope: 1.0</br>ca: 3.0</br>thal: 0.0</br>_original_yhat_: 0.9742528447623608</br>"
          ],
          [
           "</br>id: 158</br>prediction: 0.976</br>age: 66.44</br></br>sex: 1.0</br>cp: 3.0</br>trestbps: 130.0</br>chol: 322.0</br>fbs: 0.0</br>restecg: 2.0</br>thalach: 109.0</br>exang: 0.0</br>oldpeak: 2.4</br>slope: 1.0</br>ca: 3.0</br>thal: 0.0</br>_original_yhat_: 0.9742528447623608</br>"
          ],
          [
           "</br>id: 158</br>prediction: 0.975</br>age: 66.92</br></br>sex: 1.0</br>cp: 3.0</br>trestbps: 130.0</br>chol: 322.0</br>fbs: 0.0</br>restecg: 2.0</br>thalach: 109.0</br>exang: 0.0</br>oldpeak: 2.4</br>slope: 1.0</br>ca: 3.0</br>thal: 0.0</br>_original_yhat_: 0.9742528447623608</br>"
          ],
          [
           "</br>id: 158</br>prediction: 0.975</br>age: 67.4</br></br>sex: 1.0</br>cp: 3.0</br>trestbps: 130.0</br>chol: 322.0</br>fbs: 0.0</br>restecg: 2.0</br>thalach: 109.0</br>exang: 0.0</br>oldpeak: 2.4</br>slope: 1.0</br>ca: 3.0</br>thal: 0.0</br>_original_yhat_: 0.9742528447623608</br>"
          ],
          [
           "</br>id: 158</br>prediction: 0.975</br>age: 67.88</br></br>sex: 1.0</br>cp: 3.0</br>trestbps: 130.0</br>chol: 322.0</br>fbs: 0.0</br>restecg: 2.0</br>thalach: 109.0</br>exang: 0.0</br>oldpeak: 2.4</br>slope: 1.0</br>ca: 3.0</br>thal: 0.0</br>_original_yhat_: 0.9742528447623608</br>"
          ],
          [
           "</br>id: 158</br>prediction: 0.975</br>age: 68.36</br></br>sex: 1.0</br>cp: 3.0</br>trestbps: 130.0</br>chol: 322.0</br>fbs: 0.0</br>restecg: 2.0</br>thalach: 109.0</br>exang: 0.0</br>oldpeak: 2.4</br>slope: 1.0</br>ca: 3.0</br>thal: 0.0</br>_original_yhat_: 0.9742528447623608</br>"
          ],
          [
           "</br>id: 158</br>prediction: 0.975</br>age: 68.84</br></br>sex: 1.0</br>cp: 3.0</br>trestbps: 130.0</br>chol: 322.0</br>fbs: 0.0</br>restecg: 2.0</br>thalach: 109.0</br>exang: 0.0</br>oldpeak: 2.4</br>slope: 1.0</br>ca: 3.0</br>thal: 0.0</br>_original_yhat_: 0.9742528447623608</br>"
          ],
          [
           "</br>id: 158</br>prediction: 0.975</br>age: 69.32</br></br>sex: 1.0</br>cp: 3.0</br>trestbps: 130.0</br>chol: 322.0</br>fbs: 0.0</br>restecg: 2.0</br>thalach: 109.0</br>exang: 0.0</br>oldpeak: 2.4</br>slope: 1.0</br>ca: 3.0</br>thal: 0.0</br>_original_yhat_: 0.9742528447623608</br>"
          ],
          [
           "</br>id: 158</br>prediction: 0.974</br>age: 69.8</br></br>sex: 1.0</br>cp: 3.0</br>trestbps: 130.0</br>chol: 322.0</br>fbs: 0.0</br>restecg: 2.0</br>thalach: 109.0</br>exang: 0.0</br>oldpeak: 2.4</br>slope: 1.0</br>ca: 3.0</br>thal: 0.0</br>_original_yhat_: 0.9742528447623608</br>"
          ],
          [
           "</br>id: 158</br>prediction: 0.974</br>age: 70.0</br></br>sex: 1.0</br>cp: 3.0</br>trestbps: 130.0</br>chol: 322.0</br>fbs: 0.0</br>restecg: 2.0</br>thalach: 109.0</br>exang: 0.0</br>oldpeak: 2.4</br>slope: 1.0</br>ca: 3.0</br>thal: 0.0</br>_original_yhat_: 0.9742528447623608</br>"
          ],
          [
           "</br>id: 158</br>prediction: 0.974</br>age: 70.28</br></br>sex: 1.0</br>cp: 3.0</br>trestbps: 130.0</br>chol: 322.0</br>fbs: 0.0</br>restecg: 2.0</br>thalach: 109.0</br>exang: 0.0</br>oldpeak: 2.4</br>slope: 1.0</br>ca: 3.0</br>thal: 0.0</br>_original_yhat_: 0.9742528447623608</br>"
          ],
          [
           "</br>id: 158</br>prediction: 0.974</br>age: 70.75999999999999</br></br>sex: 1.0</br>cp: 3.0</br>trestbps: 130.0</br>chol: 322.0</br>fbs: 0.0</br>restecg: 2.0</br>thalach: 109.0</br>exang: 0.0</br>oldpeak: 2.4</br>slope: 1.0</br>ca: 3.0</br>thal: 0.0</br>_original_yhat_: 0.9742528447623608</br>"
          ],
          [
           "</br>id: 158</br>prediction: 0.974</br>age: 71.24</br></br>sex: 1.0</br>cp: 3.0</br>trestbps: 130.0</br>chol: 322.0</br>fbs: 0.0</br>restecg: 2.0</br>thalach: 109.0</br>exang: 0.0</br>oldpeak: 2.4</br>slope: 1.0</br>ca: 3.0</br>thal: 0.0</br>_original_yhat_: 0.9742528447623608</br>"
          ],
          [
           "</br>id: 158</br>prediction: 0.974</br>age: 71.72</br></br>sex: 1.0</br>cp: 3.0</br>trestbps: 130.0</br>chol: 322.0</br>fbs: 0.0</br>restecg: 2.0</br>thalach: 109.0</br>exang: 0.0</br>oldpeak: 2.4</br>slope: 1.0</br>ca: 3.0</br>thal: 0.0</br>_original_yhat_: 0.9742528447623608</br>"
          ],
          [
           "</br>id: 158</br>prediction: 0.973</br>age: 72.19999999999999</br></br>sex: 1.0</br>cp: 3.0</br>trestbps: 130.0</br>chol: 322.0</br>fbs: 0.0</br>restecg: 2.0</br>thalach: 109.0</br>exang: 0.0</br>oldpeak: 2.4</br>slope: 1.0</br>ca: 3.0</br>thal: 0.0</br>_original_yhat_: 0.9742528447623608</br>"
          ],
          [
           "</br>id: 158</br>prediction: 0.973</br>age: 72.68</br></br>sex: 1.0</br>cp: 3.0</br>trestbps: 130.0</br>chol: 322.0</br>fbs: 0.0</br>restecg: 2.0</br>thalach: 109.0</br>exang: 0.0</br>oldpeak: 2.4</br>slope: 1.0</br>ca: 3.0</br>thal: 0.0</br>_original_yhat_: 0.9742528447623608</br>"
          ],
          [
           "</br>id: 158</br>prediction: 0.973</br>age: 73.16</br></br>sex: 1.0</br>cp: 3.0</br>trestbps: 130.0</br>chol: 322.0</br>fbs: 0.0</br>restecg: 2.0</br>thalach: 109.0</br>exang: 0.0</br>oldpeak: 2.4</br>slope: 1.0</br>ca: 3.0</br>thal: 0.0</br>_original_yhat_: 0.9742528447623608</br>"
          ],
          [
           "</br>id: 158</br>prediction: 0.973</br>age: 73.64</br></br>sex: 1.0</br>cp: 3.0</br>trestbps: 130.0</br>chol: 322.0</br>fbs: 0.0</br>restecg: 2.0</br>thalach: 109.0</br>exang: 0.0</br>oldpeak: 2.4</br>slope: 1.0</br>ca: 3.0</br>thal: 0.0</br>_original_yhat_: 0.9742528447623608</br>"
          ],
          [
           "</br>id: 158</br>prediction: 0.973</br>age: 74.12</br></br>sex: 1.0</br>cp: 3.0</br>trestbps: 130.0</br>chol: 322.0</br>fbs: 0.0</br>restecg: 2.0</br>thalach: 109.0</br>exang: 0.0</br>oldpeak: 2.4</br>slope: 1.0</br>ca: 3.0</br>thal: 0.0</br>_original_yhat_: 0.9742528447623608</br>"
          ],
          [
           "</br>id: 158</br>prediction: 0.972</br>age: 74.6</br></br>sex: 1.0</br>cp: 3.0</br>trestbps: 130.0</br>chol: 322.0</br>fbs: 0.0</br>restecg: 2.0</br>thalach: 109.0</br>exang: 0.0</br>oldpeak: 2.4</br>slope: 1.0</br>ca: 3.0</br>thal: 0.0</br>_original_yhat_: 0.9742528447623608</br>"
          ],
          [
           "</br>id: 158</br>prediction: 0.972</br>age: 75.08</br></br>sex: 1.0</br>cp: 3.0</br>trestbps: 130.0</br>chol: 322.0</br>fbs: 0.0</br>restecg: 2.0</br>thalach: 109.0</br>exang: 0.0</br>oldpeak: 2.4</br>slope: 1.0</br>ca: 3.0</br>thal: 0.0</br>_original_yhat_: 0.9742528447623608</br>"
          ],
          [
           "</br>id: 158</br>prediction: 0.972</br>age: 75.56</br></br>sex: 1.0</br>cp: 3.0</br>trestbps: 130.0</br>chol: 322.0</br>fbs: 0.0</br>restecg: 2.0</br>thalach: 109.0</br>exang: 0.0</br>oldpeak: 2.4</br>slope: 1.0</br>ca: 3.0</br>thal: 0.0</br>_original_yhat_: 0.9742528447623608</br>"
          ],
          [
           "</br>id: 158</br>prediction: 0.972</br>age: 76.03999999999999</br></br>sex: 1.0</br>cp: 3.0</br>trestbps: 130.0</br>chol: 322.0</br>fbs: 0.0</br>restecg: 2.0</br>thalach: 109.0</br>exang: 0.0</br>oldpeak: 2.4</br>slope: 1.0</br>ca: 3.0</br>thal: 0.0</br>_original_yhat_: 0.9742528447623608</br>"
          ],
          [
           "</br>id: 158</br>prediction: 0.972</br>age: 76.52</br></br>sex: 1.0</br>cp: 3.0</br>trestbps: 130.0</br>chol: 322.0</br>fbs: 0.0</br>restecg: 2.0</br>thalach: 109.0</br>exang: 0.0</br>oldpeak: 2.4</br>slope: 1.0</br>ca: 3.0</br>thal: 0.0</br>_original_yhat_: 0.9742528447623608</br>"
          ],
          [
           "</br>id: 158</br>prediction: 0.971</br>age: 77.0</br></br>sex: 1.0</br>cp: 3.0</br>trestbps: 130.0</br>chol: 322.0</br>fbs: 0.0</br>restecg: 2.0</br>thalach: 109.0</br>exang: 0.0</br>oldpeak: 2.4</br>slope: 1.0</br>ca: 3.0</br>thal: 0.0</br>_original_yhat_: 0.9742528447623608</br>"
          ]
         ],
         "hovertemplate": "%{customdata[0]}<extra></extra>",
         "legendgroup": "RandomizedSearchCV",
         "line": {
          "color": "#46bac2",
          "dash": "solid",
          "width": 2
         },
         "marker": {
          "symbol": "circle"
         },
         "mode": "lines",
         "name": "RandomizedSearchCV",
         "opacity": 1,
         "showlegend": true,
         "type": "scattergl",
         "x": [
          29,
          29.48,
          29.96,
          30.44,
          30.92,
          31.4,
          31.88,
          32.36,
          32.84,
          33.32,
          33.8,
          34.28,
          34.76,
          35.24,
          35.72,
          36.2,
          36.68,
          37.16,
          37.64,
          38.12,
          38.6,
          39.08,
          39.56,
          40.04,
          40.519999999999996,
          41,
          41.480000000000004,
          41.96,
          42.44,
          42.92,
          43.4,
          43.879999999999995,
          44.36,
          44.84,
          45.32,
          45.8,
          46.28,
          46.76,
          47.239999999999995,
          47.72,
          48.2,
          48.68,
          49.16,
          49.64,
          50.12,
          50.599999999999994,
          51.08,
          51.56,
          52.04,
          52.519999999999996,
          53,
          53.480000000000004,
          53.96,
          54.44,
          54.92,
          55.4,
          55.879999999999995,
          56.36,
          56.84,
          57.32,
          57.8,
          58.28,
          58.76,
          59.239999999999995,
          59.72,
          60.2,
          60.68,
          61.16,
          61.64,
          62.12,
          62.6,
          63.08,
          63.56,
          64.03999999999999,
          64.52,
          65,
          65.47999999999999,
          65.96000000000001,
          66.44,
          66.92,
          67.4,
          67.88,
          68.36,
          68.84,
          69.32,
          69.8,
          70,
          70.28,
          70.75999999999999,
          71.24,
          71.72,
          72.19999999999999,
          72.68,
          73.16,
          73.64,
          74.12,
          74.6,
          75.08,
          75.56,
          76.03999999999999,
          76.52,
          77
         ],
         "xaxis": "x13",
         "y": [
          0.9863372521767972,
          0.9862349612239236,
          0.9861319152017712,
          0.9860281086985276,
          0.9859235362660237,
          0.9858181924195255,
          0.9857120716375266,
          0.98560516836154,
          0.9854974769958879,
          0.9853889919074923,
          0.9852797074256652,
          0.9851696178418972,
          0.9850587174096453,
          0.984947000344123,
          0.9848344608220856,
          0.9847210929816178,
          0.984606890921921,
          0.9844918487030976,
          0.9843759603459383,
          0.9842592198317057,
          0.9841416211019194,
          0.9840231580581394,
          0.9839038245617511,
          0.9837836144337468,
          0.9836625214545098,
          0.9835405393635956,
          0.9834176618595153,
          0.9832938825995157,
          0.9831691951993616,
          0.9830435932331166,
          0.9829170702329227,
          0.9827896196887818,
          0.982661235048335,
          0.9825319097166425,
          0.9824016370559626,
          0.9822704103855313,
          0.9821382229813409,
          0.982005068075919,
          0.9818709388581066,
          0.9817358284728367,
          0.981599730020912,
          0.9814626365587841,
          0.9813245410983295,
          0.9811854366066284,
          0.9810453160057433,
          0.9809041721724941,
          0.9807619979382383,
          0.9806187860886465,
          0.9804745293634815,
          0.9803292204563742,
          0.9801828520146023,
          0.9800354166388678,
          0.9798869068830744,
          0.9797373152541052,
          0.9795866342116005,
          0.9794348561677367,
          0.9792819734870037,
          0.9791279784859838,
          0.9789728634331298,
          0.978816620548545,
          0.9786592420037611,
          0.9785007199215184,
          0.9783410463755459,
          0.9781802133903409,
          0.9780182129409503,
          0.9778550369527501,
          0.9776906773012292,
          0.9775251258117692,
          0.9773583742594277,
          0.9771904143687217,
          0.9770212378134098,
          0.9768508362162778,
          0.9766792011489228,
          0.9765063241315384,
          0.9763321966327013,
          0.9761568100691576,
          0.975980155805611,
          0.9758022251545108,
          0.9756230093758413,
          0.9754424996769123,
          0.975260687212149,
          0.9750775630828853,
          0.9748931183371562,
          0.9747073439694917,
          0.9745202309207114,
          0.9743317700777221,
          0.9742528447623608,
          0.9741419522733133,
          0.9739507682859568,
          0.9737582088396064,
          0.9735642646034981,
          0.973368926191953,
          0.9731721841641807,
          0.9729740290240841,
          0.9727744512200668,
          0.972573441144839,
          0.9723709891352296,
          0.9721670854719947,
          0.9719617203796325,
          0.9717548840261955,
          0.9715465665231088,
          0.9713367579249859
         ],
         "yaxis": "y13"
        },
        {
         "customdata": [
          [
           "</br>id: 158</br>prediction: 0.956</br>sex: 0.0</br></br>age: 70.0</br>cp: 3.0</br>trestbps: 130.0</br>chol: 322.0</br>fbs: 0.0</br>restecg: 2.0</br>thalach: 109.0</br>exang: 0.0</br>oldpeak: 2.4</br>slope: 1.0</br>ca: 3.0</br>thal: 0.0</br>_original_yhat_: 0.9742528447623608</br>"
          ],
          [
           "</br>id: 158</br>prediction: 0.956</br>sex: 0.01</br></br>age: 70.0</br>cp: 3.0</br>trestbps: 130.0</br>chol: 322.0</br>fbs: 0.0</br>restecg: 2.0</br>thalach: 109.0</br>exang: 0.0</br>oldpeak: 2.4</br>slope: 1.0</br>ca: 3.0</br>thal: 0.0</br>_original_yhat_: 0.9742528447623608</br>"
          ],
          [
           "</br>id: 158</br>prediction: 0.956</br>sex: 0.02</br></br>age: 70.0</br>cp: 3.0</br>trestbps: 130.0</br>chol: 322.0</br>fbs: 0.0</br>restecg: 2.0</br>thalach: 109.0</br>exang: 0.0</br>oldpeak: 2.4</br>slope: 1.0</br>ca: 3.0</br>thal: 0.0</br>_original_yhat_: 0.9742528447623608</br>"
          ],
          [
           "</br>id: 158</br>prediction: 0.956</br>sex: 0.03</br></br>age: 70.0</br>cp: 3.0</br>trestbps: 130.0</br>chol: 322.0</br>fbs: 0.0</br>restecg: 2.0</br>thalach: 109.0</br>exang: 0.0</br>oldpeak: 2.4</br>slope: 1.0</br>ca: 3.0</br>thal: 0.0</br>_original_yhat_: 0.9742528447623608</br>"
          ],
          [
           "</br>id: 158</br>prediction: 0.957</br>sex: 0.04</br></br>age: 70.0</br>cp: 3.0</br>trestbps: 130.0</br>chol: 322.0</br>fbs: 0.0</br>restecg: 2.0</br>thalach: 109.0</br>exang: 0.0</br>oldpeak: 2.4</br>slope: 1.0</br>ca: 3.0</br>thal: 0.0</br>_original_yhat_: 0.9742528447623608</br>"
          ],
          [
           "</br>id: 158</br>prediction: 0.957</br>sex: 0.05</br></br>age: 70.0</br>cp: 3.0</br>trestbps: 130.0</br>chol: 322.0</br>fbs: 0.0</br>restecg: 2.0</br>thalach: 109.0</br>exang: 0.0</br>oldpeak: 2.4</br>slope: 1.0</br>ca: 3.0</br>thal: 0.0</br>_original_yhat_: 0.9742528447623608</br>"
          ],
          [
           "</br>id: 158</br>prediction: 0.957</br>sex: 0.06</br></br>age: 70.0</br>cp: 3.0</br>trestbps: 130.0</br>chol: 322.0</br>fbs: 0.0</br>restecg: 2.0</br>thalach: 109.0</br>exang: 0.0</br>oldpeak: 2.4</br>slope: 1.0</br>ca: 3.0</br>thal: 0.0</br>_original_yhat_: 0.9742528447623608</br>"
          ],
          [
           "</br>id: 158</br>prediction: 0.957</br>sex: 0.07</br></br>age: 70.0</br>cp: 3.0</br>trestbps: 130.0</br>chol: 322.0</br>fbs: 0.0</br>restecg: 2.0</br>thalach: 109.0</br>exang: 0.0</br>oldpeak: 2.4</br>slope: 1.0</br>ca: 3.0</br>thal: 0.0</br>_original_yhat_: 0.9742528447623608</br>"
          ],
          [
           "</br>id: 158</br>prediction: 0.958</br>sex: 0.08</br></br>age: 70.0</br>cp: 3.0</br>trestbps: 130.0</br>chol: 322.0</br>fbs: 0.0</br>restecg: 2.0</br>thalach: 109.0</br>exang: 0.0</br>oldpeak: 2.4</br>slope: 1.0</br>ca: 3.0</br>thal: 0.0</br>_original_yhat_: 0.9742528447623608</br>"
          ],
          [
           "</br>id: 158</br>prediction: 0.958</br>sex: 0.09</br></br>age: 70.0</br>cp: 3.0</br>trestbps: 130.0</br>chol: 322.0</br>fbs: 0.0</br>restecg: 2.0</br>thalach: 109.0</br>exang: 0.0</br>oldpeak: 2.4</br>slope: 1.0</br>ca: 3.0</br>thal: 0.0</br>_original_yhat_: 0.9742528447623608</br>"
          ],
          [
           "</br>id: 158</br>prediction: 0.958</br>sex: 0.1</br></br>age: 70.0</br>cp: 3.0</br>trestbps: 130.0</br>chol: 322.0</br>fbs: 0.0</br>restecg: 2.0</br>thalach: 109.0</br>exang: 0.0</br>oldpeak: 2.4</br>slope: 1.0</br>ca: 3.0</br>thal: 0.0</br>_original_yhat_: 0.9742528447623608</br>"
          ],
          [
           "</br>id: 158</br>prediction: 0.958</br>sex: 0.11</br></br>age: 70.0</br>cp: 3.0</br>trestbps: 130.0</br>chol: 322.0</br>fbs: 0.0</br>restecg: 2.0</br>thalach: 109.0</br>exang: 0.0</br>oldpeak: 2.4</br>slope: 1.0</br>ca: 3.0</br>thal: 0.0</br>_original_yhat_: 0.9742528447623608</br>"
          ],
          [
           "</br>id: 158</br>prediction: 0.958</br>sex: 0.12</br></br>age: 70.0</br>cp: 3.0</br>trestbps: 130.0</br>chol: 322.0</br>fbs: 0.0</br>restecg: 2.0</br>thalach: 109.0</br>exang: 0.0</br>oldpeak: 2.4</br>slope: 1.0</br>ca: 3.0</br>thal: 0.0</br>_original_yhat_: 0.9742528447623608</br>"
          ],
          [
           "</br>id: 158</br>prediction: 0.959</br>sex: 0.13</br></br>age: 70.0</br>cp: 3.0</br>trestbps: 130.0</br>chol: 322.0</br>fbs: 0.0</br>restecg: 2.0</br>thalach: 109.0</br>exang: 0.0</br>oldpeak: 2.4</br>slope: 1.0</br>ca: 3.0</br>thal: 0.0</br>_original_yhat_: 0.9742528447623608</br>"
          ],
          [
           "</br>id: 158</br>prediction: 0.959</br>sex: 0.14</br></br>age: 70.0</br>cp: 3.0</br>trestbps: 130.0</br>chol: 322.0</br>fbs: 0.0</br>restecg: 2.0</br>thalach: 109.0</br>exang: 0.0</br>oldpeak: 2.4</br>slope: 1.0</br>ca: 3.0</br>thal: 0.0</br>_original_yhat_: 0.9742528447623608</br>"
          ],
          [
           "</br>id: 158</br>prediction: 0.959</br>sex: 0.15</br></br>age: 70.0</br>cp: 3.0</br>trestbps: 130.0</br>chol: 322.0</br>fbs: 0.0</br>restecg: 2.0</br>thalach: 109.0</br>exang: 0.0</br>oldpeak: 2.4</br>slope: 1.0</br>ca: 3.0</br>thal: 0.0</br>_original_yhat_: 0.9742528447623608</br>"
          ],
          [
           "</br>id: 158</br>prediction: 0.959</br>sex: 0.16</br></br>age: 70.0</br>cp: 3.0</br>trestbps: 130.0</br>chol: 322.0</br>fbs: 0.0</br>restecg: 2.0</br>thalach: 109.0</br>exang: 0.0</br>oldpeak: 2.4</br>slope: 1.0</br>ca: 3.0</br>thal: 0.0</br>_original_yhat_: 0.9742528447623608</br>"
          ],
          [
           "</br>id: 158</br>prediction: 0.96</br>sex: 0.17</br></br>age: 70.0</br>cp: 3.0</br>trestbps: 130.0</br>chol: 322.0</br>fbs: 0.0</br>restecg: 2.0</br>thalach: 109.0</br>exang: 0.0</br>oldpeak: 2.4</br>slope: 1.0</br>ca: 3.0</br>thal: 0.0</br>_original_yhat_: 0.9742528447623608</br>"
          ],
          [
           "</br>id: 158</br>prediction: 0.96</br>sex: 0.18</br></br>age: 70.0</br>cp: 3.0</br>trestbps: 130.0</br>chol: 322.0</br>fbs: 0.0</br>restecg: 2.0</br>thalach: 109.0</br>exang: 0.0</br>oldpeak: 2.4</br>slope: 1.0</br>ca: 3.0</br>thal: 0.0</br>_original_yhat_: 0.9742528447623608</br>"
          ],
          [
           "</br>id: 158</br>prediction: 0.96</br>sex: 0.19</br></br>age: 70.0</br>cp: 3.0</br>trestbps: 130.0</br>chol: 322.0</br>fbs: 0.0</br>restecg: 2.0</br>thalach: 109.0</br>exang: 0.0</br>oldpeak: 2.4</br>slope: 1.0</br>ca: 3.0</br>thal: 0.0</br>_original_yhat_: 0.9742528447623608</br>"
          ],
          [
           "</br>id: 158</br>prediction: 0.96</br>sex: 0.2</br></br>age: 70.0</br>cp: 3.0</br>trestbps: 130.0</br>chol: 322.0</br>fbs: 0.0</br>restecg: 2.0</br>thalach: 109.0</br>exang: 0.0</br>oldpeak: 2.4</br>slope: 1.0</br>ca: 3.0</br>thal: 0.0</br>_original_yhat_: 0.9742528447623608</br>"
          ],
          [
           "</br>id: 158</br>prediction: 0.96</br>sex: 0.21</br></br>age: 70.0</br>cp: 3.0</br>trestbps: 130.0</br>chol: 322.0</br>fbs: 0.0</br>restecg: 2.0</br>thalach: 109.0</br>exang: 0.0</br>oldpeak: 2.4</br>slope: 1.0</br>ca: 3.0</br>thal: 0.0</br>_original_yhat_: 0.9742528447623608</br>"
          ],
          [
           "</br>id: 158</br>prediction: 0.961</br>sex: 0.22</br></br>age: 70.0</br>cp: 3.0</br>trestbps: 130.0</br>chol: 322.0</br>fbs: 0.0</br>restecg: 2.0</br>thalach: 109.0</br>exang: 0.0</br>oldpeak: 2.4</br>slope: 1.0</br>ca: 3.0</br>thal: 0.0</br>_original_yhat_: 0.9742528447623608</br>"
          ],
          [
           "</br>id: 158</br>prediction: 0.961</br>sex: 0.23</br></br>age: 70.0</br>cp: 3.0</br>trestbps: 130.0</br>chol: 322.0</br>fbs: 0.0</br>restecg: 2.0</br>thalach: 109.0</br>exang: 0.0</br>oldpeak: 2.4</br>slope: 1.0</br>ca: 3.0</br>thal: 0.0</br>_original_yhat_: 0.9742528447623608</br>"
          ],
          [
           "</br>id: 158</br>prediction: 0.961</br>sex: 0.24</br></br>age: 70.0</br>cp: 3.0</br>trestbps: 130.0</br>chol: 322.0</br>fbs: 0.0</br>restecg: 2.0</br>thalach: 109.0</br>exang: 0.0</br>oldpeak: 2.4</br>slope: 1.0</br>ca: 3.0</br>thal: 0.0</br>_original_yhat_: 0.9742528447623608</br>"
          ],
          [
           "</br>id: 158</br>prediction: 0.961</br>sex: 0.25</br></br>age: 70.0</br>cp: 3.0</br>trestbps: 130.0</br>chol: 322.0</br>fbs: 0.0</br>restecg: 2.0</br>thalach: 109.0</br>exang: 0.0</br>oldpeak: 2.4</br>slope: 1.0</br>ca: 3.0</br>thal: 0.0</br>_original_yhat_: 0.9742528447623608</br>"
          ],
          [
           "</br>id: 158</br>prediction: 0.961</br>sex: 0.26</br></br>age: 70.0</br>cp: 3.0</br>trestbps: 130.0</br>chol: 322.0</br>fbs: 0.0</br>restecg: 2.0</br>thalach: 109.0</br>exang: 0.0</br>oldpeak: 2.4</br>slope: 1.0</br>ca: 3.0</br>thal: 0.0</br>_original_yhat_: 0.9742528447623608</br>"
          ],
          [
           "</br>id: 158</br>prediction: 0.962</br>sex: 0.27</br></br>age: 70.0</br>cp: 3.0</br>trestbps: 130.0</br>chol: 322.0</br>fbs: 0.0</br>restecg: 2.0</br>thalach: 109.0</br>exang: 0.0</br>oldpeak: 2.4</br>slope: 1.0</br>ca: 3.0</br>thal: 0.0</br>_original_yhat_: 0.9742528447623608</br>"
          ],
          [
           "</br>id: 158</br>prediction: 0.962</br>sex: 0.28</br></br>age: 70.0</br>cp: 3.0</br>trestbps: 130.0</br>chol: 322.0</br>fbs: 0.0</br>restecg: 2.0</br>thalach: 109.0</br>exang: 0.0</br>oldpeak: 2.4</br>slope: 1.0</br>ca: 3.0</br>thal: 0.0</br>_original_yhat_: 0.9742528447623608</br>"
          ],
          [
           "</br>id: 158</br>prediction: 0.962</br>sex: 0.29</br></br>age: 70.0</br>cp: 3.0</br>trestbps: 130.0</br>chol: 322.0</br>fbs: 0.0</br>restecg: 2.0</br>thalach: 109.0</br>exang: 0.0</br>oldpeak: 2.4</br>slope: 1.0</br>ca: 3.0</br>thal: 0.0</br>_original_yhat_: 0.9742528447623608</br>"
          ],
          [
           "</br>id: 158</br>prediction: 0.962</br>sex: 0.3</br></br>age: 70.0</br>cp: 3.0</br>trestbps: 130.0</br>chol: 322.0</br>fbs: 0.0</br>restecg: 2.0</br>thalach: 109.0</br>exang: 0.0</br>oldpeak: 2.4</br>slope: 1.0</br>ca: 3.0</br>thal: 0.0</br>_original_yhat_: 0.9742528447623608</br>"
          ],
          [
           "</br>id: 158</br>prediction: 0.962</br>sex: 0.31</br></br>age: 70.0</br>cp: 3.0</br>trestbps: 130.0</br>chol: 322.0</br>fbs: 0.0</br>restecg: 2.0</br>thalach: 109.0</br>exang: 0.0</br>oldpeak: 2.4</br>slope: 1.0</br>ca: 3.0</br>thal: 0.0</br>_original_yhat_: 0.9742528447623608</br>"
          ],
          [
           "</br>id: 158</br>prediction: 0.963</br>sex: 0.32</br></br>age: 70.0</br>cp: 3.0</br>trestbps: 130.0</br>chol: 322.0</br>fbs: 0.0</br>restecg: 2.0</br>thalach: 109.0</br>exang: 0.0</br>oldpeak: 2.4</br>slope: 1.0</br>ca: 3.0</br>thal: 0.0</br>_original_yhat_: 0.9742528447623608</br>"
          ],
          [
           "</br>id: 158</br>prediction: 0.963</br>sex: 0.33</br></br>age: 70.0</br>cp: 3.0</br>trestbps: 130.0</br>chol: 322.0</br>fbs: 0.0</br>restecg: 2.0</br>thalach: 109.0</br>exang: 0.0</br>oldpeak: 2.4</br>slope: 1.0</br>ca: 3.0</br>thal: 0.0</br>_original_yhat_: 0.9742528447623608</br>"
          ],
          [
           "</br>id: 158</br>prediction: 0.963</br>sex: 0.34</br></br>age: 70.0</br>cp: 3.0</br>trestbps: 130.0</br>chol: 322.0</br>fbs: 0.0</br>restecg: 2.0</br>thalach: 109.0</br>exang: 0.0</br>oldpeak: 2.4</br>slope: 1.0</br>ca: 3.0</br>thal: 0.0</br>_original_yhat_: 0.9742528447623608</br>"
          ],
          [
           "</br>id: 158</br>prediction: 0.963</br>sex: 0.35000000000000003</br></br>age: 70.0</br>cp: 3.0</br>trestbps: 130.0</br>chol: 322.0</br>fbs: 0.0</br>restecg: 2.0</br>thalach: 109.0</br>exang: 0.0</br>oldpeak: 2.4</br>slope: 1.0</br>ca: 3.0</br>thal: 0.0</br>_original_yhat_: 0.9742528447623608</br>"
          ],
          [
           "</br>id: 158</br>prediction: 0.963</br>sex: 0.36</br></br>age: 70.0</br>cp: 3.0</br>trestbps: 130.0</br>chol: 322.0</br>fbs: 0.0</br>restecg: 2.0</br>thalach: 109.0</br>exang: 0.0</br>oldpeak: 2.4</br>slope: 1.0</br>ca: 3.0</br>thal: 0.0</br>_original_yhat_: 0.9742528447623608</br>"
          ],
          [
           "</br>id: 158</br>prediction: 0.964</br>sex: 0.37</br></br>age: 70.0</br>cp: 3.0</br>trestbps: 130.0</br>chol: 322.0</br>fbs: 0.0</br>restecg: 2.0</br>thalach: 109.0</br>exang: 0.0</br>oldpeak: 2.4</br>slope: 1.0</br>ca: 3.0</br>thal: 0.0</br>_original_yhat_: 0.9742528447623608</br>"
          ],
          [
           "</br>id: 158</br>prediction: 0.964</br>sex: 0.38</br></br>age: 70.0</br>cp: 3.0</br>trestbps: 130.0</br>chol: 322.0</br>fbs: 0.0</br>restecg: 2.0</br>thalach: 109.0</br>exang: 0.0</br>oldpeak: 2.4</br>slope: 1.0</br>ca: 3.0</br>thal: 0.0</br>_original_yhat_: 0.9742528447623608</br>"
          ],
          [
           "</br>id: 158</br>prediction: 0.964</br>sex: 0.39</br></br>age: 70.0</br>cp: 3.0</br>trestbps: 130.0</br>chol: 322.0</br>fbs: 0.0</br>restecg: 2.0</br>thalach: 109.0</br>exang: 0.0</br>oldpeak: 2.4</br>slope: 1.0</br>ca: 3.0</br>thal: 0.0</br>_original_yhat_: 0.9742528447623608</br>"
          ],
          [
           "</br>id: 158</br>prediction: 0.964</br>sex: 0.4</br></br>age: 70.0</br>cp: 3.0</br>trestbps: 130.0</br>chol: 322.0</br>fbs: 0.0</br>restecg: 2.0</br>thalach: 109.0</br>exang: 0.0</br>oldpeak: 2.4</br>slope: 1.0</br>ca: 3.0</br>thal: 0.0</br>_original_yhat_: 0.9742528447623608</br>"
          ],
          [
           "</br>id: 158</br>prediction: 0.964</br>sex: 0.41000000000000003</br></br>age: 70.0</br>cp: 3.0</br>trestbps: 130.0</br>chol: 322.0</br>fbs: 0.0</br>restecg: 2.0</br>thalach: 109.0</br>exang: 0.0</br>oldpeak: 2.4</br>slope: 1.0</br>ca: 3.0</br>thal: 0.0</br>_original_yhat_: 0.9742528447623608</br>"
          ],
          [
           "</br>id: 158</br>prediction: 0.965</br>sex: 0.42</br></br>age: 70.0</br>cp: 3.0</br>trestbps: 130.0</br>chol: 322.0</br>fbs: 0.0</br>restecg: 2.0</br>thalach: 109.0</br>exang: 0.0</br>oldpeak: 2.4</br>slope: 1.0</br>ca: 3.0</br>thal: 0.0</br>_original_yhat_: 0.9742528447623608</br>"
          ],
          [
           "</br>id: 158</br>prediction: 0.965</br>sex: 0.43</br></br>age: 70.0</br>cp: 3.0</br>trestbps: 130.0</br>chol: 322.0</br>fbs: 0.0</br>restecg: 2.0</br>thalach: 109.0</br>exang: 0.0</br>oldpeak: 2.4</br>slope: 1.0</br>ca: 3.0</br>thal: 0.0</br>_original_yhat_: 0.9742528447623608</br>"
          ],
          [
           "</br>id: 158</br>prediction: 0.965</br>sex: 0.44</br></br>age: 70.0</br>cp: 3.0</br>trestbps: 130.0</br>chol: 322.0</br>fbs: 0.0</br>restecg: 2.0</br>thalach: 109.0</br>exang: 0.0</br>oldpeak: 2.4</br>slope: 1.0</br>ca: 3.0</br>thal: 0.0</br>_original_yhat_: 0.9742528447623608</br>"
          ],
          [
           "</br>id: 158</br>prediction: 0.965</br>sex: 0.45</br></br>age: 70.0</br>cp: 3.0</br>trestbps: 130.0</br>chol: 322.0</br>fbs: 0.0</br>restecg: 2.0</br>thalach: 109.0</br>exang: 0.0</br>oldpeak: 2.4</br>slope: 1.0</br>ca: 3.0</br>thal: 0.0</br>_original_yhat_: 0.9742528447623608</br>"
          ],
          [
           "</br>id: 158</br>prediction: 0.965</br>sex: 0.46</br></br>age: 70.0</br>cp: 3.0</br>trestbps: 130.0</br>chol: 322.0</br>fbs: 0.0</br>restecg: 2.0</br>thalach: 109.0</br>exang: 0.0</br>oldpeak: 2.4</br>slope: 1.0</br>ca: 3.0</br>thal: 0.0</br>_original_yhat_: 0.9742528447623608</br>"
          ],
          [
           "</br>id: 158</br>prediction: 0.966</br>sex: 0.47000000000000003</br></br>age: 70.0</br>cp: 3.0</br>trestbps: 130.0</br>chol: 322.0</br>fbs: 0.0</br>restecg: 2.0</br>thalach: 109.0</br>exang: 0.0</br>oldpeak: 2.4</br>slope: 1.0</br>ca: 3.0</br>thal: 0.0</br>_original_yhat_: 0.9742528447623608</br>"
          ],
          [
           "</br>id: 158</br>prediction: 0.966</br>sex: 0.48</br></br>age: 70.0</br>cp: 3.0</br>trestbps: 130.0</br>chol: 322.0</br>fbs: 0.0</br>restecg: 2.0</br>thalach: 109.0</br>exang: 0.0</br>oldpeak: 2.4</br>slope: 1.0</br>ca: 3.0</br>thal: 0.0</br>_original_yhat_: 0.9742528447623608</br>"
          ],
          [
           "</br>id: 158</br>prediction: 0.966</br>sex: 0.49</br></br>age: 70.0</br>cp: 3.0</br>trestbps: 130.0</br>chol: 322.0</br>fbs: 0.0</br>restecg: 2.0</br>thalach: 109.0</br>exang: 0.0</br>oldpeak: 2.4</br>slope: 1.0</br>ca: 3.0</br>thal: 0.0</br>_original_yhat_: 0.9742528447623608</br>"
          ],
          [
           "</br>id: 158</br>prediction: 0.966</br>sex: 0.5</br></br>age: 70.0</br>cp: 3.0</br>trestbps: 130.0</br>chol: 322.0</br>fbs: 0.0</br>restecg: 2.0</br>thalach: 109.0</br>exang: 0.0</br>oldpeak: 2.4</br>slope: 1.0</br>ca: 3.0</br>thal: 0.0</br>_original_yhat_: 0.9742528447623608</br>"
          ],
          [
           "</br>id: 158</br>prediction: 0.966</br>sex: 0.51</br></br>age: 70.0</br>cp: 3.0</br>trestbps: 130.0</br>chol: 322.0</br>fbs: 0.0</br>restecg: 2.0</br>thalach: 109.0</br>exang: 0.0</br>oldpeak: 2.4</br>slope: 1.0</br>ca: 3.0</br>thal: 0.0</br>_original_yhat_: 0.9742528447623608</br>"
          ],
          [
           "</br>id: 158</br>prediction: 0.967</br>sex: 0.52</br></br>age: 70.0</br>cp: 3.0</br>trestbps: 130.0</br>chol: 322.0</br>fbs: 0.0</br>restecg: 2.0</br>thalach: 109.0</br>exang: 0.0</br>oldpeak: 2.4</br>slope: 1.0</br>ca: 3.0</br>thal: 0.0</br>_original_yhat_: 0.9742528447623608</br>"
          ],
          [
           "</br>id: 158</br>prediction: 0.967</br>sex: 0.53</br></br>age: 70.0</br>cp: 3.0</br>trestbps: 130.0</br>chol: 322.0</br>fbs: 0.0</br>restecg: 2.0</br>thalach: 109.0</br>exang: 0.0</br>oldpeak: 2.4</br>slope: 1.0</br>ca: 3.0</br>thal: 0.0</br>_original_yhat_: 0.9742528447623608</br>"
          ],
          [
           "</br>id: 158</br>prediction: 0.967</br>sex: 0.54</br></br>age: 70.0</br>cp: 3.0</br>trestbps: 130.0</br>chol: 322.0</br>fbs: 0.0</br>restecg: 2.0</br>thalach: 109.0</br>exang: 0.0</br>oldpeak: 2.4</br>slope: 1.0</br>ca: 3.0</br>thal: 0.0</br>_original_yhat_: 0.9742528447623608</br>"
          ],
          [
           "</br>id: 158</br>prediction: 0.967</br>sex: 0.55</br></br>age: 70.0</br>cp: 3.0</br>trestbps: 130.0</br>chol: 322.0</br>fbs: 0.0</br>restecg: 2.0</br>thalach: 109.0</br>exang: 0.0</br>oldpeak: 2.4</br>slope: 1.0</br>ca: 3.0</br>thal: 0.0</br>_original_yhat_: 0.9742528447623608</br>"
          ],
          [
           "</br>id: 158</br>prediction: 0.967</br>sex: 0.56</br></br>age: 70.0</br>cp: 3.0</br>trestbps: 130.0</br>chol: 322.0</br>fbs: 0.0</br>restecg: 2.0</br>thalach: 109.0</br>exang: 0.0</br>oldpeak: 2.4</br>slope: 1.0</br>ca: 3.0</br>thal: 0.0</br>_original_yhat_: 0.9742528447623608</br>"
          ],
          [
           "</br>id: 158</br>prediction: 0.967</br>sex: 0.5700000000000001</br></br>age: 70.0</br>cp: 3.0</br>trestbps: 130.0</br>chol: 322.0</br>fbs: 0.0</br>restecg: 2.0</br>thalach: 109.0</br>exang: 0.0</br>oldpeak: 2.4</br>slope: 1.0</br>ca: 3.0</br>thal: 0.0</br>_original_yhat_: 0.9742528447623608</br>"
          ],
          [
           "</br>id: 158</br>prediction: 0.968</br>sex: 0.58</br></br>age: 70.0</br>cp: 3.0</br>trestbps: 130.0</br>chol: 322.0</br>fbs: 0.0</br>restecg: 2.0</br>thalach: 109.0</br>exang: 0.0</br>oldpeak: 2.4</br>slope: 1.0</br>ca: 3.0</br>thal: 0.0</br>_original_yhat_: 0.9742528447623608</br>"
          ],
          [
           "</br>id: 158</br>prediction: 0.968</br>sex: 0.59</br></br>age: 70.0</br>cp: 3.0</br>trestbps: 130.0</br>chol: 322.0</br>fbs: 0.0</br>restecg: 2.0</br>thalach: 109.0</br>exang: 0.0</br>oldpeak: 2.4</br>slope: 1.0</br>ca: 3.0</br>thal: 0.0</br>_original_yhat_: 0.9742528447623608</br>"
          ],
          [
           "</br>id: 158</br>prediction: 0.968</br>sex: 0.6</br></br>age: 70.0</br>cp: 3.0</br>trestbps: 130.0</br>chol: 322.0</br>fbs: 0.0</br>restecg: 2.0</br>thalach: 109.0</br>exang: 0.0</br>oldpeak: 2.4</br>slope: 1.0</br>ca: 3.0</br>thal: 0.0</br>_original_yhat_: 0.9742528447623608</br>"
          ],
          [
           "</br>id: 158</br>prediction: 0.968</br>sex: 0.61</br></br>age: 70.0</br>cp: 3.0</br>trestbps: 130.0</br>chol: 322.0</br>fbs: 0.0</br>restecg: 2.0</br>thalach: 109.0</br>exang: 0.0</br>oldpeak: 2.4</br>slope: 1.0</br>ca: 3.0</br>thal: 0.0</br>_original_yhat_: 0.9742528447623608</br>"
          ],
          [
           "</br>id: 158</br>prediction: 0.968</br>sex: 0.62</br></br>age: 70.0</br>cp: 3.0</br>trestbps: 130.0</br>chol: 322.0</br>fbs: 0.0</br>restecg: 2.0</br>thalach: 109.0</br>exang: 0.0</br>oldpeak: 2.4</br>slope: 1.0</br>ca: 3.0</br>thal: 0.0</br>_original_yhat_: 0.9742528447623608</br>"
          ],
          [
           "</br>id: 158</br>prediction: 0.968</br>sex: 0.63</br></br>age: 70.0</br>cp: 3.0</br>trestbps: 130.0</br>chol: 322.0</br>fbs: 0.0</br>restecg: 2.0</br>thalach: 109.0</br>exang: 0.0</br>oldpeak: 2.4</br>slope: 1.0</br>ca: 3.0</br>thal: 0.0</br>_original_yhat_: 0.9742528447623608</br>"
          ],
          [
           "</br>id: 158</br>prediction: 0.969</br>sex: 0.64</br></br>age: 70.0</br>cp: 3.0</br>trestbps: 130.0</br>chol: 322.0</br>fbs: 0.0</br>restecg: 2.0</br>thalach: 109.0</br>exang: 0.0</br>oldpeak: 2.4</br>slope: 1.0</br>ca: 3.0</br>thal: 0.0</br>_original_yhat_: 0.9742528447623608</br>"
          ],
          [
           "</br>id: 158</br>prediction: 0.969</br>sex: 0.65</br></br>age: 70.0</br>cp: 3.0</br>trestbps: 130.0</br>chol: 322.0</br>fbs: 0.0</br>restecg: 2.0</br>thalach: 109.0</br>exang: 0.0</br>oldpeak: 2.4</br>slope: 1.0</br>ca: 3.0</br>thal: 0.0</br>_original_yhat_: 0.9742528447623608</br>"
          ],
          [
           "</br>id: 158</br>prediction: 0.969</br>sex: 0.66</br></br>age: 70.0</br>cp: 3.0</br>trestbps: 130.0</br>chol: 322.0</br>fbs: 0.0</br>restecg: 2.0</br>thalach: 109.0</br>exang: 0.0</br>oldpeak: 2.4</br>slope: 1.0</br>ca: 3.0</br>thal: 0.0</br>_original_yhat_: 0.9742528447623608</br>"
          ],
          [
           "</br>id: 158</br>prediction: 0.969</br>sex: 0.67</br></br>age: 70.0</br>cp: 3.0</br>trestbps: 130.0</br>chol: 322.0</br>fbs: 0.0</br>restecg: 2.0</br>thalach: 109.0</br>exang: 0.0</br>oldpeak: 2.4</br>slope: 1.0</br>ca: 3.0</br>thal: 0.0</br>_original_yhat_: 0.9742528447623608</br>"
          ],
          [
           "</br>id: 158</br>prediction: 0.969</br>sex: 0.68</br></br>age: 70.0</br>cp: 3.0</br>trestbps: 130.0</br>chol: 322.0</br>fbs: 0.0</br>restecg: 2.0</br>thalach: 109.0</br>exang: 0.0</br>oldpeak: 2.4</br>slope: 1.0</br>ca: 3.0</br>thal: 0.0</br>_original_yhat_: 0.9742528447623608</br>"
          ],
          [
           "</br>id: 158</br>prediction: 0.969</br>sex: 0.6900000000000001</br></br>age: 70.0</br>cp: 3.0</br>trestbps: 130.0</br>chol: 322.0</br>fbs: 0.0</br>restecg: 2.0</br>thalach: 109.0</br>exang: 0.0</br>oldpeak: 2.4</br>slope: 1.0</br>ca: 3.0</br>thal: 0.0</br>_original_yhat_: 0.9742528447623608</br>"
          ],
          [
           "</br>id: 158</br>prediction: 0.97</br>sex: 0.7000000000000001</br></br>age: 70.0</br>cp: 3.0</br>trestbps: 130.0</br>chol: 322.0</br>fbs: 0.0</br>restecg: 2.0</br>thalach: 109.0</br>exang: 0.0</br>oldpeak: 2.4</br>slope: 1.0</br>ca: 3.0</br>thal: 0.0</br>_original_yhat_: 0.9742528447623608</br>"
          ],
          [
           "</br>id: 158</br>prediction: 0.97</br>sex: 0.71</br></br>age: 70.0</br>cp: 3.0</br>trestbps: 130.0</br>chol: 322.0</br>fbs: 0.0</br>restecg: 2.0</br>thalach: 109.0</br>exang: 0.0</br>oldpeak: 2.4</br>slope: 1.0</br>ca: 3.0</br>thal: 0.0</br>_original_yhat_: 0.9742528447623608</br>"
          ],
          [
           "</br>id: 158</br>prediction: 0.97</br>sex: 0.72</br></br>age: 70.0</br>cp: 3.0</br>trestbps: 130.0</br>chol: 322.0</br>fbs: 0.0</br>restecg: 2.0</br>thalach: 109.0</br>exang: 0.0</br>oldpeak: 2.4</br>slope: 1.0</br>ca: 3.0</br>thal: 0.0</br>_original_yhat_: 0.9742528447623608</br>"
          ],
          [
           "</br>id: 158</br>prediction: 0.97</br>sex: 0.73</br></br>age: 70.0</br>cp: 3.0</br>trestbps: 130.0</br>chol: 322.0</br>fbs: 0.0</br>restecg: 2.0</br>thalach: 109.0</br>exang: 0.0</br>oldpeak: 2.4</br>slope: 1.0</br>ca: 3.0</br>thal: 0.0</br>_original_yhat_: 0.9742528447623608</br>"
          ],
          [
           "</br>id: 158</br>prediction: 0.97</br>sex: 0.74</br></br>age: 70.0</br>cp: 3.0</br>trestbps: 130.0</br>chol: 322.0</br>fbs: 0.0</br>restecg: 2.0</br>thalach: 109.0</br>exang: 0.0</br>oldpeak: 2.4</br>slope: 1.0</br>ca: 3.0</br>thal: 0.0</br>_original_yhat_: 0.9742528447623608</br>"
          ],
          [
           "</br>id: 158</br>prediction: 0.97</br>sex: 0.75</br></br>age: 70.0</br>cp: 3.0</br>trestbps: 130.0</br>chol: 322.0</br>fbs: 0.0</br>restecg: 2.0</br>thalach: 109.0</br>exang: 0.0</br>oldpeak: 2.4</br>slope: 1.0</br>ca: 3.0</br>thal: 0.0</br>_original_yhat_: 0.9742528447623608</br>"
          ],
          [
           "</br>id: 158</br>prediction: 0.971</br>sex: 0.76</br></br>age: 70.0</br>cp: 3.0</br>trestbps: 130.0</br>chol: 322.0</br>fbs: 0.0</br>restecg: 2.0</br>thalach: 109.0</br>exang: 0.0</br>oldpeak: 2.4</br>slope: 1.0</br>ca: 3.0</br>thal: 0.0</br>_original_yhat_: 0.9742528447623608</br>"
          ],
          [
           "</br>id: 158</br>prediction: 0.971</br>sex: 0.77</br></br>age: 70.0</br>cp: 3.0</br>trestbps: 130.0</br>chol: 322.0</br>fbs: 0.0</br>restecg: 2.0</br>thalach: 109.0</br>exang: 0.0</br>oldpeak: 2.4</br>slope: 1.0</br>ca: 3.0</br>thal: 0.0</br>_original_yhat_: 0.9742528447623608</br>"
          ],
          [
           "</br>id: 158</br>prediction: 0.971</br>sex: 0.78</br></br>age: 70.0</br>cp: 3.0</br>trestbps: 130.0</br>chol: 322.0</br>fbs: 0.0</br>restecg: 2.0</br>thalach: 109.0</br>exang: 0.0</br>oldpeak: 2.4</br>slope: 1.0</br>ca: 3.0</br>thal: 0.0</br>_original_yhat_: 0.9742528447623608</br>"
          ],
          [
           "</br>id: 158</br>prediction: 0.971</br>sex: 0.79</br></br>age: 70.0</br>cp: 3.0</br>trestbps: 130.0</br>chol: 322.0</br>fbs: 0.0</br>restecg: 2.0</br>thalach: 109.0</br>exang: 0.0</br>oldpeak: 2.4</br>slope: 1.0</br>ca: 3.0</br>thal: 0.0</br>_original_yhat_: 0.9742528447623608</br>"
          ],
          [
           "</br>id: 158</br>prediction: 0.971</br>sex: 0.8</br></br>age: 70.0</br>cp: 3.0</br>trestbps: 130.0</br>chol: 322.0</br>fbs: 0.0</br>restecg: 2.0</br>thalach: 109.0</br>exang: 0.0</br>oldpeak: 2.4</br>slope: 1.0</br>ca: 3.0</br>thal: 0.0</br>_original_yhat_: 0.9742528447623608</br>"
          ],
          [
           "</br>id: 158</br>prediction: 0.971</br>sex: 0.81</br></br>age: 70.0</br>cp: 3.0</br>trestbps: 130.0</br>chol: 322.0</br>fbs: 0.0</br>restecg: 2.0</br>thalach: 109.0</br>exang: 0.0</br>oldpeak: 2.4</br>slope: 1.0</br>ca: 3.0</br>thal: 0.0</br>_original_yhat_: 0.9742528447623608</br>"
          ],
          [
           "</br>id: 158</br>prediction: 0.972</br>sex: 0.8200000000000001</br></br>age: 70.0</br>cp: 3.0</br>trestbps: 130.0</br>chol: 322.0</br>fbs: 0.0</br>restecg: 2.0</br>thalach: 109.0</br>exang: 0.0</br>oldpeak: 2.4</br>slope: 1.0</br>ca: 3.0</br>thal: 0.0</br>_original_yhat_: 0.9742528447623608</br>"
          ],
          [
           "</br>id: 158</br>prediction: 0.972</br>sex: 0.8300000000000001</br></br>age: 70.0</br>cp: 3.0</br>trestbps: 130.0</br>chol: 322.0</br>fbs: 0.0</br>restecg: 2.0</br>thalach: 109.0</br>exang: 0.0</br>oldpeak: 2.4</br>slope: 1.0</br>ca: 3.0</br>thal: 0.0</br>_original_yhat_: 0.9742528447623608</br>"
          ],
          [
           "</br>id: 158</br>prediction: 0.972</br>sex: 0.84</br></br>age: 70.0</br>cp: 3.0</br>trestbps: 130.0</br>chol: 322.0</br>fbs: 0.0</br>restecg: 2.0</br>thalach: 109.0</br>exang: 0.0</br>oldpeak: 2.4</br>slope: 1.0</br>ca: 3.0</br>thal: 0.0</br>_original_yhat_: 0.9742528447623608</br>"
          ],
          [
           "</br>id: 158</br>prediction: 0.972</br>sex: 0.85</br></br>age: 70.0</br>cp: 3.0</br>trestbps: 130.0</br>chol: 322.0</br>fbs: 0.0</br>restecg: 2.0</br>thalach: 109.0</br>exang: 0.0</br>oldpeak: 2.4</br>slope: 1.0</br>ca: 3.0</br>thal: 0.0</br>_original_yhat_: 0.9742528447623608</br>"
          ],
          [
           "</br>id: 158</br>prediction: 0.972</br>sex: 0.86</br></br>age: 70.0</br>cp: 3.0</br>trestbps: 130.0</br>chol: 322.0</br>fbs: 0.0</br>restecg: 2.0</br>thalach: 109.0</br>exang: 0.0</br>oldpeak: 2.4</br>slope: 1.0</br>ca: 3.0</br>thal: 0.0</br>_original_yhat_: 0.9742528447623608</br>"
          ],
          [
           "</br>id: 158</br>prediction: 0.972</br>sex: 0.87</br></br>age: 70.0</br>cp: 3.0</br>trestbps: 130.0</br>chol: 322.0</br>fbs: 0.0</br>restecg: 2.0</br>thalach: 109.0</br>exang: 0.0</br>oldpeak: 2.4</br>slope: 1.0</br>ca: 3.0</br>thal: 0.0</br>_original_yhat_: 0.9742528447623608</br>"
          ],
          [
           "</br>id: 158</br>prediction: 0.973</br>sex: 0.88</br></br>age: 70.0</br>cp: 3.0</br>trestbps: 130.0</br>chol: 322.0</br>fbs: 0.0</br>restecg: 2.0</br>thalach: 109.0</br>exang: 0.0</br>oldpeak: 2.4</br>slope: 1.0</br>ca: 3.0</br>thal: 0.0</br>_original_yhat_: 0.9742528447623608</br>"
          ],
          [
           "</br>id: 158</br>prediction: 0.973</br>sex: 0.89</br></br>age: 70.0</br>cp: 3.0</br>trestbps: 130.0</br>chol: 322.0</br>fbs: 0.0</br>restecg: 2.0</br>thalach: 109.0</br>exang: 0.0</br>oldpeak: 2.4</br>slope: 1.0</br>ca: 3.0</br>thal: 0.0</br>_original_yhat_: 0.9742528447623608</br>"
          ],
          [
           "</br>id: 158</br>prediction: 0.973</br>sex: 0.9</br></br>age: 70.0</br>cp: 3.0</br>trestbps: 130.0</br>chol: 322.0</br>fbs: 0.0</br>restecg: 2.0</br>thalach: 109.0</br>exang: 0.0</br>oldpeak: 2.4</br>slope: 1.0</br>ca: 3.0</br>thal: 0.0</br>_original_yhat_: 0.9742528447623608</br>"
          ],
          [
           "</br>id: 158</br>prediction: 0.973</br>sex: 0.91</br></br>age: 70.0</br>cp: 3.0</br>trestbps: 130.0</br>chol: 322.0</br>fbs: 0.0</br>restecg: 2.0</br>thalach: 109.0</br>exang: 0.0</br>oldpeak: 2.4</br>slope: 1.0</br>ca: 3.0</br>thal: 0.0</br>_original_yhat_: 0.9742528447623608</br>"
          ],
          [
           "</br>id: 158</br>prediction: 0.973</br>sex: 0.92</br></br>age: 70.0</br>cp: 3.0</br>trestbps: 130.0</br>chol: 322.0</br>fbs: 0.0</br>restecg: 2.0</br>thalach: 109.0</br>exang: 0.0</br>oldpeak: 2.4</br>slope: 1.0</br>ca: 3.0</br>thal: 0.0</br>_original_yhat_: 0.9742528447623608</br>"
          ],
          [
           "</br>id: 158</br>prediction: 0.973</br>sex: 0.93</br></br>age: 70.0</br>cp: 3.0</br>trestbps: 130.0</br>chol: 322.0</br>fbs: 0.0</br>restecg: 2.0</br>thalach: 109.0</br>exang: 0.0</br>oldpeak: 2.4</br>slope: 1.0</br>ca: 3.0</br>thal: 0.0</br>_original_yhat_: 0.9742528447623608</br>"
          ],
          [
           "</br>id: 158</br>prediction: 0.973</br>sex: 0.9400000000000001</br></br>age: 70.0</br>cp: 3.0</br>trestbps: 130.0</br>chol: 322.0</br>fbs: 0.0</br>restecg: 2.0</br>thalach: 109.0</br>exang: 0.0</br>oldpeak: 2.4</br>slope: 1.0</br>ca: 3.0</br>thal: 0.0</br>_original_yhat_: 0.9742528447623608</br>"
          ],
          [
           "</br>id: 158</br>prediction: 0.974</br>sex: 0.9500000000000001</br></br>age: 70.0</br>cp: 3.0</br>trestbps: 130.0</br>chol: 322.0</br>fbs: 0.0</br>restecg: 2.0</br>thalach: 109.0</br>exang: 0.0</br>oldpeak: 2.4</br>slope: 1.0</br>ca: 3.0</br>thal: 0.0</br>_original_yhat_: 0.9742528447623608</br>"
          ],
          [
           "</br>id: 158</br>prediction: 0.974</br>sex: 0.96</br></br>age: 70.0</br>cp: 3.0</br>trestbps: 130.0</br>chol: 322.0</br>fbs: 0.0</br>restecg: 2.0</br>thalach: 109.0</br>exang: 0.0</br>oldpeak: 2.4</br>slope: 1.0</br>ca: 3.0</br>thal: 0.0</br>_original_yhat_: 0.9742528447623608</br>"
          ],
          [
           "</br>id: 158</br>prediction: 0.974</br>sex: 0.97</br></br>age: 70.0</br>cp: 3.0</br>trestbps: 130.0</br>chol: 322.0</br>fbs: 0.0</br>restecg: 2.0</br>thalach: 109.0</br>exang: 0.0</br>oldpeak: 2.4</br>slope: 1.0</br>ca: 3.0</br>thal: 0.0</br>_original_yhat_: 0.9742528447623608</br>"
          ],
          [
           "</br>id: 158</br>prediction: 0.974</br>sex: 0.98</br></br>age: 70.0</br>cp: 3.0</br>trestbps: 130.0</br>chol: 322.0</br>fbs: 0.0</br>restecg: 2.0</br>thalach: 109.0</br>exang: 0.0</br>oldpeak: 2.4</br>slope: 1.0</br>ca: 3.0</br>thal: 0.0</br>_original_yhat_: 0.9742528447623608</br>"
          ],
          [
           "</br>id: 158</br>prediction: 0.974</br>sex: 0.99</br></br>age: 70.0</br>cp: 3.0</br>trestbps: 130.0</br>chol: 322.0</br>fbs: 0.0</br>restecg: 2.0</br>thalach: 109.0</br>exang: 0.0</br>oldpeak: 2.4</br>slope: 1.0</br>ca: 3.0</br>thal: 0.0</br>_original_yhat_: 0.9742528447623608</br>"
          ],
          [
           "</br>id: 158</br>prediction: 0.974</br>sex: 1.0</br></br>age: 70.0</br>cp: 3.0</br>trestbps: 130.0</br>chol: 322.0</br>fbs: 0.0</br>restecg: 2.0</br>thalach: 109.0</br>exang: 0.0</br>oldpeak: 2.4</br>slope: 1.0</br>ca: 3.0</br>thal: 0.0</br>_original_yhat_: 0.9742528447623608</br>"
          ]
         ],
         "hovertemplate": "%{customdata[0]}<extra></extra>",
         "legendgroup": "RandomizedSearchCV",
         "line": {
          "color": "#46bac2",
          "dash": "solid",
          "width": 2
         },
         "marker": {
          "symbol": "circle"
         },
         "mode": "lines",
         "name": "RandomizedSearchCV",
         "opacity": 1,
         "showlegend": false,
         "type": "scattergl",
         "x": [
          0,
          0.01,
          0.02,
          0.03,
          0.04,
          0.05,
          0.06,
          0.07,
          0.08,
          0.09,
          0.1,
          0.11,
          0.12,
          0.13,
          0.14,
          0.15,
          0.16,
          0.17,
          0.18,
          0.19,
          0.2,
          0.21,
          0.22,
          0.23,
          0.24,
          0.25,
          0.26,
          0.27,
          0.28,
          0.29,
          0.3,
          0.31,
          0.32,
          0.33,
          0.34,
          0.35000000000000003,
          0.36,
          0.37,
          0.38,
          0.39,
          0.4,
          0.41000000000000003,
          0.42,
          0.43,
          0.44,
          0.45,
          0.46,
          0.47000000000000003,
          0.48,
          0.49,
          0.5,
          0.51,
          0.52,
          0.53,
          0.54,
          0.55,
          0.56,
          0.5700000000000001,
          0.58,
          0.59,
          0.6,
          0.61,
          0.62,
          0.63,
          0.64,
          0.65,
          0.66,
          0.67,
          0.68,
          0.6900000000000001,
          0.7000000000000001,
          0.71,
          0.72,
          0.73,
          0.74,
          0.75,
          0.76,
          0.77,
          0.78,
          0.79,
          0.8,
          0.81,
          0.8200000000000001,
          0.8300000000000001,
          0.84,
          0.85,
          0.86,
          0.87,
          0.88,
          0.89,
          0.9,
          0.91,
          0.92,
          0.93,
          0.9400000000000001,
          0.9500000000000001,
          0.96,
          0.97,
          0.98,
          0.99,
          1
         ],
         "xaxis": "x14",
         "y": [
          0.9556578939324009,
          0.9558958090734405,
          0.9561325062898572,
          0.9563679911889087,
          0.9566022693587752,
          0.9568353463685482,
          0.9570672277682215,
          0.9572979190886828,
          0.9575274258417058,
          0.9577557535199436,
          0.9579829075969232,
          0.9582088935270423,
          0.9584337167455638,
          0.9586573826686148,
          0.9588798966931845,
          0.9591012641971237,
          0.9593214905391452,
          0.9595405810588244,
          0.9597585410766033,
          0.9599753758937914,
          0.9601910907925713,
          0.9604056910360026,
          0.9606191818680285,
          0.9608315685134813,
          0.9610428561780909,
          0.961253050048493,
          0.9614621552922371,
          0.9616701770577977,
          0.9618771204745847,
          0.9620829906529543,
          0.9622877926842223,
          0.9624915316406761,
          0.9626942125755895,
          0.962895840523237,
          0.9630964204989086,
          0.9632959574989265,
          0.9634944565006617,
          0.9636919224625514,
          0.9638883603241171,
          0.9640837750059839,
          0.9642781714098994,
          0.9644715544187547,
          0.9646639288966045,
          0.9648552996886893,
          0.9650456716214573,
          0.9652350495025872,
          0.9654234381210112,
          0.9656108422469404,
          0.9657972666318876,
          0.9659827160086941,
          0.9661671950915547,
          0.9663507085760445,
          0.9665332611391456,
          0.9667148574392748,
          0.966895502116311,
          0.9670751997916259,
          0.9672539550681103,
          0.9674317725302058,
          0.9676086567439345,
          0.9677846122569294,
          0.9679596435984656,
          0.9681337552794927,
          0.9683069517926663,
          0.9684792376123808,
          0.9686506171948024,
          0.9688210949779033,
          0.9689906753814949,
          0.9691593628072626,
          0.9693271616388012,
          0.9694940762416496,
          0.9696601109633266,
          0.9698252701333676,
          0.9699895580633607,
          0.9701529790469837,
          0.9703155373600416,
          0.9704772372605047,
          0.970638082988546,
          0.9707980787665804,
          0.9709572287993026,
          0.971115537273728,
          0.9712730083592305,
          0.9714296462075834,
          0.9715854549529994,
          0.9717404387121711,
          0.9718946015843123,
          0.9720479476511987,
          0.9722004809772096,
          0.97235220560937,
          0.9725031255773922,
          0.9726532448937191,
          0.9728025675535655,
          0.9729510975349629,
          0.9730988387988012,
          0.9732457952888728,
          0.9733919709319168,
          0.9735373696376622,
          0.973681995298873,
          0.9738258517913924,
          0.973968942974187,
          0.9741112726893932,
          0.9742528447623608
         ],
         "yaxis": "y14"
        },
        {
         "customdata": [
          [
           "</br>id: 158</br>prediction: 0.943</br>cp: 0.0</br></br>age: 70.0</br>sex: 1.0</br>trestbps: 130.0</br>chol: 322.0</br>fbs: 0.0</br>restecg: 2.0</br>thalach: 109.0</br>exang: 0.0</br>oldpeak: 2.4</br>slope: 1.0</br>ca: 3.0</br>thal: 0.0</br>_original_yhat_: 0.9742528447623608</br>"
          ],
          [
           "</br>id: 158</br>prediction: 0.943</br>cp: 0.03</br></br>age: 70.0</br>sex: 1.0</br>trestbps: 130.0</br>chol: 322.0</br>fbs: 0.0</br>restecg: 2.0</br>thalach: 109.0</br>exang: 0.0</br>oldpeak: 2.4</br>slope: 1.0</br>ca: 3.0</br>thal: 0.0</br>_original_yhat_: 0.9742528447623608</br>"
          ],
          [
           "</br>id: 158</br>prediction: 0.943</br>cp: 0.06</br></br>age: 70.0</br>sex: 1.0</br>trestbps: 130.0</br>chol: 322.0</br>fbs: 0.0</br>restecg: 2.0</br>thalach: 109.0</br>exang: 0.0</br>oldpeak: 2.4</br>slope: 1.0</br>ca: 3.0</br>thal: 0.0</br>_original_yhat_: 0.9742528447623608</br>"
          ],
          [
           "</br>id: 158</br>prediction: 0.944</br>cp: 0.09</br></br>age: 70.0</br>sex: 1.0</br>trestbps: 130.0</br>chol: 322.0</br>fbs: 0.0</br>restecg: 2.0</br>thalach: 109.0</br>exang: 0.0</br>oldpeak: 2.4</br>slope: 1.0</br>ca: 3.0</br>thal: 0.0</br>_original_yhat_: 0.9742528447623608</br>"
          ],
          [
           "</br>id: 158</br>prediction: 0.944</br>cp: 0.12</br></br>age: 70.0</br>sex: 1.0</br>trestbps: 130.0</br>chol: 322.0</br>fbs: 0.0</br>restecg: 2.0</br>thalach: 109.0</br>exang: 0.0</br>oldpeak: 2.4</br>slope: 1.0</br>ca: 3.0</br>thal: 0.0</br>_original_yhat_: 0.9742528447623608</br>"
          ],
          [
           "</br>id: 158</br>prediction: 0.945</br>cp: 0.15</br></br>age: 70.0</br>sex: 1.0</br>trestbps: 130.0</br>chol: 322.0</br>fbs: 0.0</br>restecg: 2.0</br>thalach: 109.0</br>exang: 0.0</br>oldpeak: 2.4</br>slope: 1.0</br>ca: 3.0</br>thal: 0.0</br>_original_yhat_: 0.9742528447623608</br>"
          ],
          [
           "</br>id: 158</br>prediction: 0.945</br>cp: 0.18</br></br>age: 70.0</br>sex: 1.0</br>trestbps: 130.0</br>chol: 322.0</br>fbs: 0.0</br>restecg: 2.0</br>thalach: 109.0</br>exang: 0.0</br>oldpeak: 2.4</br>slope: 1.0</br>ca: 3.0</br>thal: 0.0</br>_original_yhat_: 0.9742528447623608</br>"
          ],
          [
           "</br>id: 158</br>prediction: 0.946</br>cp: 0.21</br></br>age: 70.0</br>sex: 1.0</br>trestbps: 130.0</br>chol: 322.0</br>fbs: 0.0</br>restecg: 2.0</br>thalach: 109.0</br>exang: 0.0</br>oldpeak: 2.4</br>slope: 1.0</br>ca: 3.0</br>thal: 0.0</br>_original_yhat_: 0.9742528447623608</br>"
          ],
          [
           "</br>id: 158</br>prediction: 0.946</br>cp: 0.24</br></br>age: 70.0</br>sex: 1.0</br>trestbps: 130.0</br>chol: 322.0</br>fbs: 0.0</br>restecg: 2.0</br>thalach: 109.0</br>exang: 0.0</br>oldpeak: 2.4</br>slope: 1.0</br>ca: 3.0</br>thal: 0.0</br>_original_yhat_: 0.9742528447623608</br>"
          ],
          [
           "</br>id: 158</br>prediction: 0.946</br>cp: 0.27</br></br>age: 70.0</br>sex: 1.0</br>trestbps: 130.0</br>chol: 322.0</br>fbs: 0.0</br>restecg: 2.0</br>thalach: 109.0</br>exang: 0.0</br>oldpeak: 2.4</br>slope: 1.0</br>ca: 3.0</br>thal: 0.0</br>_original_yhat_: 0.9742528447623608</br>"
          ],
          [
           "</br>id: 158</br>prediction: 0.947</br>cp: 0.3</br></br>age: 70.0</br>sex: 1.0</br>trestbps: 130.0</br>chol: 322.0</br>fbs: 0.0</br>restecg: 2.0</br>thalach: 109.0</br>exang: 0.0</br>oldpeak: 2.4</br>slope: 1.0</br>ca: 3.0</br>thal: 0.0</br>_original_yhat_: 0.9742528447623608</br>"
          ],
          [
           "</br>id: 158</br>prediction: 0.947</br>cp: 0.32999999999999996</br></br>age: 70.0</br>sex: 1.0</br>trestbps: 130.0</br>chol: 322.0</br>fbs: 0.0</br>restecg: 2.0</br>thalach: 109.0</br>exang: 0.0</br>oldpeak: 2.4</br>slope: 1.0</br>ca: 3.0</br>thal: 0.0</br>_original_yhat_: 0.9742528447623608</br>"
          ],
          [
           "</br>id: 158</br>prediction: 0.948</br>cp: 0.36</br></br>age: 70.0</br>sex: 1.0</br>trestbps: 130.0</br>chol: 322.0</br>fbs: 0.0</br>restecg: 2.0</br>thalach: 109.0</br>exang: 0.0</br>oldpeak: 2.4</br>slope: 1.0</br>ca: 3.0</br>thal: 0.0</br>_original_yhat_: 0.9742528447623608</br>"
          ],
          [
           "</br>id: 158</br>prediction: 0.948</br>cp: 0.39</br></br>age: 70.0</br>sex: 1.0</br>trestbps: 130.0</br>chol: 322.0</br>fbs: 0.0</br>restecg: 2.0</br>thalach: 109.0</br>exang: 0.0</br>oldpeak: 2.4</br>slope: 1.0</br>ca: 3.0</br>thal: 0.0</br>_original_yhat_: 0.9742528447623608</br>"
          ],
          [
           "</br>id: 158</br>prediction: 0.949</br>cp: 0.42</br></br>age: 70.0</br>sex: 1.0</br>trestbps: 130.0</br>chol: 322.0</br>fbs: 0.0</br>restecg: 2.0</br>thalach: 109.0</br>exang: 0.0</br>oldpeak: 2.4</br>slope: 1.0</br>ca: 3.0</br>thal: 0.0</br>_original_yhat_: 0.9742528447623608</br>"
          ],
          [
           "</br>id: 158</br>prediction: 0.949</br>cp: 0.44999999999999996</br></br>age: 70.0</br>sex: 1.0</br>trestbps: 130.0</br>chol: 322.0</br>fbs: 0.0</br>restecg: 2.0</br>thalach: 109.0</br>exang: 0.0</br>oldpeak: 2.4</br>slope: 1.0</br>ca: 3.0</br>thal: 0.0</br>_original_yhat_: 0.9742528447623608</br>"
          ],
          [
           "</br>id: 158</br>prediction: 0.949</br>cp: 0.48</br></br>age: 70.0</br>sex: 1.0</br>trestbps: 130.0</br>chol: 322.0</br>fbs: 0.0</br>restecg: 2.0</br>thalach: 109.0</br>exang: 0.0</br>oldpeak: 2.4</br>slope: 1.0</br>ca: 3.0</br>thal: 0.0</br>_original_yhat_: 0.9742528447623608</br>"
          ],
          [
           "</br>id: 158</br>prediction: 0.95</br>cp: 0.51</br></br>age: 70.0</br>sex: 1.0</br>trestbps: 130.0</br>chol: 322.0</br>fbs: 0.0</br>restecg: 2.0</br>thalach: 109.0</br>exang: 0.0</br>oldpeak: 2.4</br>slope: 1.0</br>ca: 3.0</br>thal: 0.0</br>_original_yhat_: 0.9742528447623608</br>"
          ],
          [
           "</br>id: 158</br>prediction: 0.95</br>cp: 0.54</br></br>age: 70.0</br>sex: 1.0</br>trestbps: 130.0</br>chol: 322.0</br>fbs: 0.0</br>restecg: 2.0</br>thalach: 109.0</br>exang: 0.0</br>oldpeak: 2.4</br>slope: 1.0</br>ca: 3.0</br>thal: 0.0</br>_original_yhat_: 0.9742528447623608</br>"
          ],
          [
           "</br>id: 158</br>prediction: 0.951</br>cp: 0.57</br></br>age: 70.0</br>sex: 1.0</br>trestbps: 130.0</br>chol: 322.0</br>fbs: 0.0</br>restecg: 2.0</br>thalach: 109.0</br>exang: 0.0</br>oldpeak: 2.4</br>slope: 1.0</br>ca: 3.0</br>thal: 0.0</br>_original_yhat_: 0.9742528447623608</br>"
          ],
          [
           "</br>id: 158</br>prediction: 0.951</br>cp: 0.6</br></br>age: 70.0</br>sex: 1.0</br>trestbps: 130.0</br>chol: 322.0</br>fbs: 0.0</br>restecg: 2.0</br>thalach: 109.0</br>exang: 0.0</br>oldpeak: 2.4</br>slope: 1.0</br>ca: 3.0</br>thal: 0.0</br>_original_yhat_: 0.9742528447623608</br>"
          ],
          [
           "</br>id: 158</br>prediction: 0.951</br>cp: 0.63</br></br>age: 70.0</br>sex: 1.0</br>trestbps: 130.0</br>chol: 322.0</br>fbs: 0.0</br>restecg: 2.0</br>thalach: 109.0</br>exang: 0.0</br>oldpeak: 2.4</br>slope: 1.0</br>ca: 3.0</br>thal: 0.0</br>_original_yhat_: 0.9742528447623608</br>"
          ],
          [
           "</br>id: 158</br>prediction: 0.952</br>cp: 0.6599999999999999</br></br>age: 70.0</br>sex: 1.0</br>trestbps: 130.0</br>chol: 322.0</br>fbs: 0.0</br>restecg: 2.0</br>thalach: 109.0</br>exang: 0.0</br>oldpeak: 2.4</br>slope: 1.0</br>ca: 3.0</br>thal: 0.0</br>_original_yhat_: 0.9742528447623608</br>"
          ],
          [
           "</br>id: 158</br>prediction: 0.952</br>cp: 0.69</br></br>age: 70.0</br>sex: 1.0</br>trestbps: 130.0</br>chol: 322.0</br>fbs: 0.0</br>restecg: 2.0</br>thalach: 109.0</br>exang: 0.0</br>oldpeak: 2.4</br>slope: 1.0</br>ca: 3.0</br>thal: 0.0</br>_original_yhat_: 0.9742528447623608</br>"
          ],
          [
           "</br>id: 158</br>prediction: 0.952</br>cp: 0.72</br></br>age: 70.0</br>sex: 1.0</br>trestbps: 130.0</br>chol: 322.0</br>fbs: 0.0</br>restecg: 2.0</br>thalach: 109.0</br>exang: 0.0</br>oldpeak: 2.4</br>slope: 1.0</br>ca: 3.0</br>thal: 0.0</br>_original_yhat_: 0.9742528447623608</br>"
          ],
          [
           "</br>id: 158</br>prediction: 0.953</br>cp: 0.75</br></br>age: 70.0</br>sex: 1.0</br>trestbps: 130.0</br>chol: 322.0</br>fbs: 0.0</br>restecg: 2.0</br>thalach: 109.0</br>exang: 0.0</br>oldpeak: 2.4</br>slope: 1.0</br>ca: 3.0</br>thal: 0.0</br>_original_yhat_: 0.9742528447623608</br>"
          ],
          [
           "</br>id: 158</br>prediction: 0.953</br>cp: 0.78</br></br>age: 70.0</br>sex: 1.0</br>trestbps: 130.0</br>chol: 322.0</br>fbs: 0.0</br>restecg: 2.0</br>thalach: 109.0</br>exang: 0.0</br>oldpeak: 2.4</br>slope: 1.0</br>ca: 3.0</br>thal: 0.0</br>_original_yhat_: 0.9742528447623608</br>"
          ],
          [
           "</br>id: 158</br>prediction: 0.954</br>cp: 0.8099999999999999</br></br>age: 70.0</br>sex: 1.0</br>trestbps: 130.0</br>chol: 322.0</br>fbs: 0.0</br>restecg: 2.0</br>thalach: 109.0</br>exang: 0.0</br>oldpeak: 2.4</br>slope: 1.0</br>ca: 3.0</br>thal: 0.0</br>_original_yhat_: 0.9742528447623608</br>"
          ],
          [
           "</br>id: 158</br>prediction: 0.954</br>cp: 0.84</br></br>age: 70.0</br>sex: 1.0</br>trestbps: 130.0</br>chol: 322.0</br>fbs: 0.0</br>restecg: 2.0</br>thalach: 109.0</br>exang: 0.0</br>oldpeak: 2.4</br>slope: 1.0</br>ca: 3.0</br>thal: 0.0</br>_original_yhat_: 0.9742528447623608</br>"
          ],
          [
           "</br>id: 158</br>prediction: 0.954</br>cp: 0.87</br></br>age: 70.0</br>sex: 1.0</br>trestbps: 130.0</br>chol: 322.0</br>fbs: 0.0</br>restecg: 2.0</br>thalach: 109.0</br>exang: 0.0</br>oldpeak: 2.4</br>slope: 1.0</br>ca: 3.0</br>thal: 0.0</br>_original_yhat_: 0.9742528447623608</br>"
          ],
          [
           "</br>id: 158</br>prediction: 0.955</br>cp: 0.8999999999999999</br></br>age: 70.0</br>sex: 1.0</br>trestbps: 130.0</br>chol: 322.0</br>fbs: 0.0</br>restecg: 2.0</br>thalach: 109.0</br>exang: 0.0</br>oldpeak: 2.4</br>slope: 1.0</br>ca: 3.0</br>thal: 0.0</br>_original_yhat_: 0.9742528447623608</br>"
          ],
          [
           "</br>id: 158</br>prediction: 0.955</br>cp: 0.9299999999999999</br></br>age: 70.0</br>sex: 1.0</br>trestbps: 130.0</br>chol: 322.0</br>fbs: 0.0</br>restecg: 2.0</br>thalach: 109.0</br>exang: 0.0</br>oldpeak: 2.4</br>slope: 1.0</br>ca: 3.0</br>thal: 0.0</br>_original_yhat_: 0.9742528447623608</br>"
          ],
          [
           "</br>id: 158</br>prediction: 0.955</br>cp: 0.96</br></br>age: 70.0</br>sex: 1.0</br>trestbps: 130.0</br>chol: 322.0</br>fbs: 0.0</br>restecg: 2.0</br>thalach: 109.0</br>exang: 0.0</br>oldpeak: 2.4</br>slope: 1.0</br>ca: 3.0</br>thal: 0.0</br>_original_yhat_: 0.9742528447623608</br>"
          ],
          [
           "</br>id: 158</br>prediction: 0.956</br>cp: 0.99</br></br>age: 70.0</br>sex: 1.0</br>trestbps: 130.0</br>chol: 322.0</br>fbs: 0.0</br>restecg: 2.0</br>thalach: 109.0</br>exang: 0.0</br>oldpeak: 2.4</br>slope: 1.0</br>ca: 3.0</br>thal: 0.0</br>_original_yhat_: 0.9742528447623608</br>"
          ],
          [
           "</br>id: 158</br>prediction: 0.956</br>cp: 1.02</br></br>age: 70.0</br>sex: 1.0</br>trestbps: 130.0</br>chol: 322.0</br>fbs: 0.0</br>restecg: 2.0</br>thalach: 109.0</br>exang: 0.0</br>oldpeak: 2.4</br>slope: 1.0</br>ca: 3.0</br>thal: 0.0</br>_original_yhat_: 0.9742528447623608</br>"
          ],
          [
           "</br>id: 158</br>prediction: 0.956</br>cp: 1.05</br></br>age: 70.0</br>sex: 1.0</br>trestbps: 130.0</br>chol: 322.0</br>fbs: 0.0</br>restecg: 2.0</br>thalach: 109.0</br>exang: 0.0</br>oldpeak: 2.4</br>slope: 1.0</br>ca: 3.0</br>thal: 0.0</br>_original_yhat_: 0.9742528447623608</br>"
          ],
          [
           "</br>id: 158</br>prediction: 0.957</br>cp: 1.08</br></br>age: 70.0</br>sex: 1.0</br>trestbps: 130.0</br>chol: 322.0</br>fbs: 0.0</br>restecg: 2.0</br>thalach: 109.0</br>exang: 0.0</br>oldpeak: 2.4</br>slope: 1.0</br>ca: 3.0</br>thal: 0.0</br>_original_yhat_: 0.9742528447623608</br>"
          ],
          [
           "</br>id: 158</br>prediction: 0.957</br>cp: 1.1099999999999999</br></br>age: 70.0</br>sex: 1.0</br>trestbps: 130.0</br>chol: 322.0</br>fbs: 0.0</br>restecg: 2.0</br>thalach: 109.0</br>exang: 0.0</br>oldpeak: 2.4</br>slope: 1.0</br>ca: 3.0</br>thal: 0.0</br>_original_yhat_: 0.9742528447623608</br>"
          ],
          [
           "</br>id: 158</br>prediction: 0.958</br>cp: 1.14</br></br>age: 70.0</br>sex: 1.0</br>trestbps: 130.0</br>chol: 322.0</br>fbs: 0.0</br>restecg: 2.0</br>thalach: 109.0</br>exang: 0.0</br>oldpeak: 2.4</br>slope: 1.0</br>ca: 3.0</br>thal: 0.0</br>_original_yhat_: 0.9742528447623608</br>"
          ],
          [
           "</br>id: 158</br>prediction: 0.958</br>cp: 1.17</br></br>age: 70.0</br>sex: 1.0</br>trestbps: 130.0</br>chol: 322.0</br>fbs: 0.0</br>restecg: 2.0</br>thalach: 109.0</br>exang: 0.0</br>oldpeak: 2.4</br>slope: 1.0</br>ca: 3.0</br>thal: 0.0</br>_original_yhat_: 0.9742528447623608</br>"
          ],
          [
           "</br>id: 158</br>prediction: 0.958</br>cp: 1.2</br></br>age: 70.0</br>sex: 1.0</br>trestbps: 130.0</br>chol: 322.0</br>fbs: 0.0</br>restecg: 2.0</br>thalach: 109.0</br>exang: 0.0</br>oldpeak: 2.4</br>slope: 1.0</br>ca: 3.0</br>thal: 0.0</br>_original_yhat_: 0.9742528447623608</br>"
          ],
          [
           "</br>id: 158</br>prediction: 0.959</br>cp: 1.23</br></br>age: 70.0</br>sex: 1.0</br>trestbps: 130.0</br>chol: 322.0</br>fbs: 0.0</br>restecg: 2.0</br>thalach: 109.0</br>exang: 0.0</br>oldpeak: 2.4</br>slope: 1.0</br>ca: 3.0</br>thal: 0.0</br>_original_yhat_: 0.9742528447623608</br>"
          ],
          [
           "</br>id: 158</br>prediction: 0.959</br>cp: 1.26</br></br>age: 70.0</br>sex: 1.0</br>trestbps: 130.0</br>chol: 322.0</br>fbs: 0.0</br>restecg: 2.0</br>thalach: 109.0</br>exang: 0.0</br>oldpeak: 2.4</br>slope: 1.0</br>ca: 3.0</br>thal: 0.0</br>_original_yhat_: 0.9742528447623608</br>"
          ],
          [
           "</br>id: 158</br>prediction: 0.959</br>cp: 1.29</br></br>age: 70.0</br>sex: 1.0</br>trestbps: 130.0</br>chol: 322.0</br>fbs: 0.0</br>restecg: 2.0</br>thalach: 109.0</br>exang: 0.0</br>oldpeak: 2.4</br>slope: 1.0</br>ca: 3.0</br>thal: 0.0</br>_original_yhat_: 0.9742528447623608</br>"
          ],
          [
           "</br>id: 158</br>prediction: 0.959</br>cp: 1.3199999999999998</br></br>age: 70.0</br>sex: 1.0</br>trestbps: 130.0</br>chol: 322.0</br>fbs: 0.0</br>restecg: 2.0</br>thalach: 109.0</br>exang: 0.0</br>oldpeak: 2.4</br>slope: 1.0</br>ca: 3.0</br>thal: 0.0</br>_original_yhat_: 0.9742528447623608</br>"
          ],
          [
           "</br>id: 158</br>prediction: 0.96</br>cp: 1.3499999999999999</br></br>age: 70.0</br>sex: 1.0</br>trestbps: 130.0</br>chol: 322.0</br>fbs: 0.0</br>restecg: 2.0</br>thalach: 109.0</br>exang: 0.0</br>oldpeak: 2.4</br>slope: 1.0</br>ca: 3.0</br>thal: 0.0</br>_original_yhat_: 0.9742528447623608</br>"
          ],
          [
           "</br>id: 158</br>prediction: 0.96</br>cp: 1.38</br></br>age: 70.0</br>sex: 1.0</br>trestbps: 130.0</br>chol: 322.0</br>fbs: 0.0</br>restecg: 2.0</br>thalach: 109.0</br>exang: 0.0</br>oldpeak: 2.4</br>slope: 1.0</br>ca: 3.0</br>thal: 0.0</br>_original_yhat_: 0.9742528447623608</br>"
          ],
          [
           "</br>id: 158</br>prediction: 0.96</br>cp: 1.41</br></br>age: 70.0</br>sex: 1.0</br>trestbps: 130.0</br>chol: 322.0</br>fbs: 0.0</br>restecg: 2.0</br>thalach: 109.0</br>exang: 0.0</br>oldpeak: 2.4</br>slope: 1.0</br>ca: 3.0</br>thal: 0.0</br>_original_yhat_: 0.9742528447623608</br>"
          ],
          [
           "</br>id: 158</br>prediction: 0.961</br>cp: 1.44</br></br>age: 70.0</br>sex: 1.0</br>trestbps: 130.0</br>chol: 322.0</br>fbs: 0.0</br>restecg: 2.0</br>thalach: 109.0</br>exang: 0.0</br>oldpeak: 2.4</br>slope: 1.0</br>ca: 3.0</br>thal: 0.0</br>_original_yhat_: 0.9742528447623608</br>"
          ],
          [
           "</br>id: 158</br>prediction: 0.961</br>cp: 1.47</br></br>age: 70.0</br>sex: 1.0</br>trestbps: 130.0</br>chol: 322.0</br>fbs: 0.0</br>restecg: 2.0</br>thalach: 109.0</br>exang: 0.0</br>oldpeak: 2.4</br>slope: 1.0</br>ca: 3.0</br>thal: 0.0</br>_original_yhat_: 0.9742528447623608</br>"
          ],
          [
           "</br>id: 158</br>prediction: 0.961</br>cp: 1.5</br></br>age: 70.0</br>sex: 1.0</br>trestbps: 130.0</br>chol: 322.0</br>fbs: 0.0</br>restecg: 2.0</br>thalach: 109.0</br>exang: 0.0</br>oldpeak: 2.4</br>slope: 1.0</br>ca: 3.0</br>thal: 0.0</br>_original_yhat_: 0.9742528447623608</br>"
          ],
          [
           "</br>id: 158</br>prediction: 0.962</br>cp: 1.53</br></br>age: 70.0</br>sex: 1.0</br>trestbps: 130.0</br>chol: 322.0</br>fbs: 0.0</br>restecg: 2.0</br>thalach: 109.0</br>exang: 0.0</br>oldpeak: 2.4</br>slope: 1.0</br>ca: 3.0</br>thal: 0.0</br>_original_yhat_: 0.9742528447623608</br>"
          ],
          [
           "</br>id: 158</br>prediction: 0.962</br>cp: 1.56</br></br>age: 70.0</br>sex: 1.0</br>trestbps: 130.0</br>chol: 322.0</br>fbs: 0.0</br>restecg: 2.0</br>thalach: 109.0</br>exang: 0.0</br>oldpeak: 2.4</br>slope: 1.0</br>ca: 3.0</br>thal: 0.0</br>_original_yhat_: 0.9742528447623608</br>"
          ],
          [
           "</br>id: 158</br>prediction: 0.962</br>cp: 1.5899999999999999</br></br>age: 70.0</br>sex: 1.0</br>trestbps: 130.0</br>chol: 322.0</br>fbs: 0.0</br>restecg: 2.0</br>thalach: 109.0</br>exang: 0.0</br>oldpeak: 2.4</br>slope: 1.0</br>ca: 3.0</br>thal: 0.0</br>_original_yhat_: 0.9742528447623608</br>"
          ],
          [
           "</br>id: 158</br>prediction: 0.963</br>cp: 1.6199999999999999</br></br>age: 70.0</br>sex: 1.0</br>trestbps: 130.0</br>chol: 322.0</br>fbs: 0.0</br>restecg: 2.0</br>thalach: 109.0</br>exang: 0.0</br>oldpeak: 2.4</br>slope: 1.0</br>ca: 3.0</br>thal: 0.0</br>_original_yhat_: 0.9742528447623608</br>"
          ],
          [
           "</br>id: 158</br>prediction: 0.963</br>cp: 1.65</br></br>age: 70.0</br>sex: 1.0</br>trestbps: 130.0</br>chol: 322.0</br>fbs: 0.0</br>restecg: 2.0</br>thalach: 109.0</br>exang: 0.0</br>oldpeak: 2.4</br>slope: 1.0</br>ca: 3.0</br>thal: 0.0</br>_original_yhat_: 0.9742528447623608</br>"
          ],
          [
           "</br>id: 158</br>prediction: 0.963</br>cp: 1.68</br></br>age: 70.0</br>sex: 1.0</br>trestbps: 130.0</br>chol: 322.0</br>fbs: 0.0</br>restecg: 2.0</br>thalach: 109.0</br>exang: 0.0</br>oldpeak: 2.4</br>slope: 1.0</br>ca: 3.0</br>thal: 0.0</br>_original_yhat_: 0.9742528447623608</br>"
          ],
          [
           "</br>id: 158</br>prediction: 0.964</br>cp: 1.71</br></br>age: 70.0</br>sex: 1.0</br>trestbps: 130.0</br>chol: 322.0</br>fbs: 0.0</br>restecg: 2.0</br>thalach: 109.0</br>exang: 0.0</br>oldpeak: 2.4</br>slope: 1.0</br>ca: 3.0</br>thal: 0.0</br>_original_yhat_: 0.9742528447623608</br>"
          ],
          [
           "</br>id: 158</br>prediction: 0.964</br>cp: 1.74</br></br>age: 70.0</br>sex: 1.0</br>trestbps: 130.0</br>chol: 322.0</br>fbs: 0.0</br>restecg: 2.0</br>thalach: 109.0</br>exang: 0.0</br>oldpeak: 2.4</br>slope: 1.0</br>ca: 3.0</br>thal: 0.0</br>_original_yhat_: 0.9742528447623608</br>"
          ],
          [
           "</br>id: 158</br>prediction: 0.964</br>cp: 1.77</br></br>age: 70.0</br>sex: 1.0</br>trestbps: 130.0</br>chol: 322.0</br>fbs: 0.0</br>restecg: 2.0</br>thalach: 109.0</br>exang: 0.0</br>oldpeak: 2.4</br>slope: 1.0</br>ca: 3.0</br>thal: 0.0</br>_original_yhat_: 0.9742528447623608</br>"
          ],
          [
           "</br>id: 158</br>prediction: 0.964</br>cp: 1.7999999999999998</br></br>age: 70.0</br>sex: 1.0</br>trestbps: 130.0</br>chol: 322.0</br>fbs: 0.0</br>restecg: 2.0</br>thalach: 109.0</br>exang: 0.0</br>oldpeak: 2.4</br>slope: 1.0</br>ca: 3.0</br>thal: 0.0</br>_original_yhat_: 0.9742528447623608</br>"
          ],
          [
           "</br>id: 158</br>prediction: 0.965</br>cp: 1.8299999999999998</br></br>age: 70.0</br>sex: 1.0</br>trestbps: 130.0</br>chol: 322.0</br>fbs: 0.0</br>restecg: 2.0</br>thalach: 109.0</br>exang: 0.0</br>oldpeak: 2.4</br>slope: 1.0</br>ca: 3.0</br>thal: 0.0</br>_original_yhat_: 0.9742528447623608</br>"
          ],
          [
           "</br>id: 158</br>prediction: 0.965</br>cp: 1.8599999999999999</br></br>age: 70.0</br>sex: 1.0</br>trestbps: 130.0</br>chol: 322.0</br>fbs: 0.0</br>restecg: 2.0</br>thalach: 109.0</br>exang: 0.0</br>oldpeak: 2.4</br>slope: 1.0</br>ca: 3.0</br>thal: 0.0</br>_original_yhat_: 0.9742528447623608</br>"
          ],
          [
           "</br>id: 158</br>prediction: 0.965</br>cp: 1.89</br></br>age: 70.0</br>sex: 1.0</br>trestbps: 130.0</br>chol: 322.0</br>fbs: 0.0</br>restecg: 2.0</br>thalach: 109.0</br>exang: 0.0</br>oldpeak: 2.4</br>slope: 1.0</br>ca: 3.0</br>thal: 0.0</br>_original_yhat_: 0.9742528447623608</br>"
          ],
          [
           "</br>id: 158</br>prediction: 0.966</br>cp: 1.92</br></br>age: 70.0</br>sex: 1.0</br>trestbps: 130.0</br>chol: 322.0</br>fbs: 0.0</br>restecg: 2.0</br>thalach: 109.0</br>exang: 0.0</br>oldpeak: 2.4</br>slope: 1.0</br>ca: 3.0</br>thal: 0.0</br>_original_yhat_: 0.9742528447623608</br>"
          ],
          [
           "</br>id: 158</br>prediction: 0.966</br>cp: 1.95</br></br>age: 70.0</br>sex: 1.0</br>trestbps: 130.0</br>chol: 322.0</br>fbs: 0.0</br>restecg: 2.0</br>thalach: 109.0</br>exang: 0.0</br>oldpeak: 2.4</br>slope: 1.0</br>ca: 3.0</br>thal: 0.0</br>_original_yhat_: 0.9742528447623608</br>"
          ],
          [
           "</br>id: 158</br>prediction: 0.966</br>cp: 1.98</br></br>age: 70.0</br>sex: 1.0</br>trestbps: 130.0</br>chol: 322.0</br>fbs: 0.0</br>restecg: 2.0</br>thalach: 109.0</br>exang: 0.0</br>oldpeak: 2.4</br>slope: 1.0</br>ca: 3.0</br>thal: 0.0</br>_original_yhat_: 0.9742528447623608</br>"
          ],
          [
           "</br>id: 158</br>prediction: 0.966</br>cp: 2.01</br></br>age: 70.0</br>sex: 1.0</br>trestbps: 130.0</br>chol: 322.0</br>fbs: 0.0</br>restecg: 2.0</br>thalach: 109.0</br>exang: 0.0</br>oldpeak: 2.4</br>slope: 1.0</br>ca: 3.0</br>thal: 0.0</br>_original_yhat_: 0.9742528447623608</br>"
          ],
          [
           "</br>id: 158</br>prediction: 0.967</br>cp: 2.04</br></br>age: 70.0</br>sex: 1.0</br>trestbps: 130.0</br>chol: 322.0</br>fbs: 0.0</br>restecg: 2.0</br>thalach: 109.0</br>exang: 0.0</br>oldpeak: 2.4</br>slope: 1.0</br>ca: 3.0</br>thal: 0.0</br>_original_yhat_: 0.9742528447623608</br>"
          ],
          [
           "</br>id: 158</br>prediction: 0.967</br>cp: 2.07</br></br>age: 70.0</br>sex: 1.0</br>trestbps: 130.0</br>chol: 322.0</br>fbs: 0.0</br>restecg: 2.0</br>thalach: 109.0</br>exang: 0.0</br>oldpeak: 2.4</br>slope: 1.0</br>ca: 3.0</br>thal: 0.0</br>_original_yhat_: 0.9742528447623608</br>"
          ],
          [
           "</br>id: 158</br>prediction: 0.967</br>cp: 2.1</br></br>age: 70.0</br>sex: 1.0</br>trestbps: 130.0</br>chol: 322.0</br>fbs: 0.0</br>restecg: 2.0</br>thalach: 109.0</br>exang: 0.0</br>oldpeak: 2.4</br>slope: 1.0</br>ca: 3.0</br>thal: 0.0</br>_original_yhat_: 0.9742528447623608</br>"
          ],
          [
           "</br>id: 158</br>prediction: 0.967</br>cp: 2.13</br></br>age: 70.0</br>sex: 1.0</br>trestbps: 130.0</br>chol: 322.0</br>fbs: 0.0</br>restecg: 2.0</br>thalach: 109.0</br>exang: 0.0</br>oldpeak: 2.4</br>slope: 1.0</br>ca: 3.0</br>thal: 0.0</br>_original_yhat_: 0.9742528447623608</br>"
          ],
          [
           "</br>id: 158</br>prediction: 0.968</br>cp: 2.16</br></br>age: 70.0</br>sex: 1.0</br>trestbps: 130.0</br>chol: 322.0</br>fbs: 0.0</br>restecg: 2.0</br>thalach: 109.0</br>exang: 0.0</br>oldpeak: 2.4</br>slope: 1.0</br>ca: 3.0</br>thal: 0.0</br>_original_yhat_: 0.9742528447623608</br>"
          ],
          [
           "</br>id: 158</br>prediction: 0.968</br>cp: 2.19</br></br>age: 70.0</br>sex: 1.0</br>trestbps: 130.0</br>chol: 322.0</br>fbs: 0.0</br>restecg: 2.0</br>thalach: 109.0</br>exang: 0.0</br>oldpeak: 2.4</br>slope: 1.0</br>ca: 3.0</br>thal: 0.0</br>_original_yhat_: 0.9742528447623608</br>"
          ],
          [
           "</br>id: 158</br>prediction: 0.968</br>cp: 2.2199999999999998</br></br>age: 70.0</br>sex: 1.0</br>trestbps: 130.0</br>chol: 322.0</br>fbs: 0.0</br>restecg: 2.0</br>thalach: 109.0</br>exang: 0.0</br>oldpeak: 2.4</br>slope: 1.0</br>ca: 3.0</br>thal: 0.0</br>_original_yhat_: 0.9742528447623608</br>"
          ],
          [
           "</br>id: 158</br>prediction: 0.968</br>cp: 2.25</br></br>age: 70.0</br>sex: 1.0</br>trestbps: 130.0</br>chol: 322.0</br>fbs: 0.0</br>restecg: 2.0</br>thalach: 109.0</br>exang: 0.0</br>oldpeak: 2.4</br>slope: 1.0</br>ca: 3.0</br>thal: 0.0</br>_original_yhat_: 0.9742528447623608</br>"
          ],
          [
           "</br>id: 158</br>prediction: 0.969</br>cp: 2.28</br></br>age: 70.0</br>sex: 1.0</br>trestbps: 130.0</br>chol: 322.0</br>fbs: 0.0</br>restecg: 2.0</br>thalach: 109.0</br>exang: 0.0</br>oldpeak: 2.4</br>slope: 1.0</br>ca: 3.0</br>thal: 0.0</br>_original_yhat_: 0.9742528447623608</br>"
          ],
          [
           "</br>id: 158</br>prediction: 0.969</br>cp: 2.31</br></br>age: 70.0</br>sex: 1.0</br>trestbps: 130.0</br>chol: 322.0</br>fbs: 0.0</br>restecg: 2.0</br>thalach: 109.0</br>exang: 0.0</br>oldpeak: 2.4</br>slope: 1.0</br>ca: 3.0</br>thal: 0.0</br>_original_yhat_: 0.9742528447623608</br>"
          ],
          [
           "</br>id: 158</br>prediction: 0.969</br>cp: 2.34</br></br>age: 70.0</br>sex: 1.0</br>trestbps: 130.0</br>chol: 322.0</br>fbs: 0.0</br>restecg: 2.0</br>thalach: 109.0</br>exang: 0.0</br>oldpeak: 2.4</br>slope: 1.0</br>ca: 3.0</br>thal: 0.0</br>_original_yhat_: 0.9742528447623608</br>"
          ],
          [
           "</br>id: 158</br>prediction: 0.969</br>cp: 2.37</br></br>age: 70.0</br>sex: 1.0</br>trestbps: 130.0</br>chol: 322.0</br>fbs: 0.0</br>restecg: 2.0</br>thalach: 109.0</br>exang: 0.0</br>oldpeak: 2.4</br>slope: 1.0</br>ca: 3.0</br>thal: 0.0</br>_original_yhat_: 0.9742528447623608</br>"
          ],
          [
           "</br>id: 158</br>prediction: 0.97</br>cp: 2.4</br></br>age: 70.0</br>sex: 1.0</br>trestbps: 130.0</br>chol: 322.0</br>fbs: 0.0</br>restecg: 2.0</br>thalach: 109.0</br>exang: 0.0</br>oldpeak: 2.4</br>slope: 1.0</br>ca: 3.0</br>thal: 0.0</br>_original_yhat_: 0.9742528447623608</br>"
          ],
          [
           "</br>id: 158</br>prediction: 0.97</br>cp: 2.4299999999999997</br></br>age: 70.0</br>sex: 1.0</br>trestbps: 130.0</br>chol: 322.0</br>fbs: 0.0</br>restecg: 2.0</br>thalach: 109.0</br>exang: 0.0</br>oldpeak: 2.4</br>slope: 1.0</br>ca: 3.0</br>thal: 0.0</br>_original_yhat_: 0.9742528447623608</br>"
          ],
          [
           "</br>id: 158</br>prediction: 0.97</br>cp: 2.46</br></br>age: 70.0</br>sex: 1.0</br>trestbps: 130.0</br>chol: 322.0</br>fbs: 0.0</br>restecg: 2.0</br>thalach: 109.0</br>exang: 0.0</br>oldpeak: 2.4</br>slope: 1.0</br>ca: 3.0</br>thal: 0.0</br>_original_yhat_: 0.9742528447623608</br>"
          ],
          [
           "</br>id: 158</br>prediction: 0.97</br>cp: 2.4899999999999998</br></br>age: 70.0</br>sex: 1.0</br>trestbps: 130.0</br>chol: 322.0</br>fbs: 0.0</br>restecg: 2.0</br>thalach: 109.0</br>exang: 0.0</br>oldpeak: 2.4</br>slope: 1.0</br>ca: 3.0</br>thal: 0.0</br>_original_yhat_: 0.9742528447623608</br>"
          ],
          [
           "</br>id: 158</br>prediction: 0.971</br>cp: 2.52</br></br>age: 70.0</br>sex: 1.0</br>trestbps: 130.0</br>chol: 322.0</br>fbs: 0.0</br>restecg: 2.0</br>thalach: 109.0</br>exang: 0.0</br>oldpeak: 2.4</br>slope: 1.0</br>ca: 3.0</br>thal: 0.0</br>_original_yhat_: 0.9742528447623608</br>"
          ],
          [
           "</br>id: 158</br>prediction: 0.971</br>cp: 2.55</br></br>age: 70.0</br>sex: 1.0</br>trestbps: 130.0</br>chol: 322.0</br>fbs: 0.0</br>restecg: 2.0</br>thalach: 109.0</br>exang: 0.0</br>oldpeak: 2.4</br>slope: 1.0</br>ca: 3.0</br>thal: 0.0</br>_original_yhat_: 0.9742528447623608</br>"
          ],
          [
           "</br>id: 158</br>prediction: 0.971</br>cp: 2.58</br></br>age: 70.0</br>sex: 1.0</br>trestbps: 130.0</br>chol: 322.0</br>fbs: 0.0</br>restecg: 2.0</br>thalach: 109.0</br>exang: 0.0</br>oldpeak: 2.4</br>slope: 1.0</br>ca: 3.0</br>thal: 0.0</br>_original_yhat_: 0.9742528447623608</br>"
          ],
          [
           "</br>id: 158</br>prediction: 0.971</br>cp: 2.61</br></br>age: 70.0</br>sex: 1.0</br>trestbps: 130.0</br>chol: 322.0</br>fbs: 0.0</br>restecg: 2.0</br>thalach: 109.0</br>exang: 0.0</br>oldpeak: 2.4</br>slope: 1.0</br>ca: 3.0</br>thal: 0.0</br>_original_yhat_: 0.9742528447623608</br>"
          ],
          [
           "</br>id: 158</br>prediction: 0.972</br>cp: 2.6399999999999997</br></br>age: 70.0</br>sex: 1.0</br>trestbps: 130.0</br>chol: 322.0</br>fbs: 0.0</br>restecg: 2.0</br>thalach: 109.0</br>exang: 0.0</br>oldpeak: 2.4</br>slope: 1.0</br>ca: 3.0</br>thal: 0.0</br>_original_yhat_: 0.9742528447623608</br>"
          ],
          [
           "</br>id: 158</br>prediction: 0.972</br>cp: 2.67</br></br>age: 70.0</br>sex: 1.0</br>trestbps: 130.0</br>chol: 322.0</br>fbs: 0.0</br>restecg: 2.0</br>thalach: 109.0</br>exang: 0.0</br>oldpeak: 2.4</br>slope: 1.0</br>ca: 3.0</br>thal: 0.0</br>_original_yhat_: 0.9742528447623608</br>"
          ],
          [
           "</br>id: 158</br>prediction: 0.972</br>cp: 2.6999999999999997</br></br>age: 70.0</br>sex: 1.0</br>trestbps: 130.0</br>chol: 322.0</br>fbs: 0.0</br>restecg: 2.0</br>thalach: 109.0</br>exang: 0.0</br>oldpeak: 2.4</br>slope: 1.0</br>ca: 3.0</br>thal: 0.0</br>_original_yhat_: 0.9742528447623608</br>"
          ],
          [
           "</br>id: 158</br>prediction: 0.972</br>cp: 2.73</br></br>age: 70.0</br>sex: 1.0</br>trestbps: 130.0</br>chol: 322.0</br>fbs: 0.0</br>restecg: 2.0</br>thalach: 109.0</br>exang: 0.0</br>oldpeak: 2.4</br>slope: 1.0</br>ca: 3.0</br>thal: 0.0</br>_original_yhat_: 0.9742528447623608</br>"
          ],
          [
           "</br>id: 158</br>prediction: 0.973</br>cp: 2.76</br></br>age: 70.0</br>sex: 1.0</br>trestbps: 130.0</br>chol: 322.0</br>fbs: 0.0</br>restecg: 2.0</br>thalach: 109.0</br>exang: 0.0</br>oldpeak: 2.4</br>slope: 1.0</br>ca: 3.0</br>thal: 0.0</br>_original_yhat_: 0.9742528447623608</br>"
          ],
          [
           "</br>id: 158</br>prediction: 0.973</br>cp: 2.79</br></br>age: 70.0</br>sex: 1.0</br>trestbps: 130.0</br>chol: 322.0</br>fbs: 0.0</br>restecg: 2.0</br>thalach: 109.0</br>exang: 0.0</br>oldpeak: 2.4</br>slope: 1.0</br>ca: 3.0</br>thal: 0.0</br>_original_yhat_: 0.9742528447623608</br>"
          ],
          [
           "</br>id: 158</br>prediction: 0.973</br>cp: 2.82</br></br>age: 70.0</br>sex: 1.0</br>trestbps: 130.0</br>chol: 322.0</br>fbs: 0.0</br>restecg: 2.0</br>thalach: 109.0</br>exang: 0.0</br>oldpeak: 2.4</br>slope: 1.0</br>ca: 3.0</br>thal: 0.0</br>_original_yhat_: 0.9742528447623608</br>"
          ],
          [
           "</br>id: 158</br>prediction: 0.973</br>cp: 2.85</br></br>age: 70.0</br>sex: 1.0</br>trestbps: 130.0</br>chol: 322.0</br>fbs: 0.0</br>restecg: 2.0</br>thalach: 109.0</br>exang: 0.0</br>oldpeak: 2.4</br>slope: 1.0</br>ca: 3.0</br>thal: 0.0</br>_original_yhat_: 0.9742528447623608</br>"
          ],
          [
           "</br>id: 158</br>prediction: 0.973</br>cp: 2.88</br></br>age: 70.0</br>sex: 1.0</br>trestbps: 130.0</br>chol: 322.0</br>fbs: 0.0</br>restecg: 2.0</br>thalach: 109.0</br>exang: 0.0</br>oldpeak: 2.4</br>slope: 1.0</br>ca: 3.0</br>thal: 0.0</br>_original_yhat_: 0.9742528447623608</br>"
          ],
          [
           "</br>id: 158</br>prediction: 0.974</br>cp: 2.9099999999999997</br></br>age: 70.0</br>sex: 1.0</br>trestbps: 130.0</br>chol: 322.0</br>fbs: 0.0</br>restecg: 2.0</br>thalach: 109.0</br>exang: 0.0</br>oldpeak: 2.4</br>slope: 1.0</br>ca: 3.0</br>thal: 0.0</br>_original_yhat_: 0.9742528447623608</br>"
          ],
          [
           "</br>id: 158</br>prediction: 0.974</br>cp: 2.94</br></br>age: 70.0</br>sex: 1.0</br>trestbps: 130.0</br>chol: 322.0</br>fbs: 0.0</br>restecg: 2.0</br>thalach: 109.0</br>exang: 0.0</br>oldpeak: 2.4</br>slope: 1.0</br>ca: 3.0</br>thal: 0.0</br>_original_yhat_: 0.9742528447623608</br>"
          ],
          [
           "</br>id: 158</br>prediction: 0.974</br>cp: 2.9699999999999998</br></br>age: 70.0</br>sex: 1.0</br>trestbps: 130.0</br>chol: 322.0</br>fbs: 0.0</br>restecg: 2.0</br>thalach: 109.0</br>exang: 0.0</br>oldpeak: 2.4</br>slope: 1.0</br>ca: 3.0</br>thal: 0.0</br>_original_yhat_: 0.9742528447623608</br>"
          ],
          [
           "</br>id: 158</br>prediction: 0.974</br>cp: 3.0</br></br>age: 70.0</br>sex: 1.0</br>trestbps: 130.0</br>chol: 322.0</br>fbs: 0.0</br>restecg: 2.0</br>thalach: 109.0</br>exang: 0.0</br>oldpeak: 2.4</br>slope: 1.0</br>ca: 3.0</br>thal: 0.0</br>_original_yhat_: 0.9742528447623608</br>"
          ]
         ],
         "hovertemplate": "%{customdata[0]}<extra></extra>",
         "legendgroup": "RandomizedSearchCV",
         "line": {
          "color": "#46bac2",
          "dash": "solid",
          "width": 2
         },
         "marker": {
          "symbol": "circle"
         },
         "mode": "lines",
         "name": "RandomizedSearchCV",
         "opacity": 1,
         "showlegend": false,
         "type": "scattergl",
         "x": [
          0,
          0.03,
          0.06,
          0.09,
          0.12,
          0.15,
          0.18,
          0.21,
          0.24,
          0.27,
          0.3,
          0.32999999999999996,
          0.36,
          0.39,
          0.42,
          0.44999999999999996,
          0.48,
          0.51,
          0.54,
          0.57,
          0.6,
          0.63,
          0.6599999999999999,
          0.69,
          0.72,
          0.75,
          0.78,
          0.8099999999999999,
          0.84,
          0.87,
          0.8999999999999999,
          0.9299999999999999,
          0.96,
          0.99,
          1.02,
          1.05,
          1.08,
          1.1099999999999999,
          1.14,
          1.17,
          1.2,
          1.23,
          1.26,
          1.29,
          1.3199999999999998,
          1.3499999999999999,
          1.38,
          1.41,
          1.44,
          1.47,
          1.5,
          1.53,
          1.56,
          1.5899999999999999,
          1.6199999999999999,
          1.65,
          1.68,
          1.71,
          1.74,
          1.77,
          1.7999999999999998,
          1.8299999999999998,
          1.8599999999999999,
          1.89,
          1.92,
          1.95,
          1.98,
          2.01,
          2.04,
          2.07,
          2.1,
          2.13,
          2.16,
          2.19,
          2.2199999999999998,
          2.25,
          2.28,
          2.31,
          2.34,
          2.37,
          2.4,
          2.4299999999999997,
          2.46,
          2.4899999999999998,
          2.52,
          2.55,
          2.58,
          2.61,
          2.6399999999999997,
          2.67,
          2.6999999999999997,
          2.73,
          2.76,
          2.79,
          2.82,
          2.85,
          2.88,
          2.9099999999999997,
          2.94,
          2.9699999999999998,
          3
         ],
         "xaxis": "x11",
         "y": [
          0.9425149663939074,
          0.9429664151745772,
          0.9434145314327793,
          0.9438593364346438,
          0.944300851363068,
          0.9447390973171593,
          0.9451740953116962,
          0.9456058662766077,
          0.9460344310564733,
          0.9464598104100377,
          0.9468820250097452,
          0.9473010954412916,
          0.9477170422031935,
          0.9481298857063731,
          0.9485396462737621,
          0.9489463441399193,
          0.9493499994506687,
          0.949750632262748,
          0.9501482625434788,
          0.9505429101704473,
          0.9509345949312042,
          0.9513233365229771,
          0.9517091545523985,
          0.9520920685352501,
          0.9524720978962182,
          0.9528492619686669,
          0.9532235799944215,
          0.9535950711235696,
          0.9539637544142718,
          0.9543296488325891,
          0.95469277325232,
          0.9550531464548546,
          0.9554107871290364,
          0.9557657138710409,
          0.9561179451842636,
          0.9564674994792212,
          0.9568143950734639,
          0.9571586501915005,
          0.9575002829647334,
          0.9578393114314054,
          0.9581757535365577,
          0.9585096271319985,
          0.9588409499762814,
          0.9591697397346964,
          0.959496013979268,
          0.9598197901887656,
          0.9601410857487231,
          0.9604599179514683,
          0.960776303996161,
          0.96109026098884,
          0.9614018059424827,
          0.9617109557770682,
          0.9620177273196531,
          0.9623221373044551,
          0.9626242023729432,
          0.9629239390739396,
          0.9632213638637245,
          0.9635164931061551,
          0.9638093430727863,
          0.964099929943004,
          0.9643882698041616,
          0.9646743786517267,
          0.9649582723894339,
          0.9652399668294442,
          0.9655194776925116,
          0.9657968206081559,
          0.9660720111148433,
          0.9663450646601713,
          0.9666159966010615,
          0.9668848222039576,
          0.9671515566450294,
          0.9674162150103838,
          0.967678812296279,
          0.9679393634093463,
          0.9681978831668167,
          0.9684543862967525,
          0.9687088874382841,
          0.9689614011418518,
          0.9692119418694529,
          0.9694605239948929,
          0.9697071618040413,
          0.9699518694950932,
          0.9701946611788327,
          0.970435550878904,
          0.9706745525320833,
          0.970911679988557,
          0.9711469470122028,
          0.9713803672808754,
          0.9716119543866941,
          0.9718417218363371,
          0.9720696830513356,
          0.9722958513683754,
          0.9725202400395969,
          0.9727428622329035,
          0.9729637310322689,
          0.9731828594380496,
          0.9734002603672999,
          0.9736159466540892,
          0.9738299310498227,
          0.9740422262235638,
          0.9742528447623608
         ],
         "yaxis": "y11"
        },
        {
         "customdata": [
          [
           "</br>id: 158</br>prediction: 0.951</br>trestbps: 94.0</br></br>age: 70.0</br>sex: 1.0</br>cp: 3.0</br>chol: 322.0</br>fbs: 0.0</br>restecg: 2.0</br>thalach: 109.0</br>exang: 0.0</br>oldpeak: 2.4</br>slope: 1.0</br>ca: 3.0</br>thal: 0.0</br>_original_yhat_: 0.9742528447623608</br>"
          ],
          [
           "</br>id: 158</br>prediction: 0.951</br>trestbps: 94.86</br></br>age: 70.0</br>sex: 1.0</br>cp: 3.0</br>chol: 322.0</br>fbs: 0.0</br>restecg: 2.0</br>thalach: 109.0</br>exang: 0.0</br>oldpeak: 2.4</br>slope: 1.0</br>ca: 3.0</br>thal: 0.0</br>_original_yhat_: 0.9742528447623608</br>"
          ],
          [
           "</br>id: 158</br>prediction: 0.952</br>trestbps: 95.72</br></br>age: 70.0</br>sex: 1.0</br>cp: 3.0</br>chol: 322.0</br>fbs: 0.0</br>restecg: 2.0</br>thalach: 109.0</br>exang: 0.0</br>oldpeak: 2.4</br>slope: 1.0</br>ca: 3.0</br>thal: 0.0</br>_original_yhat_: 0.9742528447623608</br>"
          ],
          [
           "</br>id: 158</br>prediction: 0.953</br>trestbps: 96.58</br></br>age: 70.0</br>sex: 1.0</br>cp: 3.0</br>chol: 322.0</br>fbs: 0.0</br>restecg: 2.0</br>thalach: 109.0</br>exang: 0.0</br>oldpeak: 2.4</br>slope: 1.0</br>ca: 3.0</br>thal: 0.0</br>_original_yhat_: 0.9742528447623608</br>"
          ],
          [
           "</br>id: 158</br>prediction: 0.954</br>trestbps: 97.44</br></br>age: 70.0</br>sex: 1.0</br>cp: 3.0</br>chol: 322.0</br>fbs: 0.0</br>restecg: 2.0</br>thalach: 109.0</br>exang: 0.0</br>oldpeak: 2.4</br>slope: 1.0</br>ca: 3.0</br>thal: 0.0</br>_original_yhat_: 0.9742528447623608</br>"
          ],
          [
           "</br>id: 158</br>prediction: 0.954</br>trestbps: 98.3</br></br>age: 70.0</br>sex: 1.0</br>cp: 3.0</br>chol: 322.0</br>fbs: 0.0</br>restecg: 2.0</br>thalach: 109.0</br>exang: 0.0</br>oldpeak: 2.4</br>slope: 1.0</br>ca: 3.0</br>thal: 0.0</br>_original_yhat_: 0.9742528447623608</br>"
          ],
          [
           "</br>id: 158</br>prediction: 0.955</br>trestbps: 99.16</br></br>age: 70.0</br>sex: 1.0</br>cp: 3.0</br>chol: 322.0</br>fbs: 0.0</br>restecg: 2.0</br>thalach: 109.0</br>exang: 0.0</br>oldpeak: 2.4</br>slope: 1.0</br>ca: 3.0</br>thal: 0.0</br>_original_yhat_: 0.9742528447623608</br>"
          ],
          [
           "</br>id: 158</br>prediction: 0.956</br>trestbps: 100.02</br></br>age: 70.0</br>sex: 1.0</br>cp: 3.0</br>chol: 322.0</br>fbs: 0.0</br>restecg: 2.0</br>thalach: 109.0</br>exang: 0.0</br>oldpeak: 2.4</br>slope: 1.0</br>ca: 3.0</br>thal: 0.0</br>_original_yhat_: 0.9742528447623608</br>"
          ],
          [
           "</br>id: 158</br>prediction: 0.956</br>trestbps: 100.88</br></br>age: 70.0</br>sex: 1.0</br>cp: 3.0</br>chol: 322.0</br>fbs: 0.0</br>restecg: 2.0</br>thalach: 109.0</br>exang: 0.0</br>oldpeak: 2.4</br>slope: 1.0</br>ca: 3.0</br>thal: 0.0</br>_original_yhat_: 0.9742528447623608</br>"
          ],
          [
           "</br>id: 158</br>prediction: 0.957</br>trestbps: 101.74</br></br>age: 70.0</br>sex: 1.0</br>cp: 3.0</br>chol: 322.0</br>fbs: 0.0</br>restecg: 2.0</br>thalach: 109.0</br>exang: 0.0</br>oldpeak: 2.4</br>slope: 1.0</br>ca: 3.0</br>thal: 0.0</br>_original_yhat_: 0.9742528447623608</br>"
          ],
          [
           "</br>id: 158</br>prediction: 0.958</br>trestbps: 102.6</br></br>age: 70.0</br>sex: 1.0</br>cp: 3.0</br>chol: 322.0</br>fbs: 0.0</br>restecg: 2.0</br>thalach: 109.0</br>exang: 0.0</br>oldpeak: 2.4</br>slope: 1.0</br>ca: 3.0</br>thal: 0.0</br>_original_yhat_: 0.9742528447623608</br>"
          ],
          [
           "</br>id: 158</br>prediction: 0.958</br>trestbps: 103.46</br></br>age: 70.0</br>sex: 1.0</br>cp: 3.0</br>chol: 322.0</br>fbs: 0.0</br>restecg: 2.0</br>thalach: 109.0</br>exang: 0.0</br>oldpeak: 2.4</br>slope: 1.0</br>ca: 3.0</br>thal: 0.0</br>_original_yhat_: 0.9742528447623608</br>"
          ],
          [
           "</br>id: 158</br>prediction: 0.959</br>trestbps: 104.32</br></br>age: 70.0</br>sex: 1.0</br>cp: 3.0</br>chol: 322.0</br>fbs: 0.0</br>restecg: 2.0</br>thalach: 109.0</br>exang: 0.0</br>oldpeak: 2.4</br>slope: 1.0</br>ca: 3.0</br>thal: 0.0</br>_original_yhat_: 0.9742528447623608</br>"
          ],
          [
           "</br>id: 158</br>prediction: 0.96</br>trestbps: 105.18</br></br>age: 70.0</br>sex: 1.0</br>cp: 3.0</br>chol: 322.0</br>fbs: 0.0</br>restecg: 2.0</br>thalach: 109.0</br>exang: 0.0</br>oldpeak: 2.4</br>slope: 1.0</br>ca: 3.0</br>thal: 0.0</br>_original_yhat_: 0.9742528447623608</br>"
          ],
          [
           "</br>id: 158</br>prediction: 0.96</br>trestbps: 106.03999999999999</br></br>age: 70.0</br>sex: 1.0</br>cp: 3.0</br>chol: 322.0</br>fbs: 0.0</br>restecg: 2.0</br>thalach: 109.0</br>exang: 0.0</br>oldpeak: 2.4</br>slope: 1.0</br>ca: 3.0</br>thal: 0.0</br>_original_yhat_: 0.9742528447623608</br>"
          ],
          [
           "</br>id: 158</br>prediction: 0.961</br>trestbps: 106.9</br></br>age: 70.0</br>sex: 1.0</br>cp: 3.0</br>chol: 322.0</br>fbs: 0.0</br>restecg: 2.0</br>thalach: 109.0</br>exang: 0.0</br>oldpeak: 2.4</br>slope: 1.0</br>ca: 3.0</br>thal: 0.0</br>_original_yhat_: 0.9742528447623608</br>"
          ],
          [
           "</br>id: 158</br>prediction: 0.961</br>trestbps: 107.76</br></br>age: 70.0</br>sex: 1.0</br>cp: 3.0</br>chol: 322.0</br>fbs: 0.0</br>restecg: 2.0</br>thalach: 109.0</br>exang: 0.0</br>oldpeak: 2.4</br>slope: 1.0</br>ca: 3.0</br>thal: 0.0</br>_original_yhat_: 0.9742528447623608</br>"
          ],
          [
           "</br>id: 158</br>prediction: 0.962</br>trestbps: 108.62</br></br>age: 70.0</br>sex: 1.0</br>cp: 3.0</br>chol: 322.0</br>fbs: 0.0</br>restecg: 2.0</br>thalach: 109.0</br>exang: 0.0</br>oldpeak: 2.4</br>slope: 1.0</br>ca: 3.0</br>thal: 0.0</br>_original_yhat_: 0.9742528447623608</br>"
          ],
          [
           "</br>id: 158</br>prediction: 0.963</br>trestbps: 109.48</br></br>age: 70.0</br>sex: 1.0</br>cp: 3.0</br>chol: 322.0</br>fbs: 0.0</br>restecg: 2.0</br>thalach: 109.0</br>exang: 0.0</br>oldpeak: 2.4</br>slope: 1.0</br>ca: 3.0</br>thal: 0.0</br>_original_yhat_: 0.9742528447623608</br>"
          ],
          [
           "</br>id: 158</br>prediction: 0.963</br>trestbps: 110.34</br></br>age: 70.0</br>sex: 1.0</br>cp: 3.0</br>chol: 322.0</br>fbs: 0.0</br>restecg: 2.0</br>thalach: 109.0</br>exang: 0.0</br>oldpeak: 2.4</br>slope: 1.0</br>ca: 3.0</br>thal: 0.0</br>_original_yhat_: 0.9742528447623608</br>"
          ],
          [
           "</br>id: 158</br>prediction: 0.964</br>trestbps: 111.2</br></br>age: 70.0</br>sex: 1.0</br>cp: 3.0</br>chol: 322.0</br>fbs: 0.0</br>restecg: 2.0</br>thalach: 109.0</br>exang: 0.0</br>oldpeak: 2.4</br>slope: 1.0</br>ca: 3.0</br>thal: 0.0</br>_original_yhat_: 0.9742528447623608</br>"
          ],
          [
           "</br>id: 158</br>prediction: 0.964</br>trestbps: 112.06</br></br>age: 70.0</br>sex: 1.0</br>cp: 3.0</br>chol: 322.0</br>fbs: 0.0</br>restecg: 2.0</br>thalach: 109.0</br>exang: 0.0</br>oldpeak: 2.4</br>slope: 1.0</br>ca: 3.0</br>thal: 0.0</br>_original_yhat_: 0.9742528447623608</br>"
          ],
          [
           "</br>id: 158</br>prediction: 0.965</br>trestbps: 112.92</br></br>age: 70.0</br>sex: 1.0</br>cp: 3.0</br>chol: 322.0</br>fbs: 0.0</br>restecg: 2.0</br>thalach: 109.0</br>exang: 0.0</br>oldpeak: 2.4</br>slope: 1.0</br>ca: 3.0</br>thal: 0.0</br>_original_yhat_: 0.9742528447623608</br>"
          ],
          [
           "</br>id: 158</br>prediction: 0.965</br>trestbps: 113.78</br></br>age: 70.0</br>sex: 1.0</br>cp: 3.0</br>chol: 322.0</br>fbs: 0.0</br>restecg: 2.0</br>thalach: 109.0</br>exang: 0.0</br>oldpeak: 2.4</br>slope: 1.0</br>ca: 3.0</br>thal: 0.0</br>_original_yhat_: 0.9742528447623608</br>"
          ],
          [
           "</br>id: 158</br>prediction: 0.966</br>trestbps: 114.64</br></br>age: 70.0</br>sex: 1.0</br>cp: 3.0</br>chol: 322.0</br>fbs: 0.0</br>restecg: 2.0</br>thalach: 109.0</br>exang: 0.0</br>oldpeak: 2.4</br>slope: 1.0</br>ca: 3.0</br>thal: 0.0</br>_original_yhat_: 0.9742528447623608</br>"
          ],
          [
           "</br>id: 158</br>prediction: 0.966</br>trestbps: 115.5</br></br>age: 70.0</br>sex: 1.0</br>cp: 3.0</br>chol: 322.0</br>fbs: 0.0</br>restecg: 2.0</br>thalach: 109.0</br>exang: 0.0</br>oldpeak: 2.4</br>slope: 1.0</br>ca: 3.0</br>thal: 0.0</br>_original_yhat_: 0.9742528447623608</br>"
          ],
          [
           "</br>id: 158</br>prediction: 0.967</br>trestbps: 116.36</br></br>age: 70.0</br>sex: 1.0</br>cp: 3.0</br>chol: 322.0</br>fbs: 0.0</br>restecg: 2.0</br>thalach: 109.0</br>exang: 0.0</br>oldpeak: 2.4</br>slope: 1.0</br>ca: 3.0</br>thal: 0.0</br>_original_yhat_: 0.9742528447623608</br>"
          ],
          [
           "</br>id: 158</br>prediction: 0.968</br>trestbps: 117.22</br></br>age: 70.0</br>sex: 1.0</br>cp: 3.0</br>chol: 322.0</br>fbs: 0.0</br>restecg: 2.0</br>thalach: 109.0</br>exang: 0.0</br>oldpeak: 2.4</br>slope: 1.0</br>ca: 3.0</br>thal: 0.0</br>_original_yhat_: 0.9742528447623608</br>"
          ],
          [
           "</br>id: 158</br>prediction: 0.968</br>trestbps: 118.08</br></br>age: 70.0</br>sex: 1.0</br>cp: 3.0</br>chol: 322.0</br>fbs: 0.0</br>restecg: 2.0</br>thalach: 109.0</br>exang: 0.0</br>oldpeak: 2.4</br>slope: 1.0</br>ca: 3.0</br>thal: 0.0</br>_original_yhat_: 0.9742528447623608</br>"
          ],
          [
           "</br>id: 158</br>prediction: 0.969</br>trestbps: 118.94</br></br>age: 70.0</br>sex: 1.0</br>cp: 3.0</br>chol: 322.0</br>fbs: 0.0</br>restecg: 2.0</br>thalach: 109.0</br>exang: 0.0</br>oldpeak: 2.4</br>slope: 1.0</br>ca: 3.0</br>thal: 0.0</br>_original_yhat_: 0.9742528447623608</br>"
          ],
          [
           "</br>id: 158</br>prediction: 0.969</br>trestbps: 119.8</br></br>age: 70.0</br>sex: 1.0</br>cp: 3.0</br>chol: 322.0</br>fbs: 0.0</br>restecg: 2.0</br>thalach: 109.0</br>exang: 0.0</br>oldpeak: 2.4</br>slope: 1.0</br>ca: 3.0</br>thal: 0.0</br>_original_yhat_: 0.9742528447623608</br>"
          ],
          [
           "</br>id: 158</br>prediction: 0.969</br>trestbps: 120.66</br></br>age: 70.0</br>sex: 1.0</br>cp: 3.0</br>chol: 322.0</br>fbs: 0.0</br>restecg: 2.0</br>thalach: 109.0</br>exang: 0.0</br>oldpeak: 2.4</br>slope: 1.0</br>ca: 3.0</br>thal: 0.0</br>_original_yhat_: 0.9742528447623608</br>"
          ],
          [
           "</br>id: 158</br>prediction: 0.97</br>trestbps: 121.52</br></br>age: 70.0</br>sex: 1.0</br>cp: 3.0</br>chol: 322.0</br>fbs: 0.0</br>restecg: 2.0</br>thalach: 109.0</br>exang: 0.0</br>oldpeak: 2.4</br>slope: 1.0</br>ca: 3.0</br>thal: 0.0</br>_original_yhat_: 0.9742528447623608</br>"
          ],
          [
           "</br>id: 158</br>prediction: 0.97</br>trestbps: 122.38</br></br>age: 70.0</br>sex: 1.0</br>cp: 3.0</br>chol: 322.0</br>fbs: 0.0</br>restecg: 2.0</br>thalach: 109.0</br>exang: 0.0</br>oldpeak: 2.4</br>slope: 1.0</br>ca: 3.0</br>thal: 0.0</br>_original_yhat_: 0.9742528447623608</br>"
          ],
          [
           "</br>id: 158</br>prediction: 0.971</br>trestbps: 123.24</br></br>age: 70.0</br>sex: 1.0</br>cp: 3.0</br>chol: 322.0</br>fbs: 0.0</br>restecg: 2.0</br>thalach: 109.0</br>exang: 0.0</br>oldpeak: 2.4</br>slope: 1.0</br>ca: 3.0</br>thal: 0.0</br>_original_yhat_: 0.9742528447623608</br>"
          ],
          [
           "</br>id: 158</br>prediction: 0.971</br>trestbps: 124.1</br></br>age: 70.0</br>sex: 1.0</br>cp: 3.0</br>chol: 322.0</br>fbs: 0.0</br>restecg: 2.0</br>thalach: 109.0</br>exang: 0.0</br>oldpeak: 2.4</br>slope: 1.0</br>ca: 3.0</br>thal: 0.0</br>_original_yhat_: 0.9742528447623608</br>"
          ],
          [
           "</br>id: 158</br>prediction: 0.972</br>trestbps: 124.96000000000001</br></br>age: 70.0</br>sex: 1.0</br>cp: 3.0</br>chol: 322.0</br>fbs: 0.0</br>restecg: 2.0</br>thalach: 109.0</br>exang: 0.0</br>oldpeak: 2.4</br>slope: 1.0</br>ca: 3.0</br>thal: 0.0</br>_original_yhat_: 0.9742528447623608</br>"
          ],
          [
           "</br>id: 158</br>prediction: 0.972</br>trestbps: 125.82</br></br>age: 70.0</br>sex: 1.0</br>cp: 3.0</br>chol: 322.0</br>fbs: 0.0</br>restecg: 2.0</br>thalach: 109.0</br>exang: 0.0</br>oldpeak: 2.4</br>slope: 1.0</br>ca: 3.0</br>thal: 0.0</br>_original_yhat_: 0.9742528447623608</br>"
          ],
          [
           "</br>id: 158</br>prediction: 0.973</br>trestbps: 126.68</br></br>age: 70.0</br>sex: 1.0</br>cp: 3.0</br>chol: 322.0</br>fbs: 0.0</br>restecg: 2.0</br>thalach: 109.0</br>exang: 0.0</br>oldpeak: 2.4</br>slope: 1.0</br>ca: 3.0</br>thal: 0.0</br>_original_yhat_: 0.9742528447623608</br>"
          ],
          [
           "</br>id: 158</br>prediction: 0.973</br>trestbps: 127.53999999999999</br></br>age: 70.0</br>sex: 1.0</br>cp: 3.0</br>chol: 322.0</br>fbs: 0.0</br>restecg: 2.0</br>thalach: 109.0</br>exang: 0.0</br>oldpeak: 2.4</br>slope: 1.0</br>ca: 3.0</br>thal: 0.0</br>_original_yhat_: 0.9742528447623608</br>"
          ],
          [
           "</br>id: 158</br>prediction: 0.973</br>trestbps: 128.4</br></br>age: 70.0</br>sex: 1.0</br>cp: 3.0</br>chol: 322.0</br>fbs: 0.0</br>restecg: 2.0</br>thalach: 109.0</br>exang: 0.0</br>oldpeak: 2.4</br>slope: 1.0</br>ca: 3.0</br>thal: 0.0</br>_original_yhat_: 0.9742528447623608</br>"
          ],
          [
           "</br>id: 158</br>prediction: 0.974</br>trestbps: 129.26</br></br>age: 70.0</br>sex: 1.0</br>cp: 3.0</br>chol: 322.0</br>fbs: 0.0</br>restecg: 2.0</br>thalach: 109.0</br>exang: 0.0</br>oldpeak: 2.4</br>slope: 1.0</br>ca: 3.0</br>thal: 0.0</br>_original_yhat_: 0.9742528447623608</br>"
          ],
          [
           "</br>id: 158</br>prediction: 0.974</br>trestbps: 130.0</br></br>age: 70.0</br>sex: 1.0</br>cp: 3.0</br>chol: 322.0</br>fbs: 0.0</br>restecg: 2.0</br>thalach: 109.0</br>exang: 0.0</br>oldpeak: 2.4</br>slope: 1.0</br>ca: 3.0</br>thal: 0.0</br>_original_yhat_: 0.9742528447623608</br>"
          ],
          [
           "</br>id: 158</br>prediction: 0.974</br>trestbps: 130.12</br></br>age: 70.0</br>sex: 1.0</br>cp: 3.0</br>chol: 322.0</br>fbs: 0.0</br>restecg: 2.0</br>thalach: 109.0</br>exang: 0.0</br>oldpeak: 2.4</br>slope: 1.0</br>ca: 3.0</br>thal: 0.0</br>_original_yhat_: 0.9742528447623608</br>"
          ],
          [
           "</br>id: 158</br>prediction: 0.975</br>trestbps: 130.98</br></br>age: 70.0</br>sex: 1.0</br>cp: 3.0</br>chol: 322.0</br>fbs: 0.0</br>restecg: 2.0</br>thalach: 109.0</br>exang: 0.0</br>oldpeak: 2.4</br>slope: 1.0</br>ca: 3.0</br>thal: 0.0</br>_original_yhat_: 0.9742528447623608</br>"
          ],
          [
           "</br>id: 158</br>prediction: 0.975</br>trestbps: 131.84</br></br>age: 70.0</br>sex: 1.0</br>cp: 3.0</br>chol: 322.0</br>fbs: 0.0</br>restecg: 2.0</br>thalach: 109.0</br>exang: 0.0</br>oldpeak: 2.4</br>slope: 1.0</br>ca: 3.0</br>thal: 0.0</br>_original_yhat_: 0.9742528447623608</br>"
          ],
          [
           "</br>id: 158</br>prediction: 0.975</br>trestbps: 132.7</br></br>age: 70.0</br>sex: 1.0</br>cp: 3.0</br>chol: 322.0</br>fbs: 0.0</br>restecg: 2.0</br>thalach: 109.0</br>exang: 0.0</br>oldpeak: 2.4</br>slope: 1.0</br>ca: 3.0</br>thal: 0.0</br>_original_yhat_: 0.9742528447623608</br>"
          ],
          [
           "</br>id: 158</br>prediction: 0.976</br>trestbps: 133.56</br></br>age: 70.0</br>sex: 1.0</br>cp: 3.0</br>chol: 322.0</br>fbs: 0.0</br>restecg: 2.0</br>thalach: 109.0</br>exang: 0.0</br>oldpeak: 2.4</br>slope: 1.0</br>ca: 3.0</br>thal: 0.0</br>_original_yhat_: 0.9742528447623608</br>"
          ],
          [
           "</br>id: 158</br>prediction: 0.976</br>trestbps: 134.42000000000002</br></br>age: 70.0</br>sex: 1.0</br>cp: 3.0</br>chol: 322.0</br>fbs: 0.0</br>restecg: 2.0</br>thalach: 109.0</br>exang: 0.0</br>oldpeak: 2.4</br>slope: 1.0</br>ca: 3.0</br>thal: 0.0</br>_original_yhat_: 0.9742528447623608</br>"
          ],
          [
           "</br>id: 158</br>prediction: 0.977</br>trestbps: 135.28</br></br>age: 70.0</br>sex: 1.0</br>cp: 3.0</br>chol: 322.0</br>fbs: 0.0</br>restecg: 2.0</br>thalach: 109.0</br>exang: 0.0</br>oldpeak: 2.4</br>slope: 1.0</br>ca: 3.0</br>thal: 0.0</br>_original_yhat_: 0.9742528447623608</br>"
          ],
          [
           "</br>id: 158</br>prediction: 0.977</br>trestbps: 136.14</br></br>age: 70.0</br>sex: 1.0</br>cp: 3.0</br>chol: 322.0</br>fbs: 0.0</br>restecg: 2.0</br>thalach: 109.0</br>exang: 0.0</br>oldpeak: 2.4</br>slope: 1.0</br>ca: 3.0</br>thal: 0.0</br>_original_yhat_: 0.9742528447623608</br>"
          ],
          [
           "</br>id: 158</br>prediction: 0.977</br>trestbps: 137.0</br></br>age: 70.0</br>sex: 1.0</br>cp: 3.0</br>chol: 322.0</br>fbs: 0.0</br>restecg: 2.0</br>thalach: 109.0</br>exang: 0.0</br>oldpeak: 2.4</br>slope: 1.0</br>ca: 3.0</br>thal: 0.0</br>_original_yhat_: 0.9742528447623608</br>"
          ],
          [
           "</br>id: 158</br>prediction: 0.978</br>trestbps: 137.86</br></br>age: 70.0</br>sex: 1.0</br>cp: 3.0</br>chol: 322.0</br>fbs: 0.0</br>restecg: 2.0</br>thalach: 109.0</br>exang: 0.0</br>oldpeak: 2.4</br>slope: 1.0</br>ca: 3.0</br>thal: 0.0</br>_original_yhat_: 0.9742528447623608</br>"
          ],
          [
           "</br>id: 158</br>prediction: 0.978</br>trestbps: 138.72</br></br>age: 70.0</br>sex: 1.0</br>cp: 3.0</br>chol: 322.0</br>fbs: 0.0</br>restecg: 2.0</br>thalach: 109.0</br>exang: 0.0</br>oldpeak: 2.4</br>slope: 1.0</br>ca: 3.0</br>thal: 0.0</br>_original_yhat_: 0.9742528447623608</br>"
          ],
          [
           "</br>id: 158</br>prediction: 0.978</br>trestbps: 139.57999999999998</br></br>age: 70.0</br>sex: 1.0</br>cp: 3.0</br>chol: 322.0</br>fbs: 0.0</br>restecg: 2.0</br>thalach: 109.0</br>exang: 0.0</br>oldpeak: 2.4</br>slope: 1.0</br>ca: 3.0</br>thal: 0.0</br>_original_yhat_: 0.9742528447623608</br>"
          ],
          [
           "</br>id: 158</br>prediction: 0.979</br>trestbps: 140.44</br></br>age: 70.0</br>sex: 1.0</br>cp: 3.0</br>chol: 322.0</br>fbs: 0.0</br>restecg: 2.0</br>thalach: 109.0</br>exang: 0.0</br>oldpeak: 2.4</br>slope: 1.0</br>ca: 3.0</br>thal: 0.0</br>_original_yhat_: 0.9742528447623608</br>"
          ],
          [
           "</br>id: 158</br>prediction: 0.979</br>trestbps: 141.3</br></br>age: 70.0</br>sex: 1.0</br>cp: 3.0</br>chol: 322.0</br>fbs: 0.0</br>restecg: 2.0</br>thalach: 109.0</br>exang: 0.0</br>oldpeak: 2.4</br>slope: 1.0</br>ca: 3.0</br>thal: 0.0</br>_original_yhat_: 0.9742528447623608</br>"
          ],
          [
           "</br>id: 158</br>prediction: 0.979</br>trestbps: 142.16</br></br>age: 70.0</br>sex: 1.0</br>cp: 3.0</br>chol: 322.0</br>fbs: 0.0</br>restecg: 2.0</br>thalach: 109.0</br>exang: 0.0</br>oldpeak: 2.4</br>slope: 1.0</br>ca: 3.0</br>thal: 0.0</br>_original_yhat_: 0.9742528447623608</br>"
          ],
          [
           "</br>id: 158</br>prediction: 0.98</br>trestbps: 143.01999999999998</br></br>age: 70.0</br>sex: 1.0</br>cp: 3.0</br>chol: 322.0</br>fbs: 0.0</br>restecg: 2.0</br>thalach: 109.0</br>exang: 0.0</br>oldpeak: 2.4</br>slope: 1.0</br>ca: 3.0</br>thal: 0.0</br>_original_yhat_: 0.9742528447623608</br>"
          ],
          [
           "</br>id: 158</br>prediction: 0.98</br>trestbps: 143.88</br></br>age: 70.0</br>sex: 1.0</br>cp: 3.0</br>chol: 322.0</br>fbs: 0.0</br>restecg: 2.0</br>thalach: 109.0</br>exang: 0.0</br>oldpeak: 2.4</br>slope: 1.0</br>ca: 3.0</br>thal: 0.0</br>_original_yhat_: 0.9742528447623608</br>"
          ],
          [
           "</br>id: 158</br>prediction: 0.98</br>trestbps: 144.74</br></br>age: 70.0</br>sex: 1.0</br>cp: 3.0</br>chol: 322.0</br>fbs: 0.0</br>restecg: 2.0</br>thalach: 109.0</br>exang: 0.0</br>oldpeak: 2.4</br>slope: 1.0</br>ca: 3.0</br>thal: 0.0</br>_original_yhat_: 0.9742528447623608</br>"
          ],
          [
           "</br>id: 158</br>prediction: 0.981</br>trestbps: 145.6</br></br>age: 70.0</br>sex: 1.0</br>cp: 3.0</br>chol: 322.0</br>fbs: 0.0</br>restecg: 2.0</br>thalach: 109.0</br>exang: 0.0</br>oldpeak: 2.4</br>slope: 1.0</br>ca: 3.0</br>thal: 0.0</br>_original_yhat_: 0.9742528447623608</br>"
          ],
          [
           "</br>id: 158</br>prediction: 0.981</br>trestbps: 146.46</br></br>age: 70.0</br>sex: 1.0</br>cp: 3.0</br>chol: 322.0</br>fbs: 0.0</br>restecg: 2.0</br>thalach: 109.0</br>exang: 0.0</br>oldpeak: 2.4</br>slope: 1.0</br>ca: 3.0</br>thal: 0.0</br>_original_yhat_: 0.9742528447623608</br>"
          ],
          [
           "</br>id: 158</br>prediction: 0.981</br>trestbps: 147.32</br></br>age: 70.0</br>sex: 1.0</br>cp: 3.0</br>chol: 322.0</br>fbs: 0.0</br>restecg: 2.0</br>thalach: 109.0</br>exang: 0.0</br>oldpeak: 2.4</br>slope: 1.0</br>ca: 3.0</br>thal: 0.0</br>_original_yhat_: 0.9742528447623608</br>"
          ],
          [
           "</br>id: 158</br>prediction: 0.982</br>trestbps: 148.18</br></br>age: 70.0</br>sex: 1.0</br>cp: 3.0</br>chol: 322.0</br>fbs: 0.0</br>restecg: 2.0</br>thalach: 109.0</br>exang: 0.0</br>oldpeak: 2.4</br>slope: 1.0</br>ca: 3.0</br>thal: 0.0</br>_original_yhat_: 0.9742528447623608</br>"
          ],
          [
           "</br>id: 158</br>prediction: 0.982</br>trestbps: 149.04</br></br>age: 70.0</br>sex: 1.0</br>cp: 3.0</br>chol: 322.0</br>fbs: 0.0</br>restecg: 2.0</br>thalach: 109.0</br>exang: 0.0</br>oldpeak: 2.4</br>slope: 1.0</br>ca: 3.0</br>thal: 0.0</br>_original_yhat_: 0.9742528447623608</br>"
          ],
          [
           "</br>id: 158</br>prediction: 0.982</br>trestbps: 149.9</br></br>age: 70.0</br>sex: 1.0</br>cp: 3.0</br>chol: 322.0</br>fbs: 0.0</br>restecg: 2.0</br>thalach: 109.0</br>exang: 0.0</br>oldpeak: 2.4</br>slope: 1.0</br>ca: 3.0</br>thal: 0.0</br>_original_yhat_: 0.9742528447623608</br>"
          ],
          [
           "</br>id: 158</br>prediction: 0.982</br>trestbps: 150.76</br></br>age: 70.0</br>sex: 1.0</br>cp: 3.0</br>chol: 322.0</br>fbs: 0.0</br>restecg: 2.0</br>thalach: 109.0</br>exang: 0.0</br>oldpeak: 2.4</br>slope: 1.0</br>ca: 3.0</br>thal: 0.0</br>_original_yhat_: 0.9742528447623608</br>"
          ],
          [
           "</br>id: 158</br>prediction: 0.983</br>trestbps: 151.62</br></br>age: 70.0</br>sex: 1.0</br>cp: 3.0</br>chol: 322.0</br>fbs: 0.0</br>restecg: 2.0</br>thalach: 109.0</br>exang: 0.0</br>oldpeak: 2.4</br>slope: 1.0</br>ca: 3.0</br>thal: 0.0</br>_original_yhat_: 0.9742528447623608</br>"
          ],
          [
           "</br>id: 158</br>prediction: 0.983</br>trestbps: 152.48</br></br>age: 70.0</br>sex: 1.0</br>cp: 3.0</br>chol: 322.0</br>fbs: 0.0</br>restecg: 2.0</br>thalach: 109.0</br>exang: 0.0</br>oldpeak: 2.4</br>slope: 1.0</br>ca: 3.0</br>thal: 0.0</br>_original_yhat_: 0.9742528447623608</br>"
          ],
          [
           "</br>id: 158</br>prediction: 0.983</br>trestbps: 153.34</br></br>age: 70.0</br>sex: 1.0</br>cp: 3.0</br>chol: 322.0</br>fbs: 0.0</br>restecg: 2.0</br>thalach: 109.0</br>exang: 0.0</br>oldpeak: 2.4</br>slope: 1.0</br>ca: 3.0</br>thal: 0.0</br>_original_yhat_: 0.9742528447623608</br>"
          ],
          [
           "</br>id: 158</br>prediction: 0.983</br>trestbps: 154.2</br></br>age: 70.0</br>sex: 1.0</br>cp: 3.0</br>chol: 322.0</br>fbs: 0.0</br>restecg: 2.0</br>thalach: 109.0</br>exang: 0.0</br>oldpeak: 2.4</br>slope: 1.0</br>ca: 3.0</br>thal: 0.0</br>_original_yhat_: 0.9742528447623608</br>"
          ],
          [
           "</br>id: 158</br>prediction: 0.984</br>trestbps: 155.06</br></br>age: 70.0</br>sex: 1.0</br>cp: 3.0</br>chol: 322.0</br>fbs: 0.0</br>restecg: 2.0</br>thalach: 109.0</br>exang: 0.0</br>oldpeak: 2.4</br>slope: 1.0</br>ca: 3.0</br>thal: 0.0</br>_original_yhat_: 0.9742528447623608</br>"
          ],
          [
           "</br>id: 158</br>prediction: 0.984</br>trestbps: 155.92000000000002</br></br>age: 70.0</br>sex: 1.0</br>cp: 3.0</br>chol: 322.0</br>fbs: 0.0</br>restecg: 2.0</br>thalach: 109.0</br>exang: 0.0</br>oldpeak: 2.4</br>slope: 1.0</br>ca: 3.0</br>thal: 0.0</br>_original_yhat_: 0.9742528447623608</br>"
          ],
          [
           "</br>id: 158</br>prediction: 0.984</br>trestbps: 156.78</br></br>age: 70.0</br>sex: 1.0</br>cp: 3.0</br>chol: 322.0</br>fbs: 0.0</br>restecg: 2.0</br>thalach: 109.0</br>exang: 0.0</br>oldpeak: 2.4</br>slope: 1.0</br>ca: 3.0</br>thal: 0.0</br>_original_yhat_: 0.9742528447623608</br>"
          ],
          [
           "</br>id: 158</br>prediction: 0.984</br>trestbps: 157.64</br></br>age: 70.0</br>sex: 1.0</br>cp: 3.0</br>chol: 322.0</br>fbs: 0.0</br>restecg: 2.0</br>thalach: 109.0</br>exang: 0.0</br>oldpeak: 2.4</br>slope: 1.0</br>ca: 3.0</br>thal: 0.0</br>_original_yhat_: 0.9742528447623608</br>"
          ],
          [
           "</br>id: 158</br>prediction: 0.985</br>trestbps: 158.5</br></br>age: 70.0</br>sex: 1.0</br>cp: 3.0</br>chol: 322.0</br>fbs: 0.0</br>restecg: 2.0</br>thalach: 109.0</br>exang: 0.0</br>oldpeak: 2.4</br>slope: 1.0</br>ca: 3.0</br>thal: 0.0</br>_original_yhat_: 0.9742528447623608</br>"
          ],
          [
           "</br>id: 158</br>prediction: 0.985</br>trestbps: 159.36</br></br>age: 70.0</br>sex: 1.0</br>cp: 3.0</br>chol: 322.0</br>fbs: 0.0</br>restecg: 2.0</br>thalach: 109.0</br>exang: 0.0</br>oldpeak: 2.4</br>slope: 1.0</br>ca: 3.0</br>thal: 0.0</br>_original_yhat_: 0.9742528447623608</br>"
          ],
          [
           "</br>id: 158</br>prediction: 0.985</br>trestbps: 160.22</br></br>age: 70.0</br>sex: 1.0</br>cp: 3.0</br>chol: 322.0</br>fbs: 0.0</br>restecg: 2.0</br>thalach: 109.0</br>exang: 0.0</br>oldpeak: 2.4</br>slope: 1.0</br>ca: 3.0</br>thal: 0.0</br>_original_yhat_: 0.9742528447623608</br>"
          ],
          [
           "</br>id: 158</br>prediction: 0.985</br>trestbps: 161.07999999999998</br></br>age: 70.0</br>sex: 1.0</br>cp: 3.0</br>chol: 322.0</br>fbs: 0.0</br>restecg: 2.0</br>thalach: 109.0</br>exang: 0.0</br>oldpeak: 2.4</br>slope: 1.0</br>ca: 3.0</br>thal: 0.0</br>_original_yhat_: 0.9742528447623608</br>"
          ],
          [
           "</br>id: 158</br>prediction: 0.986</br>trestbps: 161.94</br></br>age: 70.0</br>sex: 1.0</br>cp: 3.0</br>chol: 322.0</br>fbs: 0.0</br>restecg: 2.0</br>thalach: 109.0</br>exang: 0.0</br>oldpeak: 2.4</br>slope: 1.0</br>ca: 3.0</br>thal: 0.0</br>_original_yhat_: 0.9742528447623608</br>"
          ],
          [
           "</br>id: 158</br>prediction: 0.986</br>trestbps: 162.8</br></br>age: 70.0</br>sex: 1.0</br>cp: 3.0</br>chol: 322.0</br>fbs: 0.0</br>restecg: 2.0</br>thalach: 109.0</br>exang: 0.0</br>oldpeak: 2.4</br>slope: 1.0</br>ca: 3.0</br>thal: 0.0</br>_original_yhat_: 0.9742528447623608</br>"
          ],
          [
           "</br>id: 158</br>prediction: 0.986</br>trestbps: 163.66</br></br>age: 70.0</br>sex: 1.0</br>cp: 3.0</br>chol: 322.0</br>fbs: 0.0</br>restecg: 2.0</br>thalach: 109.0</br>exang: 0.0</br>oldpeak: 2.4</br>slope: 1.0</br>ca: 3.0</br>thal: 0.0</br>_original_yhat_: 0.9742528447623608</br>"
          ],
          [
           "</br>id: 158</br>prediction: 0.986</br>trestbps: 164.51999999999998</br></br>age: 70.0</br>sex: 1.0</br>cp: 3.0</br>chol: 322.0</br>fbs: 0.0</br>restecg: 2.0</br>thalach: 109.0</br>exang: 0.0</br>oldpeak: 2.4</br>slope: 1.0</br>ca: 3.0</br>thal: 0.0</br>_original_yhat_: 0.9742528447623608</br>"
          ],
          [
           "</br>id: 158</br>prediction: 0.987</br>trestbps: 165.38</br></br>age: 70.0</br>sex: 1.0</br>cp: 3.0</br>chol: 322.0</br>fbs: 0.0</br>restecg: 2.0</br>thalach: 109.0</br>exang: 0.0</br>oldpeak: 2.4</br>slope: 1.0</br>ca: 3.0</br>thal: 0.0</br>_original_yhat_: 0.9742528447623608</br>"
          ],
          [
           "</br>id: 158</br>prediction: 0.987</br>trestbps: 166.24</br></br>age: 70.0</br>sex: 1.0</br>cp: 3.0</br>chol: 322.0</br>fbs: 0.0</br>restecg: 2.0</br>thalach: 109.0</br>exang: 0.0</br>oldpeak: 2.4</br>slope: 1.0</br>ca: 3.0</br>thal: 0.0</br>_original_yhat_: 0.9742528447623608</br>"
          ],
          [
           "</br>id: 158</br>prediction: 0.987</br>trestbps: 167.1</br></br>age: 70.0</br>sex: 1.0</br>cp: 3.0</br>chol: 322.0</br>fbs: 0.0</br>restecg: 2.0</br>thalach: 109.0</br>exang: 0.0</br>oldpeak: 2.4</br>slope: 1.0</br>ca: 3.0</br>thal: 0.0</br>_original_yhat_: 0.9742528447623608</br>"
          ],
          [
           "</br>id: 158</br>prediction: 0.987</br>trestbps: 167.95999999999998</br></br>age: 70.0</br>sex: 1.0</br>cp: 3.0</br>chol: 322.0</br>fbs: 0.0</br>restecg: 2.0</br>thalach: 109.0</br>exang: 0.0</br>oldpeak: 2.4</br>slope: 1.0</br>ca: 3.0</br>thal: 0.0</br>_original_yhat_: 0.9742528447623608</br>"
          ],
          [
           "</br>id: 158</br>prediction: 0.987</br>trestbps: 168.82</br></br>age: 70.0</br>sex: 1.0</br>cp: 3.0</br>chol: 322.0</br>fbs: 0.0</br>restecg: 2.0</br>thalach: 109.0</br>exang: 0.0</br>oldpeak: 2.4</br>slope: 1.0</br>ca: 3.0</br>thal: 0.0</br>_original_yhat_: 0.9742528447623608</br>"
          ],
          [
           "</br>id: 158</br>prediction: 0.988</br>trestbps: 169.68</br></br>age: 70.0</br>sex: 1.0</br>cp: 3.0</br>chol: 322.0</br>fbs: 0.0</br>restecg: 2.0</br>thalach: 109.0</br>exang: 0.0</br>oldpeak: 2.4</br>slope: 1.0</br>ca: 3.0</br>thal: 0.0</br>_original_yhat_: 0.9742528447623608</br>"
          ],
          [
           "</br>id: 158</br>prediction: 0.988</br>trestbps: 170.54</br></br>age: 70.0</br>sex: 1.0</br>cp: 3.0</br>chol: 322.0</br>fbs: 0.0</br>restecg: 2.0</br>thalach: 109.0</br>exang: 0.0</br>oldpeak: 2.4</br>slope: 1.0</br>ca: 3.0</br>thal: 0.0</br>_original_yhat_: 0.9742528447623608</br>"
          ],
          [
           "</br>id: 158</br>prediction: 0.988</br>trestbps: 171.4</br></br>age: 70.0</br>sex: 1.0</br>cp: 3.0</br>chol: 322.0</br>fbs: 0.0</br>restecg: 2.0</br>thalach: 109.0</br>exang: 0.0</br>oldpeak: 2.4</br>slope: 1.0</br>ca: 3.0</br>thal: 0.0</br>_original_yhat_: 0.9742528447623608</br>"
          ],
          [
           "</br>id: 158</br>prediction: 0.988</br>trestbps: 172.26</br></br>age: 70.0</br>sex: 1.0</br>cp: 3.0</br>chol: 322.0</br>fbs: 0.0</br>restecg: 2.0</br>thalach: 109.0</br>exang: 0.0</br>oldpeak: 2.4</br>slope: 1.0</br>ca: 3.0</br>thal: 0.0</br>_original_yhat_: 0.9742528447623608</br>"
          ],
          [
           "</br>id: 158</br>prediction: 0.988</br>trestbps: 173.12</br></br>age: 70.0</br>sex: 1.0</br>cp: 3.0</br>chol: 322.0</br>fbs: 0.0</br>restecg: 2.0</br>thalach: 109.0</br>exang: 0.0</br>oldpeak: 2.4</br>slope: 1.0</br>ca: 3.0</br>thal: 0.0</br>_original_yhat_: 0.9742528447623608</br>"
          ],
          [
           "</br>id: 158</br>prediction: 0.989</br>trestbps: 173.98000000000002</br></br>age: 70.0</br>sex: 1.0</br>cp: 3.0</br>chol: 322.0</br>fbs: 0.0</br>restecg: 2.0</br>thalach: 109.0</br>exang: 0.0</br>oldpeak: 2.4</br>slope: 1.0</br>ca: 3.0</br>thal: 0.0</br>_original_yhat_: 0.9742528447623608</br>"
          ],
          [
           "</br>id: 158</br>prediction: 0.989</br>trestbps: 174.84</br></br>age: 70.0</br>sex: 1.0</br>cp: 3.0</br>chol: 322.0</br>fbs: 0.0</br>restecg: 2.0</br>thalach: 109.0</br>exang: 0.0</br>oldpeak: 2.4</br>slope: 1.0</br>ca: 3.0</br>thal: 0.0</br>_original_yhat_: 0.9742528447623608</br>"
          ],
          [
           "</br>id: 158</br>prediction: 0.989</br>trestbps: 175.7</br></br>age: 70.0</br>sex: 1.0</br>cp: 3.0</br>chol: 322.0</br>fbs: 0.0</br>restecg: 2.0</br>thalach: 109.0</br>exang: 0.0</br>oldpeak: 2.4</br>slope: 1.0</br>ca: 3.0</br>thal: 0.0</br>_original_yhat_: 0.9742528447623608</br>"
          ],
          [
           "</br>id: 158</br>prediction: 0.989</br>trestbps: 176.56</br></br>age: 70.0</br>sex: 1.0</br>cp: 3.0</br>chol: 322.0</br>fbs: 0.0</br>restecg: 2.0</br>thalach: 109.0</br>exang: 0.0</br>oldpeak: 2.4</br>slope: 1.0</br>ca: 3.0</br>thal: 0.0</br>_original_yhat_: 0.9742528447623608</br>"
          ],
          [
           "</br>id: 158</br>prediction: 0.989</br>trestbps: 177.42000000000002</br></br>age: 70.0</br>sex: 1.0</br>cp: 3.0</br>chol: 322.0</br>fbs: 0.0</br>restecg: 2.0</br>thalach: 109.0</br>exang: 0.0</br>oldpeak: 2.4</br>slope: 1.0</br>ca: 3.0</br>thal: 0.0</br>_original_yhat_: 0.9742528447623608</br>"
          ],
          [
           "</br>id: 158</br>prediction: 0.989</br>trestbps: 178.28</br></br>age: 70.0</br>sex: 1.0</br>cp: 3.0</br>chol: 322.0</br>fbs: 0.0</br>restecg: 2.0</br>thalach: 109.0</br>exang: 0.0</br>oldpeak: 2.4</br>slope: 1.0</br>ca: 3.0</br>thal: 0.0</br>_original_yhat_: 0.9742528447623608</br>"
          ],
          [
           "</br>id: 158</br>prediction: 0.99</br>trestbps: 179.14</br></br>age: 70.0</br>sex: 1.0</br>cp: 3.0</br>chol: 322.0</br>fbs: 0.0</br>restecg: 2.0</br>thalach: 109.0</br>exang: 0.0</br>oldpeak: 2.4</br>slope: 1.0</br>ca: 3.0</br>thal: 0.0</br>_original_yhat_: 0.9742528447623608</br>"
          ],
          [
           "</br>id: 158</br>prediction: 0.99</br>trestbps: 180.0</br></br>age: 70.0</br>sex: 1.0</br>cp: 3.0</br>chol: 322.0</br>fbs: 0.0</br>restecg: 2.0</br>thalach: 109.0</br>exang: 0.0</br>oldpeak: 2.4</br>slope: 1.0</br>ca: 3.0</br>thal: 0.0</br>_original_yhat_: 0.9742528447623608</br>"
          ]
         ],
         "hovertemplate": "%{customdata[0]}<extra></extra>",
         "legendgroup": "RandomizedSearchCV",
         "line": {
          "color": "#46bac2",
          "dash": "solid",
          "width": 2
         },
         "marker": {
          "symbol": "circle"
         },
         "mode": "lines",
         "name": "RandomizedSearchCV",
         "opacity": 1,
         "showlegend": false,
         "type": "scattergl",
         "x": [
          94,
          94.86,
          95.72,
          96.58,
          97.44,
          98.3,
          99.16,
          100.02,
          100.88,
          101.74,
          102.6,
          103.46,
          104.32,
          105.18,
          106.03999999999999,
          106.9,
          107.76,
          108.62,
          109.48,
          110.34,
          111.2,
          112.06,
          112.92,
          113.78,
          114.64,
          115.5,
          116.36,
          117.22,
          118.08,
          118.94,
          119.8,
          120.66,
          121.52,
          122.38,
          123.24,
          124.1,
          124.96000000000001,
          125.82,
          126.68,
          127.53999999999999,
          128.4,
          129.26,
          130,
          130.12,
          130.98,
          131.84,
          132.7,
          133.56,
          134.42000000000002,
          135.28,
          136.14,
          137,
          137.86,
          138.72,
          139.57999999999998,
          140.44,
          141.3,
          142.16,
          143.01999999999998,
          143.88,
          144.74,
          145.6,
          146.46,
          147.32,
          148.18,
          149.04,
          149.9,
          150.76,
          151.62,
          152.48,
          153.34,
          154.2,
          155.06,
          155.92000000000002,
          156.78,
          157.64,
          158.5,
          159.36,
          160.22,
          161.07999999999998,
          161.94,
          162.8,
          163.66,
          164.51999999999998,
          165.38,
          166.24,
          167.1,
          167.95999999999998,
          168.82,
          169.68,
          170.54,
          171.4,
          172.26,
          173.12,
          173.98000000000002,
          174.84,
          175.7,
          176.56,
          177.42000000000002,
          178.28,
          179.14,
          180
         ],
         "xaxis": "x12",
         "y": [
          0.9507140814129268,
          0.9514628247974737,
          0.9522007652906523,
          0.9529280414795009,
          0.9536447906973545,
          0.9543511490184439,
          0.9550472512531808,
          0.9557332309441011,
          0.9564092203624522,
          0.9570753505053984,
          0.9577317510938259,
          0.9583785505707283,
          0.9590158761001514,
          0.9596438535666791,
          0.9602626075754406,
          0.9608722614526213,
          0.961472937246459,
          0.9620647557287079,
          0.9626478363965512,
          0.9632222974749501,
          0.9637882559194055,
          0.9643458274191234,
          0.9648951264005632,
          0.9654362660313551,
          0.9659693582245723,
          0.9664945136433415,
          0.9670118417057795,
          0.9675214505902386,
          0.9680234472408517,
          0.9685179373733592,
          0.9690050254812076,
          0.969484814841906,
          0.9699574075236289,
          0.9704229043920524,
          0.9708814051174126,
          0.9713330081817766,
          0.9717778108865093,
          0.9722159093599351,
          0.9726473985651733,
          0.9730723723081455,
          0.9734909232457393,
          0.9739031428941247,
          0.9742528447623608,
          0.974309121637207,
          0.9747089487352136,
          0.9751027123334025,
          0.9754904994708841,
          0.9758723960895503,
          0.9762484870431012,
          0.9766188561061623,
          0.9769835859834842,
          0.9773427583192198,
          0.9776964537062686,
          0.9780447516956852,
          0.978387730806143,
          0.9787254685334476,
          0.9790580413600931,
          0.9793855247648587,
          0.9797079932324358,
          0.9800255202630819,
          0.9803381783822972,
          0.9806460391505183,
          0.9809491731728228,
          0.9812476501086422,
          0.9815415386814763,
          0.9818309066886091,
          0.9821158210108154,
          0.9823963476220617,
          0.9826725515991912,
          0.9829444971315937,
          0.9832122475308539,
          0.9834758652403776,
          0.983735411844989,
          0.9839909480805014,
          0.9842425338432506,
          0.9844902281995972,
          0.9847340893953886,
          0.9849741748653792,
          0.9852105412426106,
          0.985443244367743,
          0.9856723392983412,
          0.9858978803181102,
          0.9861199209460789,
          0.9863385139457312,
          0.9865537113340805,
          0.9867655643906879,
          0.9869741236666221,
          0.98717943899336,
          0.9873815594916239,
          0.9875805335801566,
          0.9877764089844351,
          0.9879692327453155,
          0.9881590512276134,
          0.9883459101286185,
          0.988529854486538,
          0.9887109286888741,
          0.9888891764807302,
          0.9890646409730459,
          0.989237364650763,
          0.9894073893809178,
          0.9895747564206623,
          0.9897395064252117
         ],
         "yaxis": "y12"
        },
        {
         "customdata": [
          [
           "</br>id: 158</br>prediction: 0.947</br>chol: 126.0</br></br>age: 70.0</br>sex: 1.0</br>cp: 3.0</br>trestbps: 130.0</br>fbs: 0.0</br>restecg: 2.0</br>thalach: 109.0</br>exang: 0.0</br>oldpeak: 2.4</br>slope: 1.0</br>ca: 3.0</br>thal: 0.0</br>_original_yhat_: 0.9742528447623608</br>"
          ],
          [
           "</br>id: 158</br>prediction: 0.948</br>chol: 130.38</br></br>age: 70.0</br>sex: 1.0</br>cp: 3.0</br>trestbps: 130.0</br>fbs: 0.0</br>restecg: 2.0</br>thalach: 109.0</br>exang: 0.0</br>oldpeak: 2.4</br>slope: 1.0</br>ca: 3.0</br>thal: 0.0</br>_original_yhat_: 0.9742528447623608</br>"
          ],
          [
           "</br>id: 158</br>prediction: 0.949</br>chol: 134.76</br></br>age: 70.0</br>sex: 1.0</br>cp: 3.0</br>trestbps: 130.0</br>fbs: 0.0</br>restecg: 2.0</br>thalach: 109.0</br>exang: 0.0</br>oldpeak: 2.4</br>slope: 1.0</br>ca: 3.0</br>thal: 0.0</br>_original_yhat_: 0.9742528447623608</br>"
          ],
          [
           "</br>id: 158</br>prediction: 0.95</br>chol: 139.14</br></br>age: 70.0</br>sex: 1.0</br>cp: 3.0</br>trestbps: 130.0</br>fbs: 0.0</br>restecg: 2.0</br>thalach: 109.0</br>exang: 0.0</br>oldpeak: 2.4</br>slope: 1.0</br>ca: 3.0</br>thal: 0.0</br>_original_yhat_: 0.9742528447623608</br>"
          ],
          [
           "</br>id: 158</br>prediction: 0.951</br>chol: 143.52</br></br>age: 70.0</br>sex: 1.0</br>cp: 3.0</br>trestbps: 130.0</br>fbs: 0.0</br>restecg: 2.0</br>thalach: 109.0</br>exang: 0.0</br>oldpeak: 2.4</br>slope: 1.0</br>ca: 3.0</br>thal: 0.0</br>_original_yhat_: 0.9742528447623608</br>"
          ],
          [
           "</br>id: 158</br>prediction: 0.951</br>chol: 147.9</br></br>age: 70.0</br>sex: 1.0</br>cp: 3.0</br>trestbps: 130.0</br>fbs: 0.0</br>restecg: 2.0</br>thalach: 109.0</br>exang: 0.0</br>oldpeak: 2.4</br>slope: 1.0</br>ca: 3.0</br>thal: 0.0</br>_original_yhat_: 0.9742528447623608</br>"
          ],
          [
           "</br>id: 158</br>prediction: 0.952</br>chol: 152.28</br></br>age: 70.0</br>sex: 1.0</br>cp: 3.0</br>trestbps: 130.0</br>fbs: 0.0</br>restecg: 2.0</br>thalach: 109.0</br>exang: 0.0</br>oldpeak: 2.4</br>slope: 1.0</br>ca: 3.0</br>thal: 0.0</br>_original_yhat_: 0.9742528447623608</br>"
          ],
          [
           "</br>id: 158</br>prediction: 0.953</br>chol: 156.66</br></br>age: 70.0</br>sex: 1.0</br>cp: 3.0</br>trestbps: 130.0</br>fbs: 0.0</br>restecg: 2.0</br>thalach: 109.0</br>exang: 0.0</br>oldpeak: 2.4</br>slope: 1.0</br>ca: 3.0</br>thal: 0.0</br>_original_yhat_: 0.9742528447623608</br>"
          ],
          [
           "</br>id: 158</br>prediction: 0.954</br>chol: 161.04</br></br>age: 70.0</br>sex: 1.0</br>cp: 3.0</br>trestbps: 130.0</br>fbs: 0.0</br>restecg: 2.0</br>thalach: 109.0</br>exang: 0.0</br>oldpeak: 2.4</br>slope: 1.0</br>ca: 3.0</br>thal: 0.0</br>_original_yhat_: 0.9742528447623608</br>"
          ],
          [
           "</br>id: 158</br>prediction: 0.954</br>chol: 165.42000000000002</br></br>age: 70.0</br>sex: 1.0</br>cp: 3.0</br>trestbps: 130.0</br>fbs: 0.0</br>restecg: 2.0</br>thalach: 109.0</br>exang: 0.0</br>oldpeak: 2.4</br>slope: 1.0</br>ca: 3.0</br>thal: 0.0</br>_original_yhat_: 0.9742528447623608</br>"
          ],
          [
           "</br>id: 158</br>prediction: 0.955</br>chol: 169.8</br></br>age: 70.0</br>sex: 1.0</br>cp: 3.0</br>trestbps: 130.0</br>fbs: 0.0</br>restecg: 2.0</br>thalach: 109.0</br>exang: 0.0</br>oldpeak: 2.4</br>slope: 1.0</br>ca: 3.0</br>thal: 0.0</br>_original_yhat_: 0.9742528447623608</br>"
          ],
          [
           "</br>id: 158</br>prediction: 0.956</br>chol: 174.18</br></br>age: 70.0</br>sex: 1.0</br>cp: 3.0</br>trestbps: 130.0</br>fbs: 0.0</br>restecg: 2.0</br>thalach: 109.0</br>exang: 0.0</br>oldpeak: 2.4</br>slope: 1.0</br>ca: 3.0</br>thal: 0.0</br>_original_yhat_: 0.9742528447623608</br>"
          ],
          [
           "</br>id: 158</br>prediction: 0.957</br>chol: 178.56</br></br>age: 70.0</br>sex: 1.0</br>cp: 3.0</br>trestbps: 130.0</br>fbs: 0.0</br>restecg: 2.0</br>thalach: 109.0</br>exang: 0.0</br>oldpeak: 2.4</br>slope: 1.0</br>ca: 3.0</br>thal: 0.0</br>_original_yhat_: 0.9742528447623608</br>"
          ],
          [
           "</br>id: 158</br>prediction: 0.957</br>chol: 182.94</br></br>age: 70.0</br>sex: 1.0</br>cp: 3.0</br>trestbps: 130.0</br>fbs: 0.0</br>restecg: 2.0</br>thalach: 109.0</br>exang: 0.0</br>oldpeak: 2.4</br>slope: 1.0</br>ca: 3.0</br>thal: 0.0</br>_original_yhat_: 0.9742528447623608</br>"
          ],
          [
           "</br>id: 158</br>prediction: 0.958</br>chol: 187.32</br></br>age: 70.0</br>sex: 1.0</br>cp: 3.0</br>trestbps: 130.0</br>fbs: 0.0</br>restecg: 2.0</br>thalach: 109.0</br>exang: 0.0</br>oldpeak: 2.4</br>slope: 1.0</br>ca: 3.0</br>thal: 0.0</br>_original_yhat_: 0.9742528447623608</br>"
          ],
          [
           "</br>id: 158</br>prediction: 0.959</br>chol: 191.7</br></br>age: 70.0</br>sex: 1.0</br>cp: 3.0</br>trestbps: 130.0</br>fbs: 0.0</br>restecg: 2.0</br>thalach: 109.0</br>exang: 0.0</br>oldpeak: 2.4</br>slope: 1.0</br>ca: 3.0</br>thal: 0.0</br>_original_yhat_: 0.9742528447623608</br>"
          ],
          [
           "</br>id: 158</br>prediction: 0.959</br>chol: 196.07999999999998</br></br>age: 70.0</br>sex: 1.0</br>cp: 3.0</br>trestbps: 130.0</br>fbs: 0.0</br>restecg: 2.0</br>thalach: 109.0</br>exang: 0.0</br>oldpeak: 2.4</br>slope: 1.0</br>ca: 3.0</br>thal: 0.0</br>_original_yhat_: 0.9742528447623608</br>"
          ],
          [
           "</br>id: 158</br>prediction: 0.96</br>chol: 200.45999999999998</br></br>age: 70.0</br>sex: 1.0</br>cp: 3.0</br>trestbps: 130.0</br>fbs: 0.0</br>restecg: 2.0</br>thalach: 109.0</br>exang: 0.0</br>oldpeak: 2.4</br>slope: 1.0</br>ca: 3.0</br>thal: 0.0</br>_original_yhat_: 0.9742528447623608</br>"
          ],
          [
           "</br>id: 158</br>prediction: 0.96</br>chol: 204.84</br></br>age: 70.0</br>sex: 1.0</br>cp: 3.0</br>trestbps: 130.0</br>fbs: 0.0</br>restecg: 2.0</br>thalach: 109.0</br>exang: 0.0</br>oldpeak: 2.4</br>slope: 1.0</br>ca: 3.0</br>thal: 0.0</br>_original_yhat_: 0.9742528447623608</br>"
          ],
          [
           "</br>id: 158</br>prediction: 0.961</br>chol: 209.22</br></br>age: 70.0</br>sex: 1.0</br>cp: 3.0</br>trestbps: 130.0</br>fbs: 0.0</br>restecg: 2.0</br>thalach: 109.0</br>exang: 0.0</br>oldpeak: 2.4</br>slope: 1.0</br>ca: 3.0</br>thal: 0.0</br>_original_yhat_: 0.9742528447623608</br>"
          ],
          [
           "</br>id: 158</br>prediction: 0.962</br>chol: 213.6</br></br>age: 70.0</br>sex: 1.0</br>cp: 3.0</br>trestbps: 130.0</br>fbs: 0.0</br>restecg: 2.0</br>thalach: 109.0</br>exang: 0.0</br>oldpeak: 2.4</br>slope: 1.0</br>ca: 3.0</br>thal: 0.0</br>_original_yhat_: 0.9742528447623608</br>"
          ],
          [
           "</br>id: 158</br>prediction: 0.962</br>chol: 217.98000000000002</br></br>age: 70.0</br>sex: 1.0</br>cp: 3.0</br>trestbps: 130.0</br>fbs: 0.0</br>restecg: 2.0</br>thalach: 109.0</br>exang: 0.0</br>oldpeak: 2.4</br>slope: 1.0</br>ca: 3.0</br>thal: 0.0</br>_original_yhat_: 0.9742528447623608</br>"
          ],
          [
           "</br>id: 158</br>prediction: 0.963</br>chol: 222.36</br></br>age: 70.0</br>sex: 1.0</br>cp: 3.0</br>trestbps: 130.0</br>fbs: 0.0</br>restecg: 2.0</br>thalach: 109.0</br>exang: 0.0</br>oldpeak: 2.4</br>slope: 1.0</br>ca: 3.0</br>thal: 0.0</br>_original_yhat_: 0.9742528447623608</br>"
          ],
          [
           "</br>id: 158</br>prediction: 0.963</br>chol: 226.74</br></br>age: 70.0</br>sex: 1.0</br>cp: 3.0</br>trestbps: 130.0</br>fbs: 0.0</br>restecg: 2.0</br>thalach: 109.0</br>exang: 0.0</br>oldpeak: 2.4</br>slope: 1.0</br>ca: 3.0</br>thal: 0.0</br>_original_yhat_: 0.9742528447623608</br>"
          ],
          [
           "</br>id: 158</br>prediction: 0.964</br>chol: 231.12</br></br>age: 70.0</br>sex: 1.0</br>cp: 3.0</br>trestbps: 130.0</br>fbs: 0.0</br>restecg: 2.0</br>thalach: 109.0</br>exang: 0.0</br>oldpeak: 2.4</br>slope: 1.0</br>ca: 3.0</br>thal: 0.0</br>_original_yhat_: 0.9742528447623608</br>"
          ],
          [
           "</br>id: 158</br>prediction: 0.965</br>chol: 235.5</br></br>age: 70.0</br>sex: 1.0</br>cp: 3.0</br>trestbps: 130.0</br>fbs: 0.0</br>restecg: 2.0</br>thalach: 109.0</br>exang: 0.0</br>oldpeak: 2.4</br>slope: 1.0</br>ca: 3.0</br>thal: 0.0</br>_original_yhat_: 0.9742528447623608</br>"
          ],
          [
           "</br>id: 158</br>prediction: 0.965</br>chol: 239.88</br></br>age: 70.0</br>sex: 1.0</br>cp: 3.0</br>trestbps: 130.0</br>fbs: 0.0</br>restecg: 2.0</br>thalach: 109.0</br>exang: 0.0</br>oldpeak: 2.4</br>slope: 1.0</br>ca: 3.0</br>thal: 0.0</br>_original_yhat_: 0.9742528447623608</br>"
          ],
          [
           "</br>id: 158</br>prediction: 0.966</br>chol: 244.26</br></br>age: 70.0</br>sex: 1.0</br>cp: 3.0</br>trestbps: 130.0</br>fbs: 0.0</br>restecg: 2.0</br>thalach: 109.0</br>exang: 0.0</br>oldpeak: 2.4</br>slope: 1.0</br>ca: 3.0</br>thal: 0.0</br>_original_yhat_: 0.9742528447623608</br>"
          ],
          [
           "</br>id: 158</br>prediction: 0.966</br>chol: 248.64</br></br>age: 70.0</br>sex: 1.0</br>cp: 3.0</br>trestbps: 130.0</br>fbs: 0.0</br>restecg: 2.0</br>thalach: 109.0</br>exang: 0.0</br>oldpeak: 2.4</br>slope: 1.0</br>ca: 3.0</br>thal: 0.0</br>_original_yhat_: 0.9742528447623608</br>"
          ],
          [
           "</br>id: 158</br>prediction: 0.967</br>chol: 253.01999999999998</br></br>age: 70.0</br>sex: 1.0</br>cp: 3.0</br>trestbps: 130.0</br>fbs: 0.0</br>restecg: 2.0</br>thalach: 109.0</br>exang: 0.0</br>oldpeak: 2.4</br>slope: 1.0</br>ca: 3.0</br>thal: 0.0</br>_original_yhat_: 0.9742528447623608</br>"
          ],
          [
           "</br>id: 158</br>prediction: 0.967</br>chol: 257.4</br></br>age: 70.0</br>sex: 1.0</br>cp: 3.0</br>trestbps: 130.0</br>fbs: 0.0</br>restecg: 2.0</br>thalach: 109.0</br>exang: 0.0</br>oldpeak: 2.4</br>slope: 1.0</br>ca: 3.0</br>thal: 0.0</br>_original_yhat_: 0.9742528447623608</br>"
          ],
          [
           "</br>id: 158</br>prediction: 0.968</br>chol: 261.78</br></br>age: 70.0</br>sex: 1.0</br>cp: 3.0</br>trestbps: 130.0</br>fbs: 0.0</br>restecg: 2.0</br>thalach: 109.0</br>exang: 0.0</br>oldpeak: 2.4</br>slope: 1.0</br>ca: 3.0</br>thal: 0.0</br>_original_yhat_: 0.9742528447623608</br>"
          ],
          [
           "</br>id: 158</br>prediction: 0.968</br>chol: 266.15999999999997</br></br>age: 70.0</br>sex: 1.0</br>cp: 3.0</br>trestbps: 130.0</br>fbs: 0.0</br>restecg: 2.0</br>thalach: 109.0</br>exang: 0.0</br>oldpeak: 2.4</br>slope: 1.0</br>ca: 3.0</br>thal: 0.0</br>_original_yhat_: 0.9742528447623608</br>"
          ],
          [
           "</br>id: 158</br>prediction: 0.969</br>chol: 270.53999999999996</br></br>age: 70.0</br>sex: 1.0</br>cp: 3.0</br>trestbps: 130.0</br>fbs: 0.0</br>restecg: 2.0</br>thalach: 109.0</br>exang: 0.0</br>oldpeak: 2.4</br>slope: 1.0</br>ca: 3.0</br>thal: 0.0</br>_original_yhat_: 0.9742528447623608</br>"
          ],
          [
           "</br>id: 158</br>prediction: 0.969</br>chol: 274.91999999999996</br></br>age: 70.0</br>sex: 1.0</br>cp: 3.0</br>trestbps: 130.0</br>fbs: 0.0</br>restecg: 2.0</br>thalach: 109.0</br>exang: 0.0</br>oldpeak: 2.4</br>slope: 1.0</br>ca: 3.0</br>thal: 0.0</br>_original_yhat_: 0.9742528447623608</br>"
          ],
          [
           "</br>id: 158</br>prediction: 0.97</br>chol: 279.29999999999995</br></br>age: 70.0</br>sex: 1.0</br>cp: 3.0</br>trestbps: 130.0</br>fbs: 0.0</br>restecg: 2.0</br>thalach: 109.0</br>exang: 0.0</br>oldpeak: 2.4</br>slope: 1.0</br>ca: 3.0</br>thal: 0.0</br>_original_yhat_: 0.9742528447623608</br>"
          ],
          [
           "</br>id: 158</br>prediction: 0.97</br>chol: 283.68</br></br>age: 70.0</br>sex: 1.0</br>cp: 3.0</br>trestbps: 130.0</br>fbs: 0.0</br>restecg: 2.0</br>thalach: 109.0</br>exang: 0.0</br>oldpeak: 2.4</br>slope: 1.0</br>ca: 3.0</br>thal: 0.0</br>_original_yhat_: 0.9742528447623608</br>"
          ],
          [
           "</br>id: 158</br>prediction: 0.971</br>chol: 288.06</br></br>age: 70.0</br>sex: 1.0</br>cp: 3.0</br>trestbps: 130.0</br>fbs: 0.0</br>restecg: 2.0</br>thalach: 109.0</br>exang: 0.0</br>oldpeak: 2.4</br>slope: 1.0</br>ca: 3.0</br>thal: 0.0</br>_original_yhat_: 0.9742528447623608</br>"
          ],
          [
           "</br>id: 158</br>prediction: 0.971</br>chol: 292.44</br></br>age: 70.0</br>sex: 1.0</br>cp: 3.0</br>trestbps: 130.0</br>fbs: 0.0</br>restecg: 2.0</br>thalach: 109.0</br>exang: 0.0</br>oldpeak: 2.4</br>slope: 1.0</br>ca: 3.0</br>thal: 0.0</br>_original_yhat_: 0.9742528447623608</br>"
          ],
          [
           "</br>id: 158</br>prediction: 0.972</br>chol: 296.82</br></br>age: 70.0</br>sex: 1.0</br>cp: 3.0</br>trestbps: 130.0</br>fbs: 0.0</br>restecg: 2.0</br>thalach: 109.0</br>exang: 0.0</br>oldpeak: 2.4</br>slope: 1.0</br>ca: 3.0</br>thal: 0.0</br>_original_yhat_: 0.9742528447623608</br>"
          ],
          [
           "</br>id: 158</br>prediction: 0.972</br>chol: 301.2</br></br>age: 70.0</br>sex: 1.0</br>cp: 3.0</br>trestbps: 130.0</br>fbs: 0.0</br>restecg: 2.0</br>thalach: 109.0</br>exang: 0.0</br>oldpeak: 2.4</br>slope: 1.0</br>ca: 3.0</br>thal: 0.0</br>_original_yhat_: 0.9742528447623608</br>"
          ],
          [
           "</br>id: 158</br>prediction: 0.973</br>chol: 305.58</br></br>age: 70.0</br>sex: 1.0</br>cp: 3.0</br>trestbps: 130.0</br>fbs: 0.0</br>restecg: 2.0</br>thalach: 109.0</br>exang: 0.0</br>oldpeak: 2.4</br>slope: 1.0</br>ca: 3.0</br>thal: 0.0</br>_original_yhat_: 0.9742528447623608</br>"
          ],
          [
           "</br>id: 158</br>prediction: 0.973</br>chol: 309.96000000000004</br></br>age: 70.0</br>sex: 1.0</br>cp: 3.0</br>trestbps: 130.0</br>fbs: 0.0</br>restecg: 2.0</br>thalach: 109.0</br>exang: 0.0</br>oldpeak: 2.4</br>slope: 1.0</br>ca: 3.0</br>thal: 0.0</br>_original_yhat_: 0.9742528447623608</br>"
          ],
          [
           "</br>id: 158</br>prediction: 0.974</br>chol: 314.34000000000003</br></br>age: 70.0</br>sex: 1.0</br>cp: 3.0</br>trestbps: 130.0</br>fbs: 0.0</br>restecg: 2.0</br>thalach: 109.0</br>exang: 0.0</br>oldpeak: 2.4</br>slope: 1.0</br>ca: 3.0</br>thal: 0.0</br>_original_yhat_: 0.9742528447623608</br>"
          ],
          [
           "</br>id: 158</br>prediction: 0.974</br>chol: 318.72</br></br>age: 70.0</br>sex: 1.0</br>cp: 3.0</br>trestbps: 130.0</br>fbs: 0.0</br>restecg: 2.0</br>thalach: 109.0</br>exang: 0.0</br>oldpeak: 2.4</br>slope: 1.0</br>ca: 3.0</br>thal: 0.0</br>_original_yhat_: 0.9742528447623608</br>"
          ],
          [
           "</br>id: 158</br>prediction: 0.974</br>chol: 322.0</br></br>age: 70.0</br>sex: 1.0</br>cp: 3.0</br>trestbps: 130.0</br>fbs: 0.0</br>restecg: 2.0</br>thalach: 109.0</br>exang: 0.0</br>oldpeak: 2.4</br>slope: 1.0</br>ca: 3.0</br>thal: 0.0</br>_original_yhat_: 0.9742528447623608</br>"
          ],
          [
           "</br>id: 158</br>prediction: 0.974</br>chol: 323.1</br></br>age: 70.0</br>sex: 1.0</br>cp: 3.0</br>trestbps: 130.0</br>fbs: 0.0</br>restecg: 2.0</br>thalach: 109.0</br>exang: 0.0</br>oldpeak: 2.4</br>slope: 1.0</br>ca: 3.0</br>thal: 0.0</br>_original_yhat_: 0.9742528447623608</br>"
          ],
          [
           "</br>id: 158</br>prediction: 0.975</br>chol: 327.48</br></br>age: 70.0</br>sex: 1.0</br>cp: 3.0</br>trestbps: 130.0</br>fbs: 0.0</br>restecg: 2.0</br>thalach: 109.0</br>exang: 0.0</br>oldpeak: 2.4</br>slope: 1.0</br>ca: 3.0</br>thal: 0.0</br>_original_yhat_: 0.9742528447623608</br>"
          ],
          [
           "</br>id: 158</br>prediction: 0.975</br>chol: 331.86</br></br>age: 70.0</br>sex: 1.0</br>cp: 3.0</br>trestbps: 130.0</br>fbs: 0.0</br>restecg: 2.0</br>thalach: 109.0</br>exang: 0.0</br>oldpeak: 2.4</br>slope: 1.0</br>ca: 3.0</br>thal: 0.0</br>_original_yhat_: 0.9742528447623608</br>"
          ],
          [
           "</br>id: 158</br>prediction: 0.976</br>chol: 336.24</br></br>age: 70.0</br>sex: 1.0</br>cp: 3.0</br>trestbps: 130.0</br>fbs: 0.0</br>restecg: 2.0</br>thalach: 109.0</br>exang: 0.0</br>oldpeak: 2.4</br>slope: 1.0</br>ca: 3.0</br>thal: 0.0</br>_original_yhat_: 0.9742528447623608</br>"
          ],
          [
           "</br>id: 158</br>prediction: 0.976</br>chol: 340.62</br></br>age: 70.0</br>sex: 1.0</br>cp: 3.0</br>trestbps: 130.0</br>fbs: 0.0</br>restecg: 2.0</br>thalach: 109.0</br>exang: 0.0</br>oldpeak: 2.4</br>slope: 1.0</br>ca: 3.0</br>thal: 0.0</br>_original_yhat_: 0.9742528447623608</br>"
          ],
          [
           "</br>id: 158</br>prediction: 0.976</br>chol: 345.0</br></br>age: 70.0</br>sex: 1.0</br>cp: 3.0</br>trestbps: 130.0</br>fbs: 0.0</br>restecg: 2.0</br>thalach: 109.0</br>exang: 0.0</br>oldpeak: 2.4</br>slope: 1.0</br>ca: 3.0</br>thal: 0.0</br>_original_yhat_: 0.9742528447623608</br>"
          ],
          [
           "</br>id: 158</br>prediction: 0.977</br>chol: 349.38</br></br>age: 70.0</br>sex: 1.0</br>cp: 3.0</br>trestbps: 130.0</br>fbs: 0.0</br>restecg: 2.0</br>thalach: 109.0</br>exang: 0.0</br>oldpeak: 2.4</br>slope: 1.0</br>ca: 3.0</br>thal: 0.0</br>_original_yhat_: 0.9742528447623608</br>"
          ],
          [
           "</br>id: 158</br>prediction: 0.977</br>chol: 353.76</br></br>age: 70.0</br>sex: 1.0</br>cp: 3.0</br>trestbps: 130.0</br>fbs: 0.0</br>restecg: 2.0</br>thalach: 109.0</br>exang: 0.0</br>oldpeak: 2.4</br>slope: 1.0</br>ca: 3.0</br>thal: 0.0</br>_original_yhat_: 0.9742528447623608</br>"
          ],
          [
           "</br>id: 158</br>prediction: 0.977</br>chol: 358.14</br></br>age: 70.0</br>sex: 1.0</br>cp: 3.0</br>trestbps: 130.0</br>fbs: 0.0</br>restecg: 2.0</br>thalach: 109.0</br>exang: 0.0</br>oldpeak: 2.4</br>slope: 1.0</br>ca: 3.0</br>thal: 0.0</br>_original_yhat_: 0.9742528447623608</br>"
          ],
          [
           "</br>id: 158</br>prediction: 0.978</br>chol: 362.52</br></br>age: 70.0</br>sex: 1.0</br>cp: 3.0</br>trestbps: 130.0</br>fbs: 0.0</br>restecg: 2.0</br>thalach: 109.0</br>exang: 0.0</br>oldpeak: 2.4</br>slope: 1.0</br>ca: 3.0</br>thal: 0.0</br>_original_yhat_: 0.9742528447623608</br>"
          ],
          [
           "</br>id: 158</br>prediction: 0.978</br>chol: 366.9</br></br>age: 70.0</br>sex: 1.0</br>cp: 3.0</br>trestbps: 130.0</br>fbs: 0.0</br>restecg: 2.0</br>thalach: 109.0</br>exang: 0.0</br>oldpeak: 2.4</br>slope: 1.0</br>ca: 3.0</br>thal: 0.0</br>_original_yhat_: 0.9742528447623608</br>"
          ],
          [
           "</br>id: 158</br>prediction: 0.979</br>chol: 371.28</br></br>age: 70.0</br>sex: 1.0</br>cp: 3.0</br>trestbps: 130.0</br>fbs: 0.0</br>restecg: 2.0</br>thalach: 109.0</br>exang: 0.0</br>oldpeak: 2.4</br>slope: 1.0</br>ca: 3.0</br>thal: 0.0</br>_original_yhat_: 0.9742528447623608</br>"
          ],
          [
           "</br>id: 158</br>prediction: 0.979</br>chol: 375.65999999999997</br></br>age: 70.0</br>sex: 1.0</br>cp: 3.0</br>trestbps: 130.0</br>fbs: 0.0</br>restecg: 2.0</br>thalach: 109.0</br>exang: 0.0</br>oldpeak: 2.4</br>slope: 1.0</br>ca: 3.0</br>thal: 0.0</br>_original_yhat_: 0.9742528447623608</br>"
          ],
          [
           "</br>id: 158</br>prediction: 0.979</br>chol: 380.03999999999996</br></br>age: 70.0</br>sex: 1.0</br>cp: 3.0</br>trestbps: 130.0</br>fbs: 0.0</br>restecg: 2.0</br>thalach: 109.0</br>exang: 0.0</br>oldpeak: 2.4</br>slope: 1.0</br>ca: 3.0</br>thal: 0.0</br>_original_yhat_: 0.9742528447623608</br>"
          ],
          [
           "</br>id: 158</br>prediction: 0.98</br>chol: 384.42</br></br>age: 70.0</br>sex: 1.0</br>cp: 3.0</br>trestbps: 130.0</br>fbs: 0.0</br>restecg: 2.0</br>thalach: 109.0</br>exang: 0.0</br>oldpeak: 2.4</br>slope: 1.0</br>ca: 3.0</br>thal: 0.0</br>_original_yhat_: 0.9742528447623608</br>"
          ],
          [
           "</br>id: 158</br>prediction: 0.98</br>chol: 388.8</br></br>age: 70.0</br>sex: 1.0</br>cp: 3.0</br>trestbps: 130.0</br>fbs: 0.0</br>restecg: 2.0</br>thalach: 109.0</br>exang: 0.0</br>oldpeak: 2.4</br>slope: 1.0</br>ca: 3.0</br>thal: 0.0</br>_original_yhat_: 0.9742528447623608</br>"
          ],
          [
           "</br>id: 158</br>prediction: 0.98</br>chol: 393.18</br></br>age: 70.0</br>sex: 1.0</br>cp: 3.0</br>trestbps: 130.0</br>fbs: 0.0</br>restecg: 2.0</br>thalach: 109.0</br>exang: 0.0</br>oldpeak: 2.4</br>slope: 1.0</br>ca: 3.0</br>thal: 0.0</br>_original_yhat_: 0.9742528447623608</br>"
          ],
          [
           "</br>id: 158</br>prediction: 0.981</br>chol: 397.56</br></br>age: 70.0</br>sex: 1.0</br>cp: 3.0</br>trestbps: 130.0</br>fbs: 0.0</br>restecg: 2.0</br>thalach: 109.0</br>exang: 0.0</br>oldpeak: 2.4</br>slope: 1.0</br>ca: 3.0</br>thal: 0.0</br>_original_yhat_: 0.9742528447623608</br>"
          ],
          [
           "</br>id: 158</br>prediction: 0.981</br>chol: 401.94</br></br>age: 70.0</br>sex: 1.0</br>cp: 3.0</br>trestbps: 130.0</br>fbs: 0.0</br>restecg: 2.0</br>thalach: 109.0</br>exang: 0.0</br>oldpeak: 2.4</br>slope: 1.0</br>ca: 3.0</br>thal: 0.0</br>_original_yhat_: 0.9742528447623608</br>"
          ],
          [
           "</br>id: 158</br>prediction: 0.981</br>chol: 406.32</br></br>age: 70.0</br>sex: 1.0</br>cp: 3.0</br>trestbps: 130.0</br>fbs: 0.0</br>restecg: 2.0</br>thalach: 109.0</br>exang: 0.0</br>oldpeak: 2.4</br>slope: 1.0</br>ca: 3.0</br>thal: 0.0</br>_original_yhat_: 0.9742528447623608</br>"
          ],
          [
           "</br>id: 158</br>prediction: 0.981</br>chol: 410.7</br></br>age: 70.0</br>sex: 1.0</br>cp: 3.0</br>trestbps: 130.0</br>fbs: 0.0</br>restecg: 2.0</br>thalach: 109.0</br>exang: 0.0</br>oldpeak: 2.4</br>slope: 1.0</br>ca: 3.0</br>thal: 0.0</br>_original_yhat_: 0.9742528447623608</br>"
          ],
          [
           "</br>id: 158</br>prediction: 0.982</br>chol: 415.08</br></br>age: 70.0</br>sex: 1.0</br>cp: 3.0</br>trestbps: 130.0</br>fbs: 0.0</br>restecg: 2.0</br>thalach: 109.0</br>exang: 0.0</br>oldpeak: 2.4</br>slope: 1.0</br>ca: 3.0</br>thal: 0.0</br>_original_yhat_: 0.9742528447623608</br>"
          ],
          [
           "</br>id: 158</br>prediction: 0.982</br>chol: 419.46</br></br>age: 70.0</br>sex: 1.0</br>cp: 3.0</br>trestbps: 130.0</br>fbs: 0.0</br>restecg: 2.0</br>thalach: 109.0</br>exang: 0.0</br>oldpeak: 2.4</br>slope: 1.0</br>ca: 3.0</br>thal: 0.0</br>_original_yhat_: 0.9742528447623608</br>"
          ],
          [
           "</br>id: 158</br>prediction: 0.982</br>chol: 423.84</br></br>age: 70.0</br>sex: 1.0</br>cp: 3.0</br>trestbps: 130.0</br>fbs: 0.0</br>restecg: 2.0</br>thalach: 109.0</br>exang: 0.0</br>oldpeak: 2.4</br>slope: 1.0</br>ca: 3.0</br>thal: 0.0</br>_original_yhat_: 0.9742528447623608</br>"
          ],
          [
           "</br>id: 158</br>prediction: 0.983</br>chol: 428.21999999999997</br></br>age: 70.0</br>sex: 1.0</br>cp: 3.0</br>trestbps: 130.0</br>fbs: 0.0</br>restecg: 2.0</br>thalach: 109.0</br>exang: 0.0</br>oldpeak: 2.4</br>slope: 1.0</br>ca: 3.0</br>thal: 0.0</br>_original_yhat_: 0.9742528447623608</br>"
          ],
          [
           "</br>id: 158</br>prediction: 0.983</br>chol: 432.59999999999997</br></br>age: 70.0</br>sex: 1.0</br>cp: 3.0</br>trestbps: 130.0</br>fbs: 0.0</br>restecg: 2.0</br>thalach: 109.0</br>exang: 0.0</br>oldpeak: 2.4</br>slope: 1.0</br>ca: 3.0</br>thal: 0.0</br>_original_yhat_: 0.9742528447623608</br>"
          ],
          [
           "</br>id: 158</br>prediction: 0.983</br>chol: 436.98</br></br>age: 70.0</br>sex: 1.0</br>cp: 3.0</br>trestbps: 130.0</br>fbs: 0.0</br>restecg: 2.0</br>thalach: 109.0</br>exang: 0.0</br>oldpeak: 2.4</br>slope: 1.0</br>ca: 3.0</br>thal: 0.0</br>_original_yhat_: 0.9742528447623608</br>"
          ],
          [
           "</br>id: 158</br>prediction: 0.983</br>chol: 441.36</br></br>age: 70.0</br>sex: 1.0</br>cp: 3.0</br>trestbps: 130.0</br>fbs: 0.0</br>restecg: 2.0</br>thalach: 109.0</br>exang: 0.0</br>oldpeak: 2.4</br>slope: 1.0</br>ca: 3.0</br>thal: 0.0</br>_original_yhat_: 0.9742528447623608</br>"
          ],
          [
           "</br>id: 158</br>prediction: 0.984</br>chol: 445.74</br></br>age: 70.0</br>sex: 1.0</br>cp: 3.0</br>trestbps: 130.0</br>fbs: 0.0</br>restecg: 2.0</br>thalach: 109.0</br>exang: 0.0</br>oldpeak: 2.4</br>slope: 1.0</br>ca: 3.0</br>thal: 0.0</br>_original_yhat_: 0.9742528447623608</br>"
          ],
          [
           "</br>id: 158</br>prediction: 0.984</br>chol: 450.12</br></br>age: 70.0</br>sex: 1.0</br>cp: 3.0</br>trestbps: 130.0</br>fbs: 0.0</br>restecg: 2.0</br>thalach: 109.0</br>exang: 0.0</br>oldpeak: 2.4</br>slope: 1.0</br>ca: 3.0</br>thal: 0.0</br>_original_yhat_: 0.9742528447623608</br>"
          ],
          [
           "</br>id: 158</br>prediction: 0.984</br>chol: 454.5</br></br>age: 70.0</br>sex: 1.0</br>cp: 3.0</br>trestbps: 130.0</br>fbs: 0.0</br>restecg: 2.0</br>thalach: 109.0</br>exang: 0.0</br>oldpeak: 2.4</br>slope: 1.0</br>ca: 3.0</br>thal: 0.0</br>_original_yhat_: 0.9742528447623608</br>"
          ],
          [
           "</br>id: 158</br>prediction: 0.984</br>chol: 458.88</br></br>age: 70.0</br>sex: 1.0</br>cp: 3.0</br>trestbps: 130.0</br>fbs: 0.0</br>restecg: 2.0</br>thalach: 109.0</br>exang: 0.0</br>oldpeak: 2.4</br>slope: 1.0</br>ca: 3.0</br>thal: 0.0</br>_original_yhat_: 0.9742528447623608</br>"
          ],
          [
           "</br>id: 158</br>prediction: 0.985</br>chol: 463.26</br></br>age: 70.0</br>sex: 1.0</br>cp: 3.0</br>trestbps: 130.0</br>fbs: 0.0</br>restecg: 2.0</br>thalach: 109.0</br>exang: 0.0</br>oldpeak: 2.4</br>slope: 1.0</br>ca: 3.0</br>thal: 0.0</br>_original_yhat_: 0.9742528447623608</br>"
          ],
          [
           "</br>id: 158</br>prediction: 0.985</br>chol: 467.64</br></br>age: 70.0</br>sex: 1.0</br>cp: 3.0</br>trestbps: 130.0</br>fbs: 0.0</br>restecg: 2.0</br>thalach: 109.0</br>exang: 0.0</br>oldpeak: 2.4</br>slope: 1.0</br>ca: 3.0</br>thal: 0.0</br>_original_yhat_: 0.9742528447623608</br>"
          ],
          [
           "</br>id: 158</br>prediction: 0.985</br>chol: 472.02</br></br>age: 70.0</br>sex: 1.0</br>cp: 3.0</br>trestbps: 130.0</br>fbs: 0.0</br>restecg: 2.0</br>thalach: 109.0</br>exang: 0.0</br>oldpeak: 2.4</br>slope: 1.0</br>ca: 3.0</br>thal: 0.0</br>_original_yhat_: 0.9742528447623608</br>"
          ],
          [
           "</br>id: 158</br>prediction: 0.985</br>chol: 476.4</br></br>age: 70.0</br>sex: 1.0</br>cp: 3.0</br>trestbps: 130.0</br>fbs: 0.0</br>restecg: 2.0</br>thalach: 109.0</br>exang: 0.0</br>oldpeak: 2.4</br>slope: 1.0</br>ca: 3.0</br>thal: 0.0</br>_original_yhat_: 0.9742528447623608</br>"
          ],
          [
           "</br>id: 158</br>prediction: 0.986</br>chol: 480.78</br></br>age: 70.0</br>sex: 1.0</br>cp: 3.0</br>trestbps: 130.0</br>fbs: 0.0</br>restecg: 2.0</br>thalach: 109.0</br>exang: 0.0</br>oldpeak: 2.4</br>slope: 1.0</br>ca: 3.0</br>thal: 0.0</br>_original_yhat_: 0.9742528447623608</br>"
          ],
          [
           "</br>id: 158</br>prediction: 0.986</br>chol: 485.15999999999997</br></br>age: 70.0</br>sex: 1.0</br>cp: 3.0</br>trestbps: 130.0</br>fbs: 0.0</br>restecg: 2.0</br>thalach: 109.0</br>exang: 0.0</br>oldpeak: 2.4</br>slope: 1.0</br>ca: 3.0</br>thal: 0.0</br>_original_yhat_: 0.9742528447623608</br>"
          ],
          [
           "</br>id: 158</br>prediction: 0.986</br>chol: 489.53999999999996</br></br>age: 70.0</br>sex: 1.0</br>cp: 3.0</br>trestbps: 130.0</br>fbs: 0.0</br>restecg: 2.0</br>thalach: 109.0</br>exang: 0.0</br>oldpeak: 2.4</br>slope: 1.0</br>ca: 3.0</br>thal: 0.0</br>_original_yhat_: 0.9742528447623608</br>"
          ],
          [
           "</br>id: 158</br>prediction: 0.986</br>chol: 493.92</br></br>age: 70.0</br>sex: 1.0</br>cp: 3.0</br>trestbps: 130.0</br>fbs: 0.0</br>restecg: 2.0</br>thalach: 109.0</br>exang: 0.0</br>oldpeak: 2.4</br>slope: 1.0</br>ca: 3.0</br>thal: 0.0</br>_original_yhat_: 0.9742528447623608</br>"
          ],
          [
           "</br>id: 158</br>prediction: 0.987</br>chol: 498.3</br></br>age: 70.0</br>sex: 1.0</br>cp: 3.0</br>trestbps: 130.0</br>fbs: 0.0</br>restecg: 2.0</br>thalach: 109.0</br>exang: 0.0</br>oldpeak: 2.4</br>slope: 1.0</br>ca: 3.0</br>thal: 0.0</br>_original_yhat_: 0.9742528447623608</br>"
          ],
          [
           "</br>id: 158</br>prediction: 0.987</br>chol: 502.68</br></br>age: 70.0</br>sex: 1.0</br>cp: 3.0</br>trestbps: 130.0</br>fbs: 0.0</br>restecg: 2.0</br>thalach: 109.0</br>exang: 0.0</br>oldpeak: 2.4</br>slope: 1.0</br>ca: 3.0</br>thal: 0.0</br>_original_yhat_: 0.9742528447623608</br>"
          ],
          [
           "</br>id: 158</br>prediction: 0.987</br>chol: 507.06</br></br>age: 70.0</br>sex: 1.0</br>cp: 3.0</br>trestbps: 130.0</br>fbs: 0.0</br>restecg: 2.0</br>thalach: 109.0</br>exang: 0.0</br>oldpeak: 2.4</br>slope: 1.0</br>ca: 3.0</br>thal: 0.0</br>_original_yhat_: 0.9742528447623608</br>"
          ],
          [
           "</br>id: 158</br>prediction: 0.987</br>chol: 511.44</br></br>age: 70.0</br>sex: 1.0</br>cp: 3.0</br>trestbps: 130.0</br>fbs: 0.0</br>restecg: 2.0</br>thalach: 109.0</br>exang: 0.0</br>oldpeak: 2.4</br>slope: 1.0</br>ca: 3.0</br>thal: 0.0</br>_original_yhat_: 0.9742528447623608</br>"
          ],
          [
           "</br>id: 158</br>prediction: 0.987</br>chol: 515.8199999999999</br></br>age: 70.0</br>sex: 1.0</br>cp: 3.0</br>trestbps: 130.0</br>fbs: 0.0</br>restecg: 2.0</br>thalach: 109.0</br>exang: 0.0</br>oldpeak: 2.4</br>slope: 1.0</br>ca: 3.0</br>thal: 0.0</br>_original_yhat_: 0.9742528447623608</br>"
          ],
          [
           "</br>id: 158</br>prediction: 0.988</br>chol: 520.2</br></br>age: 70.0</br>sex: 1.0</br>cp: 3.0</br>trestbps: 130.0</br>fbs: 0.0</br>restecg: 2.0</br>thalach: 109.0</br>exang: 0.0</br>oldpeak: 2.4</br>slope: 1.0</br>ca: 3.0</br>thal: 0.0</br>_original_yhat_: 0.9742528447623608</br>"
          ],
          [
           "</br>id: 158</br>prediction: 0.988</br>chol: 524.5799999999999</br></br>age: 70.0</br>sex: 1.0</br>cp: 3.0</br>trestbps: 130.0</br>fbs: 0.0</br>restecg: 2.0</br>thalach: 109.0</br>exang: 0.0</br>oldpeak: 2.4</br>slope: 1.0</br>ca: 3.0</br>thal: 0.0</br>_original_yhat_: 0.9742528447623608</br>"
          ],
          [
           "</br>id: 158</br>prediction: 0.988</br>chol: 528.96</br></br>age: 70.0</br>sex: 1.0</br>cp: 3.0</br>trestbps: 130.0</br>fbs: 0.0</br>restecg: 2.0</br>thalach: 109.0</br>exang: 0.0</br>oldpeak: 2.4</br>slope: 1.0</br>ca: 3.0</br>thal: 0.0</br>_original_yhat_: 0.9742528447623608</br>"
          ],
          [
           "</br>id: 158</br>prediction: 0.988</br>chol: 533.3399999999999</br></br>age: 70.0</br>sex: 1.0</br>cp: 3.0</br>trestbps: 130.0</br>fbs: 0.0</br>restecg: 2.0</br>thalach: 109.0</br>exang: 0.0</br>oldpeak: 2.4</br>slope: 1.0</br>ca: 3.0</br>thal: 0.0</br>_original_yhat_: 0.9742528447623608</br>"
          ],
          [
           "</br>id: 158</br>prediction: 0.988</br>chol: 537.72</br></br>age: 70.0</br>sex: 1.0</br>cp: 3.0</br>trestbps: 130.0</br>fbs: 0.0</br>restecg: 2.0</br>thalach: 109.0</br>exang: 0.0</br>oldpeak: 2.4</br>slope: 1.0</br>ca: 3.0</br>thal: 0.0</br>_original_yhat_: 0.9742528447623608</br>"
          ],
          [
           "</br>id: 158</br>prediction: 0.989</br>chol: 542.0999999999999</br></br>age: 70.0</br>sex: 1.0</br>cp: 3.0</br>trestbps: 130.0</br>fbs: 0.0</br>restecg: 2.0</br>thalach: 109.0</br>exang: 0.0</br>oldpeak: 2.4</br>slope: 1.0</br>ca: 3.0</br>thal: 0.0</br>_original_yhat_: 0.9742528447623608</br>"
          ],
          [
           "</br>id: 158</br>prediction: 0.989</br>chol: 546.48</br></br>age: 70.0</br>sex: 1.0</br>cp: 3.0</br>trestbps: 130.0</br>fbs: 0.0</br>restecg: 2.0</br>thalach: 109.0</br>exang: 0.0</br>oldpeak: 2.4</br>slope: 1.0</br>ca: 3.0</br>thal: 0.0</br>_original_yhat_: 0.9742528447623608</br>"
          ],
          [
           "</br>id: 158</br>prediction: 0.989</br>chol: 550.86</br></br>age: 70.0</br>sex: 1.0</br>cp: 3.0</br>trestbps: 130.0</br>fbs: 0.0</br>restecg: 2.0</br>thalach: 109.0</br>exang: 0.0</br>oldpeak: 2.4</br>slope: 1.0</br>ca: 3.0</br>thal: 0.0</br>_original_yhat_: 0.9742528447623608</br>"
          ],
          [
           "</br>id: 158</br>prediction: 0.989</br>chol: 555.24</br></br>age: 70.0</br>sex: 1.0</br>cp: 3.0</br>trestbps: 130.0</br>fbs: 0.0</br>restecg: 2.0</br>thalach: 109.0</br>exang: 0.0</br>oldpeak: 2.4</br>slope: 1.0</br>ca: 3.0</br>thal: 0.0</br>_original_yhat_: 0.9742528447623608</br>"
          ],
          [
           "</br>id: 158</br>prediction: 0.989</br>chol: 559.62</br></br>age: 70.0</br>sex: 1.0</br>cp: 3.0</br>trestbps: 130.0</br>fbs: 0.0</br>restecg: 2.0</br>thalach: 109.0</br>exang: 0.0</br>oldpeak: 2.4</br>slope: 1.0</br>ca: 3.0</br>thal: 0.0</br>_original_yhat_: 0.9742528447623608</br>"
          ],
          [
           "</br>id: 158</br>prediction: 0.99</br>chol: 564.0</br></br>age: 70.0</br>sex: 1.0</br>cp: 3.0</br>trestbps: 130.0</br>fbs: 0.0</br>restecg: 2.0</br>thalach: 109.0</br>exang: 0.0</br>oldpeak: 2.4</br>slope: 1.0</br>ca: 3.0</br>thal: 0.0</br>_original_yhat_: 0.9742528447623608</br>"
          ]
         ],
         "hovertemplate": "%{customdata[0]}<extra></extra>",
         "legendgroup": "RandomizedSearchCV",
         "line": {
          "color": "#46bac2",
          "dash": "solid",
          "width": 2
         },
         "marker": {
          "symbol": "circle"
         },
         "mode": "lines",
         "name": "RandomizedSearchCV",
         "opacity": 1,
         "showlegend": false,
         "type": "scattergl",
         "x": [
          126,
          130.38,
          134.76,
          139.14,
          143.52,
          147.9,
          152.28,
          156.66,
          161.04,
          165.42000000000002,
          169.8,
          174.18,
          178.56,
          182.94,
          187.32,
          191.7,
          196.07999999999998,
          200.45999999999998,
          204.84,
          209.22,
          213.6,
          217.98000000000002,
          222.36,
          226.74,
          231.12,
          235.5,
          239.88,
          244.26,
          248.64,
          253.01999999999998,
          257.4,
          261.78,
          266.15999999999997,
          270.53999999999996,
          274.91999999999996,
          279.29999999999995,
          283.68,
          288.06,
          292.44,
          296.82,
          301.2,
          305.58,
          309.96000000000004,
          314.34000000000003,
          318.72,
          322,
          323.1,
          327.48,
          331.86,
          336.24,
          340.62,
          345,
          349.38,
          353.76,
          358.14,
          362.52,
          366.9,
          371.28,
          375.65999999999997,
          380.03999999999996,
          384.42,
          388.8,
          393.18,
          397.56,
          401.94,
          406.32,
          410.7,
          415.08,
          419.46,
          423.84,
          428.21999999999997,
          432.59999999999997,
          436.98,
          441.36,
          445.74,
          450.12,
          454.5,
          458.88,
          463.26,
          467.64,
          472.02,
          476.4,
          480.78,
          485.15999999999997,
          489.53999999999996,
          493.92,
          498.3,
          502.68,
          507.06,
          511.44,
          515.8199999999999,
          520.2,
          524.5799999999999,
          528.96,
          533.3399999999999,
          537.72,
          542.0999999999999,
          546.48,
          550.86,
          555.24,
          559.62,
          564
         ],
         "xaxis": "x9",
         "y": [
          0.9474611469542503,
          0.948279477001194,
          0.9490857459178812,
          0.9498801102543705,
          0.9506627251890305,
          0.951433744518803,
          0.9521933206503842,
          0.9529416045922979,
          0.9536787459478335,
          0.9544048929088208,
          0.9551201922502158,
          0.9558247893254702,
          0.9565188280626586,
          0.957202450961342,
          0.9578757990901352,
          0.9585390120849612,
          0.9591922281479657,
          0.9598355840470665,
          0.9604692151161182,
          0.961093255255668,
          0.96170783693428,
          0.9623130911904085,
          0.9629091476347975,
          0.9634961344533858,
          0.9640741784107011,
          0.964643404853716,
          0.9652039377161573,
          0.9657558995232384,
          0.9662994113968068,
          0.9668345930608816,
          0.967361562847568,
          0.9678804377033301,
          0.9683913331956056,
          0.9688943635197468,
          0.9693896415062728,
          0.9698772786284171,
          0.9703573850099549,
          0.9708300694332992,
          0.9712954393478461,
          0.9717536008785633,
          0.9722046588348009,
          0.9726487167193172,
          0.9730858767375057,
          0.9735162398068099,
          0.9739399055663156,
          0.9742528447623608,
          0.9743569723865099,
          0.9747675373791943,
          0.9751716964075435,
          0.9755695440962971,
          0.9759611738420771,
          0.9763466778238195,
          0.9767261470133105,
          0.9770996711858221,
          0.9774673389308326,
          0.9778292376628287,
          0.9781854536321786,
          0.9785360719360685,
          0.9788811765294962,
          0.9792208502363131,
          0.9795551747603091,
          0.9798842306963318,
          0.9802080975414356,
          0.9805268537060534,
          0.9808405765251843,
          0.9811493422695934,
          0.9814532261570166,
          0.9817523023633652,
          0.9820466440339267,
          0.9823363232945546,
          0.9826214112628443,
          0.9829019780592906,
          0.9831780928184212,
          0.9834498236999036,
          0.98371723789962,
          0.9839804016607073,
          0.9842393802845606,
          0.9844942381417906,
          0.9847450386831406,
          0.9849918444503516,
          0.9852347170869773,
          0.9854737173491467,
          0.9857089051162661,
          0.9859403394016671,
          0.986168078363188,
          0.9863921793136944,
          0.9866126987315337,
          0.9868296922709193,
          0.9870432147722483,
          0.9872533202723444,
          0.9874600620146289,
          0.9876634924592178,
          0.98786366329294,
          0.9880606254392793,
          0.9882544290682386,
          0.9884451236061201,
          0.9886327577452289,
          0.9888173794534899,
          0.9889990359839849,
          0.9891777738844032,
          0.9893536390064095,
          0.9895266765149231
         ],
         "yaxis": "y9"
        },
        {
         "customdata": [
          [
           "</br>id: 158</br>prediction: 0.974</br>fbs: 0.0</br></br>age: 70.0</br>sex: 1.0</br>cp: 3.0</br>trestbps: 130.0</br>chol: 322.0</br>restecg: 2.0</br>thalach: 109.0</br>exang: 0.0</br>oldpeak: 2.4</br>slope: 1.0</br>ca: 3.0</br>thal: 0.0</br>_original_yhat_: 0.9742528447623608</br>"
          ],
          [
           "</br>id: 158</br>prediction: 0.974</br>fbs: 0.01</br></br>age: 70.0</br>sex: 1.0</br>cp: 3.0</br>trestbps: 130.0</br>chol: 322.0</br>restecg: 2.0</br>thalach: 109.0</br>exang: 0.0</br>oldpeak: 2.4</br>slope: 1.0</br>ca: 3.0</br>thal: 0.0</br>_original_yhat_: 0.9742528447623608</br>"
          ],
          [
           "</br>id: 158</br>prediction: 0.974</br>fbs: 0.02</br></br>age: 70.0</br>sex: 1.0</br>cp: 3.0</br>trestbps: 130.0</br>chol: 322.0</br>restecg: 2.0</br>thalach: 109.0</br>exang: 0.0</br>oldpeak: 2.4</br>slope: 1.0</br>ca: 3.0</br>thal: 0.0</br>_original_yhat_: 0.9742528447623608</br>"
          ],
          [
           "</br>id: 158</br>prediction: 0.974</br>fbs: 0.03</br></br>age: 70.0</br>sex: 1.0</br>cp: 3.0</br>trestbps: 130.0</br>chol: 322.0</br>restecg: 2.0</br>thalach: 109.0</br>exang: 0.0</br>oldpeak: 2.4</br>slope: 1.0</br>ca: 3.0</br>thal: 0.0</br>_original_yhat_: 0.9742528447623608</br>"
          ],
          [
           "</br>id: 158</br>prediction: 0.974</br>fbs: 0.04</br></br>age: 70.0</br>sex: 1.0</br>cp: 3.0</br>trestbps: 130.0</br>chol: 322.0</br>restecg: 2.0</br>thalach: 109.0</br>exang: 0.0</br>oldpeak: 2.4</br>slope: 1.0</br>ca: 3.0</br>thal: 0.0</br>_original_yhat_: 0.9742528447623608</br>"
          ],
          [
           "</br>id: 158</br>prediction: 0.974</br>fbs: 0.05</br></br>age: 70.0</br>sex: 1.0</br>cp: 3.0</br>trestbps: 130.0</br>chol: 322.0</br>restecg: 2.0</br>thalach: 109.0</br>exang: 0.0</br>oldpeak: 2.4</br>slope: 1.0</br>ca: 3.0</br>thal: 0.0</br>_original_yhat_: 0.9742528447623608</br>"
          ],
          [
           "</br>id: 158</br>prediction: 0.974</br>fbs: 0.06</br></br>age: 70.0</br>sex: 1.0</br>cp: 3.0</br>trestbps: 130.0</br>chol: 322.0</br>restecg: 2.0</br>thalach: 109.0</br>exang: 0.0</br>oldpeak: 2.4</br>slope: 1.0</br>ca: 3.0</br>thal: 0.0</br>_original_yhat_: 0.9742528447623608</br>"
          ],
          [
           "</br>id: 158</br>prediction: 0.974</br>fbs: 0.07</br></br>age: 70.0</br>sex: 1.0</br>cp: 3.0</br>trestbps: 130.0</br>chol: 322.0</br>restecg: 2.0</br>thalach: 109.0</br>exang: 0.0</br>oldpeak: 2.4</br>slope: 1.0</br>ca: 3.0</br>thal: 0.0</br>_original_yhat_: 0.9742528447623608</br>"
          ],
          [
           "</br>id: 158</br>prediction: 0.974</br>fbs: 0.08</br></br>age: 70.0</br>sex: 1.0</br>cp: 3.0</br>trestbps: 130.0</br>chol: 322.0</br>restecg: 2.0</br>thalach: 109.0</br>exang: 0.0</br>oldpeak: 2.4</br>slope: 1.0</br>ca: 3.0</br>thal: 0.0</br>_original_yhat_: 0.9742528447623608</br>"
          ],
          [
           "</br>id: 158</br>prediction: 0.974</br>fbs: 0.09</br></br>age: 70.0</br>sex: 1.0</br>cp: 3.0</br>trestbps: 130.0</br>chol: 322.0</br>restecg: 2.0</br>thalach: 109.0</br>exang: 0.0</br>oldpeak: 2.4</br>slope: 1.0</br>ca: 3.0</br>thal: 0.0</br>_original_yhat_: 0.9742528447623608</br>"
          ],
          [
           "</br>id: 158</br>prediction: 0.974</br>fbs: 0.1</br></br>age: 70.0</br>sex: 1.0</br>cp: 3.0</br>trestbps: 130.0</br>chol: 322.0</br>restecg: 2.0</br>thalach: 109.0</br>exang: 0.0</br>oldpeak: 2.4</br>slope: 1.0</br>ca: 3.0</br>thal: 0.0</br>_original_yhat_: 0.9742528447623608</br>"
          ],
          [
           "</br>id: 158</br>prediction: 0.974</br>fbs: 0.11</br></br>age: 70.0</br>sex: 1.0</br>cp: 3.0</br>trestbps: 130.0</br>chol: 322.0</br>restecg: 2.0</br>thalach: 109.0</br>exang: 0.0</br>oldpeak: 2.4</br>slope: 1.0</br>ca: 3.0</br>thal: 0.0</br>_original_yhat_: 0.9742528447623608</br>"
          ],
          [
           "</br>id: 158</br>prediction: 0.974</br>fbs: 0.12</br></br>age: 70.0</br>sex: 1.0</br>cp: 3.0</br>trestbps: 130.0</br>chol: 322.0</br>restecg: 2.0</br>thalach: 109.0</br>exang: 0.0</br>oldpeak: 2.4</br>slope: 1.0</br>ca: 3.0</br>thal: 0.0</br>_original_yhat_: 0.9742528447623608</br>"
          ],
          [
           "</br>id: 158</br>prediction: 0.974</br>fbs: 0.13</br></br>age: 70.0</br>sex: 1.0</br>cp: 3.0</br>trestbps: 130.0</br>chol: 322.0</br>restecg: 2.0</br>thalach: 109.0</br>exang: 0.0</br>oldpeak: 2.4</br>slope: 1.0</br>ca: 3.0</br>thal: 0.0</br>_original_yhat_: 0.9742528447623608</br>"
          ],
          [
           "</br>id: 158</br>prediction: 0.974</br>fbs: 0.14</br></br>age: 70.0</br>sex: 1.0</br>cp: 3.0</br>trestbps: 130.0</br>chol: 322.0</br>restecg: 2.0</br>thalach: 109.0</br>exang: 0.0</br>oldpeak: 2.4</br>slope: 1.0</br>ca: 3.0</br>thal: 0.0</br>_original_yhat_: 0.9742528447623608</br>"
          ],
          [
           "</br>id: 158</br>prediction: 0.974</br>fbs: 0.15</br></br>age: 70.0</br>sex: 1.0</br>cp: 3.0</br>trestbps: 130.0</br>chol: 322.0</br>restecg: 2.0</br>thalach: 109.0</br>exang: 0.0</br>oldpeak: 2.4</br>slope: 1.0</br>ca: 3.0</br>thal: 0.0</br>_original_yhat_: 0.9742528447623608</br>"
          ],
          [
           "</br>id: 158</br>prediction: 0.974</br>fbs: 0.16</br></br>age: 70.0</br>sex: 1.0</br>cp: 3.0</br>trestbps: 130.0</br>chol: 322.0</br>restecg: 2.0</br>thalach: 109.0</br>exang: 0.0</br>oldpeak: 2.4</br>slope: 1.0</br>ca: 3.0</br>thal: 0.0</br>_original_yhat_: 0.9742528447623608</br>"
          ],
          [
           "</br>id: 158</br>prediction: 0.974</br>fbs: 0.17</br></br>age: 70.0</br>sex: 1.0</br>cp: 3.0</br>trestbps: 130.0</br>chol: 322.0</br>restecg: 2.0</br>thalach: 109.0</br>exang: 0.0</br>oldpeak: 2.4</br>slope: 1.0</br>ca: 3.0</br>thal: 0.0</br>_original_yhat_: 0.9742528447623608</br>"
          ],
          [
           "</br>id: 158</br>prediction: 0.974</br>fbs: 0.18</br></br>age: 70.0</br>sex: 1.0</br>cp: 3.0</br>trestbps: 130.0</br>chol: 322.0</br>restecg: 2.0</br>thalach: 109.0</br>exang: 0.0</br>oldpeak: 2.4</br>slope: 1.0</br>ca: 3.0</br>thal: 0.0</br>_original_yhat_: 0.9742528447623608</br>"
          ],
          [
           "</br>id: 158</br>prediction: 0.974</br>fbs: 0.19</br></br>age: 70.0</br>sex: 1.0</br>cp: 3.0</br>trestbps: 130.0</br>chol: 322.0</br>restecg: 2.0</br>thalach: 109.0</br>exang: 0.0</br>oldpeak: 2.4</br>slope: 1.0</br>ca: 3.0</br>thal: 0.0</br>_original_yhat_: 0.9742528447623608</br>"
          ],
          [
           "</br>id: 158</br>prediction: 0.974</br>fbs: 0.2</br></br>age: 70.0</br>sex: 1.0</br>cp: 3.0</br>trestbps: 130.0</br>chol: 322.0</br>restecg: 2.0</br>thalach: 109.0</br>exang: 0.0</br>oldpeak: 2.4</br>slope: 1.0</br>ca: 3.0</br>thal: 0.0</br>_original_yhat_: 0.9742528447623608</br>"
          ],
          [
           "</br>id: 158</br>prediction: 0.974</br>fbs: 0.21</br></br>age: 70.0</br>sex: 1.0</br>cp: 3.0</br>trestbps: 130.0</br>chol: 322.0</br>restecg: 2.0</br>thalach: 109.0</br>exang: 0.0</br>oldpeak: 2.4</br>slope: 1.0</br>ca: 3.0</br>thal: 0.0</br>_original_yhat_: 0.9742528447623608</br>"
          ],
          [
           "</br>id: 158</br>prediction: 0.974</br>fbs: 0.22</br></br>age: 70.0</br>sex: 1.0</br>cp: 3.0</br>trestbps: 130.0</br>chol: 322.0</br>restecg: 2.0</br>thalach: 109.0</br>exang: 0.0</br>oldpeak: 2.4</br>slope: 1.0</br>ca: 3.0</br>thal: 0.0</br>_original_yhat_: 0.9742528447623608</br>"
          ],
          [
           "</br>id: 158</br>prediction: 0.974</br>fbs: 0.23</br></br>age: 70.0</br>sex: 1.0</br>cp: 3.0</br>trestbps: 130.0</br>chol: 322.0</br>restecg: 2.0</br>thalach: 109.0</br>exang: 0.0</br>oldpeak: 2.4</br>slope: 1.0</br>ca: 3.0</br>thal: 0.0</br>_original_yhat_: 0.9742528447623608</br>"
          ],
          [
           "</br>id: 158</br>prediction: 0.973</br>fbs: 0.24</br></br>age: 70.0</br>sex: 1.0</br>cp: 3.0</br>trestbps: 130.0</br>chol: 322.0</br>restecg: 2.0</br>thalach: 109.0</br>exang: 0.0</br>oldpeak: 2.4</br>slope: 1.0</br>ca: 3.0</br>thal: 0.0</br>_original_yhat_: 0.9742528447623608</br>"
          ],
          [
           "</br>id: 158</br>prediction: 0.973</br>fbs: 0.25</br></br>age: 70.0</br>sex: 1.0</br>cp: 3.0</br>trestbps: 130.0</br>chol: 322.0</br>restecg: 2.0</br>thalach: 109.0</br>exang: 0.0</br>oldpeak: 2.4</br>slope: 1.0</br>ca: 3.0</br>thal: 0.0</br>_original_yhat_: 0.9742528447623608</br>"
          ],
          [
           "</br>id: 158</br>prediction: 0.973</br>fbs: 0.26</br></br>age: 70.0</br>sex: 1.0</br>cp: 3.0</br>trestbps: 130.0</br>chol: 322.0</br>restecg: 2.0</br>thalach: 109.0</br>exang: 0.0</br>oldpeak: 2.4</br>slope: 1.0</br>ca: 3.0</br>thal: 0.0</br>_original_yhat_: 0.9742528447623608</br>"
          ],
          [
           "</br>id: 158</br>prediction: 0.973</br>fbs: 0.27</br></br>age: 70.0</br>sex: 1.0</br>cp: 3.0</br>trestbps: 130.0</br>chol: 322.0</br>restecg: 2.0</br>thalach: 109.0</br>exang: 0.0</br>oldpeak: 2.4</br>slope: 1.0</br>ca: 3.0</br>thal: 0.0</br>_original_yhat_: 0.9742528447623608</br>"
          ],
          [
           "</br>id: 158</br>prediction: 0.973</br>fbs: 0.28</br></br>age: 70.0</br>sex: 1.0</br>cp: 3.0</br>trestbps: 130.0</br>chol: 322.0</br>restecg: 2.0</br>thalach: 109.0</br>exang: 0.0</br>oldpeak: 2.4</br>slope: 1.0</br>ca: 3.0</br>thal: 0.0</br>_original_yhat_: 0.9742528447623608</br>"
          ],
          [
           "</br>id: 158</br>prediction: 0.973</br>fbs: 0.29</br></br>age: 70.0</br>sex: 1.0</br>cp: 3.0</br>trestbps: 130.0</br>chol: 322.0</br>restecg: 2.0</br>thalach: 109.0</br>exang: 0.0</br>oldpeak: 2.4</br>slope: 1.0</br>ca: 3.0</br>thal: 0.0</br>_original_yhat_: 0.9742528447623608</br>"
          ],
          [
           "</br>id: 158</br>prediction: 0.973</br>fbs: 0.3</br></br>age: 70.0</br>sex: 1.0</br>cp: 3.0</br>trestbps: 130.0</br>chol: 322.0</br>restecg: 2.0</br>thalach: 109.0</br>exang: 0.0</br>oldpeak: 2.4</br>slope: 1.0</br>ca: 3.0</br>thal: 0.0</br>_original_yhat_: 0.9742528447623608</br>"
          ],
          [
           "</br>id: 158</br>prediction: 0.973</br>fbs: 0.31</br></br>age: 70.0</br>sex: 1.0</br>cp: 3.0</br>trestbps: 130.0</br>chol: 322.0</br>restecg: 2.0</br>thalach: 109.0</br>exang: 0.0</br>oldpeak: 2.4</br>slope: 1.0</br>ca: 3.0</br>thal: 0.0</br>_original_yhat_: 0.9742528447623608</br>"
          ],
          [
           "</br>id: 158</br>prediction: 0.973</br>fbs: 0.32</br></br>age: 70.0</br>sex: 1.0</br>cp: 3.0</br>trestbps: 130.0</br>chol: 322.0</br>restecg: 2.0</br>thalach: 109.0</br>exang: 0.0</br>oldpeak: 2.4</br>slope: 1.0</br>ca: 3.0</br>thal: 0.0</br>_original_yhat_: 0.9742528447623608</br>"
          ],
          [
           "</br>id: 158</br>prediction: 0.973</br>fbs: 0.33</br></br>age: 70.0</br>sex: 1.0</br>cp: 3.0</br>trestbps: 130.0</br>chol: 322.0</br>restecg: 2.0</br>thalach: 109.0</br>exang: 0.0</br>oldpeak: 2.4</br>slope: 1.0</br>ca: 3.0</br>thal: 0.0</br>_original_yhat_: 0.9742528447623608</br>"
          ],
          [
           "</br>id: 158</br>prediction: 0.973</br>fbs: 0.34</br></br>age: 70.0</br>sex: 1.0</br>cp: 3.0</br>trestbps: 130.0</br>chol: 322.0</br>restecg: 2.0</br>thalach: 109.0</br>exang: 0.0</br>oldpeak: 2.4</br>slope: 1.0</br>ca: 3.0</br>thal: 0.0</br>_original_yhat_: 0.9742528447623608</br>"
          ],
          [
           "</br>id: 158</br>prediction: 0.973</br>fbs: 0.35000000000000003</br></br>age: 70.0</br>sex: 1.0</br>cp: 3.0</br>trestbps: 130.0</br>chol: 322.0</br>restecg: 2.0</br>thalach: 109.0</br>exang: 0.0</br>oldpeak: 2.4</br>slope: 1.0</br>ca: 3.0</br>thal: 0.0</br>_original_yhat_: 0.9742528447623608</br>"
          ],
          [
           "</br>id: 158</br>prediction: 0.973</br>fbs: 0.36</br></br>age: 70.0</br>sex: 1.0</br>cp: 3.0</br>trestbps: 130.0</br>chol: 322.0</br>restecg: 2.0</br>thalach: 109.0</br>exang: 0.0</br>oldpeak: 2.4</br>slope: 1.0</br>ca: 3.0</br>thal: 0.0</br>_original_yhat_: 0.9742528447623608</br>"
          ],
          [
           "</br>id: 158</br>prediction: 0.973</br>fbs: 0.37</br></br>age: 70.0</br>sex: 1.0</br>cp: 3.0</br>trestbps: 130.0</br>chol: 322.0</br>restecg: 2.0</br>thalach: 109.0</br>exang: 0.0</br>oldpeak: 2.4</br>slope: 1.0</br>ca: 3.0</br>thal: 0.0</br>_original_yhat_: 0.9742528447623608</br>"
          ],
          [
           "</br>id: 158</br>prediction: 0.973</br>fbs: 0.38</br></br>age: 70.0</br>sex: 1.0</br>cp: 3.0</br>trestbps: 130.0</br>chol: 322.0</br>restecg: 2.0</br>thalach: 109.0</br>exang: 0.0</br>oldpeak: 2.4</br>slope: 1.0</br>ca: 3.0</br>thal: 0.0</br>_original_yhat_: 0.9742528447623608</br>"
          ],
          [
           "</br>id: 158</br>prediction: 0.973</br>fbs: 0.39</br></br>age: 70.0</br>sex: 1.0</br>cp: 3.0</br>trestbps: 130.0</br>chol: 322.0</br>restecg: 2.0</br>thalach: 109.0</br>exang: 0.0</br>oldpeak: 2.4</br>slope: 1.0</br>ca: 3.0</br>thal: 0.0</br>_original_yhat_: 0.9742528447623608</br>"
          ],
          [
           "</br>id: 158</br>prediction: 0.973</br>fbs: 0.4</br></br>age: 70.0</br>sex: 1.0</br>cp: 3.0</br>trestbps: 130.0</br>chol: 322.0</br>restecg: 2.0</br>thalach: 109.0</br>exang: 0.0</br>oldpeak: 2.4</br>slope: 1.0</br>ca: 3.0</br>thal: 0.0</br>_original_yhat_: 0.9742528447623608</br>"
          ],
          [
           "</br>id: 158</br>prediction: 0.973</br>fbs: 0.41000000000000003</br></br>age: 70.0</br>sex: 1.0</br>cp: 3.0</br>trestbps: 130.0</br>chol: 322.0</br>restecg: 2.0</br>thalach: 109.0</br>exang: 0.0</br>oldpeak: 2.4</br>slope: 1.0</br>ca: 3.0</br>thal: 0.0</br>_original_yhat_: 0.9742528447623608</br>"
          ],
          [
           "</br>id: 158</br>prediction: 0.973</br>fbs: 0.42</br></br>age: 70.0</br>sex: 1.0</br>cp: 3.0</br>trestbps: 130.0</br>chol: 322.0</br>restecg: 2.0</br>thalach: 109.0</br>exang: 0.0</br>oldpeak: 2.4</br>slope: 1.0</br>ca: 3.0</br>thal: 0.0</br>_original_yhat_: 0.9742528447623608</br>"
          ],
          [
           "</br>id: 158</br>prediction: 0.973</br>fbs: 0.43</br></br>age: 70.0</br>sex: 1.0</br>cp: 3.0</br>trestbps: 130.0</br>chol: 322.0</br>restecg: 2.0</br>thalach: 109.0</br>exang: 0.0</br>oldpeak: 2.4</br>slope: 1.0</br>ca: 3.0</br>thal: 0.0</br>_original_yhat_: 0.9742528447623608</br>"
          ],
          [
           "</br>id: 158</br>prediction: 0.973</br>fbs: 0.44</br></br>age: 70.0</br>sex: 1.0</br>cp: 3.0</br>trestbps: 130.0</br>chol: 322.0</br>restecg: 2.0</br>thalach: 109.0</br>exang: 0.0</br>oldpeak: 2.4</br>slope: 1.0</br>ca: 3.0</br>thal: 0.0</br>_original_yhat_: 0.9742528447623608</br>"
          ],
          [
           "</br>id: 158</br>prediction: 0.973</br>fbs: 0.45</br></br>age: 70.0</br>sex: 1.0</br>cp: 3.0</br>trestbps: 130.0</br>chol: 322.0</br>restecg: 2.0</br>thalach: 109.0</br>exang: 0.0</br>oldpeak: 2.4</br>slope: 1.0</br>ca: 3.0</br>thal: 0.0</br>_original_yhat_: 0.9742528447623608</br>"
          ],
          [
           "</br>id: 158</br>prediction: 0.973</br>fbs: 0.46</br></br>age: 70.0</br>sex: 1.0</br>cp: 3.0</br>trestbps: 130.0</br>chol: 322.0</br>restecg: 2.0</br>thalach: 109.0</br>exang: 0.0</br>oldpeak: 2.4</br>slope: 1.0</br>ca: 3.0</br>thal: 0.0</br>_original_yhat_: 0.9742528447623608</br>"
          ],
          [
           "</br>id: 158</br>prediction: 0.973</br>fbs: 0.47000000000000003</br></br>age: 70.0</br>sex: 1.0</br>cp: 3.0</br>trestbps: 130.0</br>chol: 322.0</br>restecg: 2.0</br>thalach: 109.0</br>exang: 0.0</br>oldpeak: 2.4</br>slope: 1.0</br>ca: 3.0</br>thal: 0.0</br>_original_yhat_: 0.9742528447623608</br>"
          ],
          [
           "</br>id: 158</br>prediction: 0.973</br>fbs: 0.48</br></br>age: 70.0</br>sex: 1.0</br>cp: 3.0</br>trestbps: 130.0</br>chol: 322.0</br>restecg: 2.0</br>thalach: 109.0</br>exang: 0.0</br>oldpeak: 2.4</br>slope: 1.0</br>ca: 3.0</br>thal: 0.0</br>_original_yhat_: 0.9742528447623608</br>"
          ],
          [
           "</br>id: 158</br>prediction: 0.973</br>fbs: 0.49</br></br>age: 70.0</br>sex: 1.0</br>cp: 3.0</br>trestbps: 130.0</br>chol: 322.0</br>restecg: 2.0</br>thalach: 109.0</br>exang: 0.0</br>oldpeak: 2.4</br>slope: 1.0</br>ca: 3.0</br>thal: 0.0</br>_original_yhat_: 0.9742528447623608</br>"
          ],
          [
           "</br>id: 158</br>prediction: 0.973</br>fbs: 0.5</br></br>age: 70.0</br>sex: 1.0</br>cp: 3.0</br>trestbps: 130.0</br>chol: 322.0</br>restecg: 2.0</br>thalach: 109.0</br>exang: 0.0</br>oldpeak: 2.4</br>slope: 1.0</br>ca: 3.0</br>thal: 0.0</br>_original_yhat_: 0.9742528447623608</br>"
          ],
          [
           "</br>id: 158</br>prediction: 0.973</br>fbs: 0.51</br></br>age: 70.0</br>sex: 1.0</br>cp: 3.0</br>trestbps: 130.0</br>chol: 322.0</br>restecg: 2.0</br>thalach: 109.0</br>exang: 0.0</br>oldpeak: 2.4</br>slope: 1.0</br>ca: 3.0</br>thal: 0.0</br>_original_yhat_: 0.9742528447623608</br>"
          ],
          [
           "</br>id: 158</br>prediction: 0.973</br>fbs: 0.52</br></br>age: 70.0</br>sex: 1.0</br>cp: 3.0</br>trestbps: 130.0</br>chol: 322.0</br>restecg: 2.0</br>thalach: 109.0</br>exang: 0.0</br>oldpeak: 2.4</br>slope: 1.0</br>ca: 3.0</br>thal: 0.0</br>_original_yhat_: 0.9742528447623608</br>"
          ],
          [
           "</br>id: 158</br>prediction: 0.973</br>fbs: 0.53</br></br>age: 70.0</br>sex: 1.0</br>cp: 3.0</br>trestbps: 130.0</br>chol: 322.0</br>restecg: 2.0</br>thalach: 109.0</br>exang: 0.0</br>oldpeak: 2.4</br>slope: 1.0</br>ca: 3.0</br>thal: 0.0</br>_original_yhat_: 0.9742528447623608</br>"
          ],
          [
           "</br>id: 158</br>prediction: 0.972</br>fbs: 0.54</br></br>age: 70.0</br>sex: 1.0</br>cp: 3.0</br>trestbps: 130.0</br>chol: 322.0</br>restecg: 2.0</br>thalach: 109.0</br>exang: 0.0</br>oldpeak: 2.4</br>slope: 1.0</br>ca: 3.0</br>thal: 0.0</br>_original_yhat_: 0.9742528447623608</br>"
          ],
          [
           "</br>id: 158</br>prediction: 0.972</br>fbs: 0.55</br></br>age: 70.0</br>sex: 1.0</br>cp: 3.0</br>trestbps: 130.0</br>chol: 322.0</br>restecg: 2.0</br>thalach: 109.0</br>exang: 0.0</br>oldpeak: 2.4</br>slope: 1.0</br>ca: 3.0</br>thal: 0.0</br>_original_yhat_: 0.9742528447623608</br>"
          ],
          [
           "</br>id: 158</br>prediction: 0.972</br>fbs: 0.56</br></br>age: 70.0</br>sex: 1.0</br>cp: 3.0</br>trestbps: 130.0</br>chol: 322.0</br>restecg: 2.0</br>thalach: 109.0</br>exang: 0.0</br>oldpeak: 2.4</br>slope: 1.0</br>ca: 3.0</br>thal: 0.0</br>_original_yhat_: 0.9742528447623608</br>"
          ],
          [
           "</br>id: 158</br>prediction: 0.972</br>fbs: 0.5700000000000001</br></br>age: 70.0</br>sex: 1.0</br>cp: 3.0</br>trestbps: 130.0</br>chol: 322.0</br>restecg: 2.0</br>thalach: 109.0</br>exang: 0.0</br>oldpeak: 2.4</br>slope: 1.0</br>ca: 3.0</br>thal: 0.0</br>_original_yhat_: 0.9742528447623608</br>"
          ],
          [
           "</br>id: 158</br>prediction: 0.972</br>fbs: 0.58</br></br>age: 70.0</br>sex: 1.0</br>cp: 3.0</br>trestbps: 130.0</br>chol: 322.0</br>restecg: 2.0</br>thalach: 109.0</br>exang: 0.0</br>oldpeak: 2.4</br>slope: 1.0</br>ca: 3.0</br>thal: 0.0</br>_original_yhat_: 0.9742528447623608</br>"
          ],
          [
           "</br>id: 158</br>prediction: 0.972</br>fbs: 0.59</br></br>age: 70.0</br>sex: 1.0</br>cp: 3.0</br>trestbps: 130.0</br>chol: 322.0</br>restecg: 2.0</br>thalach: 109.0</br>exang: 0.0</br>oldpeak: 2.4</br>slope: 1.0</br>ca: 3.0</br>thal: 0.0</br>_original_yhat_: 0.9742528447623608</br>"
          ],
          [
           "</br>id: 158</br>prediction: 0.972</br>fbs: 0.6</br></br>age: 70.0</br>sex: 1.0</br>cp: 3.0</br>trestbps: 130.0</br>chol: 322.0</br>restecg: 2.0</br>thalach: 109.0</br>exang: 0.0</br>oldpeak: 2.4</br>slope: 1.0</br>ca: 3.0</br>thal: 0.0</br>_original_yhat_: 0.9742528447623608</br>"
          ],
          [
           "</br>id: 158</br>prediction: 0.972</br>fbs: 0.61</br></br>age: 70.0</br>sex: 1.0</br>cp: 3.0</br>trestbps: 130.0</br>chol: 322.0</br>restecg: 2.0</br>thalach: 109.0</br>exang: 0.0</br>oldpeak: 2.4</br>slope: 1.0</br>ca: 3.0</br>thal: 0.0</br>_original_yhat_: 0.9742528447623608</br>"
          ],
          [
           "</br>id: 158</br>prediction: 0.972</br>fbs: 0.62</br></br>age: 70.0</br>sex: 1.0</br>cp: 3.0</br>trestbps: 130.0</br>chol: 322.0</br>restecg: 2.0</br>thalach: 109.0</br>exang: 0.0</br>oldpeak: 2.4</br>slope: 1.0</br>ca: 3.0</br>thal: 0.0</br>_original_yhat_: 0.9742528447623608</br>"
          ],
          [
           "</br>id: 158</br>prediction: 0.972</br>fbs: 0.63</br></br>age: 70.0</br>sex: 1.0</br>cp: 3.0</br>trestbps: 130.0</br>chol: 322.0</br>restecg: 2.0</br>thalach: 109.0</br>exang: 0.0</br>oldpeak: 2.4</br>slope: 1.0</br>ca: 3.0</br>thal: 0.0</br>_original_yhat_: 0.9742528447623608</br>"
          ],
          [
           "</br>id: 158</br>prediction: 0.972</br>fbs: 0.64</br></br>age: 70.0</br>sex: 1.0</br>cp: 3.0</br>trestbps: 130.0</br>chol: 322.0</br>restecg: 2.0</br>thalach: 109.0</br>exang: 0.0</br>oldpeak: 2.4</br>slope: 1.0</br>ca: 3.0</br>thal: 0.0</br>_original_yhat_: 0.9742528447623608</br>"
          ],
          [
           "</br>id: 158</br>prediction: 0.972</br>fbs: 0.65</br></br>age: 70.0</br>sex: 1.0</br>cp: 3.0</br>trestbps: 130.0</br>chol: 322.0</br>restecg: 2.0</br>thalach: 109.0</br>exang: 0.0</br>oldpeak: 2.4</br>slope: 1.0</br>ca: 3.0</br>thal: 0.0</br>_original_yhat_: 0.9742528447623608</br>"
          ],
          [
           "</br>id: 158</br>prediction: 0.972</br>fbs: 0.66</br></br>age: 70.0</br>sex: 1.0</br>cp: 3.0</br>trestbps: 130.0</br>chol: 322.0</br>restecg: 2.0</br>thalach: 109.0</br>exang: 0.0</br>oldpeak: 2.4</br>slope: 1.0</br>ca: 3.0</br>thal: 0.0</br>_original_yhat_: 0.9742528447623608</br>"
          ],
          [
           "</br>id: 158</br>prediction: 0.972</br>fbs: 0.67</br></br>age: 70.0</br>sex: 1.0</br>cp: 3.0</br>trestbps: 130.0</br>chol: 322.0</br>restecg: 2.0</br>thalach: 109.0</br>exang: 0.0</br>oldpeak: 2.4</br>slope: 1.0</br>ca: 3.0</br>thal: 0.0</br>_original_yhat_: 0.9742528447623608</br>"
          ],
          [
           "</br>id: 158</br>prediction: 0.972</br>fbs: 0.68</br></br>age: 70.0</br>sex: 1.0</br>cp: 3.0</br>trestbps: 130.0</br>chol: 322.0</br>restecg: 2.0</br>thalach: 109.0</br>exang: 0.0</br>oldpeak: 2.4</br>slope: 1.0</br>ca: 3.0</br>thal: 0.0</br>_original_yhat_: 0.9742528447623608</br>"
          ],
          [
           "</br>id: 158</br>prediction: 0.972</br>fbs: 0.6900000000000001</br></br>age: 70.0</br>sex: 1.0</br>cp: 3.0</br>trestbps: 130.0</br>chol: 322.0</br>restecg: 2.0</br>thalach: 109.0</br>exang: 0.0</br>oldpeak: 2.4</br>slope: 1.0</br>ca: 3.0</br>thal: 0.0</br>_original_yhat_: 0.9742528447623608</br>"
          ],
          [
           "</br>id: 158</br>prediction: 0.972</br>fbs: 0.7000000000000001</br></br>age: 70.0</br>sex: 1.0</br>cp: 3.0</br>trestbps: 130.0</br>chol: 322.0</br>restecg: 2.0</br>thalach: 109.0</br>exang: 0.0</br>oldpeak: 2.4</br>slope: 1.0</br>ca: 3.0</br>thal: 0.0</br>_original_yhat_: 0.9742528447623608</br>"
          ],
          [
           "</br>id: 158</br>prediction: 0.972</br>fbs: 0.71</br></br>age: 70.0</br>sex: 1.0</br>cp: 3.0</br>trestbps: 130.0</br>chol: 322.0</br>restecg: 2.0</br>thalach: 109.0</br>exang: 0.0</br>oldpeak: 2.4</br>slope: 1.0</br>ca: 3.0</br>thal: 0.0</br>_original_yhat_: 0.9742528447623608</br>"
          ],
          [
           "</br>id: 158</br>prediction: 0.972</br>fbs: 0.72</br></br>age: 70.0</br>sex: 1.0</br>cp: 3.0</br>trestbps: 130.0</br>chol: 322.0</br>restecg: 2.0</br>thalach: 109.0</br>exang: 0.0</br>oldpeak: 2.4</br>slope: 1.0</br>ca: 3.0</br>thal: 0.0</br>_original_yhat_: 0.9742528447623608</br>"
          ],
          [
           "</br>id: 158</br>prediction: 0.972</br>fbs: 0.73</br></br>age: 70.0</br>sex: 1.0</br>cp: 3.0</br>trestbps: 130.0</br>chol: 322.0</br>restecg: 2.0</br>thalach: 109.0</br>exang: 0.0</br>oldpeak: 2.4</br>slope: 1.0</br>ca: 3.0</br>thal: 0.0</br>_original_yhat_: 0.9742528447623608</br>"
          ],
          [
           "</br>id: 158</br>prediction: 0.972</br>fbs: 0.74</br></br>age: 70.0</br>sex: 1.0</br>cp: 3.0</br>trestbps: 130.0</br>chol: 322.0</br>restecg: 2.0</br>thalach: 109.0</br>exang: 0.0</br>oldpeak: 2.4</br>slope: 1.0</br>ca: 3.0</br>thal: 0.0</br>_original_yhat_: 0.9742528447623608</br>"
          ],
          [
           "</br>id: 158</br>prediction: 0.972</br>fbs: 0.75</br></br>age: 70.0</br>sex: 1.0</br>cp: 3.0</br>trestbps: 130.0</br>chol: 322.0</br>restecg: 2.0</br>thalach: 109.0</br>exang: 0.0</br>oldpeak: 2.4</br>slope: 1.0</br>ca: 3.0</br>thal: 0.0</br>_original_yhat_: 0.9742528447623608</br>"
          ],
          [
           "</br>id: 158</br>prediction: 0.972</br>fbs: 0.76</br></br>age: 70.0</br>sex: 1.0</br>cp: 3.0</br>trestbps: 130.0</br>chol: 322.0</br>restecg: 2.0</br>thalach: 109.0</br>exang: 0.0</br>oldpeak: 2.4</br>slope: 1.0</br>ca: 3.0</br>thal: 0.0</br>_original_yhat_: 0.9742528447623608</br>"
          ],
          [
           "</br>id: 158</br>prediction: 0.972</br>fbs: 0.77</br></br>age: 70.0</br>sex: 1.0</br>cp: 3.0</br>trestbps: 130.0</br>chol: 322.0</br>restecg: 2.0</br>thalach: 109.0</br>exang: 0.0</br>oldpeak: 2.4</br>slope: 1.0</br>ca: 3.0</br>thal: 0.0</br>_original_yhat_: 0.9742528447623608</br>"
          ],
          [
           "</br>id: 158</br>prediction: 0.972</br>fbs: 0.78</br></br>age: 70.0</br>sex: 1.0</br>cp: 3.0</br>trestbps: 130.0</br>chol: 322.0</br>restecg: 2.0</br>thalach: 109.0</br>exang: 0.0</br>oldpeak: 2.4</br>slope: 1.0</br>ca: 3.0</br>thal: 0.0</br>_original_yhat_: 0.9742528447623608</br>"
          ],
          [
           "</br>id: 158</br>prediction: 0.972</br>fbs: 0.79</br></br>age: 70.0</br>sex: 1.0</br>cp: 3.0</br>trestbps: 130.0</br>chol: 322.0</br>restecg: 2.0</br>thalach: 109.0</br>exang: 0.0</br>oldpeak: 2.4</br>slope: 1.0</br>ca: 3.0</br>thal: 0.0</br>_original_yhat_: 0.9742528447623608</br>"
          ],
          [
           "</br>id: 158</br>prediction: 0.972</br>fbs: 0.8</br></br>age: 70.0</br>sex: 1.0</br>cp: 3.0</br>trestbps: 130.0</br>chol: 322.0</br>restecg: 2.0</br>thalach: 109.0</br>exang: 0.0</br>oldpeak: 2.4</br>slope: 1.0</br>ca: 3.0</br>thal: 0.0</br>_original_yhat_: 0.9742528447623608</br>"
          ],
          [
           "</br>id: 158</br>prediction: 0.972</br>fbs: 0.81</br></br>age: 70.0</br>sex: 1.0</br>cp: 3.0</br>trestbps: 130.0</br>chol: 322.0</br>restecg: 2.0</br>thalach: 109.0</br>exang: 0.0</br>oldpeak: 2.4</br>slope: 1.0</br>ca: 3.0</br>thal: 0.0</br>_original_yhat_: 0.9742528447623608</br>"
          ],
          [
           "</br>id: 158</br>prediction: 0.972</br>fbs: 0.8200000000000001</br></br>age: 70.0</br>sex: 1.0</br>cp: 3.0</br>trestbps: 130.0</br>chol: 322.0</br>restecg: 2.0</br>thalach: 109.0</br>exang: 0.0</br>oldpeak: 2.4</br>slope: 1.0</br>ca: 3.0</br>thal: 0.0</br>_original_yhat_: 0.9742528447623608</br>"
          ],
          [
           "</br>id: 158</br>prediction: 0.971</br>fbs: 0.8300000000000001</br></br>age: 70.0</br>sex: 1.0</br>cp: 3.0</br>trestbps: 130.0</br>chol: 322.0</br>restecg: 2.0</br>thalach: 109.0</br>exang: 0.0</br>oldpeak: 2.4</br>slope: 1.0</br>ca: 3.0</br>thal: 0.0</br>_original_yhat_: 0.9742528447623608</br>"
          ],
          [
           "</br>id: 158</br>prediction: 0.971</br>fbs: 0.84</br></br>age: 70.0</br>sex: 1.0</br>cp: 3.0</br>trestbps: 130.0</br>chol: 322.0</br>restecg: 2.0</br>thalach: 109.0</br>exang: 0.0</br>oldpeak: 2.4</br>slope: 1.0</br>ca: 3.0</br>thal: 0.0</br>_original_yhat_: 0.9742528447623608</br>"
          ],
          [
           "</br>id: 158</br>prediction: 0.971</br>fbs: 0.85</br></br>age: 70.0</br>sex: 1.0</br>cp: 3.0</br>trestbps: 130.0</br>chol: 322.0</br>restecg: 2.0</br>thalach: 109.0</br>exang: 0.0</br>oldpeak: 2.4</br>slope: 1.0</br>ca: 3.0</br>thal: 0.0</br>_original_yhat_: 0.9742528447623608</br>"
          ],
          [
           "</br>id: 158</br>prediction: 0.971</br>fbs: 0.86</br></br>age: 70.0</br>sex: 1.0</br>cp: 3.0</br>trestbps: 130.0</br>chol: 322.0</br>restecg: 2.0</br>thalach: 109.0</br>exang: 0.0</br>oldpeak: 2.4</br>slope: 1.0</br>ca: 3.0</br>thal: 0.0</br>_original_yhat_: 0.9742528447623608</br>"
          ],
          [
           "</br>id: 158</br>prediction: 0.971</br>fbs: 0.87</br></br>age: 70.0</br>sex: 1.0</br>cp: 3.0</br>trestbps: 130.0</br>chol: 322.0</br>restecg: 2.0</br>thalach: 109.0</br>exang: 0.0</br>oldpeak: 2.4</br>slope: 1.0</br>ca: 3.0</br>thal: 0.0</br>_original_yhat_: 0.9742528447623608</br>"
          ],
          [
           "</br>id: 158</br>prediction: 0.971</br>fbs: 0.88</br></br>age: 70.0</br>sex: 1.0</br>cp: 3.0</br>trestbps: 130.0</br>chol: 322.0</br>restecg: 2.0</br>thalach: 109.0</br>exang: 0.0</br>oldpeak: 2.4</br>slope: 1.0</br>ca: 3.0</br>thal: 0.0</br>_original_yhat_: 0.9742528447623608</br>"
          ],
          [
           "</br>id: 158</br>prediction: 0.971</br>fbs: 0.89</br></br>age: 70.0</br>sex: 1.0</br>cp: 3.0</br>trestbps: 130.0</br>chol: 322.0</br>restecg: 2.0</br>thalach: 109.0</br>exang: 0.0</br>oldpeak: 2.4</br>slope: 1.0</br>ca: 3.0</br>thal: 0.0</br>_original_yhat_: 0.9742528447623608</br>"
          ],
          [
           "</br>id: 158</br>prediction: 0.971</br>fbs: 0.9</br></br>age: 70.0</br>sex: 1.0</br>cp: 3.0</br>trestbps: 130.0</br>chol: 322.0</br>restecg: 2.0</br>thalach: 109.0</br>exang: 0.0</br>oldpeak: 2.4</br>slope: 1.0</br>ca: 3.0</br>thal: 0.0</br>_original_yhat_: 0.9742528447623608</br>"
          ],
          [
           "</br>id: 158</br>prediction: 0.971</br>fbs: 0.91</br></br>age: 70.0</br>sex: 1.0</br>cp: 3.0</br>trestbps: 130.0</br>chol: 322.0</br>restecg: 2.0</br>thalach: 109.0</br>exang: 0.0</br>oldpeak: 2.4</br>slope: 1.0</br>ca: 3.0</br>thal: 0.0</br>_original_yhat_: 0.9742528447623608</br>"
          ],
          [
           "</br>id: 158</br>prediction: 0.971</br>fbs: 0.92</br></br>age: 70.0</br>sex: 1.0</br>cp: 3.0</br>trestbps: 130.0</br>chol: 322.0</br>restecg: 2.0</br>thalach: 109.0</br>exang: 0.0</br>oldpeak: 2.4</br>slope: 1.0</br>ca: 3.0</br>thal: 0.0</br>_original_yhat_: 0.9742528447623608</br>"
          ],
          [
           "</br>id: 158</br>prediction: 0.971</br>fbs: 0.93</br></br>age: 70.0</br>sex: 1.0</br>cp: 3.0</br>trestbps: 130.0</br>chol: 322.0</br>restecg: 2.0</br>thalach: 109.0</br>exang: 0.0</br>oldpeak: 2.4</br>slope: 1.0</br>ca: 3.0</br>thal: 0.0</br>_original_yhat_: 0.9742528447623608</br>"
          ],
          [
           "</br>id: 158</br>prediction: 0.971</br>fbs: 0.9400000000000001</br></br>age: 70.0</br>sex: 1.0</br>cp: 3.0</br>trestbps: 130.0</br>chol: 322.0</br>restecg: 2.0</br>thalach: 109.0</br>exang: 0.0</br>oldpeak: 2.4</br>slope: 1.0</br>ca: 3.0</br>thal: 0.0</br>_original_yhat_: 0.9742528447623608</br>"
          ],
          [
           "</br>id: 158</br>prediction: 0.971</br>fbs: 0.9500000000000001</br></br>age: 70.0</br>sex: 1.0</br>cp: 3.0</br>trestbps: 130.0</br>chol: 322.0</br>restecg: 2.0</br>thalach: 109.0</br>exang: 0.0</br>oldpeak: 2.4</br>slope: 1.0</br>ca: 3.0</br>thal: 0.0</br>_original_yhat_: 0.9742528447623608</br>"
          ],
          [
           "</br>id: 158</br>prediction: 0.971</br>fbs: 0.96</br></br>age: 70.0</br>sex: 1.0</br>cp: 3.0</br>trestbps: 130.0</br>chol: 322.0</br>restecg: 2.0</br>thalach: 109.0</br>exang: 0.0</br>oldpeak: 2.4</br>slope: 1.0</br>ca: 3.0</br>thal: 0.0</br>_original_yhat_: 0.9742528447623608</br>"
          ],
          [
           "</br>id: 158</br>prediction: 0.971</br>fbs: 0.97</br></br>age: 70.0</br>sex: 1.0</br>cp: 3.0</br>trestbps: 130.0</br>chol: 322.0</br>restecg: 2.0</br>thalach: 109.0</br>exang: 0.0</br>oldpeak: 2.4</br>slope: 1.0</br>ca: 3.0</br>thal: 0.0</br>_original_yhat_: 0.9742528447623608</br>"
          ],
          [
           "</br>id: 158</br>prediction: 0.971</br>fbs: 0.98</br></br>age: 70.0</br>sex: 1.0</br>cp: 3.0</br>trestbps: 130.0</br>chol: 322.0</br>restecg: 2.0</br>thalach: 109.0</br>exang: 0.0</br>oldpeak: 2.4</br>slope: 1.0</br>ca: 3.0</br>thal: 0.0</br>_original_yhat_: 0.9742528447623608</br>"
          ],
          [
           "</br>id: 158</br>prediction: 0.971</br>fbs: 0.99</br></br>age: 70.0</br>sex: 1.0</br>cp: 3.0</br>trestbps: 130.0</br>chol: 322.0</br>restecg: 2.0</br>thalach: 109.0</br>exang: 0.0</br>oldpeak: 2.4</br>slope: 1.0</br>ca: 3.0</br>thal: 0.0</br>_original_yhat_: 0.9742528447623608</br>"
          ],
          [
           "</br>id: 158</br>prediction: 0.971</br>fbs: 1.0</br></br>age: 70.0</br>sex: 1.0</br>cp: 3.0</br>trestbps: 130.0</br>chol: 322.0</br>restecg: 2.0</br>thalach: 109.0</br>exang: 0.0</br>oldpeak: 2.4</br>slope: 1.0</br>ca: 3.0</br>thal: 0.0</br>_original_yhat_: 0.9742528447623608</br>"
          ]
         ],
         "hovertemplate": "%{customdata[0]}<extra></extra>",
         "legendgroup": "RandomizedSearchCV",
         "line": {
          "color": "#46bac2",
          "dash": "solid",
          "width": 2
         },
         "marker": {
          "symbol": "circle"
         },
         "mode": "lines",
         "name": "RandomizedSearchCV",
         "opacity": 1,
         "showlegend": false,
         "type": "scattergl",
         "x": [
          0,
          0.01,
          0.02,
          0.03,
          0.04,
          0.05,
          0.06,
          0.07,
          0.08,
          0.09,
          0.1,
          0.11,
          0.12,
          0.13,
          0.14,
          0.15,
          0.16,
          0.17,
          0.18,
          0.19,
          0.2,
          0.21,
          0.22,
          0.23,
          0.24,
          0.25,
          0.26,
          0.27,
          0.28,
          0.29,
          0.3,
          0.31,
          0.32,
          0.33,
          0.34,
          0.35000000000000003,
          0.36,
          0.37,
          0.38,
          0.39,
          0.4,
          0.41000000000000003,
          0.42,
          0.43,
          0.44,
          0.45,
          0.46,
          0.47000000000000003,
          0.48,
          0.49,
          0.5,
          0.51,
          0.52,
          0.53,
          0.54,
          0.55,
          0.56,
          0.5700000000000001,
          0.58,
          0.59,
          0.6,
          0.61,
          0.62,
          0.63,
          0.64,
          0.65,
          0.66,
          0.67,
          0.68,
          0.6900000000000001,
          0.7000000000000001,
          0.71,
          0.72,
          0.73,
          0.74,
          0.75,
          0.76,
          0.77,
          0.78,
          0.79,
          0.8,
          0.81,
          0.8200000000000001,
          0.8300000000000001,
          0.84,
          0.85,
          0.86,
          0.87,
          0.88,
          0.89,
          0.9,
          0.91,
          0.92,
          0.93,
          0.9400000000000001,
          0.9500000000000001,
          0.96,
          0.97,
          0.98,
          0.99,
          1
         ],
         "xaxis": "x10",
         "y": [
          0.9742528447623608,
          0.974221056288178,
          0.9741892296064404,
          0.9741573646737943,
          0.9741254614468425,
          0.9740935198821458,
          0.9740615399362215,
          0.9740295215655437,
          0.9739974647265442,
          0.9739653693756118,
          0.9739332354690917,
          0.9739010629632868,
          0.9738688518144565,
          0.9738366019788169,
          0.9738043134125416,
          0.9737719860717607,
          0.9737396199125612,
          0.9737072148909871,
          0.9736747709630389,
          0.973642288084674,
          0.9736097662118065,
          0.9735772053003072,
          0.973544605306004,
          0.9735119661846805,
          0.973479287892078,
          0.9734465703838939,
          0.9734138136157819,
          0.973381017543353,
          0.9733481821221741,
          0.9733153073077689,
          0.9732823930556174,
          0.9732494393211564,
          0.9732164460597786,
          0.9731834132268334,
          0.9731503407776271,
          0.9731172286674213,
          0.9730840768514347,
          0.973050885284842,
          0.9730176539227742,
          0.9729843827203185,
          0.972951071632519,
          0.9729177206143748,
          0.972884329620842,
          0.9728508986068327,
          0.972817427527215,
          0.9727839163368136,
          0.9727503649904083,
          0.972716773442736,
          0.9726831416484886,
          0.972649469562315,
          0.9726157571388196,
          0.9725820043325628,
          0.9725482110980606,
          0.9725143773897854,
          0.9724805031621655,
          0.9724465883695842,
          0.9724126329663821,
          0.9723786369068542,
          0.9723446001452521,
          0.972310522635783,
          0.9722764043326093,
          0.97224224518985,
          0.972208045161579,
          0.9721738042018264,
          0.9721395222645777,
          0.9721051993037739,
          0.9720708352733116,
          0.9720364301270434,
          0.972001983818777,
          0.9719674963022754,
          0.9719329675312578,
          0.9718983974593983,
          0.9718637860403263,
          0.9718291332276274,
          0.9717944389748417,
          0.9717597032354655,
          0.9717249259629496,
          0.9716901071107008,
          0.9716552466320807,
          0.9716203444804067,
          0.9715854006089505,
          0.9715504149709403,
          0.9715153875195587,
          0.9714803182079436,
          0.971445206989188,
          0.9714100538163402,
          0.9713748586424035,
          0.9713396214203363,
          0.971304342103052,
          0.9712690206434194,
          0.9712336569942615,
          0.9711982511083571,
          0.9711628029384398,
          0.9711273124371976,
          0.9710917795572742,
          0.9710562042512677,
          0.9710205864717312,
          0.9709849261711722,
          0.9709492233020541,
          0.9709134778167942,
          0.9708776896677648
         ],
         "yaxis": "y10"
        },
        {
         "customdata": [
          [
           "</br>id: 158</br>prediction: 0.96</br>restecg: 0.0</br></br>age: 70.0</br>sex: 1.0</br>cp: 3.0</br>trestbps: 130.0</br>chol: 322.0</br>fbs: 0.0</br>thalach: 109.0</br>exang: 0.0</br>oldpeak: 2.4</br>slope: 1.0</br>ca: 3.0</br>thal: 0.0</br>_original_yhat_: 0.9742528447623608</br>"
          ],
          [
           "</br>id: 158</br>prediction: 0.96</br>restecg: 0.02</br></br>age: 70.0</br>sex: 1.0</br>cp: 3.0</br>trestbps: 130.0</br>chol: 322.0</br>fbs: 0.0</br>thalach: 109.0</br>exang: 0.0</br>oldpeak: 2.4</br>slope: 1.0</br>ca: 3.0</br>thal: 0.0</br>_original_yhat_: 0.9742528447623608</br>"
          ],
          [
           "</br>id: 158</br>prediction: 0.96</br>restecg: 0.04</br></br>age: 70.0</br>sex: 1.0</br>cp: 3.0</br>trestbps: 130.0</br>chol: 322.0</br>fbs: 0.0</br>thalach: 109.0</br>exang: 0.0</br>oldpeak: 2.4</br>slope: 1.0</br>ca: 3.0</br>thal: 0.0</br>_original_yhat_: 0.9742528447623608</br>"
          ],
          [
           "</br>id: 158</br>prediction: 0.961</br>restecg: 0.06</br></br>age: 70.0</br>sex: 1.0</br>cp: 3.0</br>trestbps: 130.0</br>chol: 322.0</br>fbs: 0.0</br>thalach: 109.0</br>exang: 0.0</br>oldpeak: 2.4</br>slope: 1.0</br>ca: 3.0</br>thal: 0.0</br>_original_yhat_: 0.9742528447623608</br>"
          ],
          [
           "</br>id: 158</br>prediction: 0.961</br>restecg: 0.08</br></br>age: 70.0</br>sex: 1.0</br>cp: 3.0</br>trestbps: 130.0</br>chol: 322.0</br>fbs: 0.0</br>thalach: 109.0</br>exang: 0.0</br>oldpeak: 2.4</br>slope: 1.0</br>ca: 3.0</br>thal: 0.0</br>_original_yhat_: 0.9742528447623608</br>"
          ],
          [
           "</br>id: 158</br>prediction: 0.961</br>restecg: 0.1</br></br>age: 70.0</br>sex: 1.0</br>cp: 3.0</br>trestbps: 130.0</br>chol: 322.0</br>fbs: 0.0</br>thalach: 109.0</br>exang: 0.0</br>oldpeak: 2.4</br>slope: 1.0</br>ca: 3.0</br>thal: 0.0</br>_original_yhat_: 0.9742528447623608</br>"
          ],
          [
           "</br>id: 158</br>prediction: 0.961</br>restecg: 0.12</br></br>age: 70.0</br>sex: 1.0</br>cp: 3.0</br>trestbps: 130.0</br>chol: 322.0</br>fbs: 0.0</br>thalach: 109.0</br>exang: 0.0</br>oldpeak: 2.4</br>slope: 1.0</br>ca: 3.0</br>thal: 0.0</br>_original_yhat_: 0.9742528447623608</br>"
          ],
          [
           "</br>id: 158</br>prediction: 0.961</br>restecg: 0.14</br></br>age: 70.0</br>sex: 1.0</br>cp: 3.0</br>trestbps: 130.0</br>chol: 322.0</br>fbs: 0.0</br>thalach: 109.0</br>exang: 0.0</br>oldpeak: 2.4</br>slope: 1.0</br>ca: 3.0</br>thal: 0.0</br>_original_yhat_: 0.9742528447623608</br>"
          ],
          [
           "</br>id: 158</br>prediction: 0.961</br>restecg: 0.16</br></br>age: 70.0</br>sex: 1.0</br>cp: 3.0</br>trestbps: 130.0</br>chol: 322.0</br>fbs: 0.0</br>thalach: 109.0</br>exang: 0.0</br>oldpeak: 2.4</br>slope: 1.0</br>ca: 3.0</br>thal: 0.0</br>_original_yhat_: 0.9742528447623608</br>"
          ],
          [
           "</br>id: 158</br>prediction: 0.962</br>restecg: 0.18</br></br>age: 70.0</br>sex: 1.0</br>cp: 3.0</br>trestbps: 130.0</br>chol: 322.0</br>fbs: 0.0</br>thalach: 109.0</br>exang: 0.0</br>oldpeak: 2.4</br>slope: 1.0</br>ca: 3.0</br>thal: 0.0</br>_original_yhat_: 0.9742528447623608</br>"
          ],
          [
           "</br>id: 158</br>prediction: 0.962</br>restecg: 0.2</br></br>age: 70.0</br>sex: 1.0</br>cp: 3.0</br>trestbps: 130.0</br>chol: 322.0</br>fbs: 0.0</br>thalach: 109.0</br>exang: 0.0</br>oldpeak: 2.4</br>slope: 1.0</br>ca: 3.0</br>thal: 0.0</br>_original_yhat_: 0.9742528447623608</br>"
          ],
          [
           "</br>id: 158</br>prediction: 0.962</br>restecg: 0.22</br></br>age: 70.0</br>sex: 1.0</br>cp: 3.0</br>trestbps: 130.0</br>chol: 322.0</br>fbs: 0.0</br>thalach: 109.0</br>exang: 0.0</br>oldpeak: 2.4</br>slope: 1.0</br>ca: 3.0</br>thal: 0.0</br>_original_yhat_: 0.9742528447623608</br>"
          ],
          [
           "</br>id: 158</br>prediction: 0.962</br>restecg: 0.24</br></br>age: 70.0</br>sex: 1.0</br>cp: 3.0</br>trestbps: 130.0</br>chol: 322.0</br>fbs: 0.0</br>thalach: 109.0</br>exang: 0.0</br>oldpeak: 2.4</br>slope: 1.0</br>ca: 3.0</br>thal: 0.0</br>_original_yhat_: 0.9742528447623608</br>"
          ],
          [
           "</br>id: 158</br>prediction: 0.962</br>restecg: 0.26</br></br>age: 70.0</br>sex: 1.0</br>cp: 3.0</br>trestbps: 130.0</br>chol: 322.0</br>fbs: 0.0</br>thalach: 109.0</br>exang: 0.0</br>oldpeak: 2.4</br>slope: 1.0</br>ca: 3.0</br>thal: 0.0</br>_original_yhat_: 0.9742528447623608</br>"
          ],
          [
           "</br>id: 158</br>prediction: 0.962</br>restecg: 0.28</br></br>age: 70.0</br>sex: 1.0</br>cp: 3.0</br>trestbps: 130.0</br>chol: 322.0</br>fbs: 0.0</br>thalach: 109.0</br>exang: 0.0</br>oldpeak: 2.4</br>slope: 1.0</br>ca: 3.0</br>thal: 0.0</br>_original_yhat_: 0.9742528447623608</br>"
          ],
          [
           "</br>id: 158</br>prediction: 0.963</br>restecg: 0.3</br></br>age: 70.0</br>sex: 1.0</br>cp: 3.0</br>trestbps: 130.0</br>chol: 322.0</br>fbs: 0.0</br>thalach: 109.0</br>exang: 0.0</br>oldpeak: 2.4</br>slope: 1.0</br>ca: 3.0</br>thal: 0.0</br>_original_yhat_: 0.9742528447623608</br>"
          ],
          [
           "</br>id: 158</br>prediction: 0.963</br>restecg: 0.32</br></br>age: 70.0</br>sex: 1.0</br>cp: 3.0</br>trestbps: 130.0</br>chol: 322.0</br>fbs: 0.0</br>thalach: 109.0</br>exang: 0.0</br>oldpeak: 2.4</br>slope: 1.0</br>ca: 3.0</br>thal: 0.0</br>_original_yhat_: 0.9742528447623608</br>"
          ],
          [
           "</br>id: 158</br>prediction: 0.963</br>restecg: 0.34</br></br>age: 70.0</br>sex: 1.0</br>cp: 3.0</br>trestbps: 130.0</br>chol: 322.0</br>fbs: 0.0</br>thalach: 109.0</br>exang: 0.0</br>oldpeak: 2.4</br>slope: 1.0</br>ca: 3.0</br>thal: 0.0</br>_original_yhat_: 0.9742528447623608</br>"
          ],
          [
           "</br>id: 158</br>prediction: 0.963</br>restecg: 0.36</br></br>age: 70.0</br>sex: 1.0</br>cp: 3.0</br>trestbps: 130.0</br>chol: 322.0</br>fbs: 0.0</br>thalach: 109.0</br>exang: 0.0</br>oldpeak: 2.4</br>slope: 1.0</br>ca: 3.0</br>thal: 0.0</br>_original_yhat_: 0.9742528447623608</br>"
          ],
          [
           "</br>id: 158</br>prediction: 0.963</br>restecg: 0.38</br></br>age: 70.0</br>sex: 1.0</br>cp: 3.0</br>trestbps: 130.0</br>chol: 322.0</br>fbs: 0.0</br>thalach: 109.0</br>exang: 0.0</br>oldpeak: 2.4</br>slope: 1.0</br>ca: 3.0</br>thal: 0.0</br>_original_yhat_: 0.9742528447623608</br>"
          ],
          [
           "</br>id: 158</br>prediction: 0.963</br>restecg: 0.4</br></br>age: 70.0</br>sex: 1.0</br>cp: 3.0</br>trestbps: 130.0</br>chol: 322.0</br>fbs: 0.0</br>thalach: 109.0</br>exang: 0.0</br>oldpeak: 2.4</br>slope: 1.0</br>ca: 3.0</br>thal: 0.0</br>_original_yhat_: 0.9742528447623608</br>"
          ],
          [
           "</br>id: 158</br>prediction: 0.964</br>restecg: 0.42</br></br>age: 70.0</br>sex: 1.0</br>cp: 3.0</br>trestbps: 130.0</br>chol: 322.0</br>fbs: 0.0</br>thalach: 109.0</br>exang: 0.0</br>oldpeak: 2.4</br>slope: 1.0</br>ca: 3.0</br>thal: 0.0</br>_original_yhat_: 0.9742528447623608</br>"
          ],
          [
           "</br>id: 158</br>prediction: 0.964</br>restecg: 0.44</br></br>age: 70.0</br>sex: 1.0</br>cp: 3.0</br>trestbps: 130.0</br>chol: 322.0</br>fbs: 0.0</br>thalach: 109.0</br>exang: 0.0</br>oldpeak: 2.4</br>slope: 1.0</br>ca: 3.0</br>thal: 0.0</br>_original_yhat_: 0.9742528447623608</br>"
          ],
          [
           "</br>id: 158</br>prediction: 0.964</br>restecg: 0.46</br></br>age: 70.0</br>sex: 1.0</br>cp: 3.0</br>trestbps: 130.0</br>chol: 322.0</br>fbs: 0.0</br>thalach: 109.0</br>exang: 0.0</br>oldpeak: 2.4</br>slope: 1.0</br>ca: 3.0</br>thal: 0.0</br>_original_yhat_: 0.9742528447623608</br>"
          ],
          [
           "</br>id: 158</br>prediction: 0.964</br>restecg: 0.48</br></br>age: 70.0</br>sex: 1.0</br>cp: 3.0</br>trestbps: 130.0</br>chol: 322.0</br>fbs: 0.0</br>thalach: 109.0</br>exang: 0.0</br>oldpeak: 2.4</br>slope: 1.0</br>ca: 3.0</br>thal: 0.0</br>_original_yhat_: 0.9742528447623608</br>"
          ],
          [
           "</br>id: 158</br>prediction: 0.964</br>restecg: 0.5</br></br>age: 70.0</br>sex: 1.0</br>cp: 3.0</br>trestbps: 130.0</br>chol: 322.0</br>fbs: 0.0</br>thalach: 109.0</br>exang: 0.0</br>oldpeak: 2.4</br>slope: 1.0</br>ca: 3.0</br>thal: 0.0</br>_original_yhat_: 0.9742528447623608</br>"
          ],
          [
           "</br>id: 158</br>prediction: 0.964</br>restecg: 0.52</br></br>age: 70.0</br>sex: 1.0</br>cp: 3.0</br>trestbps: 130.0</br>chol: 322.0</br>fbs: 0.0</br>thalach: 109.0</br>exang: 0.0</br>oldpeak: 2.4</br>slope: 1.0</br>ca: 3.0</br>thal: 0.0</br>_original_yhat_: 0.9742528447623608</br>"
          ],
          [
           "</br>id: 158</br>prediction: 0.965</br>restecg: 0.54</br></br>age: 70.0</br>sex: 1.0</br>cp: 3.0</br>trestbps: 130.0</br>chol: 322.0</br>fbs: 0.0</br>thalach: 109.0</br>exang: 0.0</br>oldpeak: 2.4</br>slope: 1.0</br>ca: 3.0</br>thal: 0.0</br>_original_yhat_: 0.9742528447623608</br>"
          ],
          [
           "</br>id: 158</br>prediction: 0.965</br>restecg: 0.56</br></br>age: 70.0</br>sex: 1.0</br>cp: 3.0</br>trestbps: 130.0</br>chol: 322.0</br>fbs: 0.0</br>thalach: 109.0</br>exang: 0.0</br>oldpeak: 2.4</br>slope: 1.0</br>ca: 3.0</br>thal: 0.0</br>_original_yhat_: 0.9742528447623608</br>"
          ],
          [
           "</br>id: 158</br>prediction: 0.965</br>restecg: 0.58</br></br>age: 70.0</br>sex: 1.0</br>cp: 3.0</br>trestbps: 130.0</br>chol: 322.0</br>fbs: 0.0</br>thalach: 109.0</br>exang: 0.0</br>oldpeak: 2.4</br>slope: 1.0</br>ca: 3.0</br>thal: 0.0</br>_original_yhat_: 0.9742528447623608</br>"
          ],
          [
           "</br>id: 158</br>prediction: 0.965</br>restecg: 0.6</br></br>age: 70.0</br>sex: 1.0</br>cp: 3.0</br>trestbps: 130.0</br>chol: 322.0</br>fbs: 0.0</br>thalach: 109.0</br>exang: 0.0</br>oldpeak: 2.4</br>slope: 1.0</br>ca: 3.0</br>thal: 0.0</br>_original_yhat_: 0.9742528447623608</br>"
          ],
          [
           "</br>id: 158</br>prediction: 0.965</br>restecg: 0.62</br></br>age: 70.0</br>sex: 1.0</br>cp: 3.0</br>trestbps: 130.0</br>chol: 322.0</br>fbs: 0.0</br>thalach: 109.0</br>exang: 0.0</br>oldpeak: 2.4</br>slope: 1.0</br>ca: 3.0</br>thal: 0.0</br>_original_yhat_: 0.9742528447623608</br>"
          ],
          [
           "</br>id: 158</br>prediction: 0.965</br>restecg: 0.64</br></br>age: 70.0</br>sex: 1.0</br>cp: 3.0</br>trestbps: 130.0</br>chol: 322.0</br>fbs: 0.0</br>thalach: 109.0</br>exang: 0.0</br>oldpeak: 2.4</br>slope: 1.0</br>ca: 3.0</br>thal: 0.0</br>_original_yhat_: 0.9742528447623608</br>"
          ],
          [
           "</br>id: 158</br>prediction: 0.965</br>restecg: 0.66</br></br>age: 70.0</br>sex: 1.0</br>cp: 3.0</br>trestbps: 130.0</br>chol: 322.0</br>fbs: 0.0</br>thalach: 109.0</br>exang: 0.0</br>oldpeak: 2.4</br>slope: 1.0</br>ca: 3.0</br>thal: 0.0</br>_original_yhat_: 0.9742528447623608</br>"
          ],
          [
           "</br>id: 158</br>prediction: 0.966</br>restecg: 0.68</br></br>age: 70.0</br>sex: 1.0</br>cp: 3.0</br>trestbps: 130.0</br>chol: 322.0</br>fbs: 0.0</br>thalach: 109.0</br>exang: 0.0</br>oldpeak: 2.4</br>slope: 1.0</br>ca: 3.0</br>thal: 0.0</br>_original_yhat_: 0.9742528447623608</br>"
          ],
          [
           "</br>id: 158</br>prediction: 0.966</br>restecg: 0.7000000000000001</br></br>age: 70.0</br>sex: 1.0</br>cp: 3.0</br>trestbps: 130.0</br>chol: 322.0</br>fbs: 0.0</br>thalach: 109.0</br>exang: 0.0</br>oldpeak: 2.4</br>slope: 1.0</br>ca: 3.0</br>thal: 0.0</br>_original_yhat_: 0.9742528447623608</br>"
          ],
          [
           "</br>id: 158</br>prediction: 0.966</br>restecg: 0.72</br></br>age: 70.0</br>sex: 1.0</br>cp: 3.0</br>trestbps: 130.0</br>chol: 322.0</br>fbs: 0.0</br>thalach: 109.0</br>exang: 0.0</br>oldpeak: 2.4</br>slope: 1.0</br>ca: 3.0</br>thal: 0.0</br>_original_yhat_: 0.9742528447623608</br>"
          ],
          [
           "</br>id: 158</br>prediction: 0.966</br>restecg: 0.74</br></br>age: 70.0</br>sex: 1.0</br>cp: 3.0</br>trestbps: 130.0</br>chol: 322.0</br>fbs: 0.0</br>thalach: 109.0</br>exang: 0.0</br>oldpeak: 2.4</br>slope: 1.0</br>ca: 3.0</br>thal: 0.0</br>_original_yhat_: 0.9742528447623608</br>"
          ],
          [
           "</br>id: 158</br>prediction: 0.966</br>restecg: 0.76</br></br>age: 70.0</br>sex: 1.0</br>cp: 3.0</br>trestbps: 130.0</br>chol: 322.0</br>fbs: 0.0</br>thalach: 109.0</br>exang: 0.0</br>oldpeak: 2.4</br>slope: 1.0</br>ca: 3.0</br>thal: 0.0</br>_original_yhat_: 0.9742528447623608</br>"
          ],
          [
           "</br>id: 158</br>prediction: 0.966</br>restecg: 0.78</br></br>age: 70.0</br>sex: 1.0</br>cp: 3.0</br>trestbps: 130.0</br>chol: 322.0</br>fbs: 0.0</br>thalach: 109.0</br>exang: 0.0</br>oldpeak: 2.4</br>slope: 1.0</br>ca: 3.0</br>thal: 0.0</br>_original_yhat_: 0.9742528447623608</br>"
          ],
          [
           "</br>id: 158</br>prediction: 0.967</br>restecg: 0.8</br></br>age: 70.0</br>sex: 1.0</br>cp: 3.0</br>trestbps: 130.0</br>chol: 322.0</br>fbs: 0.0</br>thalach: 109.0</br>exang: 0.0</br>oldpeak: 2.4</br>slope: 1.0</br>ca: 3.0</br>thal: 0.0</br>_original_yhat_: 0.9742528447623608</br>"
          ],
          [
           "</br>id: 158</br>prediction: 0.967</br>restecg: 0.8200000000000001</br></br>age: 70.0</br>sex: 1.0</br>cp: 3.0</br>trestbps: 130.0</br>chol: 322.0</br>fbs: 0.0</br>thalach: 109.0</br>exang: 0.0</br>oldpeak: 2.4</br>slope: 1.0</br>ca: 3.0</br>thal: 0.0</br>_original_yhat_: 0.9742528447623608</br>"
          ],
          [
           "</br>id: 158</br>prediction: 0.967</br>restecg: 0.84</br></br>age: 70.0</br>sex: 1.0</br>cp: 3.0</br>trestbps: 130.0</br>chol: 322.0</br>fbs: 0.0</br>thalach: 109.0</br>exang: 0.0</br>oldpeak: 2.4</br>slope: 1.0</br>ca: 3.0</br>thal: 0.0</br>_original_yhat_: 0.9742528447623608</br>"
          ],
          [
           "</br>id: 158</br>prediction: 0.967</br>restecg: 0.86</br></br>age: 70.0</br>sex: 1.0</br>cp: 3.0</br>trestbps: 130.0</br>chol: 322.0</br>fbs: 0.0</br>thalach: 109.0</br>exang: 0.0</br>oldpeak: 2.4</br>slope: 1.0</br>ca: 3.0</br>thal: 0.0</br>_original_yhat_: 0.9742528447623608</br>"
          ],
          [
           "</br>id: 158</br>prediction: 0.967</br>restecg: 0.88</br></br>age: 70.0</br>sex: 1.0</br>cp: 3.0</br>trestbps: 130.0</br>chol: 322.0</br>fbs: 0.0</br>thalach: 109.0</br>exang: 0.0</br>oldpeak: 2.4</br>slope: 1.0</br>ca: 3.0</br>thal: 0.0</br>_original_yhat_: 0.9742528447623608</br>"
          ],
          [
           "</br>id: 158</br>prediction: 0.967</br>restecg: 0.9</br></br>age: 70.0</br>sex: 1.0</br>cp: 3.0</br>trestbps: 130.0</br>chol: 322.0</br>fbs: 0.0</br>thalach: 109.0</br>exang: 0.0</br>oldpeak: 2.4</br>slope: 1.0</br>ca: 3.0</br>thal: 0.0</br>_original_yhat_: 0.9742528447623608</br>"
          ],
          [
           "</br>id: 158</br>prediction: 0.967</br>restecg: 0.92</br></br>age: 70.0</br>sex: 1.0</br>cp: 3.0</br>trestbps: 130.0</br>chol: 322.0</br>fbs: 0.0</br>thalach: 109.0</br>exang: 0.0</br>oldpeak: 2.4</br>slope: 1.0</br>ca: 3.0</br>thal: 0.0</br>_original_yhat_: 0.9742528447623608</br>"
          ],
          [
           "</br>id: 158</br>prediction: 0.968</br>restecg: 0.9400000000000001</br></br>age: 70.0</br>sex: 1.0</br>cp: 3.0</br>trestbps: 130.0</br>chol: 322.0</br>fbs: 0.0</br>thalach: 109.0</br>exang: 0.0</br>oldpeak: 2.4</br>slope: 1.0</br>ca: 3.0</br>thal: 0.0</br>_original_yhat_: 0.9742528447623608</br>"
          ],
          [
           "</br>id: 158</br>prediction: 0.968</br>restecg: 0.96</br></br>age: 70.0</br>sex: 1.0</br>cp: 3.0</br>trestbps: 130.0</br>chol: 322.0</br>fbs: 0.0</br>thalach: 109.0</br>exang: 0.0</br>oldpeak: 2.4</br>slope: 1.0</br>ca: 3.0</br>thal: 0.0</br>_original_yhat_: 0.9742528447623608</br>"
          ],
          [
           "</br>id: 158</br>prediction: 0.968</br>restecg: 0.98</br></br>age: 70.0</br>sex: 1.0</br>cp: 3.0</br>trestbps: 130.0</br>chol: 322.0</br>fbs: 0.0</br>thalach: 109.0</br>exang: 0.0</br>oldpeak: 2.4</br>slope: 1.0</br>ca: 3.0</br>thal: 0.0</br>_original_yhat_: 0.9742528447623608</br>"
          ],
          [
           "</br>id: 158</br>prediction: 0.968</br>restecg: 1.0</br></br>age: 70.0</br>sex: 1.0</br>cp: 3.0</br>trestbps: 130.0</br>chol: 322.0</br>fbs: 0.0</br>thalach: 109.0</br>exang: 0.0</br>oldpeak: 2.4</br>slope: 1.0</br>ca: 3.0</br>thal: 0.0</br>_original_yhat_: 0.9742528447623608</br>"
          ],
          [
           "</br>id: 158</br>prediction: 0.968</br>restecg: 1.02</br></br>age: 70.0</br>sex: 1.0</br>cp: 3.0</br>trestbps: 130.0</br>chol: 322.0</br>fbs: 0.0</br>thalach: 109.0</br>exang: 0.0</br>oldpeak: 2.4</br>slope: 1.0</br>ca: 3.0</br>thal: 0.0</br>_original_yhat_: 0.9742528447623608</br>"
          ],
          [
           "</br>id: 158</br>prediction: 0.968</br>restecg: 1.04</br></br>age: 70.0</br>sex: 1.0</br>cp: 3.0</br>trestbps: 130.0</br>chol: 322.0</br>fbs: 0.0</br>thalach: 109.0</br>exang: 0.0</br>oldpeak: 2.4</br>slope: 1.0</br>ca: 3.0</br>thal: 0.0</br>_original_yhat_: 0.9742528447623608</br>"
          ],
          [
           "</br>id: 158</br>prediction: 0.968</br>restecg: 1.06</br></br>age: 70.0</br>sex: 1.0</br>cp: 3.0</br>trestbps: 130.0</br>chol: 322.0</br>fbs: 0.0</br>thalach: 109.0</br>exang: 0.0</br>oldpeak: 2.4</br>slope: 1.0</br>ca: 3.0</br>thal: 0.0</br>_original_yhat_: 0.9742528447623608</br>"
          ],
          [
           "</br>id: 158</br>prediction: 0.968</br>restecg: 1.08</br></br>age: 70.0</br>sex: 1.0</br>cp: 3.0</br>trestbps: 130.0</br>chol: 322.0</br>fbs: 0.0</br>thalach: 109.0</br>exang: 0.0</br>oldpeak: 2.4</br>slope: 1.0</br>ca: 3.0</br>thal: 0.0</br>_original_yhat_: 0.9742528447623608</br>"
          ],
          [
           "</br>id: 158</br>prediction: 0.969</br>restecg: 1.1</br></br>age: 70.0</br>sex: 1.0</br>cp: 3.0</br>trestbps: 130.0</br>chol: 322.0</br>fbs: 0.0</br>thalach: 109.0</br>exang: 0.0</br>oldpeak: 2.4</br>slope: 1.0</br>ca: 3.0</br>thal: 0.0</br>_original_yhat_: 0.9742528447623608</br>"
          ],
          [
           "</br>id: 158</br>prediction: 0.969</br>restecg: 1.12</br></br>age: 70.0</br>sex: 1.0</br>cp: 3.0</br>trestbps: 130.0</br>chol: 322.0</br>fbs: 0.0</br>thalach: 109.0</br>exang: 0.0</br>oldpeak: 2.4</br>slope: 1.0</br>ca: 3.0</br>thal: 0.0</br>_original_yhat_: 0.9742528447623608</br>"
          ],
          [
           "</br>id: 158</br>prediction: 0.969</br>restecg: 1.1400000000000001</br></br>age: 70.0</br>sex: 1.0</br>cp: 3.0</br>trestbps: 130.0</br>chol: 322.0</br>fbs: 0.0</br>thalach: 109.0</br>exang: 0.0</br>oldpeak: 2.4</br>slope: 1.0</br>ca: 3.0</br>thal: 0.0</br>_original_yhat_: 0.9742528447623608</br>"
          ],
          [
           "</br>id: 158</br>prediction: 0.969</br>restecg: 1.16</br></br>age: 70.0</br>sex: 1.0</br>cp: 3.0</br>trestbps: 130.0</br>chol: 322.0</br>fbs: 0.0</br>thalach: 109.0</br>exang: 0.0</br>oldpeak: 2.4</br>slope: 1.0</br>ca: 3.0</br>thal: 0.0</br>_original_yhat_: 0.9742528447623608</br>"
          ],
          [
           "</br>id: 158</br>prediction: 0.969</br>restecg: 1.18</br></br>age: 70.0</br>sex: 1.0</br>cp: 3.0</br>trestbps: 130.0</br>chol: 322.0</br>fbs: 0.0</br>thalach: 109.0</br>exang: 0.0</br>oldpeak: 2.4</br>slope: 1.0</br>ca: 3.0</br>thal: 0.0</br>_original_yhat_: 0.9742528447623608</br>"
          ],
          [
           "</br>id: 158</br>prediction: 0.969</br>restecg: 1.2</br></br>age: 70.0</br>sex: 1.0</br>cp: 3.0</br>trestbps: 130.0</br>chol: 322.0</br>fbs: 0.0</br>thalach: 109.0</br>exang: 0.0</br>oldpeak: 2.4</br>slope: 1.0</br>ca: 3.0</br>thal: 0.0</br>_original_yhat_: 0.9742528447623608</br>"
          ],
          [
           "</br>id: 158</br>prediction: 0.969</br>restecg: 1.22</br></br>age: 70.0</br>sex: 1.0</br>cp: 3.0</br>trestbps: 130.0</br>chol: 322.0</br>fbs: 0.0</br>thalach: 109.0</br>exang: 0.0</br>oldpeak: 2.4</br>slope: 1.0</br>ca: 3.0</br>thal: 0.0</br>_original_yhat_: 0.9742528447623608</br>"
          ],
          [
           "</br>id: 158</br>prediction: 0.97</br>restecg: 1.24</br></br>age: 70.0</br>sex: 1.0</br>cp: 3.0</br>trestbps: 130.0</br>chol: 322.0</br>fbs: 0.0</br>thalach: 109.0</br>exang: 0.0</br>oldpeak: 2.4</br>slope: 1.0</br>ca: 3.0</br>thal: 0.0</br>_original_yhat_: 0.9742528447623608</br>"
          ],
          [
           "</br>id: 158</br>prediction: 0.97</br>restecg: 1.26</br></br>age: 70.0</br>sex: 1.0</br>cp: 3.0</br>trestbps: 130.0</br>chol: 322.0</br>fbs: 0.0</br>thalach: 109.0</br>exang: 0.0</br>oldpeak: 2.4</br>slope: 1.0</br>ca: 3.0</br>thal: 0.0</br>_original_yhat_: 0.9742528447623608</br>"
          ],
          [
           "</br>id: 158</br>prediction: 0.97</br>restecg: 1.28</br></br>age: 70.0</br>sex: 1.0</br>cp: 3.0</br>trestbps: 130.0</br>chol: 322.0</br>fbs: 0.0</br>thalach: 109.0</br>exang: 0.0</br>oldpeak: 2.4</br>slope: 1.0</br>ca: 3.0</br>thal: 0.0</br>_original_yhat_: 0.9742528447623608</br>"
          ],
          [
           "</br>id: 158</br>prediction: 0.97</br>restecg: 1.3</br></br>age: 70.0</br>sex: 1.0</br>cp: 3.0</br>trestbps: 130.0</br>chol: 322.0</br>fbs: 0.0</br>thalach: 109.0</br>exang: 0.0</br>oldpeak: 2.4</br>slope: 1.0</br>ca: 3.0</br>thal: 0.0</br>_original_yhat_: 0.9742528447623608</br>"
          ],
          [
           "</br>id: 158</br>prediction: 0.97</br>restecg: 1.32</br></br>age: 70.0</br>sex: 1.0</br>cp: 3.0</br>trestbps: 130.0</br>chol: 322.0</br>fbs: 0.0</br>thalach: 109.0</br>exang: 0.0</br>oldpeak: 2.4</br>slope: 1.0</br>ca: 3.0</br>thal: 0.0</br>_original_yhat_: 0.9742528447623608</br>"
          ],
          [
           "</br>id: 158</br>prediction: 0.97</br>restecg: 1.34</br></br>age: 70.0</br>sex: 1.0</br>cp: 3.0</br>trestbps: 130.0</br>chol: 322.0</br>fbs: 0.0</br>thalach: 109.0</br>exang: 0.0</br>oldpeak: 2.4</br>slope: 1.0</br>ca: 3.0</br>thal: 0.0</br>_original_yhat_: 0.9742528447623608</br>"
          ],
          [
           "</br>id: 158</br>prediction: 0.97</br>restecg: 1.36</br></br>age: 70.0</br>sex: 1.0</br>cp: 3.0</br>trestbps: 130.0</br>chol: 322.0</br>fbs: 0.0</br>thalach: 109.0</br>exang: 0.0</br>oldpeak: 2.4</br>slope: 1.0</br>ca: 3.0</br>thal: 0.0</br>_original_yhat_: 0.9742528447623608</br>"
          ],
          [
           "</br>id: 158</br>prediction: 0.97</br>restecg: 1.3800000000000001</br></br>age: 70.0</br>sex: 1.0</br>cp: 3.0</br>trestbps: 130.0</br>chol: 322.0</br>fbs: 0.0</br>thalach: 109.0</br>exang: 0.0</br>oldpeak: 2.4</br>slope: 1.0</br>ca: 3.0</br>thal: 0.0</br>_original_yhat_: 0.9742528447623608</br>"
          ],
          [
           "</br>id: 158</br>prediction: 0.971</br>restecg: 1.4000000000000001</br></br>age: 70.0</br>sex: 1.0</br>cp: 3.0</br>trestbps: 130.0</br>chol: 322.0</br>fbs: 0.0</br>thalach: 109.0</br>exang: 0.0</br>oldpeak: 2.4</br>slope: 1.0</br>ca: 3.0</br>thal: 0.0</br>_original_yhat_: 0.9742528447623608</br>"
          ],
          [
           "</br>id: 158</br>prediction: 0.971</br>restecg: 1.42</br></br>age: 70.0</br>sex: 1.0</br>cp: 3.0</br>trestbps: 130.0</br>chol: 322.0</br>fbs: 0.0</br>thalach: 109.0</br>exang: 0.0</br>oldpeak: 2.4</br>slope: 1.0</br>ca: 3.0</br>thal: 0.0</br>_original_yhat_: 0.9742528447623608</br>"
          ],
          [
           "</br>id: 158</br>prediction: 0.971</br>restecg: 1.44</br></br>age: 70.0</br>sex: 1.0</br>cp: 3.0</br>trestbps: 130.0</br>chol: 322.0</br>fbs: 0.0</br>thalach: 109.0</br>exang: 0.0</br>oldpeak: 2.4</br>slope: 1.0</br>ca: 3.0</br>thal: 0.0</br>_original_yhat_: 0.9742528447623608</br>"
          ],
          [
           "</br>id: 158</br>prediction: 0.971</br>restecg: 1.46</br></br>age: 70.0</br>sex: 1.0</br>cp: 3.0</br>trestbps: 130.0</br>chol: 322.0</br>fbs: 0.0</br>thalach: 109.0</br>exang: 0.0</br>oldpeak: 2.4</br>slope: 1.0</br>ca: 3.0</br>thal: 0.0</br>_original_yhat_: 0.9742528447623608</br>"
          ],
          [
           "</br>id: 158</br>prediction: 0.971</br>restecg: 1.48</br></br>age: 70.0</br>sex: 1.0</br>cp: 3.0</br>trestbps: 130.0</br>chol: 322.0</br>fbs: 0.0</br>thalach: 109.0</br>exang: 0.0</br>oldpeak: 2.4</br>slope: 1.0</br>ca: 3.0</br>thal: 0.0</br>_original_yhat_: 0.9742528447623608</br>"
          ],
          [
           "</br>id: 158</br>prediction: 0.971</br>restecg: 1.5</br></br>age: 70.0</br>sex: 1.0</br>cp: 3.0</br>trestbps: 130.0</br>chol: 322.0</br>fbs: 0.0</br>thalach: 109.0</br>exang: 0.0</br>oldpeak: 2.4</br>slope: 1.0</br>ca: 3.0</br>thal: 0.0</br>_original_yhat_: 0.9742528447623608</br>"
          ],
          [
           "</br>id: 158</br>prediction: 0.971</br>restecg: 1.52</br></br>age: 70.0</br>sex: 1.0</br>cp: 3.0</br>trestbps: 130.0</br>chol: 322.0</br>fbs: 0.0</br>thalach: 109.0</br>exang: 0.0</br>oldpeak: 2.4</br>slope: 1.0</br>ca: 3.0</br>thal: 0.0</br>_original_yhat_: 0.9742528447623608</br>"
          ],
          [
           "</br>id: 158</br>prediction: 0.972</br>restecg: 1.54</br></br>age: 70.0</br>sex: 1.0</br>cp: 3.0</br>trestbps: 130.0</br>chol: 322.0</br>fbs: 0.0</br>thalach: 109.0</br>exang: 0.0</br>oldpeak: 2.4</br>slope: 1.0</br>ca: 3.0</br>thal: 0.0</br>_original_yhat_: 0.9742528447623608</br>"
          ],
          [
           "</br>id: 158</br>prediction: 0.972</br>restecg: 1.56</br></br>age: 70.0</br>sex: 1.0</br>cp: 3.0</br>trestbps: 130.0</br>chol: 322.0</br>fbs: 0.0</br>thalach: 109.0</br>exang: 0.0</br>oldpeak: 2.4</br>slope: 1.0</br>ca: 3.0</br>thal: 0.0</br>_original_yhat_: 0.9742528447623608</br>"
          ],
          [
           "</br>id: 158</br>prediction: 0.972</br>restecg: 1.58</br></br>age: 70.0</br>sex: 1.0</br>cp: 3.0</br>trestbps: 130.0</br>chol: 322.0</br>fbs: 0.0</br>thalach: 109.0</br>exang: 0.0</br>oldpeak: 2.4</br>slope: 1.0</br>ca: 3.0</br>thal: 0.0</br>_original_yhat_: 0.9742528447623608</br>"
          ],
          [
           "</br>id: 158</br>prediction: 0.972</br>restecg: 1.6</br></br>age: 70.0</br>sex: 1.0</br>cp: 3.0</br>trestbps: 130.0</br>chol: 322.0</br>fbs: 0.0</br>thalach: 109.0</br>exang: 0.0</br>oldpeak: 2.4</br>slope: 1.0</br>ca: 3.0</br>thal: 0.0</br>_original_yhat_: 0.9742528447623608</br>"
          ],
          [
           "</br>id: 158</br>prediction: 0.972</br>restecg: 1.62</br></br>age: 70.0</br>sex: 1.0</br>cp: 3.0</br>trestbps: 130.0</br>chol: 322.0</br>fbs: 0.0</br>thalach: 109.0</br>exang: 0.0</br>oldpeak: 2.4</br>slope: 1.0</br>ca: 3.0</br>thal: 0.0</br>_original_yhat_: 0.9742528447623608</br>"
          ],
          [
           "</br>id: 158</br>prediction: 0.972</br>restecg: 1.6400000000000001</br></br>age: 70.0</br>sex: 1.0</br>cp: 3.0</br>trestbps: 130.0</br>chol: 322.0</br>fbs: 0.0</br>thalach: 109.0</br>exang: 0.0</br>oldpeak: 2.4</br>slope: 1.0</br>ca: 3.0</br>thal: 0.0</br>_original_yhat_: 0.9742528447623608</br>"
          ],
          [
           "</br>id: 158</br>prediction: 0.972</br>restecg: 1.6600000000000001</br></br>age: 70.0</br>sex: 1.0</br>cp: 3.0</br>trestbps: 130.0</br>chol: 322.0</br>fbs: 0.0</br>thalach: 109.0</br>exang: 0.0</br>oldpeak: 2.4</br>slope: 1.0</br>ca: 3.0</br>thal: 0.0</br>_original_yhat_: 0.9742528447623608</br>"
          ],
          [
           "</br>id: 158</br>prediction: 0.972</br>restecg: 1.68</br></br>age: 70.0</br>sex: 1.0</br>cp: 3.0</br>trestbps: 130.0</br>chol: 322.0</br>fbs: 0.0</br>thalach: 109.0</br>exang: 0.0</br>oldpeak: 2.4</br>slope: 1.0</br>ca: 3.0</br>thal: 0.0</br>_original_yhat_: 0.9742528447623608</br>"
          ],
          [
           "</br>id: 158</br>prediction: 0.972</br>restecg: 1.7</br></br>age: 70.0</br>sex: 1.0</br>cp: 3.0</br>trestbps: 130.0</br>chol: 322.0</br>fbs: 0.0</br>thalach: 109.0</br>exang: 0.0</br>oldpeak: 2.4</br>slope: 1.0</br>ca: 3.0</br>thal: 0.0</br>_original_yhat_: 0.9742528447623608</br>"
          ],
          [
           "</br>id: 158</br>prediction: 0.973</br>restecg: 1.72</br></br>age: 70.0</br>sex: 1.0</br>cp: 3.0</br>trestbps: 130.0</br>chol: 322.0</br>fbs: 0.0</br>thalach: 109.0</br>exang: 0.0</br>oldpeak: 2.4</br>slope: 1.0</br>ca: 3.0</br>thal: 0.0</br>_original_yhat_: 0.9742528447623608</br>"
          ],
          [
           "</br>id: 158</br>prediction: 0.973</br>restecg: 1.74</br></br>age: 70.0</br>sex: 1.0</br>cp: 3.0</br>trestbps: 130.0</br>chol: 322.0</br>fbs: 0.0</br>thalach: 109.0</br>exang: 0.0</br>oldpeak: 2.4</br>slope: 1.0</br>ca: 3.0</br>thal: 0.0</br>_original_yhat_: 0.9742528447623608</br>"
          ],
          [
           "</br>id: 158</br>prediction: 0.973</br>restecg: 1.76</br></br>age: 70.0</br>sex: 1.0</br>cp: 3.0</br>trestbps: 130.0</br>chol: 322.0</br>fbs: 0.0</br>thalach: 109.0</br>exang: 0.0</br>oldpeak: 2.4</br>slope: 1.0</br>ca: 3.0</br>thal: 0.0</br>_original_yhat_: 0.9742528447623608</br>"
          ],
          [
           "</br>id: 158</br>prediction: 0.973</br>restecg: 1.78</br></br>age: 70.0</br>sex: 1.0</br>cp: 3.0</br>trestbps: 130.0</br>chol: 322.0</br>fbs: 0.0</br>thalach: 109.0</br>exang: 0.0</br>oldpeak: 2.4</br>slope: 1.0</br>ca: 3.0</br>thal: 0.0</br>_original_yhat_: 0.9742528447623608</br>"
          ],
          [
           "</br>id: 158</br>prediction: 0.973</br>restecg: 1.8</br></br>age: 70.0</br>sex: 1.0</br>cp: 3.0</br>trestbps: 130.0</br>chol: 322.0</br>fbs: 0.0</br>thalach: 109.0</br>exang: 0.0</br>oldpeak: 2.4</br>slope: 1.0</br>ca: 3.0</br>thal: 0.0</br>_original_yhat_: 0.9742528447623608</br>"
          ],
          [
           "</br>id: 158</br>prediction: 0.973</br>restecg: 1.82</br></br>age: 70.0</br>sex: 1.0</br>cp: 3.0</br>trestbps: 130.0</br>chol: 322.0</br>fbs: 0.0</br>thalach: 109.0</br>exang: 0.0</br>oldpeak: 2.4</br>slope: 1.0</br>ca: 3.0</br>thal: 0.0</br>_original_yhat_: 0.9742528447623608</br>"
          ],
          [
           "</br>id: 158</br>prediction: 0.973</br>restecg: 1.84</br></br>age: 70.0</br>sex: 1.0</br>cp: 3.0</br>trestbps: 130.0</br>chol: 322.0</br>fbs: 0.0</br>thalach: 109.0</br>exang: 0.0</br>oldpeak: 2.4</br>slope: 1.0</br>ca: 3.0</br>thal: 0.0</br>_original_yhat_: 0.9742528447623608</br>"
          ],
          [
           "</br>id: 158</br>prediction: 0.973</br>restecg: 1.86</br></br>age: 70.0</br>sex: 1.0</br>cp: 3.0</br>trestbps: 130.0</br>chol: 322.0</br>fbs: 0.0</br>thalach: 109.0</br>exang: 0.0</br>oldpeak: 2.4</br>slope: 1.0</br>ca: 3.0</br>thal: 0.0</br>_original_yhat_: 0.9742528447623608</br>"
          ],
          [
           "</br>id: 158</br>prediction: 0.974</br>restecg: 1.8800000000000001</br></br>age: 70.0</br>sex: 1.0</br>cp: 3.0</br>trestbps: 130.0</br>chol: 322.0</br>fbs: 0.0</br>thalach: 109.0</br>exang: 0.0</br>oldpeak: 2.4</br>slope: 1.0</br>ca: 3.0</br>thal: 0.0</br>_original_yhat_: 0.9742528447623608</br>"
          ],
          [
           "</br>id: 158</br>prediction: 0.974</br>restecg: 1.9000000000000001</br></br>age: 70.0</br>sex: 1.0</br>cp: 3.0</br>trestbps: 130.0</br>chol: 322.0</br>fbs: 0.0</br>thalach: 109.0</br>exang: 0.0</br>oldpeak: 2.4</br>slope: 1.0</br>ca: 3.0</br>thal: 0.0</br>_original_yhat_: 0.9742528447623608</br>"
          ],
          [
           "</br>id: 158</br>prediction: 0.974</br>restecg: 1.92</br></br>age: 70.0</br>sex: 1.0</br>cp: 3.0</br>trestbps: 130.0</br>chol: 322.0</br>fbs: 0.0</br>thalach: 109.0</br>exang: 0.0</br>oldpeak: 2.4</br>slope: 1.0</br>ca: 3.0</br>thal: 0.0</br>_original_yhat_: 0.9742528447623608</br>"
          ],
          [
           "</br>id: 158</br>prediction: 0.974</br>restecg: 1.94</br></br>age: 70.0</br>sex: 1.0</br>cp: 3.0</br>trestbps: 130.0</br>chol: 322.0</br>fbs: 0.0</br>thalach: 109.0</br>exang: 0.0</br>oldpeak: 2.4</br>slope: 1.0</br>ca: 3.0</br>thal: 0.0</br>_original_yhat_: 0.9742528447623608</br>"
          ],
          [
           "</br>id: 158</br>prediction: 0.974</br>restecg: 1.96</br></br>age: 70.0</br>sex: 1.0</br>cp: 3.0</br>trestbps: 130.0</br>chol: 322.0</br>fbs: 0.0</br>thalach: 109.0</br>exang: 0.0</br>oldpeak: 2.4</br>slope: 1.0</br>ca: 3.0</br>thal: 0.0</br>_original_yhat_: 0.9742528447623608</br>"
          ],
          [
           "</br>id: 158</br>prediction: 0.974</br>restecg: 1.98</br></br>age: 70.0</br>sex: 1.0</br>cp: 3.0</br>trestbps: 130.0</br>chol: 322.0</br>fbs: 0.0</br>thalach: 109.0</br>exang: 0.0</br>oldpeak: 2.4</br>slope: 1.0</br>ca: 3.0</br>thal: 0.0</br>_original_yhat_: 0.9742528447623608</br>"
          ],
          [
           "</br>id: 158</br>prediction: 0.974</br>restecg: 2.0</br></br>age: 70.0</br>sex: 1.0</br>cp: 3.0</br>trestbps: 130.0</br>chol: 322.0</br>fbs: 0.0</br>thalach: 109.0</br>exang: 0.0</br>oldpeak: 2.4</br>slope: 1.0</br>ca: 3.0</br>thal: 0.0</br>_original_yhat_: 0.9742528447623608</br>"
          ]
         ],
         "hovertemplate": "%{customdata[0]}<extra></extra>",
         "legendgroup": "RandomizedSearchCV",
         "line": {
          "color": "#46bac2",
          "dash": "solid",
          "width": 2
         },
         "marker": {
          "symbol": "circle"
         },
         "mode": "lines",
         "name": "RandomizedSearchCV",
         "opacity": 1,
         "showlegend": false,
         "type": "scattergl",
         "x": [
          0,
          0.02,
          0.04,
          0.06,
          0.08,
          0.1,
          0.12,
          0.14,
          0.16,
          0.18,
          0.2,
          0.22,
          0.24,
          0.26,
          0.28,
          0.3,
          0.32,
          0.34,
          0.36,
          0.38,
          0.4,
          0.42,
          0.44,
          0.46,
          0.48,
          0.5,
          0.52,
          0.54,
          0.56,
          0.58,
          0.6,
          0.62,
          0.64,
          0.66,
          0.68,
          0.7000000000000001,
          0.72,
          0.74,
          0.76,
          0.78,
          0.8,
          0.8200000000000001,
          0.84,
          0.86,
          0.88,
          0.9,
          0.92,
          0.9400000000000001,
          0.96,
          0.98,
          1,
          1.02,
          1.04,
          1.06,
          1.08,
          1.1,
          1.12,
          1.1400000000000001,
          1.16,
          1.18,
          1.2,
          1.22,
          1.24,
          1.26,
          1.28,
          1.3,
          1.32,
          1.34,
          1.36,
          1.3800000000000001,
          1.4000000000000001,
          1.42,
          1.44,
          1.46,
          1.48,
          1.5,
          1.52,
          1.54,
          1.56,
          1.58,
          1.6,
          1.62,
          1.6400000000000001,
          1.6600000000000001,
          1.68,
          1.7,
          1.72,
          1.74,
          1.76,
          1.78,
          1.8,
          1.82,
          1.84,
          1.86,
          1.8800000000000001,
          1.9000000000000001,
          1.92,
          1.94,
          1.96,
          1.98,
          2
         ],
         "xaxis": "x7",
         "y": [
          0.9601347897118144,
          0.9603073527728694,
          0.9604791996130471,
          0.9606503329392883,
          0.9608207554506053,
          0.9609904698380834,
          0.9611594787848833,
          0.9613277849662452,
          0.961495391049491,
          0.9616622996940285,
          0.9618285135513542,
          0.9619940352650584,
          0.962158867470828,
          0.9623230127964512,
          0.9624864738618224,
          0.9626492532789463,
          0.962811353651943,
          0.9629727775770535,
          0.9631335276426441,
          0.9632936064292126,
          0.9634530165093932,
          0.9636117604479636,
          0.9637698408018498,
          0.9639272601201329,
          0.964084020944055,
          0.964240125807027,
          0.9643955772346335,
          0.9645503777446418,
          0.9647045298470074,
          0.9648580360438814,
          0.9650108988296194,
          0.9651631206907875,
          0.9653147041061709,
          0.9654656515467815,
          0.9656159654758667,
          0.9657656483489162,
          0.9659147026136726,
          0.9660631307101376,
          0.9662109350705828,
          0.9663581181195572,
          0.9665046822738973,
          0.9666506299427351,
          0.9667959635275086,
          0.9669406854219709,
          0.967084798012199,
          0.9672283036766052,
          0.9673712047859456,
          0.9675135037033307,
          0.9676552027842357,
          0.9677963043765109,
          0.9679368108203913,
          0.9680767244485086,
          0.9682160475859002,
          0.9683547825500219,
          0.9684929316507577,
          0.9686304971904305,
          0.9687674814638146,
          0.9689038867581464,
          0.9690397153531355,
          0.9691749695209766,
          0.9693096515263614,
          0.9694437636264902,
          0.9695773080710836,
          0.9697102871023948,
          0.9698427029552217,
          0.969974557856919,
          0.9701058540274106,
          0.970236593679202,
          0.9703667790173935,
          0.9704964122396914,
          0.9706254955364223,
          0.970754031090545,
          0.970882021077664,
          0.9710094676660415,
          0.9711363730166125,
          0.9712627392829959,
          0.9713885686115091,
          0.9715138631411814,
          0.9716386250037663,
          0.9717628563237567,
          0.9718865592183978,
          0.9720097357977008,
          0.9721323881644562,
          0.9722545184142495,
          0.972376128635473,
          0.9724972209093417,
          0.9726177973099057,
          0.9727378599040665,
          0.9728574107515895,
          0.9729764519051195,
          0.9730949854101945,
          0.9732130133052601,
          0.9733305376216853,
          0.9734475603837756,
          0.9735640836087887,
          0.9736801093069491,
          0.9737956394814627,
          0.973910676128532,
          0.9740252212373708,
          0.9741392767902198,
          0.9742528447623608
         ],
         "yaxis": "y7"
        },
        {
         "customdata": [
          [
           "</br>id: 158</br>prediction: 0.993</br>thalach: 71.0</br></br>age: 70.0</br>sex: 1.0</br>cp: 3.0</br>trestbps: 130.0</br>chol: 322.0</br>fbs: 0.0</br>restecg: 2.0</br>exang: 0.0</br>oldpeak: 2.4</br>slope: 1.0</br>ca: 3.0</br>thal: 0.0</br>_original_yhat_: 0.9742528447623608</br>"
          ],
          [
           "</br>id: 158</br>prediction: 0.993</br>thalach: 72.31</br></br>age: 70.0</br>sex: 1.0</br>cp: 3.0</br>trestbps: 130.0</br>chol: 322.0</br>fbs: 0.0</br>restecg: 2.0</br>exang: 0.0</br>oldpeak: 2.4</br>slope: 1.0</br>ca: 3.0</br>thal: 0.0</br>_original_yhat_: 0.9742528447623608</br>"
          ],
          [
           "</br>id: 158</br>prediction: 0.993</br>thalach: 73.62</br></br>age: 70.0</br>sex: 1.0</br>cp: 3.0</br>trestbps: 130.0</br>chol: 322.0</br>fbs: 0.0</br>restecg: 2.0</br>exang: 0.0</br>oldpeak: 2.4</br>slope: 1.0</br>ca: 3.0</br>thal: 0.0</br>_original_yhat_: 0.9742528447623608</br>"
          ],
          [
           "</br>id: 158</br>prediction: 0.992</br>thalach: 74.93</br></br>age: 70.0</br>sex: 1.0</br>cp: 3.0</br>trestbps: 130.0</br>chol: 322.0</br>fbs: 0.0</br>restecg: 2.0</br>exang: 0.0</br>oldpeak: 2.4</br>slope: 1.0</br>ca: 3.0</br>thal: 0.0</br>_original_yhat_: 0.9742528447623608</br>"
          ],
          [
           "</br>id: 158</br>prediction: 0.992</br>thalach: 76.24</br></br>age: 70.0</br>sex: 1.0</br>cp: 3.0</br>trestbps: 130.0</br>chol: 322.0</br>fbs: 0.0</br>restecg: 2.0</br>exang: 0.0</br>oldpeak: 2.4</br>slope: 1.0</br>ca: 3.0</br>thal: 0.0</br>_original_yhat_: 0.9742528447623608</br>"
          ],
          [
           "</br>id: 158</br>prediction: 0.992</br>thalach: 77.55</br></br>age: 70.0</br>sex: 1.0</br>cp: 3.0</br>trestbps: 130.0</br>chol: 322.0</br>fbs: 0.0</br>restecg: 2.0</br>exang: 0.0</br>oldpeak: 2.4</br>slope: 1.0</br>ca: 3.0</br>thal: 0.0</br>_original_yhat_: 0.9742528447623608</br>"
          ],
          [
           "</br>id: 158</br>prediction: 0.991</br>thalach: 78.86</br></br>age: 70.0</br>sex: 1.0</br>cp: 3.0</br>trestbps: 130.0</br>chol: 322.0</br>fbs: 0.0</br>restecg: 2.0</br>exang: 0.0</br>oldpeak: 2.4</br>slope: 1.0</br>ca: 3.0</br>thal: 0.0</br>_original_yhat_: 0.9742528447623608</br>"
          ],
          [
           "</br>id: 158</br>prediction: 0.991</br>thalach: 80.17</br></br>age: 70.0</br>sex: 1.0</br>cp: 3.0</br>trestbps: 130.0</br>chol: 322.0</br>fbs: 0.0</br>restecg: 2.0</br>exang: 0.0</br>oldpeak: 2.4</br>slope: 1.0</br>ca: 3.0</br>thal: 0.0</br>_original_yhat_: 0.9742528447623608</br>"
          ],
          [
           "</br>id: 158</br>prediction: 0.99</br>thalach: 81.48</br></br>age: 70.0</br>sex: 1.0</br>cp: 3.0</br>trestbps: 130.0</br>chol: 322.0</br>fbs: 0.0</br>restecg: 2.0</br>exang: 0.0</br>oldpeak: 2.4</br>slope: 1.0</br>ca: 3.0</br>thal: 0.0</br>_original_yhat_: 0.9742528447623608</br>"
          ],
          [
           "</br>id: 158</br>prediction: 0.99</br>thalach: 82.79</br></br>age: 70.0</br>sex: 1.0</br>cp: 3.0</br>trestbps: 130.0</br>chol: 322.0</br>fbs: 0.0</br>restecg: 2.0</br>exang: 0.0</br>oldpeak: 2.4</br>slope: 1.0</br>ca: 3.0</br>thal: 0.0</br>_original_yhat_: 0.9742528447623608</br>"
          ],
          [
           "</br>id: 158</br>prediction: 0.989</br>thalach: 84.1</br></br>age: 70.0</br>sex: 1.0</br>cp: 3.0</br>trestbps: 130.0</br>chol: 322.0</br>fbs: 0.0</br>restecg: 2.0</br>exang: 0.0</br>oldpeak: 2.4</br>slope: 1.0</br>ca: 3.0</br>thal: 0.0</br>_original_yhat_: 0.9742528447623608</br>"
          ],
          [
           "</br>id: 158</br>prediction: 0.989</br>thalach: 85.41</br></br>age: 70.0</br>sex: 1.0</br>cp: 3.0</br>trestbps: 130.0</br>chol: 322.0</br>fbs: 0.0</br>restecg: 2.0</br>exang: 0.0</br>oldpeak: 2.4</br>slope: 1.0</br>ca: 3.0</br>thal: 0.0</br>_original_yhat_: 0.9742528447623608</br>"
          ],
          [
           "</br>id: 158</br>prediction: 0.988</br>thalach: 86.72</br></br>age: 70.0</br>sex: 1.0</br>cp: 3.0</br>trestbps: 130.0</br>chol: 322.0</br>fbs: 0.0</br>restecg: 2.0</br>exang: 0.0</br>oldpeak: 2.4</br>slope: 1.0</br>ca: 3.0</br>thal: 0.0</br>_original_yhat_: 0.9742528447623608</br>"
          ],
          [
           "</br>id: 158</br>prediction: 0.988</br>thalach: 88.03</br></br>age: 70.0</br>sex: 1.0</br>cp: 3.0</br>trestbps: 130.0</br>chol: 322.0</br>fbs: 0.0</br>restecg: 2.0</br>exang: 0.0</br>oldpeak: 2.4</br>slope: 1.0</br>ca: 3.0</br>thal: 0.0</br>_original_yhat_: 0.9742528447623608</br>"
          ],
          [
           "</br>id: 158</br>prediction: 0.987</br>thalach: 89.34</br></br>age: 70.0</br>sex: 1.0</br>cp: 3.0</br>trestbps: 130.0</br>chol: 322.0</br>fbs: 0.0</br>restecg: 2.0</br>exang: 0.0</br>oldpeak: 2.4</br>slope: 1.0</br>ca: 3.0</br>thal: 0.0</br>_original_yhat_: 0.9742528447623608</br>"
          ],
          [
           "</br>id: 158</br>prediction: 0.987</br>thalach: 90.65</br></br>age: 70.0</br>sex: 1.0</br>cp: 3.0</br>trestbps: 130.0</br>chol: 322.0</br>fbs: 0.0</br>restecg: 2.0</br>exang: 0.0</br>oldpeak: 2.4</br>slope: 1.0</br>ca: 3.0</br>thal: 0.0</br>_original_yhat_: 0.9742528447623608</br>"
          ],
          [
           "</br>id: 158</br>prediction: 0.986</br>thalach: 91.96000000000001</br></br>age: 70.0</br>sex: 1.0</br>cp: 3.0</br>trestbps: 130.0</br>chol: 322.0</br>fbs: 0.0</br>restecg: 2.0</br>exang: 0.0</br>oldpeak: 2.4</br>slope: 1.0</br>ca: 3.0</br>thal: 0.0</br>_original_yhat_: 0.9742528447623608</br>"
          ],
          [
           "</br>id: 158</br>prediction: 0.985</br>thalach: 93.27</br></br>age: 70.0</br>sex: 1.0</br>cp: 3.0</br>trestbps: 130.0</br>chol: 322.0</br>fbs: 0.0</br>restecg: 2.0</br>exang: 0.0</br>oldpeak: 2.4</br>slope: 1.0</br>ca: 3.0</br>thal: 0.0</br>_original_yhat_: 0.9742528447623608</br>"
          ],
          [
           "</br>id: 158</br>prediction: 0.985</br>thalach: 94.58</br></br>age: 70.0</br>sex: 1.0</br>cp: 3.0</br>trestbps: 130.0</br>chol: 322.0</br>fbs: 0.0</br>restecg: 2.0</br>exang: 0.0</br>oldpeak: 2.4</br>slope: 1.0</br>ca: 3.0</br>thal: 0.0</br>_original_yhat_: 0.9742528447623608</br>"
          ],
          [
           "</br>id: 158</br>prediction: 0.984</br>thalach: 95.89</br></br>age: 70.0</br>sex: 1.0</br>cp: 3.0</br>trestbps: 130.0</br>chol: 322.0</br>fbs: 0.0</br>restecg: 2.0</br>exang: 0.0</br>oldpeak: 2.4</br>slope: 1.0</br>ca: 3.0</br>thal: 0.0</br>_original_yhat_: 0.9742528447623608</br>"
          ],
          [
           "</br>id: 158</br>prediction: 0.983</br>thalach: 97.2</br></br>age: 70.0</br>sex: 1.0</br>cp: 3.0</br>trestbps: 130.0</br>chol: 322.0</br>fbs: 0.0</br>restecg: 2.0</br>exang: 0.0</br>oldpeak: 2.4</br>slope: 1.0</br>ca: 3.0</br>thal: 0.0</br>_original_yhat_: 0.9742528447623608</br>"
          ],
          [
           "</br>id: 158</br>prediction: 0.982</br>thalach: 98.51</br></br>age: 70.0</br>sex: 1.0</br>cp: 3.0</br>trestbps: 130.0</br>chol: 322.0</br>fbs: 0.0</br>restecg: 2.0</br>exang: 0.0</br>oldpeak: 2.4</br>slope: 1.0</br>ca: 3.0</br>thal: 0.0</br>_original_yhat_: 0.9742528447623608</br>"
          ],
          [
           "</br>id: 158</br>prediction: 0.981</br>thalach: 99.82</br></br>age: 70.0</br>sex: 1.0</br>cp: 3.0</br>trestbps: 130.0</br>chol: 322.0</br>fbs: 0.0</br>restecg: 2.0</br>exang: 0.0</br>oldpeak: 2.4</br>slope: 1.0</br>ca: 3.0</br>thal: 0.0</br>_original_yhat_: 0.9742528447623608</br>"
          ],
          [
           "</br>id: 158</br>prediction: 0.98</br>thalach: 101.13</br></br>age: 70.0</br>sex: 1.0</br>cp: 3.0</br>trestbps: 130.0</br>chol: 322.0</br>fbs: 0.0</br>restecg: 2.0</br>exang: 0.0</br>oldpeak: 2.4</br>slope: 1.0</br>ca: 3.0</br>thal: 0.0</br>_original_yhat_: 0.9742528447623608</br>"
          ],
          [
           "</br>id: 158</br>prediction: 0.98</br>thalach: 102.44</br></br>age: 70.0</br>sex: 1.0</br>cp: 3.0</br>trestbps: 130.0</br>chol: 322.0</br>fbs: 0.0</br>restecg: 2.0</br>exang: 0.0</br>oldpeak: 2.4</br>slope: 1.0</br>ca: 3.0</br>thal: 0.0</br>_original_yhat_: 0.9742528447623608</br>"
          ],
          [
           "</br>id: 158</br>prediction: 0.979</br>thalach: 103.75</br></br>age: 70.0</br>sex: 1.0</br>cp: 3.0</br>trestbps: 130.0</br>chol: 322.0</br>fbs: 0.0</br>restecg: 2.0</br>exang: 0.0</br>oldpeak: 2.4</br>slope: 1.0</br>ca: 3.0</br>thal: 0.0</br>_original_yhat_: 0.9742528447623608</br>"
          ],
          [
           "</br>id: 158</br>prediction: 0.978</br>thalach: 105.06</br></br>age: 70.0</br>sex: 1.0</br>cp: 3.0</br>trestbps: 130.0</br>chol: 322.0</br>fbs: 0.0</br>restecg: 2.0</br>exang: 0.0</br>oldpeak: 2.4</br>slope: 1.0</br>ca: 3.0</br>thal: 0.0</br>_original_yhat_: 0.9742528447623608</br>"
          ],
          [
           "</br>id: 158</br>prediction: 0.977</br>thalach: 106.37</br></br>age: 70.0</br>sex: 1.0</br>cp: 3.0</br>trestbps: 130.0</br>chol: 322.0</br>fbs: 0.0</br>restecg: 2.0</br>exang: 0.0</br>oldpeak: 2.4</br>slope: 1.0</br>ca: 3.0</br>thal: 0.0</br>_original_yhat_: 0.9742528447623608</br>"
          ],
          [
           "</br>id: 158</br>prediction: 0.975</br>thalach: 107.68</br></br>age: 70.0</br>sex: 1.0</br>cp: 3.0</br>trestbps: 130.0</br>chol: 322.0</br>fbs: 0.0</br>restecg: 2.0</br>exang: 0.0</br>oldpeak: 2.4</br>slope: 1.0</br>ca: 3.0</br>thal: 0.0</br>_original_yhat_: 0.9742528447623608</br>"
          ],
          [
           "</br>id: 158</br>prediction: 0.974</br>thalach: 108.99000000000001</br></br>age: 70.0</br>sex: 1.0</br>cp: 3.0</br>trestbps: 130.0</br>chol: 322.0</br>fbs: 0.0</br>restecg: 2.0</br>exang: 0.0</br>oldpeak: 2.4</br>slope: 1.0</br>ca: 3.0</br>thal: 0.0</br>_original_yhat_: 0.9742528447623608</br>"
          ],
          [
           "</br>id: 158</br>prediction: 0.974</br>thalach: 109.0</br></br>age: 70.0</br>sex: 1.0</br>cp: 3.0</br>trestbps: 130.0</br>chol: 322.0</br>fbs: 0.0</br>restecg: 2.0</br>exang: 0.0</br>oldpeak: 2.4</br>slope: 1.0</br>ca: 3.0</br>thal: 0.0</br>_original_yhat_: 0.9742528447623608</br>"
          ],
          [
           "</br>id: 158</br>prediction: 0.973</br>thalach: 110.30000000000001</br></br>age: 70.0</br>sex: 1.0</br>cp: 3.0</br>trestbps: 130.0</br>chol: 322.0</br>fbs: 0.0</br>restecg: 2.0</br>exang: 0.0</br>oldpeak: 2.4</br>slope: 1.0</br>ca: 3.0</br>thal: 0.0</br>_original_yhat_: 0.9742528447623608</br>"
          ],
          [
           "</br>id: 158</br>prediction: 0.972</br>thalach: 111.61</br></br>age: 70.0</br>sex: 1.0</br>cp: 3.0</br>trestbps: 130.0</br>chol: 322.0</br>fbs: 0.0</br>restecg: 2.0</br>exang: 0.0</br>oldpeak: 2.4</br>slope: 1.0</br>ca: 3.0</br>thal: 0.0</br>_original_yhat_: 0.9742528447623608</br>"
          ],
          [
           "</br>id: 158</br>prediction: 0.97</br>thalach: 112.92</br></br>age: 70.0</br>sex: 1.0</br>cp: 3.0</br>trestbps: 130.0</br>chol: 322.0</br>fbs: 0.0</br>restecg: 2.0</br>exang: 0.0</br>oldpeak: 2.4</br>slope: 1.0</br>ca: 3.0</br>thal: 0.0</br>_original_yhat_: 0.9742528447623608</br>"
          ],
          [
           "</br>id: 158</br>prediction: 0.969</br>thalach: 114.23</br></br>age: 70.0</br>sex: 1.0</br>cp: 3.0</br>trestbps: 130.0</br>chol: 322.0</br>fbs: 0.0</br>restecg: 2.0</br>exang: 0.0</br>oldpeak: 2.4</br>slope: 1.0</br>ca: 3.0</br>thal: 0.0</br>_original_yhat_: 0.9742528447623608</br>"
          ],
          [
           "</br>id: 158</br>prediction: 0.968</br>thalach: 115.53999999999999</br></br>age: 70.0</br>sex: 1.0</br>cp: 3.0</br>trestbps: 130.0</br>chol: 322.0</br>fbs: 0.0</br>restecg: 2.0</br>exang: 0.0</br>oldpeak: 2.4</br>slope: 1.0</br>ca: 3.0</br>thal: 0.0</br>_original_yhat_: 0.9742528447623608</br>"
          ],
          [
           "</br>id: 158</br>prediction: 0.966</br>thalach: 116.85</br></br>age: 70.0</br>sex: 1.0</br>cp: 3.0</br>trestbps: 130.0</br>chol: 322.0</br>fbs: 0.0</br>restecg: 2.0</br>exang: 0.0</br>oldpeak: 2.4</br>slope: 1.0</br>ca: 3.0</br>thal: 0.0</br>_original_yhat_: 0.9742528447623608</br>"
          ],
          [
           "</br>id: 158</br>prediction: 0.965</br>thalach: 118.16</br></br>age: 70.0</br>sex: 1.0</br>cp: 3.0</br>trestbps: 130.0</br>chol: 322.0</br>fbs: 0.0</br>restecg: 2.0</br>exang: 0.0</br>oldpeak: 2.4</br>slope: 1.0</br>ca: 3.0</br>thal: 0.0</br>_original_yhat_: 0.9742528447623608</br>"
          ],
          [
           "</br>id: 158</br>prediction: 0.963</br>thalach: 119.47</br></br>age: 70.0</br>sex: 1.0</br>cp: 3.0</br>trestbps: 130.0</br>chol: 322.0</br>fbs: 0.0</br>restecg: 2.0</br>exang: 0.0</br>oldpeak: 2.4</br>slope: 1.0</br>ca: 3.0</br>thal: 0.0</br>_original_yhat_: 0.9742528447623608</br>"
          ],
          [
           "</br>id: 158</br>prediction: 0.961</br>thalach: 120.78</br></br>age: 70.0</br>sex: 1.0</br>cp: 3.0</br>trestbps: 130.0</br>chol: 322.0</br>fbs: 0.0</br>restecg: 2.0</br>exang: 0.0</br>oldpeak: 2.4</br>slope: 1.0</br>ca: 3.0</br>thal: 0.0</br>_original_yhat_: 0.9742528447623608</br>"
          ],
          [
           "</br>id: 158</br>prediction: 0.959</br>thalach: 122.09</br></br>age: 70.0</br>sex: 1.0</br>cp: 3.0</br>trestbps: 130.0</br>chol: 322.0</br>fbs: 0.0</br>restecg: 2.0</br>exang: 0.0</br>oldpeak: 2.4</br>slope: 1.0</br>ca: 3.0</br>thal: 0.0</br>_original_yhat_: 0.9742528447623608</br>"
          ],
          [
           "</br>id: 158</br>prediction: 0.957</br>thalach: 123.4</br></br>age: 70.0</br>sex: 1.0</br>cp: 3.0</br>trestbps: 130.0</br>chol: 322.0</br>fbs: 0.0</br>restecg: 2.0</br>exang: 0.0</br>oldpeak: 2.4</br>slope: 1.0</br>ca: 3.0</br>thal: 0.0</br>_original_yhat_: 0.9742528447623608</br>"
          ],
          [
           "</br>id: 158</br>prediction: 0.955</br>thalach: 124.71000000000001</br></br>age: 70.0</br>sex: 1.0</br>cp: 3.0</br>trestbps: 130.0</br>chol: 322.0</br>fbs: 0.0</br>restecg: 2.0</br>exang: 0.0</br>oldpeak: 2.4</br>slope: 1.0</br>ca: 3.0</br>thal: 0.0</br>_original_yhat_: 0.9742528447623608</br>"
          ],
          [
           "</br>id: 158</br>prediction: 0.953</br>thalach: 126.02000000000001</br></br>age: 70.0</br>sex: 1.0</br>cp: 3.0</br>trestbps: 130.0</br>chol: 322.0</br>fbs: 0.0</br>restecg: 2.0</br>exang: 0.0</br>oldpeak: 2.4</br>slope: 1.0</br>ca: 3.0</br>thal: 0.0</br>_original_yhat_: 0.9742528447623608</br>"
          ],
          [
           "</br>id: 158</br>prediction: 0.951</br>thalach: 127.33000000000001</br></br>age: 70.0</br>sex: 1.0</br>cp: 3.0</br>trestbps: 130.0</br>chol: 322.0</br>fbs: 0.0</br>restecg: 2.0</br>exang: 0.0</br>oldpeak: 2.4</br>slope: 1.0</br>ca: 3.0</br>thal: 0.0</br>_original_yhat_: 0.9742528447623608</br>"
          ],
          [
           "</br>id: 158</br>prediction: 0.949</br>thalach: 128.64</br></br>age: 70.0</br>sex: 1.0</br>cp: 3.0</br>trestbps: 130.0</br>chol: 322.0</br>fbs: 0.0</br>restecg: 2.0</br>exang: 0.0</br>oldpeak: 2.4</br>slope: 1.0</br>ca: 3.0</br>thal: 0.0</br>_original_yhat_: 0.9742528447623608</br>"
          ],
          [
           "</br>id: 158</br>prediction: 0.947</br>thalach: 129.95</br></br>age: 70.0</br>sex: 1.0</br>cp: 3.0</br>trestbps: 130.0</br>chol: 322.0</br>fbs: 0.0</br>restecg: 2.0</br>exang: 0.0</br>oldpeak: 2.4</br>slope: 1.0</br>ca: 3.0</br>thal: 0.0</br>_original_yhat_: 0.9742528447623608</br>"
          ],
          [
           "</br>id: 158</br>prediction: 0.944</br>thalach: 131.26</br></br>age: 70.0</br>sex: 1.0</br>cp: 3.0</br>trestbps: 130.0</br>chol: 322.0</br>fbs: 0.0</br>restecg: 2.0</br>exang: 0.0</br>oldpeak: 2.4</br>slope: 1.0</br>ca: 3.0</br>thal: 0.0</br>_original_yhat_: 0.9742528447623608</br>"
          ],
          [
           "</br>id: 158</br>prediction: 0.942</br>thalach: 132.57</br></br>age: 70.0</br>sex: 1.0</br>cp: 3.0</br>trestbps: 130.0</br>chol: 322.0</br>fbs: 0.0</br>restecg: 2.0</br>exang: 0.0</br>oldpeak: 2.4</br>slope: 1.0</br>ca: 3.0</br>thal: 0.0</br>_original_yhat_: 0.9742528447623608</br>"
          ],
          [
           "</br>id: 158</br>prediction: 0.939</br>thalach: 133.88</br></br>age: 70.0</br>sex: 1.0</br>cp: 3.0</br>trestbps: 130.0</br>chol: 322.0</br>fbs: 0.0</br>restecg: 2.0</br>exang: 0.0</br>oldpeak: 2.4</br>slope: 1.0</br>ca: 3.0</br>thal: 0.0</br>_original_yhat_: 0.9742528447623608</br>"
          ],
          [
           "</br>id: 158</br>prediction: 0.936</br>thalach: 135.19</br></br>age: 70.0</br>sex: 1.0</br>cp: 3.0</br>trestbps: 130.0</br>chol: 322.0</br>fbs: 0.0</br>restecg: 2.0</br>exang: 0.0</br>oldpeak: 2.4</br>slope: 1.0</br>ca: 3.0</br>thal: 0.0</br>_original_yhat_: 0.9742528447623608</br>"
          ],
          [
           "</br>id: 158</br>prediction: 0.933</br>thalach: 136.5</br></br>age: 70.0</br>sex: 1.0</br>cp: 3.0</br>trestbps: 130.0</br>chol: 322.0</br>fbs: 0.0</br>restecg: 2.0</br>exang: 0.0</br>oldpeak: 2.4</br>slope: 1.0</br>ca: 3.0</br>thal: 0.0</br>_original_yhat_: 0.9742528447623608</br>"
          ],
          [
           "</br>id: 158</br>prediction: 0.93</br>thalach: 137.81</br></br>age: 70.0</br>sex: 1.0</br>cp: 3.0</br>trestbps: 130.0</br>chol: 322.0</br>fbs: 0.0</br>restecg: 2.0</br>exang: 0.0</br>oldpeak: 2.4</br>slope: 1.0</br>ca: 3.0</br>thal: 0.0</br>_original_yhat_: 0.9742528447623608</br>"
          ],
          [
           "</br>id: 158</br>prediction: 0.927</br>thalach: 139.12</br></br>age: 70.0</br>sex: 1.0</br>cp: 3.0</br>trestbps: 130.0</br>chol: 322.0</br>fbs: 0.0</br>restecg: 2.0</br>exang: 0.0</br>oldpeak: 2.4</br>slope: 1.0</br>ca: 3.0</br>thal: 0.0</br>_original_yhat_: 0.9742528447623608</br>"
          ],
          [
           "</br>id: 158</br>prediction: 0.924</br>thalach: 140.43</br></br>age: 70.0</br>sex: 1.0</br>cp: 3.0</br>trestbps: 130.0</br>chol: 322.0</br>fbs: 0.0</br>restecg: 2.0</br>exang: 0.0</br>oldpeak: 2.4</br>slope: 1.0</br>ca: 3.0</br>thal: 0.0</br>_original_yhat_: 0.9742528447623608</br>"
          ],
          [
           "</br>id: 158</br>prediction: 0.921</br>thalach: 141.74</br></br>age: 70.0</br>sex: 1.0</br>cp: 3.0</br>trestbps: 130.0</br>chol: 322.0</br>fbs: 0.0</br>restecg: 2.0</br>exang: 0.0</br>oldpeak: 2.4</br>slope: 1.0</br>ca: 3.0</br>thal: 0.0</br>_original_yhat_: 0.9742528447623608</br>"
          ],
          [
           "</br>id: 158</br>prediction: 0.917</br>thalach: 143.05</br></br>age: 70.0</br>sex: 1.0</br>cp: 3.0</br>trestbps: 130.0</br>chol: 322.0</br>fbs: 0.0</br>restecg: 2.0</br>exang: 0.0</br>oldpeak: 2.4</br>slope: 1.0</br>ca: 3.0</br>thal: 0.0</br>_original_yhat_: 0.9742528447623608</br>"
          ],
          [
           "</br>id: 158</br>prediction: 0.914</br>thalach: 144.36</br></br>age: 70.0</br>sex: 1.0</br>cp: 3.0</br>trestbps: 130.0</br>chol: 322.0</br>fbs: 0.0</br>restecg: 2.0</br>exang: 0.0</br>oldpeak: 2.4</br>slope: 1.0</br>ca: 3.0</br>thal: 0.0</br>_original_yhat_: 0.9742528447623608</br>"
          ],
          [
           "</br>id: 158</br>prediction: 0.91</br>thalach: 145.67000000000002</br></br>age: 70.0</br>sex: 1.0</br>cp: 3.0</br>trestbps: 130.0</br>chol: 322.0</br>fbs: 0.0</br>restecg: 2.0</br>exang: 0.0</br>oldpeak: 2.4</br>slope: 1.0</br>ca: 3.0</br>thal: 0.0</br>_original_yhat_: 0.9742528447623608</br>"
          ],
          [
           "</br>id: 158</br>prediction: 0.906</br>thalach: 146.98000000000002</br></br>age: 70.0</br>sex: 1.0</br>cp: 3.0</br>trestbps: 130.0</br>chol: 322.0</br>fbs: 0.0</br>restecg: 2.0</br>exang: 0.0</br>oldpeak: 2.4</br>slope: 1.0</br>ca: 3.0</br>thal: 0.0</br>_original_yhat_: 0.9742528447623608</br>"
          ],
          [
           "</br>id: 158</br>prediction: 0.902</br>thalach: 148.29000000000002</br></br>age: 70.0</br>sex: 1.0</br>cp: 3.0</br>trestbps: 130.0</br>chol: 322.0</br>fbs: 0.0</br>restecg: 2.0</br>exang: 0.0</br>oldpeak: 2.4</br>slope: 1.0</br>ca: 3.0</br>thal: 0.0</br>_original_yhat_: 0.9742528447623608</br>"
          ],
          [
           "</br>id: 158</br>prediction: 0.897</br>thalach: 149.60000000000002</br></br>age: 70.0</br>sex: 1.0</br>cp: 3.0</br>trestbps: 130.0</br>chol: 322.0</br>fbs: 0.0</br>restecg: 2.0</br>exang: 0.0</br>oldpeak: 2.4</br>slope: 1.0</br>ca: 3.0</br>thal: 0.0</br>_original_yhat_: 0.9742528447623608</br>"
          ],
          [
           "</br>id: 158</br>prediction: 0.893</br>thalach: 150.91</br></br>age: 70.0</br>sex: 1.0</br>cp: 3.0</br>trestbps: 130.0</br>chol: 322.0</br>fbs: 0.0</br>restecg: 2.0</br>exang: 0.0</br>oldpeak: 2.4</br>slope: 1.0</br>ca: 3.0</br>thal: 0.0</br>_original_yhat_: 0.9742528447623608</br>"
          ],
          [
           "</br>id: 158</br>prediction: 0.888</br>thalach: 152.22</br></br>age: 70.0</br>sex: 1.0</br>cp: 3.0</br>trestbps: 130.0</br>chol: 322.0</br>fbs: 0.0</br>restecg: 2.0</br>exang: 0.0</br>oldpeak: 2.4</br>slope: 1.0</br>ca: 3.0</br>thal: 0.0</br>_original_yhat_: 0.9742528447623608</br>"
          ],
          [
           "</br>id: 158</br>prediction: 0.884</br>thalach: 153.53</br></br>age: 70.0</br>sex: 1.0</br>cp: 3.0</br>trestbps: 130.0</br>chol: 322.0</br>fbs: 0.0</br>restecg: 2.0</br>exang: 0.0</br>oldpeak: 2.4</br>slope: 1.0</br>ca: 3.0</br>thal: 0.0</br>_original_yhat_: 0.9742528447623608</br>"
          ],
          [
           "</br>id: 158</br>prediction: 0.879</br>thalach: 154.84</br></br>age: 70.0</br>sex: 1.0</br>cp: 3.0</br>trestbps: 130.0</br>chol: 322.0</br>fbs: 0.0</br>restecg: 2.0</br>exang: 0.0</br>oldpeak: 2.4</br>slope: 1.0</br>ca: 3.0</br>thal: 0.0</br>_original_yhat_: 0.9742528447623608</br>"
          ],
          [
           "</br>id: 158</br>prediction: 0.874</br>thalach: 156.15</br></br>age: 70.0</br>sex: 1.0</br>cp: 3.0</br>trestbps: 130.0</br>chol: 322.0</br>fbs: 0.0</br>restecg: 2.0</br>exang: 0.0</br>oldpeak: 2.4</br>slope: 1.0</br>ca: 3.0</br>thal: 0.0</br>_original_yhat_: 0.9742528447623608</br>"
          ],
          [
           "</br>id: 158</br>prediction: 0.868</br>thalach: 157.46</br></br>age: 70.0</br>sex: 1.0</br>cp: 3.0</br>trestbps: 130.0</br>chol: 322.0</br>fbs: 0.0</br>restecg: 2.0</br>exang: 0.0</br>oldpeak: 2.4</br>slope: 1.0</br>ca: 3.0</br>thal: 0.0</br>_original_yhat_: 0.9742528447623608</br>"
          ],
          [
           "</br>id: 158</br>prediction: 0.863</br>thalach: 158.77</br></br>age: 70.0</br>sex: 1.0</br>cp: 3.0</br>trestbps: 130.0</br>chol: 322.0</br>fbs: 0.0</br>restecg: 2.0</br>exang: 0.0</br>oldpeak: 2.4</br>slope: 1.0</br>ca: 3.0</br>thal: 0.0</br>_original_yhat_: 0.9742528447623608</br>"
          ],
          [
           "</br>id: 158</br>prediction: 0.857</br>thalach: 160.07999999999998</br></br>age: 70.0</br>sex: 1.0</br>cp: 3.0</br>trestbps: 130.0</br>chol: 322.0</br>fbs: 0.0</br>restecg: 2.0</br>exang: 0.0</br>oldpeak: 2.4</br>slope: 1.0</br>ca: 3.0</br>thal: 0.0</br>_original_yhat_: 0.9742528447623608</br>"
          ],
          [
           "</br>id: 158</br>prediction: 0.851</br>thalach: 161.39</br></br>age: 70.0</br>sex: 1.0</br>cp: 3.0</br>trestbps: 130.0</br>chol: 322.0</br>fbs: 0.0</br>restecg: 2.0</br>exang: 0.0</br>oldpeak: 2.4</br>slope: 1.0</br>ca: 3.0</br>thal: 0.0</br>_original_yhat_: 0.9742528447623608</br>"
          ],
          [
           "</br>id: 158</br>prediction: 0.845</br>thalach: 162.7</br></br>age: 70.0</br>sex: 1.0</br>cp: 3.0</br>trestbps: 130.0</br>chol: 322.0</br>fbs: 0.0</br>restecg: 2.0</br>exang: 0.0</br>oldpeak: 2.4</br>slope: 1.0</br>ca: 3.0</br>thal: 0.0</br>_original_yhat_: 0.9742528447623608</br>"
          ],
          [
           "</br>id: 158</br>prediction: 0.839</br>thalach: 164.01</br></br>age: 70.0</br>sex: 1.0</br>cp: 3.0</br>trestbps: 130.0</br>chol: 322.0</br>fbs: 0.0</br>restecg: 2.0</br>exang: 0.0</br>oldpeak: 2.4</br>slope: 1.0</br>ca: 3.0</br>thal: 0.0</br>_original_yhat_: 0.9742528447623608</br>"
          ],
          [
           "</br>id: 158</br>prediction: 0.832</br>thalach: 165.32</br></br>age: 70.0</br>sex: 1.0</br>cp: 3.0</br>trestbps: 130.0</br>chol: 322.0</br>fbs: 0.0</br>restecg: 2.0</br>exang: 0.0</br>oldpeak: 2.4</br>slope: 1.0</br>ca: 3.0</br>thal: 0.0</br>_original_yhat_: 0.9742528447623608</br>"
          ],
          [
           "</br>id: 158</br>prediction: 0.826</br>thalach: 166.63</br></br>age: 70.0</br>sex: 1.0</br>cp: 3.0</br>trestbps: 130.0</br>chol: 322.0</br>fbs: 0.0</br>restecg: 2.0</br>exang: 0.0</br>oldpeak: 2.4</br>slope: 1.0</br>ca: 3.0</br>thal: 0.0</br>_original_yhat_: 0.9742528447623608</br>"
          ],
          [
           "</br>id: 158</br>prediction: 0.819</br>thalach: 167.94</br></br>age: 70.0</br>sex: 1.0</br>cp: 3.0</br>trestbps: 130.0</br>chol: 322.0</br>fbs: 0.0</br>restecg: 2.0</br>exang: 0.0</br>oldpeak: 2.4</br>slope: 1.0</br>ca: 3.0</br>thal: 0.0</br>_original_yhat_: 0.9742528447623608</br>"
          ],
          [
           "</br>id: 158</br>prediction: 0.811</br>thalach: 169.25</br></br>age: 70.0</br>sex: 1.0</br>cp: 3.0</br>trestbps: 130.0</br>chol: 322.0</br>fbs: 0.0</br>restecg: 2.0</br>exang: 0.0</br>oldpeak: 2.4</br>slope: 1.0</br>ca: 3.0</br>thal: 0.0</br>_original_yhat_: 0.9742528447623608</br>"
          ],
          [
           "</br>id: 158</br>prediction: 0.804</br>thalach: 170.56</br></br>age: 70.0</br>sex: 1.0</br>cp: 3.0</br>trestbps: 130.0</br>chol: 322.0</br>fbs: 0.0</br>restecg: 2.0</br>exang: 0.0</br>oldpeak: 2.4</br>slope: 1.0</br>ca: 3.0</br>thal: 0.0</br>_original_yhat_: 0.9742528447623608</br>"
          ],
          [
           "</br>id: 158</br>prediction: 0.797</br>thalach: 171.87</br></br>age: 70.0</br>sex: 1.0</br>cp: 3.0</br>trestbps: 130.0</br>chol: 322.0</br>fbs: 0.0</br>restecg: 2.0</br>exang: 0.0</br>oldpeak: 2.4</br>slope: 1.0</br>ca: 3.0</br>thal: 0.0</br>_original_yhat_: 0.9742528447623608</br>"
          ],
          [
           "</br>id: 158</br>prediction: 0.789</br>thalach: 173.18</br></br>age: 70.0</br>sex: 1.0</br>cp: 3.0</br>trestbps: 130.0</br>chol: 322.0</br>fbs: 0.0</br>restecg: 2.0</br>exang: 0.0</br>oldpeak: 2.4</br>slope: 1.0</br>ca: 3.0</br>thal: 0.0</br>_original_yhat_: 0.9742528447623608</br>"
          ],
          [
           "</br>id: 158</br>prediction: 0.781</br>thalach: 174.49</br></br>age: 70.0</br>sex: 1.0</br>cp: 3.0</br>trestbps: 130.0</br>chol: 322.0</br>fbs: 0.0</br>restecg: 2.0</br>exang: 0.0</br>oldpeak: 2.4</br>slope: 1.0</br>ca: 3.0</br>thal: 0.0</br>_original_yhat_: 0.9742528447623608</br>"
          ],
          [
           "</br>id: 158</br>prediction: 0.773</br>thalach: 175.8</br></br>age: 70.0</br>sex: 1.0</br>cp: 3.0</br>trestbps: 130.0</br>chol: 322.0</br>fbs: 0.0</br>restecg: 2.0</br>exang: 0.0</br>oldpeak: 2.4</br>slope: 1.0</br>ca: 3.0</br>thal: 0.0</br>_original_yhat_: 0.9742528447623608</br>"
          ],
          [
           "</br>id: 158</br>prediction: 0.764</br>thalach: 177.11</br></br>age: 70.0</br>sex: 1.0</br>cp: 3.0</br>trestbps: 130.0</br>chol: 322.0</br>fbs: 0.0</br>restecg: 2.0</br>exang: 0.0</br>oldpeak: 2.4</br>slope: 1.0</br>ca: 3.0</br>thal: 0.0</br>_original_yhat_: 0.9742528447623608</br>"
          ],
          [
           "</br>id: 158</br>prediction: 0.756</br>thalach: 178.42000000000002</br></br>age: 70.0</br>sex: 1.0</br>cp: 3.0</br>trestbps: 130.0</br>chol: 322.0</br>fbs: 0.0</br>restecg: 2.0</br>exang: 0.0</br>oldpeak: 2.4</br>slope: 1.0</br>ca: 3.0</br>thal: 0.0</br>_original_yhat_: 0.9742528447623608</br>"
          ],
          [
           "</br>id: 158</br>prediction: 0.747</br>thalach: 179.73000000000002</br></br>age: 70.0</br>sex: 1.0</br>cp: 3.0</br>trestbps: 130.0</br>chol: 322.0</br>fbs: 0.0</br>restecg: 2.0</br>exang: 0.0</br>oldpeak: 2.4</br>slope: 1.0</br>ca: 3.0</br>thal: 0.0</br>_original_yhat_: 0.9742528447623608</br>"
          ],
          [
           "</br>id: 158</br>prediction: 0.738</br>thalach: 181.04000000000002</br></br>age: 70.0</br>sex: 1.0</br>cp: 3.0</br>trestbps: 130.0</br>chol: 322.0</br>fbs: 0.0</br>restecg: 2.0</br>exang: 0.0</br>oldpeak: 2.4</br>slope: 1.0</br>ca: 3.0</br>thal: 0.0</br>_original_yhat_: 0.9742528447623608</br>"
          ],
          [
           "</br>id: 158</br>prediction: 0.728</br>thalach: 182.35000000000002</br></br>age: 70.0</br>sex: 1.0</br>cp: 3.0</br>trestbps: 130.0</br>chol: 322.0</br>fbs: 0.0</br>restecg: 2.0</br>exang: 0.0</br>oldpeak: 2.4</br>slope: 1.0</br>ca: 3.0</br>thal: 0.0</br>_original_yhat_: 0.9742528447623608</br>"
          ],
          [
           "</br>id: 158</br>prediction: 0.719</br>thalach: 183.66000000000003</br></br>age: 70.0</br>sex: 1.0</br>cp: 3.0</br>trestbps: 130.0</br>chol: 322.0</br>fbs: 0.0</br>restecg: 2.0</br>exang: 0.0</br>oldpeak: 2.4</br>slope: 1.0</br>ca: 3.0</br>thal: 0.0</br>_original_yhat_: 0.9742528447623608</br>"
          ],
          [
           "</br>id: 158</br>prediction: 0.709</br>thalach: 184.97</br></br>age: 70.0</br>sex: 1.0</br>cp: 3.0</br>trestbps: 130.0</br>chol: 322.0</br>fbs: 0.0</br>restecg: 2.0</br>exang: 0.0</br>oldpeak: 2.4</br>slope: 1.0</br>ca: 3.0</br>thal: 0.0</br>_original_yhat_: 0.9742528447623608</br>"
          ],
          [
           "</br>id: 158</br>prediction: 0.7</br>thalach: 186.28</br></br>age: 70.0</br>sex: 1.0</br>cp: 3.0</br>trestbps: 130.0</br>chol: 322.0</br>fbs: 0.0</br>restecg: 2.0</br>exang: 0.0</br>oldpeak: 2.4</br>slope: 1.0</br>ca: 3.0</br>thal: 0.0</br>_original_yhat_: 0.9742528447623608</br>"
          ],
          [
           "</br>id: 158</br>prediction: 0.69</br>thalach: 187.59</br></br>age: 70.0</br>sex: 1.0</br>cp: 3.0</br>trestbps: 130.0</br>chol: 322.0</br>fbs: 0.0</br>restecg: 2.0</br>exang: 0.0</br>oldpeak: 2.4</br>slope: 1.0</br>ca: 3.0</br>thal: 0.0</br>_original_yhat_: 0.9742528447623608</br>"
          ],
          [
           "</br>id: 158</br>prediction: 0.679</br>thalach: 188.9</br></br>age: 70.0</br>sex: 1.0</br>cp: 3.0</br>trestbps: 130.0</br>chol: 322.0</br>fbs: 0.0</br>restecg: 2.0</br>exang: 0.0</br>oldpeak: 2.4</br>slope: 1.0</br>ca: 3.0</br>thal: 0.0</br>_original_yhat_: 0.9742528447623608</br>"
          ],
          [
           "</br>id: 158</br>prediction: 0.669</br>thalach: 190.21</br></br>age: 70.0</br>sex: 1.0</br>cp: 3.0</br>trestbps: 130.0</br>chol: 322.0</br>fbs: 0.0</br>restecg: 2.0</br>exang: 0.0</br>oldpeak: 2.4</br>slope: 1.0</br>ca: 3.0</br>thal: 0.0</br>_original_yhat_: 0.9742528447623608</br>"
          ],
          [
           "</br>id: 158</br>prediction: 0.658</br>thalach: 191.52</br></br>age: 70.0</br>sex: 1.0</br>cp: 3.0</br>trestbps: 130.0</br>chol: 322.0</br>fbs: 0.0</br>restecg: 2.0</br>exang: 0.0</br>oldpeak: 2.4</br>slope: 1.0</br>ca: 3.0</br>thal: 0.0</br>_original_yhat_: 0.9742528447623608</br>"
          ],
          [
           "</br>id: 158</br>prediction: 0.648</br>thalach: 192.82999999999998</br></br>age: 70.0</br>sex: 1.0</br>cp: 3.0</br>trestbps: 130.0</br>chol: 322.0</br>fbs: 0.0</br>restecg: 2.0</br>exang: 0.0</br>oldpeak: 2.4</br>slope: 1.0</br>ca: 3.0</br>thal: 0.0</br>_original_yhat_: 0.9742528447623608</br>"
          ],
          [
           "</br>id: 158</br>prediction: 0.637</br>thalach: 194.14</br></br>age: 70.0</br>sex: 1.0</br>cp: 3.0</br>trestbps: 130.0</br>chol: 322.0</br>fbs: 0.0</br>restecg: 2.0</br>exang: 0.0</br>oldpeak: 2.4</br>slope: 1.0</br>ca: 3.0</br>thal: 0.0</br>_original_yhat_: 0.9742528447623608</br>"
          ],
          [
           "</br>id: 158</br>prediction: 0.626</br>thalach: 195.45</br></br>age: 70.0</br>sex: 1.0</br>cp: 3.0</br>trestbps: 130.0</br>chol: 322.0</br>fbs: 0.0</br>restecg: 2.0</br>exang: 0.0</br>oldpeak: 2.4</br>slope: 1.0</br>ca: 3.0</br>thal: 0.0</br>_original_yhat_: 0.9742528447623608</br>"
          ],
          [
           "</br>id: 158</br>prediction: 0.615</br>thalach: 196.76</br></br>age: 70.0</br>sex: 1.0</br>cp: 3.0</br>trestbps: 130.0</br>chol: 322.0</br>fbs: 0.0</br>restecg: 2.0</br>exang: 0.0</br>oldpeak: 2.4</br>slope: 1.0</br>ca: 3.0</br>thal: 0.0</br>_original_yhat_: 0.9742528447623608</br>"
          ],
          [
           "</br>id: 158</br>prediction: 0.603</br>thalach: 198.07</br></br>age: 70.0</br>sex: 1.0</br>cp: 3.0</br>trestbps: 130.0</br>chol: 322.0</br>fbs: 0.0</br>restecg: 2.0</br>exang: 0.0</br>oldpeak: 2.4</br>slope: 1.0</br>ca: 3.0</br>thal: 0.0</br>_original_yhat_: 0.9742528447623608</br>"
          ],
          [
           "</br>id: 158</br>prediction: 0.592</br>thalach: 199.38</br></br>age: 70.0</br>sex: 1.0</br>cp: 3.0</br>trestbps: 130.0</br>chol: 322.0</br>fbs: 0.0</br>restecg: 2.0</br>exang: 0.0</br>oldpeak: 2.4</br>slope: 1.0</br>ca: 3.0</br>thal: 0.0</br>_original_yhat_: 0.9742528447623608</br>"
          ],
          [
           "</br>id: 158</br>prediction: 0.581</br>thalach: 200.69</br></br>age: 70.0</br>sex: 1.0</br>cp: 3.0</br>trestbps: 130.0</br>chol: 322.0</br>fbs: 0.0</br>restecg: 2.0</br>exang: 0.0</br>oldpeak: 2.4</br>slope: 1.0</br>ca: 3.0</br>thal: 0.0</br>_original_yhat_: 0.9742528447623608</br>"
          ],
          [
           "</br>id: 158</br>prediction: 0.569</br>thalach: 202.0</br></br>age: 70.0</br>sex: 1.0</br>cp: 3.0</br>trestbps: 130.0</br>chol: 322.0</br>fbs: 0.0</br>restecg: 2.0</br>exang: 0.0</br>oldpeak: 2.4</br>slope: 1.0</br>ca: 3.0</br>thal: 0.0</br>_original_yhat_: 0.9742528447623608</br>"
          ]
         ],
         "hovertemplate": "%{customdata[0]}<extra></extra>",
         "legendgroup": "RandomizedSearchCV",
         "line": {
          "color": "#46bac2",
          "dash": "solid",
          "width": 2
         },
         "marker": {
          "symbol": "circle"
         },
         "mode": "lines",
         "name": "RandomizedSearchCV",
         "opacity": 1,
         "showlegend": false,
         "type": "scattergl",
         "x": [
          71,
          72.31,
          73.62,
          74.93,
          76.24,
          77.55,
          78.86,
          80.17,
          81.48,
          82.79,
          84.1,
          85.41,
          86.72,
          88.03,
          89.34,
          90.65,
          91.96000000000001,
          93.27,
          94.58,
          95.89,
          97.2,
          98.51,
          99.82,
          101.13,
          102.44,
          103.75,
          105.06,
          106.37,
          107.68,
          108.99000000000001,
          109,
          110.30000000000001,
          111.61,
          112.92,
          114.23,
          115.53999999999999,
          116.85,
          118.16,
          119.47,
          120.78,
          122.09,
          123.4,
          124.71000000000001,
          126.02000000000001,
          127.33000000000001,
          128.64,
          129.95,
          131.26,
          132.57,
          133.88,
          135.19,
          136.5,
          137.81,
          139.12,
          140.43,
          141.74,
          143.05,
          144.36,
          145.67000000000002,
          146.98000000000002,
          148.29000000000002,
          149.60000000000002,
          150.91,
          152.22,
          153.53,
          154.84,
          156.15,
          157.46,
          158.77,
          160.07999999999998,
          161.39,
          162.7,
          164.01,
          165.32,
          166.63,
          167.94,
          169.25,
          170.56,
          171.87,
          173.18,
          174.49,
          175.8,
          177.11,
          178.42000000000002,
          179.73000000000002,
          181.04000000000002,
          182.35000000000002,
          183.66000000000003,
          184.97,
          186.28,
          187.59,
          188.9,
          190.21,
          191.52,
          192.82999999999998,
          194.14,
          195.45,
          196.76,
          198.07,
          199.38,
          200.69,
          202
         ],
         "xaxis": "x8",
         "y": [
          0.9933357584419126,
          0.9930154824571533,
          0.9926799277945301,
          0.9923283767436079,
          0.9919600789759969,
          0.9915742501710257,
          0.9911700705943143,
          0.990746683628773,
          0.9903031942576854,
          0.9898386674996893,
          0.9893521267956541,
          0.9888425523476475,
          0.9883088794104256,
          0.9877499965361209,
          0.9871647437731099,
          0.9865519108203455,
          0.9859102351388113,
          0.9852384000221424,
          0.9845350326289023,
          0.9837987019794844,
          0.983027916921145,
          0.982221124065255,
          0.981376705701499,
          0.9804929776944528,
          0.9795681873687248,
          0.9786005113896841,
          0.9775880536476826,
          0.9765288431546645,
          0.9754208319630834,
          0.9742618931181906,
          0.9742528447623608,
          0.9730498186559495,
          0.9717823176601312,
          0.9704570143935146,
          0.9690714465195799,
          0.9676230634326314,
          0.9661092247159151,
          0.9645271987490187,
          0.9628741614876304,
          0.9611471954406122,
          0.9593432888712736,
          0.9574593352517373,
          0.9554921330013287,
          0.9534383855420043,
          0.9512947017059282,
          0.9490575965324008,
          0.9467234924934101,
          0.9442887211890895,
          0.9417495255562864,
          0.9391020626352609,
          0.9363424069411582,
          0.9334665544883451,
          0.9304704275168559,
          0.9273498799710592,
          0.92410070378112,
          0.9207186359978718,
          0.9171993668312177,
          0.9135385486411067,
          0.9097318059283814,
          0.9057747463702841,
          0.9016629729420758,
          0.8973920971619493,
          0.8929577534911552,
          0.8883556149148988,
          0.883581409722053,
          0.8786309394929847,
          0.8735000982947638,
          0.86818489307168,
          0.8626814652062753,
          0.8569861132120674,
          0.8510953165037407,
          0.8450057601739429,
          0.8387143606879662,
          0.8322182923886874,
          0.8255150146843194,
          0.8186022997710114,
          0.811478260721361,
          0.8041413797487866,
          0.7965905364367742,
          0.7888250357016521,
          0.7808446352381956,
          0.7726495721794789,
          0.7642405886864603,
          0.7556189561693366,
          0.7467864978322568,
          0.7377456092260484,
          0.728499276490704,
          0.7190510919709738,
          0.7094052668949047,
          0.6995666408169446,
          0.6895406875445367,
          0.6793335172901144,
          0.6689518748191493,
          0.6584031333992721,
          0.647695284395274,
          0.6368369223995969,
          0.6258372258372304,
          0.614705933037011,
          0.6034533138174061,
          0.5920901366929405,
          0.5806276318664751,
          0.5690774502313889
         ],
         "yaxis": "y8"
        },
        {
         "customdata": [
          [
           "</br>id: 158</br>prediction: 0.974</br>exang: 0.0</br></br>age: 70.0</br>sex: 1.0</br>cp: 3.0</br>trestbps: 130.0</br>chol: 322.0</br>fbs: 0.0</br>restecg: 2.0</br>thalach: 109.0</br>oldpeak: 2.4</br>slope: 1.0</br>ca: 3.0</br>thal: 0.0</br>_original_yhat_: 0.9742528447623608</br>"
          ],
          [
           "</br>id: 158</br>prediction: 0.974</br>exang: 0.01</br></br>age: 70.0</br>sex: 1.0</br>cp: 3.0</br>trestbps: 130.0</br>chol: 322.0</br>fbs: 0.0</br>restecg: 2.0</br>thalach: 109.0</br>oldpeak: 2.4</br>slope: 1.0</br>ca: 3.0</br>thal: 0.0</br>_original_yhat_: 0.9742528447623608</br>"
          ],
          [
           "</br>id: 158</br>prediction: 0.974</br>exang: 0.02</br></br>age: 70.0</br>sex: 1.0</br>cp: 3.0</br>trestbps: 130.0</br>chol: 322.0</br>fbs: 0.0</br>restecg: 2.0</br>thalach: 109.0</br>oldpeak: 2.4</br>slope: 1.0</br>ca: 3.0</br>thal: 0.0</br>_original_yhat_: 0.9742528447623608</br>"
          ],
          [
           "</br>id: 158</br>prediction: 0.974</br>exang: 0.03</br></br>age: 70.0</br>sex: 1.0</br>cp: 3.0</br>trestbps: 130.0</br>chol: 322.0</br>fbs: 0.0</br>restecg: 2.0</br>thalach: 109.0</br>oldpeak: 2.4</br>slope: 1.0</br>ca: 3.0</br>thal: 0.0</br>_original_yhat_: 0.9742528447623608</br>"
          ],
          [
           "</br>id: 158</br>prediction: 0.975</br>exang: 0.04</br></br>age: 70.0</br>sex: 1.0</br>cp: 3.0</br>trestbps: 130.0</br>chol: 322.0</br>fbs: 0.0</br>restecg: 2.0</br>thalach: 109.0</br>oldpeak: 2.4</br>slope: 1.0</br>ca: 3.0</br>thal: 0.0</br>_original_yhat_: 0.9742528447623608</br>"
          ],
          [
           "</br>id: 158</br>prediction: 0.975</br>exang: 0.05</br></br>age: 70.0</br>sex: 1.0</br>cp: 3.0</br>trestbps: 130.0</br>chol: 322.0</br>fbs: 0.0</br>restecg: 2.0</br>thalach: 109.0</br>oldpeak: 2.4</br>slope: 1.0</br>ca: 3.0</br>thal: 0.0</br>_original_yhat_: 0.9742528447623608</br>"
          ],
          [
           "</br>id: 158</br>prediction: 0.975</br>exang: 0.06</br></br>age: 70.0</br>sex: 1.0</br>cp: 3.0</br>trestbps: 130.0</br>chol: 322.0</br>fbs: 0.0</br>restecg: 2.0</br>thalach: 109.0</br>oldpeak: 2.4</br>slope: 1.0</br>ca: 3.0</br>thal: 0.0</br>_original_yhat_: 0.9742528447623608</br>"
          ],
          [
           "</br>id: 158</br>prediction: 0.975</br>exang: 0.07</br></br>age: 70.0</br>sex: 1.0</br>cp: 3.0</br>trestbps: 130.0</br>chol: 322.0</br>fbs: 0.0</br>restecg: 2.0</br>thalach: 109.0</br>oldpeak: 2.4</br>slope: 1.0</br>ca: 3.0</br>thal: 0.0</br>_original_yhat_: 0.9742528447623608</br>"
          ],
          [
           "</br>id: 158</br>prediction: 0.975</br>exang: 0.08</br></br>age: 70.0</br>sex: 1.0</br>cp: 3.0</br>trestbps: 130.0</br>chol: 322.0</br>fbs: 0.0</br>restecg: 2.0</br>thalach: 109.0</br>oldpeak: 2.4</br>slope: 1.0</br>ca: 3.0</br>thal: 0.0</br>_original_yhat_: 0.9742528447623608</br>"
          ],
          [
           "</br>id: 158</br>prediction: 0.975</br>exang: 0.09</br></br>age: 70.0</br>sex: 1.0</br>cp: 3.0</br>trestbps: 130.0</br>chol: 322.0</br>fbs: 0.0</br>restecg: 2.0</br>thalach: 109.0</br>oldpeak: 2.4</br>slope: 1.0</br>ca: 3.0</br>thal: 0.0</br>_original_yhat_: 0.9742528447623608</br>"
          ],
          [
           "</br>id: 158</br>prediction: 0.975</br>exang: 0.1</br></br>age: 70.0</br>sex: 1.0</br>cp: 3.0</br>trestbps: 130.0</br>chol: 322.0</br>fbs: 0.0</br>restecg: 2.0</br>thalach: 109.0</br>oldpeak: 2.4</br>slope: 1.0</br>ca: 3.0</br>thal: 0.0</br>_original_yhat_: 0.9742528447623608</br>"
          ],
          [
           "</br>id: 158</br>prediction: 0.975</br>exang: 0.11</br></br>age: 70.0</br>sex: 1.0</br>cp: 3.0</br>trestbps: 130.0</br>chol: 322.0</br>fbs: 0.0</br>restecg: 2.0</br>thalach: 109.0</br>oldpeak: 2.4</br>slope: 1.0</br>ca: 3.0</br>thal: 0.0</br>_original_yhat_: 0.9742528447623608</br>"
          ],
          [
           "</br>id: 158</br>prediction: 0.975</br>exang: 0.12</br></br>age: 70.0</br>sex: 1.0</br>cp: 3.0</br>trestbps: 130.0</br>chol: 322.0</br>fbs: 0.0</br>restecg: 2.0</br>thalach: 109.0</br>oldpeak: 2.4</br>slope: 1.0</br>ca: 3.0</br>thal: 0.0</br>_original_yhat_: 0.9742528447623608</br>"
          ],
          [
           "</br>id: 158</br>prediction: 0.975</br>exang: 0.13</br></br>age: 70.0</br>sex: 1.0</br>cp: 3.0</br>trestbps: 130.0</br>chol: 322.0</br>fbs: 0.0</br>restecg: 2.0</br>thalach: 109.0</br>oldpeak: 2.4</br>slope: 1.0</br>ca: 3.0</br>thal: 0.0</br>_original_yhat_: 0.9742528447623608</br>"
          ],
          [
           "</br>id: 158</br>prediction: 0.975</br>exang: 0.14</br></br>age: 70.0</br>sex: 1.0</br>cp: 3.0</br>trestbps: 130.0</br>chol: 322.0</br>fbs: 0.0</br>restecg: 2.0</br>thalach: 109.0</br>oldpeak: 2.4</br>slope: 1.0</br>ca: 3.0</br>thal: 0.0</br>_original_yhat_: 0.9742528447623608</br>"
          ],
          [
           "</br>id: 158</br>prediction: 0.975</br>exang: 0.15</br></br>age: 70.0</br>sex: 1.0</br>cp: 3.0</br>trestbps: 130.0</br>chol: 322.0</br>fbs: 0.0</br>restecg: 2.0</br>thalach: 109.0</br>oldpeak: 2.4</br>slope: 1.0</br>ca: 3.0</br>thal: 0.0</br>_original_yhat_: 0.9742528447623608</br>"
          ],
          [
           "</br>id: 158</br>prediction: 0.975</br>exang: 0.16</br></br>age: 70.0</br>sex: 1.0</br>cp: 3.0</br>trestbps: 130.0</br>chol: 322.0</br>fbs: 0.0</br>restecg: 2.0</br>thalach: 109.0</br>oldpeak: 2.4</br>slope: 1.0</br>ca: 3.0</br>thal: 0.0</br>_original_yhat_: 0.9742528447623608</br>"
          ],
          [
           "</br>id: 158</br>prediction: 0.975</br>exang: 0.17</br></br>age: 70.0</br>sex: 1.0</br>cp: 3.0</br>trestbps: 130.0</br>chol: 322.0</br>fbs: 0.0</br>restecg: 2.0</br>thalach: 109.0</br>oldpeak: 2.4</br>slope: 1.0</br>ca: 3.0</br>thal: 0.0</br>_original_yhat_: 0.9742528447623608</br>"
          ],
          [
           "</br>id: 158</br>prediction: 0.975</br>exang: 0.18</br></br>age: 70.0</br>sex: 1.0</br>cp: 3.0</br>trestbps: 130.0</br>chol: 322.0</br>fbs: 0.0</br>restecg: 2.0</br>thalach: 109.0</br>oldpeak: 2.4</br>slope: 1.0</br>ca: 3.0</br>thal: 0.0</br>_original_yhat_: 0.9742528447623608</br>"
          ],
          [
           "</br>id: 158</br>prediction: 0.976</br>exang: 0.19</br></br>age: 70.0</br>sex: 1.0</br>cp: 3.0</br>trestbps: 130.0</br>chol: 322.0</br>fbs: 0.0</br>restecg: 2.0</br>thalach: 109.0</br>oldpeak: 2.4</br>slope: 1.0</br>ca: 3.0</br>thal: 0.0</br>_original_yhat_: 0.9742528447623608</br>"
          ],
          [
           "</br>id: 158</br>prediction: 0.976</br>exang: 0.2</br></br>age: 70.0</br>sex: 1.0</br>cp: 3.0</br>trestbps: 130.0</br>chol: 322.0</br>fbs: 0.0</br>restecg: 2.0</br>thalach: 109.0</br>oldpeak: 2.4</br>slope: 1.0</br>ca: 3.0</br>thal: 0.0</br>_original_yhat_: 0.9742528447623608</br>"
          ],
          [
           "</br>id: 158</br>prediction: 0.976</br>exang: 0.21</br></br>age: 70.0</br>sex: 1.0</br>cp: 3.0</br>trestbps: 130.0</br>chol: 322.0</br>fbs: 0.0</br>restecg: 2.0</br>thalach: 109.0</br>oldpeak: 2.4</br>slope: 1.0</br>ca: 3.0</br>thal: 0.0</br>_original_yhat_: 0.9742528447623608</br>"
          ],
          [
           "</br>id: 158</br>prediction: 0.976</br>exang: 0.22</br></br>age: 70.0</br>sex: 1.0</br>cp: 3.0</br>trestbps: 130.0</br>chol: 322.0</br>fbs: 0.0</br>restecg: 2.0</br>thalach: 109.0</br>oldpeak: 2.4</br>slope: 1.0</br>ca: 3.0</br>thal: 0.0</br>_original_yhat_: 0.9742528447623608</br>"
          ],
          [
           "</br>id: 158</br>prediction: 0.976</br>exang: 0.23</br></br>age: 70.0</br>sex: 1.0</br>cp: 3.0</br>trestbps: 130.0</br>chol: 322.0</br>fbs: 0.0</br>restecg: 2.0</br>thalach: 109.0</br>oldpeak: 2.4</br>slope: 1.0</br>ca: 3.0</br>thal: 0.0</br>_original_yhat_: 0.9742528447623608</br>"
          ],
          [
           "</br>id: 158</br>prediction: 0.976</br>exang: 0.24</br></br>age: 70.0</br>sex: 1.0</br>cp: 3.0</br>trestbps: 130.0</br>chol: 322.0</br>fbs: 0.0</br>restecg: 2.0</br>thalach: 109.0</br>oldpeak: 2.4</br>slope: 1.0</br>ca: 3.0</br>thal: 0.0</br>_original_yhat_: 0.9742528447623608</br>"
          ],
          [
           "</br>id: 158</br>prediction: 0.976</br>exang: 0.25</br></br>age: 70.0</br>sex: 1.0</br>cp: 3.0</br>trestbps: 130.0</br>chol: 322.0</br>fbs: 0.0</br>restecg: 2.0</br>thalach: 109.0</br>oldpeak: 2.4</br>slope: 1.0</br>ca: 3.0</br>thal: 0.0</br>_original_yhat_: 0.9742528447623608</br>"
          ],
          [
           "</br>id: 158</br>prediction: 0.976</br>exang: 0.26</br></br>age: 70.0</br>sex: 1.0</br>cp: 3.0</br>trestbps: 130.0</br>chol: 322.0</br>fbs: 0.0</br>restecg: 2.0</br>thalach: 109.0</br>oldpeak: 2.4</br>slope: 1.0</br>ca: 3.0</br>thal: 0.0</br>_original_yhat_: 0.9742528447623608</br>"
          ],
          [
           "</br>id: 158</br>prediction: 0.976</br>exang: 0.27</br></br>age: 70.0</br>sex: 1.0</br>cp: 3.0</br>trestbps: 130.0</br>chol: 322.0</br>fbs: 0.0</br>restecg: 2.0</br>thalach: 109.0</br>oldpeak: 2.4</br>slope: 1.0</br>ca: 3.0</br>thal: 0.0</br>_original_yhat_: 0.9742528447623608</br>"
          ],
          [
           "</br>id: 158</br>prediction: 0.976</br>exang: 0.28</br></br>age: 70.0</br>sex: 1.0</br>cp: 3.0</br>trestbps: 130.0</br>chol: 322.0</br>fbs: 0.0</br>restecg: 2.0</br>thalach: 109.0</br>oldpeak: 2.4</br>slope: 1.0</br>ca: 3.0</br>thal: 0.0</br>_original_yhat_: 0.9742528447623608</br>"
          ],
          [
           "</br>id: 158</br>prediction: 0.976</br>exang: 0.29</br></br>age: 70.0</br>sex: 1.0</br>cp: 3.0</br>trestbps: 130.0</br>chol: 322.0</br>fbs: 0.0</br>restecg: 2.0</br>thalach: 109.0</br>oldpeak: 2.4</br>slope: 1.0</br>ca: 3.0</br>thal: 0.0</br>_original_yhat_: 0.9742528447623608</br>"
          ],
          [
           "</br>id: 158</br>prediction: 0.976</br>exang: 0.3</br></br>age: 70.0</br>sex: 1.0</br>cp: 3.0</br>trestbps: 130.0</br>chol: 322.0</br>fbs: 0.0</br>restecg: 2.0</br>thalach: 109.0</br>oldpeak: 2.4</br>slope: 1.0</br>ca: 3.0</br>thal: 0.0</br>_original_yhat_: 0.9742528447623608</br>"
          ],
          [
           "</br>id: 158</br>prediction: 0.976</br>exang: 0.31</br></br>age: 70.0</br>sex: 1.0</br>cp: 3.0</br>trestbps: 130.0</br>chol: 322.0</br>fbs: 0.0</br>restecg: 2.0</br>thalach: 109.0</br>oldpeak: 2.4</br>slope: 1.0</br>ca: 3.0</br>thal: 0.0</br>_original_yhat_: 0.9742528447623608</br>"
          ],
          [
           "</br>id: 158</br>prediction: 0.976</br>exang: 0.32</br></br>age: 70.0</br>sex: 1.0</br>cp: 3.0</br>trestbps: 130.0</br>chol: 322.0</br>fbs: 0.0</br>restecg: 2.0</br>thalach: 109.0</br>oldpeak: 2.4</br>slope: 1.0</br>ca: 3.0</br>thal: 0.0</br>_original_yhat_: 0.9742528447623608</br>"
          ],
          [
           "</br>id: 158</br>prediction: 0.976</br>exang: 0.33</br></br>age: 70.0</br>sex: 1.0</br>cp: 3.0</br>trestbps: 130.0</br>chol: 322.0</br>fbs: 0.0</br>restecg: 2.0</br>thalach: 109.0</br>oldpeak: 2.4</br>slope: 1.0</br>ca: 3.0</br>thal: 0.0</br>_original_yhat_: 0.9742528447623608</br>"
          ],
          [
           "</br>id: 158</br>prediction: 0.977</br>exang: 0.34</br></br>age: 70.0</br>sex: 1.0</br>cp: 3.0</br>trestbps: 130.0</br>chol: 322.0</br>fbs: 0.0</br>restecg: 2.0</br>thalach: 109.0</br>oldpeak: 2.4</br>slope: 1.0</br>ca: 3.0</br>thal: 0.0</br>_original_yhat_: 0.9742528447623608</br>"
          ],
          [
           "</br>id: 158</br>prediction: 0.977</br>exang: 0.35000000000000003</br></br>age: 70.0</br>sex: 1.0</br>cp: 3.0</br>trestbps: 130.0</br>chol: 322.0</br>fbs: 0.0</br>restecg: 2.0</br>thalach: 109.0</br>oldpeak: 2.4</br>slope: 1.0</br>ca: 3.0</br>thal: 0.0</br>_original_yhat_: 0.9742528447623608</br>"
          ],
          [
           "</br>id: 158</br>prediction: 0.977</br>exang: 0.36</br></br>age: 70.0</br>sex: 1.0</br>cp: 3.0</br>trestbps: 130.0</br>chol: 322.0</br>fbs: 0.0</br>restecg: 2.0</br>thalach: 109.0</br>oldpeak: 2.4</br>slope: 1.0</br>ca: 3.0</br>thal: 0.0</br>_original_yhat_: 0.9742528447623608</br>"
          ],
          [
           "</br>id: 158</br>prediction: 0.977</br>exang: 0.37</br></br>age: 70.0</br>sex: 1.0</br>cp: 3.0</br>trestbps: 130.0</br>chol: 322.0</br>fbs: 0.0</br>restecg: 2.0</br>thalach: 109.0</br>oldpeak: 2.4</br>slope: 1.0</br>ca: 3.0</br>thal: 0.0</br>_original_yhat_: 0.9742528447623608</br>"
          ],
          [
           "</br>id: 158</br>prediction: 0.977</br>exang: 0.38</br></br>age: 70.0</br>sex: 1.0</br>cp: 3.0</br>trestbps: 130.0</br>chol: 322.0</br>fbs: 0.0</br>restecg: 2.0</br>thalach: 109.0</br>oldpeak: 2.4</br>slope: 1.0</br>ca: 3.0</br>thal: 0.0</br>_original_yhat_: 0.9742528447623608</br>"
          ],
          [
           "</br>id: 158</br>prediction: 0.977</br>exang: 0.39</br></br>age: 70.0</br>sex: 1.0</br>cp: 3.0</br>trestbps: 130.0</br>chol: 322.0</br>fbs: 0.0</br>restecg: 2.0</br>thalach: 109.0</br>oldpeak: 2.4</br>slope: 1.0</br>ca: 3.0</br>thal: 0.0</br>_original_yhat_: 0.9742528447623608</br>"
          ],
          [
           "</br>id: 158</br>prediction: 0.977</br>exang: 0.4</br></br>age: 70.0</br>sex: 1.0</br>cp: 3.0</br>trestbps: 130.0</br>chol: 322.0</br>fbs: 0.0</br>restecg: 2.0</br>thalach: 109.0</br>oldpeak: 2.4</br>slope: 1.0</br>ca: 3.0</br>thal: 0.0</br>_original_yhat_: 0.9742528447623608</br>"
          ],
          [
           "</br>id: 158</br>prediction: 0.977</br>exang: 0.41000000000000003</br></br>age: 70.0</br>sex: 1.0</br>cp: 3.0</br>trestbps: 130.0</br>chol: 322.0</br>fbs: 0.0</br>restecg: 2.0</br>thalach: 109.0</br>oldpeak: 2.4</br>slope: 1.0</br>ca: 3.0</br>thal: 0.0</br>_original_yhat_: 0.9742528447623608</br>"
          ],
          [
           "</br>id: 158</br>prediction: 0.977</br>exang: 0.42</br></br>age: 70.0</br>sex: 1.0</br>cp: 3.0</br>trestbps: 130.0</br>chol: 322.0</br>fbs: 0.0</br>restecg: 2.0</br>thalach: 109.0</br>oldpeak: 2.4</br>slope: 1.0</br>ca: 3.0</br>thal: 0.0</br>_original_yhat_: 0.9742528447623608</br>"
          ],
          [
           "</br>id: 158</br>prediction: 0.977</br>exang: 0.43</br></br>age: 70.0</br>sex: 1.0</br>cp: 3.0</br>trestbps: 130.0</br>chol: 322.0</br>fbs: 0.0</br>restecg: 2.0</br>thalach: 109.0</br>oldpeak: 2.4</br>slope: 1.0</br>ca: 3.0</br>thal: 0.0</br>_original_yhat_: 0.9742528447623608</br>"
          ],
          [
           "</br>id: 158</br>prediction: 0.977</br>exang: 0.44</br></br>age: 70.0</br>sex: 1.0</br>cp: 3.0</br>trestbps: 130.0</br>chol: 322.0</br>fbs: 0.0</br>restecg: 2.0</br>thalach: 109.0</br>oldpeak: 2.4</br>slope: 1.0</br>ca: 3.0</br>thal: 0.0</br>_original_yhat_: 0.9742528447623608</br>"
          ],
          [
           "</br>id: 158</br>prediction: 0.977</br>exang: 0.45</br></br>age: 70.0</br>sex: 1.0</br>cp: 3.0</br>trestbps: 130.0</br>chol: 322.0</br>fbs: 0.0</br>restecg: 2.0</br>thalach: 109.0</br>oldpeak: 2.4</br>slope: 1.0</br>ca: 3.0</br>thal: 0.0</br>_original_yhat_: 0.9742528447623608</br>"
          ],
          [
           "</br>id: 158</br>prediction: 0.977</br>exang: 0.46</br></br>age: 70.0</br>sex: 1.0</br>cp: 3.0</br>trestbps: 130.0</br>chol: 322.0</br>fbs: 0.0</br>restecg: 2.0</br>thalach: 109.0</br>oldpeak: 2.4</br>slope: 1.0</br>ca: 3.0</br>thal: 0.0</br>_original_yhat_: 0.9742528447623608</br>"
          ],
          [
           "</br>id: 158</br>prediction: 0.977</br>exang: 0.47000000000000003</br></br>age: 70.0</br>sex: 1.0</br>cp: 3.0</br>trestbps: 130.0</br>chol: 322.0</br>fbs: 0.0</br>restecg: 2.0</br>thalach: 109.0</br>oldpeak: 2.4</br>slope: 1.0</br>ca: 3.0</br>thal: 0.0</br>_original_yhat_: 0.9742528447623608</br>"
          ],
          [
           "</br>id: 158</br>prediction: 0.977</br>exang: 0.48</br></br>age: 70.0</br>sex: 1.0</br>cp: 3.0</br>trestbps: 130.0</br>chol: 322.0</br>fbs: 0.0</br>restecg: 2.0</br>thalach: 109.0</br>oldpeak: 2.4</br>slope: 1.0</br>ca: 3.0</br>thal: 0.0</br>_original_yhat_: 0.9742528447623608</br>"
          ],
          [
           "</br>id: 158</br>prediction: 0.977</br>exang: 0.49</br></br>age: 70.0</br>sex: 1.0</br>cp: 3.0</br>trestbps: 130.0</br>chol: 322.0</br>fbs: 0.0</br>restecg: 2.0</br>thalach: 109.0</br>oldpeak: 2.4</br>slope: 1.0</br>ca: 3.0</br>thal: 0.0</br>_original_yhat_: 0.9742528447623608</br>"
          ],
          [
           "</br>id: 158</br>prediction: 0.978</br>exang: 0.5</br></br>age: 70.0</br>sex: 1.0</br>cp: 3.0</br>trestbps: 130.0</br>chol: 322.0</br>fbs: 0.0</br>restecg: 2.0</br>thalach: 109.0</br>oldpeak: 2.4</br>slope: 1.0</br>ca: 3.0</br>thal: 0.0</br>_original_yhat_: 0.9742528447623608</br>"
          ],
          [
           "</br>id: 158</br>prediction: 0.978</br>exang: 0.51</br></br>age: 70.0</br>sex: 1.0</br>cp: 3.0</br>trestbps: 130.0</br>chol: 322.0</br>fbs: 0.0</br>restecg: 2.0</br>thalach: 109.0</br>oldpeak: 2.4</br>slope: 1.0</br>ca: 3.0</br>thal: 0.0</br>_original_yhat_: 0.9742528447623608</br>"
          ],
          [
           "</br>id: 158</br>prediction: 0.978</br>exang: 0.52</br></br>age: 70.0</br>sex: 1.0</br>cp: 3.0</br>trestbps: 130.0</br>chol: 322.0</br>fbs: 0.0</br>restecg: 2.0</br>thalach: 109.0</br>oldpeak: 2.4</br>slope: 1.0</br>ca: 3.0</br>thal: 0.0</br>_original_yhat_: 0.9742528447623608</br>"
          ],
          [
           "</br>id: 158</br>prediction: 0.978</br>exang: 0.53</br></br>age: 70.0</br>sex: 1.0</br>cp: 3.0</br>trestbps: 130.0</br>chol: 322.0</br>fbs: 0.0</br>restecg: 2.0</br>thalach: 109.0</br>oldpeak: 2.4</br>slope: 1.0</br>ca: 3.0</br>thal: 0.0</br>_original_yhat_: 0.9742528447623608</br>"
          ],
          [
           "</br>id: 158</br>prediction: 0.978</br>exang: 0.54</br></br>age: 70.0</br>sex: 1.0</br>cp: 3.0</br>trestbps: 130.0</br>chol: 322.0</br>fbs: 0.0</br>restecg: 2.0</br>thalach: 109.0</br>oldpeak: 2.4</br>slope: 1.0</br>ca: 3.0</br>thal: 0.0</br>_original_yhat_: 0.9742528447623608</br>"
          ],
          [
           "</br>id: 158</br>prediction: 0.978</br>exang: 0.55</br></br>age: 70.0</br>sex: 1.0</br>cp: 3.0</br>trestbps: 130.0</br>chol: 322.0</br>fbs: 0.0</br>restecg: 2.0</br>thalach: 109.0</br>oldpeak: 2.4</br>slope: 1.0</br>ca: 3.0</br>thal: 0.0</br>_original_yhat_: 0.9742528447623608</br>"
          ],
          [
           "</br>id: 158</br>prediction: 0.978</br>exang: 0.56</br></br>age: 70.0</br>sex: 1.0</br>cp: 3.0</br>trestbps: 130.0</br>chol: 322.0</br>fbs: 0.0</br>restecg: 2.0</br>thalach: 109.0</br>oldpeak: 2.4</br>slope: 1.0</br>ca: 3.0</br>thal: 0.0</br>_original_yhat_: 0.9742528447623608</br>"
          ],
          [
           "</br>id: 158</br>prediction: 0.978</br>exang: 0.5700000000000001</br></br>age: 70.0</br>sex: 1.0</br>cp: 3.0</br>trestbps: 130.0</br>chol: 322.0</br>fbs: 0.0</br>restecg: 2.0</br>thalach: 109.0</br>oldpeak: 2.4</br>slope: 1.0</br>ca: 3.0</br>thal: 0.0</br>_original_yhat_: 0.9742528447623608</br>"
          ],
          [
           "</br>id: 158</br>prediction: 0.978</br>exang: 0.58</br></br>age: 70.0</br>sex: 1.0</br>cp: 3.0</br>trestbps: 130.0</br>chol: 322.0</br>fbs: 0.0</br>restecg: 2.0</br>thalach: 109.0</br>oldpeak: 2.4</br>slope: 1.0</br>ca: 3.0</br>thal: 0.0</br>_original_yhat_: 0.9742528447623608</br>"
          ],
          [
           "</br>id: 158</br>prediction: 0.978</br>exang: 0.59</br></br>age: 70.0</br>sex: 1.0</br>cp: 3.0</br>trestbps: 130.0</br>chol: 322.0</br>fbs: 0.0</br>restecg: 2.0</br>thalach: 109.0</br>oldpeak: 2.4</br>slope: 1.0</br>ca: 3.0</br>thal: 0.0</br>_original_yhat_: 0.9742528447623608</br>"
          ],
          [
           "</br>id: 158</br>prediction: 0.978</br>exang: 0.6</br></br>age: 70.0</br>sex: 1.0</br>cp: 3.0</br>trestbps: 130.0</br>chol: 322.0</br>fbs: 0.0</br>restecg: 2.0</br>thalach: 109.0</br>oldpeak: 2.4</br>slope: 1.0</br>ca: 3.0</br>thal: 0.0</br>_original_yhat_: 0.9742528447623608</br>"
          ],
          [
           "</br>id: 158</br>prediction: 0.978</br>exang: 0.61</br></br>age: 70.0</br>sex: 1.0</br>cp: 3.0</br>trestbps: 130.0</br>chol: 322.0</br>fbs: 0.0</br>restecg: 2.0</br>thalach: 109.0</br>oldpeak: 2.4</br>slope: 1.0</br>ca: 3.0</br>thal: 0.0</br>_original_yhat_: 0.9742528447623608</br>"
          ],
          [
           "</br>id: 158</br>prediction: 0.978</br>exang: 0.62</br></br>age: 70.0</br>sex: 1.0</br>cp: 3.0</br>trestbps: 130.0</br>chol: 322.0</br>fbs: 0.0</br>restecg: 2.0</br>thalach: 109.0</br>oldpeak: 2.4</br>slope: 1.0</br>ca: 3.0</br>thal: 0.0</br>_original_yhat_: 0.9742528447623608</br>"
          ],
          [
           "</br>id: 158</br>prediction: 0.978</br>exang: 0.63</br></br>age: 70.0</br>sex: 1.0</br>cp: 3.0</br>trestbps: 130.0</br>chol: 322.0</br>fbs: 0.0</br>restecg: 2.0</br>thalach: 109.0</br>oldpeak: 2.4</br>slope: 1.0</br>ca: 3.0</br>thal: 0.0</br>_original_yhat_: 0.9742528447623608</br>"
          ],
          [
           "</br>id: 158</br>prediction: 0.978</br>exang: 0.64</br></br>age: 70.0</br>sex: 1.0</br>cp: 3.0</br>trestbps: 130.0</br>chol: 322.0</br>fbs: 0.0</br>restecg: 2.0</br>thalach: 109.0</br>oldpeak: 2.4</br>slope: 1.0</br>ca: 3.0</br>thal: 0.0</br>_original_yhat_: 0.9742528447623608</br>"
          ],
          [
           "</br>id: 158</br>prediction: 0.978</br>exang: 0.65</br></br>age: 70.0</br>sex: 1.0</br>cp: 3.0</br>trestbps: 130.0</br>chol: 322.0</br>fbs: 0.0</br>restecg: 2.0</br>thalach: 109.0</br>oldpeak: 2.4</br>slope: 1.0</br>ca: 3.0</br>thal: 0.0</br>_original_yhat_: 0.9742528447623608</br>"
          ],
          [
           "</br>id: 158</br>prediction: 0.978</br>exang: 0.66</br></br>age: 70.0</br>sex: 1.0</br>cp: 3.0</br>trestbps: 130.0</br>chol: 322.0</br>fbs: 0.0</br>restecg: 2.0</br>thalach: 109.0</br>oldpeak: 2.4</br>slope: 1.0</br>ca: 3.0</br>thal: 0.0</br>_original_yhat_: 0.9742528447623608</br>"
          ],
          [
           "</br>id: 158</br>prediction: 0.979</br>exang: 0.67</br></br>age: 70.0</br>sex: 1.0</br>cp: 3.0</br>trestbps: 130.0</br>chol: 322.0</br>fbs: 0.0</br>restecg: 2.0</br>thalach: 109.0</br>oldpeak: 2.4</br>slope: 1.0</br>ca: 3.0</br>thal: 0.0</br>_original_yhat_: 0.9742528447623608</br>"
          ],
          [
           "</br>id: 158</br>prediction: 0.979</br>exang: 0.68</br></br>age: 70.0</br>sex: 1.0</br>cp: 3.0</br>trestbps: 130.0</br>chol: 322.0</br>fbs: 0.0</br>restecg: 2.0</br>thalach: 109.0</br>oldpeak: 2.4</br>slope: 1.0</br>ca: 3.0</br>thal: 0.0</br>_original_yhat_: 0.9742528447623608</br>"
          ],
          [
           "</br>id: 158</br>prediction: 0.979</br>exang: 0.6900000000000001</br></br>age: 70.0</br>sex: 1.0</br>cp: 3.0</br>trestbps: 130.0</br>chol: 322.0</br>fbs: 0.0</br>restecg: 2.0</br>thalach: 109.0</br>oldpeak: 2.4</br>slope: 1.0</br>ca: 3.0</br>thal: 0.0</br>_original_yhat_: 0.9742528447623608</br>"
          ],
          [
           "</br>id: 158</br>prediction: 0.979</br>exang: 0.7000000000000001</br></br>age: 70.0</br>sex: 1.0</br>cp: 3.0</br>trestbps: 130.0</br>chol: 322.0</br>fbs: 0.0</br>restecg: 2.0</br>thalach: 109.0</br>oldpeak: 2.4</br>slope: 1.0</br>ca: 3.0</br>thal: 0.0</br>_original_yhat_: 0.9742528447623608</br>"
          ],
          [
           "</br>id: 158</br>prediction: 0.979</br>exang: 0.71</br></br>age: 70.0</br>sex: 1.0</br>cp: 3.0</br>trestbps: 130.0</br>chol: 322.0</br>fbs: 0.0</br>restecg: 2.0</br>thalach: 109.0</br>oldpeak: 2.4</br>slope: 1.0</br>ca: 3.0</br>thal: 0.0</br>_original_yhat_: 0.9742528447623608</br>"
          ],
          [
           "</br>id: 158</br>prediction: 0.979</br>exang: 0.72</br></br>age: 70.0</br>sex: 1.0</br>cp: 3.0</br>trestbps: 130.0</br>chol: 322.0</br>fbs: 0.0</br>restecg: 2.0</br>thalach: 109.0</br>oldpeak: 2.4</br>slope: 1.0</br>ca: 3.0</br>thal: 0.0</br>_original_yhat_: 0.9742528447623608</br>"
          ],
          [
           "</br>id: 158</br>prediction: 0.979</br>exang: 0.73</br></br>age: 70.0</br>sex: 1.0</br>cp: 3.0</br>trestbps: 130.0</br>chol: 322.0</br>fbs: 0.0</br>restecg: 2.0</br>thalach: 109.0</br>oldpeak: 2.4</br>slope: 1.0</br>ca: 3.0</br>thal: 0.0</br>_original_yhat_: 0.9742528447623608</br>"
          ],
          [
           "</br>id: 158</br>prediction: 0.979</br>exang: 0.74</br></br>age: 70.0</br>sex: 1.0</br>cp: 3.0</br>trestbps: 130.0</br>chol: 322.0</br>fbs: 0.0</br>restecg: 2.0</br>thalach: 109.0</br>oldpeak: 2.4</br>slope: 1.0</br>ca: 3.0</br>thal: 0.0</br>_original_yhat_: 0.9742528447623608</br>"
          ],
          [
           "</br>id: 158</br>prediction: 0.979</br>exang: 0.75</br></br>age: 70.0</br>sex: 1.0</br>cp: 3.0</br>trestbps: 130.0</br>chol: 322.0</br>fbs: 0.0</br>restecg: 2.0</br>thalach: 109.0</br>oldpeak: 2.4</br>slope: 1.0</br>ca: 3.0</br>thal: 0.0</br>_original_yhat_: 0.9742528447623608</br>"
          ],
          [
           "</br>id: 158</br>prediction: 0.979</br>exang: 0.76</br></br>age: 70.0</br>sex: 1.0</br>cp: 3.0</br>trestbps: 130.0</br>chol: 322.0</br>fbs: 0.0</br>restecg: 2.0</br>thalach: 109.0</br>oldpeak: 2.4</br>slope: 1.0</br>ca: 3.0</br>thal: 0.0</br>_original_yhat_: 0.9742528447623608</br>"
          ],
          [
           "</br>id: 158</br>prediction: 0.979</br>exang: 0.77</br></br>age: 70.0</br>sex: 1.0</br>cp: 3.0</br>trestbps: 130.0</br>chol: 322.0</br>fbs: 0.0</br>restecg: 2.0</br>thalach: 109.0</br>oldpeak: 2.4</br>slope: 1.0</br>ca: 3.0</br>thal: 0.0</br>_original_yhat_: 0.9742528447623608</br>"
          ],
          [
           "</br>id: 158</br>prediction: 0.979</br>exang: 0.78</br></br>age: 70.0</br>sex: 1.0</br>cp: 3.0</br>trestbps: 130.0</br>chol: 322.0</br>fbs: 0.0</br>restecg: 2.0</br>thalach: 109.0</br>oldpeak: 2.4</br>slope: 1.0</br>ca: 3.0</br>thal: 0.0</br>_original_yhat_: 0.9742528447623608</br>"
          ],
          [
           "</br>id: 158</br>prediction: 0.979</br>exang: 0.79</br></br>age: 70.0</br>sex: 1.0</br>cp: 3.0</br>trestbps: 130.0</br>chol: 322.0</br>fbs: 0.0</br>restecg: 2.0</br>thalach: 109.0</br>oldpeak: 2.4</br>slope: 1.0</br>ca: 3.0</br>thal: 0.0</br>_original_yhat_: 0.9742528447623608</br>"
          ],
          [
           "</br>id: 158</br>prediction: 0.979</br>exang: 0.8</br></br>age: 70.0</br>sex: 1.0</br>cp: 3.0</br>trestbps: 130.0</br>chol: 322.0</br>fbs: 0.0</br>restecg: 2.0</br>thalach: 109.0</br>oldpeak: 2.4</br>slope: 1.0</br>ca: 3.0</br>thal: 0.0</br>_original_yhat_: 0.9742528447623608</br>"
          ],
          [
           "</br>id: 158</br>prediction: 0.979</br>exang: 0.81</br></br>age: 70.0</br>sex: 1.0</br>cp: 3.0</br>trestbps: 130.0</br>chol: 322.0</br>fbs: 0.0</br>restecg: 2.0</br>thalach: 109.0</br>oldpeak: 2.4</br>slope: 1.0</br>ca: 3.0</br>thal: 0.0</br>_original_yhat_: 0.9742528447623608</br>"
          ],
          [
           "</br>id: 158</br>prediction: 0.979</br>exang: 0.8200000000000001</br></br>age: 70.0</br>sex: 1.0</br>cp: 3.0</br>trestbps: 130.0</br>chol: 322.0</br>fbs: 0.0</br>restecg: 2.0</br>thalach: 109.0</br>oldpeak: 2.4</br>slope: 1.0</br>ca: 3.0</br>thal: 0.0</br>_original_yhat_: 0.9742528447623608</br>"
          ],
          [
           "</br>id: 158</br>prediction: 0.979</br>exang: 0.8300000000000001</br></br>age: 70.0</br>sex: 1.0</br>cp: 3.0</br>trestbps: 130.0</br>chol: 322.0</br>fbs: 0.0</br>restecg: 2.0</br>thalach: 109.0</br>oldpeak: 2.4</br>slope: 1.0</br>ca: 3.0</br>thal: 0.0</br>_original_yhat_: 0.9742528447623608</br>"
          ],
          [
           "</br>id: 158</br>prediction: 0.979</br>exang: 0.84</br></br>age: 70.0</br>sex: 1.0</br>cp: 3.0</br>trestbps: 130.0</br>chol: 322.0</br>fbs: 0.0</br>restecg: 2.0</br>thalach: 109.0</br>oldpeak: 2.4</br>slope: 1.0</br>ca: 3.0</br>thal: 0.0</br>_original_yhat_: 0.9742528447623608</br>"
          ],
          [
           "</br>id: 158</br>prediction: 0.98</br>exang: 0.85</br></br>age: 70.0</br>sex: 1.0</br>cp: 3.0</br>trestbps: 130.0</br>chol: 322.0</br>fbs: 0.0</br>restecg: 2.0</br>thalach: 109.0</br>oldpeak: 2.4</br>slope: 1.0</br>ca: 3.0</br>thal: 0.0</br>_original_yhat_: 0.9742528447623608</br>"
          ],
          [
           "</br>id: 158</br>prediction: 0.98</br>exang: 0.86</br></br>age: 70.0</br>sex: 1.0</br>cp: 3.0</br>trestbps: 130.0</br>chol: 322.0</br>fbs: 0.0</br>restecg: 2.0</br>thalach: 109.0</br>oldpeak: 2.4</br>slope: 1.0</br>ca: 3.0</br>thal: 0.0</br>_original_yhat_: 0.9742528447623608</br>"
          ],
          [
           "</br>id: 158</br>prediction: 0.98</br>exang: 0.87</br></br>age: 70.0</br>sex: 1.0</br>cp: 3.0</br>trestbps: 130.0</br>chol: 322.0</br>fbs: 0.0</br>restecg: 2.0</br>thalach: 109.0</br>oldpeak: 2.4</br>slope: 1.0</br>ca: 3.0</br>thal: 0.0</br>_original_yhat_: 0.9742528447623608</br>"
          ],
          [
           "</br>id: 158</br>prediction: 0.98</br>exang: 0.88</br></br>age: 70.0</br>sex: 1.0</br>cp: 3.0</br>trestbps: 130.0</br>chol: 322.0</br>fbs: 0.0</br>restecg: 2.0</br>thalach: 109.0</br>oldpeak: 2.4</br>slope: 1.0</br>ca: 3.0</br>thal: 0.0</br>_original_yhat_: 0.9742528447623608</br>"
          ],
          [
           "</br>id: 158</br>prediction: 0.98</br>exang: 0.89</br></br>age: 70.0</br>sex: 1.0</br>cp: 3.0</br>trestbps: 130.0</br>chol: 322.0</br>fbs: 0.0</br>restecg: 2.0</br>thalach: 109.0</br>oldpeak: 2.4</br>slope: 1.0</br>ca: 3.0</br>thal: 0.0</br>_original_yhat_: 0.9742528447623608</br>"
          ],
          [
           "</br>id: 158</br>prediction: 0.98</br>exang: 0.9</br></br>age: 70.0</br>sex: 1.0</br>cp: 3.0</br>trestbps: 130.0</br>chol: 322.0</br>fbs: 0.0</br>restecg: 2.0</br>thalach: 109.0</br>oldpeak: 2.4</br>slope: 1.0</br>ca: 3.0</br>thal: 0.0</br>_original_yhat_: 0.9742528447623608</br>"
          ],
          [
           "</br>id: 158</br>prediction: 0.98</br>exang: 0.91</br></br>age: 70.0</br>sex: 1.0</br>cp: 3.0</br>trestbps: 130.0</br>chol: 322.0</br>fbs: 0.0</br>restecg: 2.0</br>thalach: 109.0</br>oldpeak: 2.4</br>slope: 1.0</br>ca: 3.0</br>thal: 0.0</br>_original_yhat_: 0.9742528447623608</br>"
          ],
          [
           "</br>id: 158</br>prediction: 0.98</br>exang: 0.92</br></br>age: 70.0</br>sex: 1.0</br>cp: 3.0</br>trestbps: 130.0</br>chol: 322.0</br>fbs: 0.0</br>restecg: 2.0</br>thalach: 109.0</br>oldpeak: 2.4</br>slope: 1.0</br>ca: 3.0</br>thal: 0.0</br>_original_yhat_: 0.9742528447623608</br>"
          ],
          [
           "</br>id: 158</br>prediction: 0.98</br>exang: 0.93</br></br>age: 70.0</br>sex: 1.0</br>cp: 3.0</br>trestbps: 130.0</br>chol: 322.0</br>fbs: 0.0</br>restecg: 2.0</br>thalach: 109.0</br>oldpeak: 2.4</br>slope: 1.0</br>ca: 3.0</br>thal: 0.0</br>_original_yhat_: 0.9742528447623608</br>"
          ],
          [
           "</br>id: 158</br>prediction: 0.98</br>exang: 0.9400000000000001</br></br>age: 70.0</br>sex: 1.0</br>cp: 3.0</br>trestbps: 130.0</br>chol: 322.0</br>fbs: 0.0</br>restecg: 2.0</br>thalach: 109.0</br>oldpeak: 2.4</br>slope: 1.0</br>ca: 3.0</br>thal: 0.0</br>_original_yhat_: 0.9742528447623608</br>"
          ],
          [
           "</br>id: 158</br>prediction: 0.98</br>exang: 0.9500000000000001</br></br>age: 70.0</br>sex: 1.0</br>cp: 3.0</br>trestbps: 130.0</br>chol: 322.0</br>fbs: 0.0</br>restecg: 2.0</br>thalach: 109.0</br>oldpeak: 2.4</br>slope: 1.0</br>ca: 3.0</br>thal: 0.0</br>_original_yhat_: 0.9742528447623608</br>"
          ],
          [
           "</br>id: 158</br>prediction: 0.98</br>exang: 0.96</br></br>age: 70.0</br>sex: 1.0</br>cp: 3.0</br>trestbps: 130.0</br>chol: 322.0</br>fbs: 0.0</br>restecg: 2.0</br>thalach: 109.0</br>oldpeak: 2.4</br>slope: 1.0</br>ca: 3.0</br>thal: 0.0</br>_original_yhat_: 0.9742528447623608</br>"
          ],
          [
           "</br>id: 158</br>prediction: 0.98</br>exang: 0.97</br></br>age: 70.0</br>sex: 1.0</br>cp: 3.0</br>trestbps: 130.0</br>chol: 322.0</br>fbs: 0.0</br>restecg: 2.0</br>thalach: 109.0</br>oldpeak: 2.4</br>slope: 1.0</br>ca: 3.0</br>thal: 0.0</br>_original_yhat_: 0.9742528447623608</br>"
          ],
          [
           "</br>id: 158</br>prediction: 0.98</br>exang: 0.98</br></br>age: 70.0</br>sex: 1.0</br>cp: 3.0</br>trestbps: 130.0</br>chol: 322.0</br>fbs: 0.0</br>restecg: 2.0</br>thalach: 109.0</br>oldpeak: 2.4</br>slope: 1.0</br>ca: 3.0</br>thal: 0.0</br>_original_yhat_: 0.9742528447623608</br>"
          ],
          [
           "</br>id: 158</br>prediction: 0.98</br>exang: 0.99</br></br>age: 70.0</br>sex: 1.0</br>cp: 3.0</br>trestbps: 130.0</br>chol: 322.0</br>fbs: 0.0</br>restecg: 2.0</br>thalach: 109.0</br>oldpeak: 2.4</br>slope: 1.0</br>ca: 3.0</br>thal: 0.0</br>_original_yhat_: 0.9742528447623608</br>"
          ],
          [
           "</br>id: 158</br>prediction: 0.98</br>exang: 1.0</br></br>age: 70.0</br>sex: 1.0</br>cp: 3.0</br>trestbps: 130.0</br>chol: 322.0</br>fbs: 0.0</br>restecg: 2.0</br>thalach: 109.0</br>oldpeak: 2.4</br>slope: 1.0</br>ca: 3.0</br>thal: 0.0</br>_original_yhat_: 0.9742528447623608</br>"
          ]
         ],
         "hovertemplate": "%{customdata[0]}<extra></extra>",
         "legendgroup": "RandomizedSearchCV",
         "line": {
          "color": "#46bac2",
          "dash": "solid",
          "width": 2
         },
         "marker": {
          "symbol": "circle"
         },
         "mode": "lines",
         "name": "RandomizedSearchCV",
         "opacity": 1,
         "showlegend": false,
         "type": "scattergl",
         "x": [
          0,
          0.01,
          0.02,
          0.03,
          0.04,
          0.05,
          0.06,
          0.07,
          0.08,
          0.09,
          0.1,
          0.11,
          0.12,
          0.13,
          0.14,
          0.15,
          0.16,
          0.17,
          0.18,
          0.19,
          0.2,
          0.21,
          0.22,
          0.23,
          0.24,
          0.25,
          0.26,
          0.27,
          0.28,
          0.29,
          0.3,
          0.31,
          0.32,
          0.33,
          0.34,
          0.35000000000000003,
          0.36,
          0.37,
          0.38,
          0.39,
          0.4,
          0.41000000000000003,
          0.42,
          0.43,
          0.44,
          0.45,
          0.46,
          0.47000000000000003,
          0.48,
          0.49,
          0.5,
          0.51,
          0.52,
          0.53,
          0.54,
          0.55,
          0.56,
          0.5700000000000001,
          0.58,
          0.59,
          0.6,
          0.61,
          0.62,
          0.63,
          0.64,
          0.65,
          0.66,
          0.67,
          0.68,
          0.6900000000000001,
          0.7000000000000001,
          0.71,
          0.72,
          0.73,
          0.74,
          0.75,
          0.76,
          0.77,
          0.78,
          0.79,
          0.8,
          0.81,
          0.8200000000000001,
          0.8300000000000001,
          0.84,
          0.85,
          0.86,
          0.87,
          0.88,
          0.89,
          0.9,
          0.91,
          0.92,
          0.93,
          0.9400000000000001,
          0.9500000000000001,
          0.96,
          0.97,
          0.98,
          0.99,
          1
         ],
         "xaxis": "x5",
         "y": [
          0.9742528447623608,
          0.9743222681301509,
          0.9743915092285058,
          0.9744605685094666,
          0.9745294464240969,
          0.9745981434224824,
          0.9746666599537342,
          0.9747349964659886,
          0.9748031534064092,
          0.9748711312211882,
          0.9749389303555471,
          0.9750065512537395,
          0.9750739943590504,
          0.9751412601137996,
          0.9752083489593416,
          0.9752752613360677,
          0.9753419976834069,
          0.9754085584398277,
          0.9754749440428394,
          0.9755411549289931,
          0.9756071915338834,
          0.9756730542921496,
          0.9757387436374773,
          0.9758042600025997,
          0.9758696038192988,
          0.9759347755184068,
          0.9759997755298077,
          0.9760646042824387,
          0.9761292622042913,
          0.976193749722413,
          0.9762580672629083,
          0.9763222152509404,
          0.9763861941107329,
          0.9764500042655704,
          0.9765136461378008,
          0.9765771201488357,
          0.9766404267191525,
          0.9767035662682962,
          0.9767665392148795,
          0.9768293459765856,
          0.9768919869701685,
          0.9769544626114552,
          0.9770167733153468,
          0.9770789194958198,
          0.9771409015659278,
          0.9772027199378026,
          0.977264375022656,
          0.977325867230781,
          0.977387196971553,
          0.9774483646534319,
          0.9775093706839626,
          0.9775702154697773,
          0.9776308994165968,
          0.9776914229292306,
          0.9777517864115808,
          0.9778119902666415,
          0.9778720348965007,
          0.9779319207023424,
          0.9779916480844472,
          0.9780512174421944,
          0.9781106291740629,
          0.9781698836776335,
          0.9782289813495888,
          0.9782879225857161,
          0.9783467077809087,
          0.9784053373291665,
          0.9784638116235979,
          0.9785221310564212,
          0.978580296018967,
          0.9786383069016775,
          0.9786961640941102,
          0.9787538679849381,
          0.9788114189619512,
          0.9788688174120586,
          0.9789260637212891,
          0.9789831582747933,
          0.9790401014568452,
          0.9790968936508428,
          0.9791535352393107,
          0.9792100266039,
          0.9792663681253915,
          0.9793225601836959,
          0.9793786031578563,
          0.9794344974260482,
          0.9794902433655828,
          0.9795458413529068,
          0.9796012917636049,
          0.9796565949724007,
          0.9797117513531586,
          0.9797667612788853,
          0.9798216251217302,
          0.9798763432529887,
          0.9799309160431018,
          0.9799853438616589,
          0.980039627077399,
          0.9800937660582113,
          0.9801477611711379,
          0.9802016127823743,
          0.9802553212572717,
          0.9803088869603375,
          0.9803623102552377
         ],
         "yaxis": "y5"
        },
        {
         "customdata": [
          [
           "</br>id: 158</br>prediction: 0.936</br>oldpeak: 0.0</br></br>age: 70.0</br>sex: 1.0</br>cp: 3.0</br>trestbps: 130.0</br>chol: 322.0</br>fbs: 0.0</br>restecg: 2.0</br>thalach: 109.0</br>exang: 0.0</br>slope: 1.0</br>ca: 3.0</br>thal: 0.0</br>_original_yhat_: 0.9742528447623608</br>"
          ],
          [
           "</br>id: 158</br>prediction: 0.937</br>oldpeak: 0.062</br></br>age: 70.0</br>sex: 1.0</br>cp: 3.0</br>trestbps: 130.0</br>chol: 322.0</br>fbs: 0.0</br>restecg: 2.0</br>thalach: 109.0</br>exang: 0.0</br>slope: 1.0</br>ca: 3.0</br>thal: 0.0</br>_original_yhat_: 0.9742528447623608</br>"
          ],
          [
           "</br>id: 158</br>prediction: 0.939</br>oldpeak: 0.124</br></br>age: 70.0</br>sex: 1.0</br>cp: 3.0</br>trestbps: 130.0</br>chol: 322.0</br>fbs: 0.0</br>restecg: 2.0</br>thalach: 109.0</br>exang: 0.0</br>slope: 1.0</br>ca: 3.0</br>thal: 0.0</br>_original_yhat_: 0.9742528447623608</br>"
          ],
          [
           "</br>id: 158</br>prediction: 0.94</br>oldpeak: 0.186</br></br>age: 70.0</br>sex: 1.0</br>cp: 3.0</br>trestbps: 130.0</br>chol: 322.0</br>fbs: 0.0</br>restecg: 2.0</br>thalach: 109.0</br>exang: 0.0</br>slope: 1.0</br>ca: 3.0</br>thal: 0.0</br>_original_yhat_: 0.9742528447623608</br>"
          ],
          [
           "</br>id: 158</br>prediction: 0.941</br>oldpeak: 0.248</br></br>age: 70.0</br>sex: 1.0</br>cp: 3.0</br>trestbps: 130.0</br>chol: 322.0</br>fbs: 0.0</br>restecg: 2.0</br>thalach: 109.0</br>exang: 0.0</br>slope: 1.0</br>ca: 3.0</br>thal: 0.0</br>_original_yhat_: 0.9742528447623608</br>"
          ],
          [
           "</br>id: 158</br>prediction: 0.943</br>oldpeak: 0.31</br></br>age: 70.0</br>sex: 1.0</br>cp: 3.0</br>trestbps: 130.0</br>chol: 322.0</br>fbs: 0.0</br>restecg: 2.0</br>thalach: 109.0</br>exang: 0.0</br>slope: 1.0</br>ca: 3.0</br>thal: 0.0</br>_original_yhat_: 0.9742528447623608</br>"
          ],
          [
           "</br>id: 158</br>prediction: 0.944</br>oldpeak: 0.372</br></br>age: 70.0</br>sex: 1.0</br>cp: 3.0</br>trestbps: 130.0</br>chol: 322.0</br>fbs: 0.0</br>restecg: 2.0</br>thalach: 109.0</br>exang: 0.0</br>slope: 1.0</br>ca: 3.0</br>thal: 0.0</br>_original_yhat_: 0.9742528447623608</br>"
          ],
          [
           "</br>id: 158</br>prediction: 0.945</br>oldpeak: 0.434</br></br>age: 70.0</br>sex: 1.0</br>cp: 3.0</br>trestbps: 130.0</br>chol: 322.0</br>fbs: 0.0</br>restecg: 2.0</br>thalach: 109.0</br>exang: 0.0</br>slope: 1.0</br>ca: 3.0</br>thal: 0.0</br>_original_yhat_: 0.9742528447623608</br>"
          ],
          [
           "</br>id: 158</br>prediction: 0.947</br>oldpeak: 0.496</br></br>age: 70.0</br>sex: 1.0</br>cp: 3.0</br>trestbps: 130.0</br>chol: 322.0</br>fbs: 0.0</br>restecg: 2.0</br>thalach: 109.0</br>exang: 0.0</br>slope: 1.0</br>ca: 3.0</br>thal: 0.0</br>_original_yhat_: 0.9742528447623608</br>"
          ],
          [
           "</br>id: 158</br>prediction: 0.948</br>oldpeak: 0.558</br></br>age: 70.0</br>sex: 1.0</br>cp: 3.0</br>trestbps: 130.0</br>chol: 322.0</br>fbs: 0.0</br>restecg: 2.0</br>thalach: 109.0</br>exang: 0.0</br>slope: 1.0</br>ca: 3.0</br>thal: 0.0</br>_original_yhat_: 0.9742528447623608</br>"
          ],
          [
           "</br>id: 158</br>prediction: 0.949</br>oldpeak: 0.62</br></br>age: 70.0</br>sex: 1.0</br>cp: 3.0</br>trestbps: 130.0</br>chol: 322.0</br>fbs: 0.0</br>restecg: 2.0</br>thalach: 109.0</br>exang: 0.0</br>slope: 1.0</br>ca: 3.0</br>thal: 0.0</br>_original_yhat_: 0.9742528447623608</br>"
          ],
          [
           "</br>id: 158</br>prediction: 0.95</br>oldpeak: 0.6819999999999999</br></br>age: 70.0</br>sex: 1.0</br>cp: 3.0</br>trestbps: 130.0</br>chol: 322.0</br>fbs: 0.0</br>restecg: 2.0</br>thalach: 109.0</br>exang: 0.0</br>slope: 1.0</br>ca: 3.0</br>thal: 0.0</br>_original_yhat_: 0.9742528447623608</br>"
          ],
          [
           "</br>id: 158</br>prediction: 0.951</br>oldpeak: 0.744</br></br>age: 70.0</br>sex: 1.0</br>cp: 3.0</br>trestbps: 130.0</br>chol: 322.0</br>fbs: 0.0</br>restecg: 2.0</br>thalach: 109.0</br>exang: 0.0</br>slope: 1.0</br>ca: 3.0</br>thal: 0.0</br>_original_yhat_: 0.9742528447623608</br>"
          ],
          [
           "</br>id: 158</br>prediction: 0.952</br>oldpeak: 0.806</br></br>age: 70.0</br>sex: 1.0</br>cp: 3.0</br>trestbps: 130.0</br>chol: 322.0</br>fbs: 0.0</br>restecg: 2.0</br>thalach: 109.0</br>exang: 0.0</br>slope: 1.0</br>ca: 3.0</br>thal: 0.0</br>_original_yhat_: 0.9742528447623608</br>"
          ],
          [
           "</br>id: 158</br>prediction: 0.954</br>oldpeak: 0.868</br></br>age: 70.0</br>sex: 1.0</br>cp: 3.0</br>trestbps: 130.0</br>chol: 322.0</br>fbs: 0.0</br>restecg: 2.0</br>thalach: 109.0</br>exang: 0.0</br>slope: 1.0</br>ca: 3.0</br>thal: 0.0</br>_original_yhat_: 0.9742528447623608</br>"
          ],
          [
           "</br>id: 158</br>prediction: 0.955</br>oldpeak: 0.9299999999999999</br></br>age: 70.0</br>sex: 1.0</br>cp: 3.0</br>trestbps: 130.0</br>chol: 322.0</br>fbs: 0.0</br>restecg: 2.0</br>thalach: 109.0</br>exang: 0.0</br>slope: 1.0</br>ca: 3.0</br>thal: 0.0</br>_original_yhat_: 0.9742528447623608</br>"
          ],
          [
           "</br>id: 158</br>prediction: 0.956</br>oldpeak: 0.992</br></br>age: 70.0</br>sex: 1.0</br>cp: 3.0</br>trestbps: 130.0</br>chol: 322.0</br>fbs: 0.0</br>restecg: 2.0</br>thalach: 109.0</br>exang: 0.0</br>slope: 1.0</br>ca: 3.0</br>thal: 0.0</br>_original_yhat_: 0.9742528447623608</br>"
          ],
          [
           "</br>id: 158</br>prediction: 0.957</br>oldpeak: 1.054</br></br>age: 70.0</br>sex: 1.0</br>cp: 3.0</br>trestbps: 130.0</br>chol: 322.0</br>fbs: 0.0</br>restecg: 2.0</br>thalach: 109.0</br>exang: 0.0</br>slope: 1.0</br>ca: 3.0</br>thal: 0.0</br>_original_yhat_: 0.9742528447623608</br>"
          ],
          [
           "</br>id: 158</br>prediction: 0.958</br>oldpeak: 1.116</br></br>age: 70.0</br>sex: 1.0</br>cp: 3.0</br>trestbps: 130.0</br>chol: 322.0</br>fbs: 0.0</br>restecg: 2.0</br>thalach: 109.0</br>exang: 0.0</br>slope: 1.0</br>ca: 3.0</br>thal: 0.0</br>_original_yhat_: 0.9742528447623608</br>"
          ],
          [
           "</br>id: 158</br>prediction: 0.959</br>oldpeak: 1.178</br></br>age: 70.0</br>sex: 1.0</br>cp: 3.0</br>trestbps: 130.0</br>chol: 322.0</br>fbs: 0.0</br>restecg: 2.0</br>thalach: 109.0</br>exang: 0.0</br>slope: 1.0</br>ca: 3.0</br>thal: 0.0</br>_original_yhat_: 0.9742528447623608</br>"
          ],
          [
           "</br>id: 158</br>prediction: 0.96</br>oldpeak: 1.24</br></br>age: 70.0</br>sex: 1.0</br>cp: 3.0</br>trestbps: 130.0</br>chol: 322.0</br>fbs: 0.0</br>restecg: 2.0</br>thalach: 109.0</br>exang: 0.0</br>slope: 1.0</br>ca: 3.0</br>thal: 0.0</br>_original_yhat_: 0.9742528447623608</br>"
          ],
          [
           "</br>id: 158</br>prediction: 0.961</br>oldpeak: 1.302</br></br>age: 70.0</br>sex: 1.0</br>cp: 3.0</br>trestbps: 130.0</br>chol: 322.0</br>fbs: 0.0</br>restecg: 2.0</br>thalach: 109.0</br>exang: 0.0</br>slope: 1.0</br>ca: 3.0</br>thal: 0.0</br>_original_yhat_: 0.9742528447623608</br>"
          ],
          [
           "</br>id: 158</br>prediction: 0.962</br>oldpeak: 1.3639999999999999</br></br>age: 70.0</br>sex: 1.0</br>cp: 3.0</br>trestbps: 130.0</br>chol: 322.0</br>fbs: 0.0</br>restecg: 2.0</br>thalach: 109.0</br>exang: 0.0</br>slope: 1.0</br>ca: 3.0</br>thal: 0.0</br>_original_yhat_: 0.9742528447623608</br>"
          ],
          [
           "</br>id: 158</br>prediction: 0.962</br>oldpeak: 1.426</br></br>age: 70.0</br>sex: 1.0</br>cp: 3.0</br>trestbps: 130.0</br>chol: 322.0</br>fbs: 0.0</br>restecg: 2.0</br>thalach: 109.0</br>exang: 0.0</br>slope: 1.0</br>ca: 3.0</br>thal: 0.0</br>_original_yhat_: 0.9742528447623608</br>"
          ],
          [
           "</br>id: 158</br>prediction: 0.963</br>oldpeak: 1.488</br></br>age: 70.0</br>sex: 1.0</br>cp: 3.0</br>trestbps: 130.0</br>chol: 322.0</br>fbs: 0.0</br>restecg: 2.0</br>thalach: 109.0</br>exang: 0.0</br>slope: 1.0</br>ca: 3.0</br>thal: 0.0</br>_original_yhat_: 0.9742528447623608</br>"
          ],
          [
           "</br>id: 158</br>prediction: 0.964</br>oldpeak: 1.55</br></br>age: 70.0</br>sex: 1.0</br>cp: 3.0</br>trestbps: 130.0</br>chol: 322.0</br>fbs: 0.0</br>restecg: 2.0</br>thalach: 109.0</br>exang: 0.0</br>slope: 1.0</br>ca: 3.0</br>thal: 0.0</br>_original_yhat_: 0.9742528447623608</br>"
          ],
          [
           "</br>id: 158</br>prediction: 0.965</br>oldpeak: 1.612</br></br>age: 70.0</br>sex: 1.0</br>cp: 3.0</br>trestbps: 130.0</br>chol: 322.0</br>fbs: 0.0</br>restecg: 2.0</br>thalach: 109.0</br>exang: 0.0</br>slope: 1.0</br>ca: 3.0</br>thal: 0.0</br>_original_yhat_: 0.9742528447623608</br>"
          ],
          [
           "</br>id: 158</br>prediction: 0.966</br>oldpeak: 1.674</br></br>age: 70.0</br>sex: 1.0</br>cp: 3.0</br>trestbps: 130.0</br>chol: 322.0</br>fbs: 0.0</br>restecg: 2.0</br>thalach: 109.0</br>exang: 0.0</br>slope: 1.0</br>ca: 3.0</br>thal: 0.0</br>_original_yhat_: 0.9742528447623608</br>"
          ],
          [
           "</br>id: 158</br>prediction: 0.967</br>oldpeak: 1.736</br></br>age: 70.0</br>sex: 1.0</br>cp: 3.0</br>trestbps: 130.0</br>chol: 322.0</br>fbs: 0.0</br>restecg: 2.0</br>thalach: 109.0</br>exang: 0.0</br>slope: 1.0</br>ca: 3.0</br>thal: 0.0</br>_original_yhat_: 0.9742528447623608</br>"
          ],
          [
           "</br>id: 158</br>prediction: 0.967</br>oldpeak: 1.798</br></br>age: 70.0</br>sex: 1.0</br>cp: 3.0</br>trestbps: 130.0</br>chol: 322.0</br>fbs: 0.0</br>restecg: 2.0</br>thalach: 109.0</br>exang: 0.0</br>slope: 1.0</br>ca: 3.0</br>thal: 0.0</br>_original_yhat_: 0.9742528447623608</br>"
          ],
          [
           "</br>id: 158</br>prediction: 0.968</br>oldpeak: 1.8599999999999999</br></br>age: 70.0</br>sex: 1.0</br>cp: 3.0</br>trestbps: 130.0</br>chol: 322.0</br>fbs: 0.0</br>restecg: 2.0</br>thalach: 109.0</br>exang: 0.0</br>slope: 1.0</br>ca: 3.0</br>thal: 0.0</br>_original_yhat_: 0.9742528447623608</br>"
          ],
          [
           "</br>id: 158</br>prediction: 0.969</br>oldpeak: 1.922</br></br>age: 70.0</br>sex: 1.0</br>cp: 3.0</br>trestbps: 130.0</br>chol: 322.0</br>fbs: 0.0</br>restecg: 2.0</br>thalach: 109.0</br>exang: 0.0</br>slope: 1.0</br>ca: 3.0</br>thal: 0.0</br>_original_yhat_: 0.9742528447623608</br>"
          ],
          [
           "</br>id: 158</br>prediction: 0.97</br>oldpeak: 1.984</br></br>age: 70.0</br>sex: 1.0</br>cp: 3.0</br>trestbps: 130.0</br>chol: 322.0</br>fbs: 0.0</br>restecg: 2.0</br>thalach: 109.0</br>exang: 0.0</br>slope: 1.0</br>ca: 3.0</br>thal: 0.0</br>_original_yhat_: 0.9742528447623608</br>"
          ],
          [
           "</br>id: 158</br>prediction: 0.97</br>oldpeak: 2.046</br></br>age: 70.0</br>sex: 1.0</br>cp: 3.0</br>trestbps: 130.0</br>chol: 322.0</br>fbs: 0.0</br>restecg: 2.0</br>thalach: 109.0</br>exang: 0.0</br>slope: 1.0</br>ca: 3.0</br>thal: 0.0</br>_original_yhat_: 0.9742528447623608</br>"
          ],
          [
           "</br>id: 158</br>prediction: 0.971</br>oldpeak: 2.108</br></br>age: 70.0</br>sex: 1.0</br>cp: 3.0</br>trestbps: 130.0</br>chol: 322.0</br>fbs: 0.0</br>restecg: 2.0</br>thalach: 109.0</br>exang: 0.0</br>slope: 1.0</br>ca: 3.0</br>thal: 0.0</br>_original_yhat_: 0.9742528447623608</br>"
          ],
          [
           "</br>id: 158</br>prediction: 0.972</br>oldpeak: 2.17</br></br>age: 70.0</br>sex: 1.0</br>cp: 3.0</br>trestbps: 130.0</br>chol: 322.0</br>fbs: 0.0</br>restecg: 2.0</br>thalach: 109.0</br>exang: 0.0</br>slope: 1.0</br>ca: 3.0</br>thal: 0.0</br>_original_yhat_: 0.9742528447623608</br>"
          ],
          [
           "</br>id: 158</br>prediction: 0.973</br>oldpeak: 2.232</br></br>age: 70.0</br>sex: 1.0</br>cp: 3.0</br>trestbps: 130.0</br>chol: 322.0</br>fbs: 0.0</br>restecg: 2.0</br>thalach: 109.0</br>exang: 0.0</br>slope: 1.0</br>ca: 3.0</br>thal: 0.0</br>_original_yhat_: 0.9742528447623608</br>"
          ],
          [
           "</br>id: 158</br>prediction: 0.973</br>oldpeak: 2.294</br></br>age: 70.0</br>sex: 1.0</br>cp: 3.0</br>trestbps: 130.0</br>chol: 322.0</br>fbs: 0.0</br>restecg: 2.0</br>thalach: 109.0</br>exang: 0.0</br>slope: 1.0</br>ca: 3.0</br>thal: 0.0</br>_original_yhat_: 0.9742528447623608</br>"
          ],
          [
           "</br>id: 158</br>prediction: 0.974</br>oldpeak: 2.356</br></br>age: 70.0</br>sex: 1.0</br>cp: 3.0</br>trestbps: 130.0</br>chol: 322.0</br>fbs: 0.0</br>restecg: 2.0</br>thalach: 109.0</br>exang: 0.0</br>slope: 1.0</br>ca: 3.0</br>thal: 0.0</br>_original_yhat_: 0.9742528447623608</br>"
          ],
          [
           "</br>id: 158</br>prediction: 0.974</br>oldpeak: 2.4</br></br>age: 70.0</br>sex: 1.0</br>cp: 3.0</br>trestbps: 130.0</br>chol: 322.0</br>fbs: 0.0</br>restecg: 2.0</br>thalach: 109.0</br>exang: 0.0</br>slope: 1.0</br>ca: 3.0</br>thal: 0.0</br>_original_yhat_: 0.9742528447623608</br>"
          ],
          [
           "</br>id: 158</br>prediction: 0.974</br>oldpeak: 2.418</br></br>age: 70.0</br>sex: 1.0</br>cp: 3.0</br>trestbps: 130.0</br>chol: 322.0</br>fbs: 0.0</br>restecg: 2.0</br>thalach: 109.0</br>exang: 0.0</br>slope: 1.0</br>ca: 3.0</br>thal: 0.0</br>_original_yhat_: 0.9742528447623608</br>"
          ],
          [
           "</br>id: 158</br>prediction: 0.975</br>oldpeak: 2.48</br></br>age: 70.0</br>sex: 1.0</br>cp: 3.0</br>trestbps: 130.0</br>chol: 322.0</br>fbs: 0.0</br>restecg: 2.0</br>thalach: 109.0</br>exang: 0.0</br>slope: 1.0</br>ca: 3.0</br>thal: 0.0</br>_original_yhat_: 0.9742528447623608</br>"
          ],
          [
           "</br>id: 158</br>prediction: 0.976</br>oldpeak: 2.542</br></br>age: 70.0</br>sex: 1.0</br>cp: 3.0</br>trestbps: 130.0</br>chol: 322.0</br>fbs: 0.0</br>restecg: 2.0</br>thalach: 109.0</br>exang: 0.0</br>slope: 1.0</br>ca: 3.0</br>thal: 0.0</br>_original_yhat_: 0.9742528447623608</br>"
          ],
          [
           "</br>id: 158</br>prediction: 0.976</br>oldpeak: 2.604</br></br>age: 70.0</br>sex: 1.0</br>cp: 3.0</br>trestbps: 130.0</br>chol: 322.0</br>fbs: 0.0</br>restecg: 2.0</br>thalach: 109.0</br>exang: 0.0</br>slope: 1.0</br>ca: 3.0</br>thal: 0.0</br>_original_yhat_: 0.9742528447623608</br>"
          ],
          [
           "</br>id: 158</br>prediction: 0.977</br>oldpeak: 2.666</br></br>age: 70.0</br>sex: 1.0</br>cp: 3.0</br>trestbps: 130.0</br>chol: 322.0</br>fbs: 0.0</br>restecg: 2.0</br>thalach: 109.0</br>exang: 0.0</br>slope: 1.0</br>ca: 3.0</br>thal: 0.0</br>_original_yhat_: 0.9742528447623608</br>"
          ],
          [
           "</br>id: 158</br>prediction: 0.977</br>oldpeak: 2.7279999999999998</br></br>age: 70.0</br>sex: 1.0</br>cp: 3.0</br>trestbps: 130.0</br>chol: 322.0</br>fbs: 0.0</br>restecg: 2.0</br>thalach: 109.0</br>exang: 0.0</br>slope: 1.0</br>ca: 3.0</br>thal: 0.0</br>_original_yhat_: 0.9742528447623608</br>"
          ],
          [
           "</br>id: 158</br>prediction: 0.978</br>oldpeak: 2.79</br></br>age: 70.0</br>sex: 1.0</br>cp: 3.0</br>trestbps: 130.0</br>chol: 322.0</br>fbs: 0.0</br>restecg: 2.0</br>thalach: 109.0</br>exang: 0.0</br>slope: 1.0</br>ca: 3.0</br>thal: 0.0</br>_original_yhat_: 0.9742528447623608</br>"
          ],
          [
           "</br>id: 158</br>prediction: 0.978</br>oldpeak: 2.852</br></br>age: 70.0</br>sex: 1.0</br>cp: 3.0</br>trestbps: 130.0</br>chol: 322.0</br>fbs: 0.0</br>restecg: 2.0</br>thalach: 109.0</br>exang: 0.0</br>slope: 1.0</br>ca: 3.0</br>thal: 0.0</br>_original_yhat_: 0.9742528447623608</br>"
          ],
          [
           "</br>id: 158</br>prediction: 0.979</br>oldpeak: 2.914</br></br>age: 70.0</br>sex: 1.0</br>cp: 3.0</br>trestbps: 130.0</br>chol: 322.0</br>fbs: 0.0</br>restecg: 2.0</br>thalach: 109.0</br>exang: 0.0</br>slope: 1.0</br>ca: 3.0</br>thal: 0.0</br>_original_yhat_: 0.9742528447623608</br>"
          ],
          [
           "</br>id: 158</br>prediction: 0.979</br>oldpeak: 2.976</br></br>age: 70.0</br>sex: 1.0</br>cp: 3.0</br>trestbps: 130.0</br>chol: 322.0</br>fbs: 0.0</br>restecg: 2.0</br>thalach: 109.0</br>exang: 0.0</br>slope: 1.0</br>ca: 3.0</br>thal: 0.0</br>_original_yhat_: 0.9742528447623608</br>"
          ],
          [
           "</br>id: 158</br>prediction: 0.98</br>oldpeak: 3.038</br></br>age: 70.0</br>sex: 1.0</br>cp: 3.0</br>trestbps: 130.0</br>chol: 322.0</br>fbs: 0.0</br>restecg: 2.0</br>thalach: 109.0</br>exang: 0.0</br>slope: 1.0</br>ca: 3.0</br>thal: 0.0</br>_original_yhat_: 0.9742528447623608</br>"
          ],
          [
           "</br>id: 158</br>prediction: 0.98</br>oldpeak: 3.1</br></br>age: 70.0</br>sex: 1.0</br>cp: 3.0</br>trestbps: 130.0</br>chol: 322.0</br>fbs: 0.0</br>restecg: 2.0</br>thalach: 109.0</br>exang: 0.0</br>slope: 1.0</br>ca: 3.0</br>thal: 0.0</br>_original_yhat_: 0.9742528447623608</br>"
          ],
          [
           "</br>id: 158</br>prediction: 0.981</br>oldpeak: 3.162</br></br>age: 70.0</br>sex: 1.0</br>cp: 3.0</br>trestbps: 130.0</br>chol: 322.0</br>fbs: 0.0</br>restecg: 2.0</br>thalach: 109.0</br>exang: 0.0</br>slope: 1.0</br>ca: 3.0</br>thal: 0.0</br>_original_yhat_: 0.9742528447623608</br>"
          ],
          [
           "</br>id: 158</br>prediction: 0.981</br>oldpeak: 3.224</br></br>age: 70.0</br>sex: 1.0</br>cp: 3.0</br>trestbps: 130.0</br>chol: 322.0</br>fbs: 0.0</br>restecg: 2.0</br>thalach: 109.0</br>exang: 0.0</br>slope: 1.0</br>ca: 3.0</br>thal: 0.0</br>_original_yhat_: 0.9742528447623608</br>"
          ],
          [
           "</br>id: 158</br>prediction: 0.982</br>oldpeak: 3.286</br></br>age: 70.0</br>sex: 1.0</br>cp: 3.0</br>trestbps: 130.0</br>chol: 322.0</br>fbs: 0.0</br>restecg: 2.0</br>thalach: 109.0</br>exang: 0.0</br>slope: 1.0</br>ca: 3.0</br>thal: 0.0</br>_original_yhat_: 0.9742528447623608</br>"
          ],
          [
           "</br>id: 158</br>prediction: 0.982</br>oldpeak: 3.348</br></br>age: 70.0</br>sex: 1.0</br>cp: 3.0</br>trestbps: 130.0</br>chol: 322.0</br>fbs: 0.0</br>restecg: 2.0</br>thalach: 109.0</br>exang: 0.0</br>slope: 1.0</br>ca: 3.0</br>thal: 0.0</br>_original_yhat_: 0.9742528447623608</br>"
          ],
          [
           "</br>id: 158</br>prediction: 0.983</br>oldpeak: 3.41</br></br>age: 70.0</br>sex: 1.0</br>cp: 3.0</br>trestbps: 130.0</br>chol: 322.0</br>fbs: 0.0</br>restecg: 2.0</br>thalach: 109.0</br>exang: 0.0</br>slope: 1.0</br>ca: 3.0</br>thal: 0.0</br>_original_yhat_: 0.9742528447623608</br>"
          ],
          [
           "</br>id: 158</br>prediction: 0.983</br>oldpeak: 3.472</br></br>age: 70.0</br>sex: 1.0</br>cp: 3.0</br>trestbps: 130.0</br>chol: 322.0</br>fbs: 0.0</br>restecg: 2.0</br>thalach: 109.0</br>exang: 0.0</br>slope: 1.0</br>ca: 3.0</br>thal: 0.0</br>_original_yhat_: 0.9742528447623608</br>"
          ],
          [
           "</br>id: 158</br>prediction: 0.983</br>oldpeak: 3.534</br></br>age: 70.0</br>sex: 1.0</br>cp: 3.0</br>trestbps: 130.0</br>chol: 322.0</br>fbs: 0.0</br>restecg: 2.0</br>thalach: 109.0</br>exang: 0.0</br>slope: 1.0</br>ca: 3.0</br>thal: 0.0</br>_original_yhat_: 0.9742528447623608</br>"
          ],
          [
           "</br>id: 158</br>prediction: 0.984</br>oldpeak: 3.596</br></br>age: 70.0</br>sex: 1.0</br>cp: 3.0</br>trestbps: 130.0</br>chol: 322.0</br>fbs: 0.0</br>restecg: 2.0</br>thalach: 109.0</br>exang: 0.0</br>slope: 1.0</br>ca: 3.0</br>thal: 0.0</br>_original_yhat_: 0.9742528447623608</br>"
          ],
          [
           "</br>id: 158</br>prediction: 0.984</br>oldpeak: 3.658</br></br>age: 70.0</br>sex: 1.0</br>cp: 3.0</br>trestbps: 130.0</br>chol: 322.0</br>fbs: 0.0</br>restecg: 2.0</br>thalach: 109.0</br>exang: 0.0</br>slope: 1.0</br>ca: 3.0</br>thal: 0.0</br>_original_yhat_: 0.9742528447623608</br>"
          ],
          [
           "</br>id: 158</br>prediction: 0.985</br>oldpeak: 3.7199999999999998</br></br>age: 70.0</br>sex: 1.0</br>cp: 3.0</br>trestbps: 130.0</br>chol: 322.0</br>fbs: 0.0</br>restecg: 2.0</br>thalach: 109.0</br>exang: 0.0</br>slope: 1.0</br>ca: 3.0</br>thal: 0.0</br>_original_yhat_: 0.9742528447623608</br>"
          ],
          [
           "</br>id: 158</br>prediction: 0.985</br>oldpeak: 3.782</br></br>age: 70.0</br>sex: 1.0</br>cp: 3.0</br>trestbps: 130.0</br>chol: 322.0</br>fbs: 0.0</br>restecg: 2.0</br>thalach: 109.0</br>exang: 0.0</br>slope: 1.0</br>ca: 3.0</br>thal: 0.0</br>_original_yhat_: 0.9742528447623608</br>"
          ],
          [
           "</br>id: 158</br>prediction: 0.985</br>oldpeak: 3.844</br></br>age: 70.0</br>sex: 1.0</br>cp: 3.0</br>trestbps: 130.0</br>chol: 322.0</br>fbs: 0.0</br>restecg: 2.0</br>thalach: 109.0</br>exang: 0.0</br>slope: 1.0</br>ca: 3.0</br>thal: 0.0</br>_original_yhat_: 0.9742528447623608</br>"
          ],
          [
           "</br>id: 158</br>prediction: 0.986</br>oldpeak: 3.906</br></br>age: 70.0</br>sex: 1.0</br>cp: 3.0</br>trestbps: 130.0</br>chol: 322.0</br>fbs: 0.0</br>restecg: 2.0</br>thalach: 109.0</br>exang: 0.0</br>slope: 1.0</br>ca: 3.0</br>thal: 0.0</br>_original_yhat_: 0.9742528447623608</br>"
          ],
          [
           "</br>id: 158</br>prediction: 0.986</br>oldpeak: 3.968</br></br>age: 70.0</br>sex: 1.0</br>cp: 3.0</br>trestbps: 130.0</br>chol: 322.0</br>fbs: 0.0</br>restecg: 2.0</br>thalach: 109.0</br>exang: 0.0</br>slope: 1.0</br>ca: 3.0</br>thal: 0.0</br>_original_yhat_: 0.9742528447623608</br>"
          ],
          [
           "</br>id: 158</br>prediction: 0.986</br>oldpeak: 4.03</br></br>age: 70.0</br>sex: 1.0</br>cp: 3.0</br>trestbps: 130.0</br>chol: 322.0</br>fbs: 0.0</br>restecg: 2.0</br>thalach: 109.0</br>exang: 0.0</br>slope: 1.0</br>ca: 3.0</br>thal: 0.0</br>_original_yhat_: 0.9742528447623608</br>"
          ],
          [
           "</br>id: 158</br>prediction: 0.987</br>oldpeak: 4.092</br></br>age: 70.0</br>sex: 1.0</br>cp: 3.0</br>trestbps: 130.0</br>chol: 322.0</br>fbs: 0.0</br>restecg: 2.0</br>thalach: 109.0</br>exang: 0.0</br>slope: 1.0</br>ca: 3.0</br>thal: 0.0</br>_original_yhat_: 0.9742528447623608</br>"
          ],
          [
           "</br>id: 158</br>prediction: 0.987</br>oldpeak: 4.154</br></br>age: 70.0</br>sex: 1.0</br>cp: 3.0</br>trestbps: 130.0</br>chol: 322.0</br>fbs: 0.0</br>restecg: 2.0</br>thalach: 109.0</br>exang: 0.0</br>slope: 1.0</br>ca: 3.0</br>thal: 0.0</br>_original_yhat_: 0.9742528447623608</br>"
          ],
          [
           "</br>id: 158</br>prediction: 0.987</br>oldpeak: 4.216</br></br>age: 70.0</br>sex: 1.0</br>cp: 3.0</br>trestbps: 130.0</br>chol: 322.0</br>fbs: 0.0</br>restecg: 2.0</br>thalach: 109.0</br>exang: 0.0</br>slope: 1.0</br>ca: 3.0</br>thal: 0.0</br>_original_yhat_: 0.9742528447623608</br>"
          ],
          [
           "</br>id: 158</br>prediction: 0.988</br>oldpeak: 4.278</br></br>age: 70.0</br>sex: 1.0</br>cp: 3.0</br>trestbps: 130.0</br>chol: 322.0</br>fbs: 0.0</br>restecg: 2.0</br>thalach: 109.0</br>exang: 0.0</br>slope: 1.0</br>ca: 3.0</br>thal: 0.0</br>_original_yhat_: 0.9742528447623608</br>"
          ],
          [
           "</br>id: 158</br>prediction: 0.988</br>oldpeak: 4.34</br></br>age: 70.0</br>sex: 1.0</br>cp: 3.0</br>trestbps: 130.0</br>chol: 322.0</br>fbs: 0.0</br>restecg: 2.0</br>thalach: 109.0</br>exang: 0.0</br>slope: 1.0</br>ca: 3.0</br>thal: 0.0</br>_original_yhat_: 0.9742528447623608</br>"
          ],
          [
           "</br>id: 158</br>prediction: 0.988</br>oldpeak: 4.402</br></br>age: 70.0</br>sex: 1.0</br>cp: 3.0</br>trestbps: 130.0</br>chol: 322.0</br>fbs: 0.0</br>restecg: 2.0</br>thalach: 109.0</br>exang: 0.0</br>slope: 1.0</br>ca: 3.0</br>thal: 0.0</br>_original_yhat_: 0.9742528447623608</br>"
          ],
          [
           "</br>id: 158</br>prediction: 0.989</br>oldpeak: 4.464</br></br>age: 70.0</br>sex: 1.0</br>cp: 3.0</br>trestbps: 130.0</br>chol: 322.0</br>fbs: 0.0</br>restecg: 2.0</br>thalach: 109.0</br>exang: 0.0</br>slope: 1.0</br>ca: 3.0</br>thal: 0.0</br>_original_yhat_: 0.9742528447623608</br>"
          ],
          [
           "</br>id: 158</br>prediction: 0.989</br>oldpeak: 4.526</br></br>age: 70.0</br>sex: 1.0</br>cp: 3.0</br>trestbps: 130.0</br>chol: 322.0</br>fbs: 0.0</br>restecg: 2.0</br>thalach: 109.0</br>exang: 0.0</br>slope: 1.0</br>ca: 3.0</br>thal: 0.0</br>_original_yhat_: 0.9742528447623608</br>"
          ],
          [
           "</br>id: 158</br>prediction: 0.989</br>oldpeak: 4.588</br></br>age: 70.0</br>sex: 1.0</br>cp: 3.0</br>trestbps: 130.0</br>chol: 322.0</br>fbs: 0.0</br>restecg: 2.0</br>thalach: 109.0</br>exang: 0.0</br>slope: 1.0</br>ca: 3.0</br>thal: 0.0</br>_original_yhat_: 0.9742528447623608</br>"
          ],
          [
           "</br>id: 158</br>prediction: 0.989</br>oldpeak: 4.65</br></br>age: 70.0</br>sex: 1.0</br>cp: 3.0</br>trestbps: 130.0</br>chol: 322.0</br>fbs: 0.0</br>restecg: 2.0</br>thalach: 109.0</br>exang: 0.0</br>slope: 1.0</br>ca: 3.0</br>thal: 0.0</br>_original_yhat_: 0.9742528447623608</br>"
          ],
          [
           "</br>id: 158</br>prediction: 0.99</br>oldpeak: 4.712</br></br>age: 70.0</br>sex: 1.0</br>cp: 3.0</br>trestbps: 130.0</br>chol: 322.0</br>fbs: 0.0</br>restecg: 2.0</br>thalach: 109.0</br>exang: 0.0</br>slope: 1.0</br>ca: 3.0</br>thal: 0.0</br>_original_yhat_: 0.9742528447623608</br>"
          ],
          [
           "</br>id: 158</br>prediction: 0.99</br>oldpeak: 4.774</br></br>age: 70.0</br>sex: 1.0</br>cp: 3.0</br>trestbps: 130.0</br>chol: 322.0</br>fbs: 0.0</br>restecg: 2.0</br>thalach: 109.0</br>exang: 0.0</br>slope: 1.0</br>ca: 3.0</br>thal: 0.0</br>_original_yhat_: 0.9742528447623608</br>"
          ],
          [
           "</br>id: 158</br>prediction: 0.99</br>oldpeak: 4.836</br></br>age: 70.0</br>sex: 1.0</br>cp: 3.0</br>trestbps: 130.0</br>chol: 322.0</br>fbs: 0.0</br>restecg: 2.0</br>thalach: 109.0</br>exang: 0.0</br>slope: 1.0</br>ca: 3.0</br>thal: 0.0</br>_original_yhat_: 0.9742528447623608</br>"
          ],
          [
           "</br>id: 158</br>prediction: 0.99</br>oldpeak: 4.898</br></br>age: 70.0</br>sex: 1.0</br>cp: 3.0</br>trestbps: 130.0</br>chol: 322.0</br>fbs: 0.0</br>restecg: 2.0</br>thalach: 109.0</br>exang: 0.0</br>slope: 1.0</br>ca: 3.0</br>thal: 0.0</br>_original_yhat_: 0.9742528447623608</br>"
          ],
          [
           "</br>id: 158</br>prediction: 0.991</br>oldpeak: 4.96</br></br>age: 70.0</br>sex: 1.0</br>cp: 3.0</br>trestbps: 130.0</br>chol: 322.0</br>fbs: 0.0</br>restecg: 2.0</br>thalach: 109.0</br>exang: 0.0</br>slope: 1.0</br>ca: 3.0</br>thal: 0.0</br>_original_yhat_: 0.9742528447623608</br>"
          ],
          [
           "</br>id: 158</br>prediction: 0.991</br>oldpeak: 5.022</br></br>age: 70.0</br>sex: 1.0</br>cp: 3.0</br>trestbps: 130.0</br>chol: 322.0</br>fbs: 0.0</br>restecg: 2.0</br>thalach: 109.0</br>exang: 0.0</br>slope: 1.0</br>ca: 3.0</br>thal: 0.0</br>_original_yhat_: 0.9742528447623608</br>"
          ],
          [
           "</br>id: 158</br>prediction: 0.991</br>oldpeak: 5.084</br></br>age: 70.0</br>sex: 1.0</br>cp: 3.0</br>trestbps: 130.0</br>chol: 322.0</br>fbs: 0.0</br>restecg: 2.0</br>thalach: 109.0</br>exang: 0.0</br>slope: 1.0</br>ca: 3.0</br>thal: 0.0</br>_original_yhat_: 0.9742528447623608</br>"
          ],
          [
           "</br>id: 158</br>prediction: 0.991</br>oldpeak: 5.146</br></br>age: 70.0</br>sex: 1.0</br>cp: 3.0</br>trestbps: 130.0</br>chol: 322.0</br>fbs: 0.0</br>restecg: 2.0</br>thalach: 109.0</br>exang: 0.0</br>slope: 1.0</br>ca: 3.0</br>thal: 0.0</br>_original_yhat_: 0.9742528447623608</br>"
          ],
          [
           "</br>id: 158</br>prediction: 0.991</br>oldpeak: 5.208</br></br>age: 70.0</br>sex: 1.0</br>cp: 3.0</br>trestbps: 130.0</br>chol: 322.0</br>fbs: 0.0</br>restecg: 2.0</br>thalach: 109.0</br>exang: 0.0</br>slope: 1.0</br>ca: 3.0</br>thal: 0.0</br>_original_yhat_: 0.9742528447623608</br>"
          ],
          [
           "</br>id: 158</br>prediction: 0.992</br>oldpeak: 5.27</br></br>age: 70.0</br>sex: 1.0</br>cp: 3.0</br>trestbps: 130.0</br>chol: 322.0</br>fbs: 0.0</br>restecg: 2.0</br>thalach: 109.0</br>exang: 0.0</br>slope: 1.0</br>ca: 3.0</br>thal: 0.0</br>_original_yhat_: 0.9742528447623608</br>"
          ],
          [
           "</br>id: 158</br>prediction: 0.992</br>oldpeak: 5.332</br></br>age: 70.0</br>sex: 1.0</br>cp: 3.0</br>trestbps: 130.0</br>chol: 322.0</br>fbs: 0.0</br>restecg: 2.0</br>thalach: 109.0</br>exang: 0.0</br>slope: 1.0</br>ca: 3.0</br>thal: 0.0</br>_original_yhat_: 0.9742528447623608</br>"
          ],
          [
           "</br>id: 158</br>prediction: 0.992</br>oldpeak: 5.394</br></br>age: 70.0</br>sex: 1.0</br>cp: 3.0</br>trestbps: 130.0</br>chol: 322.0</br>fbs: 0.0</br>restecg: 2.0</br>thalach: 109.0</br>exang: 0.0</br>slope: 1.0</br>ca: 3.0</br>thal: 0.0</br>_original_yhat_: 0.9742528447623608</br>"
          ],
          [
           "</br>id: 158</br>prediction: 0.992</br>oldpeak: 5.4559999999999995</br></br>age: 70.0</br>sex: 1.0</br>cp: 3.0</br>trestbps: 130.0</br>chol: 322.0</br>fbs: 0.0</br>restecg: 2.0</br>thalach: 109.0</br>exang: 0.0</br>slope: 1.0</br>ca: 3.0</br>thal: 0.0</br>_original_yhat_: 0.9742528447623608</br>"
          ],
          [
           "</br>id: 158</br>prediction: 0.992</br>oldpeak: 5.518</br></br>age: 70.0</br>sex: 1.0</br>cp: 3.0</br>trestbps: 130.0</br>chol: 322.0</br>fbs: 0.0</br>restecg: 2.0</br>thalach: 109.0</br>exang: 0.0</br>slope: 1.0</br>ca: 3.0</br>thal: 0.0</br>_original_yhat_: 0.9742528447623608</br>"
          ],
          [
           "</br>id: 158</br>prediction: 0.993</br>oldpeak: 5.58</br></br>age: 70.0</br>sex: 1.0</br>cp: 3.0</br>trestbps: 130.0</br>chol: 322.0</br>fbs: 0.0</br>restecg: 2.0</br>thalach: 109.0</br>exang: 0.0</br>slope: 1.0</br>ca: 3.0</br>thal: 0.0</br>_original_yhat_: 0.9742528447623608</br>"
          ],
          [
           "</br>id: 158</br>prediction: 0.993</br>oldpeak: 5.642</br></br>age: 70.0</br>sex: 1.0</br>cp: 3.0</br>trestbps: 130.0</br>chol: 322.0</br>fbs: 0.0</br>restecg: 2.0</br>thalach: 109.0</br>exang: 0.0</br>slope: 1.0</br>ca: 3.0</br>thal: 0.0</br>_original_yhat_: 0.9742528447623608</br>"
          ],
          [
           "</br>id: 158</br>prediction: 0.993</br>oldpeak: 5.704</br></br>age: 70.0</br>sex: 1.0</br>cp: 3.0</br>trestbps: 130.0</br>chol: 322.0</br>fbs: 0.0</br>restecg: 2.0</br>thalach: 109.0</br>exang: 0.0</br>slope: 1.0</br>ca: 3.0</br>thal: 0.0</br>_original_yhat_: 0.9742528447623608</br>"
          ],
          [
           "</br>id: 158</br>prediction: 0.993</br>oldpeak: 5.766</br></br>age: 70.0</br>sex: 1.0</br>cp: 3.0</br>trestbps: 130.0</br>chol: 322.0</br>fbs: 0.0</br>restecg: 2.0</br>thalach: 109.0</br>exang: 0.0</br>slope: 1.0</br>ca: 3.0</br>thal: 0.0</br>_original_yhat_: 0.9742528447623608</br>"
          ],
          [
           "</br>id: 158</br>prediction: 0.993</br>oldpeak: 5.828</br></br>age: 70.0</br>sex: 1.0</br>cp: 3.0</br>trestbps: 130.0</br>chol: 322.0</br>fbs: 0.0</br>restecg: 2.0</br>thalach: 109.0</br>exang: 0.0</br>slope: 1.0</br>ca: 3.0</br>thal: 0.0</br>_original_yhat_: 0.9742528447623608</br>"
          ],
          [
           "</br>id: 158</br>prediction: 0.993</br>oldpeak: 5.89</br></br>age: 70.0</br>sex: 1.0</br>cp: 3.0</br>trestbps: 130.0</br>chol: 322.0</br>fbs: 0.0</br>restecg: 2.0</br>thalach: 109.0</br>exang: 0.0</br>slope: 1.0</br>ca: 3.0</br>thal: 0.0</br>_original_yhat_: 0.9742528447623608</br>"
          ],
          [
           "</br>id: 158</br>prediction: 0.994</br>oldpeak: 5.952</br></br>age: 70.0</br>sex: 1.0</br>cp: 3.0</br>trestbps: 130.0</br>chol: 322.0</br>fbs: 0.0</br>restecg: 2.0</br>thalach: 109.0</br>exang: 0.0</br>slope: 1.0</br>ca: 3.0</br>thal: 0.0</br>_original_yhat_: 0.9742528447623608</br>"
          ],
          [
           "</br>id: 158</br>prediction: 0.994</br>oldpeak: 6.014</br></br>age: 70.0</br>sex: 1.0</br>cp: 3.0</br>trestbps: 130.0</br>chol: 322.0</br>fbs: 0.0</br>restecg: 2.0</br>thalach: 109.0</br>exang: 0.0</br>slope: 1.0</br>ca: 3.0</br>thal: 0.0</br>_original_yhat_: 0.9742528447623608</br>"
          ],
          [
           "</br>id: 158</br>prediction: 0.994</br>oldpeak: 6.076</br></br>age: 70.0</br>sex: 1.0</br>cp: 3.0</br>trestbps: 130.0</br>chol: 322.0</br>fbs: 0.0</br>restecg: 2.0</br>thalach: 109.0</br>exang: 0.0</br>slope: 1.0</br>ca: 3.0</br>thal: 0.0</br>_original_yhat_: 0.9742528447623608</br>"
          ],
          [
           "</br>id: 158</br>prediction: 0.994</br>oldpeak: 6.138</br></br>age: 70.0</br>sex: 1.0</br>cp: 3.0</br>trestbps: 130.0</br>chol: 322.0</br>fbs: 0.0</br>restecg: 2.0</br>thalach: 109.0</br>exang: 0.0</br>slope: 1.0</br>ca: 3.0</br>thal: 0.0</br>_original_yhat_: 0.9742528447623608</br>"
          ],
          [
           "</br>id: 158</br>prediction: 0.994</br>oldpeak: 6.2</br></br>age: 70.0</br>sex: 1.0</br>cp: 3.0</br>trestbps: 130.0</br>chol: 322.0</br>fbs: 0.0</br>restecg: 2.0</br>thalach: 109.0</br>exang: 0.0</br>slope: 1.0</br>ca: 3.0</br>thal: 0.0</br>_original_yhat_: 0.9742528447623608</br>"
          ]
         ],
         "hovertemplate": "%{customdata[0]}<extra></extra>",
         "legendgroup": "RandomizedSearchCV",
         "line": {
          "color": "#46bac2",
          "dash": "solid",
          "width": 2
         },
         "marker": {
          "symbol": "circle"
         },
         "mode": "lines",
         "name": "RandomizedSearchCV",
         "opacity": 1,
         "showlegend": false,
         "type": "scattergl",
         "x": [
          0,
          0.062,
          0.124,
          0.186,
          0.248,
          0.31,
          0.372,
          0.434,
          0.496,
          0.558,
          0.62,
          0.6819999999999999,
          0.744,
          0.806,
          0.868,
          0.9299999999999999,
          0.992,
          1.054,
          1.116,
          1.178,
          1.24,
          1.302,
          1.3639999999999999,
          1.426,
          1.488,
          1.55,
          1.612,
          1.674,
          1.736,
          1.798,
          1.8599999999999999,
          1.922,
          1.984,
          2.046,
          2.108,
          2.17,
          2.232,
          2.294,
          2.356,
          2.4,
          2.418,
          2.48,
          2.542,
          2.604,
          2.666,
          2.7279999999999998,
          2.79,
          2.852,
          2.914,
          2.976,
          3.038,
          3.1,
          3.162,
          3.224,
          3.286,
          3.348,
          3.41,
          3.472,
          3.534,
          3.596,
          3.658,
          3.7199999999999998,
          3.782,
          3.844,
          3.906,
          3.968,
          4.03,
          4.092,
          4.154,
          4.216,
          4.278,
          4.34,
          4.402,
          4.464,
          4.526,
          4.588,
          4.65,
          4.712,
          4.774,
          4.836,
          4.898,
          4.96,
          5.022,
          5.084,
          5.146,
          5.208,
          5.27,
          5.332,
          5.394,
          5.4559999999999995,
          5.518,
          5.58,
          5.642,
          5.704,
          5.766,
          5.828,
          5.89,
          5.952,
          6.014,
          6.076,
          6.138,
          6.2
         ],
         "xaxis": "x6",
         "y": [
          0.9356007679622729,
          0.9370747978826867,
          0.9385173059718122,
          0.9399288656008284,
          0.941310044322383,
          0.9426614037008091,
          0.9439834991564356,
          0.9452768798234565,
          0.9465420884208406,
          0.9477796611357654,
          0.9489901275190675,
          0.9501740103922106,
          0.951331825765284,
          0.9524640827655481,
          0.9535712835760604,
          0.9546539233839225,
          0.9557124903376983,
          0.9567474655135684,
          0.9577593228897938,
          0.9587485293290763,
          0.9597155445684108,
          0.9606608212160419,
          0.9615848047551429,
          0.9624879335538529,
          0.9633706388813148,
          0.9642333449293724,
          0.9650764688395923,
          0.9659004207352938,
          0.9667056037582751,
          0.9674924141099391,
          0.9682612410965341,
          0.96901246717823,
          0.9697464680217708,
          0.970463612556444,
          0.9711642630331268,
          0.9718487750861734,
          0.9725174977979207,
          0.9731707737655982,
          0.9738089391704361,
          0.9742528447623608,
          0.974432323848778,
          0.9750412513650099,
          0.975636039086128,
          0.9762169982577772,
          0.9767844340815944,
          0.9773386457937097,
          0.9778799267442515,
          0.9784085644777255,
          0.978924840814129,
          0.9794290319306788,
          0.9799214084440354,
          0.980402235492912,
          0.9808717728209604,
          0.9813302748598367,
          0.9817779908123537,
          0.9822151647356284,
          0.9826420356241458,
          0.9830588374926575,
          0.9834657994588447,
          0.9838631458256752,
          0.9842510961633917,
          0.9846298653910719,
          0.9849996638577022,
          0.9853606974227175,
          0.9857131675359555,
          0.9860572713169823,
          0.9863932016337487,
          0.9867211471805376,
          0.9870412925551719,
          0.9873538183354438,
          0.9876589011547451,
          0.9879567137768631,
          0.9882474251699279,
          0.9885312005794799,
          0.988808201600645,
          0.9890785862493977,
          0.9893425090328974,
          0.9896001210188845,
          0.9898515699041252,
          0.9900970000818953,
          0.9903365527084955,
          0.99057036576879,
          0.9907985741407653,
          0.9910213096591044,
          0.9912387011777744,
          0.9914508746316257,
          0.9916579530970037,
          0.9918600568513714,
          0.9920573034319493,
          0.9922498076933706,
          0.9924376818643583,
          0.9926210356034282,
          0.9927999760536212,
          0.9929746078962752,
          0.9931450334038362,
          0.9933113524917224,
          0.9934736627692474,
          0.9936320595896051,
          0.9937866360989338,
          0.9939374832844622,
          0.9940846900217486,
          0.9942283431210229
         ],
         "yaxis": "y6"
        },
        {
         "customdata": [
          [
           "</br>id: 158</br>prediction: 0.971</br>slope: 0.0</br></br>age: 70.0</br>sex: 1.0</br>cp: 3.0</br>trestbps: 130.0</br>chol: 322.0</br>fbs: 0.0</br>restecg: 2.0</br>thalach: 109.0</br>exang: 0.0</br>oldpeak: 2.4</br>ca: 3.0</br>thal: 0.0</br>_original_yhat_: 0.9742528447623608</br>"
          ],
          [
           "</br>id: 158</br>prediction: 0.971</br>slope: 0.02</br></br>age: 70.0</br>sex: 1.0</br>cp: 3.0</br>trestbps: 130.0</br>chol: 322.0</br>fbs: 0.0</br>restecg: 2.0</br>thalach: 109.0</br>exang: 0.0</br>oldpeak: 2.4</br>ca: 3.0</br>thal: 0.0</br>_original_yhat_: 0.9742528447623608</br>"
          ],
          [
           "</br>id: 158</br>prediction: 0.971</br>slope: 0.04</br></br>age: 70.0</br>sex: 1.0</br>cp: 3.0</br>trestbps: 130.0</br>chol: 322.0</br>fbs: 0.0</br>restecg: 2.0</br>thalach: 109.0</br>exang: 0.0</br>oldpeak: 2.4</br>ca: 3.0</br>thal: 0.0</br>_original_yhat_: 0.9742528447623608</br>"
          ],
          [
           "</br>id: 158</br>prediction: 0.971</br>slope: 0.06</br></br>age: 70.0</br>sex: 1.0</br>cp: 3.0</br>trestbps: 130.0</br>chol: 322.0</br>fbs: 0.0</br>restecg: 2.0</br>thalach: 109.0</br>exang: 0.0</br>oldpeak: 2.4</br>ca: 3.0</br>thal: 0.0</br>_original_yhat_: 0.9742528447623608</br>"
          ],
          [
           "</br>id: 158</br>prediction: 0.971</br>slope: 0.08</br></br>age: 70.0</br>sex: 1.0</br>cp: 3.0</br>trestbps: 130.0</br>chol: 322.0</br>fbs: 0.0</br>restecg: 2.0</br>thalach: 109.0</br>exang: 0.0</br>oldpeak: 2.4</br>ca: 3.0</br>thal: 0.0</br>_original_yhat_: 0.9742528447623608</br>"
          ],
          [
           "</br>id: 158</br>prediction: 0.971</br>slope: 0.1</br></br>age: 70.0</br>sex: 1.0</br>cp: 3.0</br>trestbps: 130.0</br>chol: 322.0</br>fbs: 0.0</br>restecg: 2.0</br>thalach: 109.0</br>exang: 0.0</br>oldpeak: 2.4</br>ca: 3.0</br>thal: 0.0</br>_original_yhat_: 0.9742528447623608</br>"
          ],
          [
           "</br>id: 158</br>prediction: 0.971</br>slope: 0.12</br></br>age: 70.0</br>sex: 1.0</br>cp: 3.0</br>trestbps: 130.0</br>chol: 322.0</br>fbs: 0.0</br>restecg: 2.0</br>thalach: 109.0</br>exang: 0.0</br>oldpeak: 2.4</br>ca: 3.0</br>thal: 0.0</br>_original_yhat_: 0.9742528447623608</br>"
          ],
          [
           "</br>id: 158</br>prediction: 0.971</br>slope: 0.14</br></br>age: 70.0</br>sex: 1.0</br>cp: 3.0</br>trestbps: 130.0</br>chol: 322.0</br>fbs: 0.0</br>restecg: 2.0</br>thalach: 109.0</br>exang: 0.0</br>oldpeak: 2.4</br>ca: 3.0</br>thal: 0.0</br>_original_yhat_: 0.9742528447623608</br>"
          ],
          [
           "</br>id: 158</br>prediction: 0.972</br>slope: 0.16</br></br>age: 70.0</br>sex: 1.0</br>cp: 3.0</br>trestbps: 130.0</br>chol: 322.0</br>fbs: 0.0</br>restecg: 2.0</br>thalach: 109.0</br>exang: 0.0</br>oldpeak: 2.4</br>ca: 3.0</br>thal: 0.0</br>_original_yhat_: 0.9742528447623608</br>"
          ],
          [
           "</br>id: 158</br>prediction: 0.972</br>slope: 0.18</br></br>age: 70.0</br>sex: 1.0</br>cp: 3.0</br>trestbps: 130.0</br>chol: 322.0</br>fbs: 0.0</br>restecg: 2.0</br>thalach: 109.0</br>exang: 0.0</br>oldpeak: 2.4</br>ca: 3.0</br>thal: 0.0</br>_original_yhat_: 0.9742528447623608</br>"
          ],
          [
           "</br>id: 158</br>prediction: 0.972</br>slope: 0.2</br></br>age: 70.0</br>sex: 1.0</br>cp: 3.0</br>trestbps: 130.0</br>chol: 322.0</br>fbs: 0.0</br>restecg: 2.0</br>thalach: 109.0</br>exang: 0.0</br>oldpeak: 2.4</br>ca: 3.0</br>thal: 0.0</br>_original_yhat_: 0.9742528447623608</br>"
          ],
          [
           "</br>id: 158</br>prediction: 0.972</br>slope: 0.22</br></br>age: 70.0</br>sex: 1.0</br>cp: 3.0</br>trestbps: 130.0</br>chol: 322.0</br>fbs: 0.0</br>restecg: 2.0</br>thalach: 109.0</br>exang: 0.0</br>oldpeak: 2.4</br>ca: 3.0</br>thal: 0.0</br>_original_yhat_: 0.9742528447623608</br>"
          ],
          [
           "</br>id: 158</br>prediction: 0.972</br>slope: 0.24</br></br>age: 70.0</br>sex: 1.0</br>cp: 3.0</br>trestbps: 130.0</br>chol: 322.0</br>fbs: 0.0</br>restecg: 2.0</br>thalach: 109.0</br>exang: 0.0</br>oldpeak: 2.4</br>ca: 3.0</br>thal: 0.0</br>_original_yhat_: 0.9742528447623608</br>"
          ],
          [
           "</br>id: 158</br>prediction: 0.972</br>slope: 0.26</br></br>age: 70.0</br>sex: 1.0</br>cp: 3.0</br>trestbps: 130.0</br>chol: 322.0</br>fbs: 0.0</br>restecg: 2.0</br>thalach: 109.0</br>exang: 0.0</br>oldpeak: 2.4</br>ca: 3.0</br>thal: 0.0</br>_original_yhat_: 0.9742528447623608</br>"
          ],
          [
           "</br>id: 158</br>prediction: 0.972</br>slope: 0.28</br></br>age: 70.0</br>sex: 1.0</br>cp: 3.0</br>trestbps: 130.0</br>chol: 322.0</br>fbs: 0.0</br>restecg: 2.0</br>thalach: 109.0</br>exang: 0.0</br>oldpeak: 2.4</br>ca: 3.0</br>thal: 0.0</br>_original_yhat_: 0.9742528447623608</br>"
          ],
          [
           "</br>id: 158</br>prediction: 0.972</br>slope: 0.3</br></br>age: 70.0</br>sex: 1.0</br>cp: 3.0</br>trestbps: 130.0</br>chol: 322.0</br>fbs: 0.0</br>restecg: 2.0</br>thalach: 109.0</br>exang: 0.0</br>oldpeak: 2.4</br>ca: 3.0</br>thal: 0.0</br>_original_yhat_: 0.9742528447623608</br>"
          ],
          [
           "</br>id: 158</br>prediction: 0.972</br>slope: 0.32</br></br>age: 70.0</br>sex: 1.0</br>cp: 3.0</br>trestbps: 130.0</br>chol: 322.0</br>fbs: 0.0</br>restecg: 2.0</br>thalach: 109.0</br>exang: 0.0</br>oldpeak: 2.4</br>ca: 3.0</br>thal: 0.0</br>_original_yhat_: 0.9742528447623608</br>"
          ],
          [
           "</br>id: 158</br>prediction: 0.972</br>slope: 0.34</br></br>age: 70.0</br>sex: 1.0</br>cp: 3.0</br>trestbps: 130.0</br>chol: 322.0</br>fbs: 0.0</br>restecg: 2.0</br>thalach: 109.0</br>exang: 0.0</br>oldpeak: 2.4</br>ca: 3.0</br>thal: 0.0</br>_original_yhat_: 0.9742528447623608</br>"
          ],
          [
           "</br>id: 158</br>prediction: 0.972</br>slope: 0.36</br></br>age: 70.0</br>sex: 1.0</br>cp: 3.0</br>trestbps: 130.0</br>chol: 322.0</br>fbs: 0.0</br>restecg: 2.0</br>thalach: 109.0</br>exang: 0.0</br>oldpeak: 2.4</br>ca: 3.0</br>thal: 0.0</br>_original_yhat_: 0.9742528447623608</br>"
          ],
          [
           "</br>id: 158</br>prediction: 0.972</br>slope: 0.38</br></br>age: 70.0</br>sex: 1.0</br>cp: 3.0</br>trestbps: 130.0</br>chol: 322.0</br>fbs: 0.0</br>restecg: 2.0</br>thalach: 109.0</br>exang: 0.0</br>oldpeak: 2.4</br>ca: 3.0</br>thal: 0.0</br>_original_yhat_: 0.9742528447623608</br>"
          ],
          [
           "</br>id: 158</br>prediction: 0.972</br>slope: 0.4</br></br>age: 70.0</br>sex: 1.0</br>cp: 3.0</br>trestbps: 130.0</br>chol: 322.0</br>fbs: 0.0</br>restecg: 2.0</br>thalach: 109.0</br>exang: 0.0</br>oldpeak: 2.4</br>ca: 3.0</br>thal: 0.0</br>_original_yhat_: 0.9742528447623608</br>"
          ],
          [
           "</br>id: 158</br>prediction: 0.972</br>slope: 0.42</br></br>age: 70.0</br>sex: 1.0</br>cp: 3.0</br>trestbps: 130.0</br>chol: 322.0</br>fbs: 0.0</br>restecg: 2.0</br>thalach: 109.0</br>exang: 0.0</br>oldpeak: 2.4</br>ca: 3.0</br>thal: 0.0</br>_original_yhat_: 0.9742528447623608</br>"
          ],
          [
           "</br>id: 158</br>prediction: 0.972</br>slope: 0.44</br></br>age: 70.0</br>sex: 1.0</br>cp: 3.0</br>trestbps: 130.0</br>chol: 322.0</br>fbs: 0.0</br>restecg: 2.0</br>thalach: 109.0</br>exang: 0.0</br>oldpeak: 2.4</br>ca: 3.0</br>thal: 0.0</br>_original_yhat_: 0.9742528447623608</br>"
          ],
          [
           "</br>id: 158</br>prediction: 0.973</br>slope: 0.46</br></br>age: 70.0</br>sex: 1.0</br>cp: 3.0</br>trestbps: 130.0</br>chol: 322.0</br>fbs: 0.0</br>restecg: 2.0</br>thalach: 109.0</br>exang: 0.0</br>oldpeak: 2.4</br>ca: 3.0</br>thal: 0.0</br>_original_yhat_: 0.9742528447623608</br>"
          ],
          [
           "</br>id: 158</br>prediction: 0.973</br>slope: 0.48</br></br>age: 70.0</br>sex: 1.0</br>cp: 3.0</br>trestbps: 130.0</br>chol: 322.0</br>fbs: 0.0</br>restecg: 2.0</br>thalach: 109.0</br>exang: 0.0</br>oldpeak: 2.4</br>ca: 3.0</br>thal: 0.0</br>_original_yhat_: 0.9742528447623608</br>"
          ],
          [
           "</br>id: 158</br>prediction: 0.973</br>slope: 0.5</br></br>age: 70.0</br>sex: 1.0</br>cp: 3.0</br>trestbps: 130.0</br>chol: 322.0</br>fbs: 0.0</br>restecg: 2.0</br>thalach: 109.0</br>exang: 0.0</br>oldpeak: 2.4</br>ca: 3.0</br>thal: 0.0</br>_original_yhat_: 0.9742528447623608</br>"
          ],
          [
           "</br>id: 158</br>prediction: 0.973</br>slope: 0.52</br></br>age: 70.0</br>sex: 1.0</br>cp: 3.0</br>trestbps: 130.0</br>chol: 322.0</br>fbs: 0.0</br>restecg: 2.0</br>thalach: 109.0</br>exang: 0.0</br>oldpeak: 2.4</br>ca: 3.0</br>thal: 0.0</br>_original_yhat_: 0.9742528447623608</br>"
          ],
          [
           "</br>id: 158</br>prediction: 0.973</br>slope: 0.54</br></br>age: 70.0</br>sex: 1.0</br>cp: 3.0</br>trestbps: 130.0</br>chol: 322.0</br>fbs: 0.0</br>restecg: 2.0</br>thalach: 109.0</br>exang: 0.0</br>oldpeak: 2.4</br>ca: 3.0</br>thal: 0.0</br>_original_yhat_: 0.9742528447623608</br>"
          ],
          [
           "</br>id: 158</br>prediction: 0.973</br>slope: 0.56</br></br>age: 70.0</br>sex: 1.0</br>cp: 3.0</br>trestbps: 130.0</br>chol: 322.0</br>fbs: 0.0</br>restecg: 2.0</br>thalach: 109.0</br>exang: 0.0</br>oldpeak: 2.4</br>ca: 3.0</br>thal: 0.0</br>_original_yhat_: 0.9742528447623608</br>"
          ],
          [
           "</br>id: 158</br>prediction: 0.973</br>slope: 0.58</br></br>age: 70.0</br>sex: 1.0</br>cp: 3.0</br>trestbps: 130.0</br>chol: 322.0</br>fbs: 0.0</br>restecg: 2.0</br>thalach: 109.0</br>exang: 0.0</br>oldpeak: 2.4</br>ca: 3.0</br>thal: 0.0</br>_original_yhat_: 0.9742528447623608</br>"
          ],
          [
           "</br>id: 158</br>prediction: 0.973</br>slope: 0.6</br></br>age: 70.0</br>sex: 1.0</br>cp: 3.0</br>trestbps: 130.0</br>chol: 322.0</br>fbs: 0.0</br>restecg: 2.0</br>thalach: 109.0</br>exang: 0.0</br>oldpeak: 2.4</br>ca: 3.0</br>thal: 0.0</br>_original_yhat_: 0.9742528447623608</br>"
          ],
          [
           "</br>id: 158</br>prediction: 0.973</br>slope: 0.62</br></br>age: 70.0</br>sex: 1.0</br>cp: 3.0</br>trestbps: 130.0</br>chol: 322.0</br>fbs: 0.0</br>restecg: 2.0</br>thalach: 109.0</br>exang: 0.0</br>oldpeak: 2.4</br>ca: 3.0</br>thal: 0.0</br>_original_yhat_: 0.9742528447623608</br>"
          ],
          [
           "</br>id: 158</br>prediction: 0.973</br>slope: 0.64</br></br>age: 70.0</br>sex: 1.0</br>cp: 3.0</br>trestbps: 130.0</br>chol: 322.0</br>fbs: 0.0</br>restecg: 2.0</br>thalach: 109.0</br>exang: 0.0</br>oldpeak: 2.4</br>ca: 3.0</br>thal: 0.0</br>_original_yhat_: 0.9742528447623608</br>"
          ],
          [
           "</br>id: 158</br>prediction: 0.973</br>slope: 0.66</br></br>age: 70.0</br>sex: 1.0</br>cp: 3.0</br>trestbps: 130.0</br>chol: 322.0</br>fbs: 0.0</br>restecg: 2.0</br>thalach: 109.0</br>exang: 0.0</br>oldpeak: 2.4</br>ca: 3.0</br>thal: 0.0</br>_original_yhat_: 0.9742528447623608</br>"
          ],
          [
           "</br>id: 158</br>prediction: 0.973</br>slope: 0.68</br></br>age: 70.0</br>sex: 1.0</br>cp: 3.0</br>trestbps: 130.0</br>chol: 322.0</br>fbs: 0.0</br>restecg: 2.0</br>thalach: 109.0</br>exang: 0.0</br>oldpeak: 2.4</br>ca: 3.0</br>thal: 0.0</br>_original_yhat_: 0.9742528447623608</br>"
          ],
          [
           "</br>id: 158</br>prediction: 0.973</br>slope: 0.7000000000000001</br></br>age: 70.0</br>sex: 1.0</br>cp: 3.0</br>trestbps: 130.0</br>chol: 322.0</br>fbs: 0.0</br>restecg: 2.0</br>thalach: 109.0</br>exang: 0.0</br>oldpeak: 2.4</br>ca: 3.0</br>thal: 0.0</br>_original_yhat_: 0.9742528447623608</br>"
          ],
          [
           "</br>id: 158</br>prediction: 0.973</br>slope: 0.72</br></br>age: 70.0</br>sex: 1.0</br>cp: 3.0</br>trestbps: 130.0</br>chol: 322.0</br>fbs: 0.0</br>restecg: 2.0</br>thalach: 109.0</br>exang: 0.0</br>oldpeak: 2.4</br>ca: 3.0</br>thal: 0.0</br>_original_yhat_: 0.9742528447623608</br>"
          ],
          [
           "</br>id: 158</br>prediction: 0.973</br>slope: 0.74</br></br>age: 70.0</br>sex: 1.0</br>cp: 3.0</br>trestbps: 130.0</br>chol: 322.0</br>fbs: 0.0</br>restecg: 2.0</br>thalach: 109.0</br>exang: 0.0</br>oldpeak: 2.4</br>ca: 3.0</br>thal: 0.0</br>_original_yhat_: 0.9742528447623608</br>"
          ],
          [
           "</br>id: 158</br>prediction: 0.973</br>slope: 0.76</br></br>age: 70.0</br>sex: 1.0</br>cp: 3.0</br>trestbps: 130.0</br>chol: 322.0</br>fbs: 0.0</br>restecg: 2.0</br>thalach: 109.0</br>exang: 0.0</br>oldpeak: 2.4</br>ca: 3.0</br>thal: 0.0</br>_original_yhat_: 0.9742528447623608</br>"
          ],
          [
           "</br>id: 158</br>prediction: 0.974</br>slope: 0.78</br></br>age: 70.0</br>sex: 1.0</br>cp: 3.0</br>trestbps: 130.0</br>chol: 322.0</br>fbs: 0.0</br>restecg: 2.0</br>thalach: 109.0</br>exang: 0.0</br>oldpeak: 2.4</br>ca: 3.0</br>thal: 0.0</br>_original_yhat_: 0.9742528447623608</br>"
          ],
          [
           "</br>id: 158</br>prediction: 0.974</br>slope: 0.8</br></br>age: 70.0</br>sex: 1.0</br>cp: 3.0</br>trestbps: 130.0</br>chol: 322.0</br>fbs: 0.0</br>restecg: 2.0</br>thalach: 109.0</br>exang: 0.0</br>oldpeak: 2.4</br>ca: 3.0</br>thal: 0.0</br>_original_yhat_: 0.9742528447623608</br>"
          ],
          [
           "</br>id: 158</br>prediction: 0.974</br>slope: 0.8200000000000001</br></br>age: 70.0</br>sex: 1.0</br>cp: 3.0</br>trestbps: 130.0</br>chol: 322.0</br>fbs: 0.0</br>restecg: 2.0</br>thalach: 109.0</br>exang: 0.0</br>oldpeak: 2.4</br>ca: 3.0</br>thal: 0.0</br>_original_yhat_: 0.9742528447623608</br>"
          ],
          [
           "</br>id: 158</br>prediction: 0.974</br>slope: 0.84</br></br>age: 70.0</br>sex: 1.0</br>cp: 3.0</br>trestbps: 130.0</br>chol: 322.0</br>fbs: 0.0</br>restecg: 2.0</br>thalach: 109.0</br>exang: 0.0</br>oldpeak: 2.4</br>ca: 3.0</br>thal: 0.0</br>_original_yhat_: 0.9742528447623608</br>"
          ],
          [
           "</br>id: 158</br>prediction: 0.974</br>slope: 0.86</br></br>age: 70.0</br>sex: 1.0</br>cp: 3.0</br>trestbps: 130.0</br>chol: 322.0</br>fbs: 0.0</br>restecg: 2.0</br>thalach: 109.0</br>exang: 0.0</br>oldpeak: 2.4</br>ca: 3.0</br>thal: 0.0</br>_original_yhat_: 0.9742528447623608</br>"
          ],
          [
           "</br>id: 158</br>prediction: 0.974</br>slope: 0.88</br></br>age: 70.0</br>sex: 1.0</br>cp: 3.0</br>trestbps: 130.0</br>chol: 322.0</br>fbs: 0.0</br>restecg: 2.0</br>thalach: 109.0</br>exang: 0.0</br>oldpeak: 2.4</br>ca: 3.0</br>thal: 0.0</br>_original_yhat_: 0.9742528447623608</br>"
          ],
          [
           "</br>id: 158</br>prediction: 0.974</br>slope: 0.9</br></br>age: 70.0</br>sex: 1.0</br>cp: 3.0</br>trestbps: 130.0</br>chol: 322.0</br>fbs: 0.0</br>restecg: 2.0</br>thalach: 109.0</br>exang: 0.0</br>oldpeak: 2.4</br>ca: 3.0</br>thal: 0.0</br>_original_yhat_: 0.9742528447623608</br>"
          ],
          [
           "</br>id: 158</br>prediction: 0.974</br>slope: 0.92</br></br>age: 70.0</br>sex: 1.0</br>cp: 3.0</br>trestbps: 130.0</br>chol: 322.0</br>fbs: 0.0</br>restecg: 2.0</br>thalach: 109.0</br>exang: 0.0</br>oldpeak: 2.4</br>ca: 3.0</br>thal: 0.0</br>_original_yhat_: 0.9742528447623608</br>"
          ],
          [
           "</br>id: 158</br>prediction: 0.974</br>slope: 0.9400000000000001</br></br>age: 70.0</br>sex: 1.0</br>cp: 3.0</br>trestbps: 130.0</br>chol: 322.0</br>fbs: 0.0</br>restecg: 2.0</br>thalach: 109.0</br>exang: 0.0</br>oldpeak: 2.4</br>ca: 3.0</br>thal: 0.0</br>_original_yhat_: 0.9742528447623608</br>"
          ],
          [
           "</br>id: 158</br>prediction: 0.974</br>slope: 0.96</br></br>age: 70.0</br>sex: 1.0</br>cp: 3.0</br>trestbps: 130.0</br>chol: 322.0</br>fbs: 0.0</br>restecg: 2.0</br>thalach: 109.0</br>exang: 0.0</br>oldpeak: 2.4</br>ca: 3.0</br>thal: 0.0</br>_original_yhat_: 0.9742528447623608</br>"
          ],
          [
           "</br>id: 158</br>prediction: 0.974</br>slope: 0.98</br></br>age: 70.0</br>sex: 1.0</br>cp: 3.0</br>trestbps: 130.0</br>chol: 322.0</br>fbs: 0.0</br>restecg: 2.0</br>thalach: 109.0</br>exang: 0.0</br>oldpeak: 2.4</br>ca: 3.0</br>thal: 0.0</br>_original_yhat_: 0.9742528447623608</br>"
          ],
          [
           "</br>id: 158</br>prediction: 0.974</br>slope: 1.0</br></br>age: 70.0</br>sex: 1.0</br>cp: 3.0</br>trestbps: 130.0</br>chol: 322.0</br>fbs: 0.0</br>restecg: 2.0</br>thalach: 109.0</br>exang: 0.0</br>oldpeak: 2.4</br>ca: 3.0</br>thal: 0.0</br>_original_yhat_: 0.9742528447623608</br>"
          ],
          [
           "</br>id: 158</br>prediction: 0.974</br>slope: 1.02</br></br>age: 70.0</br>sex: 1.0</br>cp: 3.0</br>trestbps: 130.0</br>chol: 322.0</br>fbs: 0.0</br>restecg: 2.0</br>thalach: 109.0</br>exang: 0.0</br>oldpeak: 2.4</br>ca: 3.0</br>thal: 0.0</br>_original_yhat_: 0.9742528447623608</br>"
          ],
          [
           "</br>id: 158</br>prediction: 0.974</br>slope: 1.04</br></br>age: 70.0</br>sex: 1.0</br>cp: 3.0</br>trestbps: 130.0</br>chol: 322.0</br>fbs: 0.0</br>restecg: 2.0</br>thalach: 109.0</br>exang: 0.0</br>oldpeak: 2.4</br>ca: 3.0</br>thal: 0.0</br>_original_yhat_: 0.9742528447623608</br>"
          ],
          [
           "</br>id: 158</br>prediction: 0.974</br>slope: 1.06</br></br>age: 70.0</br>sex: 1.0</br>cp: 3.0</br>trestbps: 130.0</br>chol: 322.0</br>fbs: 0.0</br>restecg: 2.0</br>thalach: 109.0</br>exang: 0.0</br>oldpeak: 2.4</br>ca: 3.0</br>thal: 0.0</br>_original_yhat_: 0.9742528447623608</br>"
          ],
          [
           "</br>id: 158</br>prediction: 0.975</br>slope: 1.08</br></br>age: 70.0</br>sex: 1.0</br>cp: 3.0</br>trestbps: 130.0</br>chol: 322.0</br>fbs: 0.0</br>restecg: 2.0</br>thalach: 109.0</br>exang: 0.0</br>oldpeak: 2.4</br>ca: 3.0</br>thal: 0.0</br>_original_yhat_: 0.9742528447623608</br>"
          ],
          [
           "</br>id: 158</br>prediction: 0.975</br>slope: 1.1</br></br>age: 70.0</br>sex: 1.0</br>cp: 3.0</br>trestbps: 130.0</br>chol: 322.0</br>fbs: 0.0</br>restecg: 2.0</br>thalach: 109.0</br>exang: 0.0</br>oldpeak: 2.4</br>ca: 3.0</br>thal: 0.0</br>_original_yhat_: 0.9742528447623608</br>"
          ],
          [
           "</br>id: 158</br>prediction: 0.975</br>slope: 1.12</br></br>age: 70.0</br>sex: 1.0</br>cp: 3.0</br>trestbps: 130.0</br>chol: 322.0</br>fbs: 0.0</br>restecg: 2.0</br>thalach: 109.0</br>exang: 0.0</br>oldpeak: 2.4</br>ca: 3.0</br>thal: 0.0</br>_original_yhat_: 0.9742528447623608</br>"
          ],
          [
           "</br>id: 158</br>prediction: 0.975</br>slope: 1.1400000000000001</br></br>age: 70.0</br>sex: 1.0</br>cp: 3.0</br>trestbps: 130.0</br>chol: 322.0</br>fbs: 0.0</br>restecg: 2.0</br>thalach: 109.0</br>exang: 0.0</br>oldpeak: 2.4</br>ca: 3.0</br>thal: 0.0</br>_original_yhat_: 0.9742528447623608</br>"
          ],
          [
           "</br>id: 158</br>prediction: 0.975</br>slope: 1.16</br></br>age: 70.0</br>sex: 1.0</br>cp: 3.0</br>trestbps: 130.0</br>chol: 322.0</br>fbs: 0.0</br>restecg: 2.0</br>thalach: 109.0</br>exang: 0.0</br>oldpeak: 2.4</br>ca: 3.0</br>thal: 0.0</br>_original_yhat_: 0.9742528447623608</br>"
          ],
          [
           "</br>id: 158</br>prediction: 0.975</br>slope: 1.18</br></br>age: 70.0</br>sex: 1.0</br>cp: 3.0</br>trestbps: 130.0</br>chol: 322.0</br>fbs: 0.0</br>restecg: 2.0</br>thalach: 109.0</br>exang: 0.0</br>oldpeak: 2.4</br>ca: 3.0</br>thal: 0.0</br>_original_yhat_: 0.9742528447623608</br>"
          ],
          [
           "</br>id: 158</br>prediction: 0.975</br>slope: 1.2</br></br>age: 70.0</br>sex: 1.0</br>cp: 3.0</br>trestbps: 130.0</br>chol: 322.0</br>fbs: 0.0</br>restecg: 2.0</br>thalach: 109.0</br>exang: 0.0</br>oldpeak: 2.4</br>ca: 3.0</br>thal: 0.0</br>_original_yhat_: 0.9742528447623608</br>"
          ],
          [
           "</br>id: 158</br>prediction: 0.975</br>slope: 1.22</br></br>age: 70.0</br>sex: 1.0</br>cp: 3.0</br>trestbps: 130.0</br>chol: 322.0</br>fbs: 0.0</br>restecg: 2.0</br>thalach: 109.0</br>exang: 0.0</br>oldpeak: 2.4</br>ca: 3.0</br>thal: 0.0</br>_original_yhat_: 0.9742528447623608</br>"
          ],
          [
           "</br>id: 158</br>prediction: 0.975</br>slope: 1.24</br></br>age: 70.0</br>sex: 1.0</br>cp: 3.0</br>trestbps: 130.0</br>chol: 322.0</br>fbs: 0.0</br>restecg: 2.0</br>thalach: 109.0</br>exang: 0.0</br>oldpeak: 2.4</br>ca: 3.0</br>thal: 0.0</br>_original_yhat_: 0.9742528447623608</br>"
          ],
          [
           "</br>id: 158</br>prediction: 0.975</br>slope: 1.26</br></br>age: 70.0</br>sex: 1.0</br>cp: 3.0</br>trestbps: 130.0</br>chol: 322.0</br>fbs: 0.0</br>restecg: 2.0</br>thalach: 109.0</br>exang: 0.0</br>oldpeak: 2.4</br>ca: 3.0</br>thal: 0.0</br>_original_yhat_: 0.9742528447623608</br>"
          ],
          [
           "</br>id: 158</br>prediction: 0.975</br>slope: 1.28</br></br>age: 70.0</br>sex: 1.0</br>cp: 3.0</br>trestbps: 130.0</br>chol: 322.0</br>fbs: 0.0</br>restecg: 2.0</br>thalach: 109.0</br>exang: 0.0</br>oldpeak: 2.4</br>ca: 3.0</br>thal: 0.0</br>_original_yhat_: 0.9742528447623608</br>"
          ],
          [
           "</br>id: 158</br>prediction: 0.975</br>slope: 1.3</br></br>age: 70.0</br>sex: 1.0</br>cp: 3.0</br>trestbps: 130.0</br>chol: 322.0</br>fbs: 0.0</br>restecg: 2.0</br>thalach: 109.0</br>exang: 0.0</br>oldpeak: 2.4</br>ca: 3.0</br>thal: 0.0</br>_original_yhat_: 0.9742528447623608</br>"
          ],
          [
           "</br>id: 158</br>prediction: 0.975</br>slope: 1.32</br></br>age: 70.0</br>sex: 1.0</br>cp: 3.0</br>trestbps: 130.0</br>chol: 322.0</br>fbs: 0.0</br>restecg: 2.0</br>thalach: 109.0</br>exang: 0.0</br>oldpeak: 2.4</br>ca: 3.0</br>thal: 0.0</br>_original_yhat_: 0.9742528447623608</br>"
          ],
          [
           "</br>id: 158</br>prediction: 0.975</br>slope: 1.34</br></br>age: 70.0</br>sex: 1.0</br>cp: 3.0</br>trestbps: 130.0</br>chol: 322.0</br>fbs: 0.0</br>restecg: 2.0</br>thalach: 109.0</br>exang: 0.0</br>oldpeak: 2.4</br>ca: 3.0</br>thal: 0.0</br>_original_yhat_: 0.9742528447623608</br>"
          ],
          [
           "</br>id: 158</br>prediction: 0.975</br>slope: 1.36</br></br>age: 70.0</br>sex: 1.0</br>cp: 3.0</br>trestbps: 130.0</br>chol: 322.0</br>fbs: 0.0</br>restecg: 2.0</br>thalach: 109.0</br>exang: 0.0</br>oldpeak: 2.4</br>ca: 3.0</br>thal: 0.0</br>_original_yhat_: 0.9742528447623608</br>"
          ],
          [
           "</br>id: 158</br>prediction: 0.975</br>slope: 1.3800000000000001</br></br>age: 70.0</br>sex: 1.0</br>cp: 3.0</br>trestbps: 130.0</br>chol: 322.0</br>fbs: 0.0</br>restecg: 2.0</br>thalach: 109.0</br>exang: 0.0</br>oldpeak: 2.4</br>ca: 3.0</br>thal: 0.0</br>_original_yhat_: 0.9742528447623608</br>"
          ],
          [
           "</br>id: 158</br>prediction: 0.975</br>slope: 1.4000000000000001</br></br>age: 70.0</br>sex: 1.0</br>cp: 3.0</br>trestbps: 130.0</br>chol: 322.0</br>fbs: 0.0</br>restecg: 2.0</br>thalach: 109.0</br>exang: 0.0</br>oldpeak: 2.4</br>ca: 3.0</br>thal: 0.0</br>_original_yhat_: 0.9742528447623608</br>"
          ],
          [
           "</br>id: 158</br>prediction: 0.976</br>slope: 1.42</br></br>age: 70.0</br>sex: 1.0</br>cp: 3.0</br>trestbps: 130.0</br>chol: 322.0</br>fbs: 0.0</br>restecg: 2.0</br>thalach: 109.0</br>exang: 0.0</br>oldpeak: 2.4</br>ca: 3.0</br>thal: 0.0</br>_original_yhat_: 0.9742528447623608</br>"
          ],
          [
           "</br>id: 158</br>prediction: 0.976</br>slope: 1.44</br></br>age: 70.0</br>sex: 1.0</br>cp: 3.0</br>trestbps: 130.0</br>chol: 322.0</br>fbs: 0.0</br>restecg: 2.0</br>thalach: 109.0</br>exang: 0.0</br>oldpeak: 2.4</br>ca: 3.0</br>thal: 0.0</br>_original_yhat_: 0.9742528447623608</br>"
          ],
          [
           "</br>id: 158</br>prediction: 0.976</br>slope: 1.46</br></br>age: 70.0</br>sex: 1.0</br>cp: 3.0</br>trestbps: 130.0</br>chol: 322.0</br>fbs: 0.0</br>restecg: 2.0</br>thalach: 109.0</br>exang: 0.0</br>oldpeak: 2.4</br>ca: 3.0</br>thal: 0.0</br>_original_yhat_: 0.9742528447623608</br>"
          ],
          [
           "</br>id: 158</br>prediction: 0.976</br>slope: 1.48</br></br>age: 70.0</br>sex: 1.0</br>cp: 3.0</br>trestbps: 130.0</br>chol: 322.0</br>fbs: 0.0</br>restecg: 2.0</br>thalach: 109.0</br>exang: 0.0</br>oldpeak: 2.4</br>ca: 3.0</br>thal: 0.0</br>_original_yhat_: 0.9742528447623608</br>"
          ],
          [
           "</br>id: 158</br>prediction: 0.976</br>slope: 1.5</br></br>age: 70.0</br>sex: 1.0</br>cp: 3.0</br>trestbps: 130.0</br>chol: 322.0</br>fbs: 0.0</br>restecg: 2.0</br>thalach: 109.0</br>exang: 0.0</br>oldpeak: 2.4</br>ca: 3.0</br>thal: 0.0</br>_original_yhat_: 0.9742528447623608</br>"
          ],
          [
           "</br>id: 158</br>prediction: 0.976</br>slope: 1.52</br></br>age: 70.0</br>sex: 1.0</br>cp: 3.0</br>trestbps: 130.0</br>chol: 322.0</br>fbs: 0.0</br>restecg: 2.0</br>thalach: 109.0</br>exang: 0.0</br>oldpeak: 2.4</br>ca: 3.0</br>thal: 0.0</br>_original_yhat_: 0.9742528447623608</br>"
          ],
          [
           "</br>id: 158</br>prediction: 0.976</br>slope: 1.54</br></br>age: 70.0</br>sex: 1.0</br>cp: 3.0</br>trestbps: 130.0</br>chol: 322.0</br>fbs: 0.0</br>restecg: 2.0</br>thalach: 109.0</br>exang: 0.0</br>oldpeak: 2.4</br>ca: 3.0</br>thal: 0.0</br>_original_yhat_: 0.9742528447623608</br>"
          ],
          [
           "</br>id: 158</br>prediction: 0.976</br>slope: 1.56</br></br>age: 70.0</br>sex: 1.0</br>cp: 3.0</br>trestbps: 130.0</br>chol: 322.0</br>fbs: 0.0</br>restecg: 2.0</br>thalach: 109.0</br>exang: 0.0</br>oldpeak: 2.4</br>ca: 3.0</br>thal: 0.0</br>_original_yhat_: 0.9742528447623608</br>"
          ],
          [
           "</br>id: 158</br>prediction: 0.976</br>slope: 1.58</br></br>age: 70.0</br>sex: 1.0</br>cp: 3.0</br>trestbps: 130.0</br>chol: 322.0</br>fbs: 0.0</br>restecg: 2.0</br>thalach: 109.0</br>exang: 0.0</br>oldpeak: 2.4</br>ca: 3.0</br>thal: 0.0</br>_original_yhat_: 0.9742528447623608</br>"
          ],
          [
           "</br>id: 158</br>prediction: 0.976</br>slope: 1.6</br></br>age: 70.0</br>sex: 1.0</br>cp: 3.0</br>trestbps: 130.0</br>chol: 322.0</br>fbs: 0.0</br>restecg: 2.0</br>thalach: 109.0</br>exang: 0.0</br>oldpeak: 2.4</br>ca: 3.0</br>thal: 0.0</br>_original_yhat_: 0.9742528447623608</br>"
          ],
          [
           "</br>id: 158</br>prediction: 0.976</br>slope: 1.62</br></br>age: 70.0</br>sex: 1.0</br>cp: 3.0</br>trestbps: 130.0</br>chol: 322.0</br>fbs: 0.0</br>restecg: 2.0</br>thalach: 109.0</br>exang: 0.0</br>oldpeak: 2.4</br>ca: 3.0</br>thal: 0.0</br>_original_yhat_: 0.9742528447623608</br>"
          ],
          [
           "</br>id: 158</br>prediction: 0.976</br>slope: 1.6400000000000001</br></br>age: 70.0</br>sex: 1.0</br>cp: 3.0</br>trestbps: 130.0</br>chol: 322.0</br>fbs: 0.0</br>restecg: 2.0</br>thalach: 109.0</br>exang: 0.0</br>oldpeak: 2.4</br>ca: 3.0</br>thal: 0.0</br>_original_yhat_: 0.9742528447623608</br>"
          ],
          [
           "</br>id: 158</br>prediction: 0.976</br>slope: 1.6600000000000001</br></br>age: 70.0</br>sex: 1.0</br>cp: 3.0</br>trestbps: 130.0</br>chol: 322.0</br>fbs: 0.0</br>restecg: 2.0</br>thalach: 109.0</br>exang: 0.0</br>oldpeak: 2.4</br>ca: 3.0</br>thal: 0.0</br>_original_yhat_: 0.9742528447623608</br>"
          ],
          [
           "</br>id: 158</br>prediction: 0.976</br>slope: 1.68</br></br>age: 70.0</br>sex: 1.0</br>cp: 3.0</br>trestbps: 130.0</br>chol: 322.0</br>fbs: 0.0</br>restecg: 2.0</br>thalach: 109.0</br>exang: 0.0</br>oldpeak: 2.4</br>ca: 3.0</br>thal: 0.0</br>_original_yhat_: 0.9742528447623608</br>"
          ],
          [
           "</br>id: 158</br>prediction: 0.976</br>slope: 1.7</br></br>age: 70.0</br>sex: 1.0</br>cp: 3.0</br>trestbps: 130.0</br>chol: 322.0</br>fbs: 0.0</br>restecg: 2.0</br>thalach: 109.0</br>exang: 0.0</br>oldpeak: 2.4</br>ca: 3.0</br>thal: 0.0</br>_original_yhat_: 0.9742528447623608</br>"
          ],
          [
           "</br>id: 158</br>prediction: 0.976</br>slope: 1.72</br></br>age: 70.0</br>sex: 1.0</br>cp: 3.0</br>trestbps: 130.0</br>chol: 322.0</br>fbs: 0.0</br>restecg: 2.0</br>thalach: 109.0</br>exang: 0.0</br>oldpeak: 2.4</br>ca: 3.0</br>thal: 0.0</br>_original_yhat_: 0.9742528447623608</br>"
          ],
          [
           "</br>id: 158</br>prediction: 0.976</br>slope: 1.74</br></br>age: 70.0</br>sex: 1.0</br>cp: 3.0</br>trestbps: 130.0</br>chol: 322.0</br>fbs: 0.0</br>restecg: 2.0</br>thalach: 109.0</br>exang: 0.0</br>oldpeak: 2.4</br>ca: 3.0</br>thal: 0.0</br>_original_yhat_: 0.9742528447623608</br>"
          ],
          [
           "</br>id: 158</br>prediction: 0.977</br>slope: 1.76</br></br>age: 70.0</br>sex: 1.0</br>cp: 3.0</br>trestbps: 130.0</br>chol: 322.0</br>fbs: 0.0</br>restecg: 2.0</br>thalach: 109.0</br>exang: 0.0</br>oldpeak: 2.4</br>ca: 3.0</br>thal: 0.0</br>_original_yhat_: 0.9742528447623608</br>"
          ],
          [
           "</br>id: 158</br>prediction: 0.977</br>slope: 1.78</br></br>age: 70.0</br>sex: 1.0</br>cp: 3.0</br>trestbps: 130.0</br>chol: 322.0</br>fbs: 0.0</br>restecg: 2.0</br>thalach: 109.0</br>exang: 0.0</br>oldpeak: 2.4</br>ca: 3.0</br>thal: 0.0</br>_original_yhat_: 0.9742528447623608</br>"
          ],
          [
           "</br>id: 158</br>prediction: 0.977</br>slope: 1.8</br></br>age: 70.0</br>sex: 1.0</br>cp: 3.0</br>trestbps: 130.0</br>chol: 322.0</br>fbs: 0.0</br>restecg: 2.0</br>thalach: 109.0</br>exang: 0.0</br>oldpeak: 2.4</br>ca: 3.0</br>thal: 0.0</br>_original_yhat_: 0.9742528447623608</br>"
          ],
          [
           "</br>id: 158</br>prediction: 0.977</br>slope: 1.82</br></br>age: 70.0</br>sex: 1.0</br>cp: 3.0</br>trestbps: 130.0</br>chol: 322.0</br>fbs: 0.0</br>restecg: 2.0</br>thalach: 109.0</br>exang: 0.0</br>oldpeak: 2.4</br>ca: 3.0</br>thal: 0.0</br>_original_yhat_: 0.9742528447623608</br>"
          ],
          [
           "</br>id: 158</br>prediction: 0.977</br>slope: 1.84</br></br>age: 70.0</br>sex: 1.0</br>cp: 3.0</br>trestbps: 130.0</br>chol: 322.0</br>fbs: 0.0</br>restecg: 2.0</br>thalach: 109.0</br>exang: 0.0</br>oldpeak: 2.4</br>ca: 3.0</br>thal: 0.0</br>_original_yhat_: 0.9742528447623608</br>"
          ],
          [
           "</br>id: 158</br>prediction: 0.977</br>slope: 1.86</br></br>age: 70.0</br>sex: 1.0</br>cp: 3.0</br>trestbps: 130.0</br>chol: 322.0</br>fbs: 0.0</br>restecg: 2.0</br>thalach: 109.0</br>exang: 0.0</br>oldpeak: 2.4</br>ca: 3.0</br>thal: 0.0</br>_original_yhat_: 0.9742528447623608</br>"
          ],
          [
           "</br>id: 158</br>prediction: 0.977</br>slope: 1.8800000000000001</br></br>age: 70.0</br>sex: 1.0</br>cp: 3.0</br>trestbps: 130.0</br>chol: 322.0</br>fbs: 0.0</br>restecg: 2.0</br>thalach: 109.0</br>exang: 0.0</br>oldpeak: 2.4</br>ca: 3.0</br>thal: 0.0</br>_original_yhat_: 0.9742528447623608</br>"
          ],
          [
           "</br>id: 158</br>prediction: 0.977</br>slope: 1.9000000000000001</br></br>age: 70.0</br>sex: 1.0</br>cp: 3.0</br>trestbps: 130.0</br>chol: 322.0</br>fbs: 0.0</br>restecg: 2.0</br>thalach: 109.0</br>exang: 0.0</br>oldpeak: 2.4</br>ca: 3.0</br>thal: 0.0</br>_original_yhat_: 0.9742528447623608</br>"
          ],
          [
           "</br>id: 158</br>prediction: 0.977</br>slope: 1.92</br></br>age: 70.0</br>sex: 1.0</br>cp: 3.0</br>trestbps: 130.0</br>chol: 322.0</br>fbs: 0.0</br>restecg: 2.0</br>thalach: 109.0</br>exang: 0.0</br>oldpeak: 2.4</br>ca: 3.0</br>thal: 0.0</br>_original_yhat_: 0.9742528447623608</br>"
          ],
          [
           "</br>id: 158</br>prediction: 0.977</br>slope: 1.94</br></br>age: 70.0</br>sex: 1.0</br>cp: 3.0</br>trestbps: 130.0</br>chol: 322.0</br>fbs: 0.0</br>restecg: 2.0</br>thalach: 109.0</br>exang: 0.0</br>oldpeak: 2.4</br>ca: 3.0</br>thal: 0.0</br>_original_yhat_: 0.9742528447623608</br>"
          ],
          [
           "</br>id: 158</br>prediction: 0.977</br>slope: 1.96</br></br>age: 70.0</br>sex: 1.0</br>cp: 3.0</br>trestbps: 130.0</br>chol: 322.0</br>fbs: 0.0</br>restecg: 2.0</br>thalach: 109.0</br>exang: 0.0</br>oldpeak: 2.4</br>ca: 3.0</br>thal: 0.0</br>_original_yhat_: 0.9742528447623608</br>"
          ],
          [
           "</br>id: 158</br>prediction: 0.977</br>slope: 1.98</br></br>age: 70.0</br>sex: 1.0</br>cp: 3.0</br>trestbps: 130.0</br>chol: 322.0</br>fbs: 0.0</br>restecg: 2.0</br>thalach: 109.0</br>exang: 0.0</br>oldpeak: 2.4</br>ca: 3.0</br>thal: 0.0</br>_original_yhat_: 0.9742528447623608</br>"
          ],
          [
           "</br>id: 158</br>prediction: 0.977</br>slope: 2.0</br></br>age: 70.0</br>sex: 1.0</br>cp: 3.0</br>trestbps: 130.0</br>chol: 322.0</br>fbs: 0.0</br>restecg: 2.0</br>thalach: 109.0</br>exang: 0.0</br>oldpeak: 2.4</br>ca: 3.0</br>thal: 0.0</br>_original_yhat_: 0.9742528447623608</br>"
          ]
         ],
         "hovertemplate": "%{customdata[0]}<extra></extra>",
         "legendgroup": "RandomizedSearchCV",
         "line": {
          "color": "#46bac2",
          "dash": "solid",
          "width": 2
         },
         "marker": {
          "symbol": "circle"
         },
         "mode": "lines",
         "name": "RandomizedSearchCV",
         "opacity": 1,
         "showlegend": false,
         "type": "scattergl",
         "x": [
          0,
          0.02,
          0.04,
          0.06,
          0.08,
          0.1,
          0.12,
          0.14,
          0.16,
          0.18,
          0.2,
          0.22,
          0.24,
          0.26,
          0.28,
          0.3,
          0.32,
          0.34,
          0.36,
          0.38,
          0.4,
          0.42,
          0.44,
          0.46,
          0.48,
          0.5,
          0.52,
          0.54,
          0.56,
          0.58,
          0.6,
          0.62,
          0.64,
          0.66,
          0.68,
          0.7000000000000001,
          0.72,
          0.74,
          0.76,
          0.78,
          0.8,
          0.8200000000000001,
          0.84,
          0.86,
          0.88,
          0.9,
          0.92,
          0.9400000000000001,
          0.96,
          0.98,
          1,
          1.02,
          1.04,
          1.06,
          1.08,
          1.1,
          1.12,
          1.1400000000000001,
          1.16,
          1.18,
          1.2,
          1.22,
          1.24,
          1.26,
          1.28,
          1.3,
          1.32,
          1.34,
          1.36,
          1.3800000000000001,
          1.4000000000000001,
          1.42,
          1.44,
          1.46,
          1.48,
          1.5,
          1.52,
          1.54,
          1.56,
          1.58,
          1.6,
          1.62,
          1.6400000000000001,
          1.6600000000000001,
          1.68,
          1.7,
          1.72,
          1.74,
          1.76,
          1.78,
          1.8,
          1.82,
          1.84,
          1.86,
          1.8800000000000001,
          1.9000000000000001,
          1.92,
          1.94,
          1.96,
          1.98,
          2
         ],
         "xaxis": "x3",
         "y": [
          0.9709476736345827,
          0.9710176457500523,
          0.9710874543570103,
          0.9711570998133888,
          0.971226582476454,
          0.9712959027028047,
          0.9713650608483744,
          0.9714340572684308,
          0.9715028923175775,
          0.9715715663497544,
          0.9716400797182374,
          0.9717084327756413,
          0.9717766258739177,
          0.9718446593643582,
          0.9719125335975933,
          0.971980248923594,
          0.9720478056916725,
          0.9721152042504825,
          0.9721824449480199,
          0.9722495281316239,
          0.9723164541479777,
          0.9723832233431086,
          0.9724498360623893,
          0.9725162926505384,
          0.9725825934516213,
          0.9726487388090505,
          0.9727147290655863,
          0.9727805645633388,
          0.9728462456437665,
          0.9729117726476788,
          0.9729771459152358,
          0.9730423657859495,
          0.9731074325986839,
          0.9731723466916564,
          0.9732371084024387,
          0.9733017180679564,
          0.9733661760244908,
          0.9734304826076794,
          0.9734946381525164,
          0.9735586429933533,
          0.9736224974639005,
          0.9736862018972272,
          0.9737497566257624,
          0.9738131619812953,
          0.9738764182949772,
          0.973939525897321,
          0.9740024851182023,
          0.9740652962868607,
          0.9741279597318997,
          0.9741904757812881,
          0.9742528447623608,
          0.9743150670018191,
          0.9743771428257314,
          0.9744390725595349,
          0.974500856528035,
          0.9745624950554074,
          0.974623988465198,
          0.974685337080324,
          0.9747465412230745,
          0.9748076012151116,
          0.9748685173774705,
          0.9749292900305614,
          0.9749899194941692,
          0.9750504060874547,
          0.9751107501289558,
          0.9751709519365869,
          0.9752310118276416,
          0.9752909301187924,
          0.9753507071260912,
          0.9754103431649708,
          0.9754698385502454,
          0.9755291935961115,
          0.9755884086161482,
          0.9756474839233183,
          0.9757064198299703,
          0.9757652166478367,
          0.9758238746880368,
          0.9758823942610768,
          0.9759407756768507,
          0.9759990192446409,
          0.9760571252731195,
          0.9761150940703484,
          0.9761729259437809,
          0.9762306212002613,
          0.9762881801460275,
          0.9763456030867101,
          0.9764028903273343,
          0.9764600421723197,
          0.9765170589254825,
          0.9765739408900351,
          0.9766306883685874,
          0.9766873016631473,
          0.9767437810751223,
          0.9768001269053195,
          0.9768563394539469,
          0.9769124190206137,
          0.9769683659043313,
          0.977024180403515,
          0.9770798628159834,
          0.9771354134389604,
          0.9771908325690747
         ],
         "yaxis": "y3"
        },
        {
         "customdata": [
          [
           "</br>id: 158</br>prediction: 0.823</br>ca: 0.0</br></br>age: 70.0</br>sex: 1.0</br>cp: 3.0</br>trestbps: 130.0</br>chol: 322.0</br>fbs: 0.0</br>restecg: 2.0</br>thalach: 109.0</br>exang: 0.0</br>oldpeak: 2.4</br>slope: 1.0</br>thal: 0.0</br>_original_yhat_: 0.9742528447623608</br>"
          ],
          [
           "</br>id: 158</br>prediction: 0.826</br>ca: 0.03</br></br>age: 70.0</br>sex: 1.0</br>cp: 3.0</br>trestbps: 130.0</br>chol: 322.0</br>fbs: 0.0</br>restecg: 2.0</br>thalach: 109.0</br>exang: 0.0</br>oldpeak: 2.4</br>slope: 1.0</br>thal: 0.0</br>_original_yhat_: 0.9742528447623608</br>"
          ],
          [
           "</br>id: 158</br>prediction: 0.829</br>ca: 0.06</br></br>age: 70.0</br>sex: 1.0</br>cp: 3.0</br>trestbps: 130.0</br>chol: 322.0</br>fbs: 0.0</br>restecg: 2.0</br>thalach: 109.0</br>exang: 0.0</br>oldpeak: 2.4</br>slope: 1.0</br>thal: 0.0</br>_original_yhat_: 0.9742528447623608</br>"
          ],
          [
           "</br>id: 158</br>prediction: 0.832</br>ca: 0.09</br></br>age: 70.0</br>sex: 1.0</br>cp: 3.0</br>trestbps: 130.0</br>chol: 322.0</br>fbs: 0.0</br>restecg: 2.0</br>thalach: 109.0</br>exang: 0.0</br>oldpeak: 2.4</br>slope: 1.0</br>thal: 0.0</br>_original_yhat_: 0.9742528447623608</br>"
          ],
          [
           "</br>id: 158</br>prediction: 0.835</br>ca: 0.12</br></br>age: 70.0</br>sex: 1.0</br>cp: 3.0</br>trestbps: 130.0</br>chol: 322.0</br>fbs: 0.0</br>restecg: 2.0</br>thalach: 109.0</br>exang: 0.0</br>oldpeak: 2.4</br>slope: 1.0</br>thal: 0.0</br>_original_yhat_: 0.9742528447623608</br>"
          ],
          [
           "</br>id: 158</br>prediction: 0.838</br>ca: 0.15</br></br>age: 70.0</br>sex: 1.0</br>cp: 3.0</br>trestbps: 130.0</br>chol: 322.0</br>fbs: 0.0</br>restecg: 2.0</br>thalach: 109.0</br>exang: 0.0</br>oldpeak: 2.4</br>slope: 1.0</br>thal: 0.0</br>_original_yhat_: 0.9742528447623608</br>"
          ],
          [
           "</br>id: 158</br>prediction: 0.841</br>ca: 0.18</br></br>age: 70.0</br>sex: 1.0</br>cp: 3.0</br>trestbps: 130.0</br>chol: 322.0</br>fbs: 0.0</br>restecg: 2.0</br>thalach: 109.0</br>exang: 0.0</br>oldpeak: 2.4</br>slope: 1.0</br>thal: 0.0</br>_original_yhat_: 0.9742528447623608</br>"
          ],
          [
           "</br>id: 158</br>prediction: 0.843</br>ca: 0.21</br></br>age: 70.0</br>sex: 1.0</br>cp: 3.0</br>trestbps: 130.0</br>chol: 322.0</br>fbs: 0.0</br>restecg: 2.0</br>thalach: 109.0</br>exang: 0.0</br>oldpeak: 2.4</br>slope: 1.0</br>thal: 0.0</br>_original_yhat_: 0.9742528447623608</br>"
          ],
          [
           "</br>id: 158</br>prediction: 0.846</br>ca: 0.24</br></br>age: 70.0</br>sex: 1.0</br>cp: 3.0</br>trestbps: 130.0</br>chol: 322.0</br>fbs: 0.0</br>restecg: 2.0</br>thalach: 109.0</br>exang: 0.0</br>oldpeak: 2.4</br>slope: 1.0</br>thal: 0.0</br>_original_yhat_: 0.9742528447623608</br>"
          ],
          [
           "</br>id: 158</br>prediction: 0.849</br>ca: 0.27</br></br>age: 70.0</br>sex: 1.0</br>cp: 3.0</br>trestbps: 130.0</br>chol: 322.0</br>fbs: 0.0</br>restecg: 2.0</br>thalach: 109.0</br>exang: 0.0</br>oldpeak: 2.4</br>slope: 1.0</br>thal: 0.0</br>_original_yhat_: 0.9742528447623608</br>"
          ],
          [
           "</br>id: 158</br>prediction: 0.852</br>ca: 0.3</br></br>age: 70.0</br>sex: 1.0</br>cp: 3.0</br>trestbps: 130.0</br>chol: 322.0</br>fbs: 0.0</br>restecg: 2.0</br>thalach: 109.0</br>exang: 0.0</br>oldpeak: 2.4</br>slope: 1.0</br>thal: 0.0</br>_original_yhat_: 0.9742528447623608</br>"
          ],
          [
           "</br>id: 158</br>prediction: 0.854</br>ca: 0.32999999999999996</br></br>age: 70.0</br>sex: 1.0</br>cp: 3.0</br>trestbps: 130.0</br>chol: 322.0</br>fbs: 0.0</br>restecg: 2.0</br>thalach: 109.0</br>exang: 0.0</br>oldpeak: 2.4</br>slope: 1.0</br>thal: 0.0</br>_original_yhat_: 0.9742528447623608</br>"
          ],
          [
           "</br>id: 158</br>prediction: 0.857</br>ca: 0.36</br></br>age: 70.0</br>sex: 1.0</br>cp: 3.0</br>trestbps: 130.0</br>chol: 322.0</br>fbs: 0.0</br>restecg: 2.0</br>thalach: 109.0</br>exang: 0.0</br>oldpeak: 2.4</br>slope: 1.0</br>thal: 0.0</br>_original_yhat_: 0.9742528447623608</br>"
          ],
          [
           "</br>id: 158</br>prediction: 0.859</br>ca: 0.39</br></br>age: 70.0</br>sex: 1.0</br>cp: 3.0</br>trestbps: 130.0</br>chol: 322.0</br>fbs: 0.0</br>restecg: 2.0</br>thalach: 109.0</br>exang: 0.0</br>oldpeak: 2.4</br>slope: 1.0</br>thal: 0.0</br>_original_yhat_: 0.9742528447623608</br>"
          ],
          [
           "</br>id: 158</br>prediction: 0.862</br>ca: 0.42</br></br>age: 70.0</br>sex: 1.0</br>cp: 3.0</br>trestbps: 130.0</br>chol: 322.0</br>fbs: 0.0</br>restecg: 2.0</br>thalach: 109.0</br>exang: 0.0</br>oldpeak: 2.4</br>slope: 1.0</br>thal: 0.0</br>_original_yhat_: 0.9742528447623608</br>"
          ],
          [
           "</br>id: 158</br>prediction: 0.864</br>ca: 0.44999999999999996</br></br>age: 70.0</br>sex: 1.0</br>cp: 3.0</br>trestbps: 130.0</br>chol: 322.0</br>fbs: 0.0</br>restecg: 2.0</br>thalach: 109.0</br>exang: 0.0</br>oldpeak: 2.4</br>slope: 1.0</br>thal: 0.0</br>_original_yhat_: 0.9742528447623608</br>"
          ],
          [
           "</br>id: 158</br>prediction: 0.867</br>ca: 0.48</br></br>age: 70.0</br>sex: 1.0</br>cp: 3.0</br>trestbps: 130.0</br>chol: 322.0</br>fbs: 0.0</br>restecg: 2.0</br>thalach: 109.0</br>exang: 0.0</br>oldpeak: 2.4</br>slope: 1.0</br>thal: 0.0</br>_original_yhat_: 0.9742528447623608</br>"
          ],
          [
           "</br>id: 158</br>prediction: 0.869</br>ca: 0.51</br></br>age: 70.0</br>sex: 1.0</br>cp: 3.0</br>trestbps: 130.0</br>chol: 322.0</br>fbs: 0.0</br>restecg: 2.0</br>thalach: 109.0</br>exang: 0.0</br>oldpeak: 2.4</br>slope: 1.0</br>thal: 0.0</br>_original_yhat_: 0.9742528447623608</br>"
          ],
          [
           "</br>id: 158</br>prediction: 0.872</br>ca: 0.54</br></br>age: 70.0</br>sex: 1.0</br>cp: 3.0</br>trestbps: 130.0</br>chol: 322.0</br>fbs: 0.0</br>restecg: 2.0</br>thalach: 109.0</br>exang: 0.0</br>oldpeak: 2.4</br>slope: 1.0</br>thal: 0.0</br>_original_yhat_: 0.9742528447623608</br>"
          ],
          [
           "</br>id: 158</br>prediction: 0.874</br>ca: 0.57</br></br>age: 70.0</br>sex: 1.0</br>cp: 3.0</br>trestbps: 130.0</br>chol: 322.0</br>fbs: 0.0</br>restecg: 2.0</br>thalach: 109.0</br>exang: 0.0</br>oldpeak: 2.4</br>slope: 1.0</br>thal: 0.0</br>_original_yhat_: 0.9742528447623608</br>"
          ],
          [
           "</br>id: 158</br>prediction: 0.876</br>ca: 0.6</br></br>age: 70.0</br>sex: 1.0</br>cp: 3.0</br>trestbps: 130.0</br>chol: 322.0</br>fbs: 0.0</br>restecg: 2.0</br>thalach: 109.0</br>exang: 0.0</br>oldpeak: 2.4</br>slope: 1.0</br>thal: 0.0</br>_original_yhat_: 0.9742528447623608</br>"
          ],
          [
           "</br>id: 158</br>prediction: 0.878</br>ca: 0.63</br></br>age: 70.0</br>sex: 1.0</br>cp: 3.0</br>trestbps: 130.0</br>chol: 322.0</br>fbs: 0.0</br>restecg: 2.0</br>thalach: 109.0</br>exang: 0.0</br>oldpeak: 2.4</br>slope: 1.0</br>thal: 0.0</br>_original_yhat_: 0.9742528447623608</br>"
          ],
          [
           "</br>id: 158</br>prediction: 0.881</br>ca: 0.6599999999999999</br></br>age: 70.0</br>sex: 1.0</br>cp: 3.0</br>trestbps: 130.0</br>chol: 322.0</br>fbs: 0.0</br>restecg: 2.0</br>thalach: 109.0</br>exang: 0.0</br>oldpeak: 2.4</br>slope: 1.0</br>thal: 0.0</br>_original_yhat_: 0.9742528447623608</br>"
          ],
          [
           "</br>id: 158</br>prediction: 0.883</br>ca: 0.69</br></br>age: 70.0</br>sex: 1.0</br>cp: 3.0</br>trestbps: 130.0</br>chol: 322.0</br>fbs: 0.0</br>restecg: 2.0</br>thalach: 109.0</br>exang: 0.0</br>oldpeak: 2.4</br>slope: 1.0</br>thal: 0.0</br>_original_yhat_: 0.9742528447623608</br>"
          ],
          [
           "</br>id: 158</br>prediction: 0.885</br>ca: 0.72</br></br>age: 70.0</br>sex: 1.0</br>cp: 3.0</br>trestbps: 130.0</br>chol: 322.0</br>fbs: 0.0</br>restecg: 2.0</br>thalach: 109.0</br>exang: 0.0</br>oldpeak: 2.4</br>slope: 1.0</br>thal: 0.0</br>_original_yhat_: 0.9742528447623608</br>"
          ],
          [
           "</br>id: 158</br>prediction: 0.887</br>ca: 0.75</br></br>age: 70.0</br>sex: 1.0</br>cp: 3.0</br>trestbps: 130.0</br>chol: 322.0</br>fbs: 0.0</br>restecg: 2.0</br>thalach: 109.0</br>exang: 0.0</br>oldpeak: 2.4</br>slope: 1.0</br>thal: 0.0</br>_original_yhat_: 0.9742528447623608</br>"
          ],
          [
           "</br>id: 158</br>prediction: 0.889</br>ca: 0.78</br></br>age: 70.0</br>sex: 1.0</br>cp: 3.0</br>trestbps: 130.0</br>chol: 322.0</br>fbs: 0.0</br>restecg: 2.0</br>thalach: 109.0</br>exang: 0.0</br>oldpeak: 2.4</br>slope: 1.0</br>thal: 0.0</br>_original_yhat_: 0.9742528447623608</br>"
          ],
          [
           "</br>id: 158</br>prediction: 0.891</br>ca: 0.8099999999999999</br></br>age: 70.0</br>sex: 1.0</br>cp: 3.0</br>trestbps: 130.0</br>chol: 322.0</br>fbs: 0.0</br>restecg: 2.0</br>thalach: 109.0</br>exang: 0.0</br>oldpeak: 2.4</br>slope: 1.0</br>thal: 0.0</br>_original_yhat_: 0.9742528447623608</br>"
          ],
          [
           "</br>id: 158</br>prediction: 0.893</br>ca: 0.84</br></br>age: 70.0</br>sex: 1.0</br>cp: 3.0</br>trestbps: 130.0</br>chol: 322.0</br>fbs: 0.0</br>restecg: 2.0</br>thalach: 109.0</br>exang: 0.0</br>oldpeak: 2.4</br>slope: 1.0</br>thal: 0.0</br>_original_yhat_: 0.9742528447623608</br>"
          ],
          [
           "</br>id: 158</br>prediction: 0.895</br>ca: 0.87</br></br>age: 70.0</br>sex: 1.0</br>cp: 3.0</br>trestbps: 130.0</br>chol: 322.0</br>fbs: 0.0</br>restecg: 2.0</br>thalach: 109.0</br>exang: 0.0</br>oldpeak: 2.4</br>slope: 1.0</br>thal: 0.0</br>_original_yhat_: 0.9742528447623608</br>"
          ],
          [
           "</br>id: 158</br>prediction: 0.897</br>ca: 0.8999999999999999</br></br>age: 70.0</br>sex: 1.0</br>cp: 3.0</br>trestbps: 130.0</br>chol: 322.0</br>fbs: 0.0</br>restecg: 2.0</br>thalach: 109.0</br>exang: 0.0</br>oldpeak: 2.4</br>slope: 1.0</br>thal: 0.0</br>_original_yhat_: 0.9742528447623608</br>"
          ],
          [
           "</br>id: 158</br>prediction: 0.899</br>ca: 0.9299999999999999</br></br>age: 70.0</br>sex: 1.0</br>cp: 3.0</br>trestbps: 130.0</br>chol: 322.0</br>fbs: 0.0</br>restecg: 2.0</br>thalach: 109.0</br>exang: 0.0</br>oldpeak: 2.4</br>slope: 1.0</br>thal: 0.0</br>_original_yhat_: 0.9742528447623608</br>"
          ],
          [
           "</br>id: 158</br>prediction: 0.901</br>ca: 0.96</br></br>age: 70.0</br>sex: 1.0</br>cp: 3.0</br>trestbps: 130.0</br>chol: 322.0</br>fbs: 0.0</br>restecg: 2.0</br>thalach: 109.0</br>exang: 0.0</br>oldpeak: 2.4</br>slope: 1.0</br>thal: 0.0</br>_original_yhat_: 0.9742528447623608</br>"
          ],
          [
           "</br>id: 158</br>prediction: 0.903</br>ca: 0.99</br></br>age: 70.0</br>sex: 1.0</br>cp: 3.0</br>trestbps: 130.0</br>chol: 322.0</br>fbs: 0.0</br>restecg: 2.0</br>thalach: 109.0</br>exang: 0.0</br>oldpeak: 2.4</br>slope: 1.0</br>thal: 0.0</br>_original_yhat_: 0.9742528447623608</br>"
          ],
          [
           "</br>id: 158</br>prediction: 0.905</br>ca: 1.02</br></br>age: 70.0</br>sex: 1.0</br>cp: 3.0</br>trestbps: 130.0</br>chol: 322.0</br>fbs: 0.0</br>restecg: 2.0</br>thalach: 109.0</br>exang: 0.0</br>oldpeak: 2.4</br>slope: 1.0</br>thal: 0.0</br>_original_yhat_: 0.9742528447623608</br>"
          ],
          [
           "</br>id: 158</br>prediction: 0.906</br>ca: 1.05</br></br>age: 70.0</br>sex: 1.0</br>cp: 3.0</br>trestbps: 130.0</br>chol: 322.0</br>fbs: 0.0</br>restecg: 2.0</br>thalach: 109.0</br>exang: 0.0</br>oldpeak: 2.4</br>slope: 1.0</br>thal: 0.0</br>_original_yhat_: 0.9742528447623608</br>"
          ],
          [
           "</br>id: 158</br>prediction: 0.908</br>ca: 1.08</br></br>age: 70.0</br>sex: 1.0</br>cp: 3.0</br>trestbps: 130.0</br>chol: 322.0</br>fbs: 0.0</br>restecg: 2.0</br>thalach: 109.0</br>exang: 0.0</br>oldpeak: 2.4</br>slope: 1.0</br>thal: 0.0</br>_original_yhat_: 0.9742528447623608</br>"
          ],
          [
           "</br>id: 158</br>prediction: 0.91</br>ca: 1.1099999999999999</br></br>age: 70.0</br>sex: 1.0</br>cp: 3.0</br>trestbps: 130.0</br>chol: 322.0</br>fbs: 0.0</br>restecg: 2.0</br>thalach: 109.0</br>exang: 0.0</br>oldpeak: 2.4</br>slope: 1.0</br>thal: 0.0</br>_original_yhat_: 0.9742528447623608</br>"
          ],
          [
           "</br>id: 158</br>prediction: 0.912</br>ca: 1.14</br></br>age: 70.0</br>sex: 1.0</br>cp: 3.0</br>trestbps: 130.0</br>chol: 322.0</br>fbs: 0.0</br>restecg: 2.0</br>thalach: 109.0</br>exang: 0.0</br>oldpeak: 2.4</br>slope: 1.0</br>thal: 0.0</br>_original_yhat_: 0.9742528447623608</br>"
          ],
          [
           "</br>id: 158</br>prediction: 0.913</br>ca: 1.17</br></br>age: 70.0</br>sex: 1.0</br>cp: 3.0</br>trestbps: 130.0</br>chol: 322.0</br>fbs: 0.0</br>restecg: 2.0</br>thalach: 109.0</br>exang: 0.0</br>oldpeak: 2.4</br>slope: 1.0</br>thal: 0.0</br>_original_yhat_: 0.9742528447623608</br>"
          ],
          [
           "</br>id: 158</br>prediction: 0.915</br>ca: 1.2</br></br>age: 70.0</br>sex: 1.0</br>cp: 3.0</br>trestbps: 130.0</br>chol: 322.0</br>fbs: 0.0</br>restecg: 2.0</br>thalach: 109.0</br>exang: 0.0</br>oldpeak: 2.4</br>slope: 1.0</br>thal: 0.0</br>_original_yhat_: 0.9742528447623608</br>"
          ],
          [
           "</br>id: 158</br>prediction: 0.917</br>ca: 1.23</br></br>age: 70.0</br>sex: 1.0</br>cp: 3.0</br>trestbps: 130.0</br>chol: 322.0</br>fbs: 0.0</br>restecg: 2.0</br>thalach: 109.0</br>exang: 0.0</br>oldpeak: 2.4</br>slope: 1.0</br>thal: 0.0</br>_original_yhat_: 0.9742528447623608</br>"
          ],
          [
           "</br>id: 158</br>prediction: 0.918</br>ca: 1.26</br></br>age: 70.0</br>sex: 1.0</br>cp: 3.0</br>trestbps: 130.0</br>chol: 322.0</br>fbs: 0.0</br>restecg: 2.0</br>thalach: 109.0</br>exang: 0.0</br>oldpeak: 2.4</br>slope: 1.0</br>thal: 0.0</br>_original_yhat_: 0.9742528447623608</br>"
          ],
          [
           "</br>id: 158</br>prediction: 0.92</br>ca: 1.29</br></br>age: 70.0</br>sex: 1.0</br>cp: 3.0</br>trestbps: 130.0</br>chol: 322.0</br>fbs: 0.0</br>restecg: 2.0</br>thalach: 109.0</br>exang: 0.0</br>oldpeak: 2.4</br>slope: 1.0</br>thal: 0.0</br>_original_yhat_: 0.9742528447623608</br>"
          ],
          [
           "</br>id: 158</br>prediction: 0.921</br>ca: 1.3199999999999998</br></br>age: 70.0</br>sex: 1.0</br>cp: 3.0</br>trestbps: 130.0</br>chol: 322.0</br>fbs: 0.0</br>restecg: 2.0</br>thalach: 109.0</br>exang: 0.0</br>oldpeak: 2.4</br>slope: 1.0</br>thal: 0.0</br>_original_yhat_: 0.9742528447623608</br>"
          ],
          [
           "</br>id: 158</br>prediction: 0.923</br>ca: 1.3499999999999999</br></br>age: 70.0</br>sex: 1.0</br>cp: 3.0</br>trestbps: 130.0</br>chol: 322.0</br>fbs: 0.0</br>restecg: 2.0</br>thalach: 109.0</br>exang: 0.0</br>oldpeak: 2.4</br>slope: 1.0</br>thal: 0.0</br>_original_yhat_: 0.9742528447623608</br>"
          ],
          [
           "</br>id: 158</br>prediction: 0.924</br>ca: 1.38</br></br>age: 70.0</br>sex: 1.0</br>cp: 3.0</br>trestbps: 130.0</br>chol: 322.0</br>fbs: 0.0</br>restecg: 2.0</br>thalach: 109.0</br>exang: 0.0</br>oldpeak: 2.4</br>slope: 1.0</br>thal: 0.0</br>_original_yhat_: 0.9742528447623608</br>"
          ],
          [
           "</br>id: 158</br>prediction: 0.926</br>ca: 1.41</br></br>age: 70.0</br>sex: 1.0</br>cp: 3.0</br>trestbps: 130.0</br>chol: 322.0</br>fbs: 0.0</br>restecg: 2.0</br>thalach: 109.0</br>exang: 0.0</br>oldpeak: 2.4</br>slope: 1.0</br>thal: 0.0</br>_original_yhat_: 0.9742528447623608</br>"
          ],
          [
           "</br>id: 158</br>prediction: 0.927</br>ca: 1.44</br></br>age: 70.0</br>sex: 1.0</br>cp: 3.0</br>trestbps: 130.0</br>chol: 322.0</br>fbs: 0.0</br>restecg: 2.0</br>thalach: 109.0</br>exang: 0.0</br>oldpeak: 2.4</br>slope: 1.0</br>thal: 0.0</br>_original_yhat_: 0.9742528447623608</br>"
          ],
          [
           "</br>id: 158</br>prediction: 0.929</br>ca: 1.47</br></br>age: 70.0</br>sex: 1.0</br>cp: 3.0</br>trestbps: 130.0</br>chol: 322.0</br>fbs: 0.0</br>restecg: 2.0</br>thalach: 109.0</br>exang: 0.0</br>oldpeak: 2.4</br>slope: 1.0</br>thal: 0.0</br>_original_yhat_: 0.9742528447623608</br>"
          ],
          [
           "</br>id: 158</br>prediction: 0.93</br>ca: 1.5</br></br>age: 70.0</br>sex: 1.0</br>cp: 3.0</br>trestbps: 130.0</br>chol: 322.0</br>fbs: 0.0</br>restecg: 2.0</br>thalach: 109.0</br>exang: 0.0</br>oldpeak: 2.4</br>slope: 1.0</br>thal: 0.0</br>_original_yhat_: 0.9742528447623608</br>"
          ],
          [
           "</br>id: 158</br>prediction: 0.931</br>ca: 1.53</br></br>age: 70.0</br>sex: 1.0</br>cp: 3.0</br>trestbps: 130.0</br>chol: 322.0</br>fbs: 0.0</br>restecg: 2.0</br>thalach: 109.0</br>exang: 0.0</br>oldpeak: 2.4</br>slope: 1.0</br>thal: 0.0</br>_original_yhat_: 0.9742528447623608</br>"
          ],
          [
           "</br>id: 158</br>prediction: 0.933</br>ca: 1.56</br></br>age: 70.0</br>sex: 1.0</br>cp: 3.0</br>trestbps: 130.0</br>chol: 322.0</br>fbs: 0.0</br>restecg: 2.0</br>thalach: 109.0</br>exang: 0.0</br>oldpeak: 2.4</br>slope: 1.0</br>thal: 0.0</br>_original_yhat_: 0.9742528447623608</br>"
          ],
          [
           "</br>id: 158</br>prediction: 0.934</br>ca: 1.5899999999999999</br></br>age: 70.0</br>sex: 1.0</br>cp: 3.0</br>trestbps: 130.0</br>chol: 322.0</br>fbs: 0.0</br>restecg: 2.0</br>thalach: 109.0</br>exang: 0.0</br>oldpeak: 2.4</br>slope: 1.0</br>thal: 0.0</br>_original_yhat_: 0.9742528447623608</br>"
          ],
          [
           "</br>id: 158</br>prediction: 0.935</br>ca: 1.6199999999999999</br></br>age: 70.0</br>sex: 1.0</br>cp: 3.0</br>trestbps: 130.0</br>chol: 322.0</br>fbs: 0.0</br>restecg: 2.0</br>thalach: 109.0</br>exang: 0.0</br>oldpeak: 2.4</br>slope: 1.0</br>thal: 0.0</br>_original_yhat_: 0.9742528447623608</br>"
          ],
          [
           "</br>id: 158</br>prediction: 0.936</br>ca: 1.65</br></br>age: 70.0</br>sex: 1.0</br>cp: 3.0</br>trestbps: 130.0</br>chol: 322.0</br>fbs: 0.0</br>restecg: 2.0</br>thalach: 109.0</br>exang: 0.0</br>oldpeak: 2.4</br>slope: 1.0</br>thal: 0.0</br>_original_yhat_: 0.9742528447623608</br>"
          ],
          [
           "</br>id: 158</br>prediction: 0.938</br>ca: 1.68</br></br>age: 70.0</br>sex: 1.0</br>cp: 3.0</br>trestbps: 130.0</br>chol: 322.0</br>fbs: 0.0</br>restecg: 2.0</br>thalach: 109.0</br>exang: 0.0</br>oldpeak: 2.4</br>slope: 1.0</br>thal: 0.0</br>_original_yhat_: 0.9742528447623608</br>"
          ],
          [
           "</br>id: 158</br>prediction: 0.939</br>ca: 1.71</br></br>age: 70.0</br>sex: 1.0</br>cp: 3.0</br>trestbps: 130.0</br>chol: 322.0</br>fbs: 0.0</br>restecg: 2.0</br>thalach: 109.0</br>exang: 0.0</br>oldpeak: 2.4</br>slope: 1.0</br>thal: 0.0</br>_original_yhat_: 0.9742528447623608</br>"
          ],
          [
           "</br>id: 158</br>prediction: 0.94</br>ca: 1.74</br></br>age: 70.0</br>sex: 1.0</br>cp: 3.0</br>trestbps: 130.0</br>chol: 322.0</br>fbs: 0.0</br>restecg: 2.0</br>thalach: 109.0</br>exang: 0.0</br>oldpeak: 2.4</br>slope: 1.0</br>thal: 0.0</br>_original_yhat_: 0.9742528447623608</br>"
          ],
          [
           "</br>id: 158</br>prediction: 0.941</br>ca: 1.77</br></br>age: 70.0</br>sex: 1.0</br>cp: 3.0</br>trestbps: 130.0</br>chol: 322.0</br>fbs: 0.0</br>restecg: 2.0</br>thalach: 109.0</br>exang: 0.0</br>oldpeak: 2.4</br>slope: 1.0</br>thal: 0.0</br>_original_yhat_: 0.9742528447623608</br>"
          ],
          [
           "</br>id: 158</br>prediction: 0.942</br>ca: 1.7999999999999998</br></br>age: 70.0</br>sex: 1.0</br>cp: 3.0</br>trestbps: 130.0</br>chol: 322.0</br>fbs: 0.0</br>restecg: 2.0</br>thalach: 109.0</br>exang: 0.0</br>oldpeak: 2.4</br>slope: 1.0</br>thal: 0.0</br>_original_yhat_: 0.9742528447623608</br>"
          ],
          [
           "</br>id: 158</br>prediction: 0.944</br>ca: 1.8299999999999998</br></br>age: 70.0</br>sex: 1.0</br>cp: 3.0</br>trestbps: 130.0</br>chol: 322.0</br>fbs: 0.0</br>restecg: 2.0</br>thalach: 109.0</br>exang: 0.0</br>oldpeak: 2.4</br>slope: 1.0</br>thal: 0.0</br>_original_yhat_: 0.9742528447623608</br>"
          ],
          [
           "</br>id: 158</br>prediction: 0.945</br>ca: 1.8599999999999999</br></br>age: 70.0</br>sex: 1.0</br>cp: 3.0</br>trestbps: 130.0</br>chol: 322.0</br>fbs: 0.0</br>restecg: 2.0</br>thalach: 109.0</br>exang: 0.0</br>oldpeak: 2.4</br>slope: 1.0</br>thal: 0.0</br>_original_yhat_: 0.9742528447623608</br>"
          ],
          [
           "</br>id: 158</br>prediction: 0.946</br>ca: 1.89</br></br>age: 70.0</br>sex: 1.0</br>cp: 3.0</br>trestbps: 130.0</br>chol: 322.0</br>fbs: 0.0</br>restecg: 2.0</br>thalach: 109.0</br>exang: 0.0</br>oldpeak: 2.4</br>slope: 1.0</br>thal: 0.0</br>_original_yhat_: 0.9742528447623608</br>"
          ],
          [
           "</br>id: 158</br>prediction: 0.947</br>ca: 1.92</br></br>age: 70.0</br>sex: 1.0</br>cp: 3.0</br>trestbps: 130.0</br>chol: 322.0</br>fbs: 0.0</br>restecg: 2.0</br>thalach: 109.0</br>exang: 0.0</br>oldpeak: 2.4</br>slope: 1.0</br>thal: 0.0</br>_original_yhat_: 0.9742528447623608</br>"
          ],
          [
           "</br>id: 158</br>prediction: 0.948</br>ca: 1.95</br></br>age: 70.0</br>sex: 1.0</br>cp: 3.0</br>trestbps: 130.0</br>chol: 322.0</br>fbs: 0.0</br>restecg: 2.0</br>thalach: 109.0</br>exang: 0.0</br>oldpeak: 2.4</br>slope: 1.0</br>thal: 0.0</br>_original_yhat_: 0.9742528447623608</br>"
          ],
          [
           "</br>id: 158</br>prediction: 0.949</br>ca: 1.98</br></br>age: 70.0</br>sex: 1.0</br>cp: 3.0</br>trestbps: 130.0</br>chol: 322.0</br>fbs: 0.0</br>restecg: 2.0</br>thalach: 109.0</br>exang: 0.0</br>oldpeak: 2.4</br>slope: 1.0</br>thal: 0.0</br>_original_yhat_: 0.9742528447623608</br>"
          ],
          [
           "</br>id: 158</br>prediction: 0.95</br>ca: 2.01</br></br>age: 70.0</br>sex: 1.0</br>cp: 3.0</br>trestbps: 130.0</br>chol: 322.0</br>fbs: 0.0</br>restecg: 2.0</br>thalach: 109.0</br>exang: 0.0</br>oldpeak: 2.4</br>slope: 1.0</br>thal: 0.0</br>_original_yhat_: 0.9742528447623608</br>"
          ],
          [
           "</br>id: 158</br>prediction: 0.951</br>ca: 2.04</br></br>age: 70.0</br>sex: 1.0</br>cp: 3.0</br>trestbps: 130.0</br>chol: 322.0</br>fbs: 0.0</br>restecg: 2.0</br>thalach: 109.0</br>exang: 0.0</br>oldpeak: 2.4</br>slope: 1.0</br>thal: 0.0</br>_original_yhat_: 0.9742528447623608</br>"
          ],
          [
           "</br>id: 158</br>prediction: 0.952</br>ca: 2.07</br></br>age: 70.0</br>sex: 1.0</br>cp: 3.0</br>trestbps: 130.0</br>chol: 322.0</br>fbs: 0.0</br>restecg: 2.0</br>thalach: 109.0</br>exang: 0.0</br>oldpeak: 2.4</br>slope: 1.0</br>thal: 0.0</br>_original_yhat_: 0.9742528447623608</br>"
          ],
          [
           "</br>id: 158</br>prediction: 0.953</br>ca: 2.1</br></br>age: 70.0</br>sex: 1.0</br>cp: 3.0</br>trestbps: 130.0</br>chol: 322.0</br>fbs: 0.0</br>restecg: 2.0</br>thalach: 109.0</br>exang: 0.0</br>oldpeak: 2.4</br>slope: 1.0</br>thal: 0.0</br>_original_yhat_: 0.9742528447623608</br>"
          ],
          [
           "</br>id: 158</br>prediction: 0.954</br>ca: 2.13</br></br>age: 70.0</br>sex: 1.0</br>cp: 3.0</br>trestbps: 130.0</br>chol: 322.0</br>fbs: 0.0</br>restecg: 2.0</br>thalach: 109.0</br>exang: 0.0</br>oldpeak: 2.4</br>slope: 1.0</br>thal: 0.0</br>_original_yhat_: 0.9742528447623608</br>"
          ],
          [
           "</br>id: 158</br>prediction: 0.955</br>ca: 2.16</br></br>age: 70.0</br>sex: 1.0</br>cp: 3.0</br>trestbps: 130.0</br>chol: 322.0</br>fbs: 0.0</br>restecg: 2.0</br>thalach: 109.0</br>exang: 0.0</br>oldpeak: 2.4</br>slope: 1.0</br>thal: 0.0</br>_original_yhat_: 0.9742528447623608</br>"
          ],
          [
           "</br>id: 158</br>prediction: 0.956</br>ca: 2.19</br></br>age: 70.0</br>sex: 1.0</br>cp: 3.0</br>trestbps: 130.0</br>chol: 322.0</br>fbs: 0.0</br>restecg: 2.0</br>thalach: 109.0</br>exang: 0.0</br>oldpeak: 2.4</br>slope: 1.0</br>thal: 0.0</br>_original_yhat_: 0.9742528447623608</br>"
          ],
          [
           "</br>id: 158</br>prediction: 0.956</br>ca: 2.2199999999999998</br></br>age: 70.0</br>sex: 1.0</br>cp: 3.0</br>trestbps: 130.0</br>chol: 322.0</br>fbs: 0.0</br>restecg: 2.0</br>thalach: 109.0</br>exang: 0.0</br>oldpeak: 2.4</br>slope: 1.0</br>thal: 0.0</br>_original_yhat_: 0.9742528447623608</br>"
          ],
          [
           "</br>id: 158</br>prediction: 0.957</br>ca: 2.25</br></br>age: 70.0</br>sex: 1.0</br>cp: 3.0</br>trestbps: 130.0</br>chol: 322.0</br>fbs: 0.0</br>restecg: 2.0</br>thalach: 109.0</br>exang: 0.0</br>oldpeak: 2.4</br>slope: 1.0</br>thal: 0.0</br>_original_yhat_: 0.9742528447623608</br>"
          ],
          [
           "</br>id: 158</br>prediction: 0.958</br>ca: 2.28</br></br>age: 70.0</br>sex: 1.0</br>cp: 3.0</br>trestbps: 130.0</br>chol: 322.0</br>fbs: 0.0</br>restecg: 2.0</br>thalach: 109.0</br>exang: 0.0</br>oldpeak: 2.4</br>slope: 1.0</br>thal: 0.0</br>_original_yhat_: 0.9742528447623608</br>"
          ],
          [
           "</br>id: 158</br>prediction: 0.959</br>ca: 2.31</br></br>age: 70.0</br>sex: 1.0</br>cp: 3.0</br>trestbps: 130.0</br>chol: 322.0</br>fbs: 0.0</br>restecg: 2.0</br>thalach: 109.0</br>exang: 0.0</br>oldpeak: 2.4</br>slope: 1.0</br>thal: 0.0</br>_original_yhat_: 0.9742528447623608</br>"
          ],
          [
           "</br>id: 158</br>prediction: 0.96</br>ca: 2.34</br></br>age: 70.0</br>sex: 1.0</br>cp: 3.0</br>trestbps: 130.0</br>chol: 322.0</br>fbs: 0.0</br>restecg: 2.0</br>thalach: 109.0</br>exang: 0.0</br>oldpeak: 2.4</br>slope: 1.0</br>thal: 0.0</br>_original_yhat_: 0.9742528447623608</br>"
          ],
          [
           "</br>id: 158</br>prediction: 0.961</br>ca: 2.37</br></br>age: 70.0</br>sex: 1.0</br>cp: 3.0</br>trestbps: 130.0</br>chol: 322.0</br>fbs: 0.0</br>restecg: 2.0</br>thalach: 109.0</br>exang: 0.0</br>oldpeak: 2.4</br>slope: 1.0</br>thal: 0.0</br>_original_yhat_: 0.9742528447623608</br>"
          ],
          [
           "</br>id: 158</br>prediction: 0.961</br>ca: 2.4</br></br>age: 70.0</br>sex: 1.0</br>cp: 3.0</br>trestbps: 130.0</br>chol: 322.0</br>fbs: 0.0</br>restecg: 2.0</br>thalach: 109.0</br>exang: 0.0</br>oldpeak: 2.4</br>slope: 1.0</br>thal: 0.0</br>_original_yhat_: 0.9742528447623608</br>"
          ],
          [
           "</br>id: 158</br>prediction: 0.962</br>ca: 2.4299999999999997</br></br>age: 70.0</br>sex: 1.0</br>cp: 3.0</br>trestbps: 130.0</br>chol: 322.0</br>fbs: 0.0</br>restecg: 2.0</br>thalach: 109.0</br>exang: 0.0</br>oldpeak: 2.4</br>slope: 1.0</br>thal: 0.0</br>_original_yhat_: 0.9742528447623608</br>"
          ],
          [
           "</br>id: 158</br>prediction: 0.963</br>ca: 2.46</br></br>age: 70.0</br>sex: 1.0</br>cp: 3.0</br>trestbps: 130.0</br>chol: 322.0</br>fbs: 0.0</br>restecg: 2.0</br>thalach: 109.0</br>exang: 0.0</br>oldpeak: 2.4</br>slope: 1.0</br>thal: 0.0</br>_original_yhat_: 0.9742528447623608</br>"
          ],
          [
           "</br>id: 158</br>prediction: 0.964</br>ca: 2.4899999999999998</br></br>age: 70.0</br>sex: 1.0</br>cp: 3.0</br>trestbps: 130.0</br>chol: 322.0</br>fbs: 0.0</br>restecg: 2.0</br>thalach: 109.0</br>exang: 0.0</br>oldpeak: 2.4</br>slope: 1.0</br>thal: 0.0</br>_original_yhat_: 0.9742528447623608</br>"
          ],
          [
           "</br>id: 158</br>prediction: 0.964</br>ca: 2.52</br></br>age: 70.0</br>sex: 1.0</br>cp: 3.0</br>trestbps: 130.0</br>chol: 322.0</br>fbs: 0.0</br>restecg: 2.0</br>thalach: 109.0</br>exang: 0.0</br>oldpeak: 2.4</br>slope: 1.0</br>thal: 0.0</br>_original_yhat_: 0.9742528447623608</br>"
          ],
          [
           "</br>id: 158</br>prediction: 0.965</br>ca: 2.55</br></br>age: 70.0</br>sex: 1.0</br>cp: 3.0</br>trestbps: 130.0</br>chol: 322.0</br>fbs: 0.0</br>restecg: 2.0</br>thalach: 109.0</br>exang: 0.0</br>oldpeak: 2.4</br>slope: 1.0</br>thal: 0.0</br>_original_yhat_: 0.9742528447623608</br>"
          ],
          [
           "</br>id: 158</br>prediction: 0.966</br>ca: 2.58</br></br>age: 70.0</br>sex: 1.0</br>cp: 3.0</br>trestbps: 130.0</br>chol: 322.0</br>fbs: 0.0</br>restecg: 2.0</br>thalach: 109.0</br>exang: 0.0</br>oldpeak: 2.4</br>slope: 1.0</br>thal: 0.0</br>_original_yhat_: 0.9742528447623608</br>"
          ],
          [
           "</br>id: 158</br>prediction: 0.966</br>ca: 2.61</br></br>age: 70.0</br>sex: 1.0</br>cp: 3.0</br>trestbps: 130.0</br>chol: 322.0</br>fbs: 0.0</br>restecg: 2.0</br>thalach: 109.0</br>exang: 0.0</br>oldpeak: 2.4</br>slope: 1.0</br>thal: 0.0</br>_original_yhat_: 0.9742528447623608</br>"
          ],
          [
           "</br>id: 158</br>prediction: 0.967</br>ca: 2.6399999999999997</br></br>age: 70.0</br>sex: 1.0</br>cp: 3.0</br>trestbps: 130.0</br>chol: 322.0</br>fbs: 0.0</br>restecg: 2.0</br>thalach: 109.0</br>exang: 0.0</br>oldpeak: 2.4</br>slope: 1.0</br>thal: 0.0</br>_original_yhat_: 0.9742528447623608</br>"
          ],
          [
           "</br>id: 158</br>prediction: 0.968</br>ca: 2.67</br></br>age: 70.0</br>sex: 1.0</br>cp: 3.0</br>trestbps: 130.0</br>chol: 322.0</br>fbs: 0.0</br>restecg: 2.0</br>thalach: 109.0</br>exang: 0.0</br>oldpeak: 2.4</br>slope: 1.0</br>thal: 0.0</br>_original_yhat_: 0.9742528447623608</br>"
          ],
          [
           "</br>id: 158</br>prediction: 0.968</br>ca: 2.6999999999999997</br></br>age: 70.0</br>sex: 1.0</br>cp: 3.0</br>trestbps: 130.0</br>chol: 322.0</br>fbs: 0.0</br>restecg: 2.0</br>thalach: 109.0</br>exang: 0.0</br>oldpeak: 2.4</br>slope: 1.0</br>thal: 0.0</br>_original_yhat_: 0.9742528447623608</br>"
          ],
          [
           "</br>id: 158</br>prediction: 0.969</br>ca: 2.73</br></br>age: 70.0</br>sex: 1.0</br>cp: 3.0</br>trestbps: 130.0</br>chol: 322.0</br>fbs: 0.0</br>restecg: 2.0</br>thalach: 109.0</br>exang: 0.0</br>oldpeak: 2.4</br>slope: 1.0</br>thal: 0.0</br>_original_yhat_: 0.9742528447623608</br>"
          ],
          [
           "</br>id: 158</br>prediction: 0.97</br>ca: 2.76</br></br>age: 70.0</br>sex: 1.0</br>cp: 3.0</br>trestbps: 130.0</br>chol: 322.0</br>fbs: 0.0</br>restecg: 2.0</br>thalach: 109.0</br>exang: 0.0</br>oldpeak: 2.4</br>slope: 1.0</br>thal: 0.0</br>_original_yhat_: 0.9742528447623608</br>"
          ],
          [
           "</br>id: 158</br>prediction: 0.97</br>ca: 2.79</br></br>age: 70.0</br>sex: 1.0</br>cp: 3.0</br>trestbps: 130.0</br>chol: 322.0</br>fbs: 0.0</br>restecg: 2.0</br>thalach: 109.0</br>exang: 0.0</br>oldpeak: 2.4</br>slope: 1.0</br>thal: 0.0</br>_original_yhat_: 0.9742528447623608</br>"
          ],
          [
           "</br>id: 158</br>prediction: 0.971</br>ca: 2.82</br></br>age: 70.0</br>sex: 1.0</br>cp: 3.0</br>trestbps: 130.0</br>chol: 322.0</br>fbs: 0.0</br>restecg: 2.0</br>thalach: 109.0</br>exang: 0.0</br>oldpeak: 2.4</br>slope: 1.0</br>thal: 0.0</br>_original_yhat_: 0.9742528447623608</br>"
          ],
          [
           "</br>id: 158</br>prediction: 0.971</br>ca: 2.85</br></br>age: 70.0</br>sex: 1.0</br>cp: 3.0</br>trestbps: 130.0</br>chol: 322.0</br>fbs: 0.0</br>restecg: 2.0</br>thalach: 109.0</br>exang: 0.0</br>oldpeak: 2.4</br>slope: 1.0</br>thal: 0.0</br>_original_yhat_: 0.9742528447623608</br>"
          ],
          [
           "</br>id: 158</br>prediction: 0.972</br>ca: 2.88</br></br>age: 70.0</br>sex: 1.0</br>cp: 3.0</br>trestbps: 130.0</br>chol: 322.0</br>fbs: 0.0</br>restecg: 2.0</br>thalach: 109.0</br>exang: 0.0</br>oldpeak: 2.4</br>slope: 1.0</br>thal: 0.0</br>_original_yhat_: 0.9742528447623608</br>"
          ],
          [
           "</br>id: 158</br>prediction: 0.973</br>ca: 2.9099999999999997</br></br>age: 70.0</br>sex: 1.0</br>cp: 3.0</br>trestbps: 130.0</br>chol: 322.0</br>fbs: 0.0</br>restecg: 2.0</br>thalach: 109.0</br>exang: 0.0</br>oldpeak: 2.4</br>slope: 1.0</br>thal: 0.0</br>_original_yhat_: 0.9742528447623608</br>"
          ],
          [
           "</br>id: 158</br>prediction: 0.973</br>ca: 2.94</br></br>age: 70.0</br>sex: 1.0</br>cp: 3.0</br>trestbps: 130.0</br>chol: 322.0</br>fbs: 0.0</br>restecg: 2.0</br>thalach: 109.0</br>exang: 0.0</br>oldpeak: 2.4</br>slope: 1.0</br>thal: 0.0</br>_original_yhat_: 0.9742528447623608</br>"
          ],
          [
           "</br>id: 158</br>prediction: 0.974</br>ca: 2.9699999999999998</br></br>age: 70.0</br>sex: 1.0</br>cp: 3.0</br>trestbps: 130.0</br>chol: 322.0</br>fbs: 0.0</br>restecg: 2.0</br>thalach: 109.0</br>exang: 0.0</br>oldpeak: 2.4</br>slope: 1.0</br>thal: 0.0</br>_original_yhat_: 0.9742528447623608</br>"
          ],
          [
           "</br>id: 158</br>prediction: 0.974</br>ca: 3.0</br></br>age: 70.0</br>sex: 1.0</br>cp: 3.0</br>trestbps: 130.0</br>chol: 322.0</br>fbs: 0.0</br>restecg: 2.0</br>thalach: 109.0</br>exang: 0.0</br>oldpeak: 2.4</br>slope: 1.0</br>thal: 0.0</br>_original_yhat_: 0.9742528447623608</br>"
          ]
         ],
         "hovertemplate": "%{customdata[0]}<extra></extra>",
         "legendgroup": "RandomizedSearchCV",
         "line": {
          "color": "#46bac2",
          "dash": "solid",
          "width": 2
         },
         "marker": {
          "symbol": "circle"
         },
         "mode": "lines",
         "name": "RandomizedSearchCV",
         "opacity": 1,
         "showlegend": false,
         "type": "scattergl",
         "x": [
          0,
          0.03,
          0.06,
          0.09,
          0.12,
          0.15,
          0.18,
          0.21,
          0.24,
          0.27,
          0.3,
          0.32999999999999996,
          0.36,
          0.39,
          0.42,
          0.44999999999999996,
          0.48,
          0.51,
          0.54,
          0.57,
          0.6,
          0.63,
          0.6599999999999999,
          0.69,
          0.72,
          0.75,
          0.78,
          0.8099999999999999,
          0.84,
          0.87,
          0.8999999999999999,
          0.9299999999999999,
          0.96,
          0.99,
          1.02,
          1.05,
          1.08,
          1.1099999999999999,
          1.14,
          1.17,
          1.2,
          1.23,
          1.26,
          1.29,
          1.3199999999999998,
          1.3499999999999999,
          1.38,
          1.41,
          1.44,
          1.47,
          1.5,
          1.53,
          1.56,
          1.5899999999999999,
          1.6199999999999999,
          1.65,
          1.68,
          1.71,
          1.74,
          1.77,
          1.7999999999999998,
          1.8299999999999998,
          1.8599999999999999,
          1.89,
          1.92,
          1.95,
          1.98,
          2.01,
          2.04,
          2.07,
          2.1,
          2.13,
          2.16,
          2.19,
          2.2199999999999998,
          2.25,
          2.28,
          2.31,
          2.34,
          2.37,
          2.4,
          2.4299999999999997,
          2.46,
          2.4899999999999998,
          2.52,
          2.55,
          2.58,
          2.61,
          2.6399999999999997,
          2.67,
          2.6999999999999997,
          2.73,
          2.76,
          2.79,
          2.82,
          2.85,
          2.88,
          2.9099999999999997,
          2.94,
          2.9699999999999998,
          3
         ],
         "xaxis": "x4",
         "y": [
          0.8231468757917875,
          0.826176840254349,
          0.829165666948543,
          0.8321135451121352,
          0.8350206765670468,
          0.837887275238856,
          0.8407135666790918,
          0.8434997875909072,
          0.8462461853586921,
          0.8489530175821517,
          0.8516205516153461,
          0.8542490641111568,
          0.8568388405716125,
          0.8593901749044793,
          0.8619033689864886,
          0.8643787322335492,
          0.8668165811782614,
          0.8692172390550184,
          0.8715810353929633,
          0.8739083056170333,
          0.8761993906573035,
          0.8784546365668175,
          0.8806743941480664,
          0.8828590185882561,
          0.885008869103481,
          0.8871243085919007,
          0.8892057032959962,
          0.8912534224739638,
          0.8932678380802828,
          0.895249324455484,
          0.8971982580251165,
          0.8991150170079095,
          0.9009999811330976,
          0.9028535313668725,
          0.9046760496479103,
          0.9064679186319041,
          0.9082295214450312,
          0.9099612414462637,
          0.9116634619984273,
          0.9133365662479015,
          0.9149809369128459,
          0.9165969560798316,
          0.9181850050087463,
          0.9197454639458387,
          0.9212787119447595,
          0.9227851266954524,
          0.9242650843607432,
          0.9257189594204727,
          0.9271471245230124,
          0.9285499503440031,
          0.9299278054521485,
          0.9312810561819018,
          0.9326100665128719,
          0.9339151979557843,
          0.9351968094448221,
          0.9364552572361797,
          0.937690894812656,
          0.938904072794117,
          0.9400951388536568,
          0.9412644376392901,
          0.9424123107010018,
          0.9435390964229945,
          0.9446451299609592,
          0.945730743184213,
          0.9467962646225362,
          0.9478420194175505,
          0.9488683292784806,
          0.9498755124421432,
          0.9508638836370091,
          0.9518337540511898,
          0.9527854313041996,
          0.9537192194223475,
          0.9546354188176179,
          0.9555343262698996,
          0.9564162349124282,
          0.9572814342203062,
          0.9581302100019734,
          0.9589628443934984,
          0.959779615855568,
          0.9605807991730527,
          0.9613666654570326,
          0.9621374821491664,
          0.9628935130282947,
          0.9636350182191658,
          0.964362254203183,
          0.9650754738310687,
          0.9657749263373444,
          0.9664608573565365,
          0.9671335089410066,
          0.9677931195803244,
          0.9684399242220902,
          0.9690741542941254,
          0.9696960377279475,
          0.9703057989834543,
          0.9709036590747377,
          0.9714898355969561,
          0.9720645427541925,
          0.9726279913882343,
          0.9731803890082038,
          0.9737219398209825,
          0.9742528447623608
         ],
         "yaxis": "y4"
        },
        {
         "customdata": [
          [
           "</br>id: 158</br>prediction: 0.974</br>thal: 0.0</br></br>age: 70.0</br>sex: 1.0</br>cp: 3.0</br>trestbps: 130.0</br>chol: 322.0</br>fbs: 0.0</br>restecg: 2.0</br>thalach: 109.0</br>exang: 0.0</br>oldpeak: 2.4</br>slope: 1.0</br>ca: 3.0</br>_original_yhat_: 0.9742528447623608</br>"
          ],
          [
           "</br>id: 158</br>prediction: 0.975</br>thal: 0.02</br></br>age: 70.0</br>sex: 1.0</br>cp: 3.0</br>trestbps: 130.0</br>chol: 322.0</br>fbs: 0.0</br>restecg: 2.0</br>thalach: 109.0</br>exang: 0.0</br>oldpeak: 2.4</br>slope: 1.0</br>ca: 3.0</br>_original_yhat_: 0.9742528447623608</br>"
          ],
          [
           "</br>id: 158</br>prediction: 0.975</br>thal: 0.04</br></br>age: 70.0</br>sex: 1.0</br>cp: 3.0</br>trestbps: 130.0</br>chol: 322.0</br>fbs: 0.0</br>restecg: 2.0</br>thalach: 109.0</br>exang: 0.0</br>oldpeak: 2.4</br>slope: 1.0</br>ca: 3.0</br>_original_yhat_: 0.9742528447623608</br>"
          ],
          [
           "</br>id: 158</br>prediction: 0.975</br>thal: 0.06</br></br>age: 70.0</br>sex: 1.0</br>cp: 3.0</br>trestbps: 130.0</br>chol: 322.0</br>fbs: 0.0</br>restecg: 2.0</br>thalach: 109.0</br>exang: 0.0</br>oldpeak: 2.4</br>slope: 1.0</br>ca: 3.0</br>_original_yhat_: 0.9742528447623608</br>"
          ],
          [
           "</br>id: 158</br>prediction: 0.976</br>thal: 0.08</br></br>age: 70.0</br>sex: 1.0</br>cp: 3.0</br>trestbps: 130.0</br>chol: 322.0</br>fbs: 0.0</br>restecg: 2.0</br>thalach: 109.0</br>exang: 0.0</br>oldpeak: 2.4</br>slope: 1.0</br>ca: 3.0</br>_original_yhat_: 0.9742528447623608</br>"
          ],
          [
           "</br>id: 158</br>prediction: 0.976</br>thal: 0.1</br></br>age: 70.0</br>sex: 1.0</br>cp: 3.0</br>trestbps: 130.0</br>chol: 322.0</br>fbs: 0.0</br>restecg: 2.0</br>thalach: 109.0</br>exang: 0.0</br>oldpeak: 2.4</br>slope: 1.0</br>ca: 3.0</br>_original_yhat_: 0.9742528447623608</br>"
          ],
          [
           "</br>id: 158</br>prediction: 0.976</br>thal: 0.12</br></br>age: 70.0</br>sex: 1.0</br>cp: 3.0</br>trestbps: 130.0</br>chol: 322.0</br>fbs: 0.0</br>restecg: 2.0</br>thalach: 109.0</br>exang: 0.0</br>oldpeak: 2.4</br>slope: 1.0</br>ca: 3.0</br>_original_yhat_: 0.9742528447623608</br>"
          ],
          [
           "</br>id: 158</br>prediction: 0.977</br>thal: 0.14</br></br>age: 70.0</br>sex: 1.0</br>cp: 3.0</br>trestbps: 130.0</br>chol: 322.0</br>fbs: 0.0</br>restecg: 2.0</br>thalach: 109.0</br>exang: 0.0</br>oldpeak: 2.4</br>slope: 1.0</br>ca: 3.0</br>_original_yhat_: 0.9742528447623608</br>"
          ],
          [
           "</br>id: 158</br>prediction: 0.977</br>thal: 0.16</br></br>age: 70.0</br>sex: 1.0</br>cp: 3.0</br>trestbps: 130.0</br>chol: 322.0</br>fbs: 0.0</br>restecg: 2.0</br>thalach: 109.0</br>exang: 0.0</br>oldpeak: 2.4</br>slope: 1.0</br>ca: 3.0</br>_original_yhat_: 0.9742528447623608</br>"
          ],
          [
           "</br>id: 158</br>prediction: 0.977</br>thal: 0.18</br></br>age: 70.0</br>sex: 1.0</br>cp: 3.0</br>trestbps: 130.0</br>chol: 322.0</br>fbs: 0.0</br>restecg: 2.0</br>thalach: 109.0</br>exang: 0.0</br>oldpeak: 2.4</br>slope: 1.0</br>ca: 3.0</br>_original_yhat_: 0.9742528447623608</br>"
          ],
          [
           "</br>id: 158</br>prediction: 0.977</br>thal: 0.2</br></br>age: 70.0</br>sex: 1.0</br>cp: 3.0</br>trestbps: 130.0</br>chol: 322.0</br>fbs: 0.0</br>restecg: 2.0</br>thalach: 109.0</br>exang: 0.0</br>oldpeak: 2.4</br>slope: 1.0</br>ca: 3.0</br>_original_yhat_: 0.9742528447623608</br>"
          ],
          [
           "</br>id: 158</br>prediction: 0.978</br>thal: 0.22</br></br>age: 70.0</br>sex: 1.0</br>cp: 3.0</br>trestbps: 130.0</br>chol: 322.0</br>fbs: 0.0</br>restecg: 2.0</br>thalach: 109.0</br>exang: 0.0</br>oldpeak: 2.4</br>slope: 1.0</br>ca: 3.0</br>_original_yhat_: 0.9742528447623608</br>"
          ],
          [
           "</br>id: 158</br>prediction: 0.978</br>thal: 0.24</br></br>age: 70.0</br>sex: 1.0</br>cp: 3.0</br>trestbps: 130.0</br>chol: 322.0</br>fbs: 0.0</br>restecg: 2.0</br>thalach: 109.0</br>exang: 0.0</br>oldpeak: 2.4</br>slope: 1.0</br>ca: 3.0</br>_original_yhat_: 0.9742528447623608</br>"
          ],
          [
           "</br>id: 158</br>prediction: 0.978</br>thal: 0.26</br></br>age: 70.0</br>sex: 1.0</br>cp: 3.0</br>trestbps: 130.0</br>chol: 322.0</br>fbs: 0.0</br>restecg: 2.0</br>thalach: 109.0</br>exang: 0.0</br>oldpeak: 2.4</br>slope: 1.0</br>ca: 3.0</br>_original_yhat_: 0.9742528447623608</br>"
          ],
          [
           "</br>id: 158</br>prediction: 0.979</br>thal: 0.28</br></br>age: 70.0</br>sex: 1.0</br>cp: 3.0</br>trestbps: 130.0</br>chol: 322.0</br>fbs: 0.0</br>restecg: 2.0</br>thalach: 109.0</br>exang: 0.0</br>oldpeak: 2.4</br>slope: 1.0</br>ca: 3.0</br>_original_yhat_: 0.9742528447623608</br>"
          ],
          [
           "</br>id: 158</br>prediction: 0.979</br>thal: 0.3</br></br>age: 70.0</br>sex: 1.0</br>cp: 3.0</br>trestbps: 130.0</br>chol: 322.0</br>fbs: 0.0</br>restecg: 2.0</br>thalach: 109.0</br>exang: 0.0</br>oldpeak: 2.4</br>slope: 1.0</br>ca: 3.0</br>_original_yhat_: 0.9742528447623608</br>"
          ],
          [
           "</br>id: 158</br>prediction: 0.979</br>thal: 0.32</br></br>age: 70.0</br>sex: 1.0</br>cp: 3.0</br>trestbps: 130.0</br>chol: 322.0</br>fbs: 0.0</br>restecg: 2.0</br>thalach: 109.0</br>exang: 0.0</br>oldpeak: 2.4</br>slope: 1.0</br>ca: 3.0</br>_original_yhat_: 0.9742528447623608</br>"
          ],
          [
           "</br>id: 158</br>prediction: 0.979</br>thal: 0.34</br></br>age: 70.0</br>sex: 1.0</br>cp: 3.0</br>trestbps: 130.0</br>chol: 322.0</br>fbs: 0.0</br>restecg: 2.0</br>thalach: 109.0</br>exang: 0.0</br>oldpeak: 2.4</br>slope: 1.0</br>ca: 3.0</br>_original_yhat_: 0.9742528447623608</br>"
          ],
          [
           "</br>id: 158</br>prediction: 0.98</br>thal: 0.36</br></br>age: 70.0</br>sex: 1.0</br>cp: 3.0</br>trestbps: 130.0</br>chol: 322.0</br>fbs: 0.0</br>restecg: 2.0</br>thalach: 109.0</br>exang: 0.0</br>oldpeak: 2.4</br>slope: 1.0</br>ca: 3.0</br>_original_yhat_: 0.9742528447623608</br>"
          ],
          [
           "</br>id: 158</br>prediction: 0.98</br>thal: 0.38</br></br>age: 70.0</br>sex: 1.0</br>cp: 3.0</br>trestbps: 130.0</br>chol: 322.0</br>fbs: 0.0</br>restecg: 2.0</br>thalach: 109.0</br>exang: 0.0</br>oldpeak: 2.4</br>slope: 1.0</br>ca: 3.0</br>_original_yhat_: 0.9742528447623608</br>"
          ],
          [
           "</br>id: 158</br>prediction: 0.98</br>thal: 0.4</br></br>age: 70.0</br>sex: 1.0</br>cp: 3.0</br>trestbps: 130.0</br>chol: 322.0</br>fbs: 0.0</br>restecg: 2.0</br>thalach: 109.0</br>exang: 0.0</br>oldpeak: 2.4</br>slope: 1.0</br>ca: 3.0</br>_original_yhat_: 0.9742528447623608</br>"
          ],
          [
           "</br>id: 158</br>prediction: 0.98</br>thal: 0.42</br></br>age: 70.0</br>sex: 1.0</br>cp: 3.0</br>trestbps: 130.0</br>chol: 322.0</br>fbs: 0.0</br>restecg: 2.0</br>thalach: 109.0</br>exang: 0.0</br>oldpeak: 2.4</br>slope: 1.0</br>ca: 3.0</br>_original_yhat_: 0.9742528447623608</br>"
          ],
          [
           "</br>id: 158</br>prediction: 0.981</br>thal: 0.44</br></br>age: 70.0</br>sex: 1.0</br>cp: 3.0</br>trestbps: 130.0</br>chol: 322.0</br>fbs: 0.0</br>restecg: 2.0</br>thalach: 109.0</br>exang: 0.0</br>oldpeak: 2.4</br>slope: 1.0</br>ca: 3.0</br>_original_yhat_: 0.9742528447623608</br>"
          ],
          [
           "</br>id: 158</br>prediction: 0.981</br>thal: 0.46</br></br>age: 70.0</br>sex: 1.0</br>cp: 3.0</br>trestbps: 130.0</br>chol: 322.0</br>fbs: 0.0</br>restecg: 2.0</br>thalach: 109.0</br>exang: 0.0</br>oldpeak: 2.4</br>slope: 1.0</br>ca: 3.0</br>_original_yhat_: 0.9742528447623608</br>"
          ],
          [
           "</br>id: 158</br>prediction: 0.981</br>thal: 0.48</br></br>age: 70.0</br>sex: 1.0</br>cp: 3.0</br>trestbps: 130.0</br>chol: 322.0</br>fbs: 0.0</br>restecg: 2.0</br>thalach: 109.0</br>exang: 0.0</br>oldpeak: 2.4</br>slope: 1.0</br>ca: 3.0</br>_original_yhat_: 0.9742528447623608</br>"
          ],
          [
           "</br>id: 158</br>prediction: 0.981</br>thal: 0.5</br></br>age: 70.0</br>sex: 1.0</br>cp: 3.0</br>trestbps: 130.0</br>chol: 322.0</br>fbs: 0.0</br>restecg: 2.0</br>thalach: 109.0</br>exang: 0.0</br>oldpeak: 2.4</br>slope: 1.0</br>ca: 3.0</br>_original_yhat_: 0.9742528447623608</br>"
          ],
          [
           "</br>id: 158</br>prediction: 0.982</br>thal: 0.52</br></br>age: 70.0</br>sex: 1.0</br>cp: 3.0</br>trestbps: 130.0</br>chol: 322.0</br>fbs: 0.0</br>restecg: 2.0</br>thalach: 109.0</br>exang: 0.0</br>oldpeak: 2.4</br>slope: 1.0</br>ca: 3.0</br>_original_yhat_: 0.9742528447623608</br>"
          ],
          [
           "</br>id: 158</br>prediction: 0.982</br>thal: 0.54</br></br>age: 70.0</br>sex: 1.0</br>cp: 3.0</br>trestbps: 130.0</br>chol: 322.0</br>fbs: 0.0</br>restecg: 2.0</br>thalach: 109.0</br>exang: 0.0</br>oldpeak: 2.4</br>slope: 1.0</br>ca: 3.0</br>_original_yhat_: 0.9742528447623608</br>"
          ],
          [
           "</br>id: 158</br>prediction: 0.982</br>thal: 0.56</br></br>age: 70.0</br>sex: 1.0</br>cp: 3.0</br>trestbps: 130.0</br>chol: 322.0</br>fbs: 0.0</br>restecg: 2.0</br>thalach: 109.0</br>exang: 0.0</br>oldpeak: 2.4</br>slope: 1.0</br>ca: 3.0</br>_original_yhat_: 0.9742528447623608</br>"
          ],
          [
           "</br>id: 158</br>prediction: 0.982</br>thal: 0.58</br></br>age: 70.0</br>sex: 1.0</br>cp: 3.0</br>trestbps: 130.0</br>chol: 322.0</br>fbs: 0.0</br>restecg: 2.0</br>thalach: 109.0</br>exang: 0.0</br>oldpeak: 2.4</br>slope: 1.0</br>ca: 3.0</br>_original_yhat_: 0.9742528447623608</br>"
          ],
          [
           "</br>id: 158</br>prediction: 0.983</br>thal: 0.6</br></br>age: 70.0</br>sex: 1.0</br>cp: 3.0</br>trestbps: 130.0</br>chol: 322.0</br>fbs: 0.0</br>restecg: 2.0</br>thalach: 109.0</br>exang: 0.0</br>oldpeak: 2.4</br>slope: 1.0</br>ca: 3.0</br>_original_yhat_: 0.9742528447623608</br>"
          ],
          [
           "</br>id: 158</br>prediction: 0.983</br>thal: 0.62</br></br>age: 70.0</br>sex: 1.0</br>cp: 3.0</br>trestbps: 130.0</br>chol: 322.0</br>fbs: 0.0</br>restecg: 2.0</br>thalach: 109.0</br>exang: 0.0</br>oldpeak: 2.4</br>slope: 1.0</br>ca: 3.0</br>_original_yhat_: 0.9742528447623608</br>"
          ],
          [
           "</br>id: 158</br>prediction: 0.983</br>thal: 0.64</br></br>age: 70.0</br>sex: 1.0</br>cp: 3.0</br>trestbps: 130.0</br>chol: 322.0</br>fbs: 0.0</br>restecg: 2.0</br>thalach: 109.0</br>exang: 0.0</br>oldpeak: 2.4</br>slope: 1.0</br>ca: 3.0</br>_original_yhat_: 0.9742528447623608</br>"
          ],
          [
           "</br>id: 158</br>prediction: 0.983</br>thal: 0.66</br></br>age: 70.0</br>sex: 1.0</br>cp: 3.0</br>trestbps: 130.0</br>chol: 322.0</br>fbs: 0.0</br>restecg: 2.0</br>thalach: 109.0</br>exang: 0.0</br>oldpeak: 2.4</br>slope: 1.0</br>ca: 3.0</br>_original_yhat_: 0.9742528447623608</br>"
          ],
          [
           "</br>id: 158</br>prediction: 0.984</br>thal: 0.68</br></br>age: 70.0</br>sex: 1.0</br>cp: 3.0</br>trestbps: 130.0</br>chol: 322.0</br>fbs: 0.0</br>restecg: 2.0</br>thalach: 109.0</br>exang: 0.0</br>oldpeak: 2.4</br>slope: 1.0</br>ca: 3.0</br>_original_yhat_: 0.9742528447623608</br>"
          ],
          [
           "</br>id: 158</br>prediction: 0.984</br>thal: 0.7000000000000001</br></br>age: 70.0</br>sex: 1.0</br>cp: 3.0</br>trestbps: 130.0</br>chol: 322.0</br>fbs: 0.0</br>restecg: 2.0</br>thalach: 109.0</br>exang: 0.0</br>oldpeak: 2.4</br>slope: 1.0</br>ca: 3.0</br>_original_yhat_: 0.9742528447623608</br>"
          ],
          [
           "</br>id: 158</br>prediction: 0.984</br>thal: 0.72</br></br>age: 70.0</br>sex: 1.0</br>cp: 3.0</br>trestbps: 130.0</br>chol: 322.0</br>fbs: 0.0</br>restecg: 2.0</br>thalach: 109.0</br>exang: 0.0</br>oldpeak: 2.4</br>slope: 1.0</br>ca: 3.0</br>_original_yhat_: 0.9742528447623608</br>"
          ],
          [
           "</br>id: 158</br>prediction: 0.984</br>thal: 0.74</br></br>age: 70.0</br>sex: 1.0</br>cp: 3.0</br>trestbps: 130.0</br>chol: 322.0</br>fbs: 0.0</br>restecg: 2.0</br>thalach: 109.0</br>exang: 0.0</br>oldpeak: 2.4</br>slope: 1.0</br>ca: 3.0</br>_original_yhat_: 0.9742528447623608</br>"
          ],
          [
           "</br>id: 158</br>prediction: 0.984</br>thal: 0.76</br></br>age: 70.0</br>sex: 1.0</br>cp: 3.0</br>trestbps: 130.0</br>chol: 322.0</br>fbs: 0.0</br>restecg: 2.0</br>thalach: 109.0</br>exang: 0.0</br>oldpeak: 2.4</br>slope: 1.0</br>ca: 3.0</br>_original_yhat_: 0.9742528447623608</br>"
          ],
          [
           "</br>id: 158</br>prediction: 0.985</br>thal: 0.78</br></br>age: 70.0</br>sex: 1.0</br>cp: 3.0</br>trestbps: 130.0</br>chol: 322.0</br>fbs: 0.0</br>restecg: 2.0</br>thalach: 109.0</br>exang: 0.0</br>oldpeak: 2.4</br>slope: 1.0</br>ca: 3.0</br>_original_yhat_: 0.9742528447623608</br>"
          ],
          [
           "</br>id: 158</br>prediction: 0.985</br>thal: 0.8</br></br>age: 70.0</br>sex: 1.0</br>cp: 3.0</br>trestbps: 130.0</br>chol: 322.0</br>fbs: 0.0</br>restecg: 2.0</br>thalach: 109.0</br>exang: 0.0</br>oldpeak: 2.4</br>slope: 1.0</br>ca: 3.0</br>_original_yhat_: 0.9742528447623608</br>"
          ],
          [
           "</br>id: 158</br>prediction: 0.985</br>thal: 0.8200000000000001</br></br>age: 70.0</br>sex: 1.0</br>cp: 3.0</br>trestbps: 130.0</br>chol: 322.0</br>fbs: 0.0</br>restecg: 2.0</br>thalach: 109.0</br>exang: 0.0</br>oldpeak: 2.4</br>slope: 1.0</br>ca: 3.0</br>_original_yhat_: 0.9742528447623608</br>"
          ],
          [
           "</br>id: 158</br>prediction: 0.985</br>thal: 0.84</br></br>age: 70.0</br>sex: 1.0</br>cp: 3.0</br>trestbps: 130.0</br>chol: 322.0</br>fbs: 0.0</br>restecg: 2.0</br>thalach: 109.0</br>exang: 0.0</br>oldpeak: 2.4</br>slope: 1.0</br>ca: 3.0</br>_original_yhat_: 0.9742528447623608</br>"
          ],
          [
           "</br>id: 158</br>prediction: 0.985</br>thal: 0.86</br></br>age: 70.0</br>sex: 1.0</br>cp: 3.0</br>trestbps: 130.0</br>chol: 322.0</br>fbs: 0.0</br>restecg: 2.0</br>thalach: 109.0</br>exang: 0.0</br>oldpeak: 2.4</br>slope: 1.0</br>ca: 3.0</br>_original_yhat_: 0.9742528447623608</br>"
          ],
          [
           "</br>id: 158</br>prediction: 0.986</br>thal: 0.88</br></br>age: 70.0</br>sex: 1.0</br>cp: 3.0</br>trestbps: 130.0</br>chol: 322.0</br>fbs: 0.0</br>restecg: 2.0</br>thalach: 109.0</br>exang: 0.0</br>oldpeak: 2.4</br>slope: 1.0</br>ca: 3.0</br>_original_yhat_: 0.9742528447623608</br>"
          ],
          [
           "</br>id: 158</br>prediction: 0.986</br>thal: 0.9</br></br>age: 70.0</br>sex: 1.0</br>cp: 3.0</br>trestbps: 130.0</br>chol: 322.0</br>fbs: 0.0</br>restecg: 2.0</br>thalach: 109.0</br>exang: 0.0</br>oldpeak: 2.4</br>slope: 1.0</br>ca: 3.0</br>_original_yhat_: 0.9742528447623608</br>"
          ],
          [
           "</br>id: 158</br>prediction: 0.986</br>thal: 0.92</br></br>age: 70.0</br>sex: 1.0</br>cp: 3.0</br>trestbps: 130.0</br>chol: 322.0</br>fbs: 0.0</br>restecg: 2.0</br>thalach: 109.0</br>exang: 0.0</br>oldpeak: 2.4</br>slope: 1.0</br>ca: 3.0</br>_original_yhat_: 0.9742528447623608</br>"
          ],
          [
           "</br>id: 158</br>prediction: 0.986</br>thal: 0.9400000000000001</br></br>age: 70.0</br>sex: 1.0</br>cp: 3.0</br>trestbps: 130.0</br>chol: 322.0</br>fbs: 0.0</br>restecg: 2.0</br>thalach: 109.0</br>exang: 0.0</br>oldpeak: 2.4</br>slope: 1.0</br>ca: 3.0</br>_original_yhat_: 0.9742528447623608</br>"
          ],
          [
           "</br>id: 158</br>prediction: 0.986</br>thal: 0.96</br></br>age: 70.0</br>sex: 1.0</br>cp: 3.0</br>trestbps: 130.0</br>chol: 322.0</br>fbs: 0.0</br>restecg: 2.0</br>thalach: 109.0</br>exang: 0.0</br>oldpeak: 2.4</br>slope: 1.0</br>ca: 3.0</br>_original_yhat_: 0.9742528447623608</br>"
          ],
          [
           "</br>id: 158</br>prediction: 0.987</br>thal: 0.98</br></br>age: 70.0</br>sex: 1.0</br>cp: 3.0</br>trestbps: 130.0</br>chol: 322.0</br>fbs: 0.0</br>restecg: 2.0</br>thalach: 109.0</br>exang: 0.0</br>oldpeak: 2.4</br>slope: 1.0</br>ca: 3.0</br>_original_yhat_: 0.9742528447623608</br>"
          ],
          [
           "</br>id: 158</br>prediction: 0.987</br>thal: 1.0</br></br>age: 70.0</br>sex: 1.0</br>cp: 3.0</br>trestbps: 130.0</br>chol: 322.0</br>fbs: 0.0</br>restecg: 2.0</br>thalach: 109.0</br>exang: 0.0</br>oldpeak: 2.4</br>slope: 1.0</br>ca: 3.0</br>_original_yhat_: 0.9742528447623608</br>"
          ],
          [
           "</br>id: 158</br>prediction: 0.987</br>thal: 1.02</br></br>age: 70.0</br>sex: 1.0</br>cp: 3.0</br>trestbps: 130.0</br>chol: 322.0</br>fbs: 0.0</br>restecg: 2.0</br>thalach: 109.0</br>exang: 0.0</br>oldpeak: 2.4</br>slope: 1.0</br>ca: 3.0</br>_original_yhat_: 0.9742528447623608</br>"
          ],
          [
           "</br>id: 158</br>prediction: 0.987</br>thal: 1.04</br></br>age: 70.0</br>sex: 1.0</br>cp: 3.0</br>trestbps: 130.0</br>chol: 322.0</br>fbs: 0.0</br>restecg: 2.0</br>thalach: 109.0</br>exang: 0.0</br>oldpeak: 2.4</br>slope: 1.0</br>ca: 3.0</br>_original_yhat_: 0.9742528447623608</br>"
          ],
          [
           "</br>id: 158</br>prediction: 0.987</br>thal: 1.06</br></br>age: 70.0</br>sex: 1.0</br>cp: 3.0</br>trestbps: 130.0</br>chol: 322.0</br>fbs: 0.0</br>restecg: 2.0</br>thalach: 109.0</br>exang: 0.0</br>oldpeak: 2.4</br>slope: 1.0</br>ca: 3.0</br>_original_yhat_: 0.9742528447623608</br>"
          ],
          [
           "</br>id: 158</br>prediction: 0.987</br>thal: 1.08</br></br>age: 70.0</br>sex: 1.0</br>cp: 3.0</br>trestbps: 130.0</br>chol: 322.0</br>fbs: 0.0</br>restecg: 2.0</br>thalach: 109.0</br>exang: 0.0</br>oldpeak: 2.4</br>slope: 1.0</br>ca: 3.0</br>_original_yhat_: 0.9742528447623608</br>"
          ],
          [
           "</br>id: 158</br>prediction: 0.988</br>thal: 1.1</br></br>age: 70.0</br>sex: 1.0</br>cp: 3.0</br>trestbps: 130.0</br>chol: 322.0</br>fbs: 0.0</br>restecg: 2.0</br>thalach: 109.0</br>exang: 0.0</br>oldpeak: 2.4</br>slope: 1.0</br>ca: 3.0</br>_original_yhat_: 0.9742528447623608</br>"
          ],
          [
           "</br>id: 158</br>prediction: 0.988</br>thal: 1.12</br></br>age: 70.0</br>sex: 1.0</br>cp: 3.0</br>trestbps: 130.0</br>chol: 322.0</br>fbs: 0.0</br>restecg: 2.0</br>thalach: 109.0</br>exang: 0.0</br>oldpeak: 2.4</br>slope: 1.0</br>ca: 3.0</br>_original_yhat_: 0.9742528447623608</br>"
          ],
          [
           "</br>id: 158</br>prediction: 0.988</br>thal: 1.1400000000000001</br></br>age: 70.0</br>sex: 1.0</br>cp: 3.0</br>trestbps: 130.0</br>chol: 322.0</br>fbs: 0.0</br>restecg: 2.0</br>thalach: 109.0</br>exang: 0.0</br>oldpeak: 2.4</br>slope: 1.0</br>ca: 3.0</br>_original_yhat_: 0.9742528447623608</br>"
          ],
          [
           "</br>id: 158</br>prediction: 0.988</br>thal: 1.16</br></br>age: 70.0</br>sex: 1.0</br>cp: 3.0</br>trestbps: 130.0</br>chol: 322.0</br>fbs: 0.0</br>restecg: 2.0</br>thalach: 109.0</br>exang: 0.0</br>oldpeak: 2.4</br>slope: 1.0</br>ca: 3.0</br>_original_yhat_: 0.9742528447623608</br>"
          ],
          [
           "</br>id: 158</br>prediction: 0.988</br>thal: 1.18</br></br>age: 70.0</br>sex: 1.0</br>cp: 3.0</br>trestbps: 130.0</br>chol: 322.0</br>fbs: 0.0</br>restecg: 2.0</br>thalach: 109.0</br>exang: 0.0</br>oldpeak: 2.4</br>slope: 1.0</br>ca: 3.0</br>_original_yhat_: 0.9742528447623608</br>"
          ],
          [
           "</br>id: 158</br>prediction: 0.988</br>thal: 1.2</br></br>age: 70.0</br>sex: 1.0</br>cp: 3.0</br>trestbps: 130.0</br>chol: 322.0</br>fbs: 0.0</br>restecg: 2.0</br>thalach: 109.0</br>exang: 0.0</br>oldpeak: 2.4</br>slope: 1.0</br>ca: 3.0</br>_original_yhat_: 0.9742528447623608</br>"
          ],
          [
           "</br>id: 158</br>prediction: 0.989</br>thal: 1.22</br></br>age: 70.0</br>sex: 1.0</br>cp: 3.0</br>trestbps: 130.0</br>chol: 322.0</br>fbs: 0.0</br>restecg: 2.0</br>thalach: 109.0</br>exang: 0.0</br>oldpeak: 2.4</br>slope: 1.0</br>ca: 3.0</br>_original_yhat_: 0.9742528447623608</br>"
          ],
          [
           "</br>id: 158</br>prediction: 0.989</br>thal: 1.24</br></br>age: 70.0</br>sex: 1.0</br>cp: 3.0</br>trestbps: 130.0</br>chol: 322.0</br>fbs: 0.0</br>restecg: 2.0</br>thalach: 109.0</br>exang: 0.0</br>oldpeak: 2.4</br>slope: 1.0</br>ca: 3.0</br>_original_yhat_: 0.9742528447623608</br>"
          ],
          [
           "</br>id: 158</br>prediction: 0.989</br>thal: 1.26</br></br>age: 70.0</br>sex: 1.0</br>cp: 3.0</br>trestbps: 130.0</br>chol: 322.0</br>fbs: 0.0</br>restecg: 2.0</br>thalach: 109.0</br>exang: 0.0</br>oldpeak: 2.4</br>slope: 1.0</br>ca: 3.0</br>_original_yhat_: 0.9742528447623608</br>"
          ],
          [
           "</br>id: 158</br>prediction: 0.989</br>thal: 1.28</br></br>age: 70.0</br>sex: 1.0</br>cp: 3.0</br>trestbps: 130.0</br>chol: 322.0</br>fbs: 0.0</br>restecg: 2.0</br>thalach: 109.0</br>exang: 0.0</br>oldpeak: 2.4</br>slope: 1.0</br>ca: 3.0</br>_original_yhat_: 0.9742528447623608</br>"
          ],
          [
           "</br>id: 158</br>prediction: 0.989</br>thal: 1.3</br></br>age: 70.0</br>sex: 1.0</br>cp: 3.0</br>trestbps: 130.0</br>chol: 322.0</br>fbs: 0.0</br>restecg: 2.0</br>thalach: 109.0</br>exang: 0.0</br>oldpeak: 2.4</br>slope: 1.0</br>ca: 3.0</br>_original_yhat_: 0.9742528447623608</br>"
          ],
          [
           "</br>id: 158</br>prediction: 0.989</br>thal: 1.32</br></br>age: 70.0</br>sex: 1.0</br>cp: 3.0</br>trestbps: 130.0</br>chol: 322.0</br>fbs: 0.0</br>restecg: 2.0</br>thalach: 109.0</br>exang: 0.0</br>oldpeak: 2.4</br>slope: 1.0</br>ca: 3.0</br>_original_yhat_: 0.9742528447623608</br>"
          ],
          [
           "</br>id: 158</br>prediction: 0.989</br>thal: 1.34</br></br>age: 70.0</br>sex: 1.0</br>cp: 3.0</br>trestbps: 130.0</br>chol: 322.0</br>fbs: 0.0</br>restecg: 2.0</br>thalach: 109.0</br>exang: 0.0</br>oldpeak: 2.4</br>slope: 1.0</br>ca: 3.0</br>_original_yhat_: 0.9742528447623608</br>"
          ],
          [
           "</br>id: 158</br>prediction: 0.99</br>thal: 1.36</br></br>age: 70.0</br>sex: 1.0</br>cp: 3.0</br>trestbps: 130.0</br>chol: 322.0</br>fbs: 0.0</br>restecg: 2.0</br>thalach: 109.0</br>exang: 0.0</br>oldpeak: 2.4</br>slope: 1.0</br>ca: 3.0</br>_original_yhat_: 0.9742528447623608</br>"
          ],
          [
           "</br>id: 158</br>prediction: 0.99</br>thal: 1.3800000000000001</br></br>age: 70.0</br>sex: 1.0</br>cp: 3.0</br>trestbps: 130.0</br>chol: 322.0</br>fbs: 0.0</br>restecg: 2.0</br>thalach: 109.0</br>exang: 0.0</br>oldpeak: 2.4</br>slope: 1.0</br>ca: 3.0</br>_original_yhat_: 0.9742528447623608</br>"
          ],
          [
           "</br>id: 158</br>prediction: 0.99</br>thal: 1.4000000000000001</br></br>age: 70.0</br>sex: 1.0</br>cp: 3.0</br>trestbps: 130.0</br>chol: 322.0</br>fbs: 0.0</br>restecg: 2.0</br>thalach: 109.0</br>exang: 0.0</br>oldpeak: 2.4</br>slope: 1.0</br>ca: 3.0</br>_original_yhat_: 0.9742528447623608</br>"
          ],
          [
           "</br>id: 158</br>prediction: 0.99</br>thal: 1.42</br></br>age: 70.0</br>sex: 1.0</br>cp: 3.0</br>trestbps: 130.0</br>chol: 322.0</br>fbs: 0.0</br>restecg: 2.0</br>thalach: 109.0</br>exang: 0.0</br>oldpeak: 2.4</br>slope: 1.0</br>ca: 3.0</br>_original_yhat_: 0.9742528447623608</br>"
          ],
          [
           "</br>id: 158</br>prediction: 0.99</br>thal: 1.44</br></br>age: 70.0</br>sex: 1.0</br>cp: 3.0</br>trestbps: 130.0</br>chol: 322.0</br>fbs: 0.0</br>restecg: 2.0</br>thalach: 109.0</br>exang: 0.0</br>oldpeak: 2.4</br>slope: 1.0</br>ca: 3.0</br>_original_yhat_: 0.9742528447623608</br>"
          ],
          [
           "</br>id: 158</br>prediction: 0.99</br>thal: 1.46</br></br>age: 70.0</br>sex: 1.0</br>cp: 3.0</br>trestbps: 130.0</br>chol: 322.0</br>fbs: 0.0</br>restecg: 2.0</br>thalach: 109.0</br>exang: 0.0</br>oldpeak: 2.4</br>slope: 1.0</br>ca: 3.0</br>_original_yhat_: 0.9742528447623608</br>"
          ],
          [
           "</br>id: 158</br>prediction: 0.99</br>thal: 1.48</br></br>age: 70.0</br>sex: 1.0</br>cp: 3.0</br>trestbps: 130.0</br>chol: 322.0</br>fbs: 0.0</br>restecg: 2.0</br>thalach: 109.0</br>exang: 0.0</br>oldpeak: 2.4</br>slope: 1.0</br>ca: 3.0</br>_original_yhat_: 0.9742528447623608</br>"
          ],
          [
           "</br>id: 158</br>prediction: 0.99</br>thal: 1.5</br></br>age: 70.0</br>sex: 1.0</br>cp: 3.0</br>trestbps: 130.0</br>chol: 322.0</br>fbs: 0.0</br>restecg: 2.0</br>thalach: 109.0</br>exang: 0.0</br>oldpeak: 2.4</br>slope: 1.0</br>ca: 3.0</br>_original_yhat_: 0.9742528447623608</br>"
          ],
          [
           "</br>id: 158</br>prediction: 0.991</br>thal: 1.52</br></br>age: 70.0</br>sex: 1.0</br>cp: 3.0</br>trestbps: 130.0</br>chol: 322.0</br>fbs: 0.0</br>restecg: 2.0</br>thalach: 109.0</br>exang: 0.0</br>oldpeak: 2.4</br>slope: 1.0</br>ca: 3.0</br>_original_yhat_: 0.9742528447623608</br>"
          ],
          [
           "</br>id: 158</br>prediction: 0.991</br>thal: 1.54</br></br>age: 70.0</br>sex: 1.0</br>cp: 3.0</br>trestbps: 130.0</br>chol: 322.0</br>fbs: 0.0</br>restecg: 2.0</br>thalach: 109.0</br>exang: 0.0</br>oldpeak: 2.4</br>slope: 1.0</br>ca: 3.0</br>_original_yhat_: 0.9742528447623608</br>"
          ],
          [
           "</br>id: 158</br>prediction: 0.991</br>thal: 1.56</br></br>age: 70.0</br>sex: 1.0</br>cp: 3.0</br>trestbps: 130.0</br>chol: 322.0</br>fbs: 0.0</br>restecg: 2.0</br>thalach: 109.0</br>exang: 0.0</br>oldpeak: 2.4</br>slope: 1.0</br>ca: 3.0</br>_original_yhat_: 0.9742528447623608</br>"
          ],
          [
           "</br>id: 158</br>prediction: 0.991</br>thal: 1.58</br></br>age: 70.0</br>sex: 1.0</br>cp: 3.0</br>trestbps: 130.0</br>chol: 322.0</br>fbs: 0.0</br>restecg: 2.0</br>thalach: 109.0</br>exang: 0.0</br>oldpeak: 2.4</br>slope: 1.0</br>ca: 3.0</br>_original_yhat_: 0.9742528447623608</br>"
          ],
          [
           "</br>id: 158</br>prediction: 0.991</br>thal: 1.6</br></br>age: 70.0</br>sex: 1.0</br>cp: 3.0</br>trestbps: 130.0</br>chol: 322.0</br>fbs: 0.0</br>restecg: 2.0</br>thalach: 109.0</br>exang: 0.0</br>oldpeak: 2.4</br>slope: 1.0</br>ca: 3.0</br>_original_yhat_: 0.9742528447623608</br>"
          ],
          [
           "</br>id: 158</br>prediction: 0.991</br>thal: 1.62</br></br>age: 70.0</br>sex: 1.0</br>cp: 3.0</br>trestbps: 130.0</br>chol: 322.0</br>fbs: 0.0</br>restecg: 2.0</br>thalach: 109.0</br>exang: 0.0</br>oldpeak: 2.4</br>slope: 1.0</br>ca: 3.0</br>_original_yhat_: 0.9742528447623608</br>"
          ],
          [
           "</br>id: 158</br>prediction: 0.991</br>thal: 1.6400000000000001</br></br>age: 70.0</br>sex: 1.0</br>cp: 3.0</br>trestbps: 130.0</br>chol: 322.0</br>fbs: 0.0</br>restecg: 2.0</br>thalach: 109.0</br>exang: 0.0</br>oldpeak: 2.4</br>slope: 1.0</br>ca: 3.0</br>_original_yhat_: 0.9742528447623608</br>"
          ],
          [
           "</br>id: 158</br>prediction: 0.991</br>thal: 1.6600000000000001</br></br>age: 70.0</br>sex: 1.0</br>cp: 3.0</br>trestbps: 130.0</br>chol: 322.0</br>fbs: 0.0</br>restecg: 2.0</br>thalach: 109.0</br>exang: 0.0</br>oldpeak: 2.4</br>slope: 1.0</br>ca: 3.0</br>_original_yhat_: 0.9742528447623608</br>"
          ],
          [
           "</br>id: 158</br>prediction: 0.992</br>thal: 1.68</br></br>age: 70.0</br>sex: 1.0</br>cp: 3.0</br>trestbps: 130.0</br>chol: 322.0</br>fbs: 0.0</br>restecg: 2.0</br>thalach: 109.0</br>exang: 0.0</br>oldpeak: 2.4</br>slope: 1.0</br>ca: 3.0</br>_original_yhat_: 0.9742528447623608</br>"
          ],
          [
           "</br>id: 158</br>prediction: 0.992</br>thal: 1.7</br></br>age: 70.0</br>sex: 1.0</br>cp: 3.0</br>trestbps: 130.0</br>chol: 322.0</br>fbs: 0.0</br>restecg: 2.0</br>thalach: 109.0</br>exang: 0.0</br>oldpeak: 2.4</br>slope: 1.0</br>ca: 3.0</br>_original_yhat_: 0.9742528447623608</br>"
          ],
          [
           "</br>id: 158</br>prediction: 0.992</br>thal: 1.72</br></br>age: 70.0</br>sex: 1.0</br>cp: 3.0</br>trestbps: 130.0</br>chol: 322.0</br>fbs: 0.0</br>restecg: 2.0</br>thalach: 109.0</br>exang: 0.0</br>oldpeak: 2.4</br>slope: 1.0</br>ca: 3.0</br>_original_yhat_: 0.9742528447623608</br>"
          ],
          [
           "</br>id: 158</br>prediction: 0.992</br>thal: 1.74</br></br>age: 70.0</br>sex: 1.0</br>cp: 3.0</br>trestbps: 130.0</br>chol: 322.0</br>fbs: 0.0</br>restecg: 2.0</br>thalach: 109.0</br>exang: 0.0</br>oldpeak: 2.4</br>slope: 1.0</br>ca: 3.0</br>_original_yhat_: 0.9742528447623608</br>"
          ],
          [
           "</br>id: 158</br>prediction: 0.992</br>thal: 1.76</br></br>age: 70.0</br>sex: 1.0</br>cp: 3.0</br>trestbps: 130.0</br>chol: 322.0</br>fbs: 0.0</br>restecg: 2.0</br>thalach: 109.0</br>exang: 0.0</br>oldpeak: 2.4</br>slope: 1.0</br>ca: 3.0</br>_original_yhat_: 0.9742528447623608</br>"
          ],
          [
           "</br>id: 158</br>prediction: 0.992</br>thal: 1.78</br></br>age: 70.0</br>sex: 1.0</br>cp: 3.0</br>trestbps: 130.0</br>chol: 322.0</br>fbs: 0.0</br>restecg: 2.0</br>thalach: 109.0</br>exang: 0.0</br>oldpeak: 2.4</br>slope: 1.0</br>ca: 3.0</br>_original_yhat_: 0.9742528447623608</br>"
          ],
          [
           "</br>id: 158</br>prediction: 0.992</br>thal: 1.8</br></br>age: 70.0</br>sex: 1.0</br>cp: 3.0</br>trestbps: 130.0</br>chol: 322.0</br>fbs: 0.0</br>restecg: 2.0</br>thalach: 109.0</br>exang: 0.0</br>oldpeak: 2.4</br>slope: 1.0</br>ca: 3.0</br>_original_yhat_: 0.9742528447623608</br>"
          ],
          [
           "</br>id: 158</br>prediction: 0.992</br>thal: 1.82</br></br>age: 70.0</br>sex: 1.0</br>cp: 3.0</br>trestbps: 130.0</br>chol: 322.0</br>fbs: 0.0</br>restecg: 2.0</br>thalach: 109.0</br>exang: 0.0</br>oldpeak: 2.4</br>slope: 1.0</br>ca: 3.0</br>_original_yhat_: 0.9742528447623608</br>"
          ],
          [
           "</br>id: 158</br>prediction: 0.992</br>thal: 1.84</br></br>age: 70.0</br>sex: 1.0</br>cp: 3.0</br>trestbps: 130.0</br>chol: 322.0</br>fbs: 0.0</br>restecg: 2.0</br>thalach: 109.0</br>exang: 0.0</br>oldpeak: 2.4</br>slope: 1.0</br>ca: 3.0</br>_original_yhat_: 0.9742528447623608</br>"
          ],
          [
           "</br>id: 158</br>prediction: 0.993</br>thal: 1.86</br></br>age: 70.0</br>sex: 1.0</br>cp: 3.0</br>trestbps: 130.0</br>chol: 322.0</br>fbs: 0.0</br>restecg: 2.0</br>thalach: 109.0</br>exang: 0.0</br>oldpeak: 2.4</br>slope: 1.0</br>ca: 3.0</br>_original_yhat_: 0.9742528447623608</br>"
          ],
          [
           "</br>id: 158</br>prediction: 0.993</br>thal: 1.8800000000000001</br></br>age: 70.0</br>sex: 1.0</br>cp: 3.0</br>trestbps: 130.0</br>chol: 322.0</br>fbs: 0.0</br>restecg: 2.0</br>thalach: 109.0</br>exang: 0.0</br>oldpeak: 2.4</br>slope: 1.0</br>ca: 3.0</br>_original_yhat_: 0.9742528447623608</br>"
          ],
          [
           "</br>id: 158</br>prediction: 0.993</br>thal: 1.9000000000000001</br></br>age: 70.0</br>sex: 1.0</br>cp: 3.0</br>trestbps: 130.0</br>chol: 322.0</br>fbs: 0.0</br>restecg: 2.0</br>thalach: 109.0</br>exang: 0.0</br>oldpeak: 2.4</br>slope: 1.0</br>ca: 3.0</br>_original_yhat_: 0.9742528447623608</br>"
          ],
          [
           "</br>id: 158</br>prediction: 0.993</br>thal: 1.92</br></br>age: 70.0</br>sex: 1.0</br>cp: 3.0</br>trestbps: 130.0</br>chol: 322.0</br>fbs: 0.0</br>restecg: 2.0</br>thalach: 109.0</br>exang: 0.0</br>oldpeak: 2.4</br>slope: 1.0</br>ca: 3.0</br>_original_yhat_: 0.9742528447623608</br>"
          ],
          [
           "</br>id: 158</br>prediction: 0.993</br>thal: 1.94</br></br>age: 70.0</br>sex: 1.0</br>cp: 3.0</br>trestbps: 130.0</br>chol: 322.0</br>fbs: 0.0</br>restecg: 2.0</br>thalach: 109.0</br>exang: 0.0</br>oldpeak: 2.4</br>slope: 1.0</br>ca: 3.0</br>_original_yhat_: 0.9742528447623608</br>"
          ],
          [
           "</br>id: 158</br>prediction: 0.993</br>thal: 1.96</br></br>age: 70.0</br>sex: 1.0</br>cp: 3.0</br>trestbps: 130.0</br>chol: 322.0</br>fbs: 0.0</br>restecg: 2.0</br>thalach: 109.0</br>exang: 0.0</br>oldpeak: 2.4</br>slope: 1.0</br>ca: 3.0</br>_original_yhat_: 0.9742528447623608</br>"
          ],
          [
           "</br>id: 158</br>prediction: 0.993</br>thal: 1.98</br></br>age: 70.0</br>sex: 1.0</br>cp: 3.0</br>trestbps: 130.0</br>chol: 322.0</br>fbs: 0.0</br>restecg: 2.0</br>thalach: 109.0</br>exang: 0.0</br>oldpeak: 2.4</br>slope: 1.0</br>ca: 3.0</br>_original_yhat_: 0.9742528447623608</br>"
          ],
          [
           "</br>id: 158</br>prediction: 0.993</br>thal: 2.0</br></br>age: 70.0</br>sex: 1.0</br>cp: 3.0</br>trestbps: 130.0</br>chol: 322.0</br>fbs: 0.0</br>restecg: 2.0</br>thalach: 109.0</br>exang: 0.0</br>oldpeak: 2.4</br>slope: 1.0</br>ca: 3.0</br>_original_yhat_: 0.9742528447623608</br>"
          ]
         ],
         "hovertemplate": "%{customdata[0]}<extra></extra>",
         "legendgroup": "RandomizedSearchCV",
         "line": {
          "color": "#46bac2",
          "dash": "solid",
          "width": 2
         },
         "marker": {
          "symbol": "circle"
         },
         "mode": "lines",
         "name": "RandomizedSearchCV",
         "opacity": 1,
         "showlegend": false,
         "type": "scattergl",
         "x": [
          0,
          0.02,
          0.04,
          0.06,
          0.08,
          0.1,
          0.12,
          0.14,
          0.16,
          0.18,
          0.2,
          0.22,
          0.24,
          0.26,
          0.28,
          0.3,
          0.32,
          0.34,
          0.36,
          0.38,
          0.4,
          0.42,
          0.44,
          0.46,
          0.48,
          0.5,
          0.52,
          0.54,
          0.56,
          0.58,
          0.6,
          0.62,
          0.64,
          0.66,
          0.68,
          0.7000000000000001,
          0.72,
          0.74,
          0.76,
          0.78,
          0.8,
          0.8200000000000001,
          0.84,
          0.86,
          0.88,
          0.9,
          0.92,
          0.9400000000000001,
          0.96,
          0.98,
          1,
          1.02,
          1.04,
          1.06,
          1.08,
          1.1,
          1.12,
          1.1400000000000001,
          1.16,
          1.18,
          1.2,
          1.22,
          1.24,
          1.26,
          1.28,
          1.3,
          1.32,
          1.34,
          1.36,
          1.3800000000000001,
          1.4000000000000001,
          1.42,
          1.44,
          1.46,
          1.48,
          1.5,
          1.52,
          1.54,
          1.56,
          1.58,
          1.6,
          1.62,
          1.6400000000000001,
          1.6600000000000001,
          1.68,
          1.7,
          1.72,
          1.74,
          1.76,
          1.78,
          1.8,
          1.82,
          1.84,
          1.86,
          1.8800000000000001,
          1.9000000000000001,
          1.92,
          1.94,
          1.96,
          1.98,
          2
         ],
         "xaxis": "x",
         "y": [
          0.9742528447623608,
          0.9745887947599234,
          0.9749204741085499,
          0.975247934169422,
          0.9755712257621018,
          0.9758903991682273,
          0.9762055041352413,
          0.97651658988015,
          0.976823705093312,
          0.977126897942251,
          0.9774262160754965,
          0.9777217066264431,
          0.9780134162172337,
          0.9783013909626602,
          0.9785856764740802,
          0.9788663178633512,
          0.9791433597467758,
          0.9794168462490616,
          0.979686821007289,
          0.9799533271748891,
          0.9802164074256293,
          0.9804761039576035,
          0.980732458497228,
          0.9809855123032396,
          0.981235306170697,
          0.981481880434981,
          0.9817252749757942,
          0.9819655292211619,
          0.9822026821514253,
          0.9824367723032341,
          0.9826678377735324,
          0.9828959162235399,
          0.9831210448827233,
          0.9833432605527627,
          0.9835625996115065,
          0.9837790980169173,
          0.9839927913110083,
          0.984203714623764,
          0.9844119026770549,
          0.9846173897885322,
          0.9848202098755137,
          0.9850203964588518,
          0.9852179826667891,
          0.9854130012387944,
          0.985605484529387,
          0.9857954645119381,
          0.9859829727824599,
          0.9861680405633725,
          0.9863506987072539,
          0.9865309777005706,
          0.9867089076673877,
          0.9868845183730597,
          0.9870578392278996,
          0.9872288992908281,
          0.9873977272730003,
          0.9875643515414119,
          0.987728800122481,
          0.9878911007056105,
          0.988051280646725,
          0.9882093669717862,
          0.9883653863802841,
          0.9885193652487053,
          0.9886713296339765,
          0.9888213052768852,
          0.9889693176054745,
          0.9891153917384152,
          0.9892595524883522,
          0.9894018243652248,
          0.9895422315795658,
          0.989680798045771,
          0.9898175473853466,
          0.9899525029301293,
          0.9900856877254828,
          0.9902171245334673,
          0.9903468358359835,
          0.990474843837891,
          0.9906011704701018,
          0.9907258373926465,
          0.9908488659977157,
          0.990970277412676,
          0.9910900925030576,
          0.991208331875519,
          0.9913250158807847,
          0.9914401646165553,
          0.9915537979303946,
          0.9916659354225886,
          0.9917765964489804,
          0.9918858001237767,
          0.9919935653223321,
          0.9920999106839041,
          0.9922048546143858,
          0.9923084152890093,
          0.992410610655027,
          0.9925114584343668,
          0.9926109761262586,
          0.9927091810098406,
          0.9928060901467366,
          0.99290172038361,
          0.992996088354692,
          0.993089210484285,
          0.9931811029892423
         ],
         "yaxis": "y"
        },
        {
         "customdata": [
          [
           "</br>id: 158</br>prediction: 0.974</br>age: 70.0</br></br>sex: 1.0</br>cp: 3.0</br>trestbps: 130.0</br>chol: 322.0</br>fbs: 0.0</br>restecg: 2.0</br>thalach: 109.0</br>exang: 0.0</br>oldpeak: 2.4</br>slope: 1.0</br>ca: 3.0</br>thal: 0.0</br>_original_yhat_: 0.9742528447623608</br>"
          ]
         ],
         "hovertemplate": "%{customdata[0]}<extra></extra>",
         "legendgroup": "",
         "marker": {
          "color": "#371ea3",
          "size": 10,
          "symbol": "circle"
         },
         "mode": "markers",
         "name": "",
         "opacity": 1,
         "orientation": "v",
         "showlegend": false,
         "type": "scatter",
         "x": [
          70
         ],
         "xaxis": "x13",
         "y": [
          0.9742528447623608
         ],
         "yaxis": "y13"
        },
        {
         "customdata": [
          [
           "</br>id: 158</br>prediction: 0.974</br>sex: 1.0</br></br>age: 70.0</br>cp: 3.0</br>trestbps: 130.0</br>chol: 322.0</br>fbs: 0.0</br>restecg: 2.0</br>thalach: 109.0</br>exang: 0.0</br>oldpeak: 2.4</br>slope: 1.0</br>ca: 3.0</br>thal: 0.0</br>_original_yhat_: 0.9742528447623608</br>"
          ]
         ],
         "hovertemplate": "%{customdata[0]}<extra></extra>",
         "legendgroup": "",
         "marker": {
          "color": "#371ea3",
          "size": 10,
          "symbol": "circle"
         },
         "mode": "markers",
         "name": "",
         "opacity": 1,
         "orientation": "v",
         "showlegend": false,
         "type": "scatter",
         "x": [
          1
         ],
         "xaxis": "x14",
         "y": [
          0.9742528447623608
         ],
         "yaxis": "y14"
        },
        {
         "customdata": [
          [
           "</br>id: 158</br>prediction: 0.974</br>cp: 3.0</br></br>age: 70.0</br>sex: 1.0</br>trestbps: 130.0</br>chol: 322.0</br>fbs: 0.0</br>restecg: 2.0</br>thalach: 109.0</br>exang: 0.0</br>oldpeak: 2.4</br>slope: 1.0</br>ca: 3.0</br>thal: 0.0</br>_original_yhat_: 0.9742528447623608</br>"
          ]
         ],
         "hovertemplate": "%{customdata[0]}<extra></extra>",
         "legendgroup": "",
         "marker": {
          "color": "#371ea3",
          "size": 10,
          "symbol": "circle"
         },
         "mode": "markers",
         "name": "",
         "opacity": 1,
         "orientation": "v",
         "showlegend": false,
         "type": "scatter",
         "x": [
          3
         ],
         "xaxis": "x11",
         "y": [
          0.9742528447623608
         ],
         "yaxis": "y11"
        },
        {
         "customdata": [
          [
           "</br>id: 158</br>prediction: 0.974</br>trestbps: 130.0</br></br>age: 70.0</br>sex: 1.0</br>cp: 3.0</br>chol: 322.0</br>fbs: 0.0</br>restecg: 2.0</br>thalach: 109.0</br>exang: 0.0</br>oldpeak: 2.4</br>slope: 1.0</br>ca: 3.0</br>thal: 0.0</br>_original_yhat_: 0.9742528447623608</br>"
          ]
         ],
         "hovertemplate": "%{customdata[0]}<extra></extra>",
         "legendgroup": "",
         "marker": {
          "color": "#371ea3",
          "size": 10,
          "symbol": "circle"
         },
         "mode": "markers",
         "name": "",
         "opacity": 1,
         "orientation": "v",
         "showlegend": false,
         "type": "scatter",
         "x": [
          130
         ],
         "xaxis": "x12",
         "y": [
          0.9742528447623608
         ],
         "yaxis": "y12"
        },
        {
         "customdata": [
          [
           "</br>id: 158</br>prediction: 0.974</br>chol: 322.0</br></br>age: 70.0</br>sex: 1.0</br>cp: 3.0</br>trestbps: 130.0</br>fbs: 0.0</br>restecg: 2.0</br>thalach: 109.0</br>exang: 0.0</br>oldpeak: 2.4</br>slope: 1.0</br>ca: 3.0</br>thal: 0.0</br>_original_yhat_: 0.9742528447623608</br>"
          ]
         ],
         "hovertemplate": "%{customdata[0]}<extra></extra>",
         "legendgroup": "",
         "marker": {
          "color": "#371ea3",
          "size": 10,
          "symbol": "circle"
         },
         "mode": "markers",
         "name": "",
         "opacity": 1,
         "orientation": "v",
         "showlegend": false,
         "type": "scatter",
         "x": [
          322
         ],
         "xaxis": "x9",
         "y": [
          0.9742528447623608
         ],
         "yaxis": "y9"
        },
        {
         "customdata": [
          [
           "</br>id: 158</br>prediction: 0.974</br>fbs: 0.0</br></br>age: 70.0</br>sex: 1.0</br>cp: 3.0</br>trestbps: 130.0</br>chol: 322.0</br>restecg: 2.0</br>thalach: 109.0</br>exang: 0.0</br>oldpeak: 2.4</br>slope: 1.0</br>ca: 3.0</br>thal: 0.0</br>_original_yhat_: 0.9742528447623608</br>"
          ]
         ],
         "hovertemplate": "%{customdata[0]}<extra></extra>",
         "legendgroup": "",
         "marker": {
          "color": "#371ea3",
          "size": 10,
          "symbol": "circle"
         },
         "mode": "markers",
         "name": "",
         "opacity": 1,
         "orientation": "v",
         "showlegend": false,
         "type": "scatter",
         "x": [
          0
         ],
         "xaxis": "x10",
         "y": [
          0.9742528447623608
         ],
         "yaxis": "y10"
        },
        {
         "customdata": [
          [
           "</br>id: 158</br>prediction: 0.974</br>restecg: 2.0</br></br>age: 70.0</br>sex: 1.0</br>cp: 3.0</br>trestbps: 130.0</br>chol: 322.0</br>fbs: 0.0</br>thalach: 109.0</br>exang: 0.0</br>oldpeak: 2.4</br>slope: 1.0</br>ca: 3.0</br>thal: 0.0</br>_original_yhat_: 0.9742528447623608</br>"
          ]
         ],
         "hovertemplate": "%{customdata[0]}<extra></extra>",
         "legendgroup": "",
         "marker": {
          "color": "#371ea3",
          "size": 10,
          "symbol": "circle"
         },
         "mode": "markers",
         "name": "",
         "opacity": 1,
         "orientation": "v",
         "showlegend": false,
         "type": "scatter",
         "x": [
          2
         ],
         "xaxis": "x7",
         "y": [
          0.9742528447623608
         ],
         "yaxis": "y7"
        },
        {
         "customdata": [
          [
           "</br>id: 158</br>prediction: 0.974</br>thalach: 109.0</br></br>age: 70.0</br>sex: 1.0</br>cp: 3.0</br>trestbps: 130.0</br>chol: 322.0</br>fbs: 0.0</br>restecg: 2.0</br>exang: 0.0</br>oldpeak: 2.4</br>slope: 1.0</br>ca: 3.0</br>thal: 0.0</br>_original_yhat_: 0.9742528447623608</br>"
          ]
         ],
         "hovertemplate": "%{customdata[0]}<extra></extra>",
         "legendgroup": "",
         "marker": {
          "color": "#371ea3",
          "size": 10,
          "symbol": "circle"
         },
         "mode": "markers",
         "name": "",
         "opacity": 1,
         "orientation": "v",
         "showlegend": false,
         "type": "scatter",
         "x": [
          109
         ],
         "xaxis": "x8",
         "y": [
          0.9742528447623608
         ],
         "yaxis": "y8"
        },
        {
         "customdata": [
          [
           "</br>id: 158</br>prediction: 0.974</br>exang: 0.0</br></br>age: 70.0</br>sex: 1.0</br>cp: 3.0</br>trestbps: 130.0</br>chol: 322.0</br>fbs: 0.0</br>restecg: 2.0</br>thalach: 109.0</br>oldpeak: 2.4</br>slope: 1.0</br>ca: 3.0</br>thal: 0.0</br>_original_yhat_: 0.9742528447623608</br>"
          ]
         ],
         "hovertemplate": "%{customdata[0]}<extra></extra>",
         "legendgroup": "",
         "marker": {
          "color": "#371ea3",
          "size": 10,
          "symbol": "circle"
         },
         "mode": "markers",
         "name": "",
         "opacity": 1,
         "orientation": "v",
         "showlegend": false,
         "type": "scatter",
         "x": [
          0
         ],
         "xaxis": "x5",
         "y": [
          0.9742528447623608
         ],
         "yaxis": "y5"
        },
        {
         "customdata": [
          [
           "</br>id: 158</br>prediction: 0.974</br>oldpeak: 2.4</br></br>age: 70.0</br>sex: 1.0</br>cp: 3.0</br>trestbps: 130.0</br>chol: 322.0</br>fbs: 0.0</br>restecg: 2.0</br>thalach: 109.0</br>exang: 0.0</br>slope: 1.0</br>ca: 3.0</br>thal: 0.0</br>_original_yhat_: 0.9742528447623608</br>"
          ]
         ],
         "hovertemplate": "%{customdata[0]}<extra></extra>",
         "legendgroup": "",
         "marker": {
          "color": "#371ea3",
          "size": 10,
          "symbol": "circle"
         },
         "mode": "markers",
         "name": "",
         "opacity": 1,
         "orientation": "v",
         "showlegend": false,
         "type": "scatter",
         "x": [
          2.4
         ],
         "xaxis": "x6",
         "y": [
          0.9742528447623608
         ],
         "yaxis": "y6"
        },
        {
         "customdata": [
          [
           "</br>id: 158</br>prediction: 0.974</br>slope: 1.0</br></br>age: 70.0</br>sex: 1.0</br>cp: 3.0</br>trestbps: 130.0</br>chol: 322.0</br>fbs: 0.0</br>restecg: 2.0</br>thalach: 109.0</br>exang: 0.0</br>oldpeak: 2.4</br>ca: 3.0</br>thal: 0.0</br>_original_yhat_: 0.9742528447623608</br>"
          ]
         ],
         "hovertemplate": "%{customdata[0]}<extra></extra>",
         "legendgroup": "",
         "marker": {
          "color": "#371ea3",
          "size": 10,
          "symbol": "circle"
         },
         "mode": "markers",
         "name": "",
         "opacity": 1,
         "orientation": "v",
         "showlegend": false,
         "type": "scatter",
         "x": [
          1
         ],
         "xaxis": "x3",
         "y": [
          0.9742528447623608
         ],
         "yaxis": "y3"
        },
        {
         "customdata": [
          [
           "</br>id: 158</br>prediction: 0.974</br>ca: 3.0</br></br>age: 70.0</br>sex: 1.0</br>cp: 3.0</br>trestbps: 130.0</br>chol: 322.0</br>fbs: 0.0</br>restecg: 2.0</br>thalach: 109.0</br>exang: 0.0</br>oldpeak: 2.4</br>slope: 1.0</br>thal: 0.0</br>_original_yhat_: 0.9742528447623608</br>"
          ]
         ],
         "hovertemplate": "%{customdata[0]}<extra></extra>",
         "legendgroup": "",
         "marker": {
          "color": "#371ea3",
          "size": 10,
          "symbol": "circle"
         },
         "mode": "markers",
         "name": "",
         "opacity": 1,
         "orientation": "v",
         "showlegend": false,
         "type": "scatter",
         "x": [
          3
         ],
         "xaxis": "x4",
         "y": [
          0.9742528447623608
         ],
         "yaxis": "y4"
        },
        {
         "customdata": [
          [
           "</br>id: 158</br>prediction: 0.974</br>thal: 0.0</br></br>age: 70.0</br>sex: 1.0</br>cp: 3.0</br>trestbps: 130.0</br>chol: 322.0</br>fbs: 0.0</br>restecg: 2.0</br>thalach: 109.0</br>exang: 0.0</br>oldpeak: 2.4</br>slope: 1.0</br>ca: 3.0</br>_original_yhat_: 0.9742528447623608</br>"
          ]
         ],
         "hovertemplate": "%{customdata[0]}<extra></extra>",
         "legendgroup": "",
         "marker": {
          "color": "#371ea3",
          "size": 10,
          "symbol": "circle"
         },
         "mode": "markers",
         "name": "",
         "opacity": 1,
         "orientation": "v",
         "showlegend": false,
         "type": "scatter",
         "x": [
          0
         ],
         "xaxis": "x",
         "y": [
          0.9742528447623608
         ],
         "yaxis": "y"
        }
       ],
       "layout": {
        "annotations": [
         {
          "font": {
           "size": 13
          },
          "showarrow": false,
          "text": "thal",
          "x": 0.2375,
          "xanchor": "center",
          "xref": "paper",
          "y": 0.10612244897959183,
          "yanchor": "bottom",
          "yref": "paper"
         },
         {
          "font": {
           "size": 13
          },
          "showarrow": false,
          "text": "slope",
          "x": 0.2375,
          "xanchor": "center",
          "xref": "paper",
          "y": 0.25510204081632654,
          "yanchor": "bottom",
          "yref": "paper"
         },
         {
          "font": {
           "size": 13
          },
          "showarrow": false,
          "text": "ca",
          "x": 0.7625,
          "xanchor": "center",
          "xref": "paper",
          "y": 0.25510204081632654,
          "yanchor": "bottom",
          "yref": "paper"
         },
         {
          "font": {
           "size": 13
          },
          "showarrow": false,
          "text": "exang",
          "x": 0.2375,
          "xanchor": "center",
          "xref": "paper",
          "y": 0.40408163265306124,
          "yanchor": "bottom",
          "yref": "paper"
         },
         {
          "font": {
           "size": 13
          },
          "showarrow": false,
          "text": "oldpeak",
          "x": 0.7625,
          "xanchor": "center",
          "xref": "paper",
          "y": 0.40408163265306124,
          "yanchor": "bottom",
          "yref": "paper"
         },
         {
          "font": {
           "size": 13
          },
          "showarrow": false,
          "text": "restecg",
          "x": 0.2375,
          "xanchor": "center",
          "xref": "paper",
          "y": 0.5530612244897959,
          "yanchor": "bottom",
          "yref": "paper"
         },
         {
          "font": {
           "size": 13
          },
          "showarrow": false,
          "text": "thalach",
          "x": 0.7625,
          "xanchor": "center",
          "xref": "paper",
          "y": 0.5530612244897959,
          "yanchor": "bottom",
          "yref": "paper"
         },
         {
          "font": {
           "size": 13
          },
          "showarrow": false,
          "text": "chol",
          "x": 0.2375,
          "xanchor": "center",
          "xref": "paper",
          "y": 0.7020408163265306,
          "yanchor": "bottom",
          "yref": "paper"
         },
         {
          "font": {
           "size": 13
          },
          "showarrow": false,
          "text": "fbs",
          "x": 0.7625,
          "xanchor": "center",
          "xref": "paper",
          "y": 0.7020408163265306,
          "yanchor": "bottom",
          "yref": "paper"
         },
         {
          "font": {
           "size": 13
          },
          "showarrow": false,
          "text": "cp",
          "x": 0.2375,
          "xanchor": "center",
          "xref": "paper",
          "y": 0.8510204081632653,
          "yanchor": "bottom",
          "yref": "paper"
         },
         {
          "font": {
           "size": 13
          },
          "showarrow": false,
          "text": "trestbps",
          "x": 0.7625,
          "xanchor": "center",
          "xref": "paper",
          "y": 0.8510204081632653,
          "yanchor": "bottom",
          "yref": "paper"
         },
         {
          "font": {
           "size": 13
          },
          "showarrow": false,
          "text": "age",
          "x": 0.2375,
          "xanchor": "center",
          "xref": "paper",
          "y": 0.9999999999999998,
          "yanchor": "bottom",
          "yref": "paper"
         },
         {
          "font": {
           "size": 13
          },
          "showarrow": false,
          "text": "sex",
          "x": 0.7625,
          "xanchor": "center",
          "xref": "paper",
          "y": 0.9999999999999998,
          "yanchor": "bottom",
          "yref": "paper"
         },
         {
          "font": {
           "size": 13
          },
          "showarrow": false,
          "text": "prediction",
          "textangle": -90,
          "x": -0.07,
          "xref": "paper",
          "y": 0.5,
          "yref": "paper"
         }
        ],
        "font": {
         "color": "#371ea3"
        },
        "height": 2529,
        "hoverlabel": {
         "bgcolor": "rgba(0,0,0,0.8)"
        },
        "hovermode": "closest",
        "legend": {
         "font": {
          "size": 11
         },
         "itemsizing": "constant",
         "orientation": "h",
         "title": {
          "font": {
           "size": 12
          },
          "text": "label"
         },
         "tracegroupgap": 0,
         "x": 1,
         "xanchor": "right",
         "y": 1.0118623962040332,
         "yanchor": "bottom"
        },
        "margin": {
         "b": 71,
         "r": 30,
         "t": 78
        },
        "template": {
         "data": {
          "scatter": [
           {
            "type": "scatter"
           }
          ]
         }
        },
        "title": {
         "font": {
          "size": 16
         },
         "text": "Ceteris Paribus Profiles",
         "x": 0.15
        },
        "xaxis": {
         "anchor": "y",
         "automargin": true,
         "domain": [
          0,
          0.475
         ],
         "fixedrange": true,
         "gridwidth": 2,
         "showticklabels": true,
         "tickcolor": "white",
         "ticklen": 3,
         "ticks": "outside",
         "title": {
          "text": ""
         },
         "type": "linear",
         "zeroline": false
        },
        "xaxis10": {
         "anchor": "y10",
         "automargin": true,
         "domain": [
          0.525,
          1
         ],
         "fixedrange": true,
         "gridwidth": 2,
         "showticklabels": true,
         "tickcolor": "white",
         "ticklen": 3,
         "ticks": "outside",
         "title": {
          "text": ""
         },
         "type": "linear",
         "zeroline": false
        },
        "xaxis11": {
         "anchor": "y11",
         "automargin": true,
         "domain": [
          0,
          0.475
         ],
         "fixedrange": true,
         "gridwidth": 2,
         "showticklabels": true,
         "tickcolor": "white",
         "ticklen": 3,
         "ticks": "outside",
         "title": {
          "text": ""
         },
         "type": "linear",
         "zeroline": false
        },
        "xaxis12": {
         "anchor": "y12",
         "automargin": true,
         "domain": [
          0.525,
          1
         ],
         "fixedrange": true,
         "gridwidth": 2,
         "showticklabels": true,
         "tickcolor": "white",
         "ticklen": 3,
         "ticks": "outside",
         "title": {
          "text": ""
         },
         "type": "linear",
         "zeroline": false
        },
        "xaxis13": {
         "anchor": "y13",
         "automargin": true,
         "domain": [
          0,
          0.475
         ],
         "fixedrange": true,
         "gridwidth": 2,
         "showticklabels": true,
         "tickcolor": "white",
         "ticklen": 3,
         "ticks": "outside",
         "title": {
          "text": ""
         },
         "type": "linear",
         "zeroline": false
        },
        "xaxis14": {
         "anchor": "y14",
         "automargin": true,
         "domain": [
          0.525,
          1
         ],
         "fixedrange": true,
         "gridwidth": 2,
         "showticklabels": true,
         "tickcolor": "white",
         "ticklen": 3,
         "ticks": "outside",
         "title": {
          "text": ""
         },
         "type": "linear",
         "zeroline": false
        },
        "xaxis2": {
         "anchor": "y2",
         "automargin": true,
         "domain": [
          0.525,
          1
         ],
         "fixedrange": true,
         "gridwidth": 2,
         "showticklabels": true,
         "tickcolor": "white",
         "ticklen": 3,
         "ticks": "outside",
         "title": {
          "text": ""
         },
         "type": "linear",
         "zeroline": false
        },
        "xaxis3": {
         "anchor": "y3",
         "automargin": true,
         "domain": [
          0,
          0.475
         ],
         "fixedrange": true,
         "gridwidth": 2,
         "showticklabels": true,
         "tickcolor": "white",
         "ticklen": 3,
         "ticks": "outside",
         "title": {
          "text": ""
         },
         "type": "linear",
         "zeroline": false
        },
        "xaxis4": {
         "anchor": "y4",
         "automargin": true,
         "domain": [
          0.525,
          1
         ],
         "fixedrange": true,
         "gridwidth": 2,
         "showticklabels": true,
         "tickcolor": "white",
         "ticklen": 3,
         "ticks": "outside",
         "title": {
          "text": ""
         },
         "type": "linear",
         "zeroline": false
        },
        "xaxis5": {
         "anchor": "y5",
         "automargin": true,
         "domain": [
          0,
          0.475
         ],
         "fixedrange": true,
         "gridwidth": 2,
         "showticklabels": true,
         "tickcolor": "white",
         "ticklen": 3,
         "ticks": "outside",
         "title": {
          "text": ""
         },
         "type": "linear",
         "zeroline": false
        },
        "xaxis6": {
         "anchor": "y6",
         "automargin": true,
         "domain": [
          0.525,
          1
         ],
         "fixedrange": true,
         "gridwidth": 2,
         "showticklabels": true,
         "tickcolor": "white",
         "ticklen": 3,
         "ticks": "outside",
         "title": {
          "text": ""
         },
         "type": "linear",
         "zeroline": false
        },
        "xaxis7": {
         "anchor": "y7",
         "automargin": true,
         "domain": [
          0,
          0.475
         ],
         "fixedrange": true,
         "gridwidth": 2,
         "showticklabels": true,
         "tickcolor": "white",
         "ticklen": 3,
         "ticks": "outside",
         "title": {
          "text": ""
         },
         "type": "linear",
         "zeroline": false
        },
        "xaxis8": {
         "anchor": "y8",
         "automargin": true,
         "domain": [
          0.525,
          1
         ],
         "fixedrange": true,
         "gridwidth": 2,
         "showticklabels": true,
         "tickcolor": "white",
         "ticklen": 3,
         "ticks": "outside",
         "title": {
          "text": ""
         },
         "type": "linear",
         "zeroline": false
        },
        "xaxis9": {
         "anchor": "y9",
         "automargin": true,
         "domain": [
          0,
          0.475
         ],
         "fixedrange": true,
         "gridwidth": 2,
         "showticklabels": true,
         "tickcolor": "white",
         "ticklen": 3,
         "ticks": "outside",
         "title": {
          "text": ""
         },
         "type": "linear",
         "zeroline": false
        },
        "yaxis": {
         "anchor": "x",
         "automargin": true,
         "domain": [
          0,
          0.10612244897959183
         ],
         "fixedrange": true,
         "gridwidth": 2,
         "range": [
          0.5265623609424255,
          1.0367434324099862
         ],
         "tickcolor": "white",
         "ticklen": 3,
         "ticks": "outside",
         "title": {
          "text": ""
         },
         "type": "linear",
         "zeroline": false
        },
        "yaxis10": {
         "anchor": "x10",
         "automargin": true,
         "domain": [
          0.5959183673469388,
          0.7020408163265306
         ],
         "fixedrange": true,
         "gridwidth": 2,
         "matches": "y",
         "range": [
          0.5265623609424255,
          1.0367434324099862
         ],
         "showticklabels": false,
         "tickcolor": "white",
         "ticklen": 3,
         "ticks": "outside",
         "title": {
          "text": ""
         },
         "type": "linear",
         "zeroline": false
        },
        "yaxis11": {
         "anchor": "x11",
         "automargin": true,
         "domain": [
          0.7448979591836734,
          0.8510204081632653
         ],
         "fixedrange": true,
         "gridwidth": 2,
         "matches": "y",
         "range": [
          0.5265623609424255,
          1.0367434324099862
         ],
         "tickcolor": "white",
         "ticklen": 3,
         "ticks": "outside",
         "title": {
          "text": ""
         },
         "type": "linear",
         "zeroline": false
        },
        "yaxis12": {
         "anchor": "x12",
         "automargin": true,
         "domain": [
          0.7448979591836734,
          0.8510204081632653
         ],
         "fixedrange": true,
         "gridwidth": 2,
         "matches": "y",
         "range": [
          0.5265623609424255,
          1.0367434324099862
         ],
         "showticklabels": false,
         "tickcolor": "white",
         "ticklen": 3,
         "ticks": "outside",
         "title": {
          "text": ""
         },
         "type": "linear",
         "zeroline": false
        },
        "yaxis13": {
         "anchor": "x13",
         "automargin": true,
         "domain": [
          0.893877551020408,
          0.9999999999999998
         ],
         "fixedrange": true,
         "gridwidth": 2,
         "matches": "y",
         "range": [
          0.5265623609424255,
          1.0367434324099862
         ],
         "tickcolor": "white",
         "ticklen": 3,
         "ticks": "outside",
         "title": {
          "text": ""
         },
         "type": "linear",
         "zeroline": false
        },
        "yaxis14": {
         "anchor": "x14",
         "automargin": true,
         "domain": [
          0.893877551020408,
          0.9999999999999998
         ],
         "fixedrange": true,
         "gridwidth": 2,
         "matches": "y",
         "range": [
          0.5265623609424255,
          1.0367434324099862
         ],
         "showticklabels": false,
         "tickcolor": "white",
         "ticklen": 3,
         "ticks": "outside",
         "title": {
          "text": ""
         },
         "type": "linear",
         "zeroline": false
        },
        "yaxis2": {
         "anchor": "x2",
         "automargin": true,
         "domain": [
          0,
          0.10612244897959183
         ],
         "fixedrange": true,
         "gridwidth": 2,
         "matches": "y",
         "range": [
          0.5265623609424255,
          1.0367434324099862
         ],
         "showticklabels": false,
         "tickcolor": "white",
         "ticklen": 3,
         "ticks": "outside",
         "title": {
          "text": ""
         },
         "type": "linear",
         "zeroline": false
        },
        "yaxis3": {
         "anchor": "x3",
         "automargin": true,
         "domain": [
          0.1489795918367347,
          0.25510204081632654
         ],
         "fixedrange": true,
         "gridwidth": 2,
         "matches": "y",
         "range": [
          0.5265623609424255,
          1.0367434324099862
         ],
         "tickcolor": "white",
         "ticklen": 3,
         "ticks": "outside",
         "title": {
          "text": ""
         },
         "type": "linear",
         "zeroline": false
        },
        "yaxis4": {
         "anchor": "x4",
         "automargin": true,
         "domain": [
          0.1489795918367347,
          0.25510204081632654
         ],
         "fixedrange": true,
         "gridwidth": 2,
         "matches": "y",
         "range": [
          0.5265623609424255,
          1.0367434324099862
         ],
         "showticklabels": false,
         "tickcolor": "white",
         "ticklen": 3,
         "ticks": "outside",
         "title": {
          "text": ""
         },
         "type": "linear",
         "zeroline": false
        },
        "yaxis5": {
         "anchor": "x5",
         "automargin": true,
         "domain": [
          0.2979591836734694,
          0.40408163265306124
         ],
         "fixedrange": true,
         "gridwidth": 2,
         "matches": "y",
         "range": [
          0.5265623609424255,
          1.0367434324099862
         ],
         "tickcolor": "white",
         "ticklen": 3,
         "ticks": "outside",
         "title": {
          "text": ""
         },
         "type": "linear",
         "zeroline": false
        },
        "yaxis6": {
         "anchor": "x6",
         "automargin": true,
         "domain": [
          0.2979591836734694,
          0.40408163265306124
         ],
         "fixedrange": true,
         "gridwidth": 2,
         "matches": "y",
         "range": [
          0.5265623609424255,
          1.0367434324099862
         ],
         "showticklabels": false,
         "tickcolor": "white",
         "ticklen": 3,
         "ticks": "outside",
         "title": {
          "text": ""
         },
         "type": "linear",
         "zeroline": false
        },
        "yaxis7": {
         "anchor": "x7",
         "automargin": true,
         "domain": [
          0.44693877551020406,
          0.5530612244897959
         ],
         "fixedrange": true,
         "gridwidth": 2,
         "matches": "y",
         "range": [
          0.5265623609424255,
          1.0367434324099862
         ],
         "tickcolor": "white",
         "ticklen": 3,
         "ticks": "outside",
         "title": {
          "text": ""
         },
         "type": "linear",
         "zeroline": false
        },
        "yaxis8": {
         "anchor": "x8",
         "automargin": true,
         "domain": [
          0.44693877551020406,
          0.5530612244897959
         ],
         "fixedrange": true,
         "gridwidth": 2,
         "matches": "y",
         "range": [
          0.5265623609424255,
          1.0367434324099862
         ],
         "showticklabels": false,
         "tickcolor": "white",
         "ticklen": 3,
         "ticks": "outside",
         "title": {
          "text": ""
         },
         "type": "linear",
         "zeroline": false
        },
        "yaxis9": {
         "anchor": "x9",
         "automargin": true,
         "domain": [
          0.5959183673469388,
          0.7020408163265306
         ],
         "fixedrange": true,
         "gridwidth": 2,
         "matches": "y",
         "range": [
          0.5265623609424255,
          1.0367434324099862
         ],
         "tickcolor": "white",
         "ticklen": 3,
         "ticks": "outside",
         "title": {
          "text": ""
         },
         "type": "linear",
         "zeroline": false
        }
       }
      }
     },
     "metadata": {},
     "output_type": "display_data"
    }
   ],
   "source": [
    "\n",
    "pred_profile.plot()"
   ]
  }
 ],
 "metadata": {
  "kernelspec": {
   "display_name": "Python 3",
   "language": "python",
   "name": "python3"
  },
  "language_info": {
   "codemirror_mode": {
    "name": "ipython",
    "version": 3
   },
   "file_extension": ".py",
   "mimetype": "text/x-python",
   "name": "python",
   "nbconvert_exporter": "python",
   "pygments_lexer": "ipython3",
   "version": "3.10.9"
  },
  "orig_nbformat": 4,
  "vscode": {
   "interpreter": {
    "hash": "b8d2133e9f80198e722591381459a56bef505cffd56e1f26f48ac3e18ffbf3b7"
   }
  }
 },
 "nbformat": 4,
 "nbformat_minor": 2
}
